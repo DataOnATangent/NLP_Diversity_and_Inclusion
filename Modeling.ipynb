{
 "cells": [
  {
   "cell_type": "code",
   "execution_count": 9,
   "metadata": {
    "ExecuteTime": {
     "end_time": "2021-02-14T18:20:03.037136Z",
     "start_time": "2021-02-14T18:20:03.022901Z"
    }
   },
   "outputs": [],
   "source": [
    "import nltk\n",
    "import matplotlib.pyplot as plt\n",
    "import pandas as pd\n",
    "#from sklearn.feature_extraction.text import CountVectorizer ## TEST\n",
    "from sklearn.feature_extraction.text import TfidfVectorizer ## TEST\n",
    "from sklearn.feature_extraction.text import TfidfTransformer\n",
    "from nltk.probability import FreqDist\n",
    "from nltk.corpus import stopwords ## TEST\n",
    "from nltk.stem import PorterStemmer\n",
    "from sklearn.metrics import confusion_matrix\n",
    "import seaborn as sns\n",
    "from sklearn.naive_bayes import MultinomialNB\n",
    "from sklearn import metrics\n",
    "from sklearn.model_selection import train_test_split\n",
    "from matplotlib import cm\n",
    "import numpy as np\n",
    "from sklearn.ensemble import RandomForestClassifier\n",
    "from sklearn.metrics import accuracy_score\n",
    "from sklearn.metrics import f1_score\n",
    "from sklearn.naive_bayes import MultinomialNB\n"
   ]
  },
  {
   "cell_type": "code",
   "execution_count": 10,
   "metadata": {
    "ExecuteTime": {
     "end_time": "2021-02-14T18:20:03.581840Z",
     "start_time": "2021-02-14T18:20:03.574850Z"
    }
   },
   "outputs": [],
   "source": [
    "from sklearn.metrics import confusion_matrix\n",
    "import seaborn as sns; sns.set()"
   ]
  },
  {
   "cell_type": "code",
   "execution_count": 13,
   "metadata": {
    "ExecuteTime": {
     "end_time": "2021-02-14T18:20:40.962319Z",
     "start_time": "2021-02-14T18:20:40.946722Z"
    },
    "scrolled": true
   },
   "outputs": [],
   "source": [
    "#loading in cleaned data for analysis\n",
    "X_lem = pd.read_pickle('modeling/X_lem.pkl')\n",
    "y_lem = pd.read_pickle('modeling/y_lem.pkl')"
   ]
  },
  {
   "cell_type": "code",
   "execution_count": 14,
   "metadata": {
    "ExecuteTime": {
     "end_time": "2021-02-14T18:21:03.420884Z",
     "start_time": "2021-02-14T18:21:03.407985Z"
    }
   },
   "outputs": [
    {
     "data": {
      "text/plain": [
       "'work leader across sector tackle toughest challenge best grow startup improve early education quickly enter new market serve organization size ranging smalltomidsized company revenue le year top company forbes global list office industry practice eight functional practice work private sector serve government completed project social sector organization last five year mean whatever passion find others working similar topic mckinsey know want know want come mckinsey explore visit career website learn apply subscribe career blog weekly job alert story colleaguesmission mission twofold help client make distinctive lasting substantial improvement performance build firm attracts develops excites retains exceptional element strongly connected helping client solve toughest problem requires best best drawn work matter together supportive dedicated colleague'"
      ]
     },
     "execution_count": 14,
     "metadata": {},
     "output_type": "execute_result"
    }
   ],
   "source": [
    "X_lem[0]"
   ]
  },
  {
   "cell_type": "markdown",
   "metadata": {},
   "source": [
    "### Train-Test Split"
   ]
  },
  {
   "cell_type": "code",
   "execution_count": 15,
   "metadata": {
    "ExecuteTime": {
     "end_time": "2021-02-14T18:21:06.489837Z",
     "start_time": "2021-02-14T18:21:06.474150Z"
    }
   },
   "outputs": [],
   "source": [
    "# always train-test split THEN apply vectorizer \n",
    "X_train_lem, X_test_lem, y_train_lem, y_test_lem = train_test_split(X_lem, y_lem, test_size=0.20, random_state=1)\n"
   ]
  },
  {
   "cell_type": "markdown",
   "metadata": {
    "heading_collapsed": true
   },
   "source": [
    "## Baseline Random Forest\n",
    "- Random Forest with Lemmatization, trigrams\n",
    "- **try also with BoW instead of TF-IDF??**\n",
    "- **try also with Stemming instead of Lemmatization??** \n",
    "\n",
    "Results before additional preprocessing:\n",
    "- Testing Accuracy: 0.5662\n",
    "- Testing Precision: 0.5437\n",
    "- Testing Recall: 0.4807\n",
    "- F1 Score: 0.5103\n",
    "\n",
    "Updated Results:\n",
    "- Testing Accuracy: 0.5922\n",
    "- Testing Precision: 0.6235\n",
    "- Testing Recall: 0.7227\n",
    "- F1 Score: 0.6695\n",
    "- ngram_range=(1,3)"
   ]
  },
  {
   "cell_type": "markdown",
   "metadata": {
    "hidden": true
   },
   "source": [
    "**Vectorize**"
   ]
  },
  {
   "cell_type": "code",
   "execution_count": 16,
   "metadata": {
    "ExecuteTime": {
     "end_time": "2021-02-14T18:21:13.432959Z",
     "start_time": "2021-02-14T18:21:11.688167Z"
    },
    "hidden": true
   },
   "outputs": [],
   "source": [
    "#Vectorize Test Set\n",
    "tfidf = TfidfVectorizer(ngram_range=(1,3)) ## TEST bigram/trigram\n",
    "\n",
    "#fit vectorizer to both training and testing set\n",
    "tfidf_data_train_lem = tfidf.fit_transform(X_train_lem)\n",
    "tfidf_data_test_lem = tfidf.transform(X_test_lem)"
   ]
  },
  {
   "cell_type": "code",
   "execution_count": 17,
   "metadata": {
    "ExecuteTime": {
     "end_time": "2021-02-14T18:21:14.563250Z",
     "start_time": "2021-02-14T18:21:14.558696Z"
    },
    "hidden": true
   },
   "outputs": [],
   "source": [
    "rf_classifier_lem = RandomForestClassifier(n_estimators=120, random_state=42)"
   ]
  },
  {
   "cell_type": "code",
   "execution_count": 18,
   "metadata": {
    "ExecuteTime": {
     "end_time": "2021-02-14T18:21:21.387591Z",
     "start_time": "2021-02-14T18:21:14.984669Z"
    },
    "hidden": true
   },
   "outputs": [],
   "source": [
    "## Fit model to train set\n",
    "rf_classifier_lem.fit(tfidf_data_train_lem, y_train_lem)\n",
    "rf_test_preds_lem = rf_classifier_lem.predict(tfidf_data_test_lem)"
   ]
  },
  {
   "cell_type": "code",
   "execution_count": 19,
   "metadata": {
    "ExecuteTime": {
     "end_time": "2021-02-14T18:21:21.479876Z",
     "start_time": "2021-02-14T18:21:21.450555Z"
    },
    "hidden": true
   },
   "outputs": [
    {
     "name": "stdout",
     "output_type": "stream",
     "text": [
      "Random Forest with Lemmatization Features:\n",
      "\n",
      "Testing Accuracy: 0.5922\n",
      "Testing Precision: 0.6235\n",
      "Testing Recall: 0.7227\n",
      "F1 Score: 0.6695\n"
     ]
    }
   ],
   "source": [
    "#(ngram=1,3)\n",
    "rf_acc_score_lem = accuracy_score(y_test_lem, rf_test_preds_lem)\n",
    "rf_precision_score_lem = metrics.precision_score(y_test_lem, rf_test_preds_lem)\n",
    "rf_recall_score_lem = metrics.recall_score(y_test_lem, rf_test_preds_lem)\n",
    "rf_f1_score_lem = f1_score(y_test_lem, rf_test_preds_lem)\n",
    "\n",
    "print('Random Forest with Lemmatization Features:\\n')\n",
    "print(\"Testing Accuracy: {:.4}\".format(rf_acc_score_lem))\n",
    "print(\"Testing Precision: {:.4}\".format(rf_precision_score_lem))\n",
    "print(\"Testing Recall: {:.4}\".format(rf_recall_score_lem))\n",
    "print(\"F1 Score: {:.4}\".format(rf_f1_score_lem))"
   ]
  },
  {
   "cell_type": "code",
   "execution_count": 8,
   "metadata": {
    "ExecuteTime": {
     "end_time": "2021-02-14T16:21:11.598798Z",
     "start_time": "2021-02-14T16:21:11.146910Z"
    },
    "collapsed": true,
    "hidden": true
   },
   "outputs": [
    {
     "ename": "NameError",
     "evalue": "name 'df' is not defined",
     "output_type": "error",
     "traceback": [
      "\u001b[0;31m-----------------------------\u001b[0m",
      "\u001b[0;31mNameError\u001b[0mTraceback (most recent call last)",
      "\u001b[0;32m<ipython-input-8-e898411a1e3c>\u001b[0m in \u001b[0;36m<module>\u001b[0;34m()\u001b[0m\n\u001b[1;32m      1\u001b[0m \u001b[0;31m#null accuracy (??)\u001b[0m\u001b[0;34m\u001b[0m\u001b[0;34m\u001b[0m\u001b[0;34m\u001b[0m\u001b[0m\n\u001b[0;32m----> 2\u001b[0;31m \u001b[0mdf\u001b[0m\u001b[0;34m.\u001b[0m\u001b[0mTARGET\u001b[0m\u001b[0;34m.\u001b[0m\u001b[0mvalue_counts\u001b[0m\u001b[0;34m(\u001b[0m\u001b[0mnormalize\u001b[0m\u001b[0;34m=\u001b[0m\u001b[0;32mTrue\u001b[0m\u001b[0;34m)\u001b[0m\u001b[0;34m\u001b[0m\u001b[0;34m\u001b[0m\u001b[0m\n\u001b[0m\u001b[1;32m      3\u001b[0m \u001b[0mdf\u001b[0m\u001b[0;34m.\u001b[0m\u001b[0mTARGET\u001b[0m\u001b[0;34m.\u001b[0m\u001b[0mvalue_counts\u001b[0m\u001b[0;34m(\u001b[0m\u001b[0;34m)\u001b[0m\u001b[0;34m\u001b[0m\u001b[0;34m\u001b[0m\u001b[0m\n",
      "\u001b[0;31mNameError\u001b[0m: name 'df' is not defined"
     ]
    }
   ],
   "source": [
    "# #null accuracy (??)\n",
    "# df.TARGET.value_counts(normalize=True)\n",
    "# df.TARGET.value_counts()"
   ]
  },
  {
   "cell_type": "code",
   "execution_count": 20,
   "metadata": {
    "ExecuteTime": {
     "end_time": "2021-02-14T18:21:38.638176Z",
     "start_time": "2021-02-14T18:21:38.398490Z"
    },
    "code_folding": [],
    "hidden": true,
    "scrolled": true
   },
   "outputs": [
    {
     "data": {
      "text/plain": [
       "(2.0, 0.0)"
      ]
     },
     "execution_count": 20,
     "metadata": {},
     "output_type": "execute_result"
    },
    {
     "data": {
      "image/png": "[encoded data removed]",
      "text/plain": [
       "<Figure size 432x288 with 1 Axes>"
      ]
     },
     "metadata": {},
     "output_type": "display_data"
    }
   ],
   "source": [
    "from sklearn.metrics import confusion_matrix\n",
    "import seaborn as sns; sns.set()\n",
    "\n",
    "\n",
    "mat = confusion_matrix(y_test_lem, rf_test_preds_lem)\n",
    "sns.heatmap(mat.T, square=True, annot=True, fmt='d', cbar=False,\n",
    "            xticklabels=['Inclusive', 'Not_Inclusive'], yticklabels=['Inclusive', 'Not_Inclusive'])\n",
    "plt.xlabel('true label')\n",
    "plt.ylabel('predicted label');\n",
    "\n",
    "## Fixing cut-off bug\n",
    "b, t = plt.ylim() # discover the values for bottom and top\n",
    "b += 0.5 # Add 0.5 to the bottom\n",
    "t -= 0.5 # Subtract 0.5 from the top\n",
    "plt.ylim(b, t) # update the ylim(bottom, top) values"
   ]
  },
  {
   "cell_type": "markdown",
   "metadata": {},
   "source": [
    "## Baseline Logistic Regression\n",
    "\n",
    "Testing Accuracy: 0.5948\n",
    "Testing Precision: 0.5909\n",
    "Testing Recall: 0.9455\n",
    "F1 Score: 0.7273\n",
    "\n",
    "- ngram_range=(1,4)"
   ]
  },
  {
   "cell_type": "code",
   "execution_count": 47,
   "metadata": {
    "ExecuteTime": {
     "end_time": "2021-02-14T18:30:40.442201Z",
     "start_time": "2021-02-14T18:30:40.432358Z"
    }
   },
   "outputs": [],
   "source": [
    "# always train-test split THEN apply vectorizer \n",
    "X_train_lem, X_test_lem, y_train_lem, y_test_lem = train_test_split(X_lem, y_lem, test_size=0.20, random_state=1)\n"
   ]
  },
  {
   "cell_type": "markdown",
   "metadata": {},
   "source": [
    "**Vectorize**"
   ]
  },
  {
   "cell_type": "code",
   "execution_count": 53,
   "metadata": {
    "ExecuteTime": {
     "end_time": "2021-02-14T18:31:32.545707Z",
     "start_time": "2021-02-14T18:31:30.305410Z"
    }
   },
   "outputs": [],
   "source": [
    "#Vectorize Test Set\n",
    "tfidf = TfidfVectorizer(ngram_range=(1,4)) ## TEST bigram/trigram\n",
    "\n",
    "#fit vectorizer to both training and testing set\n",
    "tfidf_data_train_lem = tfidf.fit_transform(X_train_lem)\n",
    "tfidf_data_test_lem = tfidf.transform(X_test_lem)"
   ]
  },
  {
   "cell_type": "markdown",
   "metadata": {},
   "source": [
    "**Model**"
   ]
  },
  {
   "cell_type": "code",
   "execution_count": 54,
   "metadata": {
    "ExecuteTime": {
     "end_time": "2021-02-14T18:31:32.571155Z",
     "start_time": "2021-02-14T18:31:32.548378Z"
    }
   },
   "outputs": [],
   "source": [
    "from sklearn.linear_model import LogisticRegression"
   ]
  },
  {
   "cell_type": "code",
   "execution_count": 55,
   "metadata": {
    "ExecuteTime": {
     "end_time": "2021-02-14T18:31:32.605940Z",
     "start_time": "2021-02-14T18:31:32.580128Z"
    }
   },
   "outputs": [],
   "source": [
    "log_reg_baseline = LogisticRegression(random_state=42)\n"
   ]
  },
  {
   "cell_type": "code",
   "execution_count": 56,
   "metadata": {
    "ExecuteTime": {
     "end_time": "2021-02-14T18:31:34.456865Z",
     "start_time": "2021-02-14T18:31:32.620529Z"
    },
    "scrolled": true
   },
   "outputs": [],
   "source": [
    "#fit model to train set\n",
    "log_reg_baseline.fit(tfidf_data_train_lem, y_train_lem)\n",
    "#predictions\n",
    "log_reg_test_preds = log_reg_baseline.predict(tfidf_data_test_lem)"
   ]
  },
  {
   "cell_type": "markdown",
   "metadata": {},
   "source": [
    "**Resulting Metrics**"
   ]
  },
  {
   "cell_type": "code",
   "execution_count": 57,
   "metadata": {
    "ExecuteTime": {
     "end_time": "2021-02-14T18:31:34.492513Z",
     "start_time": "2021-02-14T18:31:34.459450Z"
    }
   },
   "outputs": [
    {
     "name": "stdout",
     "output_type": "stream",
     "text": [
      "Logistic Regression with Lemmatization Features:\n",
      "\n",
      "Testing Accuracy: 0.5948\n",
      "Testing Precision: 0.5909\n",
      "Testing Recall: 0.9455\n",
      "F1 Score: 0.7273\n"
     ]
    }
   ],
   "source": [
    "log_reg_accuracy = accuracy_score(y_test_lem, log_reg_test_preds)\n",
    "log_reg_precision = metrics.precision_score(y_test_lem, log_reg_test_preds)\n",
    "log_reg_recall = metrics.recall_score(y_test_lem, log_reg_test_preds)\n",
    "log_reg_f1 = f1_score(y_test_lem, log_reg_test_preds)\n",
    "\n",
    "# printing scores\n",
    "print('Logistic Regression with Lemmatization Features:\\n')\n",
    "print(\"Testing Accuracy: {:.4}\".format(log_reg_accuracy))\n",
    "print(\"Testing Precision: {:.4}\".format(log_reg_precision))\n",
    "print(\"Testing Recall: {:.4}\".format(log_reg_recall))\n",
    "print(\"F1 Score: {:.4}\".format(log_reg_f1))"
   ]
  },
  {
   "cell_type": "code",
   "execution_count": 58,
   "metadata": {
    "ExecuteTime": {
     "end_time": "2021-02-14T18:31:34.838117Z",
     "start_time": "2021-02-14T18:31:34.519449Z"
    }
   },
   "outputs": [
    {
     "data": {
      "text/plain": [
       "(2.0, 0.0)"
      ]
     },
     "execution_count": 58,
     "metadata": {},
     "output_type": "execute_result"
    },
    {
     "data": {
      "image/png": "[encoded data removed]",
      "text/plain": [
       "<Figure size 432x288 with 1 Axes>"
      ]
     },
     "metadata": {},
     "output_type": "display_data"
    }
   ],
   "source": [
    "from sklearn.metrics import confusion_matrix\n",
    "import seaborn as sns; sns.set()\n",
    "\n",
    "\n",
    "mat = confusion_matrix(y_test_lem, log_reg_test_preds)\n",
    "sns.heatmap(mat.T, square=True, annot=True, fmt='d', cbar=False,\n",
    "            xticklabels=['Inclusive', 'Not_Inclusive'], yticklabels=['Inclusive', 'Not_Inclusive'])\n",
    "plt.xlabel('true label')\n",
    "plt.ylabel('predicted label');\n",
    "\n",
    "## Fixing cut-off bug\n",
    "b, t = plt.ylim() # discover the values for bottom and top\n",
    "b += 0.5 # Add 0.5 to the bottom\n",
    "t -= 0.5 # Subtract 0.5 from the top\n",
    "plt.ylim(b, t) # update the ylim(bottom, top) values"
   ]
  },
  {
   "cell_type": "code",
   "execution_count": null,
   "metadata": {},
   "outputs": [],
   "source": []
  },
  {
   "cell_type": "markdown",
   "metadata": {},
   "source": [
    "## Next Model"
   ]
  },
  {
   "cell_type": "code",
   "execution_count": null,
   "metadata": {},
   "outputs": [],
   "source": []
  },
  {
   "cell_type": "code",
   "execution_count": null,
   "metadata": {},
   "outputs": [],
   "source": []
  }
 ],
 "metadata": {
  "kernelspec": {
   "display_name": "Python 3",
   "language": "python",
   "name": "python3"
  },
  "language_info": {
   "codemirror_mode": {
    "name": "ipython",
    "version": 3
   },
   "file_extension": ".py",
   "mimetype": "text/x-python",
   "name": "python",
   "nbconvert_exporter": "python",
   "pygments_lexer": "ipython3",
   "version": "3.6.9"
  },
  "toc": {
   "base_numbering": 1,
   "nav_menu": {},
   "number_sections": true,
   "sideBar": true,
   "skip_h1_title": false,
   "title_cell": "Table of Contents",
   "title_sidebar": "Contents",
   "toc_cell": false,
   "toc_position": {},
   "toc_section_display": true,
   "toc_window_display": false
  }
 },
 "nbformat": 4,
 "nbformat_minor": 4
}
