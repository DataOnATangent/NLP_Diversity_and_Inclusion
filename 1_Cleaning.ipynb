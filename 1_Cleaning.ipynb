{
 "cells": [
  {
   "cell_type": "code",
   "execution_count": 1,
   "metadata": {
    "ExecuteTime": {
     "end_time": "2021-02-17T04:52:50.316310Z",
     "start_time": "2021-02-17T04:52:41.293668Z"
    }
   },
   "outputs": [],
   "source": [
    "import pandas as pd\n",
    "import numpy as np\n",
    "import string, re, math\n",
    "\n",
    "#Imports for plotting\n",
    "import seaborn as sns\n",
    "import matplotlib.pyplot as plt\n",
    "\n",
    "#options\n",
    "pd.options.display.max_rows = 50\n",
    "import warnings\n",
    "warnings.filterwarnings('ignore')"
   ]
  },
  {
   "cell_type": "code",
   "execution_count": 2,
   "metadata": {
    "ExecuteTime": {
     "end_time": "2021-02-17T04:52:52.533690Z",
     "start_time": "2021-02-17T04:52:50.322522Z"
    }
   },
   "outputs": [],
   "source": [
    "import plotly.express as px"
   ]
  },
  {
   "cell_type": "markdown",
   "metadata": {},
   "source": [
    "## Cleaning CSV Files"
   ]
  },
  {
   "cell_type": "markdown",
   "metadata": {},
   "source": [
    "**Read in Data**"
   ]
  },
  {
   "cell_type": "code",
   "execution_count": 3,
   "metadata": {
    "ExecuteTime": {
     "end_time": "2021-02-17T04:52:52.938974Z",
     "start_time": "2021-02-17T04:52:52.537427Z"
    }
   },
   "outputs": [
    {
     "name": "stdout",
     "output_type": "stream",
     "text": [
      "Length of data set:  4327\n",
      "Number of duplicates:  1404\n"
     ]
    }
   ],
   "source": [
    "df1 = pd.read_csv('data/glassdoor_ratings1_62.csv')\n",
    "df2 = pd.read_csv('data/glassdoor_ratings2_37.csv')\n",
    "df3 = pd.read_csv('data/glassdoor_ratings3_199.csv')\n",
    "df4 = pd.read_csv('data/glassdoor_ratings5_797.csv')\n",
    "df5 = pd.read_csv('data/glassdoor_ratings6_846.csv')\n",
    "df6 = pd.read_csv('data/glassdoor_ratings7_453.csv')  \n",
    "df7 = pd.read_csv('data/glassdoor_ratings8_873.csv') #scrape # 8\n",
    "df8 = pd.read_csv('data/glassdoor_ratings_1to50.csv')\n",
    "df9 = pd.read_csv('data/glassdoor_ratings_51to200.csv')\n",
    "\n",
    "#Combine data frames\n",
    "data = pd.concat([df1, df2, df3, df4, df5, df6, df7, df8, df9])\n",
    "\n",
    "print('Length of data set: ',len(data))\n",
    "print('Number of duplicates: ', data['NAME'].duplicated().sum())"
   ]
  },
  {
   "cell_type": "code",
   "execution_count": 4,
   "metadata": {
    "ExecuteTime": {
     "end_time": "2021-02-17T04:52:52.988554Z",
     "start_time": "2021-02-17T04:52:52.947237Z"
    }
   },
   "outputs": [
    {
     "data": {
      "text/html": [
       "<div>\n",
       "<style scoped>\n",
       "    .dataframe tbody tr th:only-of-type {\n",
       "        vertical-align: middle;\n",
       "    }\n",
       "\n",
       "    .dataframe tbody tr th {\n",
       "        vertical-align: top;\n",
       "    }\n",
       "\n",
       "    .dataframe thead th {\n",
       "        text-align: right;\n",
       "    }\n",
       "</style>\n",
       "<table border=\"1\" class=\"dataframe\">\n",
       "  <thead>\n",
       "    <tr style=\"text-align: right;\">\n",
       "      <th></th>\n",
       "      <th>NAME</th>\n",
       "      <th>SIZE</th>\n",
       "      <th>LOCATION_HQ</th>\n",
       "      <th>INDUSTRY</th>\n",
       "      <th>RATING_OVERALL</th>\n",
       "      <th>RATING_DI</th>\n",
       "      <th>RATING_CV</th>\n",
       "      <th>RATING_WL</th>\n",
       "      <th>RATING_SM</th>\n",
       "      <th>RATING_CB</th>\n",
       "      <th>RATING_CO</th>\n",
       "      <th>NUM_REVIEWS</th>\n",
       "      <th>DESCRIPTION</th>\n",
       "      <th>MISSION</th>\n",
       "    </tr>\n",
       "  </thead>\n",
       "  <tbody>\n",
       "    <tr>\n",
       "      <th>0</th>\n",
       "      <td>Google</td>\n",
       "      <td>10000+ Employees</td>\n",
       "      <td>Mountain View, CA</td>\n",
       "      <td>Internet</td>\n",
       "      <td>4.5</td>\n",
       "      <td>4.4</td>\n",
       "      <td>4.4</td>\n",
       "      <td>4.3</td>\n",
       "      <td>4.1</td>\n",
       "      <td>4.5</td>\n",
       "      <td>4.3</td>\n",
       "      <td>See All 18,362 Reviews</td>\n",
       "      <td>NaN</td>\n",
       "      <td>NaN</td>\n",
       "    </tr>\n",
       "    <tr>\n",
       "      <th>1</th>\n",
       "      <td>Microsoft</td>\n",
       "      <td>10000+ Employees</td>\n",
       "      <td>Redmond, WA</td>\n",
       "      <td>Computer Hardware &amp; Software</td>\n",
       "      <td>4.4</td>\n",
       "      <td>4.4</td>\n",
       "      <td>4.3</td>\n",
       "      <td>4.1</td>\n",
       "      <td>4.0</td>\n",
       "      <td>4.1</td>\n",
       "      <td>4.1</td>\n",
       "      <td>See All 29,389 Reviews</td>\n",
       "      <td>Our drive to change the world unites us!\\n\\nMi...</td>\n",
       "      <td>NaN</td>\n",
       "    </tr>\n",
       "    <tr>\n",
       "      <th>2</th>\n",
       "      <td>Apple</td>\n",
       "      <td>10000+ Employees</td>\n",
       "      <td>Cupertino, CA</td>\n",
       "      <td>Computer Hardware &amp; Software</td>\n",
       "      <td>4.3</td>\n",
       "      <td>4.4</td>\n",
       "      <td>4.3</td>\n",
       "      <td>3.7</td>\n",
       "      <td>3.7</td>\n",
       "      <td>4.3</td>\n",
       "      <td>3.8</td>\n",
       "      <td>See All 20,851 Reviews</td>\n",
       "      <td>We’re a diverse collective of thinkers and doe...</td>\n",
       "      <td>NaN</td>\n",
       "    </tr>\n",
       "    <tr>\n",
       "      <th>3</th>\n",
       "      <td>US Air Force</td>\n",
       "      <td>10000+ Employees</td>\n",
       "      <td>Washington, DC</td>\n",
       "      <td>Federal Agencies</td>\n",
       "      <td>4.2</td>\n",
       "      <td>4.2</td>\n",
       "      <td>4.0</td>\n",
       "      <td>3.3</td>\n",
       "      <td>3.4</td>\n",
       "      <td>4.3</td>\n",
       "      <td>4.2</td>\n",
       "      <td>See All 16,600 Reviews</td>\n",
       "      <td>The mission of the US Department of the Air Fo...</td>\n",
       "      <td>NaN</td>\n",
       "    </tr>\n",
       "    <tr>\n",
       "      <th>4</th>\n",
       "      <td>Cisco Systems</td>\n",
       "      <td>10000+ Employees</td>\n",
       "      <td>San Jose, CA</td>\n",
       "      <td>Computer Hardware &amp; Software</td>\n",
       "      <td>4.2</td>\n",
       "      <td>4.3</td>\n",
       "      <td>4.3</td>\n",
       "      <td>4.2</td>\n",
       "      <td>3.8</td>\n",
       "      <td>4.1</td>\n",
       "      <td>3.9</td>\n",
       "      <td>See All 21,804 Reviews</td>\n",
       "      <td>#WeAreCisco, where each person is unique, but ...</td>\n",
       "      <td>Mission: Cisco wants you to bring your uniquen...</td>\n",
       "    </tr>\n",
       "  </tbody>\n",
       "</table>\n",
       "</div>"
      ],
      "text/plain": [
       "            NAME              SIZE        LOCATION_HQ  \\\n",
       "0         Google  10000+ Employees  Mountain View, CA   \n",
       "1      Microsoft  10000+ Employees        Redmond, WA   \n",
       "2          Apple  10000+ Employees      Cupertino, CA   \n",
       "3   US Air Force  10000+ Employees     Washington, DC   \n",
       "4  Cisco Systems  10000+ Employees       San Jose, CA   \n",
       "\n",
       "                       INDUSTRY  RATING_OVERALL  RATING_DI  RATING_CV  \\\n",
       "0                      Internet             4.5        4.4        4.4   \n",
       "1  Computer Hardware & Software             4.4        4.4        4.3   \n",
       "2  Computer Hardware & Software             4.3        4.4        4.3   \n",
       "3              Federal Agencies             4.2        4.2        4.0   \n",
       "4  Computer Hardware & Software             4.2        4.3        4.3   \n",
       "\n",
       "   RATING_WL  RATING_SM  RATING_CB  RATING_CO             NUM_REVIEWS  \\\n",
       "0        4.3        4.1        4.5        4.3  See All 18,362 Reviews   \n",
       "1        4.1        4.0        4.1        4.1  See All 29,389 Reviews   \n",
       "2        3.7        3.7        4.3        3.8  See All 20,851 Reviews   \n",
       "3        3.3        3.4        4.3        4.2  See All 16,600 Reviews   \n",
       "4        4.2        3.8        4.1        3.9  See All 21,804 Reviews   \n",
       "\n",
       "                                         DESCRIPTION  \\\n",
       "0                                                NaN   \n",
       "1  Our drive to change the world unites us!\\n\\nMi...   \n",
       "2  We’re a diverse collective of thinkers and doe...   \n",
       "3  The mission of the US Department of the Air Fo...   \n",
       "4  #WeAreCisco, where each person is unique, but ...   \n",
       "\n",
       "                                             MISSION  \n",
       "0                                                NaN  \n",
       "1                                                NaN  \n",
       "2                                                NaN  \n",
       "3                                                NaN  \n",
       "4  Mission: Cisco wants you to bring your uniquen...  "
      ]
     },
     "execution_count": 4,
     "metadata": {},
     "output_type": "execute_result"
    }
   ],
   "source": [
    "data.head()"
   ]
  },
  {
   "cell_type": "markdown",
   "metadata": {},
   "source": [
    "### Preliminary Cleaning\n",
    " - Handle null values\n",
    " - reset indices \n",
    " - drop duplicates"
   ]
  },
  {
   "cell_type": "code",
   "execution_count": 5,
   "metadata": {
    "ExecuteTime": {
     "end_time": "2021-02-17T04:52:52.994926Z",
     "start_time": "2021-02-17T04:52:52.990999Z"
    }
   },
   "outputs": [],
   "source": [
    "#Reset index to see all rows\n",
    "data.reset_index(inplace=True)"
   ]
  },
  {
   "cell_type": "code",
   "execution_count": 6,
   "metadata": {
    "ExecuteTime": {
     "end_time": "2021-02-17T04:52:53.010530Z",
     "start_time": "2021-02-17T04:52:53.004568Z"
    }
   },
   "outputs": [],
   "source": [
    "# #change '  ' to null values\n",
    "# data['FULL_DESCRIPTION'] = data['FULL_DESCRIPTION'].mask(data['FULL_DESCRIPTION']== '  ')"
   ]
  },
  {
   "cell_type": "code",
   "execution_count": 7,
   "metadata": {
    "ExecuteTime": {
     "end_time": "2021-02-17T04:52:53.025327Z",
     "start_time": "2021-02-17T04:52:53.016336Z"
    }
   },
   "outputs": [],
   "source": [
    "###Inspect companies with nan description?\n"
   ]
  },
  {
   "cell_type": "code",
   "execution_count": 8,
   "metadata": {
    "ExecuteTime": {
     "end_time": "2021-02-17T04:52:53.065106Z",
     "start_time": "2021-02-17T04:52:53.029574Z"
    },
    "scrolled": true
   },
   "outputs": [
    {
     "name": "stdout",
     "output_type": "stream",
     "text": [
      "NaN values dropped from RATING_DI:  477\n",
      "NaN values dropped from DESCRIPTION:  139\n"
     ]
    }
   ],
   "source": [
    "#Drop null values from RATING_DI\n",
    "print('NaN values dropped from RATING_DI: ', data.RATING_DI.isna().sum())\n",
    "data.dropna(subset=['RATING_DI'], inplace=True)\n",
    "\n",
    "#Drop null values from DESCRIPTION\n",
    "print('NaN values dropped from DESCRIPTION: ', data.DESCRIPTION.isna().sum())\n",
    "data.dropna(subset=['DESCRIPTION'], inplace=True)"
   ]
  },
  {
   "cell_type": "code",
   "execution_count": 9,
   "metadata": {
    "ExecuteTime": {
     "end_time": "2021-02-17T04:52:53.112461Z",
     "start_time": "2021-02-17T04:52:53.071871Z"
    }
   },
   "outputs": [
    {
     "name": "stdout",
     "output_type": "stream",
     "text": [
      "Duplicates dropped:  1180\n"
     ]
    }
   ],
   "source": [
    "#Drop duplicate companies by 'NAME' - drops size from 1941 to 1188\n",
    "print('Duplicates dropped: ', data['NAME'].duplicated().sum())\n",
    "data.drop_duplicates(subset='NAME', keep='last', inplace=True)\n",
    "data = data.drop(['index'], axis=1)"
   ]
  },
  {
   "cell_type": "code",
   "execution_count": 10,
   "metadata": {
    "ExecuteTime": {
     "end_time": "2021-02-17T04:52:53.142923Z",
     "start_time": "2021-02-17T04:52:53.129122Z"
    }
   },
   "outputs": [],
   "source": [
    "### RESET INDEX HERE TO NAME ### (easier searching?)\n",
    "data = data.set_index('NAME')"
   ]
  },
  {
   "cell_type": "code",
   "execution_count": 11,
   "metadata": {
    "ExecuteTime": {
     "end_time": "2021-02-17T04:52:53.162254Z",
     "start_time": "2021-02-17T04:52:53.155694Z"
    },
    "scrolled": true
   },
   "outputs": [],
   "source": [
    "# #reset index to begin at 0\n",
    "# ###data.reset_index(inplace=True)\n",
    "\n",
    "# #drop extra indices\n",
    "# # data = data.drop(['index', 'level_0'], axis=1)\n",
    "# data = data.drop(['index'], axis=1)\n"
   ]
  },
  {
   "cell_type": "code",
   "execution_count": 12,
   "metadata": {
    "ExecuteTime": {
     "end_time": "2021-02-17T04:52:53.210571Z",
     "start_time": "2021-02-17T04:52:53.170464Z"
    }
   },
   "outputs": [
    {
     "name": "stdout",
     "output_type": "stream",
     "text": [
      "Shape:  (2531, 13)\n"
     ]
    },
    {
     "data": {
      "text/html": [
       "<div>\n",
       "<style scoped>\n",
       "    .dataframe tbody tr th:only-of-type {\n",
       "        vertical-align: middle;\n",
       "    }\n",
       "\n",
       "    .dataframe tbody tr th {\n",
       "        vertical-align: top;\n",
       "    }\n",
       "\n",
       "    .dataframe thead th {\n",
       "        text-align: right;\n",
       "    }\n",
       "</style>\n",
       "<table border=\"1\" class=\"dataframe\">\n",
       "  <thead>\n",
       "    <tr style=\"text-align: right;\">\n",
       "      <th></th>\n",
       "      <th>SIZE</th>\n",
       "      <th>LOCATION_HQ</th>\n",
       "      <th>INDUSTRY</th>\n",
       "      <th>RATING_OVERALL</th>\n",
       "      <th>RATING_DI</th>\n",
       "      <th>RATING_CV</th>\n",
       "      <th>RATING_WL</th>\n",
       "      <th>RATING_SM</th>\n",
       "      <th>RATING_CB</th>\n",
       "      <th>RATING_CO</th>\n",
       "      <th>NUM_REVIEWS</th>\n",
       "      <th>DESCRIPTION</th>\n",
       "      <th>MISSION</th>\n",
       "    </tr>\n",
       "    <tr>\n",
       "      <th>NAME</th>\n",
       "      <th></th>\n",
       "      <th></th>\n",
       "      <th></th>\n",
       "      <th></th>\n",
       "      <th></th>\n",
       "      <th></th>\n",
       "      <th></th>\n",
       "      <th></th>\n",
       "      <th></th>\n",
       "      <th></th>\n",
       "      <th></th>\n",
       "      <th></th>\n",
       "      <th></th>\n",
       "    </tr>\n",
       "  </thead>\n",
       "  <tbody>\n",
       "    <tr>\n",
       "      <th>McKinsey &amp; Company</th>\n",
       "      <td>10000+ Employees</td>\n",
       "      <td>New York, NY</td>\n",
       "      <td>Consulting</td>\n",
       "      <td>4.5</td>\n",
       "      <td>4.4</td>\n",
       "      <td>4.4</td>\n",
       "      <td>3.0</td>\n",
       "      <td>4.1</td>\n",
       "      <td>4.4</td>\n",
       "      <td>4.5</td>\n",
       "      <td>See All 5,198 Reviews</td>\n",
       "      <td>We work with leaders across sectors to tackle ...</td>\n",
       "      <td>Mission: Our mission is two-fold: to help our ...</td>\n",
       "    </tr>\n",
       "    <tr>\n",
       "      <th>Cornell University</th>\n",
       "      <td>10000+ Employees</td>\n",
       "      <td>Ithaca, NY</td>\n",
       "      <td>Colleges &amp; Universities</td>\n",
       "      <td>4.5</td>\n",
       "      <td>4.3</td>\n",
       "      <td>4.4</td>\n",
       "      <td>4.0</td>\n",
       "      <td>4.1</td>\n",
       "      <td>4.1</td>\n",
       "      <td>4.2</td>\n",
       "      <td>See All 1,765 Reviews</td>\n",
       "      <td>Cornell is a private, Ivy League university re...</td>\n",
       "      <td>NaN</td>\n",
       "    </tr>\n",
       "    <tr>\n",
       "      <th>UC Santa Barbara</th>\n",
       "      <td>5001 to 10000 Employees</td>\n",
       "      <td>Santa Barbara, CA</td>\n",
       "      <td>Colleges &amp; Universities</td>\n",
       "      <td>4.5</td>\n",
       "      <td>4.2</td>\n",
       "      <td>4.3</td>\n",
       "      <td>4.4</td>\n",
       "      <td>4.1</td>\n",
       "      <td>3.7</td>\n",
       "      <td>4.0</td>\n",
       "      <td>See All 1,049 Reviews</td>\n",
       "      <td>Dude, let's hit the beach! And then we'll hit ...</td>\n",
       "      <td>NaN</td>\n",
       "    </tr>\n",
       "  </tbody>\n",
       "</table>\n",
       "</div>"
      ],
      "text/plain": [
       "                                       SIZE        LOCATION_HQ  \\\n",
       "NAME                                                             \n",
       "McKinsey & Company         10000+ Employees       New York, NY   \n",
       "Cornell University         10000+ Employees         Ithaca, NY   \n",
       "UC Santa Barbara    5001 to 10000 Employees  Santa Barbara, CA   \n",
       "\n",
       "                                   INDUSTRY  RATING_OVERALL  RATING_DI  \\\n",
       "NAME                                                                     \n",
       "McKinsey & Company               Consulting             4.5        4.4   \n",
       "Cornell University  Colleges & Universities             4.5        4.3   \n",
       "UC Santa Barbara    Colleges & Universities             4.5        4.2   \n",
       "\n",
       "                    RATING_CV  RATING_WL  RATING_SM  RATING_CB  RATING_CO  \\\n",
       "NAME                                                                        \n",
       "McKinsey & Company        4.4        3.0        4.1        4.4        4.5   \n",
       "Cornell University        4.4        4.0        4.1        4.1        4.2   \n",
       "UC Santa Barbara          4.3        4.4        4.1        3.7        4.0   \n",
       "\n",
       "                              NUM_REVIEWS  \\\n",
       "NAME                                        \n",
       "McKinsey & Company  See All 5,198 Reviews   \n",
       "Cornell University  See All 1,765 Reviews   \n",
       "UC Santa Barbara    See All 1,049 Reviews   \n",
       "\n",
       "                                                          DESCRIPTION  \\\n",
       "NAME                                                                    \n",
       "McKinsey & Company  We work with leaders across sectors to tackle ...   \n",
       "Cornell University  Cornell is a private, Ivy League university re...   \n",
       "UC Santa Barbara    Dude, let's hit the beach! And then we'll hit ...   \n",
       "\n",
       "                                                              MISSION  \n",
       "NAME                                                                   \n",
       "McKinsey & Company  Mission: Our mission is two-fold: to help our ...  \n",
       "Cornell University                                                NaN  \n",
       "UC Santa Barbara                                                  NaN  "
      ]
     },
     "execution_count": 12,
     "metadata": {},
     "output_type": "execute_result"
    }
   ],
   "source": [
    "#Check out dataframe\n",
    "print('Shape: ', data.shape)\n",
    "data.head(3)"
   ]
  },
  {
   "cell_type": "markdown",
   "metadata": {},
   "source": [
    "## Feature Engineering\n",
    " - Initial cleaning of DESCRIPTION\n",
    " - Prepare continuous variables: NUM_REVIEWS, RATING_DI\n",
    " - New features: HQ_STATE, defining TARGET variable"
   ]
  },
  {
   "cell_type": "markdown",
   "metadata": {},
   "source": [
    "### New features based on DECRIPTION"
   ]
  },
  {
   "cell_type": "code",
   "execution_count": 13,
   "metadata": {
    "ExecuteTime": {
     "end_time": "2021-02-17T04:52:53.239623Z",
     "start_time": "2021-02-17T04:52:53.215406Z"
    }
   },
   "outputs": [],
   "source": [
    "# change null values in MISSION and DESCRIPTION to ' '\n",
    "data['MISSION'].fillna(' ', inplace=True)\n",
    "data['DESCRIPTION'].fillna(' ', inplace=True)\n",
    "\n",
    "#New column 'FULL_DESCRIPTION'\n",
    "data['FULL_DESCRIPTION'] = np.add(data['DESCRIPTION'], data['MISSION'])"
   ]
  },
  {
   "cell_type": "code",
   "execution_count": 14,
   "metadata": {
    "ExecuteTime": {
     "end_time": "2021-02-17T04:52:53.255759Z",
     "start_time": "2021-02-17T04:52:53.244118Z"
    }
   },
   "outputs": [],
   "source": [
    "# New column for length of description\n",
    "data['DESC_LEN'] = data['FULL_DESCRIPTION'].apply(lambda x: len(x))"
   ]
  },
  {
   "cell_type": "code",
   "execution_count": 15,
   "metadata": {
    "ExecuteTime": {
     "end_time": "2021-02-17T04:52:53.264936Z",
     "start_time": "2021-02-17T04:52:53.259215Z"
    }
   },
   "outputs": [],
   "source": [
    "### BONUS ###\n",
    "# how to add a space before \"Mission:\"??"
   ]
  },
  {
   "cell_type": "markdown",
   "metadata": {},
   "source": [
    "### Clean up NUM_REVIEWS column\n",
    "- return numbers only"
   ]
  },
  {
   "cell_type": "code",
   "execution_count": 16,
   "metadata": {
    "ExecuteTime": {
     "end_time": "2021-02-17T04:52:53.293329Z",
     "start_time": "2021-02-17T04:52:53.269449Z"
    }
   },
   "outputs": [],
   "source": [
    "def get_digits(s):\n",
    "    #remove commas\n",
    "    exclude = set(string.punctuation)\n",
    "    s = ''.join(num for num in s if num not in exclude)\n",
    "\n",
    "    #return digits only\n",
    "    return s.split()[2]\n",
    "\n",
    "#apply function to NUM_REVIEWS and change datatype to int\n",
    "data['NUM_REVIEWS'] = data['NUM_REVIEWS'].apply(get_digits).astype(int)"
   ]
  },
  {
   "cell_type": "code",
   "execution_count": 17,
   "metadata": {
    "ExecuteTime": {
     "end_time": "2021-02-17T04:52:53.307669Z",
     "start_time": "2021-02-17T04:52:53.295514Z"
    },
    "scrolled": true
   },
   "outputs": [
    {
     "name": "stdout",
     "output_type": "stream",
     "text": [
      "Number of companies dropped: 305\n"
     ]
    }
   ],
   "source": [
    "#removing companies with too few reviews ### try changing this threshold to 50?\n",
    "print('Number of companies dropped:', (data['NUM_REVIEWS'] < 100).sum())\n",
    "data = data[(data['NUM_REVIEWS'] > 100)]"
   ]
  },
  {
   "cell_type": "markdown",
   "metadata": {},
   "source": [
    "### New feature based on RATING_DI"
   ]
  },
  {
   "cell_type": "markdown",
   "metadata": {},
   "source": [
    "**drop lower than xx reviews**"
   ]
  },
  {
   "cell_type": "markdown",
   "metadata": {},
   "source": [
    "The rating scale used by Glassdoor.com is a scale from 1 to 5. Therefore, we will establish our **Target variable at 4.0**, since that would indicate an \"A\" rating on this scale."
   ]
  },
  {
   "cell_type": "code",
   "execution_count": 18,
   "metadata": {
    "ExecuteTime": {
     "end_time": "2021-02-17T04:52:53.368827Z",
     "start_time": "2021-02-17T04:52:53.310719Z"
    }
   },
   "outputs": [
    {
     "data": {
      "text/html": [
       "<div>\n",
       "<style scoped>\n",
       "    .dataframe tbody tr th:only-of-type {\n",
       "        vertical-align: middle;\n",
       "    }\n",
       "\n",
       "    .dataframe tbody tr th {\n",
       "        vertical-align: top;\n",
       "    }\n",
       "\n",
       "    .dataframe thead th {\n",
       "        text-align: right;\n",
       "    }\n",
       "</style>\n",
       "<table border=\"1\" class=\"dataframe\">\n",
       "  <thead>\n",
       "    <tr style=\"text-align: right;\">\n",
       "      <th></th>\n",
       "      <th>RATING_OVERALL</th>\n",
       "      <th>RATING_DI</th>\n",
       "      <th>RATING_CV</th>\n",
       "      <th>RATING_WL</th>\n",
       "      <th>RATING_SM</th>\n",
       "      <th>RATING_CB</th>\n",
       "      <th>RATING_CO</th>\n",
       "      <th>NUM_REVIEWS</th>\n",
       "      <th>DESC_LEN</th>\n",
       "    </tr>\n",
       "  </thead>\n",
       "  <tbody>\n",
       "    <tr>\n",
       "      <th>count</th>\n",
       "      <td>2225.000000</td>\n",
       "      <td>2225.000000</td>\n",
       "      <td>2225.000000</td>\n",
       "      <td>2225.000000</td>\n",
       "      <td>2225.000000</td>\n",
       "      <td>2225.000000</td>\n",
       "      <td>2225.000000</td>\n",
       "      <td>2225.000000</td>\n",
       "      <td>2225.000000</td>\n",
       "    </tr>\n",
       "    <tr>\n",
       "      <th>mean</th>\n",
       "      <td>3.876494</td>\n",
       "      <td>3.963326</td>\n",
       "      <td>3.799775</td>\n",
       "      <td>3.683371</td>\n",
       "      <td>3.461798</td>\n",
       "      <td>3.648449</td>\n",
       "      <td>3.581618</td>\n",
       "      <td>1334.895730</td>\n",
       "      <td>857.261124</td>\n",
       "    </tr>\n",
       "    <tr>\n",
       "      <th>std</th>\n",
       "      <td>0.358956</td>\n",
       "      <td>0.527221</td>\n",
       "      <td>0.430330</td>\n",
       "      <td>0.429407</td>\n",
       "      <td>0.447381</td>\n",
       "      <td>0.458472</td>\n",
       "      <td>0.425755</td>\n",
       "      <td>4103.038674</td>\n",
       "      <td>407.438617</td>\n",
       "    </tr>\n",
       "    <tr>\n",
       "      <th>min</th>\n",
       "      <td>1.900000</td>\n",
       "      <td>1.000000</td>\n",
       "      <td>1.700000</td>\n",
       "      <td>1.500000</td>\n",
       "      <td>1.600000</td>\n",
       "      <td>1.900000</td>\n",
       "      <td>1.900000</td>\n",
       "      <td>101.000000</td>\n",
       "      <td>44.000000</td>\n",
       "    </tr>\n",
       "    <tr>\n",
       "      <th>25%</th>\n",
       "      <td>3.700000</td>\n",
       "      <td>3.700000</td>\n",
       "      <td>3.600000</td>\n",
       "      <td>3.400000</td>\n",
       "      <td>3.200000</td>\n",
       "      <td>3.400000</td>\n",
       "      <td>3.300000</td>\n",
       "      <td>211.000000</td>\n",
       "      <td>632.000000</td>\n",
       "    </tr>\n",
       "    <tr>\n",
       "      <th>50%</th>\n",
       "      <td>3.900000</td>\n",
       "      <td>4.000000</td>\n",
       "      <td>3.800000</td>\n",
       "      <td>3.700000</td>\n",
       "      <td>3.400000</td>\n",
       "      <td>3.700000</td>\n",
       "      <td>3.600000</td>\n",
       "      <td>412.000000</td>\n",
       "      <td>758.000000</td>\n",
       "    </tr>\n",
       "    <tr>\n",
       "      <th>75%</th>\n",
       "      <td>4.100000</td>\n",
       "      <td>4.300000</td>\n",
       "      <td>4.100000</td>\n",
       "      <td>4.000000</td>\n",
       "      <td>3.700000</td>\n",
       "      <td>3.900000</td>\n",
       "      <td>3.800000</td>\n",
       "      <td>1111.000000</td>\n",
       "      <td>1001.000000</td>\n",
       "    </tr>\n",
       "    <tr>\n",
       "      <th>max</th>\n",
       "      <td>5.000000</td>\n",
       "      <td>5.000000</td>\n",
       "      <td>5.000000</td>\n",
       "      <td>4.900000</td>\n",
       "      <td>4.900000</td>\n",
       "      <td>4.900000</td>\n",
       "      <td>4.900000</td>\n",
       "      <td>74692.000000</td>\n",
       "      <td>4883.000000</td>\n",
       "    </tr>\n",
       "  </tbody>\n",
       "</table>\n",
       "</div>"
      ],
      "text/plain": [
       "       RATING_OVERALL    RATING_DI    RATING_CV    RATING_WL    RATING_SM  \\\n",
       "count     2225.000000  2225.000000  2225.000000  2225.000000  2225.000000   \n",
       "mean         3.876494     3.963326     3.799775     3.683371     3.461798   \n",
       "std          0.358956     0.527221     0.430330     0.429407     0.447381   \n",
       "min          1.900000     1.000000     1.700000     1.500000     1.600000   \n",
       "25%          3.700000     3.700000     3.600000     3.400000     3.200000   \n",
       "50%          3.900000     4.000000     3.800000     3.700000     3.400000   \n",
       "75%          4.100000     4.300000     4.100000     4.000000     3.700000   \n",
       "max          5.000000     5.000000     5.000000     4.900000     4.900000   \n",
       "\n",
       "         RATING_CB    RATING_CO   NUM_REVIEWS     DESC_LEN  \n",
       "count  2225.000000  2225.000000   2225.000000  2225.000000  \n",
       "mean      3.648449     3.581618   1334.895730   857.261124  \n",
       "std       0.458472     0.425755   4103.038674   407.438617  \n",
       "min       1.900000     1.900000    101.000000    44.000000  \n",
       "25%       3.400000     3.300000    211.000000   632.000000  \n",
       "50%       3.700000     3.600000    412.000000   758.000000  \n",
       "75%       3.900000     3.800000   1111.000000  1001.000000  \n",
       "max       4.900000     4.900000  74692.000000  4883.000000  "
      ]
     },
     "execution_count": 18,
     "metadata": {},
     "output_type": "execute_result"
    }
   ],
   "source": [
    "#Checking out stats for rating columns\n",
    "data.describe()"
   ]
  },
  {
   "cell_type": "code",
   "execution_count": 19,
   "metadata": {
    "ExecuteTime": {
     "end_time": "2021-02-17T04:52:53.380440Z",
     "start_time": "2021-02-17T04:52:53.371085Z"
    }
   },
   "outputs": [
    {
     "data": {
      "text/plain": [
       "3.963325842696629"
      ]
     },
     "execution_count": 19,
     "metadata": {},
     "output_type": "execute_result"
    }
   ],
   "source": [
    "# Checking average Diversity and Inclusion score\n",
    "data.RATING_DI.mean()"
   ]
  },
  {
   "cell_type": "code",
   "execution_count": 20,
   "metadata": {
    "ExecuteTime": {
     "end_time": "2021-02-17T04:52:53.449353Z",
     "start_time": "2021-02-17T04:52:53.383123Z"
    }
   },
   "outputs": [
    {
     "data": {
      "text/plain": [
       "3.8764943820224724"
      ]
     },
     "execution_count": 20,
     "metadata": {},
     "output_type": "execute_result"
    }
   ],
   "source": [
    "data.RATING_OVERALL.mean()"
   ]
  },
  {
   "cell_type": "code",
   "execution_count": 21,
   "metadata": {
    "ExecuteTime": {
     "end_time": "2021-02-17T04:52:53.471421Z",
     "start_time": "2021-02-17T04:52:53.454981Z"
    },
    "scrolled": true
   },
   "outputs": [
    {
     "name": "stdout",
     "output_type": "stream",
     "text": [
      "Percentage of companpies below threshold: 54.067415730337075\n",
      "Percentage of companpies above threshold: 45.932584269662925\n"
     ]
    }
   ],
   "source": [
    "#how many companies are above and below the threshold?\n",
    "print('Percentage of companpies below threshold:', \n",
    "      (len(data[(data['RATING_DI'] <= 4.0)]) / (len(data)))*100)\n",
    "print('Percentage of companpies above threshold:', \n",
    "      (len(data[(data['RATING_DI'] > 4.0)]) / (len(data)))*100)"
   ]
  },
  {
   "cell_type": "code",
   "execution_count": 22,
   "metadata": {
    "ExecuteTime": {
     "end_time": "2021-02-17T04:52:53.499070Z",
     "start_time": "2021-02-17T04:52:53.480075Z"
    }
   },
   "outputs": [],
   "source": [
    "#RATING_DI_BIN\n",
    "#removing decimal value for data visualization\n",
    "def truncate(f):\n",
    "    return math.floor(f * 10 ** 0) / 10 ** 0\n",
    "\n",
    "data['RATING_DI_BIN'] = data['RATING_DI'].apply(truncate).astype(int)"
   ]
  },
  {
   "cell_type": "code",
   "execution_count": 23,
   "metadata": {
    "ExecuteTime": {
     "end_time": "2021-02-17T04:52:53.637835Z",
     "start_time": "2021-02-17T04:52:53.520512Z"
    }
   },
   "outputs": [
    {
     "data": {
      "text/html": [
       "<div>\n",
       "<style scoped>\n",
       "    .dataframe tbody tr th:only-of-type {\n",
       "        vertical-align: middle;\n",
       "    }\n",
       "\n",
       "    .dataframe tbody tr th {\n",
       "        vertical-align: top;\n",
       "    }\n",
       "\n",
       "    .dataframe thead th {\n",
       "        text-align: right;\n",
       "    }\n",
       "</style>\n",
       "<table border=\"1\" class=\"dataframe\">\n",
       "  <thead>\n",
       "    <tr style=\"text-align: right;\">\n",
       "      <th></th>\n",
       "      <th>SIZE</th>\n",
       "      <th>LOCATION_HQ</th>\n",
       "      <th>INDUSTRY</th>\n",
       "      <th>RATING_OVERALL</th>\n",
       "      <th>RATING_DI</th>\n",
       "      <th>RATING_CV</th>\n",
       "      <th>RATING_WL</th>\n",
       "      <th>RATING_SM</th>\n",
       "      <th>RATING_CB</th>\n",
       "      <th>RATING_CO</th>\n",
       "      <th>NUM_REVIEWS</th>\n",
       "      <th>DESCRIPTION</th>\n",
       "      <th>MISSION</th>\n",
       "      <th>FULL_DESCRIPTION</th>\n",
       "      <th>DESC_LEN</th>\n",
       "      <th>RATING_DI_BIN</th>\n",
       "    </tr>\n",
       "    <tr>\n",
       "      <th>NAME</th>\n",
       "      <th></th>\n",
       "      <th></th>\n",
       "      <th></th>\n",
       "      <th></th>\n",
       "      <th></th>\n",
       "      <th></th>\n",
       "      <th></th>\n",
       "      <th></th>\n",
       "      <th></th>\n",
       "      <th></th>\n",
       "      <th></th>\n",
       "      <th></th>\n",
       "      <th></th>\n",
       "      <th></th>\n",
       "      <th></th>\n",
       "      <th></th>\n",
       "    </tr>\n",
       "  </thead>\n",
       "  <tbody>\n",
       "    <tr>\n",
       "      <th>McKinsey &amp; Company</th>\n",
       "      <td>10000+ Employees</td>\n",
       "      <td>New York, NY</td>\n",
       "      <td>Consulting</td>\n",
       "      <td>4.5</td>\n",
       "      <td>4.4</td>\n",
       "      <td>4.4</td>\n",
       "      <td>3.0</td>\n",
       "      <td>4.1</td>\n",
       "      <td>4.4</td>\n",
       "      <td>4.5</td>\n",
       "      <td>5198</td>\n",
       "      <td>We work with leaders across sectors to tackle ...</td>\n",
       "      <td>Mission: Our mission is two-fold: to help our ...</td>\n",
       "      <td>We work with leaders across sectors to tackle ...</td>\n",
       "      <td>1383</td>\n",
       "      <td>4</td>\n",
       "    </tr>\n",
       "    <tr>\n",
       "      <th>Cornell University</th>\n",
       "      <td>10000+ Employees</td>\n",
       "      <td>Ithaca, NY</td>\n",
       "      <td>Colleges &amp; Universities</td>\n",
       "      <td>4.5</td>\n",
       "      <td>4.3</td>\n",
       "      <td>4.4</td>\n",
       "      <td>4.0</td>\n",
       "      <td>4.1</td>\n",
       "      <td>4.1</td>\n",
       "      <td>4.2</td>\n",
       "      <td>1765</td>\n",
       "      <td>Cornell is a private, Ivy League university re...</td>\n",
       "      <td></td>\n",
       "      <td>Cornell is a private, Ivy League university re...</td>\n",
       "      <td>618</td>\n",
       "      <td>4</td>\n",
       "    </tr>\n",
       "    <tr>\n",
       "      <th>UC Santa Barbara</th>\n",
       "      <td>5001 to 10000 Employees</td>\n",
       "      <td>Santa Barbara, CA</td>\n",
       "      <td>Colleges &amp; Universities</td>\n",
       "      <td>4.5</td>\n",
       "      <td>4.2</td>\n",
       "      <td>4.3</td>\n",
       "      <td>4.4</td>\n",
       "      <td>4.1</td>\n",
       "      <td>3.7</td>\n",
       "      <td>4.0</td>\n",
       "      <td>1049</td>\n",
       "      <td>Dude, let's hit the beach! And then we'll hit ...</td>\n",
       "      <td></td>\n",
       "      <td>Dude, let's hit the beach! And then we'll hit ...</td>\n",
       "      <td>654</td>\n",
       "      <td>4</td>\n",
       "    </tr>\n",
       "  </tbody>\n",
       "</table>\n",
       "</div>"
      ],
      "text/plain": [
       "                                       SIZE        LOCATION_HQ  \\\n",
       "NAME                                                             \n",
       "McKinsey & Company         10000+ Employees       New York, NY   \n",
       "Cornell University         10000+ Employees         Ithaca, NY   \n",
       "UC Santa Barbara    5001 to 10000 Employees  Santa Barbara, CA   \n",
       "\n",
       "                                   INDUSTRY  RATING_OVERALL  RATING_DI  \\\n",
       "NAME                                                                     \n",
       "McKinsey & Company               Consulting             4.5        4.4   \n",
       "Cornell University  Colleges & Universities             4.5        4.3   \n",
       "UC Santa Barbara    Colleges & Universities             4.5        4.2   \n",
       "\n",
       "                    RATING_CV  RATING_WL  RATING_SM  RATING_CB  RATING_CO  \\\n",
       "NAME                                                                        \n",
       "McKinsey & Company        4.4        3.0        4.1        4.4        4.5   \n",
       "Cornell University        4.4        4.0        4.1        4.1        4.2   \n",
       "UC Santa Barbara          4.3        4.4        4.1        3.7        4.0   \n",
       "\n",
       "                    NUM_REVIEWS  \\\n",
       "NAME                              \n",
       "McKinsey & Company         5198   \n",
       "Cornell University         1765   \n",
       "UC Santa Barbara           1049   \n",
       "\n",
       "                                                          DESCRIPTION  \\\n",
       "NAME                                                                    \n",
       "McKinsey & Company  We work with leaders across sectors to tackle ...   \n",
       "Cornell University  Cornell is a private, Ivy League university re...   \n",
       "UC Santa Barbara    Dude, let's hit the beach! And then we'll hit ...   \n",
       "\n",
       "                                                              MISSION  \\\n",
       "NAME                                                                    \n",
       "McKinsey & Company  Mission: Our mission is two-fold: to help our ...   \n",
       "Cornell University                                                      \n",
       "UC Santa Barbara                                                        \n",
       "\n",
       "                                                     FULL_DESCRIPTION  \\\n",
       "NAME                                                                    \n",
       "McKinsey & Company  We work with leaders across sectors to tackle ...   \n",
       "Cornell University  Cornell is a private, Ivy League university re...   \n",
       "UC Santa Barbara    Dude, let's hit the beach! And then we'll hit ...   \n",
       "\n",
       "                    DESC_LEN  RATING_DI_BIN  \n",
       "NAME                                         \n",
       "McKinsey & Company      1383              4  \n",
       "Cornell University       618              4  \n",
       "UC Santa Barbara         654              4  "
      ]
     },
     "execution_count": 23,
     "metadata": {},
     "output_type": "execute_result"
    }
   ],
   "source": [
    "data.head(3)"
   ]
  },
  {
   "cell_type": "markdown",
   "metadata": {
    "heading_collapsed": true
   },
   "source": [
    "### New feature based on SIZE"
   ]
  },
  {
   "cell_type": "code",
   "execution_count": 24,
   "metadata": {
    "ExecuteTime": {
     "end_time": "2021-02-17T04:52:53.663745Z",
     "start_time": "2021-02-17T04:52:53.655099Z"
    },
    "hidden": true
   },
   "outputs": [],
   "source": [
    "# ## Assigning continuous variable to SIZE column\n",
    "\n",
    "# conditions = [ \n",
    "#     data['SIZE'] == '10000+ Employees',\n",
    "#     data['SIZE'] == '5001 to 10000 Employees',\n",
    "#     data['SIZE'] == '1001 to 5000 Employees', \n",
    "#     data['SIZE'] == '501 to 1000 Employees',\n",
    "#     ((data['SIZE'] == '201 to 500 Employees')| (data['SIZE'] == '51 to 200 Employees'))] \n",
    "\n",
    "# ## list of choices to be returned if said condition is True\n",
    "# choices = [\n",
    "#     5, #10k+\n",
    "#     4, #5001 to 10k Employees\n",
    "#     3, #1001 to 5k Employees \n",
    "#     2, #500 to 1k\n",
    "#     1] #fewer than 500 Employees\n",
    "\n",
    "# data['SIZE_BIN'] = np.select(conditions, choices, default=None)\n",
    "\n",
    "# #Convert to float\n",
    "# data['SIZE_BIN'] = data['SIZE_BIN'].astype(float)"
   ]
  },
  {
   "cell_type": "code",
   "execution_count": 25,
   "metadata": {
    "ExecuteTime": {
     "end_time": "2021-02-17T04:52:53.714708Z",
     "start_time": "2021-02-17T04:52:53.672290Z"
    },
    "hidden": true
   },
   "outputs": [],
   "source": [
    "## Assigning continuous variable to SIZE column\n",
    "\n",
    "conditions = [ \n",
    "    data['SIZE'] == '10000+ Employees',\n",
    "    data['SIZE'] == '5001 to 10000 Employees',\n",
    "    data['SIZE'] == '1001 to 5000 Employees', \n",
    "    ((data['SIZE'] == '501 to 1000 Employees')|(data['SIZE'] == '201 to 500 Employees')| (data['SIZE'] == '51 to 200 Employees'))] \n",
    "\n",
    "## list of choices to be returned if said condition is True\n",
    "choices = [\n",
    "    4, #10k+\n",
    "    3, #5001 to 10k Employees\n",
    "    2, #1001 to 5k Employees \n",
    "    1] #fewer than 1k Employees\n",
    "\n",
    "data['SIZE_BIN'] = np.select(conditions, choices, default=None)\n",
    "\n",
    "#Convert to float\n",
    "data['SIZE_BIN'] = data['SIZE_BIN'].astype(float)"
   ]
  },
  {
   "cell_type": "code",
   "execution_count": 26,
   "metadata": {
    "ExecuteTime": {
     "end_time": "2021-02-17T04:52:53.742211Z",
     "start_time": "2021-02-17T04:52:53.721658Z"
    },
    "hidden": true
   },
   "outputs": [
    {
     "data": {
      "text/plain": [
       "4.0    0.335493\n",
       "3.0    0.164276\n",
       "2.0    0.392411\n",
       "1.0    0.107820\n",
       "Name: SIZE_BIN, dtype: float64"
      ]
     },
     "execution_count": 26,
     "metadata": {},
     "output_type": "execute_result"
    }
   ],
   "source": [
    "data.SIZE_BIN.value_counts(normalize=True, sort=False)"
   ]
  },
  {
   "cell_type": "markdown",
   "metadata": {
    "heading_collapsed": true
   },
   "source": [
    "### New feature based on LOCATION_HQ"
   ]
  },
  {
   "cell_type": "code",
   "execution_count": 27,
   "metadata": {
    "ExecuteTime": {
     "end_time": "2021-02-17T04:52:53.761338Z",
     "start_time": "2021-02-17T04:52:53.748390Z"
    },
    "hidden": true
   },
   "outputs": [],
   "source": [
    "data['HQ_STATE'] = data['LOCATION_HQ'].apply(lambda x: x[-2:])"
   ]
  },
  {
   "cell_type": "markdown",
   "metadata": {
    "heading_collapsed": true
   },
   "source": [
    "### Defining TARGET variable"
   ]
  },
  {
   "cell_type": "code",
   "execution_count": 28,
   "metadata": {
    "ExecuteTime": {
     "end_time": "2021-02-17T04:52:53.781910Z",
     "start_time": "2021-02-17T04:52:53.769078Z"
    },
    "hidden": true,
    "scrolled": false
   },
   "outputs": [],
   "source": [
    "# New column for Target variable - companies with Diversity and Inclusion Rating over 4.0\n",
    "data['TARGET'] = np.where(data['RATING_DI'] >= 4.0 , 1, 0)"
   ]
  },
  {
   "cell_type": "code",
   "execution_count": 29,
   "metadata": {
    "ExecuteTime": {
     "end_time": "2021-02-17T04:52:54.100412Z",
     "start_time": "2021-02-17T04:52:53.789288Z"
    },
    "hidden": true,
    "scrolled": true
   },
   "outputs": [
    {
     "data": {
      "text/plain": [
       "Text(0.5, 1.0, 'Distribution of Class')"
      ]
     },
     "execution_count": 29,
     "metadata": {},
     "output_type": "execute_result"
    },
    {
     "data": {
      "image/png": "[encoded data removed]",
      "text/plain": [
       "<Figure size 432x288 with 1 Axes>"
      ]
     },
     "metadata": {
      "needs_background": "light"
     },
     "output_type": "display_data"
    }
   ],
   "source": [
    "# Checking for class imbalance\n",
    "sns.countplot(data['TARGET'], palette='Set3').set_title('Distribution of Class')"
   ]
  },
  {
   "cell_type": "markdown",
   "metadata": {},
   "source": [
    "## EDA on data\n",
    "**Plots:**\n",
    " - scatterplots: DI rating OR target vs \n",
    "     - of reviews\n",
    "     - industry\n",
    "     - state\n",
    "     - company size\n",
    " - bar plots \n",
    "     - industry\n",
    "     - state\n",
    "     - size\n",
    " \n",
    "**Additional Notes:**\n",
    " - continuous variables: SIZE_BIN, rating columns, NUM_REVIEWS\n",
    " - are companies who have more lengthy descriptions more inclusive?"
   ]
  },
  {
   "cell_type": "markdown",
   "metadata": {
    "heading_collapsed": true
   },
   "source": [
    "### Inspecting distribution and overall trends"
   ]
  },
  {
   "cell_type": "code",
   "execution_count": 30,
   "metadata": {
    "ExecuteTime": {
     "end_time": "2021-02-17T04:52:54.116991Z",
     "start_time": "2021-02-17T04:52:54.105528Z"
    },
    "hidden": true,
    "scrolled": true
   },
   "outputs": [
    {
     "data": {
      "text/plain": [
       "1001 to 5000 Employees     848\n",
       "10000+ Employees           725\n",
       "5001 to 10000 Employees    355\n",
       "51 to 200 Employees        220\n",
       "1 to 50 Employees           57\n",
       "201 to 500 Employees         8\n",
       "Unknown                      7\n",
       "501 to 1000 Employees        5\n",
       "Name: SIZE, dtype: int64"
      ]
     },
     "execution_count": 30,
     "metadata": {},
     "output_type": "execute_result"
    }
   ],
   "source": [
    "##inspect size column\n",
    "data.SIZE.value_counts()"
   ]
  },
  {
   "cell_type": "code",
   "execution_count": 31,
   "metadata": {
    "ExecuteTime": {
     "end_time": "2021-02-17T04:52:54.137754Z",
     "start_time": "2021-02-17T04:52:54.122411Z"
    },
    "hidden": true
   },
   "outputs": [
    {
     "data": {
      "text/plain": [
       "4.0    0.335493\n",
       "3.0    0.164276\n",
       "2.0    0.392411\n",
       "1.0    0.107820\n",
       "Name: SIZE_BIN, dtype: float64"
      ]
     },
     "execution_count": 31,
     "metadata": {},
     "output_type": "execute_result"
    }
   ],
   "source": [
    "data.SIZE_BIN.value_counts(normalize=True, sort=False)\n",
    "#5: 10k+\n",
    "#4: 5k-10k\n",
    "#3: 1k-5k\n",
    "#2: 500-1k, Under 500\n",
    "#1: Under 500\n",
    "\n",
    "# 5.0    0.369792\n",
    "# 4.0    0.184896\n",
    "# 3.0    0.441667\n",
    "# 1.0    0.001042\n",
    "# 2.0    0.002604"
   ]
  },
  {
   "cell_type": "code",
   "execution_count": null,
   "metadata": {
    "hidden": true
   },
   "outputs": [],
   "source": []
  },
  {
   "cell_type": "code",
   "execution_count": 32,
   "metadata": {
    "ExecuteTime": {
     "end_time": "2021-02-17T04:52:54.162786Z",
     "start_time": "2021-02-17T04:52:54.144171Z"
    },
    "hidden": true,
    "scrolled": true
   },
   "outputs": [
    {
     "data": {
      "text/html": [
       "<div>\n",
       "<style scoped>\n",
       "    .dataframe tbody tr th:only-of-type {\n",
       "        vertical-align: middle;\n",
       "    }\n",
       "\n",
       "    .dataframe tbody tr th {\n",
       "        vertical-align: top;\n",
       "    }\n",
       "\n",
       "    .dataframe thead th {\n",
       "        text-align: right;\n",
       "    }\n",
       "</style>\n",
       "<table border=\"1\" class=\"dataframe\">\n",
       "  <thead>\n",
       "    <tr style=\"text-align: right;\">\n",
       "      <th></th>\n",
       "      <th>INDUSTRY</th>\n",
       "    </tr>\n",
       "  </thead>\n",
       "  <tbody>\n",
       "    <tr>\n",
       "      <th>Health Care Services &amp; Hospitals</th>\n",
       "      <td>216</td>\n",
       "    </tr>\n",
       "    <tr>\n",
       "      <th>Colleges &amp; Universities</th>\n",
       "      <td>161</td>\n",
       "    </tr>\n",
       "    <tr>\n",
       "      <th>Computer Hardware &amp; Software</th>\n",
       "      <td>90</td>\n",
       "    </tr>\n",
       "    <tr>\n",
       "      <th>IT Services</th>\n",
       "      <td>74</td>\n",
       "    </tr>\n",
       "    <tr>\n",
       "      <th>Staffing &amp; Outsourcing</th>\n",
       "      <td>70</td>\n",
       "    </tr>\n",
       "    <tr>\n",
       "      <th>Enterprise Software &amp; Network Solutions</th>\n",
       "      <td>67</td>\n",
       "    </tr>\n",
       "    <tr>\n",
       "      <th>Advertising &amp; Marketing</th>\n",
       "      <td>66</td>\n",
       "    </tr>\n",
       "    <tr>\n",
       "      <th>Insurance Carriers</th>\n",
       "      <td>62</td>\n",
       "    </tr>\n",
       "    <tr>\n",
       "      <th>Investment Banking &amp; Asset Management</th>\n",
       "      <td>58</td>\n",
       "    </tr>\n",
       "    <tr>\n",
       "      <th>Consumer Products Manufacturing</th>\n",
       "      <td>56</td>\n",
       "    </tr>\n",
       "  </tbody>\n",
       "</table>\n",
       "</div>"
      ],
      "text/plain": [
       "                                         INDUSTRY\n",
       "Health Care Services & Hospitals              216\n",
       "Colleges & Universities                       161\n",
       "Computer Hardware & Software                   90\n",
       "IT Services                                    74\n",
       "Staffing & Outsourcing                         70\n",
       "Enterprise Software & Network Solutions        67\n",
       "Advertising & Marketing                        66\n",
       "Insurance Carriers                             62\n",
       "Investment Banking & Asset Management          58\n",
       "Consumer Products Manufacturing                56"
      ]
     },
     "execution_count": 32,
     "metadata": {},
     "output_type": "execute_result"
    }
   ],
   "source": [
    "#Most common industries\n",
    "data.INDUSTRY.value_counts()[:10].to_frame()"
   ]
  },
  {
   "cell_type": "code",
   "execution_count": 33,
   "metadata": {
    "ExecuteTime": {
     "end_time": "2021-02-17T04:52:54.222884Z",
     "start_time": "2021-02-17T04:52:54.167599Z"
    },
    "hidden": true
   },
   "outputs": [
    {
     "data": {
      "text/html": [
       "<div>\n",
       "<style scoped>\n",
       "    .dataframe tbody tr th:only-of-type {\n",
       "        vertical-align: middle;\n",
       "    }\n",
       "\n",
       "    .dataframe tbody tr th {\n",
       "        vertical-align: top;\n",
       "    }\n",
       "\n",
       "    .dataframe thead th {\n",
       "        text-align: right;\n",
       "    }\n",
       "</style>\n",
       "<table border=\"1\" class=\"dataframe\">\n",
       "  <thead>\n",
       "    <tr style=\"text-align: right;\">\n",
       "      <th></th>\n",
       "      <th>SIZE</th>\n",
       "      <th>LOCATION_HQ</th>\n",
       "      <th>INDUSTRY</th>\n",
       "      <th>RATING_OVERALL</th>\n",
       "      <th>RATING_DI</th>\n",
       "      <th>RATING_CV</th>\n",
       "      <th>RATING_WL</th>\n",
       "      <th>RATING_SM</th>\n",
       "      <th>RATING_CB</th>\n",
       "      <th>RATING_CO</th>\n",
       "      <th>NUM_REVIEWS</th>\n",
       "      <th>DESCRIPTION</th>\n",
       "      <th>MISSION</th>\n",
       "      <th>FULL_DESCRIPTION</th>\n",
       "      <th>DESC_LEN</th>\n",
       "      <th>RATING_DI_BIN</th>\n",
       "      <th>SIZE_BIN</th>\n",
       "      <th>HQ_STATE</th>\n",
       "      <th>TARGET</th>\n",
       "    </tr>\n",
       "    <tr>\n",
       "      <th>NAME</th>\n",
       "      <th></th>\n",
       "      <th></th>\n",
       "      <th></th>\n",
       "      <th></th>\n",
       "      <th></th>\n",
       "      <th></th>\n",
       "      <th></th>\n",
       "      <th></th>\n",
       "      <th></th>\n",
       "      <th></th>\n",
       "      <th></th>\n",
       "      <th></th>\n",
       "      <th></th>\n",
       "      <th></th>\n",
       "      <th></th>\n",
       "      <th></th>\n",
       "      <th></th>\n",
       "      <th></th>\n",
       "      <th></th>\n",
       "    </tr>\n",
       "  </thead>\n",
       "  <tbody>\n",
       "    <tr>\n",
       "      <th>McKinsey &amp; Company</th>\n",
       "      <td>10000+ Employees</td>\n",
       "      <td>New York, NY</td>\n",
       "      <td>Consulting</td>\n",
       "      <td>4.5</td>\n",
       "      <td>4.4</td>\n",
       "      <td>4.4</td>\n",
       "      <td>3.0</td>\n",
       "      <td>4.1</td>\n",
       "      <td>4.4</td>\n",
       "      <td>4.5</td>\n",
       "      <td>5198</td>\n",
       "      <td>We work with leaders across sectors to tackle ...</td>\n",
       "      <td>Mission: Our mission is two-fold: to help our ...</td>\n",
       "      <td>We work with leaders across sectors to tackle ...</td>\n",
       "      <td>1383</td>\n",
       "      <td>4</td>\n",
       "      <td>4.0</td>\n",
       "      <td>NY</td>\n",
       "      <td>1</td>\n",
       "    </tr>\n",
       "    <tr>\n",
       "      <th>Cornell University</th>\n",
       "      <td>10000+ Employees</td>\n",
       "      <td>Ithaca, NY</td>\n",
       "      <td>Colleges &amp; Universities</td>\n",
       "      <td>4.5</td>\n",
       "      <td>4.3</td>\n",
       "      <td>4.4</td>\n",
       "      <td>4.0</td>\n",
       "      <td>4.1</td>\n",
       "      <td>4.1</td>\n",
       "      <td>4.2</td>\n",
       "      <td>1765</td>\n",
       "      <td>Cornell is a private, Ivy League university re...</td>\n",
       "      <td></td>\n",
       "      <td>Cornell is a private, Ivy League university re...</td>\n",
       "      <td>618</td>\n",
       "      <td>4</td>\n",
       "      <td>4.0</td>\n",
       "      <td>NY</td>\n",
       "      <td>1</td>\n",
       "    </tr>\n",
       "    <tr>\n",
       "      <th>UC Santa Barbara</th>\n",
       "      <td>5001 to 10000 Employees</td>\n",
       "      <td>Santa Barbara, CA</td>\n",
       "      <td>Colleges &amp; Universities</td>\n",
       "      <td>4.5</td>\n",
       "      <td>4.2</td>\n",
       "      <td>4.3</td>\n",
       "      <td>4.4</td>\n",
       "      <td>4.1</td>\n",
       "      <td>3.7</td>\n",
       "      <td>4.0</td>\n",
       "      <td>1049</td>\n",
       "      <td>Dude, let's hit the beach! And then we'll hit ...</td>\n",
       "      <td></td>\n",
       "      <td>Dude, let's hit the beach! And then we'll hit ...</td>\n",
       "      <td>654</td>\n",
       "      <td>4</td>\n",
       "      <td>3.0</td>\n",
       "      <td>CA</td>\n",
       "      <td>1</td>\n",
       "    </tr>\n",
       "  </tbody>\n",
       "</table>\n",
       "</div>"
      ],
      "text/plain": [
       "                                       SIZE        LOCATION_HQ  \\\n",
       "NAME                                                             \n",
       "McKinsey & Company         10000+ Employees       New York, NY   \n",
       "Cornell University         10000+ Employees         Ithaca, NY   \n",
       "UC Santa Barbara    5001 to 10000 Employees  Santa Barbara, CA   \n",
       "\n",
       "                                   INDUSTRY  RATING_OVERALL  RATING_DI  \\\n",
       "NAME                                                                     \n",
       "McKinsey & Company               Consulting             4.5        4.4   \n",
       "Cornell University  Colleges & Universities             4.5        4.3   \n",
       "UC Santa Barbara    Colleges & Universities             4.5        4.2   \n",
       "\n",
       "                    RATING_CV  RATING_WL  RATING_SM  RATING_CB  RATING_CO  \\\n",
       "NAME                                                                        \n",
       "McKinsey & Company        4.4        3.0        4.1        4.4        4.5   \n",
       "Cornell University        4.4        4.0        4.1        4.1        4.2   \n",
       "UC Santa Barbara          4.3        4.4        4.1        3.7        4.0   \n",
       "\n",
       "                    NUM_REVIEWS  \\\n",
       "NAME                              \n",
       "McKinsey & Company         5198   \n",
       "Cornell University         1765   \n",
       "UC Santa Barbara           1049   \n",
       "\n",
       "                                                          DESCRIPTION  \\\n",
       "NAME                                                                    \n",
       "McKinsey & Company  We work with leaders across sectors to tackle ...   \n",
       "Cornell University  Cornell is a private, Ivy League university re...   \n",
       "UC Santa Barbara    Dude, let's hit the beach! And then we'll hit ...   \n",
       "\n",
       "                                                              MISSION  \\\n",
       "NAME                                                                    \n",
       "McKinsey & Company  Mission: Our mission is two-fold: to help our ...   \n",
       "Cornell University                                                      \n",
       "UC Santa Barbara                                                        \n",
       "\n",
       "                                                     FULL_DESCRIPTION  \\\n",
       "NAME                                                                    \n",
       "McKinsey & Company  We work with leaders across sectors to tackle ...   \n",
       "Cornell University  Cornell is a private, Ivy League university re...   \n",
       "UC Santa Barbara    Dude, let's hit the beach! And then we'll hit ...   \n",
       "\n",
       "                    DESC_LEN  RATING_DI_BIN  SIZE_BIN HQ_STATE  TARGET  \n",
       "NAME                                                                    \n",
       "McKinsey & Company      1383              4       4.0       NY       1  \n",
       "Cornell University       618              4       4.0       NY       1  \n",
       "UC Santa Barbara         654              4       3.0       CA       1  "
      ]
     },
     "execution_count": 33,
     "metadata": {},
     "output_type": "execute_result"
    }
   ],
   "source": [
    "data.head(3)"
   ]
  },
  {
   "cell_type": "code",
   "execution_count": 34,
   "metadata": {
    "ExecuteTime": {
     "end_time": "2021-02-17T04:52:54.263427Z",
     "start_time": "2021-02-17T04:52:54.230890Z"
    },
    "hidden": true
   },
   "outputs": [
    {
     "name": "stdout",
     "output_type": "stream",
     "text": [
      "<class 'pandas.core.frame.DataFrame'>\n",
      "Index: 2225 entries, McKinsey & Company to eAssist\n",
      "Data columns (total 19 columns):\n",
      "SIZE                2225 non-null object\n",
      "LOCATION_HQ         2225 non-null object\n",
      "INDUSTRY            2225 non-null object\n",
      "RATING_OVERALL      2225 non-null float64\n",
      "RATING_DI           2225 non-null float64\n",
      "RATING_CV           2225 non-null float64\n",
      "RATING_WL           2225 non-null float64\n",
      "RATING_SM           2225 non-null float64\n",
      "RATING_CB           2225 non-null float64\n",
      "RATING_CO           2225 non-null float64\n",
      "NUM_REVIEWS         2225 non-null int64\n",
      "DESCRIPTION         2225 non-null object\n",
      "MISSION             2225 non-null object\n",
      "FULL_DESCRIPTION    2225 non-null object\n",
      "DESC_LEN            2225 non-null int64\n",
      "RATING_DI_BIN       2225 non-null int64\n",
      "SIZE_BIN            2161 non-null float64\n",
      "HQ_STATE            2225 non-null object\n",
      "TARGET              2225 non-null int64\n",
      "dtypes: float64(8), int64(4), object(7)\n",
      "memory usage: 427.7+ KB\n",
      "None\n"
     ]
    }
   ],
   "source": [
    "#Checking datatypes for plotting\n",
    "print(data.info()) #Sanity Check"
   ]
  },
  {
   "cell_type": "code",
   "execution_count": 35,
   "metadata": {
    "ExecuteTime": {
     "end_time": "2021-02-17T04:52:54.277836Z",
     "start_time": "2021-02-17T04:52:54.269274Z"
    },
    "hidden": true
   },
   "outputs": [],
   "source": [
    "# import seaborn as sns\n",
    "# import matplotlib.pyplot as plt"
   ]
  },
  {
   "cell_type": "code",
   "execution_count": 36,
   "metadata": {
    "ExecuteTime": {
     "end_time": "2021-02-17T04:52:58.281155Z",
     "start_time": "2021-02-17T04:52:54.283329Z"
    },
    "hidden": true,
    "scrolled": false
   },
   "outputs": [
    {
     "data": {
      "image/png": "[encoded data removed]",
      "text/plain": [
       "<Figure size 720x720 with 12 Axes>"
      ]
     },
     "metadata": {
      "needs_background": "light"
     },
     "output_type": "display_data"
    }
   ],
   "source": [
    "data.hist(bins=50, figsize=(10,10)) #sharex, sharey\n",
    "plt.show()"
   ]
  },
  {
   "cell_type": "markdown",
   "metadata": {
    "hidden": true
   },
   "source": [
    "Rating distributions are mostly normal"
   ]
  },
  {
   "cell_type": "code",
   "execution_count": 37,
   "metadata": {
    "ExecuteTime": {
     "end_time": "2021-02-17T04:52:59.764399Z",
     "start_time": "2021-02-17T04:52:58.296588Z"
    },
    "hidden": true
   },
   "outputs": [
    {
     "data": {
      "image/png": "[encoded data removed]",
      "text/plain": [
       "<Figure size 720x432 with 2 Axes>"
      ]
     },
     "metadata": {
      "needs_background": "light"
     },
     "output_type": "display_data"
    }
   ],
   "source": [
    "# Looking for any hidden correlations between continuous variables\n",
    "\n",
    "fig, ax = plt.subplots(figsize=(10, 6))\n",
    "\n",
    "corr = data.corr()\n",
    "\n",
    "# Generate a mask for the upper triangle\n",
    "mask = np.zeros_like(corr, dtype=np.bool)\n",
    "mask[np.triu_indices_from(mask)] = True\n",
    "\n",
    "sns.heatmap(corr, mask=mask, cmap='bwr', center=0, annot=True)\n",
    "\n",
    "# fix for matplotlib bug that cuts off top/bottom of seaborn viz\n",
    "b, t = plt.ylim() # discover the values for bottom and top\n",
    "b += 0.5 # Add 0.5 to the bottom\n",
    "t -= 0.5 # Subtract 0.5 from the top\n",
    "plt.ylim(b, t) # update the ylim(bottom, top) values\n",
    "\n",
    "plt.show()"
   ]
  },
  {
   "cell_type": "code",
   "execution_count": 38,
   "metadata": {
    "ExecuteTime": {
     "end_time": "2021-02-17T04:53:23.491417Z",
     "start_time": "2021-02-17T04:52:59.788023Z"
    },
    "hidden": true,
    "scrolled": false
   },
   "outputs": [
    {
     "data": {
      "text/plain": [
       "<seaborn.axisgrid.PairGrid at 0x7fbac5bab9e8>"
      ]
     },
     "execution_count": 38,
     "metadata": {},
     "output_type": "execute_result"
    },
    {
     "data": {
      "image/png": "[encoded data removed]",
      "text/plain": [
       "<Figure size 1080x1080 with 27 Axes>"
      ]
     },
     "metadata": {
      "needs_background": "light"
     },
     "output_type": "display_data"
    }
   ],
   "source": [
    "###find a better plot for this (bubbles?)\n",
    "#continuous variables\n",
    "sns.pairplot(data[['RATING_DI', 'RATING_DI_BIN', 'RATING_OVERALL', 'SIZE_BIN', 'SIZE', 'NUM_REVIEWS', 'DESC_LEN']], corner=True)\n"
   ]
  },
  {
   "cell_type": "code",
   "execution_count": 39,
   "metadata": {
    "ExecuteTime": {
     "end_time": "2021-02-17T04:53:23.524197Z",
     "start_time": "2021-02-17T04:53:23.493412Z"
    },
    "hidden": true
   },
   "outputs": [
    {
     "data": {
      "text/html": [
       "<div>\n",
       "<style scoped>\n",
       "    .dataframe tbody tr th:only-of-type {\n",
       "        vertical-align: middle;\n",
       "    }\n",
       "\n",
       "    .dataframe tbody tr th {\n",
       "        vertical-align: top;\n",
       "    }\n",
       "\n",
       "    .dataframe thead th {\n",
       "        text-align: right;\n",
       "    }\n",
       "</style>\n",
       "<table border=\"1\" class=\"dataframe\">\n",
       "  <thead>\n",
       "    <tr style=\"text-align: right;\">\n",
       "      <th></th>\n",
       "      <th>SIZE</th>\n",
       "      <th>LOCATION_HQ</th>\n",
       "      <th>INDUSTRY</th>\n",
       "      <th>RATING_OVERALL</th>\n",
       "      <th>RATING_DI</th>\n",
       "      <th>RATING_CV</th>\n",
       "      <th>RATING_WL</th>\n",
       "      <th>RATING_SM</th>\n",
       "      <th>RATING_CB</th>\n",
       "      <th>RATING_CO</th>\n",
       "      <th>NUM_REVIEWS</th>\n",
       "      <th>DESCRIPTION</th>\n",
       "      <th>MISSION</th>\n",
       "      <th>FULL_DESCRIPTION</th>\n",
       "      <th>DESC_LEN</th>\n",
       "      <th>RATING_DI_BIN</th>\n",
       "      <th>SIZE_BIN</th>\n",
       "      <th>HQ_STATE</th>\n",
       "      <th>TARGET</th>\n",
       "    </tr>\n",
       "    <tr>\n",
       "      <th>NAME</th>\n",
       "      <th></th>\n",
       "      <th></th>\n",
       "      <th></th>\n",
       "      <th></th>\n",
       "      <th></th>\n",
       "      <th></th>\n",
       "      <th></th>\n",
       "      <th></th>\n",
       "      <th></th>\n",
       "      <th></th>\n",
       "      <th></th>\n",
       "      <th></th>\n",
       "      <th></th>\n",
       "      <th></th>\n",
       "      <th></th>\n",
       "      <th></th>\n",
       "      <th></th>\n",
       "      <th></th>\n",
       "      <th></th>\n",
       "    </tr>\n",
       "  </thead>\n",
       "  <tbody>\n",
       "    <tr>\n",
       "      <th>McKinsey &amp; Company</th>\n",
       "      <td>10000+ Employees</td>\n",
       "      <td>New York, NY</td>\n",
       "      <td>Consulting</td>\n",
       "      <td>4.5</td>\n",
       "      <td>4.4</td>\n",
       "      <td>4.4</td>\n",
       "      <td>3.0</td>\n",
       "      <td>4.1</td>\n",
       "      <td>4.4</td>\n",
       "      <td>4.5</td>\n",
       "      <td>5198</td>\n",
       "      <td>We work with leaders across sectors to tackle ...</td>\n",
       "      <td>Mission: Our mission is two-fold: to help our ...</td>\n",
       "      <td>We work with leaders across sectors to tackle ...</td>\n",
       "      <td>1383</td>\n",
       "      <td>4</td>\n",
       "      <td>4.0</td>\n",
       "      <td>NY</td>\n",
       "      <td>1</td>\n",
       "    </tr>\n",
       "    <tr>\n",
       "      <th>Cornell University</th>\n",
       "      <td>10000+ Employees</td>\n",
       "      <td>Ithaca, NY</td>\n",
       "      <td>Colleges &amp; Universities</td>\n",
       "      <td>4.5</td>\n",
       "      <td>4.3</td>\n",
       "      <td>4.4</td>\n",
       "      <td>4.0</td>\n",
       "      <td>4.1</td>\n",
       "      <td>4.1</td>\n",
       "      <td>4.2</td>\n",
       "      <td>1765</td>\n",
       "      <td>Cornell is a private, Ivy League university re...</td>\n",
       "      <td></td>\n",
       "      <td>Cornell is a private, Ivy League university re...</td>\n",
       "      <td>618</td>\n",
       "      <td>4</td>\n",
       "      <td>4.0</td>\n",
       "      <td>NY</td>\n",
       "      <td>1</td>\n",
       "    </tr>\n",
       "    <tr>\n",
       "      <th>UC Santa Barbara</th>\n",
       "      <td>5001 to 10000 Employees</td>\n",
       "      <td>Santa Barbara, CA</td>\n",
       "      <td>Colleges &amp; Universities</td>\n",
       "      <td>4.5</td>\n",
       "      <td>4.2</td>\n",
       "      <td>4.3</td>\n",
       "      <td>4.4</td>\n",
       "      <td>4.1</td>\n",
       "      <td>3.7</td>\n",
       "      <td>4.0</td>\n",
       "      <td>1049</td>\n",
       "      <td>Dude, let's hit the beach! And then we'll hit ...</td>\n",
       "      <td></td>\n",
       "      <td>Dude, let's hit the beach! And then we'll hit ...</td>\n",
       "      <td>654</td>\n",
       "      <td>4</td>\n",
       "      <td>3.0</td>\n",
       "      <td>CA</td>\n",
       "      <td>1</td>\n",
       "    </tr>\n",
       "  </tbody>\n",
       "</table>\n",
       "</div>"
      ],
      "text/plain": [
       "                                       SIZE        LOCATION_HQ  \\\n",
       "NAME                                                             \n",
       "McKinsey & Company         10000+ Employees       New York, NY   \n",
       "Cornell University         10000+ Employees         Ithaca, NY   \n",
       "UC Santa Barbara    5001 to 10000 Employees  Santa Barbara, CA   \n",
       "\n",
       "                                   INDUSTRY  RATING_OVERALL  RATING_DI  \\\n",
       "NAME                                                                     \n",
       "McKinsey & Company               Consulting             4.5        4.4   \n",
       "Cornell University  Colleges & Universities             4.5        4.3   \n",
       "UC Santa Barbara    Colleges & Universities             4.5        4.2   \n",
       "\n",
       "                    RATING_CV  RATING_WL  RATING_SM  RATING_CB  RATING_CO  \\\n",
       "NAME                                                                        \n",
       "McKinsey & Company        4.4        3.0        4.1        4.4        4.5   \n",
       "Cornell University        4.4        4.0        4.1        4.1        4.2   \n",
       "UC Santa Barbara          4.3        4.4        4.1        3.7        4.0   \n",
       "\n",
       "                    NUM_REVIEWS  \\\n",
       "NAME                              \n",
       "McKinsey & Company         5198   \n",
       "Cornell University         1765   \n",
       "UC Santa Barbara           1049   \n",
       "\n",
       "                                                          DESCRIPTION  \\\n",
       "NAME                                                                    \n",
       "McKinsey & Company  We work with leaders across sectors to tackle ...   \n",
       "Cornell University  Cornell is a private, Ivy League university re...   \n",
       "UC Santa Barbara    Dude, let's hit the beach! And then we'll hit ...   \n",
       "\n",
       "                                                              MISSION  \\\n",
       "NAME                                                                    \n",
       "McKinsey & Company  Mission: Our mission is two-fold: to help our ...   \n",
       "Cornell University                                                      \n",
       "UC Santa Barbara                                                        \n",
       "\n",
       "                                                     FULL_DESCRIPTION  \\\n",
       "NAME                                                                    \n",
       "McKinsey & Company  We work with leaders across sectors to tackle ...   \n",
       "Cornell University  Cornell is a private, Ivy League university re...   \n",
       "UC Santa Barbara    Dude, let's hit the beach! And then we'll hit ...   \n",
       "\n",
       "                    DESC_LEN  RATING_DI_BIN  SIZE_BIN HQ_STATE  TARGET  \n",
       "NAME                                                                    \n",
       "McKinsey & Company      1383              4       4.0       NY       1  \n",
       "Cornell University       618              4       4.0       NY       1  \n",
       "UC Santa Barbara         654              4       3.0       CA       1  "
      ]
     },
     "execution_count": 39,
     "metadata": {},
     "output_type": "execute_result"
    }
   ],
   "source": [
    "data.head(3)"
   ]
  },
  {
   "cell_type": "code",
   "execution_count": 40,
   "metadata": {
    "ExecuteTime": {
     "end_time": "2021-02-17T04:54:13.974740Z",
     "start_time": "2021-02-17T04:53:23.526423Z"
    },
    "hidden": true,
    "scrolled": false
   },
   "outputs": [
    {
     "data": {
      "image/png": "[encoded data removed]",
      "text/plain": [
       "<Figure size 1080x720 with 6 Axes>"
      ]
     },
     "metadata": {
      "needs_background": "light"
     },
     "output_type": "display_data"
    }
   ],
   "source": [
    "# Bar plots of categorical data\n",
    "#zipcode explored later\n",
    "fig, axes = plt.subplots(nrows=2, ncols=3, figsize=(15,10))\n",
    "\n",
    "categoricals = ['SIZE', 'SIZE_BIN', 'INDUSTRY', 'NUM_REVIEWS', 'DESC_LEN', 'HQ_STATE']\n",
    "\n",
    "for col, ax in zip(categoricals, axes.flatten()):\n",
    "    (data.groupby(col)               # group values together by column of interest\n",
    "         .mean()['RATING_DI']        # take the mean of the saleprice for each group\n",
    "         .plot\n",
    "         .bar(ax=ax))                # create a bar graph on the ax    \n",
    "    ax.set_title(col)                # Make the title the name of the column\n",
    "fig.tight_layout()"
   ]
  },
  {
   "cell_type": "markdown",
   "metadata": {},
   "source": [
    "### Exploring Target Variable: Rating"
   ]
  },
  {
   "cell_type": "code",
   "execution_count": 41,
   "metadata": {
    "ExecuteTime": {
     "end_time": "2021-02-17T04:54:14.023177Z",
     "start_time": "2021-02-17T04:54:13.982014Z"
    },
    "scrolled": true
   },
   "outputs": [
    {
     "data": {
      "text/plain": [
       "1001 to 5000 Employees     848\n",
       "10000+ Employees           725\n",
       "5001 to 10000 Employees    355\n",
       "51 to 200 Employees        220\n",
       "1 to 50 Employees           57\n",
       "201 to 500 Employees         8\n",
       "Unknown                      7\n",
       "501 to 1000 Employees        5\n",
       "Name: SIZE, dtype: int64"
      ]
     },
     "execution_count": 41,
     "metadata": {},
     "output_type": "execute_result"
    }
   ],
   "source": [
    "data.SIZE.value_counts()"
   ]
  },
  {
   "cell_type": "code",
   "execution_count": 42,
   "metadata": {
    "ExecuteTime": {
     "end_time": "2021-02-17T04:54:14.439766Z",
     "start_time": "2021-02-17T04:54:14.056919Z"
    },
    "scrolled": true
   },
   "outputs": [
    {
     "data": {
      "image/png": "[encoded data removed]",
      "text/plain": [
       "<Figure size 432x288 with 1 Axes>"
      ]
     },
     "metadata": {
      "needs_background": "light"
     },
     "output_type": "display_data"
    }
   ],
   "source": [
    "#Distribution of ratings\n",
    "data.plot(kind='hist', \n",
    "          x='SIZE_BIN', \n",
    "          y='RATING_DI')\n",
    "plt.show()"
   ]
  },
  {
   "cell_type": "code",
   "execution_count": 43,
   "metadata": {
    "ExecuteTime": {
     "end_time": "2021-02-17T04:54:14.793621Z",
     "start_time": "2021-02-17T04:54:14.447191Z"
    }
   },
   "outputs": [
    {
     "data": {
      "text/plain": [
       "Text(0.5, 0, 'Company Size')"
      ]
     },
     "execution_count": 43,
     "metadata": {},
     "output_type": "execute_result"
    },
    {
     "data": {
      "image/png": "[encoded data removed]",
      "text/plain": [
       "<Figure size 432x288 with 1 Axes>"
      ]
     },
     "metadata": {
      "needs_background": "light"
     },
     "output_type": "display_data"
    }
   ],
   "source": [
    "# Percentages (normalize = True)\n",
    "x = data.groupby('SIZE_BIN')['RATING_DI_BIN'].value_counts(normalize=True).unstack() * 100\n",
    "\n",
    "fig,ax = plt.subplots()\n",
    "x.plot.bar(stacked=True,ax=ax,)\n",
    "\n",
    "ax.legend(bbox_to_anchor=(1.1, 1.05))\n",
    "plt.title('Percentage of Ratings')\n",
    "plt.xlabel('Company Size')"
   ]
  },
  {
   "cell_type": "code",
   "execution_count": 44,
   "metadata": {
    "ExecuteTime": {
     "end_time": "2021-02-17T04:54:15.266089Z",
     "start_time": "2021-02-17T04:54:14.796532Z"
    }
   },
   "outputs": [
    {
     "data": {
      "text/plain": [
       "Text(0.5, 0, 'Company Size')"
      ]
     },
     "execution_count": 44,
     "metadata": {},
     "output_type": "execute_result"
    },
    {
     "data": {
      "image/png": "[encoded data removed]",
      "text/plain": [
       "<Figure size 432x288 with 1 Axes>"
      ]
     },
     "metadata": {
      "needs_background": "light"
     },
     "output_type": "display_data"
    }
   ],
   "source": [
    "# Percentages (normalize = True)\n",
    "x = data.groupby('SIZE')['RATING_DI_BIN'].value_counts().unstack() * 100\n",
    "\n",
    "fig,ax = plt.subplots()\n",
    "x.plot.bar(stacked=True,ax=ax,)\n",
    "\n",
    "ax.legend(bbox_to_anchor=(1.1, 1.05))\n",
    "plt.title('Percentage of ratings by company size')\n",
    "plt.xlabel('Company Size')"
   ]
  },
  {
   "cell_type": "code",
   "execution_count": 45,
   "metadata": {
    "ExecuteTime": {
     "end_time": "2021-02-17T04:54:15.288580Z",
     "start_time": "2021-02-17T04:54:15.269668Z"
    },
    "scrolled": false
   },
   "outputs": [
    {
     "data": {
      "text/html": [
       "<div>\n",
       "<style scoped>\n",
       "    .dataframe tbody tr th:only-of-type {\n",
       "        vertical-align: middle;\n",
       "    }\n",
       "\n",
       "    .dataframe tbody tr th {\n",
       "        vertical-align: top;\n",
       "    }\n",
       "\n",
       "    .dataframe thead th {\n",
       "        text-align: right;\n",
       "    }\n",
       "</style>\n",
       "<table border=\"1\" class=\"dataframe\">\n",
       "  <thead>\n",
       "    <tr style=\"text-align: right;\">\n",
       "      <th></th>\n",
       "      <th></th>\n",
       "      <th>RATING_DI_BIN</th>\n",
       "    </tr>\n",
       "    <tr>\n",
       "      <th>SIZE</th>\n",
       "      <th>RATING_DI_BIN</th>\n",
       "      <th></th>\n",
       "    </tr>\n",
       "  </thead>\n",
       "  <tbody>\n",
       "    <tr>\n",
       "      <th rowspan=\"5\" valign=\"top\">1 to 50 Employees</th>\n",
       "      <th>1</th>\n",
       "      <td>0.052632</td>\n",
       "    </tr>\n",
       "    <tr>\n",
       "      <th>2</th>\n",
       "      <td>0.035088</td>\n",
       "    </tr>\n",
       "    <tr>\n",
       "      <th>3</th>\n",
       "      <td>0.473684</td>\n",
       "    </tr>\n",
       "    <tr>\n",
       "      <th>4</th>\n",
       "      <td>0.368421</td>\n",
       "    </tr>\n",
       "    <tr>\n",
       "      <th>5</th>\n",
       "      <td>0.070175</td>\n",
       "    </tr>\n",
       "    <tr>\n",
       "      <th rowspan=\"4\" valign=\"top\">10000+ Employees</th>\n",
       "      <th>2</th>\n",
       "      <td>0.009655</td>\n",
       "    </tr>\n",
       "    <tr>\n",
       "      <th>3</th>\n",
       "      <td>0.460690</td>\n",
       "    </tr>\n",
       "    <tr>\n",
       "      <th>4</th>\n",
       "      <td>0.528276</td>\n",
       "    </tr>\n",
       "    <tr>\n",
       "      <th>5</th>\n",
       "      <td>0.001379</td>\n",
       "    </tr>\n",
       "    <tr>\n",
       "      <th rowspan=\"5\" valign=\"top\">1001 to 5000 Employees</th>\n",
       "      <th>1</th>\n",
       "      <td>0.001179</td>\n",
       "    </tr>\n",
       "    <tr>\n",
       "      <th>2</th>\n",
       "      <td>0.018868</td>\n",
       "    </tr>\n",
       "    <tr>\n",
       "      <th>3</th>\n",
       "      <td>0.380896</td>\n",
       "    </tr>\n",
       "    <tr>\n",
       "      <th>4</th>\n",
       "      <td>0.581368</td>\n",
       "    </tr>\n",
       "    <tr>\n",
       "      <th>5</th>\n",
       "      <td>0.017689</td>\n",
       "    </tr>\n",
       "    <tr>\n",
       "      <th rowspan=\"3\" valign=\"top\">201 to 500 Employees</th>\n",
       "      <th>3</th>\n",
       "      <td>0.250000</td>\n",
       "    </tr>\n",
       "    <tr>\n",
       "      <th>4</th>\n",
       "      <td>0.625000</td>\n",
       "    </tr>\n",
       "    <tr>\n",
       "      <th>5</th>\n",
       "      <td>0.125000</td>\n",
       "    </tr>\n",
       "    <tr>\n",
       "      <th rowspan=\"5\" valign=\"top\">5001 to 10000 Employees</th>\n",
       "      <th>1</th>\n",
       "      <td>0.002817</td>\n",
       "    </tr>\n",
       "    <tr>\n",
       "      <th>2</th>\n",
       "      <td>0.014085</td>\n",
       "    </tr>\n",
       "    <tr>\n",
       "      <th>3</th>\n",
       "      <td>0.408451</td>\n",
       "    </tr>\n",
       "    <tr>\n",
       "      <th>4</th>\n",
       "      <td>0.571831</td>\n",
       "    </tr>\n",
       "    <tr>\n",
       "      <th>5</th>\n",
       "      <td>0.002817</td>\n",
       "    </tr>\n",
       "    <tr>\n",
       "      <th rowspan=\"2\" valign=\"top\">501 to 1000 Employees</th>\n",
       "      <th>3</th>\n",
       "      <td>0.800000</td>\n",
       "    </tr>\n",
       "    <tr>\n",
       "      <th>4</th>\n",
       "      <td>0.200000</td>\n",
       "    </tr>\n",
       "    <tr>\n",
       "      <th rowspan=\"5\" valign=\"top\">51 to 200 Employees</th>\n",
       "      <th>1</th>\n",
       "      <td>0.059091</td>\n",
       "    </tr>\n",
       "    <tr>\n",
       "      <th>2</th>\n",
       "      <td>0.090909</td>\n",
       "    </tr>\n",
       "    <tr>\n",
       "      <th>3</th>\n",
       "      <td>0.336364</td>\n",
       "    </tr>\n",
       "    <tr>\n",
       "      <th>4</th>\n",
       "      <td>0.436364</td>\n",
       "    </tr>\n",
       "    <tr>\n",
       "      <th>5</th>\n",
       "      <td>0.077273</td>\n",
       "    </tr>\n",
       "    <tr>\n",
       "      <th rowspan=\"4\" valign=\"top\">Unknown</th>\n",
       "      <th>1</th>\n",
       "      <td>0.142857</td>\n",
       "    </tr>\n",
       "    <tr>\n",
       "      <th>3</th>\n",
       "      <td>0.142857</td>\n",
       "    </tr>\n",
       "    <tr>\n",
       "      <th>4</th>\n",
       "      <td>0.571429</td>\n",
       "    </tr>\n",
       "    <tr>\n",
       "      <th>5</th>\n",
       "      <td>0.142857</td>\n",
       "    </tr>\n",
       "  </tbody>\n",
       "</table>\n",
       "</div>"
      ],
      "text/plain": [
       "                                       RATING_DI_BIN\n",
       "SIZE                    RATING_DI_BIN               \n",
       "1 to 50 Employees       1                   0.052632\n",
       "                        2                   0.035088\n",
       "                        3                   0.473684\n",
       "                        4                   0.368421\n",
       "                        5                   0.070175\n",
       "10000+ Employees        2                   0.009655\n",
       "                        3                   0.460690\n",
       "                        4                   0.528276\n",
       "                        5                   0.001379\n",
       "1001 to 5000 Employees  1                   0.001179\n",
       "                        2                   0.018868\n",
       "                        3                   0.380896\n",
       "                        4                   0.581368\n",
       "                        5                   0.017689\n",
       "201 to 500 Employees    3                   0.250000\n",
       "                        4                   0.625000\n",
       "                        5                   0.125000\n",
       "5001 to 10000 Employees 1                   0.002817\n",
       "                        2                   0.014085\n",
       "                        3                   0.408451\n",
       "                        4                   0.571831\n",
       "                        5                   0.002817\n",
       "501 to 1000 Employees   3                   0.800000\n",
       "                        4                   0.200000\n",
       "51 to 200 Employees     1                   0.059091\n",
       "                        2                   0.090909\n",
       "                        3                   0.336364\n",
       "                        4                   0.436364\n",
       "                        5                   0.077273\n",
       "Unknown                 1                   0.142857\n",
       "                        3                   0.142857\n",
       "                        4                   0.571429\n",
       "                        5                   0.142857"
      ]
     },
     "execution_count": 45,
     "metadata": {},
     "output_type": "execute_result"
    }
   ],
   "source": [
    "##Size vs Rating DI\n",
    "data.groupby('SIZE')['RATING_DI_BIN'].value_counts(normalize=True, sort=False).to_frame()#[:50]"
   ]
  },
  {
   "cell_type": "markdown",
   "metadata": {},
   "source": [
    "### Inspecting INDUSTRY"
   ]
  },
  {
   "cell_type": "code",
   "execution_count": 46,
   "metadata": {
    "ExecuteTime": {
     "end_time": "2021-02-17T04:54:15.299009Z",
     "start_time": "2021-02-17T04:54:15.291740Z"
    }
   },
   "outputs": [
    {
     "name": "stdout",
     "output_type": "stream",
     "text": [
      "Number of industries:  126\n"
     ]
    }
   ],
   "source": [
    "print('Number of industries: ', len(data.INDUSTRY.unique())) #126\n",
    "\n",
    "# Uncomment below line to see all industries\n",
    "#list(data.INDUSTRY.unique())\n"
   ]
  },
  {
   "cell_type": "code",
   "execution_count": 47,
   "metadata": {
    "ExecuteTime": {
     "end_time": "2021-02-17T04:54:15.327782Z",
     "start_time": "2021-02-17T04:54:15.305254Z"
    },
    "scrolled": true
   },
   "outputs": [
    {
     "data": {
      "text/html": [
       "<div>\n",
       "<style scoped>\n",
       "    .dataframe tbody tr th:only-of-type {\n",
       "        vertical-align: middle;\n",
       "    }\n",
       "\n",
       "    .dataframe tbody tr th {\n",
       "        vertical-align: top;\n",
       "    }\n",
       "\n",
       "    .dataframe thead th {\n",
       "        text-align: right;\n",
       "    }\n",
       "</style>\n",
       "<table border=\"1\" class=\"dataframe\">\n",
       "  <thead>\n",
       "    <tr style=\"text-align: right;\">\n",
       "      <th></th>\n",
       "      <th>INDUSTRY</th>\n",
       "    </tr>\n",
       "  </thead>\n",
       "  <tbody>\n",
       "    <tr>\n",
       "      <th>Health Care Services &amp; Hospitals</th>\n",
       "      <td>216</td>\n",
       "    </tr>\n",
       "    <tr>\n",
       "      <th>Colleges &amp; Universities</th>\n",
       "      <td>161</td>\n",
       "    </tr>\n",
       "    <tr>\n",
       "      <th>Computer Hardware &amp; Software</th>\n",
       "      <td>90</td>\n",
       "    </tr>\n",
       "    <tr>\n",
       "      <th>IT Services</th>\n",
       "      <td>74</td>\n",
       "    </tr>\n",
       "    <tr>\n",
       "      <th>Staffing &amp; Outsourcing</th>\n",
       "      <td>70</td>\n",
       "    </tr>\n",
       "    <tr>\n",
       "      <th>Enterprise Software &amp; Network Solutions</th>\n",
       "      <td>67</td>\n",
       "    </tr>\n",
       "    <tr>\n",
       "      <th>Advertising &amp; Marketing</th>\n",
       "      <td>66</td>\n",
       "    </tr>\n",
       "    <tr>\n",
       "      <th>Insurance Carriers</th>\n",
       "      <td>62</td>\n",
       "    </tr>\n",
       "    <tr>\n",
       "      <th>Investment Banking &amp; Asset Management</th>\n",
       "      <td>58</td>\n",
       "    </tr>\n",
       "    <tr>\n",
       "      <th>Consumer Products Manufacturing</th>\n",
       "      <td>56</td>\n",
       "    </tr>\n",
       "    <tr>\n",
       "      <th>Consulting</th>\n",
       "      <td>50</td>\n",
       "    </tr>\n",
       "    <tr>\n",
       "      <th>Department, Clothing, &amp; Shoe Stores</th>\n",
       "      <td>48</td>\n",
       "    </tr>\n",
       "    <tr>\n",
       "      <th>Banks &amp; Credit Unions</th>\n",
       "      <td>46</td>\n",
       "    </tr>\n",
       "    <tr>\n",
       "      <th>Industrial Manufacturing</th>\n",
       "      <td>43</td>\n",
       "    </tr>\n",
       "    <tr>\n",
       "      <th>Casual Restaurants</th>\n",
       "      <td>43</td>\n",
       "    </tr>\n",
       "    <tr>\n",
       "      <th>Federal Agencies</th>\n",
       "      <td>41</td>\n",
       "    </tr>\n",
       "    <tr>\n",
       "      <th>Internet</th>\n",
       "      <td>40</td>\n",
       "    </tr>\n",
       "    <tr>\n",
       "      <th>Biotech &amp; Pharmaceuticals</th>\n",
       "      <td>40</td>\n",
       "    </tr>\n",
       "    <tr>\n",
       "      <th>Electrical &amp; Electronic Manufacturing</th>\n",
       "      <td>39</td>\n",
       "    </tr>\n",
       "    <tr>\n",
       "      <th>Construction</th>\n",
       "      <td>35</td>\n",
       "    </tr>\n",
       "    <tr>\n",
       "      <th>Food &amp; Beverage Manufacturing</th>\n",
       "      <td>33</td>\n",
       "    </tr>\n",
       "    <tr>\n",
       "      <th>Energy</th>\n",
       "      <td>32</td>\n",
       "    </tr>\n",
       "    <tr>\n",
       "      <th>Hotels, Motels, &amp; Resorts</th>\n",
       "      <td>31</td>\n",
       "    </tr>\n",
       "    <tr>\n",
       "      <th>Real Estate</th>\n",
       "      <td>31</td>\n",
       "    </tr>\n",
       "    <tr>\n",
       "      <th>Social Assistance</th>\n",
       "      <td>31</td>\n",
       "    </tr>\n",
       "    <tr>\n",
       "      <th>Fast-Food &amp; Quick-Service Restaurants</th>\n",
       "      <td>29</td>\n",
       "    </tr>\n",
       "    <tr>\n",
       "      <th>Transportation Equipment Manufacturing</th>\n",
       "      <td>24</td>\n",
       "    </tr>\n",
       "    <tr>\n",
       "      <th>K-12 Education</th>\n",
       "      <td>22</td>\n",
       "    </tr>\n",
       "    <tr>\n",
       "      <th>Aerospace &amp; Defense</th>\n",
       "      <td>21</td>\n",
       "    </tr>\n",
       "    <tr>\n",
       "      <th>Legal</th>\n",
       "      <td>21</td>\n",
       "    </tr>\n",
       "    <tr>\n",
       "      <th>Insurance Agencies &amp; Brokerages</th>\n",
       "      <td>21</td>\n",
       "    </tr>\n",
       "    <tr>\n",
       "      <th>Other Retail Stores</th>\n",
       "      <td>21</td>\n",
       "    </tr>\n",
       "    <tr>\n",
       "      <th>Lending</th>\n",
       "      <td>19</td>\n",
       "    </tr>\n",
       "    <tr>\n",
       "      <th>Grocery Stores &amp; Supermarkets</th>\n",
       "      <td>19</td>\n",
       "    </tr>\n",
       "    <tr>\n",
       "      <th>Chemical Manufacturing</th>\n",
       "      <td>18</td>\n",
       "    </tr>\n",
       "    <tr>\n",
       "      <th>Wholesale</th>\n",
       "      <td>17</td>\n",
       "    </tr>\n",
       "    <tr>\n",
       "      <th>Sports &amp; Recreation</th>\n",
       "      <td>17</td>\n",
       "    </tr>\n",
       "    <tr>\n",
       "      <th>Utilities</th>\n",
       "      <td>17</td>\n",
       "    </tr>\n",
       "    <tr>\n",
       "      <th>Health, Beauty, &amp; Fitness</th>\n",
       "      <td>17</td>\n",
       "    </tr>\n",
       "    <tr>\n",
       "      <th>Municipal Governments</th>\n",
       "      <td>16</td>\n",
       "    </tr>\n",
       "    <tr>\n",
       "      <th>Catering &amp; Food Service Contractors</th>\n",
       "      <td>15</td>\n",
       "    </tr>\n",
       "    <tr>\n",
       "      <th>Vehicle Dealers</th>\n",
       "      <td>14</td>\n",
       "    </tr>\n",
       "    <tr>\n",
       "      <th>Research &amp; Development</th>\n",
       "      <td>14</td>\n",
       "    </tr>\n",
       "    <tr>\n",
       "      <th>Publishing</th>\n",
       "      <td>14</td>\n",
       "    </tr>\n",
       "    <tr>\n",
       "      <th>Architectural &amp; Engineering Services</th>\n",
       "      <td>13</td>\n",
       "    </tr>\n",
       "    <tr>\n",
       "      <th>Education Training Services</th>\n",
       "      <td>12</td>\n",
       "    </tr>\n",
       "    <tr>\n",
       "      <th>Logistics &amp; Supply Chain</th>\n",
       "      <td>12</td>\n",
       "    </tr>\n",
       "    <tr>\n",
       "      <th>Cable, Internet &amp; Telephone Providers</th>\n",
       "      <td>11</td>\n",
       "    </tr>\n",
       "    <tr>\n",
       "      <th>Building &amp; Personnel Services</th>\n",
       "      <td>11</td>\n",
       "    </tr>\n",
       "    <tr>\n",
       "      <th>Home Furniture &amp; Housewares Stores</th>\n",
       "      <td>10</td>\n",
       "    </tr>\n",
       "  </tbody>\n",
       "</table>\n",
       "</div>"
      ],
      "text/plain": [
       "                                         INDUSTRY\n",
       "Health Care Services & Hospitals              216\n",
       "Colleges & Universities                       161\n",
       "Computer Hardware & Software                   90\n",
       "IT Services                                    74\n",
       "Staffing & Outsourcing                         70\n",
       "Enterprise Software & Network Solutions        67\n",
       "Advertising & Marketing                        66\n",
       "Insurance Carriers                             62\n",
       "Investment Banking & Asset Management          58\n",
       "Consumer Products Manufacturing                56\n",
       "Consulting                                     50\n",
       "Department, Clothing, & Shoe Stores            48\n",
       "Banks & Credit Unions                          46\n",
       "Industrial Manufacturing                       43\n",
       "Casual Restaurants                             43\n",
       "Federal Agencies                               41\n",
       "Internet                                       40\n",
       "Biotech & Pharmaceuticals                      40\n",
       "Electrical & Electronic Manufacturing          39\n",
       "Construction                                   35\n",
       "Food & Beverage Manufacturing                  33\n",
       "Energy                                         32\n",
       "Hotels, Motels, & Resorts                      31\n",
       "Real Estate                                    31\n",
       "Social Assistance                              31\n",
       "Fast-Food & Quick-Service Restaurants          29\n",
       "Transportation Equipment Manufacturing         24\n",
       "K-12 Education                                 22\n",
       "Aerospace & Defense                            21\n",
       "Legal                                          21\n",
       "Insurance Agencies & Brokerages                21\n",
       "Other Retail Stores                            21\n",
       "Lending                                        19\n",
       "Grocery Stores & Supermarkets                  19\n",
       "Chemical Manufacturing                         18\n",
       "Wholesale                                      17\n",
       "Sports & Recreation                            17\n",
       "Utilities                                      17\n",
       "Health, Beauty, & Fitness                      17\n",
       "Municipal Governments                          16\n",
       "Catering & Food Service Contractors            15\n",
       "Vehicle Dealers                                14\n",
       "Research & Development                         14\n",
       "Publishing                                     14\n",
       "Architectural & Engineering Services           13\n",
       "Education Training Services                    12\n",
       "Logistics & Supply Chain                       12\n",
       "Cable, Internet & Telephone Providers          11\n",
       "Building & Personnel Services                  11\n",
       "Home Furniture & Housewares Stores             10"
      ]
     },
     "execution_count": 47,
     "metadata": {},
     "output_type": "execute_result"
    }
   ],
   "source": [
    "# Top 50 with value counts\n",
    "data.INDUSTRY.value_counts()[:50].to_frame()"
   ]
  },
  {
   "cell_type": "code",
   "execution_count": 48,
   "metadata": {
    "ExecuteTime": {
     "end_time": "2021-02-17T04:54:15.339838Z",
     "start_time": "2021-02-17T04:54:15.334504Z"
    },
    "scrolled": true
   },
   "outputs": [],
   "source": [
    "# Uncomment below line to see bottom 50 industries with value counts\n",
    "#data.INDUSTRY.value_counts(ascending=True)[:50].to_frame()"
   ]
  },
  {
   "cell_type": "code",
   "execution_count": null,
   "metadata": {},
   "outputs": [],
   "source": []
  },
  {
   "cell_type": "code",
   "execution_count": null,
   "metadata": {},
   "outputs": [],
   "source": []
  },
  {
   "cell_type": "code",
   "execution_count": null,
   "metadata": {},
   "outputs": [],
   "source": []
  },
  {
   "cell_type": "code",
   "execution_count": null,
   "metadata": {},
   "outputs": [],
   "source": []
  },
  {
   "cell_type": "markdown",
   "metadata": {
    "heading_collapsed": true
   },
   "source": [
    "## Saving final CSV"
   ]
  },
  {
   "cell_type": "code",
   "execution_count": 49,
   "metadata": {
    "ExecuteTime": {
     "end_time": "2021-02-17T04:54:15.391600Z",
     "start_time": "2021-02-17T04:54:15.346914Z"
    },
    "hidden": true
   },
   "outputs": [
    {
     "data": {
      "text/html": [
       "<div>\n",
       "<style scoped>\n",
       "    .dataframe tbody tr th:only-of-type {\n",
       "        vertical-align: middle;\n",
       "    }\n",
       "\n",
       "    .dataframe tbody tr th {\n",
       "        vertical-align: top;\n",
       "    }\n",
       "\n",
       "    .dataframe thead th {\n",
       "        text-align: right;\n",
       "    }\n",
       "</style>\n",
       "<table border=\"1\" class=\"dataframe\">\n",
       "  <thead>\n",
       "    <tr style=\"text-align: right;\">\n",
       "      <th></th>\n",
       "      <th>SIZE</th>\n",
       "      <th>LOCATION_HQ</th>\n",
       "      <th>INDUSTRY</th>\n",
       "      <th>RATING_OVERALL</th>\n",
       "      <th>RATING_DI</th>\n",
       "      <th>RATING_CV</th>\n",
       "      <th>RATING_WL</th>\n",
       "      <th>RATING_SM</th>\n",
       "      <th>RATING_CB</th>\n",
       "      <th>RATING_CO</th>\n",
       "      <th>NUM_REVIEWS</th>\n",
       "      <th>DESCRIPTION</th>\n",
       "      <th>MISSION</th>\n",
       "      <th>FULL_DESCRIPTION</th>\n",
       "      <th>DESC_LEN</th>\n",
       "      <th>RATING_DI_BIN</th>\n",
       "      <th>SIZE_BIN</th>\n",
       "      <th>HQ_STATE</th>\n",
       "      <th>TARGET</th>\n",
       "    </tr>\n",
       "    <tr>\n",
       "      <th>NAME</th>\n",
       "      <th></th>\n",
       "      <th></th>\n",
       "      <th></th>\n",
       "      <th></th>\n",
       "      <th></th>\n",
       "      <th></th>\n",
       "      <th></th>\n",
       "      <th></th>\n",
       "      <th></th>\n",
       "      <th></th>\n",
       "      <th></th>\n",
       "      <th></th>\n",
       "      <th></th>\n",
       "      <th></th>\n",
       "      <th></th>\n",
       "      <th></th>\n",
       "      <th></th>\n",
       "      <th></th>\n",
       "      <th></th>\n",
       "    </tr>\n",
       "  </thead>\n",
       "  <tbody>\n",
       "    <tr>\n",
       "      <th>McKinsey &amp; Company</th>\n",
       "      <td>10000+ Employees</td>\n",
       "      <td>New York, NY</td>\n",
       "      <td>Consulting</td>\n",
       "      <td>4.5</td>\n",
       "      <td>4.4</td>\n",
       "      <td>4.4</td>\n",
       "      <td>3.0</td>\n",
       "      <td>4.1</td>\n",
       "      <td>4.4</td>\n",
       "      <td>4.5</td>\n",
       "      <td>5198</td>\n",
       "      <td>We work with leaders across sectors to tackle ...</td>\n",
       "      <td>Mission: Our mission is two-fold: to help our ...</td>\n",
       "      <td>We work with leaders across sectors to tackle ...</td>\n",
       "      <td>1383</td>\n",
       "      <td>4</td>\n",
       "      <td>4.0</td>\n",
       "      <td>NY</td>\n",
       "      <td>1</td>\n",
       "    </tr>\n",
       "    <tr>\n",
       "      <th>Cornell University</th>\n",
       "      <td>10000+ Employees</td>\n",
       "      <td>Ithaca, NY</td>\n",
       "      <td>Colleges &amp; Universities</td>\n",
       "      <td>4.5</td>\n",
       "      <td>4.3</td>\n",
       "      <td>4.4</td>\n",
       "      <td>4.0</td>\n",
       "      <td>4.1</td>\n",
       "      <td>4.1</td>\n",
       "      <td>4.2</td>\n",
       "      <td>1765</td>\n",
       "      <td>Cornell is a private, Ivy League university re...</td>\n",
       "      <td></td>\n",
       "      <td>Cornell is a private, Ivy League university re...</td>\n",
       "      <td>618</td>\n",
       "      <td>4</td>\n",
       "      <td>4.0</td>\n",
       "      <td>NY</td>\n",
       "      <td>1</td>\n",
       "    </tr>\n",
       "    <tr>\n",
       "      <th>UC Santa Barbara</th>\n",
       "      <td>5001 to 10000 Employees</td>\n",
       "      <td>Santa Barbara, CA</td>\n",
       "      <td>Colleges &amp; Universities</td>\n",
       "      <td>4.5</td>\n",
       "      <td>4.2</td>\n",
       "      <td>4.3</td>\n",
       "      <td>4.4</td>\n",
       "      <td>4.1</td>\n",
       "      <td>3.7</td>\n",
       "      <td>4.0</td>\n",
       "      <td>1049</td>\n",
       "      <td>Dude, let's hit the beach! And then we'll hit ...</td>\n",
       "      <td></td>\n",
       "      <td>Dude, let's hit the beach! And then we'll hit ...</td>\n",
       "      <td>654</td>\n",
       "      <td>4</td>\n",
       "      <td>3.0</td>\n",
       "      <td>CA</td>\n",
       "      <td>1</td>\n",
       "    </tr>\n",
       "  </tbody>\n",
       "</table>\n",
       "</div>"
      ],
      "text/plain": [
       "                                       SIZE        LOCATION_HQ  \\\n",
       "NAME                                                             \n",
       "McKinsey & Company         10000+ Employees       New York, NY   \n",
       "Cornell University         10000+ Employees         Ithaca, NY   \n",
       "UC Santa Barbara    5001 to 10000 Employees  Santa Barbara, CA   \n",
       "\n",
       "                                   INDUSTRY  RATING_OVERALL  RATING_DI  \\\n",
       "NAME                                                                     \n",
       "McKinsey & Company               Consulting             4.5        4.4   \n",
       "Cornell University  Colleges & Universities             4.5        4.3   \n",
       "UC Santa Barbara    Colleges & Universities             4.5        4.2   \n",
       "\n",
       "                    RATING_CV  RATING_WL  RATING_SM  RATING_CB  RATING_CO  \\\n",
       "NAME                                                                        \n",
       "McKinsey & Company        4.4        3.0        4.1        4.4        4.5   \n",
       "Cornell University        4.4        4.0        4.1        4.1        4.2   \n",
       "UC Santa Barbara          4.3        4.4        4.1        3.7        4.0   \n",
       "\n",
       "                    NUM_REVIEWS  \\\n",
       "NAME                              \n",
       "McKinsey & Company         5198   \n",
       "Cornell University         1765   \n",
       "UC Santa Barbara           1049   \n",
       "\n",
       "                                                          DESCRIPTION  \\\n",
       "NAME                                                                    \n",
       "McKinsey & Company  We work with leaders across sectors to tackle ...   \n",
       "Cornell University  Cornell is a private, Ivy League university re...   \n",
       "UC Santa Barbara    Dude, let's hit the beach! And then we'll hit ...   \n",
       "\n",
       "                                                              MISSION  \\\n",
       "NAME                                                                    \n",
       "McKinsey & Company  Mission: Our mission is two-fold: to help our ...   \n",
       "Cornell University                                                      \n",
       "UC Santa Barbara                                                        \n",
       "\n",
       "                                                     FULL_DESCRIPTION  \\\n",
       "NAME                                                                    \n",
       "McKinsey & Company  We work with leaders across sectors to tackle ...   \n",
       "Cornell University  Cornell is a private, Ivy League university re...   \n",
       "UC Santa Barbara    Dude, let's hit the beach! And then we'll hit ...   \n",
       "\n",
       "                    DESC_LEN  RATING_DI_BIN  SIZE_BIN HQ_STATE  TARGET  \n",
       "NAME                                                                    \n",
       "McKinsey & Company      1383              4       4.0       NY       1  \n",
       "Cornell University       618              4       4.0       NY       1  \n",
       "UC Santa Barbara         654              4       3.0       CA       1  "
      ]
     },
     "execution_count": 49,
     "metadata": {},
     "output_type": "execute_result"
    }
   ],
   "source": [
    "data.head(3) #Sanity Check"
   ]
  },
  {
   "cell_type": "markdown",
   "metadata": {
    "hidden": true
   },
   "source": [
    "**Save updated CSV including all features**"
   ]
  },
  {
   "cell_type": "code",
   "execution_count": 50,
   "metadata": {
    "ExecuteTime": {
     "end_time": "2021-02-17T04:54:15.652455Z",
     "start_time": "2021-02-17T04:54:15.409688Z"
    },
    "hidden": true
   },
   "outputs": [],
   "source": [
    "data.to_csv('data/glassdoor_ratings_main.csv', index=False)"
   ]
  },
  {
   "cell_type": "code",
   "execution_count": null,
   "metadata": {
    "hidden": true
   },
   "outputs": [],
   "source": []
  },
  {
   "cell_type": "code",
   "execution_count": null,
   "metadata": {
    "hidden": true
   },
   "outputs": [],
   "source": []
  },
  {
   "cell_type": "code",
   "execution_count": null,
   "metadata": {
    "hidden": true
   },
   "outputs": [],
   "source": []
  },
  {
   "cell_type": "markdown",
   "metadata": {},
   "source": [
    "## Do we need any of the below cells?"
   ]
  },
  {
   "cell_type": "markdown",
   "metadata": {},
   "source": [
    "**Create and save DTM (document term matrix)**"
   ]
  },
  {
   "cell_type": "code",
   "execution_count": 51,
   "metadata": {
    "ExecuteTime": {
     "end_time": "2021-02-17T04:54:15.659999Z",
     "start_time": "2021-02-17T04:54:15.654960Z"
    }
   },
   "outputs": [],
   "source": [
    "# ##This cell creates DF of only clean description and company name - same thing as data.CLEAN_DESCRIPTION\n",
    "# ## UNNECESSARY STEP?\n",
    "\n",
    "\n",
    "# # Creating a new df of only CLEAN_DESCRIPTION\n",
    "# df_clean_description = data[['CLEAN_DESCRIPTION']]\n",
    "\n",
    "# # Take a look\n",
    "# df_clean_description.head()"
   ]
  },
  {
   "cell_type": "code",
   "execution_count": 52,
   "metadata": {
    "ExecuteTime": {
     "end_time": "2021-02-17T04:54:15.668983Z",
     "start_time": "2021-02-17T04:54:15.664358Z"
    }
   },
   "outputs": [],
   "source": [
    "# #saving for NLP EDA -- DO I NEED THIS??\n",
    "# df_clean_description.to_csv('data/df_clean_description.csv', index=False)"
   ]
  },
  {
   "cell_type": "markdown",
   "metadata": {
    "heading_collapsed": true
   },
   "source": [
    "## EDA on NLP - keep in this notebook? transfer over?\n",
    "Using data term matrix"
   ]
  },
  {
   "cell_type": "code",
   "execution_count": 53,
   "metadata": {
    "ExecuteTime": {
     "end_time": "2021-02-17T04:54:15.701683Z",
     "start_time": "2021-02-17T04:54:15.672888Z"
    },
    "hidden": true
   },
   "outputs": [
    {
     "data": {
      "text/html": [
       "<div>\n",
       "<style scoped>\n",
       "    .dataframe tbody tr th:only-of-type {\n",
       "        vertical-align: middle;\n",
       "    }\n",
       "\n",
       "    .dataframe tbody tr th {\n",
       "        vertical-align: top;\n",
       "    }\n",
       "\n",
       "    .dataframe thead th {\n",
       "        text-align: right;\n",
       "    }\n",
       "</style>\n",
       "<table border=\"1\" class=\"dataframe\">\n",
       "  <thead>\n",
       "    <tr style=\"text-align: right;\">\n",
       "      <th></th>\n",
       "      <th>SIZE</th>\n",
       "      <th>LOCATION_HQ</th>\n",
       "      <th>INDUSTRY</th>\n",
       "      <th>RATING_OVERALL</th>\n",
       "      <th>RATING_DI</th>\n",
       "      <th>RATING_CV</th>\n",
       "      <th>RATING_WL</th>\n",
       "      <th>RATING_SM</th>\n",
       "      <th>RATING_CB</th>\n",
       "      <th>RATING_CO</th>\n",
       "      <th>NUM_REVIEWS</th>\n",
       "      <th>DESCRIPTION</th>\n",
       "      <th>MISSION</th>\n",
       "      <th>FULL_DESCRIPTION</th>\n",
       "      <th>DESC_LEN</th>\n",
       "      <th>RATING_DI_BIN</th>\n",
       "      <th>SIZE_BIN</th>\n",
       "      <th>HQ_STATE</th>\n",
       "      <th>TARGET</th>\n",
       "    </tr>\n",
       "    <tr>\n",
       "      <th>NAME</th>\n",
       "      <th></th>\n",
       "      <th></th>\n",
       "      <th></th>\n",
       "      <th></th>\n",
       "      <th></th>\n",
       "      <th></th>\n",
       "      <th></th>\n",
       "      <th></th>\n",
       "      <th></th>\n",
       "      <th></th>\n",
       "      <th></th>\n",
       "      <th></th>\n",
       "      <th></th>\n",
       "      <th></th>\n",
       "      <th></th>\n",
       "      <th></th>\n",
       "      <th></th>\n",
       "      <th></th>\n",
       "      <th></th>\n",
       "    </tr>\n",
       "  </thead>\n",
       "  <tbody>\n",
       "    <tr>\n",
       "      <th>McKinsey &amp; Company</th>\n",
       "      <td>10000+ Employees</td>\n",
       "      <td>New York, NY</td>\n",
       "      <td>Consulting</td>\n",
       "      <td>4.5</td>\n",
       "      <td>4.4</td>\n",
       "      <td>4.4</td>\n",
       "      <td>3.0</td>\n",
       "      <td>4.1</td>\n",
       "      <td>4.4</td>\n",
       "      <td>4.5</td>\n",
       "      <td>5198</td>\n",
       "      <td>We work with leaders across sectors to tackle ...</td>\n",
       "      <td>Mission: Our mission is two-fold: to help our ...</td>\n",
       "      <td>We work with leaders across sectors to tackle ...</td>\n",
       "      <td>1383</td>\n",
       "      <td>4</td>\n",
       "      <td>4.0</td>\n",
       "      <td>NY</td>\n",
       "      <td>1</td>\n",
       "    </tr>\n",
       "    <tr>\n",
       "      <th>Cornell University</th>\n",
       "      <td>10000+ Employees</td>\n",
       "      <td>Ithaca, NY</td>\n",
       "      <td>Colleges &amp; Universities</td>\n",
       "      <td>4.5</td>\n",
       "      <td>4.3</td>\n",
       "      <td>4.4</td>\n",
       "      <td>4.0</td>\n",
       "      <td>4.1</td>\n",
       "      <td>4.1</td>\n",
       "      <td>4.2</td>\n",
       "      <td>1765</td>\n",
       "      <td>Cornell is a private, Ivy League university re...</td>\n",
       "      <td></td>\n",
       "      <td>Cornell is a private, Ivy League university re...</td>\n",
       "      <td>618</td>\n",
       "      <td>4</td>\n",
       "      <td>4.0</td>\n",
       "      <td>NY</td>\n",
       "      <td>1</td>\n",
       "    </tr>\n",
       "    <tr>\n",
       "      <th>UC Santa Barbara</th>\n",
       "      <td>5001 to 10000 Employees</td>\n",
       "      <td>Santa Barbara, CA</td>\n",
       "      <td>Colleges &amp; Universities</td>\n",
       "      <td>4.5</td>\n",
       "      <td>4.2</td>\n",
       "      <td>4.3</td>\n",
       "      <td>4.4</td>\n",
       "      <td>4.1</td>\n",
       "      <td>3.7</td>\n",
       "      <td>4.0</td>\n",
       "      <td>1049</td>\n",
       "      <td>Dude, let's hit the beach! And then we'll hit ...</td>\n",
       "      <td></td>\n",
       "      <td>Dude, let's hit the beach! And then we'll hit ...</td>\n",
       "      <td>654</td>\n",
       "      <td>4</td>\n",
       "      <td>3.0</td>\n",
       "      <td>CA</td>\n",
       "      <td>1</td>\n",
       "    </tr>\n",
       "  </tbody>\n",
       "</table>\n",
       "</div>"
      ],
      "text/plain": [
       "                                       SIZE        LOCATION_HQ  \\\n",
       "NAME                                                             \n",
       "McKinsey & Company         10000+ Employees       New York, NY   \n",
       "Cornell University         10000+ Employees         Ithaca, NY   \n",
       "UC Santa Barbara    5001 to 10000 Employees  Santa Barbara, CA   \n",
       "\n",
       "                                   INDUSTRY  RATING_OVERALL  RATING_DI  \\\n",
       "NAME                                                                     \n",
       "McKinsey & Company               Consulting             4.5        4.4   \n",
       "Cornell University  Colleges & Universities             4.5        4.3   \n",
       "UC Santa Barbara    Colleges & Universities             4.5        4.2   \n",
       "\n",
       "                    RATING_CV  RATING_WL  RATING_SM  RATING_CB  RATING_CO  \\\n",
       "NAME                                                                        \n",
       "McKinsey & Company        4.4        3.0        4.1        4.4        4.5   \n",
       "Cornell University        4.4        4.0        4.1        4.1        4.2   \n",
       "UC Santa Barbara          4.3        4.4        4.1        3.7        4.0   \n",
       "\n",
       "                    NUM_REVIEWS  \\\n",
       "NAME                              \n",
       "McKinsey & Company         5198   \n",
       "Cornell University         1765   \n",
       "UC Santa Barbara           1049   \n",
       "\n",
       "                                                          DESCRIPTION  \\\n",
       "NAME                                                                    \n",
       "McKinsey & Company  We work with leaders across sectors to tackle ...   \n",
       "Cornell University  Cornell is a private, Ivy League university re...   \n",
       "UC Santa Barbara    Dude, let's hit the beach! And then we'll hit ...   \n",
       "\n",
       "                                                              MISSION  \\\n",
       "NAME                                                                    \n",
       "McKinsey & Company  Mission: Our mission is two-fold: to help our ...   \n",
       "Cornell University                                                      \n",
       "UC Santa Barbara                                                        \n",
       "\n",
       "                                                     FULL_DESCRIPTION  \\\n",
       "NAME                                                                    \n",
       "McKinsey & Company  We work with leaders across sectors to tackle ...   \n",
       "Cornell University  Cornell is a private, Ivy League university re...   \n",
       "UC Santa Barbara    Dude, let's hit the beach! And then we'll hit ...   \n",
       "\n",
       "                    DESC_LEN  RATING_DI_BIN  SIZE_BIN HQ_STATE  TARGET  \n",
       "NAME                                                                    \n",
       "McKinsey & Company      1383              4       4.0       NY       1  \n",
       "Cornell University       618              4       4.0       NY       1  \n",
       "UC Santa Barbara         654              4       3.0       CA       1  "
      ]
     },
     "execution_count": 53,
     "metadata": {},
     "output_type": "execute_result"
    }
   ],
   "source": [
    "data.head(3)"
   ]
  },
  {
   "cell_type": "code",
   "execution_count": 54,
   "metadata": {
    "ExecuteTime": {
     "end_time": "2021-02-17T04:54:16.994570Z",
     "start_time": "2021-02-17T04:54:15.704939Z"
    },
    "hidden": true
   },
   "outputs": [],
   "source": [
    "from nltk.corpus import stopwords"
   ]
  },
  {
   "cell_type": "code",
   "execution_count": 55,
   "metadata": {
    "ExecuteTime": {
     "end_time": "2021-02-17T04:54:17.009638Z",
     "start_time": "2021-02-17T04:54:16.996978Z"
    },
    "hidden": true
   },
   "outputs": [],
   "source": [
    "## setting stopwords and punctuations\n",
    "sw_list = stopwords.words('english')\n",
    "sw_list += list(string.punctuation) #appending to stopwords\n",
    "sw_list += [\"''\", '\"\"', '...', '``', '’', '“', '’', '”', '‘', '‘', '',\n",
    "            '-', '–', '—', '--', 'e.g', \"'ll\", \"'ve\", \"'s\",\n",
    "            'company', 'services', 'world', 'people', 'care', 'health', 'us',\n",
    "           ]\n",
    "sw_set = set(sw_list) #list of stop words - why do I need to make it a set?\n"
   ]
  },
  {
   "cell_type": "code",
   "execution_count": 56,
   "metadata": {
    "ExecuteTime": {
     "end_time": "2021-02-17T04:54:17.813258Z",
     "start_time": "2021-02-17T04:54:17.012231Z"
    },
    "hidden": true
   },
   "outputs": [
    {
     "ename": "AttributeError",
     "evalue": "'DataFrame' object has no attribute 'CLEAN_DESCRIPTION'",
     "output_type": "error",
     "traceback": [
      "\u001b[0;31m--------------------\u001b[0m",
      "\u001b[0;31mAttributeError\u001b[0mTraceback (most recent call last)",
      "\u001b[0;32m<ipython-input-56-9d391bc54a8b>\u001b[0m in \u001b[0;36m<module>\u001b[0;34m()\u001b[0m\n\u001b[0;32m----> 1\u001b[0;31m \u001b[0mdata\u001b[0m\u001b[0;34m.\u001b[0m\u001b[0mCLEAN_DESCRIPTION\u001b[0m\u001b[0;34m.\u001b[0m\u001b[0mto_frame\u001b[0m\u001b[0;34m(\u001b[0m\u001b[0;34m)\u001b[0m\u001b[0;34m.\u001b[0m\u001b[0mhead\u001b[0m\u001b[0;34m(\u001b[0m\u001b[0;34m)\u001b[0m\u001b[0;34m\u001b[0m\u001b[0;34m\u001b[0m\u001b[0m\n\u001b[0m",
      "\u001b[0;32m/Users/candaur/opt/anaconda3/envs/learn-env/lib/python3.6/site-packages/pandas/core/generic.py\u001b[0m in \u001b[0;36m__getattr__\u001b[0;34m(self, name)\u001b[0m\n\u001b[1;32m   5177\u001b[0m             \u001b[0;32mif\u001b[0m \u001b[0mself\u001b[0m\u001b[0;34m.\u001b[0m\u001b[0m_info_axis\u001b[0m\u001b[0;34m.\u001b[0m\u001b[0m_can_hold_identifiers_and_holds_name\u001b[0m\u001b[0;34m(\u001b[0m\u001b[0mname\u001b[0m\u001b[0;34m)\u001b[0m\u001b[0;34m:\u001b[0m\u001b[0;34m\u001b[0m\u001b[0;34m\u001b[0m\u001b[0m\n\u001b[1;32m   5178\u001b[0m                 \u001b[0;32mreturn\u001b[0m \u001b[0mself\u001b[0m\u001b[0;34m[\u001b[0m\u001b[0mname\u001b[0m\u001b[0;34m]\u001b[0m\u001b[0;34m\u001b[0m\u001b[0;34m\u001b[0m\u001b[0m\n\u001b[0;32m-> 5179\u001b[0;31m             \u001b[0;32mreturn\u001b[0m \u001b[0mobject\u001b[0m\u001b[0;34m.\u001b[0m\u001b[0m__getattribute__\u001b[0m\u001b[0;34m(\u001b[0m\u001b[0mself\u001b[0m\u001b[0;34m,\u001b[0m \u001b[0mname\u001b[0m\u001b[0;34m)\u001b[0m\u001b[0;34m\u001b[0m\u001b[0;34m\u001b[0m\u001b[0m\n\u001b[0m\u001b[1;32m   5180\u001b[0m \u001b[0;34m\u001b[0m\u001b[0m\n\u001b[1;32m   5181\u001b[0m     \u001b[0;32mdef\u001b[0m \u001b[0m__setattr__\u001b[0m\u001b[0;34m(\u001b[0m\u001b[0mself\u001b[0m\u001b[0;34m,\u001b[0m \u001b[0mname\u001b[0m\u001b[0;34m,\u001b[0m \u001b[0mvalue\u001b[0m\u001b[0;34m)\u001b[0m\u001b[0;34m:\u001b[0m\u001b[0;34m\u001b[0m\u001b[0;34m\u001b[0m\u001b[0m\n",
      "\u001b[0;31mAttributeError\u001b[0m: 'DataFrame' object has no attribute 'CLEAN_DESCRIPTION'"
     ]
    }
   ],
   "source": [
    "data.CLEAN_DESCRIPTION.to_frame().head()"
   ]
  },
  {
   "cell_type": "code",
   "execution_count": null,
   "metadata": {
    "ExecuteTime": {
     "end_time": "2021-02-17T04:54:17.818949Z",
     "start_time": "2021-02-17T04:52:43.099Z"
    },
    "hidden": true
   },
   "outputs": [],
   "source": [
    "from sklearn.feature_extraction.text import CountVectorizer"
   ]
  },
  {
   "cell_type": "code",
   "execution_count": null,
   "metadata": {
    "ExecuteTime": {
     "end_time": "2021-02-17T04:54:17.822168Z",
     "start_time": "2021-02-17T04:52:43.107Z"
    },
    "hidden": true,
    "scrolled": true
   },
   "outputs": [],
   "source": [
    "#Create a document-term matrix using CountVectorizer, and exclude previously defined stopwords\n",
    "\n",
    "#remove stop words\n",
    "cv = CountVectorizer(stop_words=sw_list)\n",
    "data_cv = cv.fit_transform(data.CLEAN_DESCRIPTION)\n",
    "\n",
    "data_stop = pd.DataFrame(data_cv.toarray(), columns=cv.get_feature_names())\n",
    "data_stop.index = data.CLEAN_DESCRIPTION.index\n",
    "\n",
    "#create data_dtm\n",
    "data_dtm = pd.DataFrame(data_cv.toarray(), columns=cv.get_feature_names())\n",
    "data_dtm.index = data.CLEAN_DESCRIPTION.index\n",
    "data_dtm"
   ]
  },
  {
   "cell_type": "code",
   "execution_count": null,
   "metadata": {
    "ExecuteTime": {
     "end_time": "2021-02-17T04:54:17.826213Z",
     "start_time": "2021-02-17T04:52:43.231Z"
    },
    "hidden": true
   },
   "outputs": [],
   "source": [
    "# import pickle\n",
    "\n",
    "# #Saving for later use\n",
    "# data_dtm.to_csv('data/dtm.csv', index=False)\n",
    "\n",
    "# #saving cv stop words\n",
    "# pickle.dump(cv, open(\"data/cv_stop.pkl\", \"wb\"))\n",
    "\n",
    "# #data_stop.to_pickle(\"dtm_stop.pkl\")\n",
    "# #data_dtm.to_pickle('data/dtm.pkl')"
   ]
  },
  {
   "cell_type": "code",
   "execution_count": null,
   "metadata": {
    "hidden": true
   },
   "outputs": [],
   "source": []
  },
  {
   "cell_type": "markdown",
   "metadata": {},
   "source": [
    "## Notes"
   ]
  },
  {
   "cell_type": "markdown",
   "metadata": {},
   "source": [
    "Extras:\n",
    "- test new scraper on \"Retail\"\n",
    "\n",
    "Stretch:\n",
    "- map out the cities for a map\n",
    "- EDA: are larger companies more likely to be inclusive?\n"
   ]
  },
  {
   "cell_type": "code",
   "execution_count": null,
   "metadata": {},
   "outputs": [],
   "source": []
  }
 ],
 "metadata": {
  "kernelspec": {
   "display_name": "Python 3",
   "language": "python",
   "name": "python3"
  },
  "language_info": {
   "codemirror_mode": {
    "name": "ipython",
    "version": 3
   },
   "file_extension": ".py",
   "mimetype": "text/x-python",
   "name": "python",
   "nbconvert_exporter": "python",
   "pygments_lexer": "ipython3",
   "version": "3.6.9"
  },
  "toc": {
   "base_numbering": 1,
   "nav_menu": {},
   "number_sections": true,
   "sideBar": true,
   "skip_h1_title": false,
   "title_cell": "Table of Contents",
   "title_sidebar": "Contents",
   "toc_cell": false,
   "toc_position": {},
   "toc_section_display": true,
   "toc_window_display": false
  }
 },
 "nbformat": 4,
 "nbformat_minor": 4
}
