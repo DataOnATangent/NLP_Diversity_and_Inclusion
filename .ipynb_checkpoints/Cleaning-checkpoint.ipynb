{
 "cells": [
  {
   "cell_type": "markdown",
   "metadata": {},
   "source": [
    "# Cleaning CSV Files"
   ]
  },
  {
   "cell_type": "code",
   "execution_count": 1,
   "metadata": {
    "ExecuteTime": {
     "end_time": "2021-02-09T00:02:25.341235Z",
     "start_time": "2021-02-09T00:02:23.810932Z"
    }
   },
   "outputs": [],
   "source": [
    "import pandas as pd\n",
    "import numpy as np\n",
    "\n",
    "pd.options.display.max_rows = 50"
   ]
  },
  {
   "cell_type": "markdown",
   "metadata": {},
   "source": [
    "**Read in Data**"
   ]
  },
  {
   "cell_type": "code",
   "execution_count": 2,
   "metadata": {
    "ExecuteTime": {
     "end_time": "2021-02-09T00:02:25.472118Z",
     "start_time": "2021-02-09T00:02:25.356549Z"
    }
   },
   "outputs": [
    {
     "name": "stdout",
     "output_type": "stream",
     "text": [
      "Length of data set:  1941\n",
      "Number of duplicates:  583\n"
     ]
    }
   ],
   "source": [
    "df1 = pd.read_csv('data/glassdoor_ratings1_62.csv')#, index_col=0) #index_col=0 to remove numeric index\n",
    "df2 = pd.read_csv('data/glassdoor_ratings2_37.csv')#, index_col=0)\n",
    "df3 = pd.read_csv('data/glassdoor_ratings3_199.csv')#, index_col=0)\n",
    "df4 = pd.read_csv('data/glassdoor_ratings5_797.csv')#, index_col=0)\n",
    "df5 = pd.read_csv('data/glassdoor_ratings6_846.csv')#, index_col=0)\n",
    "\n",
    "#Combine data frames\n",
    "data = pd.concat([df1, df2, df3, df4, df5])\n",
    "\n",
    "print('Length of data set: ',len(data))\n",
    "print('Number of duplicates: ', data.duplicated().sum())"
   ]
  },
  {
   "cell_type": "code",
   "execution_count": 3,
   "metadata": {
    "ExecuteTime": {
     "end_time": "2021-02-09T00:02:25.543599Z",
     "start_time": "2021-02-09T00:02:25.478706Z"
    },
    "collapsed": true
   },
   "outputs": [
    {
     "name": "stdout",
     "output_type": "stream",
     "text": [
      "<class 'pandas.core.frame.DataFrame'>\n",
      "RangeIndex: 1941 entries, 0 to 1940\n",
      "Data columns (total 15 columns):\n",
      "index             1941 non-null int64\n",
      "NAME              1941 non-null object\n",
      "SIZE              1941 non-null object\n",
      "LOCATION_HQ       1941 non-null object\n",
      "INDUSTRY          1941 non-null object\n",
      "RATING_OVERALL    1797 non-null float64\n",
      "RATING_DI         1793 non-null float64\n",
      "RATING_CV         1797 non-null float64\n",
      "RATING_WL         1797 non-null float64\n",
      "RATING_SM         1797 non-null float64\n",
      "RATING_CB         1797 non-null float64\n",
      "RATING_CO         1797 non-null float64\n",
      "NUM_REVIEWS       1941 non-null object\n",
      "DESCRIPTION       1900 non-null object\n",
      "MISSION           434 non-null object\n",
      "dtypes: float64(7), int64(1), object(7)\n",
      "memory usage: 227.6+ KB\n"
     ]
    }
   ],
   "source": [
    "#Reset index to see all rows\n",
    "data.reset_index(inplace=True)\n",
    "\n",
    "#Check out dataframe\n",
    "print(data.shape)\n",
    "df.head()"
   ]
  },
  {
   "cell_type": "code",
   "execution_count": 5,
   "metadata": {
    "ExecuteTime": {
     "end_time": "2021-02-09T00:02:26.259419Z",
     "start_time": "2021-02-09T00:02:26.247295Z"
    },
    "scrolled": true
   },
   "outputs": [],
   "source": [
    "#Drop duplicate companies by 'NAME' - drops size from 1941 to 1188\n",
    "data.drop_duplicates(subset='NAME', keep='last', inplace=True)\n",
    "data = data.drop(['index'], axis=1)"
   ]
  },
  {
   "cell_type": "code",
   "execution_count": 8,
   "metadata": {
    "ExecuteTime": {
     "end_time": "2021-02-09T00:02:47.489560Z",
     "start_time": "2021-02-09T00:02:47.473521Z"
    }
   },
   "outputs": [],
   "source": [
    "#reset index to begin at 0\n",
    "data.reset_index(inplace=True)"
   ]
  },
  {
   "cell_type": "code",
   "execution_count": 10,
   "metadata": {
    "ExecuteTime": {
     "end_time": "2021-02-09T00:03:09.560417Z",
     "start_time": "2021-02-09T00:03:09.542319Z"
    }
   },
   "outputs": [],
   "source": [
    "#drop extra indices\n",
    "data = data.drop(['index', 'level_0'], axis=1)"
   ]
  },
  {
   "cell_type": "markdown",
   "metadata": {},
   "source": [
    "## Cleaned indices and duplicates gone"
   ]
  },
  {
   "cell_type": "code",
   "execution_count": 20,
   "metadata": {
    "ExecuteTime": {
     "end_time": "2021-02-09T00:12:48.775224Z",
     "start_time": "2021-02-09T00:12:48.747330Z"
    },
    "scrolled": false
   },
   "outputs": [
    {
     "name": "stdout",
     "output_type": "stream",
     "text": [
      "Shape:  (1188, 14)\n"
     ]
    },
    {
     "data": {
      "text/html": [
       "<div>\n",
       "<style scoped>\n",
       "    .dataframe tbody tr th:only-of-type {\n",
       "        vertical-align: middle;\n",
       "    }\n",
       "\n",
       "    .dataframe tbody tr th {\n",
       "        vertical-align: top;\n",
       "    }\n",
       "\n",
       "    .dataframe thead th {\n",
       "        text-align: right;\n",
       "    }\n",
       "</style>\n",
       "<table border=\"1\" class=\"dataframe\">\n",
       "  <thead>\n",
       "    <tr style=\"text-align: right;\">\n",
       "      <th></th>\n",
       "      <th>NAME</th>\n",
       "      <th>SIZE</th>\n",
       "      <th>LOCATION_HQ</th>\n",
       "      <th>INDUSTRY</th>\n",
       "      <th>RATING_OVERALL</th>\n",
       "      <th>RATING_DI</th>\n",
       "      <th>RATING_CV</th>\n",
       "      <th>RATING_WL</th>\n",
       "      <th>RATING_SM</th>\n",
       "      <th>RATING_CB</th>\n",
       "      <th>RATING_CO</th>\n",
       "      <th>NUM_REVIEWS</th>\n",
       "      <th>DESCRIPTION</th>\n",
       "      <th>MISSION</th>\n",
       "    </tr>\n",
       "  </thead>\n",
       "  <tbody>\n",
       "    <tr>\n",
       "      <th>0</th>\n",
       "      <td>McKinsey &amp; Company</td>\n",
       "      <td>10000+ Employees</td>\n",
       "      <td>New York, NY</td>\n",
       "      <td>Consulting</td>\n",
       "      <td>4.5</td>\n",
       "      <td>4.4</td>\n",
       "      <td>4.4</td>\n",
       "      <td>3.0</td>\n",
       "      <td>4.1</td>\n",
       "      <td>4.4</td>\n",
       "      <td>4.5</td>\n",
       "      <td>See All 5,198 Reviews</td>\n",
       "      <td>We work with leaders across sectors to tackle ...</td>\n",
       "      <td>Mission: Our mission is two-fold: to help our ...</td>\n",
       "    </tr>\n",
       "    <tr>\n",
       "      <th>1</th>\n",
       "      <td>Cornell University</td>\n",
       "      <td>10000+ Employees</td>\n",
       "      <td>Ithaca, NY</td>\n",
       "      <td>Colleges &amp; Universities</td>\n",
       "      <td>4.5</td>\n",
       "      <td>4.3</td>\n",
       "      <td>4.4</td>\n",
       "      <td>4.0</td>\n",
       "      <td>4.1</td>\n",
       "      <td>4.1</td>\n",
       "      <td>4.2</td>\n",
       "      <td>See All 1,765 Reviews</td>\n",
       "      <td>Cornell is a private, Ivy League university re...</td>\n",
       "      <td>NaN</td>\n",
       "    </tr>\n",
       "    <tr>\n",
       "      <th>2</th>\n",
       "      <td>UC Santa Barbara</td>\n",
       "      <td>5001 to 10000 Employees</td>\n",
       "      <td>Santa Barbara, CA</td>\n",
       "      <td>Colleges &amp; Universities</td>\n",
       "      <td>4.5</td>\n",
       "      <td>4.2</td>\n",
       "      <td>4.3</td>\n",
       "      <td>4.4</td>\n",
       "      <td>4.1</td>\n",
       "      <td>3.7</td>\n",
       "      <td>4.0</td>\n",
       "      <td>See All 1,049 Reviews</td>\n",
       "      <td>Dude, let's hit the beach! And then we'll hit ...</td>\n",
       "      <td>NaN</td>\n",
       "    </tr>\n",
       "    <tr>\n",
       "      <th>3</th>\n",
       "      <td>UC Irvine</td>\n",
       "      <td>10000+ Employees</td>\n",
       "      <td>Irvine, CA</td>\n",
       "      <td>Colleges &amp; Universities</td>\n",
       "      <td>4.4</td>\n",
       "      <td>4.5</td>\n",
       "      <td>4.3</td>\n",
       "      <td>4.0</td>\n",
       "      <td>4.0</td>\n",
       "      <td>3.8</td>\n",
       "      <td>4.0</td>\n",
       "      <td>See All 1,398 Reviews</td>\n",
       "      <td>Sun, the beach, Nobel Prize winners, and a Sou...</td>\n",
       "      <td>NaN</td>\n",
       "    </tr>\n",
       "    <tr>\n",
       "      <th>4</th>\n",
       "      <td>Iowa State University</td>\n",
       "      <td>5001 to 10000 Employees</td>\n",
       "      <td>Ames, IA</td>\n",
       "      <td>Colleges &amp; Universities</td>\n",
       "      <td>4.4</td>\n",
       "      <td>4.2</td>\n",
       "      <td>4.2</td>\n",
       "      <td>4.2</td>\n",
       "      <td>4.0</td>\n",
       "      <td>3.8</td>\n",
       "      <td>3.9</td>\n",
       "      <td>See All 1,203 Reviews</td>\n",
       "      <td>Attending Iowa State University of Science and...</td>\n",
       "      <td>NaN</td>\n",
       "    </tr>\n",
       "  </tbody>\n",
       "</table>\n",
       "</div>"
      ],
      "text/plain": [
       "                    NAME                     SIZE        LOCATION_HQ  \\\n",
       "0     McKinsey & Company         10000+ Employees       New York, NY   \n",
       "1     Cornell University         10000+ Employees         Ithaca, NY   \n",
       "2       UC Santa Barbara  5001 to 10000 Employees  Santa Barbara, CA   \n",
       "3              UC Irvine         10000+ Employees         Irvine, CA   \n",
       "4  Iowa State University  5001 to 10000 Employees           Ames, IA   \n",
       "\n",
       "                  INDUSTRY  RATING_OVERALL  RATING_DI  RATING_CV  RATING_WL  \\\n",
       "0               Consulting             4.5        4.4        4.4        3.0   \n",
       "1  Colleges & Universities             4.5        4.3        4.4        4.0   \n",
       "2  Colleges & Universities             4.5        4.2        4.3        4.4   \n",
       "3  Colleges & Universities             4.4        4.5        4.3        4.0   \n",
       "4  Colleges & Universities             4.4        4.2        4.2        4.2   \n",
       "\n",
       "   RATING_SM  RATING_CB  RATING_CO            NUM_REVIEWS  \\\n",
       "0        4.1        4.4        4.5  See All 5,198 Reviews   \n",
       "1        4.1        4.1        4.2  See All 1,765 Reviews   \n",
       "2        4.1        3.7        4.0  See All 1,049 Reviews   \n",
       "3        4.0        3.8        4.0  See All 1,398 Reviews   \n",
       "4        4.0        3.8        3.9  See All 1,203 Reviews   \n",
       "\n",
       "                                         DESCRIPTION  \\\n",
       "0  We work with leaders across sectors to tackle ...   \n",
       "1  Cornell is a private, Ivy League university re...   \n",
       "2  Dude, let's hit the beach! And then we'll hit ...   \n",
       "3  Sun, the beach, Nobel Prize winners, and a Sou...   \n",
       "4  Attending Iowa State University of Science and...   \n",
       "\n",
       "                                             MISSION  \n",
       "0  Mission: Our mission is two-fold: to help our ...  \n",
       "1                                                NaN  \n",
       "2                                                NaN  \n",
       "3                                                NaN  \n",
       "4                                                NaN  "
      ]
     },
     "execution_count": 20,
     "metadata": {},
     "output_type": "execute_result"
    }
   ],
   "source": [
    "print('Shape: ', data.shape)\n",
    "data.head()"
   ]
  },
  {
   "cell_type": "code",
   "execution_count": 149,
   "metadata": {
    "ExecuteTime": {
     "end_time": "2021-02-08T20:20:38.985907Z",
     "start_time": "2021-02-08T20:20:38.948711Z"
    },
    "code_folding": [],
    "scrolled": true
   },
   "outputs": [
    {
     "name": "stdout",
     "output_type": "stream",
     "text": [
      "Length of data set:  1224\n",
      "Number of duplicates:  0\n"
     ]
    }
   ],
   "source": [
    "# #Drop duplicate rows\n",
    "# data.drop_duplicates(inplace=True)\n",
    "\n",
    "# #Sanity Check\n",
    "# print('Length of data set: ',len(data))\n",
    "# print('Number of duplicates: ', data.duplicated().sum())"
   ]
  },
  {
   "cell_type": "code",
   "execution_count": 21,
   "metadata": {
    "ExecuteTime": {
     "end_time": "2021-02-09T00:13:05.824527Z",
     "start_time": "2021-02-09T00:13:05.802017Z"
    },
    "scrolled": false
   },
   "outputs": [
    {
     "name": "stdout",
     "output_type": "stream",
     "text": [
      "NaN values dropped from RATING_DI:  61\n",
      "NaN values dropped from DESCRIPTION:  27\n"
     ]
    }
   ],
   "source": [
    "#Drop null values from RATING_DI\n",
    "print('NaN values dropped from RATING_DI: ', data.RATING_DI.isna().sum())\n",
    "data.dropna(subset=['RATING_DI'], inplace=True)\n",
    "\n",
    "#Drop null values from DESCRIPTION\n",
    "print('NaN values dropped from DESCRIPTION: ', data.DESCRIPTION.isna().sum())\n",
    "data.dropna(subset=['DESCRIPTION'], inplace=True)\n"
   ]
  },
  {
   "cell_type": "code",
   "execution_count": 32,
   "metadata": {
    "ExecuteTime": {
     "end_time": "2021-02-09T00:17:46.464771Z",
     "start_time": "2021-02-09T00:17:46.435000Z"
    }
   },
   "outputs": [
    {
     "data": {
      "text/html": [
       "<div>\n",
       "<style scoped>\n",
       "    .dataframe tbody tr th:only-of-type {\n",
       "        vertical-align: middle;\n",
       "    }\n",
       "\n",
       "    .dataframe tbody tr th {\n",
       "        vertical-align: top;\n",
       "    }\n",
       "\n",
       "    .dataframe thead th {\n",
       "        text-align: right;\n",
       "    }\n",
       "</style>\n",
       "<table border=\"1\" class=\"dataframe\">\n",
       "  <thead>\n",
       "    <tr style=\"text-align: right;\">\n",
       "      <th></th>\n",
       "      <th>NAME</th>\n",
       "      <th>SIZE</th>\n",
       "      <th>LOCATION_HQ</th>\n",
       "      <th>INDUSTRY</th>\n",
       "      <th>RATING_OVERALL</th>\n",
       "      <th>RATING_DI</th>\n",
       "      <th>RATING_CV</th>\n",
       "      <th>RATING_WL</th>\n",
       "      <th>RATING_SM</th>\n",
       "      <th>RATING_CB</th>\n",
       "      <th>RATING_CO</th>\n",
       "      <th>NUM_REVIEWS</th>\n",
       "      <th>DESCRIPTION</th>\n",
       "      <th>MISSION</th>\n",
       "    </tr>\n",
       "  </thead>\n",
       "  <tbody>\n",
       "    <tr>\n",
       "      <th>0</th>\n",
       "      <td>McKinsey &amp; Company</td>\n",
       "      <td>10000+ Employees</td>\n",
       "      <td>New York, NY</td>\n",
       "      <td>Consulting</td>\n",
       "      <td>4.5</td>\n",
       "      <td>4.4</td>\n",
       "      <td>4.4</td>\n",
       "      <td>3.0</td>\n",
       "      <td>4.1</td>\n",
       "      <td>4.4</td>\n",
       "      <td>4.5</td>\n",
       "      <td>See All 5,198 Reviews</td>\n",
       "      <td>We work with leaders across sectors to tackle ...</td>\n",
       "      <td>Mission: Our mission is two-fold: to help our ...</td>\n",
       "    </tr>\n",
       "    <tr>\n",
       "      <th>1</th>\n",
       "      <td>Cornell University</td>\n",
       "      <td>10000+ Employees</td>\n",
       "      <td>Ithaca, NY</td>\n",
       "      <td>Colleges &amp; Universities</td>\n",
       "      <td>4.5</td>\n",
       "      <td>4.3</td>\n",
       "      <td>4.4</td>\n",
       "      <td>4.0</td>\n",
       "      <td>4.1</td>\n",
       "      <td>4.1</td>\n",
       "      <td>4.2</td>\n",
       "      <td>See All 1,765 Reviews</td>\n",
       "      <td>Cornell is a private, Ivy League university re...</td>\n",
       "      <td>NaN</td>\n",
       "    </tr>\n",
       "    <tr>\n",
       "      <th>2</th>\n",
       "      <td>UC Santa Barbara</td>\n",
       "      <td>5001 to 10000 Employees</td>\n",
       "      <td>Santa Barbara, CA</td>\n",
       "      <td>Colleges &amp; Universities</td>\n",
       "      <td>4.5</td>\n",
       "      <td>4.2</td>\n",
       "      <td>4.3</td>\n",
       "      <td>4.4</td>\n",
       "      <td>4.1</td>\n",
       "      <td>3.7</td>\n",
       "      <td>4.0</td>\n",
       "      <td>See All 1,049 Reviews</td>\n",
       "      <td>Dude, let's hit the beach! And then we'll hit ...</td>\n",
       "      <td>NaN</td>\n",
       "    </tr>\n",
       "    <tr>\n",
       "      <th>3</th>\n",
       "      <td>UC Irvine</td>\n",
       "      <td>10000+ Employees</td>\n",
       "      <td>Irvine, CA</td>\n",
       "      <td>Colleges &amp; Universities</td>\n",
       "      <td>4.4</td>\n",
       "      <td>4.5</td>\n",
       "      <td>4.3</td>\n",
       "      <td>4.0</td>\n",
       "      <td>4.0</td>\n",
       "      <td>3.8</td>\n",
       "      <td>4.0</td>\n",
       "      <td>See All 1,398 Reviews</td>\n",
       "      <td>Sun, the beach, Nobel Prize winners, and a Sou...</td>\n",
       "      <td>NaN</td>\n",
       "    </tr>\n",
       "    <tr>\n",
       "      <th>4</th>\n",
       "      <td>Iowa State University</td>\n",
       "      <td>5001 to 10000 Employees</td>\n",
       "      <td>Ames, IA</td>\n",
       "      <td>Colleges &amp; Universities</td>\n",
       "      <td>4.4</td>\n",
       "      <td>4.2</td>\n",
       "      <td>4.2</td>\n",
       "      <td>4.2</td>\n",
       "      <td>4.0</td>\n",
       "      <td>3.8</td>\n",
       "      <td>3.9</td>\n",
       "      <td>See All 1,203 Reviews</td>\n",
       "      <td>Attending Iowa State University of Science and...</td>\n",
       "      <td>NaN</td>\n",
       "    </tr>\n",
       "  </tbody>\n",
       "</table>\n",
       "</div>"
      ],
      "text/plain": [
       "                    NAME                     SIZE        LOCATION_HQ  \\\n",
       "0     McKinsey & Company         10000+ Employees       New York, NY   \n",
       "1     Cornell University         10000+ Employees         Ithaca, NY   \n",
       "2       UC Santa Barbara  5001 to 10000 Employees  Santa Barbara, CA   \n",
       "3              UC Irvine         10000+ Employees         Irvine, CA   \n",
       "4  Iowa State University  5001 to 10000 Employees           Ames, IA   \n",
       "\n",
       "                  INDUSTRY  RATING_OVERALL  RATING_DI  RATING_CV  RATING_WL  \\\n",
       "0               Consulting             4.5        4.4        4.4        3.0   \n",
       "1  Colleges & Universities             4.5        4.3        4.4        4.0   \n",
       "2  Colleges & Universities             4.5        4.2        4.3        4.4   \n",
       "3  Colleges & Universities             4.4        4.5        4.3        4.0   \n",
       "4  Colleges & Universities             4.4        4.2        4.2        4.2   \n",
       "\n",
       "   RATING_SM  RATING_CB  RATING_CO            NUM_REVIEWS  \\\n",
       "0        4.1        4.4        4.5  See All 5,198 Reviews   \n",
       "1        4.1        4.1        4.2  See All 1,765 Reviews   \n",
       "2        4.1        3.7        4.0  See All 1,049 Reviews   \n",
       "3        4.0        3.8        4.0  See All 1,398 Reviews   \n",
       "4        4.0        3.8        3.9  See All 1,203 Reviews   \n",
       "\n",
       "                                         DESCRIPTION  \\\n",
       "0  We work with leaders across sectors to tackle ...   \n",
       "1  Cornell is a private, Ivy League university re...   \n",
       "2  Dude, let's hit the beach! And then we'll hit ...   \n",
       "3  Sun, the beach, Nobel Prize winners, and a Sou...   \n",
       "4  Attending Iowa State University of Science and...   \n",
       "\n",
       "                                             MISSION  \n",
       "0  Mission: Our mission is two-fold: to help our ...  \n",
       "1                                                NaN  \n",
       "2                                                NaN  \n",
       "3                                                NaN  \n",
       "4                                                NaN  "
      ]
     },
     "execution_count": 32,
     "metadata": {},
     "output_type": "execute_result"
    }
   ],
   "source": [
    "data.head()"
   ]
  },
  {
   "cell_type": "markdown",
   "metadata": {},
   "source": [
    "## Clean up NUM_REVIEWS\n",
    "- pull out numbers only"
   ]
  },
  {
   "cell_type": "code",
   "execution_count": 45,
   "metadata": {
    "ExecuteTime": {
     "end_time": "2021-02-09T00:59:32.608283Z",
     "start_time": "2021-02-09T00:59:32.603535Z"
    }
   },
   "outputs": [],
   "source": [
    "s = 'See All 1,203 Reviews'"
   ]
  },
  {
   "cell_type": "code",
   "execution_count": 46,
   "metadata": {
    "ExecuteTime": {
     "end_time": "2021-02-09T00:59:33.386215Z",
     "start_time": "2021-02-09T00:59:33.379841Z"
    }
   },
   "outputs": [],
   "source": [
    "#remove comma\n",
    "import string\n",
    "\n",
    "exclude = set(string.punctuation)\n",
    "s = ''.join(ch for ch in s if ch not in exclude)"
   ]
  },
  {
   "cell_type": "code",
   "execution_count": null,
   "metadata": {},
   "outputs": [],
   "source": []
  },
  {
   "cell_type": "code",
   "execution_count": 41,
   "metadata": {
    "ExecuteTime": {
     "end_time": "2021-02-09T00:55:57.167165Z",
     "start_time": "2021-02-09T00:55:57.157807Z"
    }
   },
   "outputs": [
    {
     "data": {
      "text/plain": [
       "['See', 'All', '1,203', 'Reviews']"
      ]
     },
     "execution_count": 41,
     "metadata": {},
     "output_type": "execute_result"
    }
   ],
   "source": [
    "test_string.split()"
   ]
  },
  {
   "cell_type": "code",
   "execution_count": 42,
   "metadata": {
    "ExecuteTime": {
     "end_time": "2021-02-09T00:56:16.908094Z",
     "start_time": "2021-02-09T00:56:16.890597Z"
    }
   },
   "outputs": [
    {
     "data": {
      "text/plain": [
       "False"
      ]
     },
     "execution_count": 42,
     "metadata": {},
     "output_type": "execute_result"
    }
   ],
   "source": [
    "test_string.isdigit()"
   ]
  },
  {
   "cell_type": "code",
   "execution_count": 37,
   "metadata": {
    "ExecuteTime": {
     "end_time": "2021-02-09T00:51:25.046099Z",
     "start_time": "2021-02-09T00:51:25.036206Z"
    }
   },
   "outputs": [
    {
     "data": {
      "text/plain": [
       "'[]'"
      ]
     },
     "execution_count": 37,
     "metadata": {},
     "output_type": "execute_result"
    }
   ],
   "source": [
    "res = [int(i) for i in test_string.split() if i.isdigit()]\n",
    "str(res)"
   ]
  },
  {
   "cell_type": "code",
   "execution_count": null,
   "metadata": {},
   "outputs": [],
   "source": []
  },
  {
   "cell_type": "code",
   "execution_count": null,
   "metadata": {},
   "outputs": [],
   "source": []
  },
  {
   "cell_type": "code",
   "execution_count": null,
   "metadata": {},
   "outputs": [],
   "source": []
  },
  {
   "cell_type": "code",
   "execution_count": null,
   "metadata": {},
   "outputs": [],
   "source": []
  },
  {
   "cell_type": "code",
   "execution_count": 38,
   "metadata": {
    "ExecuteTime": {
     "end_time": "2021-02-09T00:51:50.734450Z",
     "start_time": "2021-02-09T00:51:50.729299Z"
    }
   },
   "outputs": [],
   "source": [
    "import re"
   ]
  },
  {
   "cell_type": "code",
   "execution_count": 39,
   "metadata": {
    "ExecuteTime": {
     "end_time": "2021-02-09T00:52:04.485215Z",
     "start_time": "2021-02-09T00:52:04.477523Z"
    }
   },
   "outputs": [],
   "source": [
    "temp = re.findall(r'\\d+', test_string) \n",
    "res = list(map(int, temp))"
   ]
  },
  {
   "cell_type": "code",
   "execution_count": 40,
   "metadata": {
    "ExecuteTime": {
     "end_time": "2021-02-09T00:52:09.985179Z",
     "start_time": "2021-02-09T00:52:09.977624Z"
    }
   },
   "outputs": [
    {
     "data": {
      "text/plain": [
       "[1, 203]"
      ]
     },
     "execution_count": 40,
     "metadata": {},
     "output_type": "execute_result"
    }
   ],
   "source": [
    "res"
   ]
  },
  {
   "cell_type": "code",
   "execution_count": null,
   "metadata": {},
   "outputs": [],
   "source": []
  },
  {
   "cell_type": "markdown",
   "metadata": {},
   "source": [
    "## Checking out Rating stats "
   ]
  },
  {
   "cell_type": "code",
   "execution_count": 28,
   "metadata": {
    "ExecuteTime": {
     "end_time": "2021-02-09T00:15:21.563954Z",
     "start_time": "2021-02-09T00:15:21.481547Z"
    },
    "scrolled": true
   },
   "outputs": [
    {
     "data": {
      "text/html": [
       "<div>\n",
       "<style scoped>\n",
       "    .dataframe tbody tr th:only-of-type {\n",
       "        vertical-align: middle;\n",
       "    }\n",
       "\n",
       "    .dataframe tbody tr th {\n",
       "        vertical-align: top;\n",
       "    }\n",
       "\n",
       "    .dataframe thead th {\n",
       "        text-align: right;\n",
       "    }\n",
       "</style>\n",
       "<table border=\"1\" class=\"dataframe\">\n",
       "  <thead>\n",
       "    <tr style=\"text-align: right;\">\n",
       "      <th></th>\n",
       "      <th>RATING_OVERALL</th>\n",
       "      <th>RATING_DI</th>\n",
       "      <th>RATING_CV</th>\n",
       "      <th>RATING_WL</th>\n",
       "      <th>RATING_SM</th>\n",
       "      <th>RATING_CB</th>\n",
       "      <th>RATING_CO</th>\n",
       "    </tr>\n",
       "  </thead>\n",
       "  <tbody>\n",
       "    <tr>\n",
       "      <th>count</th>\n",
       "      <td>1100.000000</td>\n",
       "      <td>1100.000000</td>\n",
       "      <td>1100.000000</td>\n",
       "      <td>1100.000000</td>\n",
       "      <td>1100.000000</td>\n",
       "      <td>1100.000000</td>\n",
       "      <td>1100.000000</td>\n",
       "    </tr>\n",
       "    <tr>\n",
       "      <th>mean</th>\n",
       "      <td>4.006182</td>\n",
       "      <td>4.055182</td>\n",
       "      <td>3.927545</td>\n",
       "      <td>3.782273</td>\n",
       "      <td>3.585000</td>\n",
       "      <td>3.754091</td>\n",
       "      <td>3.694091</td>\n",
       "    </tr>\n",
       "    <tr>\n",
       "      <th>std</th>\n",
       "      <td>0.348868</td>\n",
       "      <td>0.419194</td>\n",
       "      <td>0.424023</td>\n",
       "      <td>0.431309</td>\n",
       "      <td>0.432298</td>\n",
       "      <td>0.443384</td>\n",
       "      <td>0.402395</td>\n",
       "    </tr>\n",
       "    <tr>\n",
       "      <th>min</th>\n",
       "      <td>2.400000</td>\n",
       "      <td>1.000000</td>\n",
       "      <td>1.900000</td>\n",
       "      <td>1.700000</td>\n",
       "      <td>1.900000</td>\n",
       "      <td>2.300000</td>\n",
       "      <td>2.300000</td>\n",
       "    </tr>\n",
       "    <tr>\n",
       "      <th>25%</th>\n",
       "      <td>3.900000</td>\n",
       "      <td>3.800000</td>\n",
       "      <td>3.700000</td>\n",
       "      <td>3.500000</td>\n",
       "      <td>3.300000</td>\n",
       "      <td>3.500000</td>\n",
       "      <td>3.475000</td>\n",
       "    </tr>\n",
       "    <tr>\n",
       "      <th>50%</th>\n",
       "      <td>4.100000</td>\n",
       "      <td>4.100000</td>\n",
       "      <td>4.000000</td>\n",
       "      <td>3.800000</td>\n",
       "      <td>3.600000</td>\n",
       "      <td>3.800000</td>\n",
       "      <td>3.700000</td>\n",
       "    </tr>\n",
       "    <tr>\n",
       "      <th>75%</th>\n",
       "      <td>4.200000</td>\n",
       "      <td>4.300000</td>\n",
       "      <td>4.200000</td>\n",
       "      <td>4.100000</td>\n",
       "      <td>3.900000</td>\n",
       "      <td>4.100000</td>\n",
       "      <td>4.000000</td>\n",
       "    </tr>\n",
       "    <tr>\n",
       "      <th>max</th>\n",
       "      <td>4.900000</td>\n",
       "      <td>5.000000</td>\n",
       "      <td>5.000000</td>\n",
       "      <td>4.900000</td>\n",
       "      <td>4.900000</td>\n",
       "      <td>4.900000</td>\n",
       "      <td>4.800000</td>\n",
       "    </tr>\n",
       "  </tbody>\n",
       "</table>\n",
       "</div>"
      ],
      "text/plain": [
       "       RATING_OVERALL    RATING_DI    RATING_CV    RATING_WL    RATING_SM  \\\n",
       "count     1100.000000  1100.000000  1100.000000  1100.000000  1100.000000   \n",
       "mean         4.006182     4.055182     3.927545     3.782273     3.585000   \n",
       "std          0.348868     0.419194     0.424023     0.431309     0.432298   \n",
       "min          2.400000     1.000000     1.900000     1.700000     1.900000   \n",
       "25%          3.900000     3.800000     3.700000     3.500000     3.300000   \n",
       "50%          4.100000     4.100000     4.000000     3.800000     3.600000   \n",
       "75%          4.200000     4.300000     4.200000     4.100000     3.900000   \n",
       "max          4.900000     5.000000     5.000000     4.900000     4.900000   \n",
       "\n",
       "         RATING_CB    RATING_CO  \n",
       "count  1100.000000  1100.000000  \n",
       "mean      3.754091     3.694091  \n",
       "std       0.443384     0.402395  \n",
       "min       2.300000     2.300000  \n",
       "25%       3.500000     3.475000  \n",
       "50%       3.800000     3.700000  \n",
       "75%       4.100000     4.000000  \n",
       "max       4.900000     4.800000  "
      ]
     },
     "execution_count": 28,
     "metadata": {},
     "output_type": "execute_result"
    }
   ],
   "source": [
    "# Checking out rating stats\n",
    "data.describe()"
   ]
  },
  {
   "cell_type": "code",
   "execution_count": 10,
   "metadata": {
    "ExecuteTime": {
     "end_time": "2021-02-08T18:37:03.043204Z",
     "start_time": "2021-02-08T18:37:03.029202Z"
    }
   },
   "outputs": [
    {
     "data": {
      "text/plain": [
       "4.069769291964996"
      ]
     },
     "execution_count": 10,
     "metadata": {},
     "output_type": "execute_result"
    }
   ],
   "source": [
    "data.RATING_DI.mean()"
   ]
  },
  {
   "cell_type": "code",
   "execution_count": null,
   "metadata": {},
   "outputs": [],
   "source": []
  },
  {
   "cell_type": "code",
   "execution_count": null,
   "metadata": {},
   "outputs": [],
   "source": []
  },
  {
   "cell_type": "code",
   "execution_count": null,
   "metadata": {},
   "outputs": [],
   "source": []
  },
  {
   "cell_type": "code",
   "execution_count": null,
   "metadata": {},
   "outputs": [],
   "source": []
  },
  {
   "cell_type": "code",
   "execution_count": null,
   "metadata": {},
   "outputs": [],
   "source": []
  }
 ],
 "metadata": {
  "kernelspec": {
   "display_name": "Python 3",
   "language": "python",
   "name": "python3"
  },
  "language_info": {
   "codemirror_mode": {
    "name": "ipython",
    "version": 3
   },
   "file_extension": ".py",
   "mimetype": "text/x-python",
   "name": "python",
   "nbconvert_exporter": "python",
   "pygments_lexer": "ipython3",
   "version": "3.6.9"
  },
  "toc": {
   "base_numbering": 1,
   "nav_menu": {},
   "number_sections": true,
   "sideBar": true,
   "skip_h1_title": false,
   "title_cell": "Table of Contents",
   "title_sidebar": "Contents",
   "toc_cell": false,
   "toc_position": {},
   "toc_section_display": true,
   "toc_window_display": false
  }
 },
 "nbformat": 4,
 "nbformat_minor": 4
}
