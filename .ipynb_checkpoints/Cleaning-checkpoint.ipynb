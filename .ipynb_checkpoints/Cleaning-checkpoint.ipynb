{
 "cells": [
  {
   "cell_type": "code",
   "execution_count": 1,
   "metadata": {
    "ExecuteTime": {
     "end_time": "2021-02-15T00:21:58.608324Z",
     "start_time": "2021-02-15T00:21:55.765655Z"
    }
   },
   "outputs": [],
   "source": [
    "import pandas as pd\n",
    "import numpy as np\n",
    "import string, re, math\n",
    "\n",
    "#Imports for plotting\n",
    "import seaborn as sns\n",
    "import matplotlib.pyplot as plt\n",
    "\n",
    "#options\n",
    "pd.options.display.max_rows = 50\n",
    "import warnings\n",
    "warnings.filterwarnings('ignore')"
   ]
  },
  {
   "cell_type": "code",
   "execution_count": 2,
   "metadata": {
    "ExecuteTime": {
     "end_time": "2021-02-15T00:22:00.471191Z",
     "start_time": "2021-02-15T00:21:58.611735Z"
    }
   },
   "outputs": [],
   "source": [
    "import plotly.express as px"
   ]
  },
  {
   "cell_type": "markdown",
   "metadata": {},
   "source": [
    "## Cleaning CSV Files"
   ]
  },
  {
   "cell_type": "markdown",
   "metadata": {},
   "source": [
    "**Read in Data**"
   ]
  },
  {
   "cell_type": "code",
   "execution_count": 3,
   "metadata": {
    "ExecuteTime": {
     "end_time": "2021-02-15T00:22:00.754338Z",
     "start_time": "2021-02-15T00:22:00.488915Z"
    }
   },
   "outputs": [
    {
     "name": "stdout",
     "output_type": "stream",
     "text": [
      "Length of data set:  3761\n",
      "Number of duplicates:  1334\n"
     ]
    }
   ],
   "source": [
    "df1 = pd.read_csv('data/glassdoor_ratings1_62.csv')\n",
    "df2 = pd.read_csv('data/glassdoor_ratings2_37.csv')\n",
    "df3 = pd.read_csv('data/glassdoor_ratings3_199.csv')\n",
    "df4 = pd.read_csv('data/glassdoor_ratings5_797.csv')\n",
    "df5 = pd.read_csv('data/glassdoor_ratings6_846.csv')\n",
    "df6 = pd.read_csv('data/glassdoor_ratings7_453.csv')  \n",
    "df7 = pd.read_csv('data/glassdoor_ratings8_873.csv') #scrape # 8\n",
    "df8 = pd.read_csv('data/glassdoor_ratings_1to50.csv')\n",
    "\n",
    "#Combine data frames\n",
    "data = pd.concat([df1, df2, df3, df4, df5, df6, df7, df8])\n",
    "\n",
    "print('Length of data set: ',len(data))\n",
    "print('Number of duplicates: ', data['NAME'].duplicated().sum())"
   ]
  },
  {
   "cell_type": "code",
   "execution_count": null,
   "metadata": {},
   "outputs": [],
   "source": [
    "data.head()"
   ]
  },
  {
   "cell_type": "markdown",
   "metadata": {},
   "source": [
    "### Initial Cleaning\n",
    " - Handle null values\n",
    " - reset indices \n",
    " - drop duplicates"
   ]
  },
  {
   "cell_type": "code",
   "execution_count": 4,
   "metadata": {
    "ExecuteTime": {
     "end_time": "2021-02-15T00:22:00.771546Z",
     "start_time": "2021-02-15T00:22:00.762567Z"
    }
   },
   "outputs": [],
   "source": [
    "#Reset index to see all rows\n",
    "data.reset_index(inplace=True)"
   ]
  },
  {
   "cell_type": "code",
   "execution_count": 5,
   "metadata": {
    "ExecuteTime": {
     "end_time": "2021-02-15T00:22:00.785970Z",
     "start_time": "2021-02-15T00:22:00.780365Z"
    }
   },
   "outputs": [],
   "source": [
    "# #change '  ' to null values\n",
    "# data['FULL_DESCRIPTION'] = data['FULL_DESCRIPTION'].mask(data['FULL_DESCRIPTION']== '  ')"
   ]
  },
  {
   "cell_type": "code",
   "execution_count": 6,
   "metadata": {
    "ExecuteTime": {
     "end_time": "2021-02-15T00:22:00.798545Z",
     "start_time": "2021-02-15T00:22:00.793641Z"
    }
   },
   "outputs": [],
   "source": [
    "###Inspect companies with nan description\n"
   ]
  },
  {
   "cell_type": "code",
   "execution_count": 7,
   "metadata": {
    "ExecuteTime": {
     "end_time": "2021-02-15T00:22:00.856224Z",
     "start_time": "2021-02-15T00:22:00.804028Z"
    },
    "scrolled": true
   },
   "outputs": [
    {
     "name": "stdout",
     "output_type": "stream",
     "text": [
      "NaN values dropped from RATING_DI:  385\n",
      "NaN values dropped from DESCRIPTION:  106\n"
     ]
    }
   ],
   "source": [
    "#Drop null values from RATING_DI\n",
    "print('NaN values dropped from RATING_DI: ', data.RATING_DI.isna().sum())\n",
    "data.dropna(subset=['RATING_DI'], inplace=True)\n",
    "\n",
    "#Drop null values from DESCRIPTION\n",
    "print('NaN values dropped from DESCRIPTION: ', data.DESCRIPTION.isna().sum())\n",
    "data.dropna(subset=['DESCRIPTION'], inplace=True)"
   ]
  },
  {
   "cell_type": "code",
   "execution_count": 8,
   "metadata": {
    "ExecuteTime": {
     "end_time": "2021-02-15T00:22:00.915869Z",
     "start_time": "2021-02-15T00:22:00.872397Z"
    }
   },
   "outputs": [
    {
     "name": "stdout",
     "output_type": "stream",
     "text": [
      "Duplicates dropped:  1130\n"
     ]
    }
   ],
   "source": [
    "#Drop duplicate companies by 'NAME' - drops size from 1941 to 1188\n",
    "print('Duplicates dropped: ', data['NAME'].duplicated().sum())\n",
    "data.drop_duplicates(subset='NAME', keep='last', inplace=True)\n",
    "data = data.drop(['index'], axis=1)"
   ]
  },
  {
   "cell_type": "code",
   "execution_count": 9,
   "metadata": {
    "ExecuteTime": {
     "end_time": "2021-02-15T00:22:00.947666Z",
     "start_time": "2021-02-15T00:22:00.932678Z"
    }
   },
   "outputs": [],
   "source": [
    "### RESET INDEX HERE TO NAME ### (easier searching?)\n",
    "data = data.set_index('NAME')"
   ]
  },
  {
   "cell_type": "code",
   "execution_count": 10,
   "metadata": {
    "ExecuteTime": {
     "end_time": "2021-02-15T00:22:00.964723Z",
     "start_time": "2021-02-15T00:22:00.954322Z"
    },
    "scrolled": true
   },
   "outputs": [],
   "source": [
    "# #reset index to begin at 0\n",
    "# ###data.reset_index(inplace=True)\n",
    "\n",
    "# #drop extra indices\n",
    "# # data = data.drop(['index', 'level_0'], axis=1)\n",
    "# data = data.drop(['index'], axis=1)\n"
   ]
  },
  {
   "cell_type": "code",
   "execution_count": 11,
   "metadata": {
    "ExecuteTime": {
     "end_time": "2021-02-15T00:22:01.013206Z",
     "start_time": "2021-02-15T00:22:00.975945Z"
    }
   },
   "outputs": [
    {
     "name": "stdout",
     "output_type": "stream",
     "text": [
      "Shape:  (2140, 13)\n"
     ]
    },
    {
     "data": {
      "text/html": [
       "<div>\n",
       "<style scoped>\n",
       "    .dataframe tbody tr th:only-of-type {\n",
       "        vertical-align: middle;\n",
       "    }\n",
       "\n",
       "    .dataframe tbody tr th {\n",
       "        vertical-align: top;\n",
       "    }\n",
       "\n",
       "    .dataframe thead th {\n",
       "        text-align: right;\n",
       "    }\n",
       "</style>\n",
       "<table border=\"1\" class=\"dataframe\">\n",
       "  <thead>\n",
       "    <tr style=\"text-align: right;\">\n",
       "      <th></th>\n",
       "      <th>SIZE</th>\n",
       "      <th>LOCATION_HQ</th>\n",
       "      <th>INDUSTRY</th>\n",
       "      <th>RATING_OVERALL</th>\n",
       "      <th>RATING_DI</th>\n",
       "      <th>RATING_CV</th>\n",
       "      <th>RATING_WL</th>\n",
       "      <th>RATING_SM</th>\n",
       "      <th>RATING_CB</th>\n",
       "      <th>RATING_CO</th>\n",
       "      <th>NUM_REVIEWS</th>\n",
       "      <th>DESCRIPTION</th>\n",
       "      <th>MISSION</th>\n",
       "    </tr>\n",
       "    <tr>\n",
       "      <th>NAME</th>\n",
       "      <th></th>\n",
       "      <th></th>\n",
       "      <th></th>\n",
       "      <th></th>\n",
       "      <th></th>\n",
       "      <th></th>\n",
       "      <th></th>\n",
       "      <th></th>\n",
       "      <th></th>\n",
       "      <th></th>\n",
       "      <th></th>\n",
       "      <th></th>\n",
       "      <th></th>\n",
       "    </tr>\n",
       "  </thead>\n",
       "  <tbody>\n",
       "    <tr>\n",
       "      <th>McKinsey &amp; Company</th>\n",
       "      <td>10000+ Employees</td>\n",
       "      <td>New York, NY</td>\n",
       "      <td>Consulting</td>\n",
       "      <td>4.5</td>\n",
       "      <td>4.4</td>\n",
       "      <td>4.4</td>\n",
       "      <td>3.0</td>\n",
       "      <td>4.1</td>\n",
       "      <td>4.4</td>\n",
       "      <td>4.5</td>\n",
       "      <td>See All 5,198 Reviews</td>\n",
       "      <td>We work with leaders across sectors to tackle ...</td>\n",
       "      <td>Mission: Our mission is two-fold: to help our ...</td>\n",
       "    </tr>\n",
       "    <tr>\n",
       "      <th>Cornell University</th>\n",
       "      <td>10000+ Employees</td>\n",
       "      <td>Ithaca, NY</td>\n",
       "      <td>Colleges &amp; Universities</td>\n",
       "      <td>4.5</td>\n",
       "      <td>4.3</td>\n",
       "      <td>4.4</td>\n",
       "      <td>4.0</td>\n",
       "      <td>4.1</td>\n",
       "      <td>4.1</td>\n",
       "      <td>4.2</td>\n",
       "      <td>See All 1,765 Reviews</td>\n",
       "      <td>Cornell is a private, Ivy League university re...</td>\n",
       "      <td>NaN</td>\n",
       "    </tr>\n",
       "    <tr>\n",
       "      <th>UC Santa Barbara</th>\n",
       "      <td>5001 to 10000 Employees</td>\n",
       "      <td>Santa Barbara, CA</td>\n",
       "      <td>Colleges &amp; Universities</td>\n",
       "      <td>4.5</td>\n",
       "      <td>4.2</td>\n",
       "      <td>4.3</td>\n",
       "      <td>4.4</td>\n",
       "      <td>4.1</td>\n",
       "      <td>3.7</td>\n",
       "      <td>4.0</td>\n",
       "      <td>See All 1,049 Reviews</td>\n",
       "      <td>Dude, let's hit the beach! And then we'll hit ...</td>\n",
       "      <td>NaN</td>\n",
       "    </tr>\n",
       "  </tbody>\n",
       "</table>\n",
       "</div>"
      ],
      "text/plain": [
       "                                       SIZE        LOCATION_HQ  \\\n",
       "NAME                                                             \n",
       "McKinsey & Company         10000+ Employees       New York, NY   \n",
       "Cornell University         10000+ Employees         Ithaca, NY   \n",
       "UC Santa Barbara    5001 to 10000 Employees  Santa Barbara, CA   \n",
       "\n",
       "                                   INDUSTRY  RATING_OVERALL  RATING_DI  \\\n",
       "NAME                                                                     \n",
       "McKinsey & Company               Consulting             4.5        4.4   \n",
       "Cornell University  Colleges & Universities             4.5        4.3   \n",
       "UC Santa Barbara    Colleges & Universities             4.5        4.2   \n",
       "\n",
       "                    RATING_CV  RATING_WL  RATING_SM  RATING_CB  RATING_CO  \\\n",
       "NAME                                                                        \n",
       "McKinsey & Company        4.4        3.0        4.1        4.4        4.5   \n",
       "Cornell University        4.4        4.0        4.1        4.1        4.2   \n",
       "UC Santa Barbara          4.3        4.4        4.1        3.7        4.0   \n",
       "\n",
       "                              NUM_REVIEWS  \\\n",
       "NAME                                        \n",
       "McKinsey & Company  See All 5,198 Reviews   \n",
       "Cornell University  See All 1,765 Reviews   \n",
       "UC Santa Barbara    See All 1,049 Reviews   \n",
       "\n",
       "                                                          DESCRIPTION  \\\n",
       "NAME                                                                    \n",
       "McKinsey & Company  We work with leaders across sectors to tackle ...   \n",
       "Cornell University  Cornell is a private, Ivy League university re...   \n",
       "UC Santa Barbara    Dude, let's hit the beach! And then we'll hit ...   \n",
       "\n",
       "                                                              MISSION  \n",
       "NAME                                                                   \n",
       "McKinsey & Company  Mission: Our mission is two-fold: to help our ...  \n",
       "Cornell University                                                NaN  \n",
       "UC Santa Barbara                                                  NaN  "
      ]
     },
     "execution_count": 11,
     "metadata": {},
     "output_type": "execute_result"
    }
   ],
   "source": [
    "#Check out dataframe\n",
    "print('Shape: ', data.shape)\n",
    "data.head(3)"
   ]
  },
  {
   "cell_type": "markdown",
   "metadata": {},
   "source": [
    "### Feature Engineering\n",
    " - Initial cleaning of DESCRIPTION\n",
    " - Prepare continuous variables: NUM_REVIEWS, RATING_DI\n",
    " - New features: HQ_STATE, defining TARGET variable"
   ]
  },
  {
   "cell_type": "markdown",
   "metadata": {},
   "source": [
    "#### New features based on DECRIPTION"
   ]
  },
  {
   "cell_type": "code",
   "execution_count": 12,
   "metadata": {
    "ExecuteTime": {
     "end_time": "2021-02-15T00:22:01.075150Z",
     "start_time": "2021-02-15T00:22:01.018071Z"
    }
   },
   "outputs": [
    {
     "data": {
      "text/html": [
       "<div>\n",
       "<style scoped>\n",
       "    .dataframe tbody tr th:only-of-type {\n",
       "        vertical-align: middle;\n",
       "    }\n",
       "\n",
       "    .dataframe tbody tr th {\n",
       "        vertical-align: top;\n",
       "    }\n",
       "\n",
       "    .dataframe thead th {\n",
       "        text-align: right;\n",
       "    }\n",
       "</style>\n",
       "<table border=\"1\" class=\"dataframe\">\n",
       "  <thead>\n",
       "    <tr style=\"text-align: right;\">\n",
       "      <th></th>\n",
       "      <th>SIZE</th>\n",
       "      <th>LOCATION_HQ</th>\n",
       "      <th>INDUSTRY</th>\n",
       "      <th>RATING_OVERALL</th>\n",
       "      <th>RATING_DI</th>\n",
       "      <th>RATING_CV</th>\n",
       "      <th>RATING_WL</th>\n",
       "      <th>RATING_SM</th>\n",
       "      <th>RATING_CB</th>\n",
       "      <th>RATING_CO</th>\n",
       "      <th>NUM_REVIEWS</th>\n",
       "      <th>DESCRIPTION</th>\n",
       "      <th>MISSION</th>\n",
       "      <th>FULL_DESCRIPTION</th>\n",
       "    </tr>\n",
       "    <tr>\n",
       "      <th>NAME</th>\n",
       "      <th></th>\n",
       "      <th></th>\n",
       "      <th></th>\n",
       "      <th></th>\n",
       "      <th></th>\n",
       "      <th></th>\n",
       "      <th></th>\n",
       "      <th></th>\n",
       "      <th></th>\n",
       "      <th></th>\n",
       "      <th></th>\n",
       "      <th></th>\n",
       "      <th></th>\n",
       "      <th></th>\n",
       "    </tr>\n",
       "  </thead>\n",
       "  <tbody>\n",
       "    <tr>\n",
       "      <th>McKinsey &amp; Company</th>\n",
       "      <td>10000+ Employees</td>\n",
       "      <td>New York, NY</td>\n",
       "      <td>Consulting</td>\n",
       "      <td>4.5</td>\n",
       "      <td>4.4</td>\n",
       "      <td>4.4</td>\n",
       "      <td>3.0</td>\n",
       "      <td>4.1</td>\n",
       "      <td>4.4</td>\n",
       "      <td>4.5</td>\n",
       "      <td>See All 5,198 Reviews</td>\n",
       "      <td>We work with leaders across sectors to tackle ...</td>\n",
       "      <td>Mission: Our mission is two-fold: to help our ...</td>\n",
       "      <td>We work with leaders across sectors to tackle ...</td>\n",
       "    </tr>\n",
       "    <tr>\n",
       "      <th>Cornell University</th>\n",
       "      <td>10000+ Employees</td>\n",
       "      <td>Ithaca, NY</td>\n",
       "      <td>Colleges &amp; Universities</td>\n",
       "      <td>4.5</td>\n",
       "      <td>4.3</td>\n",
       "      <td>4.4</td>\n",
       "      <td>4.0</td>\n",
       "      <td>4.1</td>\n",
       "      <td>4.1</td>\n",
       "      <td>4.2</td>\n",
       "      <td>See All 1,765 Reviews</td>\n",
       "      <td>Cornell is a private, Ivy League university re...</td>\n",
       "      <td></td>\n",
       "      <td>Cornell is a private, Ivy League university re...</td>\n",
       "    </tr>\n",
       "    <tr>\n",
       "      <th>UC Santa Barbara</th>\n",
       "      <td>5001 to 10000 Employees</td>\n",
       "      <td>Santa Barbara, CA</td>\n",
       "      <td>Colleges &amp; Universities</td>\n",
       "      <td>4.5</td>\n",
       "      <td>4.2</td>\n",
       "      <td>4.3</td>\n",
       "      <td>4.4</td>\n",
       "      <td>4.1</td>\n",
       "      <td>3.7</td>\n",
       "      <td>4.0</td>\n",
       "      <td>See All 1,049 Reviews</td>\n",
       "      <td>Dude, let's hit the beach! And then we'll hit ...</td>\n",
       "      <td></td>\n",
       "      <td>Dude, let's hit the beach! And then we'll hit ...</td>\n",
       "    </tr>\n",
       "  </tbody>\n",
       "</table>\n",
       "</div>"
      ],
      "text/plain": [
       "                                       SIZE        LOCATION_HQ  \\\n",
       "NAME                                                             \n",
       "McKinsey & Company         10000+ Employees       New York, NY   \n",
       "Cornell University         10000+ Employees         Ithaca, NY   \n",
       "UC Santa Barbara    5001 to 10000 Employees  Santa Barbara, CA   \n",
       "\n",
       "                                   INDUSTRY  RATING_OVERALL  RATING_DI  \\\n",
       "NAME                                                                     \n",
       "McKinsey & Company               Consulting             4.5        4.4   \n",
       "Cornell University  Colleges & Universities             4.5        4.3   \n",
       "UC Santa Barbara    Colleges & Universities             4.5        4.2   \n",
       "\n",
       "                    RATING_CV  RATING_WL  RATING_SM  RATING_CB  RATING_CO  \\\n",
       "NAME                                                                        \n",
       "McKinsey & Company        4.4        3.0        4.1        4.4        4.5   \n",
       "Cornell University        4.4        4.0        4.1        4.1        4.2   \n",
       "UC Santa Barbara          4.3        4.4        4.1        3.7        4.0   \n",
       "\n",
       "                              NUM_REVIEWS  \\\n",
       "NAME                                        \n",
       "McKinsey & Company  See All 5,198 Reviews   \n",
       "Cornell University  See All 1,765 Reviews   \n",
       "UC Santa Barbara    See All 1,049 Reviews   \n",
       "\n",
       "                                                          DESCRIPTION  \\\n",
       "NAME                                                                    \n",
       "McKinsey & Company  We work with leaders across sectors to tackle ...   \n",
       "Cornell University  Cornell is a private, Ivy League university re...   \n",
       "UC Santa Barbara    Dude, let's hit the beach! And then we'll hit ...   \n",
       "\n",
       "                                                              MISSION  \\\n",
       "NAME                                                                    \n",
       "McKinsey & Company  Mission: Our mission is two-fold: to help our ...   \n",
       "Cornell University                                                      \n",
       "UC Santa Barbara                                                        \n",
       "\n",
       "                                                     FULL_DESCRIPTION  \n",
       "NAME                                                                   \n",
       "McKinsey & Company  We work with leaders across sectors to tackle ...  \n",
       "Cornell University  Cornell is a private, Ivy League university re...  \n",
       "UC Santa Barbara    Dude, let's hit the beach! And then we'll hit ...  "
      ]
     },
     "execution_count": 12,
     "metadata": {},
     "output_type": "execute_result"
    }
   ],
   "source": [
    "# change null values in MISSION and DESCRIPTION to ' '\n",
    "data['MISSION'].fillna(' ', inplace=True)\n",
    "data['DESCRIPTION'].fillna(' ', inplace=True)\n",
    "\n",
    "#New column 'FULL_DESCRIPTION'\n",
    "data['FULL_DESCRIPTION'] = np.add(data['DESCRIPTION'], data['MISSION'])\n",
    "\n",
    "data.head(3)"
   ]
  },
  {
   "cell_type": "code",
   "execution_count": 13,
   "metadata": {
    "ExecuteTime": {
     "end_time": "2021-02-15T00:22:02.058351Z",
     "start_time": "2021-02-15T00:22:01.079716Z"
    }
   },
   "outputs": [],
   "source": [
    "#Creating CLEAN_DESCRIPTION\n",
    "\n",
    "#Function to clean FULL_DESCRIPTION\n",
    "def clean_text(text):\n",
    "    # make text lowercase\n",
    "    text = text.lower()\n",
    "    # remove numbers\n",
    "    text = re.sub('\\w*\\d\\w*', '', text)\n",
    "    # remove single letter characters\n",
    "    text = re.sub(r\"\\b[a-zA-Z]\\b\", \"\", text)\n",
    "    # remove punctuation and symbols\n",
    "    text = re.sub('[%s]' % re.escape(string.punctuation), '', text)\n",
    "    text = re.sub('™', '', text)\n",
    "    text = re.sub('•', '', text)\n",
    "    text = re.sub('◾', '', text)\n",
    "    text = re.sub('®', '', text)\n",
    "    # remove quotation marks\n",
    "    text = re.sub('\\\"+', '', text)\n",
    "    text = re.sub('\\’+', '', text) \n",
    "    text = re.sub('\\ ̀+', '', text)\n",
    "    # if there's a new line, change to a whitespace\n",
    "    text = re.sub('\\n', ' ', text)\n",
    "    \n",
    "    return text\n",
    "\n",
    "# apply function to 'FULL_DESCRIPTION' column\n",
    "data['CLEAN_DESCRIPTION'] = data['FULL_DESCRIPTION'].apply(clean_text)"
   ]
  },
  {
   "cell_type": "code",
   "execution_count": 14,
   "metadata": {
    "ExecuteTime": {
     "end_time": "2021-02-15T00:22:02.073117Z",
     "start_time": "2021-02-15T00:22:02.061027Z"
    }
   },
   "outputs": [],
   "source": [
    "# New column for description length\n",
    "data['DESC_LEN'] = data['FULL_DESCRIPTION'].apply(lambda x: len(x))"
   ]
  },
  {
   "cell_type": "code",
   "execution_count": 15,
   "metadata": {
    "ExecuteTime": {
     "end_time": "2021-02-15T00:22:02.090086Z",
     "start_time": "2021-02-15T00:22:02.078454Z"
    }
   },
   "outputs": [],
   "source": [
    "### BONUS ###\n",
    "# how to add a space before \"Mission:\"??"
   ]
  },
  {
   "cell_type": "markdown",
   "metadata": {},
   "source": [
    "#### Clean up NUM_REVIEWS column\n",
    "- return numbers only"
   ]
  },
  {
   "cell_type": "code",
   "execution_count": 16,
   "metadata": {
    "ExecuteTime": {
     "end_time": "2021-02-15T00:22:02.136315Z",
     "start_time": "2021-02-15T00:22:02.109628Z"
    }
   },
   "outputs": [],
   "source": [
    "def get_digits(s):\n",
    "    #remove commas\n",
    "    exclude = set(string.punctuation)\n",
    "    s = ''.join(num for num in s if num not in exclude)\n",
    "\n",
    "    #return digits only\n",
    "    return s.split()[2]\n",
    "\n",
    "#apply function to NUM_REVIEWS and change datatype to int\n",
    "data['NUM_REVIEWS'] = data['NUM_REVIEWS'].apply(get_digits).astype(int)"
   ]
  },
  {
   "cell_type": "code",
   "execution_count": 17,
   "metadata": {
    "ExecuteTime": {
     "end_time": "2021-02-15T00:22:02.151150Z",
     "start_time": "2021-02-15T00:22:02.139844Z"
    },
    "scrolled": true
   },
   "outputs": [],
   "source": [
    "#removing companies with too few reviews\n",
    "data = data[(data['NUM_REVIEWS'] > 100)]"
   ]
  },
  {
   "cell_type": "markdown",
   "metadata": {
    "heading_collapsed": true
   },
   "source": [
    "#### New feature based on RATING_DI"
   ]
  },
  {
   "cell_type": "markdown",
   "metadata": {
    "hidden": true
   },
   "source": [
    "**drop lower than xx reviews**"
   ]
  },
  {
   "cell_type": "markdown",
   "metadata": {
    "hidden": true
   },
   "source": [
    "The rating scale used by Glassdoor.com is a scale from 1 to 5. Therefore, we will establish our **Target variable at 4.0**, since that would indicate an \"A\" rating on this scale."
   ]
  },
  {
   "cell_type": "code",
   "execution_count": 18,
   "metadata": {
    "ExecuteTime": {
     "end_time": "2021-02-15T00:22:02.232941Z",
     "start_time": "2021-02-15T00:22:02.167188Z"
    },
    "hidden": true
   },
   "outputs": [
    {
     "data": {
      "text/html": [
       "<div>\n",
       "<style scoped>\n",
       "    .dataframe tbody tr th:only-of-type {\n",
       "        vertical-align: middle;\n",
       "    }\n",
       "\n",
       "    .dataframe tbody tr th {\n",
       "        vertical-align: top;\n",
       "    }\n",
       "\n",
       "    .dataframe thead th {\n",
       "        text-align: right;\n",
       "    }\n",
       "</style>\n",
       "<table border=\"1\" class=\"dataframe\">\n",
       "  <thead>\n",
       "    <tr style=\"text-align: right;\">\n",
       "      <th></th>\n",
       "      <th>RATING_OVERALL</th>\n",
       "      <th>RATING_DI</th>\n",
       "      <th>RATING_CV</th>\n",
       "      <th>RATING_WL</th>\n",
       "      <th>RATING_SM</th>\n",
       "      <th>RATING_CB</th>\n",
       "      <th>RATING_CO</th>\n",
       "      <th>NUM_REVIEWS</th>\n",
       "      <th>DESC_LEN</th>\n",
       "    </tr>\n",
       "  </thead>\n",
       "  <tbody>\n",
       "    <tr>\n",
       "      <th>count</th>\n",
       "      <td>1984.000000</td>\n",
       "      <td>1984.000000</td>\n",
       "      <td>1984.000000</td>\n",
       "      <td>1984.000000</td>\n",
       "      <td>1984.000000</td>\n",
       "      <td>1984.000000</td>\n",
       "      <td>1984.000000</td>\n",
       "      <td>1984.000000</td>\n",
       "      <td>1984.000000</td>\n",
       "    </tr>\n",
       "    <tr>\n",
       "      <th>mean</th>\n",
       "      <td>3.895464</td>\n",
       "      <td>3.981149</td>\n",
       "      <td>3.811341</td>\n",
       "      <td>3.690272</td>\n",
       "      <td>3.462298</td>\n",
       "      <td>3.672631</td>\n",
       "      <td>3.591532</td>\n",
       "      <td>1187.788306</td>\n",
       "      <td>866.118448</td>\n",
       "    </tr>\n",
       "    <tr>\n",
       "      <th>std</th>\n",
       "      <td>0.309994</td>\n",
       "      <td>0.451330</td>\n",
       "      <td>0.391562</td>\n",
       "      <td>0.400870</td>\n",
       "      <td>0.401661</td>\n",
       "      <td>0.418052</td>\n",
       "      <td>0.378373</td>\n",
       "      <td>2674.187458</td>\n",
       "      <td>416.253680</td>\n",
       "    </tr>\n",
       "    <tr>\n",
       "      <th>min</th>\n",
       "      <td>2.100000</td>\n",
       "      <td>1.000000</td>\n",
       "      <td>1.900000</td>\n",
       "      <td>1.700000</td>\n",
       "      <td>1.800000</td>\n",
       "      <td>1.900000</td>\n",
       "      <td>2.200000</td>\n",
       "      <td>101.000000</td>\n",
       "      <td>44.000000</td>\n",
       "    </tr>\n",
       "    <tr>\n",
       "      <th>25%</th>\n",
       "      <td>3.700000</td>\n",
       "      <td>3.700000</td>\n",
       "      <td>3.600000</td>\n",
       "      <td>3.400000</td>\n",
       "      <td>3.200000</td>\n",
       "      <td>3.400000</td>\n",
       "      <td>3.300000</td>\n",
       "      <td>236.000000</td>\n",
       "      <td>640.000000</td>\n",
       "    </tr>\n",
       "    <tr>\n",
       "      <th>50%</th>\n",
       "      <td>3.900000</td>\n",
       "      <td>4.000000</td>\n",
       "      <td>3.800000</td>\n",
       "      <td>3.700000</td>\n",
       "      <td>3.400000</td>\n",
       "      <td>3.700000</td>\n",
       "      <td>3.600000</td>\n",
       "      <td>447.000000</td>\n",
       "      <td>766.500000</td>\n",
       "    </tr>\n",
       "    <tr>\n",
       "      <th>75%</th>\n",
       "      <td>4.100000</td>\n",
       "      <td>4.300000</td>\n",
       "      <td>4.100000</td>\n",
       "      <td>4.000000</td>\n",
       "      <td>3.700000</td>\n",
       "      <td>3.900000</td>\n",
       "      <td>3.800000</td>\n",
       "      <td>1197.250000</td>\n",
       "      <td>1003.000000</td>\n",
       "    </tr>\n",
       "    <tr>\n",
       "      <th>max</th>\n",
       "      <td>4.900000</td>\n",
       "      <td>5.000000</td>\n",
       "      <td>5.000000</td>\n",
       "      <td>4.900000</td>\n",
       "      <td>4.900000</td>\n",
       "      <td>4.900000</td>\n",
       "      <td>4.800000</td>\n",
       "      <td>74411.000000</td>\n",
       "      <td>4883.000000</td>\n",
       "    </tr>\n",
       "  </tbody>\n",
       "</table>\n",
       "</div>"
      ],
      "text/plain": [
       "       RATING_OVERALL    RATING_DI    RATING_CV    RATING_WL    RATING_SM  \\\n",
       "count     1984.000000  1984.000000  1984.000000  1984.000000  1984.000000   \n",
       "mean         3.895464     3.981149     3.811341     3.690272     3.462298   \n",
       "std          0.309994     0.451330     0.391562     0.400870     0.401661   \n",
       "min          2.100000     1.000000     1.900000     1.700000     1.800000   \n",
       "25%          3.700000     3.700000     3.600000     3.400000     3.200000   \n",
       "50%          3.900000     4.000000     3.800000     3.700000     3.400000   \n",
       "75%          4.100000     4.300000     4.100000     4.000000     3.700000   \n",
       "max          4.900000     5.000000     5.000000     4.900000     4.900000   \n",
       "\n",
       "         RATING_CB    RATING_CO   NUM_REVIEWS     DESC_LEN  \n",
       "count  1984.000000  1984.000000   1984.000000  1984.000000  \n",
       "mean      3.672631     3.591532   1187.788306   866.118448  \n",
       "std       0.418052     0.378373   2674.187458   416.253680  \n",
       "min       1.900000     2.200000    101.000000    44.000000  \n",
       "25%       3.400000     3.300000    236.000000   640.000000  \n",
       "50%       3.700000     3.600000    447.000000   766.500000  \n",
       "75%       3.900000     3.800000   1197.250000  1003.000000  \n",
       "max       4.900000     4.800000  74411.000000  4883.000000  "
      ]
     },
     "execution_count": 18,
     "metadata": {},
     "output_type": "execute_result"
    }
   ],
   "source": [
    "#Checking out stats for rating columns\n",
    "data.describe()"
   ]
  },
  {
   "cell_type": "code",
   "execution_count": 19,
   "metadata": {
    "ExecuteTime": {
     "end_time": "2021-02-15T00:22:02.245259Z",
     "start_time": "2021-02-15T00:22:02.237945Z"
    },
    "hidden": true
   },
   "outputs": [
    {
     "data": {
      "text/plain": [
       "3.981149193548387"
      ]
     },
     "execution_count": 19,
     "metadata": {},
     "output_type": "execute_result"
    }
   ],
   "source": [
    "# Checking average Diversity and Inclusion score\n",
    "data.RATING_DI.mean()"
   ]
  },
  {
   "cell_type": "code",
   "execution_count": 20,
   "metadata": {
    "ExecuteTime": {
     "end_time": "2021-02-15T00:22:02.258383Z",
     "start_time": "2021-02-15T00:22:02.250140Z"
    },
    "hidden": true
   },
   "outputs": [
    {
     "data": {
      "text/plain": [
       "3.8954637096774194"
      ]
     },
     "execution_count": 20,
     "metadata": {},
     "output_type": "execute_result"
    }
   ],
   "source": [
    "data.RATING_OVERALL.mean()"
   ]
  },
  {
   "cell_type": "code",
   "execution_count": 21,
   "metadata": {
    "ExecuteTime": {
     "end_time": "2021-02-15T00:22:02.281940Z",
     "start_time": "2021-02-15T00:22:02.261164Z"
    },
    "hidden": true,
    "scrolled": true
   },
   "outputs": [
    {
     "name": "stdout",
     "output_type": "stream",
     "text": [
      "Percentage of companpies below threshold: 54.08266129032258\n",
      "Percentage of companpies above threshold: 45.917338709677416\n"
     ]
    }
   ],
   "source": [
    "#how many companies are above and below the threshold?\n",
    "print('Percentage of companpies below threshold:', \n",
    "      (len(data[(data['RATING_DI'] <= 4.0)]) / (len(data)))*100)\n",
    "print('Percentage of companpies above threshold:', \n",
    "      (len(data[(data['RATING_DI'] > 4.0)]) / (len(data)))*100)"
   ]
  },
  {
   "cell_type": "code",
   "execution_count": 22,
   "metadata": {
    "ExecuteTime": {
     "end_time": "2021-02-15T00:22:03.498450Z",
     "start_time": "2021-02-15T00:22:03.486400Z"
    },
    "hidden": true
   },
   "outputs": [],
   "source": [
    "#RATING_DI_BIN\n",
    "#removing decimal value for data visualization\n",
    "def truncate(f):\n",
    "    return math.floor(f * 10 ** 0) / 10 ** 0\n",
    "\n",
    "data['RATING_DI_BIN'] = data['RATING_DI'].apply(truncate).astype(int)"
   ]
  },
  {
   "cell_type": "markdown",
   "metadata": {},
   "source": [
    "#### New feature based on SIZE"
   ]
  },
  {
   "cell_type": "code",
   "execution_count": 43,
   "metadata": {
    "ExecuteTime": {
     "end_time": "2021-02-15T00:43:23.400547Z",
     "start_time": "2021-02-15T00:43:23.384709Z"
    }
   },
   "outputs": [],
   "source": [
    "## Assigning continuous variable to SIZE column\n",
    "\n",
    "conditions = [ \n",
    "    data['SIZE'] == '10000+ Employees',\n",
    "    data['SIZE'] == '5001 to 10000 Employees',\n",
    "    data['SIZE'] == '1001 to 5000 Employees', \n",
    "    data['SIZE'] == '501 to 1000 Employees',\n",
    "    ((data['SIZE'] == '201 to 500 Employees')| (data['SIZE'] == '51 to 200 Employees'))] \n",
    "\n",
    "## list of choices to be returned if said condition is True\n",
    "choices = [\n",
    "    5, #10k+\n",
    "    4, #5001 to 10k Employees\n",
    "    3, #1001 to 5k Employees \n",
    "    2, #500 to 1k\n",
    "    1] #fewer than 500 Employees\n",
    "\n",
    "data['SIZE_BIN'] = np.select(conditions, choices, default=None)\n",
    "\n",
    "#Convert to float\n",
    "data['SIZE_BIN'] = data['SIZE_BIN'].astype(float)"
   ]
  },
  {
   "cell_type": "markdown",
   "metadata": {},
   "source": [
    "#### New feature based on LOCATION_HQ"
   ]
  },
  {
   "cell_type": "code",
   "execution_count": 24,
   "metadata": {
    "ExecuteTime": {
     "end_time": "2021-02-15T00:22:05.329034Z",
     "start_time": "2021-02-15T00:22:05.322296Z"
    }
   },
   "outputs": [],
   "source": [
    "data['HQ_STATE'] = data['LOCATION_HQ'].apply(lambda x: x[-2:])"
   ]
  },
  {
   "cell_type": "markdown",
   "metadata": {
    "heading_collapsed": true
   },
   "source": [
    "#### Defining TARGET variable"
   ]
  },
  {
   "cell_type": "code",
   "execution_count": 25,
   "metadata": {
    "ExecuteTime": {
     "end_time": "2021-02-15T00:22:05.800780Z",
     "start_time": "2021-02-15T00:22:05.788242Z"
    },
    "hidden": true,
    "scrolled": false
   },
   "outputs": [],
   "source": [
    "# New column for Target variable - companies with Diversity and Inclusion Rating over 4.0\n",
    "data['TARGET'] = np.where(data['RATING_DI'] >= 4.0 , 1, 0)"
   ]
  },
  {
   "cell_type": "markdown",
   "metadata": {
    "heading_collapsed": true
   },
   "source": [
    "## Save data CSV"
   ]
  },
  {
   "cell_type": "code",
   "execution_count": 26,
   "metadata": {
    "ExecuteTime": {
     "end_time": "2021-02-15T00:22:07.986870Z",
     "start_time": "2021-02-15T00:22:07.953604Z"
    },
    "hidden": true,
    "scrolled": true
   },
   "outputs": [
    {
     "data": {
      "text/html": [
       "<div>\n",
       "<style scoped>\n",
       "    .dataframe tbody tr th:only-of-type {\n",
       "        vertical-align: middle;\n",
       "    }\n",
       "\n",
       "    .dataframe tbody tr th {\n",
       "        vertical-align: top;\n",
       "    }\n",
       "\n",
       "    .dataframe thead th {\n",
       "        text-align: right;\n",
       "    }\n",
       "</style>\n",
       "<table border=\"1\" class=\"dataframe\">\n",
       "  <thead>\n",
       "    <tr style=\"text-align: right;\">\n",
       "      <th></th>\n",
       "      <th>SIZE</th>\n",
       "      <th>LOCATION_HQ</th>\n",
       "      <th>INDUSTRY</th>\n",
       "      <th>RATING_OVERALL</th>\n",
       "      <th>RATING_DI</th>\n",
       "      <th>RATING_CV</th>\n",
       "      <th>RATING_WL</th>\n",
       "      <th>RATING_SM</th>\n",
       "      <th>RATING_CB</th>\n",
       "      <th>RATING_CO</th>\n",
       "      <th>NUM_REVIEWS</th>\n",
       "      <th>DESCRIPTION</th>\n",
       "      <th>MISSION</th>\n",
       "      <th>FULL_DESCRIPTION</th>\n",
       "      <th>CLEAN_DESCRIPTION</th>\n",
       "      <th>DESC_LEN</th>\n",
       "      <th>RATING_DI_BIN</th>\n",
       "      <th>SIZE_BIN</th>\n",
       "      <th>HQ_STATE</th>\n",
       "      <th>TARGET</th>\n",
       "    </tr>\n",
       "    <tr>\n",
       "      <th>NAME</th>\n",
       "      <th></th>\n",
       "      <th></th>\n",
       "      <th></th>\n",
       "      <th></th>\n",
       "      <th></th>\n",
       "      <th></th>\n",
       "      <th></th>\n",
       "      <th></th>\n",
       "      <th></th>\n",
       "      <th></th>\n",
       "      <th></th>\n",
       "      <th></th>\n",
       "      <th></th>\n",
       "      <th></th>\n",
       "      <th></th>\n",
       "      <th></th>\n",
       "      <th></th>\n",
       "      <th></th>\n",
       "      <th></th>\n",
       "      <th></th>\n",
       "    </tr>\n",
       "  </thead>\n",
       "  <tbody>\n",
       "    <tr>\n",
       "      <th>McKinsey &amp; Company</th>\n",
       "      <td>10000+ Employees</td>\n",
       "      <td>New York, NY</td>\n",
       "      <td>Consulting</td>\n",
       "      <td>4.5</td>\n",
       "      <td>4.4</td>\n",
       "      <td>4.4</td>\n",
       "      <td>3.0</td>\n",
       "      <td>4.1</td>\n",
       "      <td>4.4</td>\n",
       "      <td>4.5</td>\n",
       "      <td>5198</td>\n",
       "      <td>We work with leaders across sectors to tackle ...</td>\n",
       "      <td>Mission: Our mission is two-fold: to help our ...</td>\n",
       "      <td>We work with leaders across sectors to tackle ...</td>\n",
       "      <td>we work with leaders across sectors to tackle ...</td>\n",
       "      <td>1383</td>\n",
       "      <td>4</td>\n",
       "      <td>4.0</td>\n",
       "      <td>NY</td>\n",
       "      <td>1</td>\n",
       "    </tr>\n",
       "    <tr>\n",
       "      <th>Cornell University</th>\n",
       "      <td>10000+ Employees</td>\n",
       "      <td>Ithaca, NY</td>\n",
       "      <td>Colleges &amp; Universities</td>\n",
       "      <td>4.5</td>\n",
       "      <td>4.3</td>\n",
       "      <td>4.4</td>\n",
       "      <td>4.0</td>\n",
       "      <td>4.1</td>\n",
       "      <td>4.1</td>\n",
       "      <td>4.2</td>\n",
       "      <td>1765</td>\n",
       "      <td>Cornell is a private, Ivy League university re...</td>\n",
       "      <td></td>\n",
       "      <td>Cornell is a private, Ivy League university re...</td>\n",
       "      <td>cornell is  private ivy league university reco...</td>\n",
       "      <td>618</td>\n",
       "      <td>4</td>\n",
       "      <td>4.0</td>\n",
       "      <td>NY</td>\n",
       "      <td>1</td>\n",
       "    </tr>\n",
       "    <tr>\n",
       "      <th>UC Santa Barbara</th>\n",
       "      <td>5001 to 10000 Employees</td>\n",
       "      <td>Santa Barbara, CA</td>\n",
       "      <td>Colleges &amp; Universities</td>\n",
       "      <td>4.5</td>\n",
       "      <td>4.2</td>\n",
       "      <td>4.3</td>\n",
       "      <td>4.4</td>\n",
       "      <td>4.1</td>\n",
       "      <td>3.7</td>\n",
       "      <td>4.0</td>\n",
       "      <td>1049</td>\n",
       "      <td>Dude, let's hit the beach! And then we'll hit ...</td>\n",
       "      <td></td>\n",
       "      <td>Dude, let's hit the beach! And then we'll hit ...</td>\n",
       "      <td>dude let hit the beach and then well hit the b...</td>\n",
       "      <td>654</td>\n",
       "      <td>4</td>\n",
       "      <td>3.0</td>\n",
       "      <td>CA</td>\n",
       "      <td>1</td>\n",
       "    </tr>\n",
       "  </tbody>\n",
       "</table>\n",
       "</div>"
      ],
      "text/plain": [
       "                                       SIZE        LOCATION_HQ  \\\n",
       "NAME                                                             \n",
       "McKinsey & Company         10000+ Employees       New York, NY   \n",
       "Cornell University         10000+ Employees         Ithaca, NY   \n",
       "UC Santa Barbara    5001 to 10000 Employees  Santa Barbara, CA   \n",
       "\n",
       "                                   INDUSTRY  RATING_OVERALL  RATING_DI  \\\n",
       "NAME                                                                     \n",
       "McKinsey & Company               Consulting             4.5        4.4   \n",
       "Cornell University  Colleges & Universities             4.5        4.3   \n",
       "UC Santa Barbara    Colleges & Universities             4.5        4.2   \n",
       "\n",
       "                    RATING_CV  RATING_WL  RATING_SM  RATING_CB  RATING_CO  \\\n",
       "NAME                                                                        \n",
       "McKinsey & Company        4.4        3.0        4.1        4.4        4.5   \n",
       "Cornell University        4.4        4.0        4.1        4.1        4.2   \n",
       "UC Santa Barbara          4.3        4.4        4.1        3.7        4.0   \n",
       "\n",
       "                    NUM_REVIEWS  \\\n",
       "NAME                              \n",
       "McKinsey & Company         5198   \n",
       "Cornell University         1765   \n",
       "UC Santa Barbara           1049   \n",
       "\n",
       "                                                          DESCRIPTION  \\\n",
       "NAME                                                                    \n",
       "McKinsey & Company  We work with leaders across sectors to tackle ...   \n",
       "Cornell University  Cornell is a private, Ivy League university re...   \n",
       "UC Santa Barbara    Dude, let's hit the beach! And then we'll hit ...   \n",
       "\n",
       "                                                              MISSION  \\\n",
       "NAME                                                                    \n",
       "McKinsey & Company  Mission: Our mission is two-fold: to help our ...   \n",
       "Cornell University                                                      \n",
       "UC Santa Barbara                                                        \n",
       "\n",
       "                                                     FULL_DESCRIPTION  \\\n",
       "NAME                                                                    \n",
       "McKinsey & Company  We work with leaders across sectors to tackle ...   \n",
       "Cornell University  Cornell is a private, Ivy League university re...   \n",
       "UC Santa Barbara    Dude, let's hit the beach! And then we'll hit ...   \n",
       "\n",
       "                                                    CLEAN_DESCRIPTION  \\\n",
       "NAME                                                                    \n",
       "McKinsey & Company  we work with leaders across sectors to tackle ...   \n",
       "Cornell University  cornell is  private ivy league university reco...   \n",
       "UC Santa Barbara    dude let hit the beach and then well hit the b...   \n",
       "\n",
       "                    DESC_LEN  RATING_DI_BIN  SIZE_BIN HQ_STATE  TARGET  \n",
       "NAME                                                                    \n",
       "McKinsey & Company      1383              4       4.0       NY       1  \n",
       "Cornell University       618              4       4.0       NY       1  \n",
       "UC Santa Barbara         654              4       3.0       CA       1  "
      ]
     },
     "execution_count": 26,
     "metadata": {},
     "output_type": "execute_result"
    }
   ],
   "source": [
    "data.head(3)"
   ]
  },
  {
   "cell_type": "code",
   "execution_count": 28,
   "metadata": {
    "ExecuteTime": {
     "end_time": "2021-02-13T22:16:57.642502Z",
     "start_time": "2021-02-13T22:16:57.389374Z"
    },
    "hidden": true
   },
   "outputs": [],
   "source": [
    "data.to_csv('data/glassdoor_ratings_main.csv', index=False)"
   ]
  },
  {
   "cell_type": "code",
   "execution_count": null,
   "metadata": {
    "hidden": true
   },
   "outputs": [],
   "source": []
  },
  {
   "cell_type": "code",
   "execution_count": null,
   "metadata": {
    "hidden": true
   },
   "outputs": [],
   "source": []
  },
  {
   "cell_type": "code",
   "execution_count": null,
   "metadata": {
    "hidden": true
   },
   "outputs": [],
   "source": []
  },
  {
   "cell_type": "code",
   "execution_count": null,
   "metadata": {
    "hidden": true
   },
   "outputs": [],
   "source": []
  },
  {
   "cell_type": "code",
   "execution_count": null,
   "metadata": {
    "hidden": true
   },
   "outputs": [],
   "source": []
  },
  {
   "cell_type": "code",
   "execution_count": null,
   "metadata": {
    "hidden": true
   },
   "outputs": [],
   "source": []
  },
  {
   "cell_type": "markdown",
   "metadata": {
    "heading_collapsed": true
   },
   "source": [
    "## Create and save DTM \n",
    "- Document Term Matrix"
   ]
  },
  {
   "cell_type": "code",
   "execution_count": 31,
   "metadata": {
    "ExecuteTime": {
     "end_time": "2021-02-13T22:16:57.743800Z",
     "start_time": "2021-02-13T22:16:57.733966Z"
    },
    "hidden": true
   },
   "outputs": [],
   "source": [
    "# Creating a new df of only CLEAN_DESCRIPTION\n",
    "data_clean = data[['CLEAN_DESCRIPTION']]\n",
    "#data_clean"
   ]
  },
  {
   "cell_type": "code",
   "execution_count": 32,
   "metadata": {
    "ExecuteTime": {
     "end_time": "2021-02-13T22:16:57.765994Z",
     "start_time": "2021-02-13T22:16:57.749530Z"
    },
    "hidden": true,
    "scrolled": true
   },
   "outputs": [
    {
     "data": {
      "text/html": [
       "<div>\n",
       "<style scoped>\n",
       "    .dataframe tbody tr th:only-of-type {\n",
       "        vertical-align: middle;\n",
       "    }\n",
       "\n",
       "    .dataframe tbody tr th {\n",
       "        vertical-align: top;\n",
       "    }\n",
       "\n",
       "    .dataframe thead th {\n",
       "        text-align: right;\n",
       "    }\n",
       "</style>\n",
       "<table border=\"1\" class=\"dataframe\">\n",
       "  <thead>\n",
       "    <tr style=\"text-align: right;\">\n",
       "      <th></th>\n",
       "      <th>CLEAN_DESCRIPTION</th>\n",
       "    </tr>\n",
       "    <tr>\n",
       "      <th>NAME</th>\n",
       "      <th></th>\n",
       "    </tr>\n",
       "  </thead>\n",
       "  <tbody>\n",
       "    <tr>\n",
       "      <th>McKinsey &amp; Company</th>\n",
       "      <td>we work with leaders across sectors to tackle ...</td>\n",
       "    </tr>\n",
       "    <tr>\n",
       "      <th>Cornell University</th>\n",
       "      <td>cornell is  private ivy league university reco...</td>\n",
       "    </tr>\n",
       "    <tr>\n",
       "      <th>UC Santa Barbara</th>\n",
       "      <td>dude let hit the beach and then well hit the b...</td>\n",
       "    </tr>\n",
       "    <tr>\n",
       "      <th>UC Irvine</th>\n",
       "      <td>sun the beach nobel prize winners and  souther...</td>\n",
       "    </tr>\n",
       "    <tr>\n",
       "      <th>Iowa State University</th>\n",
       "      <td>attending iowa state university of science and...</td>\n",
       "    </tr>\n",
       "  </tbody>\n",
       "</table>\n",
       "</div>"
      ],
      "text/plain": [
       "                                                       CLEAN_DESCRIPTION\n",
       "NAME                                                                    \n",
       "McKinsey & Company     we work with leaders across sectors to tackle ...\n",
       "Cornell University     cornell is  private ivy league university reco...\n",
       "UC Santa Barbara       dude let hit the beach and then well hit the b...\n",
       "UC Irvine              sun the beach nobel prize winners and  souther...\n",
       "Iowa State University  attending iowa state university of science and..."
      ]
     },
     "execution_count": 32,
     "metadata": {},
     "output_type": "execute_result"
    }
   ],
   "source": [
    "data_clean.head()"
   ]
  },
  {
   "cell_type": "code",
   "execution_count": 33,
   "metadata": {
    "ExecuteTime": {
     "end_time": "2021-02-13T22:16:57.866947Z",
     "start_time": "2021-02-13T22:16:57.770797Z"
    },
    "hidden": true
   },
   "outputs": [],
   "source": [
    "data_clean.to_csv('data/data_clean.csv', index=False)"
   ]
  },
  {
   "cell_type": "code",
   "execution_count": 81,
   "metadata": {
    "ExecuteTime": {
     "end_time": "2021-02-15T00:02:54.585458Z",
     "start_time": "2021-02-15T00:02:54.085459Z"
    },
    "hidden": true,
    "scrolled": true
   },
   "outputs": [
    {
     "ename": "NameError",
     "evalue": "name 'sw_list' is not defined",
     "output_type": "error",
     "traceback": [
      "\u001b[0;31m-----------------------------\u001b[0m",
      "\u001b[0;31mNameError\u001b[0mTraceback (most recent call last)",
      "\u001b[0;32m<ipython-input-81-c58edd73e058>\u001b[0m in \u001b[0;36m<module>\u001b[0;34m()\u001b[0m\n\u001b[1;32m      3\u001b[0m \u001b[0;32mfrom\u001b[0m \u001b[0msklearn\u001b[0m\u001b[0;34m.\u001b[0m\u001b[0mfeature_extraction\u001b[0m\u001b[0;34m.\u001b[0m\u001b[0mtext\u001b[0m \u001b[0;32mimport\u001b[0m \u001b[0mCountVectorizer\u001b[0m\u001b[0;34m\u001b[0m\u001b[0;34m\u001b[0m\u001b[0m\n\u001b[1;32m      4\u001b[0m \u001b[0;34m\u001b[0m\u001b[0m\n\u001b[0;32m----> 5\u001b[0;31m \u001b[0mcv\u001b[0m \u001b[0;34m=\u001b[0m \u001b[0mCountVectorizer\u001b[0m\u001b[0;34m(\u001b[0m\u001b[0mstop_words\u001b[0m\u001b[0;34m=\u001b[0m\u001b[0msw_list\u001b[0m\u001b[0;34m)\u001b[0m\u001b[0;34m\u001b[0m\u001b[0;34m\u001b[0m\u001b[0m\n\u001b[0m\u001b[1;32m      6\u001b[0m \u001b[0mdata_cv\u001b[0m \u001b[0;34m=\u001b[0m \u001b[0mcv\u001b[0m\u001b[0;34m.\u001b[0m\u001b[0mfit_transform\u001b[0m\u001b[0;34m(\u001b[0m\u001b[0mdata\u001b[0m\u001b[0;34m.\u001b[0m\u001b[0mCLEAN_DESCRIPTION\u001b[0m\u001b[0;34m)\u001b[0m\u001b[0;34m\u001b[0m\u001b[0;34m\u001b[0m\u001b[0m\n\u001b[1;32m      7\u001b[0m \u001b[0;34m\u001b[0m\u001b[0m\n",
      "\u001b[0;31mNameError\u001b[0m: name 'sw_list' is not defined"
     ]
    }
   ],
   "source": [
    "#Create a document-term matrix using CountVectorizer, and exclude previously defined stopwords\n",
    "\n",
    "from sklearn.feature_extraction.text import CountVectorizer\n",
    "\n",
    "cv = CountVectorizer(stop_words=sw_list)\n",
    "data_cv = cv.fit_transform(data.CLEAN_DESCRIPTION)\n",
    "\n",
    "data_stop = pd.DataFrame(data_cv.toarray(), columns=cv.get_feature_names())\n",
    "data_stop.index = data_clean.index\n",
    "\n",
    "data_dtm = pd.DataFrame(data_cv.toarray(), columns=cv.get_feature_names())\n",
    "data_dtm.index = data_clean.index\n",
    "data_dtm"
   ]
  },
  {
   "cell_type": "code",
   "execution_count": 37,
   "metadata": {
    "ExecuteTime": {
     "end_time": "2021-02-13T22:21:38.167256Z",
     "start_time": "2021-02-13T22:21:38.139334Z"
    },
    "hidden": true
   },
   "outputs": [],
   "source": [
    "import pickle"
   ]
  },
  {
   "cell_type": "code",
   "execution_count": 38,
   "metadata": {
    "ExecuteTime": {
     "end_time": "2021-02-13T22:23:04.404266Z",
     "start_time": "2021-02-13T22:21:38.963232Z"
    },
    "hidden": true
   },
   "outputs": [],
   "source": [
    "#Saving for later use\n",
    "data_dtm.to_csv('data/dtm.csv', index=False)\n",
    "\n",
    "#saving cv stop words\n",
    "pickle.dump(cv, open(\"data/cv_stop.pkl\", \"wb\"))\n",
    "\n",
    "#data_stop.to_pickle(\"dtm_stop.pkl\")\n",
    "#data_dtm.to_pickle('data/dtm.pkl')"
   ]
  },
  {
   "cell_type": "code",
   "execution_count": null,
   "metadata": {
    "hidden": true
   },
   "outputs": [],
   "source": []
  },
  {
   "cell_type": "code",
   "execution_count": null,
   "metadata": {
    "hidden": true
   },
   "outputs": [],
   "source": []
  },
  {
   "cell_type": "code",
   "execution_count": null,
   "metadata": {
    "hidden": true
   },
   "outputs": [],
   "source": []
  },
  {
   "cell_type": "code",
   "execution_count": null,
   "metadata": {
    "hidden": true
   },
   "outputs": [],
   "source": []
  },
  {
   "cell_type": "markdown",
   "metadata": {},
   "source": [
    "## EDA\n",
    "**Plots:**\n",
    " - scatterplots: DI rating OR target vs \n",
    "     - of reviews\n",
    "     - industry\n",
    "     - state\n",
    "     - company size\n",
    " - bar plots \n",
    "     - industry\n",
    "     - state\n",
    "     - size\n",
    " \n",
    "**Additional Notes:**\n",
    " - continuous variables: SIZE_BIN, rating columns, NUM_REVIEWS\n",
    " - are companies who have more lengthy descriptions more inclusive?"
   ]
  },
  {
   "cell_type": "markdown",
   "metadata": {},
   "source": [
    "### Inspecting distribution and overall trends"
   ]
  },
  {
   "cell_type": "code",
   "execution_count": 49,
   "metadata": {
    "ExecuteTime": {
     "end_time": "2021-02-15T00:46:50.148170Z",
     "start_time": "2021-02-15T00:46:50.136698Z"
    },
    "scrolled": true
   },
   "outputs": [
    {
     "data": {
      "text/plain": [
       "1001 to 5000 Employees     848\n",
       "10000+ Employees           710\n",
       "5001 to 10000 Employees    355\n",
       "1 to 50 Employees           57\n",
       "Unknown                      7\n",
       "501 to 1000 Employees        5\n",
       "201 to 500 Employees         1\n",
       "51 to 200 Employees          1\n",
       "Name: SIZE, dtype: int64"
      ]
     },
     "execution_count": 49,
     "metadata": {},
     "output_type": "execute_result"
    }
   ],
   "source": [
    "##inspect size column\n",
    "data.SIZE.value_counts(normalize=True)"
   ]
  },
  {
   "cell_type": "code",
   "execution_count": 48,
   "metadata": {
    "ExecuteTime": {
     "end_time": "2021-02-15T00:46:06.901637Z",
     "start_time": "2021-02-15T00:46:06.889674Z"
    }
   },
   "outputs": [
    {
     "data": {
      "text/plain": [
       "5.0    0.369792\n",
       "4.0    0.184896\n",
       "3.0    0.441667\n",
       "1.0    0.001042\n",
       "2.0    0.002604\n",
       "Name: SIZE_BIN, dtype: float64"
      ]
     },
     "execution_count": 48,
     "metadata": {},
     "output_type": "execute_result"
    }
   ],
   "source": [
    "data.SIZE_BIN.value_counts(normalize=True, sort=False)\n",
    "#5: 10k+\n",
    "#4: 5k-10k\n",
    "#3: 1k-5k\n",
    "#2: 500-1k\n",
    "#1: Under 500"
   ]
  },
  {
   "cell_type": "code",
   "execution_count": null,
   "metadata": {},
   "outputs": [],
   "source": []
  },
  {
   "cell_type": "code",
   "execution_count": 69,
   "metadata": {
    "ExecuteTime": {
     "end_time": "2021-02-14T23:50:56.430511Z",
     "start_time": "2021-02-14T23:50:56.411357Z"
    },
    "scrolled": true
   },
   "outputs": [
    {
     "data": {
      "text/html": [
       "<div>\n",
       "<style scoped>\n",
       "    .dataframe tbody tr th:only-of-type {\n",
       "        vertical-align: middle;\n",
       "    }\n",
       "\n",
       "    .dataframe tbody tr th {\n",
       "        vertical-align: top;\n",
       "    }\n",
       "\n",
       "    .dataframe thead th {\n",
       "        text-align: right;\n",
       "    }\n",
       "</style>\n",
       "<table border=\"1\" class=\"dataframe\">\n",
       "  <thead>\n",
       "    <tr style=\"text-align: right;\">\n",
       "      <th></th>\n",
       "      <th>INDUSTRY</th>\n",
       "    </tr>\n",
       "  </thead>\n",
       "  <tbody>\n",
       "    <tr>\n",
       "      <th>Health Care Services &amp; Hospitals</th>\n",
       "      <td>218</td>\n",
       "    </tr>\n",
       "    <tr>\n",
       "      <th>Colleges &amp; Universities</th>\n",
       "      <td>158</td>\n",
       "    </tr>\n",
       "    <tr>\n",
       "      <th>Computer Hardware &amp; Software</th>\n",
       "      <td>93</td>\n",
       "    </tr>\n",
       "    <tr>\n",
       "      <th>IT Services</th>\n",
       "      <td>72</td>\n",
       "    </tr>\n",
       "    <tr>\n",
       "      <th>Enterprise Software &amp; Network Solutions</th>\n",
       "      <td>69</td>\n",
       "    </tr>\n",
       "    <tr>\n",
       "      <th>Advertising &amp; Marketing</th>\n",
       "      <td>68</td>\n",
       "    </tr>\n",
       "    <tr>\n",
       "      <th>Insurance Carriers</th>\n",
       "      <td>63</td>\n",
       "    </tr>\n",
       "    <tr>\n",
       "      <th>Staffing &amp; Outsourcing</th>\n",
       "      <td>60</td>\n",
       "    </tr>\n",
       "    <tr>\n",
       "      <th>Investment Banking &amp; Asset Management</th>\n",
       "      <td>58</td>\n",
       "    </tr>\n",
       "    <tr>\n",
       "      <th>Consumer Products Manufacturing</th>\n",
       "      <td>54</td>\n",
       "    </tr>\n",
       "  </tbody>\n",
       "</table>\n",
       "</div>"
      ],
      "text/plain": [
       "                                         INDUSTRY\n",
       "Health Care Services & Hospitals              218\n",
       "Colleges & Universities                       158\n",
       "Computer Hardware & Software                   93\n",
       "IT Services                                    72\n",
       "Enterprise Software & Network Solutions        69\n",
       "Advertising & Marketing                        68\n",
       "Insurance Carriers                             63\n",
       "Staffing & Outsourcing                         60\n",
       "Investment Banking & Asset Management          58\n",
       "Consumer Products Manufacturing                54"
      ]
     },
     "execution_count": 69,
     "metadata": {},
     "output_type": "execute_result"
    }
   ],
   "source": [
    "#Most common industries\n",
    "data.INDUSTRY.value_counts()[:10].to_frame()"
   ]
  },
  {
   "cell_type": "code",
   "execution_count": 42,
   "metadata": {
    "ExecuteTime": {
     "end_time": "2021-02-15T00:40:59.569504Z",
     "start_time": "2021-02-15T00:40:59.539696Z"
    }
   },
   "outputs": [
    {
     "data": {
      "text/html": [
       "<div>\n",
       "<style scoped>\n",
       "    .dataframe tbody tr th:only-of-type {\n",
       "        vertical-align: middle;\n",
       "    }\n",
       "\n",
       "    .dataframe tbody tr th {\n",
       "        vertical-align: top;\n",
       "    }\n",
       "\n",
       "    .dataframe thead th {\n",
       "        text-align: right;\n",
       "    }\n",
       "</style>\n",
       "<table border=\"1\" class=\"dataframe\">\n",
       "  <thead>\n",
       "    <tr style=\"text-align: right;\">\n",
       "      <th></th>\n",
       "      <th>SIZE</th>\n",
       "      <th>LOCATION_HQ</th>\n",
       "      <th>INDUSTRY</th>\n",
       "      <th>RATING_OVERALL</th>\n",
       "      <th>RATING_DI</th>\n",
       "      <th>RATING_CV</th>\n",
       "      <th>RATING_WL</th>\n",
       "      <th>RATING_SM</th>\n",
       "      <th>RATING_CB</th>\n",
       "      <th>RATING_CO</th>\n",
       "      <th>NUM_REVIEWS</th>\n",
       "      <th>DESCRIPTION</th>\n",
       "      <th>MISSION</th>\n",
       "      <th>FULL_DESCRIPTION</th>\n",
       "      <th>CLEAN_DESCRIPTION</th>\n",
       "      <th>DESC_LEN</th>\n",
       "      <th>RATING_DI_BIN</th>\n",
       "      <th>SIZE_BIN</th>\n",
       "      <th>HQ_STATE</th>\n",
       "      <th>TARGET</th>\n",
       "    </tr>\n",
       "    <tr>\n",
       "      <th>NAME</th>\n",
       "      <th></th>\n",
       "      <th></th>\n",
       "      <th></th>\n",
       "      <th></th>\n",
       "      <th></th>\n",
       "      <th></th>\n",
       "      <th></th>\n",
       "      <th></th>\n",
       "      <th></th>\n",
       "      <th></th>\n",
       "      <th></th>\n",
       "      <th></th>\n",
       "      <th></th>\n",
       "      <th></th>\n",
       "      <th></th>\n",
       "      <th></th>\n",
       "      <th></th>\n",
       "      <th></th>\n",
       "      <th></th>\n",
       "      <th></th>\n",
       "    </tr>\n",
       "  </thead>\n",
       "  <tbody>\n",
       "    <tr>\n",
       "      <th>McKinsey &amp; Company</th>\n",
       "      <td>10000+ Employees</td>\n",
       "      <td>New York, NY</td>\n",
       "      <td>Consulting</td>\n",
       "      <td>4.5</td>\n",
       "      <td>4.4</td>\n",
       "      <td>4.4</td>\n",
       "      <td>3.0</td>\n",
       "      <td>4.1</td>\n",
       "      <td>4.4</td>\n",
       "      <td>4.5</td>\n",
       "      <td>5198</td>\n",
       "      <td>We work with leaders across sectors to tackle ...</td>\n",
       "      <td>Mission: Our mission is two-fold: to help our ...</td>\n",
       "      <td>We work with leaders across sectors to tackle ...</td>\n",
       "      <td>we work with leaders across sectors to tackle ...</td>\n",
       "      <td>1383</td>\n",
       "      <td>4</td>\n",
       "      <td>4.0</td>\n",
       "      <td>NY</td>\n",
       "      <td>1</td>\n",
       "    </tr>\n",
       "    <tr>\n",
       "      <th>Cornell University</th>\n",
       "      <td>10000+ Employees</td>\n",
       "      <td>Ithaca, NY</td>\n",
       "      <td>Colleges &amp; Universities</td>\n",
       "      <td>4.5</td>\n",
       "      <td>4.3</td>\n",
       "      <td>4.4</td>\n",
       "      <td>4.0</td>\n",
       "      <td>4.1</td>\n",
       "      <td>4.1</td>\n",
       "      <td>4.2</td>\n",
       "      <td>1765</td>\n",
       "      <td>Cornell is a private, Ivy League university re...</td>\n",
       "      <td></td>\n",
       "      <td>Cornell is a private, Ivy League university re...</td>\n",
       "      <td>cornell is  private ivy league university reco...</td>\n",
       "      <td>618</td>\n",
       "      <td>4</td>\n",
       "      <td>4.0</td>\n",
       "      <td>NY</td>\n",
       "      <td>1</td>\n",
       "    </tr>\n",
       "    <tr>\n",
       "      <th>UC Santa Barbara</th>\n",
       "      <td>5001 to 10000 Employees</td>\n",
       "      <td>Santa Barbara, CA</td>\n",
       "      <td>Colleges &amp; Universities</td>\n",
       "      <td>4.5</td>\n",
       "      <td>4.2</td>\n",
       "      <td>4.3</td>\n",
       "      <td>4.4</td>\n",
       "      <td>4.1</td>\n",
       "      <td>3.7</td>\n",
       "      <td>4.0</td>\n",
       "      <td>1049</td>\n",
       "      <td>Dude, let's hit the beach! And then we'll hit ...</td>\n",
       "      <td></td>\n",
       "      <td>Dude, let's hit the beach! And then we'll hit ...</td>\n",
       "      <td>dude let hit the beach and then well hit the b...</td>\n",
       "      <td>654</td>\n",
       "      <td>4</td>\n",
       "      <td>3.0</td>\n",
       "      <td>CA</td>\n",
       "      <td>1</td>\n",
       "    </tr>\n",
       "  </tbody>\n",
       "</table>\n",
       "</div>"
      ],
      "text/plain": [
       "                                       SIZE        LOCATION_HQ  \\\n",
       "NAME                                                             \n",
       "McKinsey & Company         10000+ Employees       New York, NY   \n",
       "Cornell University         10000+ Employees         Ithaca, NY   \n",
       "UC Santa Barbara    5001 to 10000 Employees  Santa Barbara, CA   \n",
       "\n",
       "                                   INDUSTRY  RATING_OVERALL  RATING_DI  \\\n",
       "NAME                                                                     \n",
       "McKinsey & Company               Consulting             4.5        4.4   \n",
       "Cornell University  Colleges & Universities             4.5        4.3   \n",
       "UC Santa Barbara    Colleges & Universities             4.5        4.2   \n",
       "\n",
       "                    RATING_CV  RATING_WL  RATING_SM  RATING_CB  RATING_CO  \\\n",
       "NAME                                                                        \n",
       "McKinsey & Company        4.4        3.0        4.1        4.4        4.5   \n",
       "Cornell University        4.4        4.0        4.1        4.1        4.2   \n",
       "UC Santa Barbara          4.3        4.4        4.1        3.7        4.0   \n",
       "\n",
       "                    NUM_REVIEWS  \\\n",
       "NAME                              \n",
       "McKinsey & Company         5198   \n",
       "Cornell University         1765   \n",
       "UC Santa Barbara           1049   \n",
       "\n",
       "                                                          DESCRIPTION  \\\n",
       "NAME                                                                    \n",
       "McKinsey & Company  We work with leaders across sectors to tackle ...   \n",
       "Cornell University  Cornell is a private, Ivy League university re...   \n",
       "UC Santa Barbara    Dude, let's hit the beach! And then we'll hit ...   \n",
       "\n",
       "                                                              MISSION  \\\n",
       "NAME                                                                    \n",
       "McKinsey & Company  Mission: Our mission is two-fold: to help our ...   \n",
       "Cornell University                                                      \n",
       "UC Santa Barbara                                                        \n",
       "\n",
       "                                                     FULL_DESCRIPTION  \\\n",
       "NAME                                                                    \n",
       "McKinsey & Company  We work with leaders across sectors to tackle ...   \n",
       "Cornell University  Cornell is a private, Ivy League university re...   \n",
       "UC Santa Barbara    Dude, let's hit the beach! And then we'll hit ...   \n",
       "\n",
       "                                                    CLEAN_DESCRIPTION  \\\n",
       "NAME                                                                    \n",
       "McKinsey & Company  we work with leaders across sectors to tackle ...   \n",
       "Cornell University  cornell is  private ivy league university reco...   \n",
       "UC Santa Barbara    dude let hit the beach and then well hit the b...   \n",
       "\n",
       "                    DESC_LEN  RATING_DI_BIN  SIZE_BIN HQ_STATE  TARGET  \n",
       "NAME                                                                    \n",
       "McKinsey & Company      1383              4       4.0       NY       1  \n",
       "Cornell University       618              4       4.0       NY       1  \n",
       "UC Santa Barbara         654              4       3.0       CA       1  "
      ]
     },
     "execution_count": 42,
     "metadata": {},
     "output_type": "execute_result"
    }
   ],
   "source": [
    "data.head(3)"
   ]
  },
  {
   "cell_type": "code",
   "execution_count": 32,
   "metadata": {
    "ExecuteTime": {
     "end_time": "2021-02-15T00:26:32.469278Z",
     "start_time": "2021-02-15T00:26:32.451978Z"
    }
   },
   "outputs": [
    {
     "name": "stdout",
     "output_type": "stream",
     "text": [
      "<class 'pandas.core.frame.DataFrame'>\n",
      "Index: 1984 entries, McKinsey & Company to Veterans Benefits Administration\n",
      "Data columns (total 20 columns):\n",
      "SIZE                 1984 non-null object\n",
      "LOCATION_HQ          1984 non-null object\n",
      "INDUSTRY             1984 non-null object\n",
      "RATING_OVERALL       1984 non-null float64\n",
      "RATING_DI            1984 non-null float64\n",
      "RATING_CV            1984 non-null float64\n",
      "RATING_WL            1984 non-null float64\n",
      "RATING_SM            1984 non-null float64\n",
      "RATING_CB            1984 non-null float64\n",
      "RATING_CO            1984 non-null float64\n",
      "NUM_REVIEWS          1984 non-null int64\n",
      "DESCRIPTION          1984 non-null object\n",
      "MISSION              1984 non-null object\n",
      "FULL_DESCRIPTION     1984 non-null object\n",
      "CLEAN_DESCRIPTION    1984 non-null object\n",
      "DESC_LEN             1984 non-null int64\n",
      "RATING_DI_BIN        1984 non-null int64\n",
      "SIZE_BIN             1920 non-null float64\n",
      "HQ_STATE             1984 non-null object\n",
      "TARGET               1984 non-null int64\n",
      "dtypes: float64(8), int64(4), object(8)\n",
      "memory usage: 325.5+ KB\n",
      "None\n"
     ]
    }
   ],
   "source": [
    "#Checking datatypes for plotting\n",
    "print(data.info()) #Sanity Check"
   ]
  },
  {
   "cell_type": "code",
   "execution_count": 46,
   "metadata": {
    "ExecuteTime": {
     "end_time": "2021-02-13T22:23:24.561718Z",
     "start_time": "2021-02-13T22:23:24.555012Z"
    }
   },
   "outputs": [],
   "source": [
    "# import seaborn as sns\n",
    "# import matplotlib.pyplot as plt"
   ]
  },
  {
   "cell_type": "code",
   "execution_count": 48,
   "metadata": {
    "ExecuteTime": {
     "end_time": "2021-02-13T22:23:28.904077Z",
     "start_time": "2021-02-13T22:23:25.322074Z"
    },
    "scrolled": false
   },
   "outputs": [
    {
     "data": {
      "image/png": "[encoded data removed]",
      "text/plain": [
       "<Figure size 720x720 with 12 Axes>"
      ]
     },
     "metadata": {
      "needs_background": "light"
     },
     "output_type": "display_data"
    }
   ],
   "source": [
    "data.hist(bins=50, figsize=(10,10)) #sharex, sharey\n",
    "plt.show()"
   ]
  },
  {
   "cell_type": "markdown",
   "metadata": {},
   "source": [
    "Rating distributions are mostly normal"
   ]
  },
  {
   "cell_type": "code",
   "execution_count": 49,
   "metadata": {
    "ExecuteTime": {
     "end_time": "2021-02-13T22:23:30.299639Z",
     "start_time": "2021-02-13T22:23:28.907478Z"
    }
   },
   "outputs": [
    {
     "data": {
      "image/png": "[encoded data removed]",
      "text/plain": [
       "<Figure size 720x432 with 2 Axes>"
      ]
     },
     "metadata": {
      "needs_background": "light"
     },
     "output_type": "display_data"
    }
   ],
   "source": [
    "fig, ax = plt.subplots(figsize=(10, 6))\n",
    "\n",
    "corr = data.corr()\n",
    "\n",
    "# Generate a mask for the upper triangle\n",
    "mask = np.zeros_like(corr, dtype=np.bool)\n",
    "mask[np.triu_indices_from(mask)] = True\n",
    "\n",
    "sns.heatmap(corr, cmap='bwr', center=0, annot=True)\n",
    "\n",
    "# fix for matplotlib bug that cuts off top/bottom of seaborn viz\n",
    "b, t = plt.ylim() # discover the values for bottom and top\n",
    "b += 0.5 # Add 0.5 to the bottom\n",
    "t -= 0.5 # Subtract 0.5 from the top\n",
    "plt.ylim(b, t) # update the ylim(bottom, top) values\n",
    "\n",
    "plt.show()"
   ]
  },
  {
   "cell_type": "code",
   "execution_count": 50,
   "metadata": {
    "ExecuteTime": {
     "end_time": "2021-02-13T22:23:56.889819Z",
     "start_time": "2021-02-13T22:23:30.304013Z"
    }
   },
   "outputs": [
    {
     "data": {
      "text/plain": [
       "<seaborn.axisgrid.PairGrid at 0x7fe30a669d30>"
      ]
     },
     "execution_count": 50,
     "metadata": {},
     "output_type": "execute_result"
    },
    {
     "data": {
      "image/png": "[encoded data removed]",
      "text/plain": [
       "<Figure size 900x900 with 30 Axes>"
      ]
     },
     "metadata": {
      "needs_background": "light"
     },
     "output_type": "display_data"
    }
   ],
   "source": [
    "###find a better plot for this (bubbles?)\n",
    "#continuous variables\n",
    "sns.pairplot(data[['RATING_DI', 'RATING_DI_BIN', 'SIZE_BIN', 'RATING_OVERALL', 'NUM_REVIEWS']], corner=True)\n"
   ]
  },
  {
   "cell_type": "markdown",
   "metadata": {},
   "source": [
    "### Rating"
   ]
  },
  {
   "cell_type": "code",
   "execution_count": null,
   "metadata": {},
   "outputs": [],
   "source": [
    "# #PIE\n",
    "# names = data.RATING_DI.unique()\n",
    "# values = data.groupby(['RATING_DI_BIN'])['DESC_LEN'].mean()\n",
    "\n",
    "# # Visualize top CO2 contributers \n",
    "# fig = px.pie(data, values=values, names=names,\n",
    "#       title = 'CO2 Emissions by Country') #RATING\n",
    "# fig.update_traces(textposition='inside', textinfo='percent+label')\n",
    "# fig.update_layout(showlegend=False)\n",
    "# fig.show()"
   ]
  },
  {
   "cell_type": "code",
   "execution_count": 52,
   "metadata": {
    "ExecuteTime": {
     "end_time": "2021-02-13T22:23:57.017140Z",
     "start_time": "2021-02-13T22:23:56.927770Z"
    },
    "scrolled": false
   },
   "outputs": [
    {
     "data": {
      "text/plain": [
       "(3.0, 4.0]      992\n",
       "(4.0, 5.0]      887\n",
       "(2.0, 3.0]       41\n",
       "(0.995, 2.0]      4\n",
       "Name: RATING_DI, dtype: int64"
      ]
     },
     "execution_count": 52,
     "metadata": {},
     "output_type": "execute_result"
    }
   ],
   "source": [
    "data.RATING_DI.value_counts(bins=4)"
   ]
  },
  {
   "cell_type": "markdown",
   "metadata": {},
   "source": [
    "### Company Size"
   ]
  },
  {
   "cell_type": "code",
   "execution_count": 53,
   "metadata": {
    "ExecuteTime": {
     "end_time": "2021-02-13T22:23:57.077588Z",
     "start_time": "2021-02-13T22:23:57.039217Z"
    },
    "scrolled": true
   },
   "outputs": [
    {
     "data": {
      "text/plain": [
       "1001 to 5000 Employees     848\n",
       "10000+ Employees           710\n",
       "5001 to 10000 Employees    355\n",
       "501 to 1000 Employees        5\n",
       "Unknown                      4\n",
       "51 to 200 Employees          1\n",
       "201 to 500 Employees         1\n",
       "Name: SIZE, dtype: int64"
      ]
     },
     "execution_count": 53,
     "metadata": {},
     "output_type": "execute_result"
    }
   ],
   "source": [
    "data.SIZE.value_counts()"
   ]
  },
  {
   "cell_type": "code",
   "execution_count": 54,
   "metadata": {
    "ExecuteTime": {
     "end_time": "2021-02-13T22:23:58.007037Z",
     "start_time": "2021-02-13T22:23:57.100947Z"
    },
    "scrolled": true
   },
   "outputs": [
    {
     "data": {
      "image/png": "[encoded data removed]",
      "text/plain": [
       "<Figure size 432x288 with 1 Axes>"
      ]
     },
     "metadata": {
      "needs_background": "light"
     },
     "output_type": "display_data"
    }
   ],
   "source": [
    "### try RATING_DI_BIN\n",
    "data.plot(kind='hist', \n",
    "          x='SIZE_BIN', \n",
    "          y='RATING_DI')\n",
    "plt.show()\n",
    "\n",
    "###make this a boxplot??"
   ]
  },
  {
   "cell_type": "code",
   "execution_count": 53,
   "metadata": {
    "ExecuteTime": {
     "end_time": "2021-02-15T00:51:10.478755Z",
     "start_time": "2021-02-15T00:51:09.897193Z"
    }
   },
   "outputs": [
    {
     "data": {
      "text/plain": [
       "Text(0.5, 0, 'Bathrooms')"
      ]
     },
     "execution_count": 53,
     "metadata": {},
     "output_type": "execute_result"
    },
    {
     "data": {
      "image/png": "[encoded data removed]",
      "text/plain": [
       "<Figure size 1440x720 with 1 Axes>"
      ]
     },
     "metadata": {
      "needs_background": "light"
     },
     "output_type": "display_data"
    }
   ],
   "source": [
    "###BOXPLOT?\n",
    "plt.figure(figsize=(20,10))\n",
    "ax = sns.boxplot(x=data['SIZE'], y=data['RATING_DI'], data=data)\n",
    " \n",
    "# Calculate number of obs per group & median to position labels\n",
    "medians = data.groupby(['SIZE'])['RATING_DI'].median().values\n",
    "nobs = data['SIZE'].value_counts().values\n",
    "nobs = [str(x) for x in nobs.tolist()]\n",
    "nobs = [\"n: \" + i for i in nobs]\n",
    " \n",
    "# Add it to the plot\n",
    "pos = range(len(nobs))\n",
    "for tick,label in zip(pos,ax.get_xticklabels()):\n",
    "    ax.text(pos[tick], medians[tick] + 0.03, nobs[tick],\n",
    "horizontalalignment='center', size='small', color='w', weight='semibold')\n",
    "    \n",
    "plt.title('Selling Price Based on Number of Bathrooms', size=20)\n",
    "plt.ylabel('Diversity and Inclusivity Rating', size=15)\n",
    "plt.xlabel('Company Size', size=15)"
   ]
  },
  {
   "cell_type": "code",
   "execution_count": 55,
   "metadata": {
    "ExecuteTime": {
     "end_time": "2021-02-13T22:23:58.059758Z",
     "start_time": "2021-02-13T22:23:58.030842Z"
    },
    "scrolled": true
   },
   "outputs": [
    {
     "data": {
      "text/plain": [
       "SIZE_BIN  RATING_DI\n",
       "1.0       3.8          0.285714\n",
       "          3.4          0.142857\n",
       "          3.5          0.142857\n",
       "          3.6          0.142857\n",
       "          3.9          0.142857\n",
       "          4.3          0.142857\n",
       "2.0       4.1          0.126761\n",
       "          4.2          0.109859\n",
       "          3.9          0.107042\n",
       "          3.8          0.087324\n",
       "          4.0          0.087324\n",
       "          4.4          0.073239\n",
       "          3.7          0.064789\n",
       "          4.3          0.061972\n",
       "          3.6          0.053521\n",
       "          4.5          0.047887\n",
       "          3.4          0.033803\n",
       "          4.6          0.033803\n",
       "          3.5          0.022535\n",
       "          3.3          0.016901\n",
       "          4.7          0.014085\n",
       "          3.1          0.011268\n",
       "          4.8          0.011268\n",
       "          3.2          0.008451\n",
       "          2.8          0.005634\n",
       "          2.9          0.005634\n",
       "          4.9          0.005634\n",
       "          1.0          0.002817\n",
       "          2.2          0.002817\n",
       "          3.0          0.002817\n",
       "          5.0          0.002817\n",
       "3.0       4.0          0.097877\n",
       "          3.9          0.090802\n",
       "          4.1          0.090802\n",
       "          4.2          0.080189\n",
       "          4.3          0.080189\n",
       "          4.4          0.076651\n",
       "          3.7          0.071934\n",
       "          4.5          0.058962\n",
       "          3.6          0.050708\n",
       "          3.8          0.049528\n",
       "          4.7          0.038915\n",
       "          4.6          0.037736\n",
       "          3.4          0.033019\n",
       "          3.5          0.029481\n",
       "          3.1          0.018868\n",
       "          5.0          0.017689\n",
       "          3.0          0.014151\n",
       "          3.2          0.011792\n",
       "          4.8          0.011792\n",
       "Name: RATING_DI, dtype: float64"
      ]
     },
     "execution_count": 55,
     "metadata": {},
     "output_type": "execute_result"
    }
   ],
   "source": [
    "##Size vs Rating DI\n",
    "data.groupby('SIZE_BIN')['RATING_DI_BIN'].value_counts(normalize=True).to_frame()#[:50]"
   ]
  },
  {
   "cell_type": "markdown",
   "metadata": {},
   "source": [
    "### Inspecting INDUSTRY"
   ]
  },
  {
   "cell_type": "code",
   "execution_count": 56,
   "metadata": {
    "ExecuteTime": {
     "end_time": "2021-02-13T22:23:58.085881Z",
     "start_time": "2021-02-13T22:23:58.067638Z"
    }
   },
   "outputs": [
    {
     "name": "stdout",
     "output_type": "stream",
     "text": [
      "Number of industries:  120\n"
     ]
    },
    {
     "data": {
      "text/plain": [
       "['Consulting',\n",
       " 'Colleges & Universities',\n",
       " 'Computer Hardware & Software',\n",
       " 'Internet',\n",
       " 'Enterprise Software & Network Solutions',\n",
       " 'Grocery Stores & Supermarkets',\n",
       " 'Health Care Services & Hospitals',\n",
       " 'Biotech & Pharmaceuticals',\n",
       " 'Investment Banking & Asset Management',\n",
       " 'Federal Agencies',\n",
       " 'Staffing & Outsourcing',\n",
       " 'Cruise Ships',\n",
       " 'IT Services',\n",
       " 'Fast-Food & Quick-Service Restaurants',\n",
       " 'Catering & Food Service Contractors',\n",
       " 'Insurance Carriers',\n",
       " 'Oil & Gas Exploration & Production',\n",
       " 'Hotels, Motels, & Resorts',\n",
       " 'Food & Beverage Manufacturing',\n",
       " 'Banks & Credit Unions',\n",
       " 'Video Games',\n",
       " 'Construction',\n",
       " 'Convenience Stores & Truck Stops',\n",
       " 'Insurance Agencies & Brokerages',\n",
       " 'Real Estate',\n",
       " 'Cable, Internet & Telephone Providers',\n",
       " 'Energy',\n",
       " 'Financial Transaction Processing',\n",
       " 'Electrical & Electronic Manufacturing',\n",
       " 'Casual Restaurants',\n",
       " 'Food & Beverage Stores',\n",
       " 'Airlines',\n",
       " 'Brokerage Services',\n",
       " 'Museums, Zoos & Amusement Parks',\n",
       " 'Sporting Goods Stores',\n",
       " 'TV Broadcast & Cable Networks',\n",
       " 'Aerospace & Defense',\n",
       " 'Consumer Products Manufacturing',\n",
       " 'Utilities',\n",
       " 'Department, Clothing, & Shoe Stores',\n",
       " 'Chemical Manufacturing',\n",
       " 'Sports & Recreation',\n",
       " 'Oil & Gas Services',\n",
       " 'Architectural & Engineering Services',\n",
       " 'Motion Picture Production & Distribution',\n",
       " 'Financial Analytics & Research',\n",
       " 'General Merchandise & Superstores',\n",
       " 'Transportation Management',\n",
       " 'Beauty & Personal Accessories Stores',\n",
       " 'Industrial Manufacturing',\n",
       " 'K-12 Education',\n",
       " 'Education Training Services',\n",
       " 'Accounting',\n",
       " 'Social Assistance',\n",
       " 'Home Centers & Hardware Stores',\n",
       " 'Health, Beauty, & Fitness',\n",
       " 'Transportation Equipment Manufacturing',\n",
       " 'Other Retail Stores',\n",
       " 'Advertising & Marketing',\n",
       " 'Vehicle Dealers',\n",
       " 'Building & Personnel Services',\n",
       " 'Security Services',\n",
       " 'Publishing',\n",
       " 'Home Furniture & Housewares Stores',\n",
       " 'Wholesale',\n",
       " 'Telecommunications Services',\n",
       " 'Movie Theaters',\n",
       " 'Lending',\n",
       " 'Research & Development',\n",
       " 'Preschool & Child Care',\n",
       " 'Logistics & Supply Chain',\n",
       " 'Miscellaneous Manufacturing',\n",
       " 'Business Service Centers & Copy Shops',\n",
       " 'Automotive Parts & Accessories Stores',\n",
       " 'Religious Organizations',\n",
       " '$5 to $10 billion (USD)',\n",
       " 'Photography',\n",
       " 'Consumer Electronics & Appliances Stores',\n",
       " 'Office Supply Stores',\n",
       " 'Radio',\n",
       " 'Drug & Health Stores',\n",
       " 'Gas Stations',\n",
       " 'Car Rental',\n",
       " 'Toy & Hobby Stores',\n",
       " 'Rail',\n",
       " 'Membership Organizations',\n",
       " 'Municipal Governments',\n",
       " 'Legal',\n",
       " 'Gambling',\n",
       " 'State & Regional Agencies',\n",
       " 'Grantmaking Foundations',\n",
       " 'Health Care Products Manufacturing',\n",
       " 'Venture Capital & Private Equity',\n",
       " 'Veterinary Services',\n",
       " 'Food Production',\n",
       " 'Music Production & Distribution',\n",
       " 'Charter Air Travel',\n",
       " 'Bus Transportation Services',\n",
       " 'Consumer Product Rental',\n",
       " 'Trucking',\n",
       " 'Telecommunications Manufacturing',\n",
       " 'Metal & Mineral Manufacturing',\n",
       " 'Gift, Novelty & Souvenir Stores',\n",
       " 'General Repair & Maintenance',\n",
       " 'News Outlet',\n",
       " 'Shipping',\n",
       " 'Express Delivery Services',\n",
       " 'Upscale Restaurants',\n",
       " 'Travel Agencies',\n",
       " 'Stock Exchanges',\n",
       " 'Ticket Sales',\n",
       " 'Audiovisual',\n",
       " 'Auctions & Galleries',\n",
       " 'Mining',\n",
       " 'Farm Support Services',\n",
       " 'Media & Entertainment Retail Stores',\n",
       " 'Auto Repair & Maintenance',\n",
       " '$2 to $5 billion (USD)',\n",
       " 'Parking Lots & Garages',\n",
       " 'Funeral Services']"
      ]
     },
     "execution_count": 56,
     "metadata": {},
     "output_type": "execute_result"
    }
   ],
   "source": [
    "print('Number of industries: ', len(data.INDUSTRY.unique())) #120\n",
    "list(data.INDUSTRY.unique())\n"
   ]
  },
  {
   "cell_type": "code",
   "execution_count": 57,
   "metadata": {
    "ExecuteTime": {
     "end_time": "2021-02-13T22:23:58.123913Z",
     "start_time": "2021-02-13T22:23:58.092450Z"
    },
    "scrolled": true
   },
   "outputs": [
    {
     "data": {
      "text/html": [
       "<div>\n",
       "<style scoped>\n",
       "    .dataframe tbody tr th:only-of-type {\n",
       "        vertical-align: middle;\n",
       "    }\n",
       "\n",
       "    .dataframe tbody tr th {\n",
       "        vertical-align: top;\n",
       "    }\n",
       "\n",
       "    .dataframe thead th {\n",
       "        text-align: right;\n",
       "    }\n",
       "</style>\n",
       "<table border=\"1\" class=\"dataframe\">\n",
       "  <thead>\n",
       "    <tr style=\"text-align: right;\">\n",
       "      <th></th>\n",
       "      <th>INDUSTRY</th>\n",
       "    </tr>\n",
       "  </thead>\n",
       "  <tbody>\n",
       "    <tr>\n",
       "      <th>Health Care Services &amp; Hospitals</th>\n",
       "      <td>211</td>\n",
       "    </tr>\n",
       "    <tr>\n",
       "      <th>Colleges &amp; Universities</th>\n",
       "      <td>154</td>\n",
       "    </tr>\n",
       "    <tr>\n",
       "      <th>Computer Hardware &amp; Software</th>\n",
       "      <td>76</td>\n",
       "    </tr>\n",
       "    <tr>\n",
       "      <th>Insurance Carriers</th>\n",
       "      <td>61</td>\n",
       "    </tr>\n",
       "    <tr>\n",
       "      <th>IT Services</th>\n",
       "      <td>61</td>\n",
       "    </tr>\n",
       "    <tr>\n",
       "      <th>Enterprise Software &amp; Network Solutions</th>\n",
       "      <td>57</td>\n",
       "    </tr>\n",
       "    <tr>\n",
       "      <th>Investment Banking &amp; Asset Management</th>\n",
       "      <td>53</td>\n",
       "    </tr>\n",
       "    <tr>\n",
       "      <th>Consumer Products Manufacturing</th>\n",
       "      <td>52</td>\n",
       "    </tr>\n",
       "    <tr>\n",
       "      <th>Staffing &amp; Outsourcing</th>\n",
       "      <td>46</td>\n",
       "    </tr>\n",
       "    <tr>\n",
       "      <th>Banks &amp; Credit Unions</th>\n",
       "      <td>45</td>\n",
       "    </tr>\n",
       "    <tr>\n",
       "      <th>Department, Clothing, &amp; Shoe Stores</th>\n",
       "      <td>43</td>\n",
       "    </tr>\n",
       "    <tr>\n",
       "      <th>Industrial Manufacturing</th>\n",
       "      <td>43</td>\n",
       "    </tr>\n",
       "    <tr>\n",
       "      <th>Casual Restaurants</th>\n",
       "      <td>41</td>\n",
       "    </tr>\n",
       "    <tr>\n",
       "      <th>Federal Agencies</th>\n",
       "      <td>40</td>\n",
       "    </tr>\n",
       "    <tr>\n",
       "      <th>Biotech &amp; Pharmaceuticals</th>\n",
       "      <td>40</td>\n",
       "    </tr>\n",
       "    <tr>\n",
       "      <th>Electrical &amp; Electronic Manufacturing</th>\n",
       "      <td>36</td>\n",
       "    </tr>\n",
       "    <tr>\n",
       "      <th>Consulting</th>\n",
       "      <td>34</td>\n",
       "    </tr>\n",
       "    <tr>\n",
       "      <th>Construction</th>\n",
       "      <td>32</td>\n",
       "    </tr>\n",
       "    <tr>\n",
       "      <th>Food &amp; Beverage Manufacturing</th>\n",
       "      <td>32</td>\n",
       "    </tr>\n",
       "    <tr>\n",
       "      <th>Energy</th>\n",
       "      <td>32</td>\n",
       "    </tr>\n",
       "    <tr>\n",
       "      <th>Advertising &amp; Marketing</th>\n",
       "      <td>32</td>\n",
       "    </tr>\n",
       "    <tr>\n",
       "      <th>Internet</th>\n",
       "      <td>30</td>\n",
       "    </tr>\n",
       "    <tr>\n",
       "      <th>Real Estate</th>\n",
       "      <td>27</td>\n",
       "    </tr>\n",
       "    <tr>\n",
       "      <th>Hotels, Motels, &amp; Resorts</th>\n",
       "      <td>27</td>\n",
       "    </tr>\n",
       "    <tr>\n",
       "      <th>Transportation Equipment Manufacturing</th>\n",
       "      <td>24</td>\n",
       "    </tr>\n",
       "    <tr>\n",
       "      <th>Legal</th>\n",
       "      <td>21</td>\n",
       "    </tr>\n",
       "    <tr>\n",
       "      <th>Aerospace &amp; Defense</th>\n",
       "      <td>21</td>\n",
       "    </tr>\n",
       "    <tr>\n",
       "      <th>Fast-Food &amp; Quick-Service Restaurants</th>\n",
       "      <td>18</td>\n",
       "    </tr>\n",
       "    <tr>\n",
       "      <th>Other Retail Stores</th>\n",
       "      <td>18</td>\n",
       "    </tr>\n",
       "    <tr>\n",
       "      <th>Chemical Manufacturing</th>\n",
       "      <td>18</td>\n",
       "    </tr>\n",
       "    <tr>\n",
       "      <th>Insurance Agencies &amp; Brokerages</th>\n",
       "      <td>17</td>\n",
       "    </tr>\n",
       "    <tr>\n",
       "      <th>Utilities</th>\n",
       "      <td>17</td>\n",
       "    </tr>\n",
       "    <tr>\n",
       "      <th>Grocery Stores &amp; Supermarkets</th>\n",
       "      <td>17</td>\n",
       "    </tr>\n",
       "    <tr>\n",
       "      <th>Municipal Governments</th>\n",
       "      <td>16</td>\n",
       "    </tr>\n",
       "    <tr>\n",
       "      <th>Wholesale</th>\n",
       "      <td>15</td>\n",
       "    </tr>\n",
       "    <tr>\n",
       "      <th>K-12 Education</th>\n",
       "      <td>15</td>\n",
       "    </tr>\n",
       "    <tr>\n",
       "      <th>Social Assistance</th>\n",
       "      <td>14</td>\n",
       "    </tr>\n",
       "    <tr>\n",
       "      <th>Sports &amp; Recreation</th>\n",
       "      <td>14</td>\n",
       "    </tr>\n",
       "    <tr>\n",
       "      <th>Lending</th>\n",
       "      <td>13</td>\n",
       "    </tr>\n",
       "    <tr>\n",
       "      <th>Architectural &amp; Engineering Services</th>\n",
       "      <td>13</td>\n",
       "    </tr>\n",
       "    <tr>\n",
       "      <th>Research &amp; Development</th>\n",
       "      <td>12</td>\n",
       "    </tr>\n",
       "    <tr>\n",
       "      <th>Catering &amp; Food Service Contractors</th>\n",
       "      <td>11</td>\n",
       "    </tr>\n",
       "    <tr>\n",
       "      <th>Building &amp; Personnel Services</th>\n",
       "      <td>11</td>\n",
       "    </tr>\n",
       "    <tr>\n",
       "      <th>Logistics &amp; Supply Chain</th>\n",
       "      <td>11</td>\n",
       "    </tr>\n",
       "    <tr>\n",
       "      <th>Cable, Internet &amp; Telephone Providers</th>\n",
       "      <td>10</td>\n",
       "    </tr>\n",
       "    <tr>\n",
       "      <th>Vehicle Dealers</th>\n",
       "      <td>10</td>\n",
       "    </tr>\n",
       "    <tr>\n",
       "      <th>Oil &amp; Gas Services</th>\n",
       "      <td>10</td>\n",
       "    </tr>\n",
       "    <tr>\n",
       "      <th>Oil &amp; Gas Exploration &amp; Production</th>\n",
       "      <td>10</td>\n",
       "    </tr>\n",
       "    <tr>\n",
       "      <th>Home Furniture &amp; Housewares Stores</th>\n",
       "      <td>9</td>\n",
       "    </tr>\n",
       "    <tr>\n",
       "      <th>Health, Beauty, &amp; Fitness</th>\n",
       "      <td>9</td>\n",
       "    </tr>\n",
       "  </tbody>\n",
       "</table>\n",
       "</div>"
      ],
      "text/plain": [
       "                                         INDUSTRY\n",
       "Health Care Services & Hospitals              211\n",
       "Colleges & Universities                       154\n",
       "Computer Hardware & Software                   76\n",
       "Insurance Carriers                             61\n",
       "IT Services                                    61\n",
       "Enterprise Software & Network Solutions        57\n",
       "Investment Banking & Asset Management          53\n",
       "Consumer Products Manufacturing                52\n",
       "Staffing & Outsourcing                         46\n",
       "Banks & Credit Unions                          45\n",
       "Department, Clothing, & Shoe Stores            43\n",
       "Industrial Manufacturing                       43\n",
       "Casual Restaurants                             41\n",
       "Federal Agencies                               40\n",
       "Biotech & Pharmaceuticals                      40\n",
       "Electrical & Electronic Manufacturing          36\n",
       "Consulting                                     34\n",
       "Construction                                   32\n",
       "Food & Beverage Manufacturing                  32\n",
       "Energy                                         32\n",
       "Advertising & Marketing                        32\n",
       "Internet                                       30\n",
       "Real Estate                                    27\n",
       "Hotels, Motels, & Resorts                      27\n",
       "Transportation Equipment Manufacturing         24\n",
       "Legal                                          21\n",
       "Aerospace & Defense                            21\n",
       "Fast-Food & Quick-Service Restaurants          18\n",
       "Other Retail Stores                            18\n",
       "Chemical Manufacturing                         18\n",
       "Insurance Agencies & Brokerages                17\n",
       "Utilities                                      17\n",
       "Grocery Stores & Supermarkets                  17\n",
       "Municipal Governments                          16\n",
       "Wholesale                                      15\n",
       "K-12 Education                                 15\n",
       "Social Assistance                              14\n",
       "Sports & Recreation                            14\n",
       "Lending                                        13\n",
       "Architectural & Engineering Services           13\n",
       "Research & Development                         12\n",
       "Catering & Food Service Contractors            11\n",
       "Building & Personnel Services                  11\n",
       "Logistics & Supply Chain                       11\n",
       "Cable, Internet & Telephone Providers          10\n",
       "Vehicle Dealers                                10\n",
       "Oil & Gas Services                             10\n",
       "Oil & Gas Exploration & Production             10\n",
       "Home Furniture & Housewares Stores              9\n",
       "Health, Beauty, & Fitness                       9"
      ]
     },
     "execution_count": 57,
     "metadata": {},
     "output_type": "execute_result"
    }
   ],
   "source": [
    "#Top 50 with value counts\n",
    "data.INDUSTRY.value_counts()[:50].to_frame()"
   ]
  },
  {
   "cell_type": "code",
   "execution_count": null,
   "metadata": {},
   "outputs": [],
   "source": [
    "#Top 50 with value counts\n",
    "data.INDUSTRY.value_counts()[50:].to_frame()"
   ]
  },
  {
   "cell_type": "code",
   "execution_count": null,
   "metadata": {},
   "outputs": [],
   "source": []
  },
  {
   "cell_type": "markdown",
   "metadata": {},
   "source": [
    "### Description\n",
    "DESC_LEN"
   ]
  },
  {
   "cell_type": "code",
   "execution_count": null,
   "metadata": {},
   "outputs": [],
   "source": []
  },
  {
   "cell_type": "code",
   "execution_count": null,
   "metadata": {},
   "outputs": [],
   "source": []
  },
  {
   "cell_type": "markdown",
   "metadata": {},
   "source": [
    "### Notes"
   ]
  },
  {
   "cell_type": "markdown",
   "metadata": {},
   "source": [
    "Extras:\n",
    "- test new scraper on \"Retail\"\n",
    "\n",
    "Stretch:\n",
    "- new column called STATE (map?)\n",
    "    - OR map out the cities for a map\n",
    "- EDA: are larger companies more likely to be inclusive?\n"
   ]
  },
  {
   "cell_type": "code",
   "execution_count": null,
   "metadata": {},
   "outputs": [],
   "source": []
  }
 ],
 "metadata": {
  "kernelspec": {
   "display_name": "Python 3",
   "language": "python",
   "name": "python3"
  },
  "language_info": {
   "codemirror_mode": {
    "name": "ipython",
    "version": 3
   },
   "file_extension": ".py",
   "mimetype": "text/x-python",
   "name": "python",
   "nbconvert_exporter": "python",
   "pygments_lexer": "ipython3",
   "version": "3.6.9"
  },
  "toc": {
   "base_numbering": 1,
   "nav_menu": {},
   "number_sections": true,
   "sideBar": true,
   "skip_h1_title": false,
   "title_cell": "Table of Contents",
   "title_sidebar": "Contents",
   "toc_cell": false,
   "toc_position": {},
   "toc_section_display": true,
   "toc_window_display": false
  }
 },
 "nbformat": 4,
 "nbformat_minor": 4
}
