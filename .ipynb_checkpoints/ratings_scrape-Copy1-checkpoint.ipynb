{
 "cells": [
  {
   "cell_type": "code",
   "execution_count": 1,
   "metadata": {
    "ExecuteTime": {
     "end_time": "2021-02-05T03:36:16.133727Z",
     "start_time": "2021-02-05T03:36:16.121655Z"
    },
    "scrolled": true
   },
   "outputs": [],
   "source": [
    "# Google:\n",
    "#url = \"https://www.glassdoor.com/Overview/Working-at-Google-EI_IE9079.11,17.htm\"\n",
    "# Microsoft:\n",
    "#url = \"https://www.glassdoor.com/Overview/Working-at-Microsoft-EI_IE1651.11,20.htm\"\n",
    "# Cisco:\n",
    "#url = \"https://www.glassdoor.com/Overview/Working-at-Cisco-Systems-EI_IE1425.11,24.htm\"\n",
    "# Capital One:\n",
    "#url = 'https://www.glassdoor.com/Overview/Working-at-Capital-One-EI_IE3736.11,22.htm'\n",
    "# BoA:\n",
    "#url = 'https://www.glassdoor.com/Overview/Working-at-Bank-of-America-EI_IE8874.11,26.htm'\n",
    "# Apple:\n",
    "# url = 'https://www.glassdoor.com/Overview/Working-at-Apple-EI_IE1138.11,16.htm'\n",
    "\n",
    "# driver.get(url)\n",
    "\n",
    "# source = driver.page_source\n",
    "# page_source=driver.page_source\n"
   ]
  },
  {
   "cell_type": "code",
   "execution_count": 2,
   "metadata": {
    "ExecuteTime": {
     "end_time": "2021-02-05T03:36:16.147236Z",
     "start_time": "2021-02-05T03:36:16.140568Z"
    }
   },
   "outputs": [],
   "source": [
    "#! pip install unidecode"
   ]
  },
  {
   "cell_type": "code",
   "execution_count": 3,
   "metadata": {
    "ExecuteTime": {
     "end_time": "2021-02-05T03:36:17.238259Z",
     "start_time": "2021-02-05T03:36:16.160838Z"
    }
   },
   "outputs": [],
   "source": [
    "from selenium import webdriver\n",
    "import numpy as np\n",
    "import time"
   ]
  },
  {
   "cell_type": "markdown",
   "metadata": {},
   "source": [
    "**DRIVER HERE:**"
   ]
  },
  {
   "cell_type": "code",
   "execution_count": 4,
   "metadata": {
    "ExecuteTime": {
     "end_time": "2021-02-05T03:36:21.092467Z",
     "start_time": "2021-02-05T03:36:17.242261Z"
    }
   },
   "outputs": [],
   "source": [
    "driver = webdriver.Chrome()"
   ]
  },
  {
   "cell_type": "code",
   "execution_count": 5,
   "metadata": {
    "ExecuteTime": {
     "end_time": "2021-02-05T03:36:21.147708Z",
     "start_time": "2021-02-05T03:36:21.096981Z"
    }
   },
   "outputs": [],
   "source": [
    "url = [\"https://www.glassdoor.com/Overview/Working-at-Google-EI_IE9079.11,17.htm\",\n",
    "       \"https://www.glassdoor.com/Overview/Working-at-Microsoft-EI_IE1651.11,20.htm\",\n",
    "       \"https://www.glassdoor.com/Overview/Working-at-Cisco-Systems-EI_IE1425.11,24.htm\",\n",
    "       \"https://www.glassdoor.com/Overview/Working-at-Capital-One-EI_IE3736.11,22.htm\",\n",
    "       \"https://www.glassdoor.com/Overview/Working-at-Bank-of-America-EI_IE8874.11,26.htm\",\n",
    "       \"https://www.glassdoor.com/Overview/Working-at-Apple-EI_IE1138.11,16.htm\",\n",
    "       \"https://www.glassdoor.com/Overview/Working-at-Orian-Engineers-EI_IE608061.11,26.htm\", \n",
    "       \"https://www.glassdoor.com/Overview/Working-at-Orian-Engineers-EI_IE608061.11,26.htm\" #no DI rating, description, or mission statement\n",
    "]"
   ]
  },
  {
   "cell_type": "code",
   "execution_count": null,
   "metadata": {
    "ExecuteTime": {
     "end_time": "2021-02-05T03:09:10.255130Z",
     "start_time": "2021-02-05T03:09:10.247420Z"
    }
   },
   "outputs": [],
   "source": []
  },
  {
   "cell_type": "markdown",
   "metadata": {},
   "source": [
    "#### Looking for \"Read More\" button on Description"
   ]
  },
  {
   "cell_type": "code",
   "execution_count": 6,
   "metadata": {
    "ExecuteTime": {
     "end_time": "2021-02-05T03:36:21.182781Z",
     "start_time": "2021-02-05T03:36:21.161339Z"
    }
   },
   "outputs": [],
   "source": [
    "# # name = 'cierra.presnal@gmail.com'\n",
    "# # pw = 'L0llipop0626'\n",
    "\n",
    "# # TESTING TESTING TESTING TESTING TESTING TESTING TESTING TESTING TESTING TESTING TESTING TESTING \n",
    "\n",
    "#url = \"https://www.glassdoor.com/Overview/Working-at-Cisco-Systems-EI_IE1425.11,24.htm\"\n",
    "\n",
    "# for u in url:\n",
    "#     driver.get(u)\n",
    "#     source = driver.page_source\n",
    "#     page_source = driver.page_source\n",
    "#     name = 'cierra.presnal@gmail.com'\n",
    "#     pw = 'L0llipop0626'\n",
    "    \n",
    "# ##------------------------ Handling login --------------------------##\n",
    "#     try: \n",
    "#         username = driver.find_element_by_id(\"userEmail\")\n",
    "#         password = driver.find_element_by_id(\"userPassword\")\n",
    "#         submit = driver.find_element_by_xpath('//*[@id=\"InlineLoginModule\"]/div/div[2]/div/div[1]/div[3]/form/div[3]/div[1]/button')\n",
    "#         username.send_keys(name)\n",
    "#         password.send_keys(pw)\n",
    "#         submit.click()\n",
    "#     except: #no login required\n",
    "#         pass\n",
    "    \n",
    "#     try:\n",
    "#         driver.find_element_by_xpath('//*[@id=\"EIOverviewContainer\"]/div/div[1]/div[1]/span/button').click()\n",
    "        \n",
    "#     except:\n",
    "#         pass"
   ]
  },
  {
   "cell_type": "code",
   "execution_count": 7,
   "metadata": {
    "ExecuteTime": {
     "end_time": "2021-02-05T03:37:54.909424Z",
     "start_time": "2021-02-05T03:36:21.191908Z"
    }
   },
   "outputs": [
    {
     "name": "stdout",
     "output_type": "stream",
     "text": [
      "5.0 N/A 4.5 5.0 4.5 5.0 4.5\n"
     ]
    }
   ],
   "source": [
    "# name = 'cierra.presnal@gmail.com'\n",
    "# pw = 'L0llipop0626'\n",
    "\n",
    "# TESTING TESTING TESTING TESTING TESTING TESTING TESTING TESTING TESTING TESTING TESTING TESTING \n",
    "\n",
    "url = [\"https://www.glassdoor.com/Overview/Working-at-Orian-Engineers-EI_IE608061.11,26.htm\",\n",
    "       \"https://www.glassdoor.com/Overview/Working-at-Orian-Engineers-EI_IE608061.11,26.htm\"\n",
    "      ]\n",
    "\n",
    "for u in url:\n",
    "    try:\n",
    "        driver.get(u)\n",
    "        source = driver.page_source\n",
    "        page_source = driver.page_source\n",
    "        name = 'cierra.presnal@gmail.com'\n",
    "        pw = 'L0llipop0626'\n",
    "    \n",
    "##------------------------ Handling login --------------------------##\n",
    "        try: #login required\n",
    "            username = driver.find_element_by_id(\"userEmail\")\n",
    "            password = driver.find_element_by_id(\"userPassword\")\n",
    "            submit = driver.find_element_by_xpath('//*[@id=\"InlineLoginModule\"]/div/div[2]/div/div[1]/div[3]/form/div[3]/div[1]/button')\n",
    "            username.send_keys(name)\n",
    "            password.send_keys(pw)\n",
    "            submit.click()\n",
    "        except: #no login required\n",
    "            pass\n",
    "\n",
    "##---------------- Handling different page layouts ----------------##\n",
    "    \n",
    "        try: #webpage layout 1: (Google, Microsoft, Apple, etc)\n",
    "            driver.find_element_by_xpath('//*[@id=\"EIOverviewContainer\"]/div/div[3]/div[1]/div[2]').click()\n",
    "            time.sleep(4)\n",
    "        \n",
    "            rating_overall = driver.find_element_by_xpath('//*[@id=\"reviewDetailsModal\"]/div[2]/div[2]/div/div/div/div[1]/div[1]/div/div[1]/div/div[3]').text\n",
    "            rating_DI = driver.find_element_by_xpath('//*[@id=\"reviewDetailsModal\"]/div[2]/div[2]/div/div/div/div[1]/div[1]/div/div[3]/div/div[3]').text\n",
    "            rating_CV = driver.find_element_by_xpath('//*[@id=\"reviewDetailsModal\"]/div[2]/div[2]/div/div/div/div[1]/div[1]/div/div[2]/div/div[3]').text\n",
    "            rating_WL = driver.find_element_by_xpath('//*[@id=\"reviewDetailsModal\"]/div[2]/div[2]/div/div/div/div[1]/div[1]/div/div[4]/div/div[3]').text\n",
    "            rating_SM = driver.find_element_by_xpath('//*[@id=\"reviewDetailsModal\"]/div[2]/div[2]/div/div/div/div[1]/div[1]/div/div[5]/div/div[3]').text\n",
    "            rating_CB = driver.find_element_by_xpath('//*[@id=\"reviewDetailsModal\"]/div[2]/div[2]/div/div/div/div[1]/div[1]/div/div[6]/div/div[3]').text\n",
    "            rating_CO = driver.find_element_by_xpath('//*[@id=\"reviewDetailsModal\"]/div[2]/div[2]/div/div/div/div[1]/div[1]/div/div[7]/div/div[3]').text\n",
    "    \n",
    "            print(rating_overall, rating_DI, rating_CV, rating_WL, rating_SM, rating_CB, rating_CO)\n",
    "            time.sleep(np.random.choice([x/10 for x in range(7,20)]))\n",
    "    \n",
    "        except: #webpage layout 2: (Cisco, Capital One, etc)\n",
    "            driver.get(u) #recalling url\n",
    "        \n",
    "            driver.find_element_by_xpath('//*[@id=\"EIOverviewContainer\"]/div/div[4]/div[1]/div[2]').click()\n",
    "            time.sleep(3)\n",
    "            rating_overall = driver.find_element_by_xpath('//*[@id=\"reviewDetailsModal\"]/div[2]/div[2]/div/div/div/div[1]/div[1]/div/div[1]/div/div[3]').text\n",
    "            rating_DI = driver.find_element_by_xpath('//*[@id=\"reviewDetailsModal\"]/div[2]/div[2]/div/div/div/div[1]/div[1]/div/div[3]/div/div[3]').text\n",
    "            rating_CV = driver.find_element_by_xpath('//*[@id=\"reviewDetailsModal\"]/div[2]/div[2]/div/div/div/div[1]/div[1]/div/div[2]/div/div[3]').text\n",
    "            rating_WL = driver.find_element_by_xpath('//*[@id=\"reviewDetailsModal\"]/div[2]/div[2]/div/div/div/div[1]/div[1]/div/div[4]/div/div[3]').text\n",
    "            rating_SM = driver.find_element_by_xpath('//*[@id=\"reviewDetailsModal\"]/div[2]/div[2]/div/div/div/div[1]/div[1]/div/div[5]/div/div[3]').text\n",
    "            rating_CB = driver.find_element_by_xpath('//*[@id=\"reviewDetailsModal\"]/div[2]/div[2]/div/div/div/div[1]/div[1]/div/div[6]/div/div[3]').text\n",
    "            rating_CO = driver.find_element_by_xpath('//*[@id=\"reviewDetailsModal\"]/div[2]/div[2]/div/div/div/div[1]/div[1]/div/div[7]/div/div[3]').text\n",
    "        \n",
    "            print(rating_overall, rating_DI, rating_CV, rating_WL, rating_SM, rating_CB, rating_CO)\n",
    "            time.sleep(np.random.choice([x/10 for x in range(7,15)]))\n",
    "        \n",
    "    except: #fail safe for inevitable errors\n",
    "        time.sleep(10)\n",
    "        pass\n"
   ]
  },
  {
   "cell_type": "code",
   "execution_count": 8,
   "metadata": {
    "ExecuteTime": {
     "end_time": "2021-02-05T03:37:55.059837Z",
     "start_time": "2021-02-05T03:37:55.016522Z"
    },
    "scrolled": true
   },
   "outputs": [],
   "source": [
    "# # name = 'cierra.presnal@gmail.com'\n",
    "# # pw = 'L0llipop0626'\n",
    "\n",
    "# # THIS CODE WORKS!\n",
    "# for u in url:\n",
    "#     try:\n",
    "#         driver.get(u)\n",
    "#         source = driver.page_source\n",
    "#         page_source = driver.page_source\n",
    "#         name = 'cierra.presnal@gmail.com'\n",
    "#         pw = 'L0llipop0626'\n",
    "    \n",
    "# ##------------------------ Handling login --------------------------##\n",
    "#         try: #login required\n",
    "#             username = driver.find_element_by_id(\"userEmail\")\n",
    "#             password = driver.find_element_by_id(\"userPassword\")\n",
    "#             submit = driver.find_element_by_xpath('//*[@id=\"InlineLoginModule\"]/div/div[2]/div/div[1]/div[3]/form/div[3]/div[1]/button')\n",
    "#             username.send_keys(name)\n",
    "#             password.send_keys(pw)\n",
    "#             submit.click()\n",
    "#         except: #no login required\n",
    "#             pass\n",
    "\n",
    "# ##---------------- Handling different page layouts ----------------##\n",
    "    \n",
    "#         try: #webpage layout 1: (Google, Microsoft, Apple, etc)\n",
    "#             driver.find_element_by_xpath('//*[@id=\"EIOverviewContainer\"]/div/div[3]/div[1]/div[2]').click()\n",
    "#             time.sleep(4)\n",
    "        \n",
    "#             rating_overall = driver.find_element_by_xpath('//*[@id=\"reviewDetailsModal\"]/div[2]/div[2]/div/div/div/div[1]/div[1]/div/div[1]/div/div[3]').text\n",
    "#             try: #failsafe for companies with do DI rating\n",
    "#                 rating_DI = driver.find_element_by_xpath('//*[@id=\"reviewDetailsModal\"]/div[2]/div[2]/div/div/div/div[1]/div[1]/div/div[3]/div/div[3]').text\n",
    "#             except:\n",
    "#                 rating_DI = 'None'\n",
    "#             rating_CV = driver.find_element_by_xpath('//*[@id=\"reviewDetailsModal\"]/div[2]/div[2]/div/div/div/div[1]/div[1]/div/div[2]/div/div[3]').text\n",
    "#             rating_WL = driver.find_element_by_xpath('//*[@id=\"reviewDetailsModal\"]/div[2]/div[2]/div/div/div/div[1]/div[1]/div/div[4]/div/div[3]').text\n",
    "#             rating_SM = driver.find_element_by_xpath('//*[@id=\"reviewDetailsModal\"]/div[2]/div[2]/div/div/div/div[1]/div[1]/div/div[5]/div/div[3]').text\n",
    "#             rating_CB = driver.find_element_by_xpath('//*[@id=\"reviewDetailsModal\"]/div[2]/div[2]/div/div/div/div[1]/div[1]/div/div[6]/div/div[3]').text\n",
    "#             rating_CO = driver.find_element_by_xpath('//*[@id=\"reviewDetailsModal\"]/div[2]/div[2]/div/div/div/div[1]/div[1]/div/div[7]/div/div[3]').text\n",
    "    \n",
    "#             print(rating_overall, rating_DI, rating_CV, rating_WL, rating_SM, rating_CB, rating_CO)\n",
    "#             time.sleep(np.random.choice([x/10 for x in range(7,20)]))\n",
    "    \n",
    "#         except: #webpage layout 2: (Cisco, Capital One, etc)\n",
    "#             driver.get(u) #recalling url\n",
    "        \n",
    "#             driver.find_element_by_xpath('//*[@id=\"EIOverviewContainer\"]/div/div[4]/div[1]/div[2]').click()\n",
    "#             time.sleep(3)\n",
    "#             rating_overall = driver.find_element_by_xpath('//*[@id=\"reviewDetailsModal\"]/div[2]/div[2]/div/div/div/div[1]/div[1]/div/div[1]/div/div[3]').text\n",
    "#             rating_DI = driver.find_element_by_xpath('//*[@id=\"reviewDetailsModal\"]/div[2]/div[2]/div/div/div/div[1]/div[1]/div/div[3]/div/div[3]').text\n",
    "#             rating_CV = driver.find_element_by_xpath('//*[@id=\"reviewDetailsModal\"]/div[2]/div[2]/div/div/div/div[1]/div[1]/div/div[2]/div/div[3]').text\n",
    "#             rating_WL = driver.find_element_by_xpath('//*[@id=\"reviewDetailsModal\"]/div[2]/div[2]/div/div/div/div[1]/div[1]/div/div[4]/div/div[3]').text\n",
    "#             rating_SM = driver.find_element_by_xpath('//*[@id=\"reviewDetailsModal\"]/div[2]/div[2]/div/div/div/div[1]/div[1]/div/div[5]/div/div[3]').text\n",
    "#             rating_CB = driver.find_element_by_xpath('//*[@id=\"reviewDetailsModal\"]/div[2]/div[2]/div/div/div/div[1]/div[1]/div/div[6]/div/div[3]').text\n",
    "#             rating_CO = driver.find_element_by_xpath('//*[@id=\"reviewDetailsModal\"]/div[2]/div[2]/div/div/div/div[1]/div[1]/div/div[7]/div/div[3]').text\n",
    "        \n",
    "#             print(rating_overall, rating_DI, rating_CV, rating_WL, rating_SM, rating_CB, rating_CO)\n",
    "#             time.sleep(np.random.choice([x/10 for x in range(7,15)]))\n",
    "        \n",
    "#     except:\n",
    "#         time.sleep(10)\n",
    "#         pass\n"
   ]
  },
  {
   "cell_type": "code",
   "execution_count": 9,
   "metadata": {
    "ExecuteTime": {
     "end_time": "2021-02-05T03:37:56.221919Z",
     "start_time": "2021-02-05T03:37:55.072777Z"
    },
    "scrolled": true
   },
   "outputs": [],
   "source": [
    "driver.close()\n",
    "driver.quit()"
   ]
  },
  {
   "cell_type": "code",
   "execution_count": 10,
   "metadata": {
    "ExecuteTime": {
     "end_time": "2021-02-05T03:37:56.240634Z",
     "start_time": "2021-02-05T03:37:56.227689Z"
    },
    "scrolled": true
   },
   "outputs": [],
   "source": [
    "# #group 1 code\n",
    "\n",
    "# # Google\n",
    "# url = \"https://www.glassdoor.com/Overview/Working-at-Microsoft-EI_IE1651.11,20.htm\"\n",
    "\n",
    "# driver.find_element_by_xpath('//*[@id=\"EIOverviewContainer\"]/div/div[3]/div[1]/div[2]').click()\n",
    "# time.sleep(2)\n",
    "# rating_overall = driver.find_element_by_xpath('//*[@id=\"reviewDetailsModal\"]/div[2]/div[2]/div/div/div/div[1]/div[1]/div/div[1]/div/div[3]').text\n",
    "# rating_DI = driver.find_element_by_xpath('//*[@id=\"reviewDetailsModal\"]/div[2]/div[2]/div/div/div/div[1]/div[1]/div/div[3]/div/div[3]').text\n",
    "# rating_CV = driver.find_element_by_xpath('//*[@id=\"reviewDetailsModal\"]/div[2]/div[2]/div/div/div/div[1]/div[1]/div/div[2]/div/div[3]').text\n",
    "# rating_WL = driver.find_element_by_xpath('//*[@id=\"reviewDetailsModal\"]/div[2]/div[2]/div/div/div/div[1]/div[1]/div/div[4]/div/div[3]').text\n",
    "# rating_SM = driver.find_element_by_xpath('//*[@id=\"reviewDetailsModal\"]/div[2]/div[2]/div/div/div/div[1]/div[1]/div/div[5]/div/div[3]').text\n",
    "# rating_CB = driver.find_element_by_xpath('//*[@id=\"reviewDetailsModal\"]/div[2]/div[2]/div/div/div/div[1]/div[1]/div/div[6]/div/div[3]').text\n",
    "# rating_CO = driver.find_element_by_xpath('//*[@id=\"reviewDetailsModal\"]/div[2]/div[2]/div/div/div/div[1]/div[1]/div/div[7]/div/div[3]').text\n",
    "\n",
    "# print(rating_overall, rating_DI, rating_CV, rating_WL, rating_SM, rating_CB, rating_CO)\n",
    "        "
   ]
  },
  {
   "cell_type": "code",
   "execution_count": 11,
   "metadata": {
    "ExecuteTime": {
     "end_time": "2021-02-05T03:37:56.264188Z",
     "start_time": "2021-02-05T03:37:56.245105Z"
    },
    "scrolled": true
   },
   "outputs": [],
   "source": [
    "# #group 2 code\n",
    "\n",
    "# # Cisco:\n",
    "# # url = \"https://www.glassdoor.com/Overview/Working-at-Cisco-Systems-EI_IE1425.11,24.htm\"\n",
    "# # Capital One:\n",
    "# #url = 'https://www.glassdoor.com/Overview/Working-at-Capital-One-EI_IE3736.11,22.htm'\n",
    "\n",
    "# driver.get(url)\n",
    "\n",
    "# driver.find_element_by_xpath('//*[@id=\"EIOverviewContainer\"]/div/div[4]/div[1]/div[2]').click()\n",
    "# time.sleep(3)\n",
    "# rating_overall = driver.find_element_by_xpath('//*[@id=\"reviewDetailsModal\"]/div[2]/div[2]/div/div/div/div[1]/div[1]/div/div[1]/div/div[3]').text\n",
    "# rating_overall = driver.find_element_by_xpath('//*[@id=\"reviewDetailsModal\"]/div[2]/div[2]/div/div/div/div[1]/div[1]/div/div[1]/div/div[3]').text\n",
    "# rating_DI = driver.find_element_by_xpath('//*[@id=\"reviewDetailsModal\"]/div[2]/div[2]/div/div/div/div[1]/div[1]/div/div[3]/div/div[3]').text\n",
    "# rating_CV = driver.find_element_by_xpath('//*[@id=\"reviewDetailsModal\"]/div[2]/div[2]/div/div/div/div[1]/div[1]/div/div[2]/div/div[3]').text\n",
    "# rating_WL = driver.find_element_by_xpath('//*[@id=\"reviewDetailsModal\"]/div[2]/div[2]/div/div/div/div[1]/div[1]/div/div[4]/div/div[3]').text\n",
    "# rating_SM = driver.find_element_by_xpath('//*[@id=\"reviewDetailsModal\"]/div[2]/div[2]/div/div/div/div[1]/div[1]/div/div[5]/div/div[3]').text\n",
    "# rating_CB = driver.find_element_by_xpath('//*[@id=\"reviewDetailsModal\"]/div[2]/div[2]/div/div/div/div[1]/div[1]/div/div[6]/div/div[3]').text\n",
    "# rating_CO = driver.find_element_by_xpath('//*[@id=\"reviewDetailsModal\"]/div[2]/div[2]/div/div/div/div[1]/div[1]/div/div[7]/div/div[3]').text\n",
    "\n",
    "# time.sleep(np.random.choice([x/10 for x in range(7,15)]))\n",
    "# print(rating_overall, rating_DI, rating_CV, rating_WL, rating_SM, rating_CB, rating_CO)\n",
    "# #print(rating_overall)\n"
   ]
  },
  {
   "cell_type": "code",
   "execution_count": 12,
   "metadata": {
    "ExecuteTime": {
     "end_time": "2021-02-05T03:37:56.306986Z",
     "start_time": "2021-02-05T03:37:56.287872Z"
    }
   },
   "outputs": [],
   "source": [
    "# #Testing mission statement\n",
    "# driver.find_element_by_xpath('//*[@id=\"EIOverviewContainer\"]/div/div[3]/div[1]/div[2]/span').click()\n",
    "# time.sleep(2)"
   ]
  },
  {
   "cell_type": "markdown",
   "metadata": {},
   "source": [
    "ADD MISSION AND COMPANY DESCRIPTION"
   ]
  },
  {
   "cell_type": "code",
   "execution_count": 13,
   "metadata": {
    "ExecuteTime": {
     "end_time": "2021-02-05T03:37:56.327846Z",
     "start_time": "2021-02-05T03:37:56.319338Z"
    }
   },
   "outputs": [],
   "source": [
    "#mission = r.html.xpath('//*[@id=\"EIOverviewContainer\"]/div/div[1]/div[2]/span[2]/text()', first=True)"
   ]
  }
 ],
 "metadata": {
  "kernelspec": {
   "display_name": "learn-env",
   "language": "python",
   "name": "learn-env"
  },
  "language_info": {
   "codemirror_mode": {
    "name": "ipython",
    "version": 3
   },
   "file_extension": ".py",
   "mimetype": "text/x-python",
   "name": "python",
   "nbconvert_exporter": "python",
   "pygments_lexer": "ipython3",
   "version": "3.6.9"
  },
  "toc": {
   "base_numbering": 1,
   "nav_menu": {},
   "number_sections": true,
   "sideBar": true,
   "skip_h1_title": false,
   "title_cell": "Table of Contents",
   "title_sidebar": "Contents",
   "toc_cell": false,
   "toc_position": {},
   "toc_section_display": true,
   "toc_window_display": false
  }
 },
 "nbformat": 4,
 "nbformat_minor": 4
}
