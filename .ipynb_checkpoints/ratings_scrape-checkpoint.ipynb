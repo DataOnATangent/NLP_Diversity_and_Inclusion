{
 "cells": [
  {
   "cell_type": "code",
   "execution_count": 1,
   "metadata": {
    "ExecuteTime": {
     "end_time": "2021-02-04T06:11:11.967236Z",
     "start_time": "2021-02-04T06:11:11.954483Z"
    }
   },
   "outputs": [],
   "source": [
    "#! pip install unidecode"
   ]
  },
  {
   "cell_type": "code",
   "execution_count": 2,
   "metadata": {
    "ExecuteTime": {
     "end_time": "2021-02-04T06:11:12.178352Z",
     "start_time": "2021-02-04T06:11:11.972625Z"
    }
   },
   "outputs": [],
   "source": [
    "from selenium import webdriver\n",
    "import time"
   ]
  },
  {
   "cell_type": "code",
   "execution_count": 3,
   "metadata": {
    "ExecuteTime": {
     "end_time": "2021-02-04T06:11:15.277221Z",
     "start_time": "2021-02-04T06:11:12.184052Z"
    }
   },
   "outputs": [],
   "source": [
    "driver = webdriver.Chrome()"
   ]
  },
  {
   "cell_type": "code",
   "execution_count": 4,
   "metadata": {
    "ExecuteTime": {
     "end_time": "2021-02-04T06:11:25.303814Z",
     "start_time": "2021-02-04T06:11:15.282599Z"
    },
    "scrolled": true
   },
   "outputs": [],
   "source": [
    "url = \"https://www.glassdoor.com/Overview/Working-at-Google-EI_IE9079.11,17.htm\"\n",
    "driver.get(url)\n",
    "source = driver.page_source\n",
    "page_source=driver.page_source"
   ]
  },
  {
   "cell_type": "code",
   "execution_count": 5,
   "metadata": {
    "ExecuteTime": {
     "end_time": "2021-02-04T06:11:28.110065Z",
     "start_time": "2021-02-04T06:11:25.306294Z"
    },
    "scrolled": true
   },
   "outputs": [
    {
     "name": "stdout",
     "output_type": "stream",
     "text": [
      "4.5 4.4 4.4 4.3 4.1 4.5 4.3\n"
     ]
    }
   ],
   "source": [
    "driver.find_element_by_xpath('//*[@id=\"EIOverviewContainer\"]/div/div[3]/div[1]/div[2]/span').click()\n",
    "time.sleep(2)\n",
    "\n",
    "rating_overall = driver.find_element_by_xpath('//*[@id=\"reviewDetailsModal\"]/div[2]/div[2]/div/div/div/div[1]/div[1]/div/div[1]/div/div[3]').text\n",
    "rating_DI = driver.find_element_by_xpath('//*[@id=\"reviewDetailsModal\"]/div[2]/div[2]/div/div/div/div[1]/div[1]/div/div[3]/div/div[3]').text\n",
    "rating_CV = driver.find_element_by_xpath('//*[@id=\"reviewDetailsModal\"]/div[2]/div[2]/div/div/div/div[1]/div[1]/div/div[2]/div/div[3]').text\n",
    "rating_WL = driver.find_element_by_xpath('//*[@id=\"reviewDetailsModal\"]/div[2]/div[2]/div/div/div/div[1]/div[1]/div/div[4]/div/div[3]').text\n",
    "rating_SM = driver.find_element_by_xpath('//*[@id=\"reviewDetailsModal\"]/div[2]/div[2]/div/div/div/div[1]/div[1]/div/div[5]/div/div[3]').text\n",
    "rating_CB = driver.find_element_by_xpath('//*[@id=\"reviewDetailsModal\"]/div[2]/div[2]/div/div/div/div[1]/div[1]/div/div[6]/div/div[3]').text\n",
    "rating_CO = driver.find_element_by_xpath('//*[@id=\"reviewDetailsModal\"]/div[2]/div[2]/div/div/div/div[1]/div[1]/div/div[7]/div/div[3]').text\n",
    "\n",
    "print(rating_overall, rating_DI, rating_CV, rating_WL, rating_SM, rating_CB, rating_CO)\n"
   ]
  },
  {
   "cell_type": "code",
   "execution_count": 6,
   "metadata": {
    "ExecuteTime": {
     "end_time": "2021-02-04T06:11:28.820598Z",
     "start_time": "2021-02-04T06:11:28.113010Z"
    }
   },
   "outputs": [],
   "source": [
    "driver.close()\n",
    "driver.quit()"
   ]
  },
  {
   "cell_type": "markdown",
   "metadata": {},
   "source": [
    "ADD MISSION AND COMPANY DESCRIPTION"
   ]
  },
  {
   "cell_type": "code",
   "execution_count": null,
   "metadata": {},
   "outputs": [],
   "source": [
    "mission = r.html.xpath('//*[@id=\"EIOverviewContainer\"]/div/div[1]/div[2]/span[2]/text()', first=True)"
   ]
  }
 ],
 "metadata": {
  "kernelspec": {
   "display_name": "learn-env",
   "language": "python",
   "name": "learn-env"
  },
  "language_info": {
   "codemirror_mode": {
    "name": "ipython",
    "version": 3
   },
   "file_extension": ".py",
   "mimetype": "text/x-python",
   "name": "python",
   "nbconvert_exporter": "python",
   "pygments_lexer": "ipython3",
   "version": "3.6.9"
  },
  "toc": {
   "base_numbering": 1,
   "nav_menu": {},
   "number_sections": true,
   "sideBar": true,
   "skip_h1_title": false,
   "title_cell": "Table of Contents",
   "title_sidebar": "Contents",
   "toc_cell": false,
   "toc_position": {},
   "toc_section_display": true,
   "toc_window_display": false
  }
 },
 "nbformat": 4,
 "nbformat_minor": 4
}
