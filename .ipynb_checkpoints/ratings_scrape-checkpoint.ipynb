{
 "cells": [
  {
   "cell_type": "code",
   "execution_count": 1,
   "metadata": {
    "ExecuteTime": {
     "end_time": "2021-02-06T12:18:16.524075Z",
     "start_time": "2021-02-06T12:18:16.510624Z"
    },
    "scrolled": true
   },
   "outputs": [],
   "source": [
    "# Google:\n",
    "#url = \"https://www.glassdoor.com/Overview/Working-at-Google-EI_IE9079.11,17.htm\"\n",
    "# Microsoft:\n",
    "#url = \"https://www.glassdoor.com/Overview/Working-at-Microsoft-EI_IE1651.11,20.htm\"\n",
    "# Cisco:\n",
    "#url = \"https://www.glassdoor.com/Overview/Working-at-Cisco-Systems-EI_IE1425.11,24.htm\"\n",
    "# Capital One:\n",
    "#url = 'https://www.glassdoor.com/Overview/Working-at-Capital-One-EI_IE3736.11,22.htm'\n",
    "# BoA:\n",
    "#url = 'https://www.glassdoor.com/Overview/Working-at-Bank-of-America-EI_IE8874.11,26.htm'\n",
    "# Apple:\n",
    "# url = 'https://www.glassdoor.com/Overview/Working-at-Apple-EI_IE1138.11,16.htm'\n",
    "\n",
    "# driver.get(url)\n",
    "\n",
    "# source = driver.page_source\n",
    "# page_source=driver.page_source\n"
   ]
  },
  {
   "cell_type": "code",
   "execution_count": 2,
   "metadata": {
    "ExecuteTime": {
     "end_time": "2021-02-06T12:18:16.541537Z",
     "start_time": "2021-02-06T12:18:16.535460Z"
    }
   },
   "outputs": [],
   "source": [
    "#! pip install unidecode"
   ]
  },
  {
   "cell_type": "code",
   "execution_count": 9,
   "metadata": {
    "ExecuteTime": {
     "end_time": "2021-02-06T13:37:48.560566Z",
     "start_time": "2021-02-06T13:37:48.555378Z"
    }
   },
   "outputs": [],
   "source": [
    "from selenium import webdriver\n",
    "from selenium.common.exceptions import NoSuchElementException, ElementNotInteractableException\n",
    "\n",
    "import numpy as np\n",
    "import time"
   ]
  },
  {
   "cell_type": "markdown",
   "metadata": {},
   "source": [
    "**DRIVER HERE:**"
   ]
  },
  {
   "cell_type": "code",
   "execution_count": 10,
   "metadata": {
    "ExecuteTime": {
     "end_time": "2021-02-06T13:37:52.573118Z",
     "start_time": "2021-02-06T13:37:49.173479Z"
    }
   },
   "outputs": [],
   "source": [
    "driver = webdriver.Chrome()"
   ]
  },
  {
   "cell_type": "code",
   "execution_count": 11,
   "metadata": {
    "ExecuteTime": {
     "end_time": "2021-02-06T13:37:52.583808Z",
     "start_time": "2021-02-06T13:37:52.577339Z"
    }
   },
   "outputs": [],
   "source": [
    "url = [\"https://www.glassdoor.com/Overview/Working-at-Google-EI_IE9079.11,17.htm\"\n",
    "    \"https://www.glassdoor.com/Overview/Working-at-Microsoft-EI_IE1651.11,20.htm\",\n",
    "    \"https://www.glassdoor.com/Overview/Working-at-Cisco-Systems-EI_IE1425.11,24.htm\",\n",
    "    \"https://www.glassdoor.com/Overview/Working-at-Capital-One-EI_IE3736.11,22.htm\",\n",
    "    \"https://www.glassdoor.com/Overview/Working-at-Bank-of-America-EI_IE8874.11,26.htm\",\n",
    "    \"https://www.glassdoor.com/Overview/Working-at-Apple-EI_IE1138.11,16.htm\",\n",
    "    \"https://www.glassdoor.com/Overview/Working-at-Intel-Corporation-EI_IE1519.11,28.htm\",\n",
    "       \"https://www.glassdoor.com/Overview/Working-at-Orian-Engineers-EI_IE608061.11,26.htm\",\n",
    "       \"https://www.glassdoor.com/Overview/Working-at-US-Air-Force-EI_IE41283.11,23.htm\"#no DI rating, description, or mission statement\n",
    "]"
   ]
  },
  {
   "cell_type": "code",
   "execution_count": 4,
   "metadata": {
    "ExecuteTime": {
     "end_time": "2021-02-06T12:51:16.469046Z",
     "start_time": "2021-02-06T12:48:52.312885Z"
    },
    "scrolled": true
   },
   "outputs": [
    {
     "name": "stdout",
     "output_type": "stream",
     "text": [
      "Microsoft 10000+ Employees Redmond, WA Computer Hardware & Software 4.4 4.4 4.3 4.1 4.0 4.1 4.1 See All 29,387 Reviews Our drive to change the world unites us!\n",
      "\n",
      "Microsoft is the ideal place for people who have passion for their work and the desire to make an impact—in their careers, in the community and on the world. Microsoft is a unique company; and not just within the tech industry. Here, smart people thrive on their own terms and push their intelligence to its limit. The variety of job opportunities and career advancement at Microsoft is incredible and empowers you to constantly challenge yourself and chart your own course. Mission: N/A\n",
      "Cisco Systems 10000+ Employees San Jose, CA Computer Hardware & Software 4.2 4.3 4.3 4.2 3.8 4.1 3.9 See All 21,801 Reviews #WeAreCisco, where each person is unique, but we bring our talents to work as a team and make a difference. Here’s how we do it.\n",
      "\n",
      "We embrace digital, and help our customers implement change in their digital businesses. Some may think we’re “old” (30 years strong!) and only about hardware, but we’re also a software company. And a security company. A blockchain company. An AI/Machine Learning company. We even invented an intuitive network that adapts, predicts, learns and protects. No other company can do what we do – you can’t put us in a box!\n",
      "\n",
      "But “Digital Transformation” is an empty buzz phrase without a culture that allows for innovation, creativity, and yes, even failure (if you learn from it.)\n",
      "\n",
      "So, you have colorful hair? Don’t care. Tattoos? Show off your ink. Like polka dots? That’s cool. Pop culture geek? Many of us are. Passion for technology and world changing? Be you, with us! Mission: Cisco wants you to bring your uniqueness, join teams to solve challenges, and work together to get results. Be you, with us! #WeAreCisco!\n",
      "\n",
      "Day to day, we focus on the give and take. We give our best, we give our egos a break and we give of ourselves (because giving back is built into our DNA.) We take accountability, we take bold steps, and we take difference to heart. Because without diversity of thought and a commitment to equality for all, there is no moving forward.\n",
      "Capital One 10000+ Employees Mc Lean, VA Banks & Credit Unions 4.1 4.2 4.1 4.1 3.6 4.2 3.7 See All 9,218 Reviews Capital One is where professional achievement meets personal satisfaction. Here, every day is another chance to do meaningful work and disrupt an entire industry in positive ways—while getting the opportunities, support and benefits you need.\n",
      "\n",
      "Compassionate and curious. Inspirational and energized. That’s #LifeAtCapitalOne. Discover it for yourself today. Mission: Capital One is an equal opportunity employer committed to diversity and inclusion in the workplace. All qualified applicants will receive consideration for employment without regard to sex, race, color, age, national origin, religion, sexual orientation, gender identity, protected veteran status, disability or other protected status.\n",
      "Bank of America 10000+ Employees Charlotte, NC Banks & Credit Unions 4.0 4.3 4.0 3.8 3.5 4.0 3.8 See All 26,085 Reviews Bank of America is one of the world's largest financial institutions, serving individuals, small- and middle-market businesses and large corporations with a full range of banking, investing, asset management and other financial and risk management products and services. The company serves approximately 56 million U.S. consumer and small business relationships. It is among the world's leading wealth management companies and is a global leader in corporate and investment banking and trading. Mission: N/A\n",
      "Apple 10000+ Employees Cupertino, CA Computer Hardware & Software 4.3 4.4 4.3 3.7 3.7 4.3 3.8 See All 20,847 Reviews We’re a diverse collective of thinkers and doers, continually reimagining what’s possible to help us all do what we love in new ways. The people who work here have reinvented entire industries with the Mac, iPhone, iPad, and Apple Watch, as well as with services, including Apple TV, the App Store, Apple Music, and Apple Pay. And the same innovation that goes into our products also applies to our practices — strengthening our commitment to leave the world better than we found it.\n",
      "\n",
      "Every new product we invent, service we create, or store we open is the result of people working together to make each other’s ideas stronger. That happens here because every one of us strives toward a common goal — creating the best customer experiences. So bring your passion, courage, and original thinking and get ready to share it. This is where your work can make a difference in people’s lives. Including your own. Mission: N/A\n",
      "Intel Corporation 10000+ Employees Santa Clara, CA Computer Hardware & Software 4.1 4.4 4.1 4.0 3.5 4.0 3.9 See All 17,696 Reviews Intel’s mission is to shape the future of technology to help create a better future for the entire world. By pushing forward in fields like AI, analytics and cloud-to-edge technology, Intel’s work is at the heart of countless innovations. From major breakthroughs like self-driving cars and rebuilding the coral reefs, to things that make everyday life better like blockbuster effects and improved shopping experiences — they’re all powered by Intel technology. With a career at Intel, you have the opportunity to help make the future more wonderful for everyone.\n",
      "\n",
      "Join us. Mission: N/A\n",
      "Orian Engineers 1 to 50 Employees Sunnyvale, CA Computer Hardware & Software 5.0 N/A 4.5 5.0 4.5 5.0 4.5 See All 2 Reviews Description: N/A Mission: N/A\n",
      "US Air Force 10000+ Employees Washington, DC Federal Agencies 4.2 4.2 4.0 3.3 3.4 4.3 4.2 See All 16,597 Reviews The mission of the US Department of the Air Force is to fly, fight, and win -- in air, space, and cyberspace. Along with the Army, Navy, and Marine Corps, the US Air Force is a major military branch of the US Department of Defense responsible for defending the US and its interests through aerial, space, and cyber warfare. The agency includes more than a dozen major commands, including the Air Force Reserve and Air National Guard. It also consists of field operating agencies and direct reporting units, which are typically assigned to specialized missions. It has more than 150,000 civilian employees and 330,000 active duty personnel, some of whom are deployed in Afghanistan, Iraq, and the Asia/Pacific region. Mission: N/A\n"
     ]
    }
   ],
   "source": [
    "# THIS CODE WORKS - all elements except for mission statement and company review\n",
    "\n",
    "for u in url:\n",
    "    try:\n",
    "        driver.get(u)\n",
    "        source = driver.page_source\n",
    "        page_source = driver.page_source\n",
    "        name = 'n'\n",
    "        pw = 'pw'\n",
    "    \n",
    "##---------------------------------------- Handling login ------------------------------------------##\n",
    "        try: #login required\n",
    "            username = driver.find_element_by_id(\"userEmail\")\n",
    "            password = driver.find_element_by_id(\"userPassword\")\n",
    "            submit = driver.find_element_by_xpath('//*[@id=\"InlineLoginModule\"]/div/div[2]/div/div[1]/div[3]/form/div[3]/div[1]/button')\n",
    "            username.send_keys(name)\n",
    "            password.send_keys(pw)\n",
    "            submit.click()\n",
    "            time.sleep(1) #lettin page load\n",
    "        except: #no login required\n",
    "            pass\n",
    "        \n",
    "##---------------------------------- Gathering Variables - Main Page ---------------------------------##                \n",
    "        name = driver.find_element_by_xpath('//*[@id=\"EmpHeroAndEmpInfo\"]/div[3]/div[2]').text\n",
    "        size = driver.find_element_by_xpath('//*[@id=\"EIOverviewContainer\"]/div/div[1]/ul/li[3]/div').text\n",
    "        headquarters = driver.find_element_by_xpath('//*[@id=\"EIOverviewContainer\"]/div/div[1]/ul/li[2]/div').text\n",
    "        industry = driver.find_element_by_xpath('//*[@id=\"EIOverviewContainer\"]/div/div[1]/ul/li[6]/div').text\n",
    "        try:\n",
    "            num_reviews = driver.find_element_by_xpath('//*[@id=\"EIOverviewContainer\"]/div/div[3]/div[3]/a').text\n",
    "        except: \n",
    "            num_reviews = driver.find_element_by_xpath('//*[@id=\"EIOverviewContainer\"]/div/div[4]/div[3]/a').text        \n",
    "\n",
    "    #Gather Description - handling \"Read More\" button\n",
    "        try:\n",
    "            read_more = driver.find_element_by_class_name('css-1tgo67c.e16x8fv00') #button class \n",
    "            read_more.click()\n",
    "            description = driver.find_element_by_xpath('//*[@id=\"EIOverviewContainer\"]/div/div[1]/div[1]/span').text\n",
    "        except:\n",
    "            description = \"Description: N/A\"\n",
    "\n",
    "    #Gather Mission - handling \"Read More\" button    \n",
    "        try:\n",
    "            read_more = driver.find_element_by_class_name('css-1tgo67c.e16x8fv00') #button class\n",
    "            read_more.click()\n",
    "            mission = driver.find_element_by_xpath('//*[@id=\"EIOverviewContainer\"]/div/div[1]/div[2]').text\n",
    "        except:\n",
    "            mission = \"Mission: N/A\"\n",
    "\n",
    "##-------------------------------- Gathering Variables - RatingsPop-up --------------------------------##    \n",
    "        try: #webpage layout 1: (Google, Microsoft, Apple, etc)\n",
    "            driver.find_element_by_xpath('//*[@id=\"EIOverviewContainer\"]/div/div[3]/div[1]/div[2]').click()\n",
    "            time.sleep(4) #lettin page load\n",
    "        \n",
    "            rating_overall = driver.find_element_by_xpath('//*[@id=\"reviewDetailsModal\"]/div[2]/div[2]/div/div/div/div[1]/div[1]/div/div[1]/div/div[3]').text\n",
    "            rating_DI = driver.find_element_by_xpath('//*[@id=\"reviewDetailsModal\"]/div[2]/div[2]/div/div/div/div[1]/div[1]/div/div[3]/div/div[3]').text\n",
    "            rating_CV = driver.find_element_by_xpath('//*[@id=\"reviewDetailsModal\"]/div[2]/div[2]/div/div/div/div[1]/div[1]/div/div[2]/div/div[3]').text\n",
    "            rating_WL = driver.find_element_by_xpath('//*[@id=\"reviewDetailsModal\"]/div[2]/div[2]/div/div/div/div[1]/div[1]/div/div[4]/div/div[3]').text\n",
    "            rating_SM = driver.find_element_by_xpath('//*[@id=\"reviewDetailsModal\"]/div[2]/div[2]/div/div/div/div[1]/div[1]/div/div[5]/div/div[3]').text\n",
    "            rating_CB = driver.find_element_by_xpath('//*[@id=\"reviewDetailsModal\"]/div[2]/div[2]/div/div/div/div[1]/div[1]/div/div[6]/div/div[3]').text\n",
    "            rating_CO = driver.find_element_by_xpath('//*[@id=\"reviewDetailsModal\"]/div[2]/div[2]/div/div/div/div[1]/div[1]/div/div[7]/div/div[3]').text\n",
    "    \n",
    "            print(name, size, headquarters, industry, rating_overall, rating_DI, rating_CV, rating_WL, rating_SM, rating_CB, rating_CO, num_reviews, description, mission)\n",
    "            time.sleep(np.random.choice([x/10 for x in range(7,20)])) #some time to rest \n",
    "    \n",
    "        except: #webpage layout 2: (Cisco, Capital One, etc)\n",
    "            driver.get(u) #recalling url\n",
    "        \n",
    "            driver.find_element_by_xpath('//*[@id=\"EIOverviewContainer\"]/div/div[4]/div[1]/div[2]').click()\n",
    "            time.sleep(4) #lettin page load\n",
    "            rating_overall = driver.find_element_by_xpath('//*[@id=\"reviewDetailsModal\"]/div[2]/div[2]/div/div/div/div[1]/div[1]/div/div[1]/div/div[3]').text\n",
    "            rating_DI = driver.find_element_by_xpath('//*[@id=\"reviewDetailsModal\"]/div[2]/div[2]/div/div/div/div[1]/div[1]/div/div[3]/div/div[3]').text\n",
    "            rating_CV = driver.find_element_by_xpath('//*[@id=\"reviewDetailsModal\"]/div[2]/div[2]/div/div/div/div[1]/div[1]/div/div[2]/div/div[3]').text\n",
    "            rating_WL = driver.find_element_by_xpath('//*[@id=\"reviewDetailsModal\"]/div[2]/div[2]/div/div/div/div[1]/div[1]/div/div[4]/div/div[3]').text\n",
    "            rating_SM = driver.find_element_by_xpath('//*[@id=\"reviewDetailsModal\"]/div[2]/div[2]/div/div/div/div[1]/div[1]/div/div[5]/div/div[3]').text\n",
    "            rating_CB = driver.find_element_by_xpath('//*[@id=\"reviewDetailsModal\"]/div[2]/div[2]/div/div/div/div[1]/div[1]/div/div[6]/div/div[3]').text\n",
    "            rating_CO = driver.find_element_by_xpath('//*[@id=\"reviewDetailsModal\"]/div[2]/div[2]/div/div/div/div[1]/div[1]/div/div[7]/div/div[3]').text\n",
    "        \n",
    "            print(name, size, headquarters, industry, rating_overall, rating_DI, rating_CV, rating_WL, rating_SM, rating_CB, rating_CO, num_reviews, description, mission)\n",
    "            time.sleep(np.random.choice([x/10 for x in range(7,15)])) #some time to rest \n",
    "        \n",
    "    except: #fail safe for inevitable errors\n",
    "        print('ERROR: ', u)\n",
    "        time.sleep(10)\n"
   ]
  },
  {
   "cell_type": "code",
   "execution_count": 6,
   "metadata": {
    "ExecuteTime": {
     "end_time": "2021-02-06T13:30:34.692154Z",
     "start_time": "2021-02-06T13:30:33.854497Z"
    }
   },
   "outputs": [],
   "source": [
    "driver.close()\n",
    "driver.quit()"
   ]
  },
  {
   "cell_type": "markdown",
   "metadata": {},
   "source": [
    "### Working Code:"
   ]
  },
  {
   "cell_type": "code",
   "execution_count": 11,
   "metadata": {
    "ExecuteTime": {
     "end_time": "2021-02-06T12:38:42.026197Z",
     "start_time": "2021-02-06T12:36:11.303610Z"
    },
    "scrolled": false
   },
   "outputs": [
    {
     "name": "stdout",
     "output_type": "stream",
     "text": [
      "Microsoft \n",
      " Our drive to change the world unites us!\n",
      "\n",
      "Microsoft is the ideal place for people who have passion for their work and the desire to make an impact—in their careers, in the community and on the world. Microsoft is a unique company; and not just within the tech industry. Here, smart people thrive on their own terms and push their intelligence to its limit. The variety of job opportunities and career advancement at Microsoft is incredible and empowers you to constantly challenge yourself and chart your own course. \n",
      " Mission: N/A \n",
      "\n",
      "Cisco Systems \n",
      " Our edge doesn’t come from technology, but from our people! From entertainment, retail, healthcare, and education, to public and private sectors, smart cities, and everyday devices, we strive for an inclusive culture that has earned Cisco recognition as a multinational Great Place To Work. Leading in 12 of 18 markets, Cisco is building teams around the globe - expanding our technology solutions in the Mobile, Cloud, Security, IT, and Big Data spaces, including Software, Sales, and Consulting Services. We are focused on innovation, collaboration, and transformation to allow Cisco to connect what's been previously unconnected around the world. Cisco's Corporate Functions directly shape our future by acting as key business partners. These areas are core to successfully running our organization with the future in mind — Legal, Corporate Development, Global Business Services, HR, Finance IT, Global Marketing Services, and Supply Chain. So come and be you, with us! #WeAreCisco \n",
      " Mission: Cisco wants you to bring your uniqueness, join teams to solve challenges, and work together to get results. Be you, with us! #WeAreCisco! We connect everything – people, process, data and things – and use those connections to change our world for the better. We innovate everywhere to create fresh ideas and possibilities. Bold risks shape the future. We understand every failure is a success if we learn from it. We make a meaningful difference for our people, our customers and the world around us. \n",
      "\n",
      "Capital One \n",
      " Capital One is where professional achievement meets personal satisfaction. Here, every day is another chance to do meaningful work and disrupt an entire industry in positive ways—while getting the opportunities, support and benefits you need.\n",
      "\n",
      "Compassionate and curious. Inspirational and energized. That’s #LifeAtCapitalOne. Discover it for yourself today. \n",
      " Mission: Capital One is an equal opportunity employer committed to diversity and inclusion in the workplace. All qualified applicants will receive consideration for employment without regard to sex, race, color, age, national origin, religion, sexual orientation, gender identity, protected veteran status, disability or other protected status. \n",
      "\n",
      "Bank of America \n",
      " Bank of America is one of the world's largest financial institutions, serving individuals, small- and middle-market businesses and large corporations with a full range of banking, investing, asset management and other financial and risk management products and services. The company serves approximately 56 million U.S. consumer and small business relationships. It is among the world's leading wealth management companies and is a global leader in corporate and investment banking and trading. \n",
      " Mission: N/A \n",
      "\n",
      "Apple \n",
      " We’re a diverse collective of thinkers and doers, continually reimagining what’s possible to help us all do what we love in new ways. The people who work here have reinvented entire industries with the Mac, iPhone, iPad, and Apple Watch, as well as with services, including Apple TV, the App Store, Apple Music, and Apple Pay. And the same innovation that goes into our products also applies to our practices — strengthening our commitment to leave the world better than we found it.\n",
      "\n",
      "Every new product we invent, service we create, or store we open is the result of people working together to make each other’s ideas stronger. That happens here because every one of us strives toward a common goal — creating the best customer experiences. So bring your passion, courage, and original thinking and get ready to share it. This is where your work can make a difference in people’s lives. Including your own. \n",
      " Mission: N/A \n",
      "\n",
      "Intel Corporation \n",
      " Intel’s mission is to shape the future of technology to help create a better future for the entire world. By pushing forward in fields like AI, analytics and cloud-to-edge technology, Intel’s work is at the heart of countless innovations. From major breakthroughs like self-driving cars and rebuilding the coral reefs, to things that make everyday life better like blockbuster effects and improved shopping experiences — they’re all powered by Intel technology. With a career at Intel, you have the opportunity to help make the future more wonderful for everyone.\n",
      "\n",
      "Join us. \n",
      " Mission: N/A \n",
      "\n",
      "Orian Engineers \n",
      " Description: N/A \n",
      " Mission: N/A \n",
      "\n",
      "US Air Force \n",
      " The mission of the US Department of the Air Force is to fly, fight, and win -- in air, space, and cyberspace. Along with the Army, Navy, and Marine Corps, the US Air Force is a major military branch of the US Department of Defense responsible for defending the US and its interests through aerial, space, and cyber warfare. The agency includes more than a dozen major commands, including the Air Force Reserve and Air National Guard. It also consists of field operating agencies and direct reporting units, which are typically assigned to specialized missions. It has more than 150,000 civilian employees and 330,000 active duty personnel, some of whom are deployed in Afghanistan, Iraq, and the Asia/Pacific region. \n",
      " Mission: N/A \n",
      "\n"
     ]
    }
   ],
   "source": [
    "# ## THIS CODE WORKDS - description/mission successful\n",
    "\n",
    "# for u in url:\n",
    "\n",
    "#     driver.get(u)\n",
    "#     source = driver.page_source\n",
    "#     page_source = driver.page_source\n",
    "    \n",
    "#     name = 'n'\n",
    "#     pw = 'pw'\n",
    "    \n",
    "# ##------------------------------------ Handling login ------------------------------------------##\n",
    "#     try: #login required\n",
    "#         username = driver.find_element_by_id(\"userEmail\")\n",
    "#         password = driver.find_element_by_id(\"userPassword\")\n",
    "#         submit = driver.find_element_by_xpath('//*[@id=\"InlineLoginModule\"]/div/div[2]/div/div[1]/div[3]/form/div[3]/div[1]/button')\n",
    "#         username.send_keys(name)\n",
    "#         password.send_keys(pw)\n",
    "#         submit.click()\n",
    "#         time.sleep(1) #lettin page load\n",
    "#     except: #no login required\n",
    "#         pass\n",
    "\n",
    "# ##---------------------------------- Gathering Variables - Main Page ------------------------------------##                \n",
    "\n",
    "#     name = driver.find_element_by_xpath('//*[@id=\"EmpHeroAndEmpInfo\"]/div[3]/div[2]').text\n",
    "    \n",
    "#     #Gather Description - handling \"Read More\" button\n",
    "#     try:\n",
    "#         read_more = driver.find_element_by_class_name('css-1tgo67c.e16x8fv00') #button class \n",
    "#         read_more.click()\n",
    "#         description = driver.find_element_by_xpath('//*[@id=\"EIOverviewContainer\"]/div/div[1]/div[1]/span').text\n",
    "#     except:\n",
    "#         description = \"Description: N/A\"\n",
    "        \n",
    "#     #Gather Mission - handling \"Read More\" button    \n",
    "#     try:\n",
    "#         read_more = driver.find_element_by_class_name('css-1tgo67c.e16x8fv00') #button class\n",
    "#         read_more.click()\n",
    "#         mission = driver.find_element_by_xpath('//*[@id=\"EIOverviewContainer\"]/div/div[1]/div[2]').text\n",
    "#     except:\n",
    "#         mission = \"Mission: N/A\"\n",
    "    \n",
    "    \n",
    "# ##---------------------------- Gathering Variables - Ratings pop-up --------------------------------##    \n",
    "#     try: #webpage layout 1: (Google, Microsoft, Apple, etc)\n",
    "#         driver.find_element_by_xpath('//*[@id=\"EIOverviewContainer\"]/div/div[3]/div[1]/div[2]').click()\n",
    "#         time.sleep(4) #lettin page load\n",
    "    \n",
    "#         rating_overall = driver.find_element_by_xpath('//*[@id=\"reviewDetailsModal\"]/div[2]/div[2]/div/div/div/div[1]/div[1]/div/div[1]/div/div[3]').text\n",
    "#         rating_DI = driver.find_element_by_xpath('//*[@id=\"reviewDetailsModal\"]/div[2]/div[2]/div/div/div/div[1]/div[1]/div/div[3]/div/div[3]').text\n",
    "#         rating_CV = driver.find_element_by_xpath('//*[@id=\"reviewDetailsModal\"]/div[2]/div[2]/div/div/div/div[1]/div[1]/div/div[2]/div/div[3]').text\n",
    "#         rating_WL = driver.find_element_by_xpath('//*[@id=\"reviewDetailsModal\"]/div[2]/div[2]/div/div/div/div[1]/div[1]/div/div[4]/div/div[3]').text\n",
    "#         rating_SM = driver.find_element_by_xpath('//*[@id=\"reviewDetailsModal\"]/div[2]/div[2]/div/div/div/div[1]/div[1]/div/div[5]/div/div[3]').text\n",
    "#         rating_CB = driver.find_element_by_xpath('//*[@id=\"reviewDetailsModal\"]/div[2]/div[2]/div/div/div/div[1]/div[1]/div/div[6]/div/div[3]').text\n",
    "#         rating_CO = driver.find_element_by_xpath('//*[@id=\"reviewDetailsModal\"]/div[2]/div[2]/div/div/div/div[1]/div[1]/div/div[7]/div/div[3]').text\n",
    "    \n",
    "#         print(name, \"\\n\", description, \"\\n\", mission, \"\\n\")\n",
    "#         time.sleep(np.random.choice([x/10 for x in range(7,20)])) #some time to rest \n",
    "    \n",
    "#     except: #webpage layout 2: (Cisco, Capital One, etc)\n",
    "#         driver.get(u) #recalling url\n",
    "    \n",
    "#         driver.find_element_by_xpath('//*[@id=\"EIOverviewContainer\"]/div/div[4]/div[1]/div[2]').click()\n",
    "#         time.sleep(4) #lettin page load\n",
    "#         rating_overall = driver.find_element_by_xpath('//*[@id=\"reviewDetailsModal\"]/div[2]/div[2]/div/div/div/div[1]/div[1]/div/div[1]/div/div[3]').text\n",
    "#         rating_DI = driver.find_element_by_xpath('//*[@id=\"reviewDetailsModal\"]/div[2]/div[2]/div/div/div/div[1]/div[1]/div/div[3]/div/div[3]').text\n",
    "#         rating_CV = driver.find_element_by_xpath('//*[@id=\"reviewDetailsModal\"]/div[2]/div[2]/div/div/div/div[1]/div[1]/div/div[2]/div/div[3]').text\n",
    "#         rating_WL = driver.find_element_by_xpath('//*[@id=\"reviewDetailsModal\"]/div[2]/div[2]/div/div/div/div[1]/div[1]/div/div[4]/div/div[3]').text\n",
    "#         rating_SM = driver.find_element_by_xpath('//*[@id=\"reviewDetailsModal\"]/div[2]/div[2]/div/div/div/div[1]/div[1]/div/div[5]/div/div[3]').text\n",
    "#         rating_CB = driver.find_element_by_xpath('//*[@id=\"reviewDetailsModal\"]/div[2]/div[2]/div/div/div/div[1]/div[1]/div/div[6]/div/div[3]').text\n",
    "#         rating_CO = driver.find_element_by_xpath('//*[@id=\"reviewDetailsModal\"]/div[2]/div[2]/div/div/div/div[1]/div[1]/div/div[7]/div/div[3]').text\n",
    "    \n",
    "#         print(name, \"\\n\", description, \"\\n\", mission, \"\\n\")\n",
    "#         time.sleep(np.random.choice([x/10 for x in range(7,15)])) #some time to rest \n",
    "    \n",
    "\n"
   ]
  },
  {
   "cell_type": "code",
   "execution_count": null,
   "metadata": {
    "ExecuteTime": {
     "end_time": "2021-02-06T12:18:52.221767Z",
     "start_time": "2021-02-06T12:18:16.590Z"
    }
   },
   "outputs": [],
   "source": [
    "\n",
    "# # THIS CODE WORKS - all elements except for mission statement and company review\n",
    "\n",
    "# for u in url:\n",
    "#     try:\n",
    "#         driver.get(u)\n",
    "#         source = driver.page_source\n",
    "#         page_source = driver.page_source\n",
    "#         name = 'n'\n",
    "#         pw = 'pw'\n",
    "    \n",
    "# ##---------------------------------------- Handling login ------------------------------------------##\n",
    "#         try: #login required\n",
    "#             username = driver.find_element_by_id(\"userEmail\")\n",
    "#             password = driver.find_element_by_id(\"userPassword\")\n",
    "#             submit = driver.find_element_by_xpath('//*[@id=\"InlineLoginModule\"]/div/div[2]/div/div[1]/div[3]/form/div[3]/div[1]/button')\n",
    "#             username.send_keys(name)\n",
    "#             password.send_keys(pw)\n",
    "#             submit.click()\n",
    "#             time.sleep(1) #lettin page load\n",
    "#         except: #no login required\n",
    "#             pass\n",
    "        \n",
    "# ##---------------------------------- Gathering Variables ---------------------------------##                \n",
    "#         name = driver.find_element_by_xpath('//*[@id=\"EmpHeroAndEmpInfo\"]/div[3]/div[2]').text\n",
    "#         size = driver.find_element_by_xpath('//*[@id=\"EIOverviewContainer\"]/div/div[1]/ul/li[3]/div').text\n",
    "#         headquarters = driver.find_element_by_xpath('//*[@id=\"EIOverviewContainer\"]/div/div[1]/ul/li[2]/div').text\n",
    "#         industry = driver.find_element_by_xpath('//*[@id=\"EIOverviewContainer\"]/div/div[1]/ul/li[6]/div').text\n",
    "#         try:\n",
    "#             num_reviews = driver.find_element_by_xpath('//*[@id=\"EIOverviewContainer\"]/div/div[3]/div[3]/a').text\n",
    "#         except: \n",
    "#             num_reviews = driver.find_element_by_xpath('//*[@id=\"EIOverviewContainer\"]/div/div[4]/div[3]/a').text        \n",
    "\n",
    "\n",
    "# ##-------------------------------- Handling different page layouts --------------------------------##    \n",
    "#         try: #webpage layout 1: (Google, Microsoft, Apple, etc)\n",
    "#             driver.find_element_by_xpath('//*[@id=\"EIOverviewContainer\"]/div/div[3]/div[1]/div[2]').click()\n",
    "#             time.sleep(4) #lettin page load\n",
    "        \n",
    "#             rating_overall = driver.find_element_by_xpath('//*[@id=\"reviewDetailsModal\"]/div[2]/div[2]/div/div/div/div[1]/div[1]/div/div[1]/div/div[3]').text\n",
    "#             rating_DI = driver.find_element_by_xpath('//*[@id=\"reviewDetailsModal\"]/div[2]/div[2]/div/div/div/div[1]/div[1]/div/div[3]/div/div[3]').text\n",
    "#             rating_CV = driver.find_element_by_xpath('//*[@id=\"reviewDetailsModal\"]/div[2]/div[2]/div/div/div/div[1]/div[1]/div/div[2]/div/div[3]').text\n",
    "#             rating_WL = driver.find_element_by_xpath('//*[@id=\"reviewDetailsModal\"]/div[2]/div[2]/div/div/div/div[1]/div[1]/div/div[4]/div/div[3]').text\n",
    "#             rating_SM = driver.find_element_by_xpath('//*[@id=\"reviewDetailsModal\"]/div[2]/div[2]/div/div/div/div[1]/div[1]/div/div[5]/div/div[3]').text\n",
    "#             rating_CB = driver.find_element_by_xpath('//*[@id=\"reviewDetailsModal\"]/div[2]/div[2]/div/div/div/div[1]/div[1]/div/div[6]/div/div[3]').text\n",
    "#             rating_CO = driver.find_element_by_xpath('//*[@id=\"reviewDetailsModal\"]/div[2]/div[2]/div/div/div/div[1]/div[1]/div/div[7]/div/div[3]').text\n",
    "    \n",
    "#             print(name, size, headquarters, industry, rating_overall, rating_DI, rating_CV, rating_WL, rating_SM, rating_CB, rating_CO, num_reviews)\n",
    "#             time.sleep(np.random.choice([x/10 for x in range(7,20)])) #some time to rest \n",
    "    \n",
    "#         except: #webpage layout 2: (Cisco, Capital One, etc)\n",
    "#             driver.get(u) #recalling url\n",
    "        \n",
    "#             driver.find_element_by_xpath('//*[@id=\"EIOverviewContainer\"]/div/div[4]/div[1]/div[2]').click()\n",
    "#             time.sleep(3) #lettin page load\n",
    "#             rating_overall = driver.find_element_by_xpath('//*[@id=\"reviewDetailsModal\"]/div[2]/div[2]/div/div/div/div[1]/div[1]/div/div[1]/div/div[3]').text\n",
    "#             rating_DI = driver.find_element_by_xpath('//*[@id=\"reviewDetailsModal\"]/div[2]/div[2]/div/div/div/div[1]/div[1]/div/div[3]/div/div[3]').text\n",
    "#             rating_CV = driver.find_element_by_xpath('//*[@id=\"reviewDetailsModal\"]/div[2]/div[2]/div/div/div/div[1]/div[1]/div/div[2]/div/div[3]').text\n",
    "#             rating_WL = driver.find_element_by_xpath('//*[@id=\"reviewDetailsModal\"]/div[2]/div[2]/div/div/div/div[1]/div[1]/div/div[4]/div/div[3]').text\n",
    "#             rating_SM = driver.find_element_by_xpath('//*[@id=\"reviewDetailsModal\"]/div[2]/div[2]/div/div/div/div[1]/div[1]/div/div[5]/div/div[3]').text\n",
    "#             rating_CB = driver.find_element_by_xpath('//*[@id=\"reviewDetailsModal\"]/div[2]/div[2]/div/div/div/div[1]/div[1]/div/div[6]/div/div[3]').text\n",
    "#             rating_CO = driver.find_element_by_xpath('//*[@id=\"reviewDetailsModal\"]/div[2]/div[2]/div/div/div/div[1]/div[1]/div/div[7]/div/div[3]').text\n",
    "        \n",
    "#             print(name, size, headquarters, industry, rating_overall, rating_DI, rating_CV, rating_WL, rating_SM, rating_CB, rating_CO, num_reviews)\n",
    "#             time.sleep(np.random.choice([x/10 for x in range(7,15)])) #some time to rest \n",
    "        \n",
    "#     except: #fail safe for inevitable errors\n",
    "#         print('ERROR: ', u)\n",
    "#         time.sleep(10)\n"
   ]
  },
  {
   "cell_type": "code",
   "execution_count": null,
   "metadata": {
    "ExecuteTime": {
     "end_time": "2021-02-06T12:18:52.231929Z",
     "start_time": "2021-02-06T12:18:16.596Z"
    }
   },
   "outputs": [],
   "source": [
    "\n",
    "# # THIS CODE WORKS\n",
    "\n",
    "# for u in url:\n",
    "#     try:\n",
    "#         driver.get(u)\n",
    "#         source = driver.page_source\n",
    "#         page_source = driver.page_source\n",
    "#         name = 'n'\n",
    "#         pw = 'pw'\n",
    "    \n",
    "# ##------------------------ Handling login --------------------------##\n",
    "#         try: #login required\n",
    "#             username = driver.find_element_by_id(\"userEmail\")\n",
    "#             password = driver.find_element_by_id(\"userPassword\")\n",
    "#             submit = driver.find_element_by_xpath('//*[@id=\"InlineLoginModule\"]/div/div[2]/div/div[1]/div[3]/form/div[3]/div[1]/button')\n",
    "#             username.send_keys(name)\n",
    "#             password.send_keys(pw)\n",
    "#             submit.click()\n",
    "#         except: #no login required\n",
    "#             pass\n",
    "\n",
    "# ##---------------- Handling different page layouts ----------------##\n",
    "    \n",
    "#         try: #webpage layout 1: (Google, Microsoft, Apple, etc)\n",
    "#             driver.find_element_by_xpath('//*[@id=\"EIOverviewContainer\"]/div/div[3]/div[1]/div[2]').click()\n",
    "#             time.sleep(4)\n",
    "        \n",
    "#             rating_overall = driver.find_element_by_xpath('//*[@id=\"reviewDetailsModal\"]/div[2]/div[2]/div/div/div/div[1]/div[1]/div/div[1]/div/div[3]').text\n",
    "#             rating_DI = driver.find_element_by_xpath('//*[@id=\"reviewDetailsModal\"]/div[2]/div[2]/div/div/div/div[1]/div[1]/div/div[3]/div/div[3]').text\n",
    "#             rating_CV = driver.find_element_by_xpath('//*[@id=\"reviewDetailsModal\"]/div[2]/div[2]/div/div/div/div[1]/div[1]/div/div[2]/div/div[3]').text\n",
    "#             rating_WL = driver.find_element_by_xpath('//*[@id=\"reviewDetailsModal\"]/div[2]/div[2]/div/div/div/div[1]/div[1]/div/div[4]/div/div[3]').text\n",
    "#             rating_SM = driver.find_element_by_xpath('//*[@id=\"reviewDetailsModal\"]/div[2]/div[2]/div/div/div/div[1]/div[1]/div/div[5]/div/div[3]').text\n",
    "#             rating_CB = driver.find_element_by_xpath('//*[@id=\"reviewDetailsModal\"]/div[2]/div[2]/div/div/div/div[1]/div[1]/div/div[6]/div/div[3]').text\n",
    "#             rating_CO = driver.find_element_by_xpath('//*[@id=\"reviewDetailsModal\"]/div[2]/div[2]/div/div/div/div[1]/div[1]/div/div[7]/div/div[3]').text\n",
    "    \n",
    "#             print(rating_overall, rating_DI, rating_CV, rating_WL, rating_SM, rating_CB, rating_CO)\n",
    "#             time.sleep(np.random.choice([x/10 for x in range(7,20)]))\n",
    "    \n",
    "#         except: #webpage layout 2: (Cisco, Capital One, etc)\n",
    "#             driver.get(u) #recalling url\n",
    "        \n",
    "#             driver.find_element_by_xpath('//*[@id=\"EIOverviewContainer\"]/div/div[4]/div[1]/div[2]').click()\n",
    "#             time.sleep(3)\n",
    "#             rating_overall = driver.find_element_by_xpath('//*[@id=\"reviewDetailsModal\"]/div[2]/div[2]/div/div/div/div[1]/div[1]/div/div[1]/div/div[3]').text\n",
    "#             rating_DI = driver.find_element_by_xpath('//*[@id=\"reviewDetailsModal\"]/div[2]/div[2]/div/div/div/div[1]/div[1]/div/div[3]/div/div[3]').text\n",
    "#             rating_CV = driver.find_element_by_xpath('//*[@id=\"reviewDetailsModal\"]/div[2]/div[2]/div/div/div/div[1]/div[1]/div/div[2]/div/div[3]').text\n",
    "#             rating_WL = driver.find_element_by_xpath('//*[@id=\"reviewDetailsModal\"]/div[2]/div[2]/div/div/div/div[1]/div[1]/div/div[4]/div/div[3]').text\n",
    "#             rating_SM = driver.find_element_by_xpath('//*[@id=\"reviewDetailsModal\"]/div[2]/div[2]/div/div/div/div[1]/div[1]/div/div[5]/div/div[3]').text\n",
    "#             rating_CB = driver.find_element_by_xpath('//*[@id=\"reviewDetailsModal\"]/div[2]/div[2]/div/div/div/div[1]/div[1]/div/div[6]/div/div[3]').text\n",
    "#             rating_CO = driver.find_element_by_xpath('//*[@id=\"reviewDetailsModal\"]/div[2]/div[2]/div/div/div/div[1]/div[1]/div/div[7]/div/div[3]').text\n",
    "        \n",
    "#             print(rating_overall, rating_DI, rating_CV, rating_WL, rating_SM, rating_CB, rating_CO)\n",
    "#             time.sleep(np.random.choice([x/10 for x in range(7,15)]))\n",
    "        \n",
    "#     except: #fail safe for inevitable errors\n",
    "#         time.sleep(10)\n",
    "#         pass\n"
   ]
  },
  {
   "cell_type": "code",
   "execution_count": 12,
   "metadata": {
    "ExecuteTime": {
     "end_time": "2021-02-06T13:38:41.228511Z",
     "start_time": "2021-02-06T13:38:18.312787Z"
    },
    "scrolled": true
   },
   "outputs": [
    {
     "name": "stdout",
     "output_type": "stream",
     "text": [
      "Microsoft 4.4 4.4 4.3 4.1 4.0 4.1 4.1\n"
     ]
    }
   ],
   "source": [
    "# url = [\"https://www.glassdoor.com/Overview/Working-at-Google-EI_IE9079.11,17.htm\"\n",
    "#           \"https://www.glassdoor.com/Overview/Working-at-Microsoft-EI_IE1651.11,20.htm\"\n",
    "# ]\n",
    "\n",
    "# # WHY DON'T I GET GOOGLE SCRAPE HERE?\n",
    "# for u in url:\n",
    "#     try:\n",
    "#         driver.get(u)\n",
    "#         source = driver.page_source\n",
    "#         page_source = driver.page_source\n",
    "#         name = 'n'\n",
    "#         pw = 'pw'\n",
    "        \n",
    "# ##------------------------ Handling login --------------------------##\n",
    "#         try: #login required\n",
    "#             username = driver.find_element_by_id(\"userEmail\")\n",
    "#             password = driver.find_element_by_id(\"userPassword\")\n",
    "#             submit = driver.find_element_by_xpath('//*[@id=\"InlineLoginModule\"]/div/div[2]/div/div[1]/div[3]/form/div[3]/div[1]/button')\n",
    "#             username.send_keys(name)\n",
    "#             password.send_keys(pw)\n",
    "#             submit.click()\n",
    "#         except: #no login required\n",
    "#             pass\n",
    "        \n",
    "#         name = driver.find_element_by_xpath('//*[@id=\"EmpHeroAndEmpInfo\"]/div[3]/div[2]').text\n",
    "\n",
    "# ##---------------- Handling different page layouts ----------------##\n",
    "    \n",
    "#         try: #webpage layout 1: (Google, Microsoft, Apple, etc)\n",
    "#             driver.find_element_by_xpath('//*[@id=\"EIOverviewContainer\"]/div/div[3]/div[1]/div[2]').click()\n",
    "#             time.sleep(4)\n",
    "        \n",
    "#             rating_overall = driver.find_element_by_xpath('//*[@id=\"reviewDetailsModal\"]/div[2]/div[2]/div/div/div/div[1]/div[1]/div/div[1]/div/div[3]').text\n",
    "#             try: #failsafe for companies with do DI rating\n",
    "#                 rating_DI = driver.find_element_by_xpath('//*[@id=\"reviewDetailsModal\"]/div[2]/div[2]/div/div/div/div[1]/div[1]/div/div[3]/div/div[3]').text\n",
    "#             except:\n",
    "#                 rating_DI = 'None'\n",
    "#             rating_CV = driver.find_element_by_xpath('//*[@id=\"reviewDetailsModal\"]/div[2]/div[2]/div/div/div/div[1]/div[1]/div/div[2]/div/div[3]').text\n",
    "#             rating_WL = driver.find_element_by_xpath('//*[@id=\"reviewDetailsModal\"]/div[2]/div[2]/div/div/div/div[1]/div[1]/div/div[4]/div/div[3]').text\n",
    "#             rating_SM = driver.find_element_by_xpath('//*[@id=\"reviewDetailsModal\"]/div[2]/div[2]/div/div/div/div[1]/div[1]/div/div[5]/div/div[3]').text\n",
    "#             rating_CB = driver.find_element_by_xpath('//*[@id=\"reviewDetailsModal\"]/div[2]/div[2]/div/div/div/div[1]/div[1]/div/div[6]/div/div[3]').text\n",
    "#             rating_CO = driver.find_element_by_xpath('//*[@id=\"reviewDetailsModal\"]/div[2]/div[2]/div/div/div/div[1]/div[1]/div/div[7]/div/div[3]').text\n",
    "    \n",
    "#             print(name, rating_overall, rating_DI, rating_CV, rating_WL, rating_SM, rating_CB, rating_CO)\n",
    "#             time.sleep(np.random.choice([x/10 for x in range(7,20)]))\n",
    "    \n",
    "#         except: #webpage layout 2: (Cisco, Capital One, etc)\n",
    "#             driver.get(u) #recalling url\n",
    "        \n",
    "#             driver.find_element_by_xpath('//*[@id=\"EIOverviewContainer\"]/div/div[4]/div[1]/div[2]').click()\n",
    "#             time.sleep(3)\n",
    "#             rating_overall = driver.find_element_by_xpath('//*[@id=\"reviewDetailsModal\"]/div[2]/div[2]/div/div/div/div[1]/div[1]/div/div[1]/div/div[3]').text\n",
    "#             rating_DI = driver.find_element_by_xpath('//*[@id=\"reviewDetailsModal\"]/div[2]/div[2]/div/div/div/div[1]/div[1]/div/div[3]/div/div[3]').text\n",
    "#             rating_CV = driver.find_element_by_xpath('//*[@id=\"reviewDetailsModal\"]/div[2]/div[2]/div/div/div/div[1]/div[1]/div/div[2]/div/div[3]').text\n",
    "#             rating_WL = driver.find_element_by_xpath('//*[@id=\"reviewDetailsModal\"]/div[2]/div[2]/div/div/div/div[1]/div[1]/div/div[4]/div/div[3]').text\n",
    "#             rating_SM = driver.find_element_by_xpath('//*[@id=\"reviewDetailsModal\"]/div[2]/div[2]/div/div/div/div[1]/div[1]/div/div[5]/div/div[3]').text\n",
    "#             rating_CB = driver.find_element_by_xpath('//*[@id=\"reviewDetailsModal\"]/div[2]/div[2]/div/div/div/div[1]/div[1]/div/div[6]/div/div[3]').text\n",
    "#             rating_CO = driver.find_element_by_xpath('//*[@id=\"reviewDetailsModal\"]/div[2]/div[2]/div/div/div/div[1]/div[1]/div/div[7]/div/div[3]').text\n",
    "        \n",
    "#             print(name, rating_overall, rating_DI, rating_CV, rating_WL, rating_SM, rating_CB, rating_CO)\n",
    "#             time.sleep(np.random.choice([x/10 for x in range(7,15)]))\n",
    "        \n",
    "        \n",
    "#     except:\n",
    "#         print('ERROR: ', u)\n",
    "#         time.sleep(10)\n"
   ]
  },
  {
   "cell_type": "code",
   "execution_count": null,
   "metadata": {
    "ExecuteTime": {
     "end_time": "2021-02-06T12:18:52.247670Z",
     "start_time": "2021-02-06T12:18:16.611Z"
    },
    "scrolled": true
   },
   "outputs": [],
   "source": [
    "# #group 1 code\n",
    "\n",
    "# # Google\n",
    "# url = \"https://www.glassdoor.com/Overview/Working-at-Microsoft-EI_IE1651.11,20.htm\"\n",
    "\n",
    "# driver.find_element_by_xpath('//*[@id=\"EIOverviewContainer\"]/div/div[3]/div[1]/div[2]').click()\n",
    "# time.sleep(2)\n",
    "# rating_overall = driver.find_element_by_xpath('//*[@id=\"reviewDetailsModal\"]/div[2]/div[2]/div/div/div/div[1]/div[1]/div/div[1]/div/div[3]').text\n",
    "# rating_DI = driver.find_element_by_xpath('//*[@id=\"reviewDetailsModal\"]/div[2]/div[2]/div/div/div/div[1]/div[1]/div/div[3]/div/div[3]').text\n",
    "# rating_CV = driver.find_element_by_xpath('//*[@id=\"reviewDetailsModal\"]/div[2]/div[2]/div/div/div/div[1]/div[1]/div/div[2]/div/div[3]').text\n",
    "# rating_WL = driver.find_element_by_xpath('//*[@id=\"reviewDetailsModal\"]/div[2]/div[2]/div/div/div/div[1]/div[1]/div/div[4]/div/div[3]').text\n",
    "# rating_SM = driver.find_element_by_xpath('//*[@id=\"reviewDetailsModal\"]/div[2]/div[2]/div/div/div/div[1]/div[1]/div/div[5]/div/div[3]').text\n",
    "# rating_CB = driver.find_element_by_xpath('//*[@id=\"reviewDetailsModal\"]/div[2]/div[2]/div/div/div/div[1]/div[1]/div/div[6]/div/div[3]').text\n",
    "# rating_CO = driver.find_element_by_xpath('//*[@id=\"reviewDetailsModal\"]/div[2]/div[2]/div/div/div/div[1]/div[1]/div/div[7]/div/div[3]').text\n",
    "\n",
    "# print(rating_overall, rating_DI, rating_CV, rating_WL, rating_SM, rating_CB, rating_CO)\n",
    "        "
   ]
  },
  {
   "cell_type": "code",
   "execution_count": null,
   "metadata": {
    "ExecuteTime": {
     "end_time": "2021-02-06T12:18:52.254233Z",
     "start_time": "2021-02-06T12:18:16.621Z"
    },
    "scrolled": true
   },
   "outputs": [],
   "source": [
    "# #group 2 code\n",
    "\n",
    "# # Cisco:\n",
    "# # url = \"https://www.glassdoor.com/Overview/Working-at-Cisco-Systems-EI_IE1425.11,24.htm\"\n",
    "# # Capital One:\n",
    "# #url = 'https://www.glassdoor.com/Overview/Working-at-Capital-One-EI_IE3736.11,22.htm'\n",
    "\n",
    "# driver.get(url)\n",
    "\n",
    "# driver.find_element_by_xpath('//*[@id=\"EIOverviewContainer\"]/div/div[4]/div[1]/div[2]').click()\n",
    "# time.sleep(3)\n",
    "# rating_overall = driver.find_element_by_xpath('//*[@id=\"reviewDetailsModal\"]/div[2]/div[2]/div/div/div/div[1]/div[1]/div/div[1]/div/div[3]').text\n",
    "# rating_overall = driver.find_element_by_xpath('//*[@id=\"reviewDetailsModal\"]/div[2]/div[2]/div/div/div/div[1]/div[1]/div/div[1]/div/div[3]').text\n",
    "# rating_DI = driver.find_element_by_xpath('//*[@id=\"reviewDetailsModal\"]/div[2]/div[2]/div/div/div/div[1]/div[1]/div/div[3]/div/div[3]').text\n",
    "# rating_CV = driver.find_element_by_xpath('//*[@id=\"reviewDetailsModal\"]/div[2]/div[2]/div/div/div/div[1]/div[1]/div/div[2]/div/div[3]').text\n",
    "# rating_WL = driver.find_element_by_xpath('//*[@id=\"reviewDetailsModal\"]/div[2]/div[2]/div/div/div/div[1]/div[1]/div/div[4]/div/div[3]').text\n",
    "# rating_SM = driver.find_element_by_xpath('//*[@id=\"reviewDetailsModal\"]/div[2]/div[2]/div/div/div/div[1]/div[1]/div/div[5]/div/div[3]').text\n",
    "# rating_CB = driver.find_element_by_xpath('//*[@id=\"reviewDetailsModal\"]/div[2]/div[2]/div/div/div/div[1]/div[1]/div/div[6]/div/div[3]').text\n",
    "# rating_CO = driver.find_element_by_xpath('//*[@id=\"reviewDetailsModal\"]/div[2]/div[2]/div/div/div/div[1]/div[1]/div/div[7]/div/div[3]').text\n",
    "\n",
    "# time.sleep(np.random.choice([x/10 for x in range(7,15)]))\n",
    "# print(rating_overall, rating_DI, rating_CV, rating_WL, rating_SM, rating_CB, rating_CO)\n",
    "# #print(rating_overall)\n"
   ]
  },
  {
   "cell_type": "code",
   "execution_count": null,
   "metadata": {
    "ExecuteTime": {
     "end_time": "2021-02-06T12:18:52.280806Z",
     "start_time": "2021-02-06T12:18:16.626Z"
    }
   },
   "outputs": [],
   "source": [
    "# #Testing mission statement\n",
    "# driver.find_element_by_xpath('//*[@id=\"EIOverviewContainer\"]/div/div[3]/div[1]/div[2]/span').click()\n",
    "# time.sleep(2)"
   ]
  },
  {
   "cell_type": "markdown",
   "metadata": {},
   "source": [
    "ADD MISSION AND COMPANY DESCRIPTION"
   ]
  }
 ],
 "metadata": {
  "kernelspec": {
   "display_name": "learn-env",
   "language": "python",
   "name": "learn-env"
  },
  "language_info": {
   "codemirror_mode": {
    "name": "ipython",
    "version": 3
   },
   "file_extension": ".py",
   "mimetype": "text/x-python",
   "name": "python",
   "nbconvert_exporter": "python",
   "pygments_lexer": "ipython3",
   "version": "3.6.9"
  },
  "toc": {
   "base_numbering": 1,
   "nav_menu": {},
   "number_sections": true,
   "sideBar": true,
   "skip_h1_title": false,
   "title_cell": "Table of Contents",
   "title_sidebar": "Contents",
   "toc_cell": false,
   "toc_position": {},
   "toc_section_display": true,
   "toc_window_display": false
  }
 },
 "nbformat": 4,
 "nbformat_minor": 4
}
