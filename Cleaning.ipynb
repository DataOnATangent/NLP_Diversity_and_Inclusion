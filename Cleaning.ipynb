{
 "cells": [
  {
   "cell_type": "code",
   "execution_count": 1,
   "metadata": {
    "ExecuteTime": {
     "end_time": "2021-02-11T21:13:05.186479Z",
     "start_time": "2021-02-11T21:13:04.061797Z"
    }
   },
   "outputs": [],
   "source": [
    "import pandas as pd\n",
    "import numpy as np\n",
    "import string, re\n",
    "\n",
    "pd.options.display.max_rows = 50"
   ]
  },
  {
   "cell_type": "markdown",
   "metadata": {},
   "source": [
    "## Cleaning CSV Files"
   ]
  },
  {
   "cell_type": "markdown",
   "metadata": {},
   "source": [
    "**Read in Data**"
   ]
  },
  {
   "cell_type": "code",
   "execution_count": 2,
   "metadata": {
    "ExecuteTime": {
     "end_time": "2021-02-11T21:13:05.424186Z",
     "start_time": "2021-02-11T21:13:05.193152Z"
    }
   },
   "outputs": [
    {
     "name": "stdout",
     "output_type": "stream",
     "text": [
      "Length of data set:  3268\n",
      "Number of duplicates:  1246\n"
     ]
    }
   ],
   "source": [
    "df1 = pd.read_csv('data/glassdoor_ratings1_62.csv')\n",
    "df2 = pd.read_csv('data/glassdoor_ratings2_37.csv')\n",
    "df3 = pd.read_csv('data/glassdoor_ratings3_199.csv')\n",
    "df4 = pd.read_csv('data/glassdoor_ratings5_797.csv')\n",
    "df5 = pd.read_csv('data/glassdoor_ratings6_846.csv')\n",
    "df6 = pd.read_csv('data/glassdoor_ratings7_453.csv')  \n",
    "df7 = pd.read_csv('data/glassdoor_ratings8_873.csv') #scrape # 8\n",
    "\n",
    "#Combine data frames\n",
    "data = pd.concat([df1, df2, df3, df4, df5, df6, df7])\n",
    "\n",
    "print('Length of data set: ',len(data))\n",
    "print('Number of duplicates: ', data['NAME'].duplicated().sum())"
   ]
  },
  {
   "cell_type": "markdown",
   "metadata": {},
   "source": [
    "### Initial Cleaning\n",
    " - Handle null values\n",
    " - reset indices \n",
    " - drop duplicates"
   ]
  },
  {
   "cell_type": "code",
   "execution_count": 3,
   "metadata": {
    "ExecuteTime": {
     "end_time": "2021-02-11T21:13:05.467602Z",
     "start_time": "2021-02-11T21:13:05.450832Z"
    }
   },
   "outputs": [],
   "source": [
    "## CHECK TO BE SURE THIS DOESNT NEED TO HAPPEN EARLIER\n",
    "\n",
    "#Reset index to see all rows\n",
    "data.reset_index(inplace=True)\n"
   ]
  },
  {
   "cell_type": "code",
   "execution_count": 4,
   "metadata": {
    "ExecuteTime": {
     "end_time": "2021-02-11T21:13:05.521142Z",
     "start_time": "2021-02-11T21:13:05.484759Z"
    }
   },
   "outputs": [],
   "source": [
    "# #change '  ' to null values\n",
    "# data['FULL_DESCRIPTION'] = data['FULL_DESCRIPTION'].mask(data['FULL_DESCRIPTION']== '  ')"
   ]
  },
  {
   "cell_type": "code",
   "execution_count": 5,
   "metadata": {
    "ExecuteTime": {
     "end_time": "2021-02-11T21:13:05.578802Z",
     "start_time": "2021-02-11T21:13:05.532556Z"
    },
    "scrolled": true
   },
   "outputs": [
    {
     "name": "stdout",
     "output_type": "stream",
     "text": [
      "NaN values dropped from RATING_DI:  153\n",
      "NaN values dropped from DESCRIPTION:  90\n"
     ]
    }
   ],
   "source": [
    "#Drop null values from RATING_DI\n",
    "print('NaN values dropped from RATING_DI: ', data.RATING_DI.isna().sum())\n",
    "data.dropna(subset=['RATING_DI'], inplace=True)\n",
    "\n",
    "#Drop null values from DESCRIPTION\n",
    "print('NaN values dropped from DESCRIPTION: ', data.DESCRIPTION.isna().sum())\n",
    "data.dropna(subset=['DESCRIPTION'], inplace=True)\n",
    "\n",
    "\n"
   ]
  },
  {
   "cell_type": "code",
   "execution_count": 6,
   "metadata": {
    "ExecuteTime": {
     "end_time": "2021-02-11T21:13:05.611609Z",
     "start_time": "2021-02-11T21:13:05.597904Z"
    }
   },
   "outputs": [
    {
     "name": "stdout",
     "output_type": "stream",
     "text": [
      "Number of duplicates:  1088\n",
      "NaN values dropped from DESCRIPTION:  0\n"
     ]
    }
   ],
   "source": [
    "print('Number of duplicates: ', data['NAME'].duplicated().sum())\n",
    "print('NaN values dropped from DESCRIPTION: ', data.DESCRIPTION.isna().sum())\n"
   ]
  },
  {
   "cell_type": "code",
   "execution_count": 7,
   "metadata": {
    "ExecuteTime": {
     "end_time": "2021-02-11T21:13:05.650290Z",
     "start_time": "2021-02-11T21:13:05.626166Z"
    },
    "scrolled": true
   },
   "outputs": [],
   "source": [
    "#Drop duplicate companies by 'NAME' - drops size from 1941 to 1188\n",
    "data.drop_duplicates(subset='NAME', keep='last', inplace=True)\n",
    "data = data.drop(['index'], axis=1)"
   ]
  },
  {
   "cell_type": "code",
   "execution_count": 8,
   "metadata": {
    "ExecuteTime": {
     "end_time": "2021-02-11T21:13:05.668646Z",
     "start_time": "2021-02-11T21:13:05.656041Z"
    }
   },
   "outputs": [],
   "source": [
    "### RESET INDEX HERE TO NAME ### (easier searching?)\n",
    "data = data.set_index('NAME')"
   ]
  },
  {
   "cell_type": "code",
   "execution_count": 9,
   "metadata": {
    "ExecuteTime": {
     "end_time": "2021-02-11T21:13:05.687201Z",
     "start_time": "2021-02-11T21:13:05.678616Z"
    },
    "scrolled": true
   },
   "outputs": [],
   "source": [
    "# #reset index to begin at 0\n",
    "# ###data.reset_index(inplace=True)\n",
    "\n",
    "# #drop extra indices\n",
    "# # data = data.drop(['index', 'level_0'], axis=1)\n",
    "# data = data.drop(['index'], axis=1)\n"
   ]
  },
  {
   "cell_type": "code",
   "execution_count": 10,
   "metadata": {
    "ExecuteTime": {
     "end_time": "2021-02-11T21:13:05.833896Z",
     "start_time": "2021-02-11T21:13:05.697744Z"
    }
   },
   "outputs": [
    {
     "name": "stdout",
     "output_type": "stream",
     "text": [
      "Shape:  (1937, 13)\n"
     ]
    },
    {
     "data": {
      "text/html": [
       "<div>\n",
       "<style scoped>\n",
       "    .dataframe tbody tr th:only-of-type {\n",
       "        vertical-align: middle;\n",
       "    }\n",
       "\n",
       "    .dataframe tbody tr th {\n",
       "        vertical-align: top;\n",
       "    }\n",
       "\n",
       "    .dataframe thead th {\n",
       "        text-align: right;\n",
       "    }\n",
       "</style>\n",
       "<table border=\"1\" class=\"dataframe\">\n",
       "  <thead>\n",
       "    <tr style=\"text-align: right;\">\n",
       "      <th></th>\n",
       "      <th>SIZE</th>\n",
       "      <th>LOCATION_HQ</th>\n",
       "      <th>INDUSTRY</th>\n",
       "      <th>RATING_OVERALL</th>\n",
       "      <th>RATING_DI</th>\n",
       "      <th>RATING_CV</th>\n",
       "      <th>RATING_WL</th>\n",
       "      <th>RATING_SM</th>\n",
       "      <th>RATING_CB</th>\n",
       "      <th>RATING_CO</th>\n",
       "      <th>NUM_REVIEWS</th>\n",
       "      <th>DESCRIPTION</th>\n",
       "      <th>MISSION</th>\n",
       "    </tr>\n",
       "    <tr>\n",
       "      <th>NAME</th>\n",
       "      <th></th>\n",
       "      <th></th>\n",
       "      <th></th>\n",
       "      <th></th>\n",
       "      <th></th>\n",
       "      <th></th>\n",
       "      <th></th>\n",
       "      <th></th>\n",
       "      <th></th>\n",
       "      <th></th>\n",
       "      <th></th>\n",
       "      <th></th>\n",
       "      <th></th>\n",
       "    </tr>\n",
       "  </thead>\n",
       "  <tbody>\n",
       "    <tr>\n",
       "      <th>McKinsey &amp; Company</th>\n",
       "      <td>10000+ Employees</td>\n",
       "      <td>New York, NY</td>\n",
       "      <td>Consulting</td>\n",
       "      <td>4.5</td>\n",
       "      <td>4.4</td>\n",
       "      <td>4.4</td>\n",
       "      <td>3.0</td>\n",
       "      <td>4.1</td>\n",
       "      <td>4.4</td>\n",
       "      <td>4.5</td>\n",
       "      <td>See All 5,198 Reviews</td>\n",
       "      <td>We work with leaders across sectors to tackle ...</td>\n",
       "      <td>Mission: Our mission is two-fold: to help our ...</td>\n",
       "    </tr>\n",
       "    <tr>\n",
       "      <th>Cornell University</th>\n",
       "      <td>10000+ Employees</td>\n",
       "      <td>Ithaca, NY</td>\n",
       "      <td>Colleges &amp; Universities</td>\n",
       "      <td>4.5</td>\n",
       "      <td>4.3</td>\n",
       "      <td>4.4</td>\n",
       "      <td>4.0</td>\n",
       "      <td>4.1</td>\n",
       "      <td>4.1</td>\n",
       "      <td>4.2</td>\n",
       "      <td>See All 1,765 Reviews</td>\n",
       "      <td>Cornell is a private, Ivy League university re...</td>\n",
       "      <td>NaN</td>\n",
       "    </tr>\n",
       "    <tr>\n",
       "      <th>UC Santa Barbara</th>\n",
       "      <td>5001 to 10000 Employees</td>\n",
       "      <td>Santa Barbara, CA</td>\n",
       "      <td>Colleges &amp; Universities</td>\n",
       "      <td>4.5</td>\n",
       "      <td>4.2</td>\n",
       "      <td>4.3</td>\n",
       "      <td>4.4</td>\n",
       "      <td>4.1</td>\n",
       "      <td>3.7</td>\n",
       "      <td>4.0</td>\n",
       "      <td>See All 1,049 Reviews</td>\n",
       "      <td>Dude, let's hit the beach! And then we'll hit ...</td>\n",
       "      <td>NaN</td>\n",
       "    </tr>\n",
       "    <tr>\n",
       "      <th>UC Irvine</th>\n",
       "      <td>10000+ Employees</td>\n",
       "      <td>Irvine, CA</td>\n",
       "      <td>Colleges &amp; Universities</td>\n",
       "      <td>4.4</td>\n",
       "      <td>4.5</td>\n",
       "      <td>4.3</td>\n",
       "      <td>4.0</td>\n",
       "      <td>4.0</td>\n",
       "      <td>3.8</td>\n",
       "      <td>4.0</td>\n",
       "      <td>See All 1,398 Reviews</td>\n",
       "      <td>Sun, the beach, Nobel Prize winners, and a Sou...</td>\n",
       "      <td>NaN</td>\n",
       "    </tr>\n",
       "    <tr>\n",
       "      <th>Iowa State University</th>\n",
       "      <td>5001 to 10000 Employees</td>\n",
       "      <td>Ames, IA</td>\n",
       "      <td>Colleges &amp; Universities</td>\n",
       "      <td>4.4</td>\n",
       "      <td>4.2</td>\n",
       "      <td>4.2</td>\n",
       "      <td>4.2</td>\n",
       "      <td>4.0</td>\n",
       "      <td>3.8</td>\n",
       "      <td>3.9</td>\n",
       "      <td>See All 1,203 Reviews</td>\n",
       "      <td>Attending Iowa State University of Science and...</td>\n",
       "      <td>NaN</td>\n",
       "    </tr>\n",
       "  </tbody>\n",
       "</table>\n",
       "</div>"
      ],
      "text/plain": [
       "                                          SIZE        LOCATION_HQ  \\\n",
       "NAME                                                                \n",
       "McKinsey & Company            10000+ Employees       New York, NY   \n",
       "Cornell University            10000+ Employees         Ithaca, NY   \n",
       "UC Santa Barbara       5001 to 10000 Employees  Santa Barbara, CA   \n",
       "UC Irvine                     10000+ Employees         Irvine, CA   \n",
       "Iowa State University  5001 to 10000 Employees           Ames, IA   \n",
       "\n",
       "                                      INDUSTRY  RATING_OVERALL  RATING_DI  \\\n",
       "NAME                                                                        \n",
       "McKinsey & Company                  Consulting             4.5        4.4   \n",
       "Cornell University     Colleges & Universities             4.5        4.3   \n",
       "UC Santa Barbara       Colleges & Universities             4.5        4.2   \n",
       "UC Irvine              Colleges & Universities             4.4        4.5   \n",
       "Iowa State University  Colleges & Universities             4.4        4.2   \n",
       "\n",
       "                       RATING_CV  RATING_WL  RATING_SM  RATING_CB  RATING_CO  \\\n",
       "NAME                                                                           \n",
       "McKinsey & Company           4.4        3.0        4.1        4.4        4.5   \n",
       "Cornell University           4.4        4.0        4.1        4.1        4.2   \n",
       "UC Santa Barbara             4.3        4.4        4.1        3.7        4.0   \n",
       "UC Irvine                    4.3        4.0        4.0        3.8        4.0   \n",
       "Iowa State University        4.2        4.2        4.0        3.8        3.9   \n",
       "\n",
       "                                 NUM_REVIEWS  \\\n",
       "NAME                                           \n",
       "McKinsey & Company     See All 5,198 Reviews   \n",
       "Cornell University     See All 1,765 Reviews   \n",
       "UC Santa Barbara       See All 1,049 Reviews   \n",
       "UC Irvine              See All 1,398 Reviews   \n",
       "Iowa State University  See All 1,203 Reviews   \n",
       "\n",
       "                                                             DESCRIPTION  \\\n",
       "NAME                                                                       \n",
       "McKinsey & Company     We work with leaders across sectors to tackle ...   \n",
       "Cornell University     Cornell is a private, Ivy League university re...   \n",
       "UC Santa Barbara       Dude, let's hit the beach! And then we'll hit ...   \n",
       "UC Irvine              Sun, the beach, Nobel Prize winners, and a Sou...   \n",
       "Iowa State University  Attending Iowa State University of Science and...   \n",
       "\n",
       "                                                                 MISSION  \n",
       "NAME                                                                      \n",
       "McKinsey & Company     Mission: Our mission is two-fold: to help our ...  \n",
       "Cornell University                                                   NaN  \n",
       "UC Santa Barbara                                                     NaN  \n",
       "UC Irvine                                                            NaN  \n",
       "Iowa State University                                                NaN  "
      ]
     },
     "execution_count": 10,
     "metadata": {},
     "output_type": "execute_result"
    }
   ],
   "source": [
    "#Check out dataframe\n",
    "print('Shape: ', data.shape)\n",
    "data.head()"
   ]
  },
  {
   "cell_type": "markdown",
   "metadata": {},
   "source": [
    "### Inspecting data distribution"
   ]
  },
  {
   "cell_type": "code",
   "execution_count": 11,
   "metadata": {
    "ExecuteTime": {
     "end_time": "2021-02-11T21:13:05.865884Z",
     "start_time": "2021-02-11T21:13:05.842338Z"
    },
    "scrolled": true
   },
   "outputs": [
    {
     "data": {
      "text/plain": [
       "1001 to 5000 Employees     858\n",
       "10000+ Employees           712\n",
       "5001 to 10000 Employees    356\n",
       "501 to 1000 Employees        5\n",
       "Unknown                      4\n",
       "51 to 200 Employees          1\n",
       "201 to 500 Employees         1\n",
       "Name: SIZE, dtype: int64"
      ]
     },
     "execution_count": 11,
     "metadata": {},
     "output_type": "execute_result"
    }
   ],
   "source": [
    "##inspect size column\n",
    "data.SIZE.value_counts()\n"
   ]
  },
  {
   "cell_type": "code",
   "execution_count": 12,
   "metadata": {
    "ExecuteTime": {
     "end_time": "2021-02-11T21:13:05.932696Z",
     "start_time": "2021-02-11T21:13:05.875408Z"
    }
   },
   "outputs": [
    {
     "data": {
      "text/html": [
       "<div>\n",
       "<style scoped>\n",
       "    .dataframe tbody tr th:only-of-type {\n",
       "        vertical-align: middle;\n",
       "    }\n",
       "\n",
       "    .dataframe tbody tr th {\n",
       "        vertical-align: top;\n",
       "    }\n",
       "\n",
       "    .dataframe thead th {\n",
       "        text-align: right;\n",
       "    }\n",
       "</style>\n",
       "<table border=\"1\" class=\"dataframe\">\n",
       "  <thead>\n",
       "    <tr style=\"text-align: right;\">\n",
       "      <th></th>\n",
       "      <th>INDUSTRY</th>\n",
       "    </tr>\n",
       "  </thead>\n",
       "  <tbody>\n",
       "    <tr>\n",
       "      <th>Health Care Services &amp; Hospitals</th>\n",
       "      <td>213</td>\n",
       "    </tr>\n",
       "    <tr>\n",
       "      <th>Colleges &amp; Universities</th>\n",
       "      <td>155</td>\n",
       "    </tr>\n",
       "    <tr>\n",
       "      <th>Computer Hardware &amp; Software</th>\n",
       "      <td>76</td>\n",
       "    </tr>\n",
       "    <tr>\n",
       "      <th>Insurance Carriers</th>\n",
       "      <td>63</td>\n",
       "    </tr>\n",
       "    <tr>\n",
       "      <th>IT Services</th>\n",
       "      <td>62</td>\n",
       "    </tr>\n",
       "    <tr>\n",
       "      <th>...</th>\n",
       "      <td>...</td>\n",
       "    </tr>\n",
       "    <tr>\n",
       "      <th>Charter Air Travel</th>\n",
       "      <td>1</td>\n",
       "    </tr>\n",
       "    <tr>\n",
       "      <th>Farm Support Services</th>\n",
       "      <td>1</td>\n",
       "    </tr>\n",
       "    <tr>\n",
       "      <th>Toy &amp; Hobby Stores</th>\n",
       "      <td>1</td>\n",
       "    </tr>\n",
       "    <tr>\n",
       "      <th>$2 to $5 billion (USD)</th>\n",
       "      <td>1</td>\n",
       "    </tr>\n",
       "    <tr>\n",
       "      <th>Rail</th>\n",
       "      <td>1</td>\n",
       "    </tr>\n",
       "  </tbody>\n",
       "</table>\n",
       "<p>120 rows × 1 columns</p>\n",
       "</div>"
      ],
      "text/plain": [
       "                                  INDUSTRY\n",
       "Health Care Services & Hospitals       213\n",
       "Colleges & Universities                155\n",
       "Computer Hardware & Software            76\n",
       "Insurance Carriers                      63\n",
       "IT Services                             62\n",
       "...                                    ...\n",
       "Charter Air Travel                       1\n",
       "Farm Support Services                    1\n",
       "Toy & Hobby Stores                       1\n",
       "$2 to $5 billion (USD)                   1\n",
       "Rail                                     1\n",
       "\n",
       "[120 rows x 1 columns]"
      ]
     },
     "execution_count": 12,
     "metadata": {},
     "output_type": "execute_result"
    }
   ],
   "source": [
    "data.INDUSTRY.value_counts().to_frame()"
   ]
  },
  {
   "cell_type": "code",
   "execution_count": null,
   "metadata": {},
   "outputs": [],
   "source": []
  },
  {
   "cell_type": "markdown",
   "metadata": {},
   "source": [
    "### New column adding Description and Mission together "
   ]
  },
  {
   "cell_type": "code",
   "execution_count": 13,
   "metadata": {
    "ExecuteTime": {
     "end_time": "2021-02-11T21:13:05.995404Z",
     "start_time": "2021-02-11T21:13:05.938700Z"
    }
   },
   "outputs": [
    {
     "data": {
      "text/html": [
       "<div>\n",
       "<style scoped>\n",
       "    .dataframe tbody tr th:only-of-type {\n",
       "        vertical-align: middle;\n",
       "    }\n",
       "\n",
       "    .dataframe tbody tr th {\n",
       "        vertical-align: top;\n",
       "    }\n",
       "\n",
       "    .dataframe thead th {\n",
       "        text-align: right;\n",
       "    }\n",
       "</style>\n",
       "<table border=\"1\" class=\"dataframe\">\n",
       "  <thead>\n",
       "    <tr style=\"text-align: right;\">\n",
       "      <th></th>\n",
       "      <th>SIZE</th>\n",
       "      <th>LOCATION_HQ</th>\n",
       "      <th>INDUSTRY</th>\n",
       "      <th>RATING_OVERALL</th>\n",
       "      <th>RATING_DI</th>\n",
       "      <th>RATING_CV</th>\n",
       "      <th>RATING_WL</th>\n",
       "      <th>RATING_SM</th>\n",
       "      <th>RATING_CB</th>\n",
       "      <th>RATING_CO</th>\n",
       "      <th>NUM_REVIEWS</th>\n",
       "      <th>DESCRIPTION</th>\n",
       "      <th>MISSION</th>\n",
       "      <th>FULL_DESCRIPTION</th>\n",
       "    </tr>\n",
       "    <tr>\n",
       "      <th>NAME</th>\n",
       "      <th></th>\n",
       "      <th></th>\n",
       "      <th></th>\n",
       "      <th></th>\n",
       "      <th></th>\n",
       "      <th></th>\n",
       "      <th></th>\n",
       "      <th></th>\n",
       "      <th></th>\n",
       "      <th></th>\n",
       "      <th></th>\n",
       "      <th></th>\n",
       "      <th></th>\n",
       "      <th></th>\n",
       "    </tr>\n",
       "  </thead>\n",
       "  <tbody>\n",
       "    <tr>\n",
       "      <th>McKinsey &amp; Company</th>\n",
       "      <td>10000+ Employees</td>\n",
       "      <td>New York, NY</td>\n",
       "      <td>Consulting</td>\n",
       "      <td>4.5</td>\n",
       "      <td>4.4</td>\n",
       "      <td>4.4</td>\n",
       "      <td>3.0</td>\n",
       "      <td>4.1</td>\n",
       "      <td>4.4</td>\n",
       "      <td>4.5</td>\n",
       "      <td>See All 5,198 Reviews</td>\n",
       "      <td>We work with leaders across sectors to tackle ...</td>\n",
       "      <td>Mission: Our mission is two-fold: to help our ...</td>\n",
       "      <td>We work with leaders across sectors to tackle ...</td>\n",
       "    </tr>\n",
       "    <tr>\n",
       "      <th>Cornell University</th>\n",
       "      <td>10000+ Employees</td>\n",
       "      <td>Ithaca, NY</td>\n",
       "      <td>Colleges &amp; Universities</td>\n",
       "      <td>4.5</td>\n",
       "      <td>4.3</td>\n",
       "      <td>4.4</td>\n",
       "      <td>4.0</td>\n",
       "      <td>4.1</td>\n",
       "      <td>4.1</td>\n",
       "      <td>4.2</td>\n",
       "      <td>See All 1,765 Reviews</td>\n",
       "      <td>Cornell is a private, Ivy League university re...</td>\n",
       "      <td></td>\n",
       "      <td>Cornell is a private, Ivy League university re...</td>\n",
       "    </tr>\n",
       "    <tr>\n",
       "      <th>UC Santa Barbara</th>\n",
       "      <td>5001 to 10000 Employees</td>\n",
       "      <td>Santa Barbara, CA</td>\n",
       "      <td>Colleges &amp; Universities</td>\n",
       "      <td>4.5</td>\n",
       "      <td>4.2</td>\n",
       "      <td>4.3</td>\n",
       "      <td>4.4</td>\n",
       "      <td>4.1</td>\n",
       "      <td>3.7</td>\n",
       "      <td>4.0</td>\n",
       "      <td>See All 1,049 Reviews</td>\n",
       "      <td>Dude, let's hit the beach! And then we'll hit ...</td>\n",
       "      <td></td>\n",
       "      <td>Dude, let's hit the beach! And then we'll hit ...</td>\n",
       "    </tr>\n",
       "    <tr>\n",
       "      <th>UC Irvine</th>\n",
       "      <td>10000+ Employees</td>\n",
       "      <td>Irvine, CA</td>\n",
       "      <td>Colleges &amp; Universities</td>\n",
       "      <td>4.4</td>\n",
       "      <td>4.5</td>\n",
       "      <td>4.3</td>\n",
       "      <td>4.0</td>\n",
       "      <td>4.0</td>\n",
       "      <td>3.8</td>\n",
       "      <td>4.0</td>\n",
       "      <td>See All 1,398 Reviews</td>\n",
       "      <td>Sun, the beach, Nobel Prize winners, and a Sou...</td>\n",
       "      <td></td>\n",
       "      <td>Sun, the beach, Nobel Prize winners, and a Sou...</td>\n",
       "    </tr>\n",
       "    <tr>\n",
       "      <th>Iowa State University</th>\n",
       "      <td>5001 to 10000 Employees</td>\n",
       "      <td>Ames, IA</td>\n",
       "      <td>Colleges &amp; Universities</td>\n",
       "      <td>4.4</td>\n",
       "      <td>4.2</td>\n",
       "      <td>4.2</td>\n",
       "      <td>4.2</td>\n",
       "      <td>4.0</td>\n",
       "      <td>3.8</td>\n",
       "      <td>3.9</td>\n",
       "      <td>See All 1,203 Reviews</td>\n",
       "      <td>Attending Iowa State University of Science and...</td>\n",
       "      <td></td>\n",
       "      <td>Attending Iowa State University of Science and...</td>\n",
       "    </tr>\n",
       "  </tbody>\n",
       "</table>\n",
       "</div>"
      ],
      "text/plain": [
       "                                          SIZE        LOCATION_HQ  \\\n",
       "NAME                                                                \n",
       "McKinsey & Company            10000+ Employees       New York, NY   \n",
       "Cornell University            10000+ Employees         Ithaca, NY   \n",
       "UC Santa Barbara       5001 to 10000 Employees  Santa Barbara, CA   \n",
       "UC Irvine                     10000+ Employees         Irvine, CA   \n",
       "Iowa State University  5001 to 10000 Employees           Ames, IA   \n",
       "\n",
       "                                      INDUSTRY  RATING_OVERALL  RATING_DI  \\\n",
       "NAME                                                                        \n",
       "McKinsey & Company                  Consulting             4.5        4.4   \n",
       "Cornell University     Colleges & Universities             4.5        4.3   \n",
       "UC Santa Barbara       Colleges & Universities             4.5        4.2   \n",
       "UC Irvine              Colleges & Universities             4.4        4.5   \n",
       "Iowa State University  Colleges & Universities             4.4        4.2   \n",
       "\n",
       "                       RATING_CV  RATING_WL  RATING_SM  RATING_CB  RATING_CO  \\\n",
       "NAME                                                                           \n",
       "McKinsey & Company           4.4        3.0        4.1        4.4        4.5   \n",
       "Cornell University           4.4        4.0        4.1        4.1        4.2   \n",
       "UC Santa Barbara             4.3        4.4        4.1        3.7        4.0   \n",
       "UC Irvine                    4.3        4.0        4.0        3.8        4.0   \n",
       "Iowa State University        4.2        4.2        4.0        3.8        3.9   \n",
       "\n",
       "                                 NUM_REVIEWS  \\\n",
       "NAME                                           \n",
       "McKinsey & Company     See All 5,198 Reviews   \n",
       "Cornell University     See All 1,765 Reviews   \n",
       "UC Santa Barbara       See All 1,049 Reviews   \n",
       "UC Irvine              See All 1,398 Reviews   \n",
       "Iowa State University  See All 1,203 Reviews   \n",
       "\n",
       "                                                             DESCRIPTION  \\\n",
       "NAME                                                                       \n",
       "McKinsey & Company     We work with leaders across sectors to tackle ...   \n",
       "Cornell University     Cornell is a private, Ivy League university re...   \n",
       "UC Santa Barbara       Dude, let's hit the beach! And then we'll hit ...   \n",
       "UC Irvine              Sun, the beach, Nobel Prize winners, and a Sou...   \n",
       "Iowa State University  Attending Iowa State University of Science and...   \n",
       "\n",
       "                                                                 MISSION  \\\n",
       "NAME                                                                       \n",
       "McKinsey & Company     Mission: Our mission is two-fold: to help our ...   \n",
       "Cornell University                                                         \n",
       "UC Santa Barbara                                                           \n",
       "UC Irvine                                                                  \n",
       "Iowa State University                                                      \n",
       "\n",
       "                                                        FULL_DESCRIPTION  \n",
       "NAME                                                                      \n",
       "McKinsey & Company     We work with leaders across sectors to tackle ...  \n",
       "Cornell University     Cornell is a private, Ivy League university re...  \n",
       "UC Santa Barbara       Dude, let's hit the beach! And then we'll hit ...  \n",
       "UC Irvine              Sun, the beach, Nobel Prize winners, and a Sou...  \n",
       "Iowa State University  Attending Iowa State University of Science and...  "
      ]
     },
     "execution_count": 13,
     "metadata": {},
     "output_type": "execute_result"
    }
   ],
   "source": [
    "# change null values in MISSION and DESCRIPTION to ' '\n",
    "data['MISSION'].fillna(' ', inplace=True)\n",
    "data['DESCRIPTION'].fillna(' ', inplace=True)\n",
    "\n",
    "data['FULL_DESCRIPTION'] = np.add(data['DESCRIPTION'], data['MISSION'])\n",
    "\n",
    "data.head()"
   ]
  },
  {
   "cell_type": "code",
   "execution_count": 14,
   "metadata": {
    "ExecuteTime": {
     "end_time": "2021-02-11T21:13:06.007906Z",
     "start_time": "2021-02-11T21:13:06.002565Z"
    }
   },
   "outputs": [],
   "source": [
    "### WORK ON THIS ###\n",
    "# how to add a space before \"Mission:\"??"
   ]
  },
  {
   "cell_type": "markdown",
   "metadata": {},
   "source": [
    "### Clean up NUM_REVIEWS\n",
    "- return numbers only"
   ]
  },
  {
   "cell_type": "code",
   "execution_count": 15,
   "metadata": {
    "ExecuteTime": {
     "end_time": "2021-02-11T21:13:06.027637Z",
     "start_time": "2021-02-11T21:13:06.013444Z"
    }
   },
   "outputs": [],
   "source": [
    "def get_digits(s):\n",
    "    #remove commas\n",
    "    exclude = set(string.punctuation)\n",
    "    s = ''.join(num for num in s if num not in exclude)\n",
    "\n",
    "    #return digits only\n",
    "    return s.split()[2]"
   ]
  },
  {
   "cell_type": "code",
   "execution_count": 16,
   "metadata": {
    "ExecuteTime": {
     "end_time": "2021-02-11T21:13:06.074440Z",
     "start_time": "2021-02-11T21:13:06.035778Z"
    }
   },
   "outputs": [],
   "source": [
    "#apply function to NUM_REVIEWS and change datatype to int\n",
    "data['NUM_REVIEWS'] = data['NUM_REVIEWS'].apply(get_digits).astype(int)"
   ]
  },
  {
   "cell_type": "code",
   "execution_count": 17,
   "metadata": {
    "ExecuteTime": {
     "end_time": "2021-02-11T21:13:06.153746Z",
     "start_time": "2021-02-11T21:13:06.092588Z"
    },
    "scrolled": true
   },
   "outputs": [],
   "source": [
    "#removing companies with too few reviews\n",
    "data = data[(data['NUM_REVIEWS'] > 100)]"
   ]
  },
  {
   "cell_type": "markdown",
   "metadata": {},
   "source": [
    "### New Column basted on RATING_DI"
   ]
  },
  {
   "cell_type": "markdown",
   "metadata": {},
   "source": [
    "**drop lower than xx reviews**"
   ]
  },
  {
   "cell_type": "code",
   "execution_count": 18,
   "metadata": {
    "ExecuteTime": {
     "end_time": "2021-02-11T21:13:06.403874Z",
     "start_time": "2021-02-11T21:13:06.245764Z"
    },
    "scrolled": false
   },
   "outputs": [
    {
     "data": {
      "text/html": [
       "<div>\n",
       "<style scoped>\n",
       "    .dataframe tbody tr th:only-of-type {\n",
       "        vertical-align: middle;\n",
       "    }\n",
       "\n",
       "    .dataframe tbody tr th {\n",
       "        vertical-align: top;\n",
       "    }\n",
       "\n",
       "    .dataframe thead th {\n",
       "        text-align: right;\n",
       "    }\n",
       "</style>\n",
       "<table border=\"1\" class=\"dataframe\">\n",
       "  <thead>\n",
       "    <tr style=\"text-align: right;\">\n",
       "      <th></th>\n",
       "      <th>RATING_OVERALL</th>\n",
       "      <th>RATING_DI</th>\n",
       "      <th>RATING_CV</th>\n",
       "      <th>RATING_WL</th>\n",
       "      <th>RATING_SM</th>\n",
       "      <th>RATING_CB</th>\n",
       "      <th>RATING_CO</th>\n",
       "      <th>NUM_REVIEWS</th>\n",
       "    </tr>\n",
       "  </thead>\n",
       "  <tbody>\n",
       "    <tr>\n",
       "      <th>count</th>\n",
       "      <td>1924.000000</td>\n",
       "      <td>1924.000000</td>\n",
       "      <td>1924.000000</td>\n",
       "      <td>1924.000000</td>\n",
       "      <td>1924.000000</td>\n",
       "      <td>1924.000000</td>\n",
       "      <td>1924.000000</td>\n",
       "      <td>1924.000000</td>\n",
       "    </tr>\n",
       "    <tr>\n",
       "      <th>mean</th>\n",
       "      <td>3.899064</td>\n",
       "      <td>3.985655</td>\n",
       "      <td>3.814085</td>\n",
       "      <td>3.694335</td>\n",
       "      <td>3.460863</td>\n",
       "      <td>3.682848</td>\n",
       "      <td>3.593399</td>\n",
       "      <td>1216.289501</td>\n",
       "    </tr>\n",
       "    <tr>\n",
       "      <th>std</th>\n",
       "      <td>0.299122</td>\n",
       "      <td>0.429166</td>\n",
       "      <td>0.380497</td>\n",
       "      <td>0.392565</td>\n",
       "      <td>0.388888</td>\n",
       "      <td>0.403465</td>\n",
       "      <td>0.366290</td>\n",
       "      <td>2710.347067</td>\n",
       "    </tr>\n",
       "    <tr>\n",
       "      <th>min</th>\n",
       "      <td>2.400000</td>\n",
       "      <td>1.000000</td>\n",
       "      <td>1.900000</td>\n",
       "      <td>1.700000</td>\n",
       "      <td>1.900000</td>\n",
       "      <td>2.300000</td>\n",
       "      <td>2.300000</td>\n",
       "      <td>101.000000</td>\n",
       "    </tr>\n",
       "    <tr>\n",
       "      <th>25%</th>\n",
       "      <td>3.700000</td>\n",
       "      <td>3.700000</td>\n",
       "      <td>3.600000</td>\n",
       "      <td>3.400000</td>\n",
       "      <td>3.200000</td>\n",
       "      <td>3.400000</td>\n",
       "      <td>3.300000</td>\n",
       "      <td>243.000000</td>\n",
       "    </tr>\n",
       "    <tr>\n",
       "      <th>50%</th>\n",
       "      <td>3.900000</td>\n",
       "      <td>4.000000</td>\n",
       "      <td>3.800000</td>\n",
       "      <td>3.700000</td>\n",
       "      <td>3.400000</td>\n",
       "      <td>3.700000</td>\n",
       "      <td>3.600000</td>\n",
       "      <td>460.500000</td>\n",
       "    </tr>\n",
       "    <tr>\n",
       "      <th>75%</th>\n",
       "      <td>4.100000</td>\n",
       "      <td>4.300000</td>\n",
       "      <td>4.100000</td>\n",
       "      <td>4.000000</td>\n",
       "      <td>3.700000</td>\n",
       "      <td>3.900000</td>\n",
       "      <td>3.800000</td>\n",
       "      <td>1225.250000</td>\n",
       "    </tr>\n",
       "    <tr>\n",
       "      <th>max</th>\n",
       "      <td>4.900000</td>\n",
       "      <td>5.000000</td>\n",
       "      <td>5.000000</td>\n",
       "      <td>4.900000</td>\n",
       "      <td>4.900000</td>\n",
       "      <td>4.900000</td>\n",
       "      <td>4.800000</td>\n",
       "      <td>74411.000000</td>\n",
       "    </tr>\n",
       "  </tbody>\n",
       "</table>\n",
       "</div>"
      ],
      "text/plain": [
       "       RATING_OVERALL    RATING_DI    RATING_CV    RATING_WL    RATING_SM  \\\n",
       "count     1924.000000  1924.000000  1924.000000  1924.000000  1924.000000   \n",
       "mean         3.899064     3.985655     3.814085     3.694335     3.460863   \n",
       "std          0.299122     0.429166     0.380497     0.392565     0.388888   \n",
       "min          2.400000     1.000000     1.900000     1.700000     1.900000   \n",
       "25%          3.700000     3.700000     3.600000     3.400000     3.200000   \n",
       "50%          3.900000     4.000000     3.800000     3.700000     3.400000   \n",
       "75%          4.100000     4.300000     4.100000     4.000000     3.700000   \n",
       "max          4.900000     5.000000     5.000000     4.900000     4.900000   \n",
       "\n",
       "         RATING_CB    RATING_CO   NUM_REVIEWS  \n",
       "count  1924.000000  1924.000000   1924.000000  \n",
       "mean      3.682848     3.593399   1216.289501  \n",
       "std       0.403465     0.366290   2710.347067  \n",
       "min       2.300000     2.300000    101.000000  \n",
       "25%       3.400000     3.300000    243.000000  \n",
       "50%       3.700000     3.600000    460.500000  \n",
       "75%       3.900000     3.800000   1225.250000  \n",
       "max       4.900000     4.800000  74411.000000  "
      ]
     },
     "execution_count": 18,
     "metadata": {},
     "output_type": "execute_result"
    }
   ],
   "source": [
    "# Checking out rating stats\n",
    "data.describe()"
   ]
  },
  {
   "cell_type": "code",
   "execution_count": 19,
   "metadata": {
    "ExecuteTime": {
     "end_time": "2021-02-11T21:13:06.559213Z",
     "start_time": "2021-02-11T21:13:06.535182Z"
    }
   },
   "outputs": [
    {
     "data": {
      "text/plain": [
       "3.9856548856548857"
      ]
     },
     "execution_count": 19,
     "metadata": {},
     "output_type": "execute_result"
    }
   ],
   "source": [
    "threshold = data.RATING_DI.mean()\n",
    "threshold"
   ]
  },
  {
   "cell_type": "code",
   "execution_count": 20,
   "metadata": {
    "ExecuteTime": {
     "end_time": "2021-02-11T21:13:06.601214Z",
     "start_time": "2021-02-11T21:13:06.573751Z"
    },
    "scrolled": true
   },
   "outputs": [
    {
     "name": "stdout",
     "output_type": "stream",
     "text": [
      "Percentage of companpies below threshold: 43.555093555093556\n",
      "Percentage of companpies above threshold: 46.1018711018711\n"
     ]
    }
   ],
   "source": [
    "print('Percentage of companpies below threshold:', \n",
    "      (len(data[(data['RATING_DI'] < 4.0)]) / (len(data)))*100)\n",
    "print('Percentage of companpies above threshold:', \n",
    "      (len(data[(data['RATING_DI'] > 4.0)]) / (len(data)))*100)"
   ]
  },
  {
   "cell_type": "code",
   "execution_count": 21,
   "metadata": {
    "ExecuteTime": {
     "end_time": "2021-02-11T21:13:06.631566Z",
     "start_time": "2021-02-11T21:13:06.618061Z"
    }
   },
   "outputs": [],
   "source": [
    "##PIE\n",
    "# names = df.country.unique()\n",
    "# values = df.groupby(['country'])['share_global_co2'].mean()\n",
    "\n",
    "# # Visualize top CO2 contributers \n",
    "# fig = px.pie(df, values=values, names=names,\n",
    "#       title = 'CO2 Emissions by Country')\n",
    "# fig.update_traces(textposition='inside', textinfo='percent+label')\n",
    "# fig.update_layout(showlegend=False)\n",
    "# fig.show()\n"
   ]
  },
  {
   "cell_type": "code",
   "execution_count": 22,
   "metadata": {
    "ExecuteTime": {
     "end_time": "2021-02-11T21:13:06.653596Z",
     "start_time": "2021-02-11T21:13:06.641665Z"
    }
   },
   "outputs": [],
   "source": [
    "# New column for Target variable - companies with Diversity and Inclusion Rating over 4.0\n",
    "data['TARGET'] = np.where(data['RATING_DI'] > 4.0 , 1, 0)"
   ]
  },
  {
   "cell_type": "code",
   "execution_count": null,
   "metadata": {},
   "outputs": [],
   "source": []
  },
  {
   "cell_type": "code",
   "execution_count": null,
   "metadata": {},
   "outputs": [],
   "source": []
  },
  {
   "cell_type": "code",
   "execution_count": null,
   "metadata": {},
   "outputs": [],
   "source": []
  },
  {
   "cell_type": "markdown",
   "metadata": {},
   "source": [
    "## Save data CSV"
   ]
  },
  {
   "cell_type": "code",
   "execution_count": 23,
   "metadata": {
    "ExecuteTime": {
     "end_time": "2021-02-11T21:13:06.923296Z",
     "start_time": "2021-02-11T21:13:06.662979Z"
    }
   },
   "outputs": [],
   "source": [
    "data.to_csv('data/glassdoor_ratings_main.csv', index=False)"
   ]
  },
  {
   "cell_type": "code",
   "execution_count": 24,
   "metadata": {
    "ExecuteTime": {
     "end_time": "2021-02-11T21:13:06.961567Z",
     "start_time": "2021-02-11T21:13:06.925718Z"
    },
    "scrolled": false
   },
   "outputs": [
    {
     "data": {
      "text/html": [
       "<div>\n",
       "<style scoped>\n",
       "    .dataframe tbody tr th:only-of-type {\n",
       "        vertical-align: middle;\n",
       "    }\n",
       "\n",
       "    .dataframe tbody tr th {\n",
       "        vertical-align: top;\n",
       "    }\n",
       "\n",
       "    .dataframe thead th {\n",
       "        text-align: right;\n",
       "    }\n",
       "</style>\n",
       "<table border=\"1\" class=\"dataframe\">\n",
       "  <thead>\n",
       "    <tr style=\"text-align: right;\">\n",
       "      <th></th>\n",
       "      <th>SIZE</th>\n",
       "      <th>LOCATION_HQ</th>\n",
       "      <th>INDUSTRY</th>\n",
       "      <th>RATING_OVERALL</th>\n",
       "      <th>RATING_DI</th>\n",
       "      <th>RATING_CV</th>\n",
       "      <th>RATING_WL</th>\n",
       "      <th>RATING_SM</th>\n",
       "      <th>RATING_CB</th>\n",
       "      <th>RATING_CO</th>\n",
       "      <th>NUM_REVIEWS</th>\n",
       "      <th>DESCRIPTION</th>\n",
       "      <th>MISSION</th>\n",
       "      <th>FULL_DESCRIPTION</th>\n",
       "      <th>TARGET</th>\n",
       "    </tr>\n",
       "    <tr>\n",
       "      <th>NAME</th>\n",
       "      <th></th>\n",
       "      <th></th>\n",
       "      <th></th>\n",
       "      <th></th>\n",
       "      <th></th>\n",
       "      <th></th>\n",
       "      <th></th>\n",
       "      <th></th>\n",
       "      <th></th>\n",
       "      <th></th>\n",
       "      <th></th>\n",
       "      <th></th>\n",
       "      <th></th>\n",
       "      <th></th>\n",
       "      <th></th>\n",
       "    </tr>\n",
       "  </thead>\n",
       "  <tbody>\n",
       "    <tr>\n",
       "      <th>McKinsey &amp; Company</th>\n",
       "      <td>10000+ Employees</td>\n",
       "      <td>New York, NY</td>\n",
       "      <td>Consulting</td>\n",
       "      <td>4.5</td>\n",
       "      <td>4.4</td>\n",
       "      <td>4.4</td>\n",
       "      <td>3.0</td>\n",
       "      <td>4.1</td>\n",
       "      <td>4.4</td>\n",
       "      <td>4.5</td>\n",
       "      <td>5198</td>\n",
       "      <td>We work with leaders across sectors to tackle ...</td>\n",
       "      <td>Mission: Our mission is two-fold: to help our ...</td>\n",
       "      <td>We work with leaders across sectors to tackle ...</td>\n",
       "      <td>1</td>\n",
       "    </tr>\n",
       "    <tr>\n",
       "      <th>Cornell University</th>\n",
       "      <td>10000+ Employees</td>\n",
       "      <td>Ithaca, NY</td>\n",
       "      <td>Colleges &amp; Universities</td>\n",
       "      <td>4.5</td>\n",
       "      <td>4.3</td>\n",
       "      <td>4.4</td>\n",
       "      <td>4.0</td>\n",
       "      <td>4.1</td>\n",
       "      <td>4.1</td>\n",
       "      <td>4.2</td>\n",
       "      <td>1765</td>\n",
       "      <td>Cornell is a private, Ivy League university re...</td>\n",
       "      <td></td>\n",
       "      <td>Cornell is a private, Ivy League university re...</td>\n",
       "      <td>1</td>\n",
       "    </tr>\n",
       "    <tr>\n",
       "      <th>UC Santa Barbara</th>\n",
       "      <td>5001 to 10000 Employees</td>\n",
       "      <td>Santa Barbara, CA</td>\n",
       "      <td>Colleges &amp; Universities</td>\n",
       "      <td>4.5</td>\n",
       "      <td>4.2</td>\n",
       "      <td>4.3</td>\n",
       "      <td>4.4</td>\n",
       "      <td>4.1</td>\n",
       "      <td>3.7</td>\n",
       "      <td>4.0</td>\n",
       "      <td>1049</td>\n",
       "      <td>Dude, let's hit the beach! And then we'll hit ...</td>\n",
       "      <td></td>\n",
       "      <td>Dude, let's hit the beach! And then we'll hit ...</td>\n",
       "      <td>1</td>\n",
       "    </tr>\n",
       "    <tr>\n",
       "      <th>UC Irvine</th>\n",
       "      <td>10000+ Employees</td>\n",
       "      <td>Irvine, CA</td>\n",
       "      <td>Colleges &amp; Universities</td>\n",
       "      <td>4.4</td>\n",
       "      <td>4.5</td>\n",
       "      <td>4.3</td>\n",
       "      <td>4.0</td>\n",
       "      <td>4.0</td>\n",
       "      <td>3.8</td>\n",
       "      <td>4.0</td>\n",
       "      <td>1398</td>\n",
       "      <td>Sun, the beach, Nobel Prize winners, and a Sou...</td>\n",
       "      <td></td>\n",
       "      <td>Sun, the beach, Nobel Prize winners, and a Sou...</td>\n",
       "      <td>1</td>\n",
       "    </tr>\n",
       "    <tr>\n",
       "      <th>Iowa State University</th>\n",
       "      <td>5001 to 10000 Employees</td>\n",
       "      <td>Ames, IA</td>\n",
       "      <td>Colleges &amp; Universities</td>\n",
       "      <td>4.4</td>\n",
       "      <td>4.2</td>\n",
       "      <td>4.2</td>\n",
       "      <td>4.2</td>\n",
       "      <td>4.0</td>\n",
       "      <td>3.8</td>\n",
       "      <td>3.9</td>\n",
       "      <td>1203</td>\n",
       "      <td>Attending Iowa State University of Science and...</td>\n",
       "      <td></td>\n",
       "      <td>Attending Iowa State University of Science and...</td>\n",
       "      <td>1</td>\n",
       "    </tr>\n",
       "  </tbody>\n",
       "</table>\n",
       "</div>"
      ],
      "text/plain": [
       "                                          SIZE        LOCATION_HQ  \\\n",
       "NAME                                                                \n",
       "McKinsey & Company            10000+ Employees       New York, NY   \n",
       "Cornell University            10000+ Employees         Ithaca, NY   \n",
       "UC Santa Barbara       5001 to 10000 Employees  Santa Barbara, CA   \n",
       "UC Irvine                     10000+ Employees         Irvine, CA   \n",
       "Iowa State University  5001 to 10000 Employees           Ames, IA   \n",
       "\n",
       "                                      INDUSTRY  RATING_OVERALL  RATING_DI  \\\n",
       "NAME                                                                        \n",
       "McKinsey & Company                  Consulting             4.5        4.4   \n",
       "Cornell University     Colleges & Universities             4.5        4.3   \n",
       "UC Santa Barbara       Colleges & Universities             4.5        4.2   \n",
       "UC Irvine              Colleges & Universities             4.4        4.5   \n",
       "Iowa State University  Colleges & Universities             4.4        4.2   \n",
       "\n",
       "                       RATING_CV  RATING_WL  RATING_SM  RATING_CB  RATING_CO  \\\n",
       "NAME                                                                           \n",
       "McKinsey & Company           4.4        3.0        4.1        4.4        4.5   \n",
       "Cornell University           4.4        4.0        4.1        4.1        4.2   \n",
       "UC Santa Barbara             4.3        4.4        4.1        3.7        4.0   \n",
       "UC Irvine                    4.3        4.0        4.0        3.8        4.0   \n",
       "Iowa State University        4.2        4.2        4.0        3.8        3.9   \n",
       "\n",
       "                       NUM_REVIEWS  \\\n",
       "NAME                                 \n",
       "McKinsey & Company            5198   \n",
       "Cornell University            1765   \n",
       "UC Santa Barbara              1049   \n",
       "UC Irvine                     1398   \n",
       "Iowa State University         1203   \n",
       "\n",
       "                                                             DESCRIPTION  \\\n",
       "NAME                                                                       \n",
       "McKinsey & Company     We work with leaders across sectors to tackle ...   \n",
       "Cornell University     Cornell is a private, Ivy League university re...   \n",
       "UC Santa Barbara       Dude, let's hit the beach! And then we'll hit ...   \n",
       "UC Irvine              Sun, the beach, Nobel Prize winners, and a Sou...   \n",
       "Iowa State University  Attending Iowa State University of Science and...   \n",
       "\n",
       "                                                                 MISSION  \\\n",
       "NAME                                                                       \n",
       "McKinsey & Company     Mission: Our mission is two-fold: to help our ...   \n",
       "Cornell University                                                         \n",
       "UC Santa Barbara                                                           \n",
       "UC Irvine                                                                  \n",
       "Iowa State University                                                      \n",
       "\n",
       "                                                        FULL_DESCRIPTION  \\\n",
       "NAME                                                                       \n",
       "McKinsey & Company     We work with leaders across sectors to tackle ...   \n",
       "Cornell University     Cornell is a private, Ivy League university re...   \n",
       "UC Santa Barbara       Dude, let's hit the beach! And then we'll hit ...   \n",
       "UC Irvine              Sun, the beach, Nobel Prize winners, and a Sou...   \n",
       "Iowa State University  Attending Iowa State University of Science and...   \n",
       "\n",
       "                       TARGET  \n",
       "NAME                           \n",
       "McKinsey & Company          1  \n",
       "Cornell University          1  \n",
       "UC Santa Barbara            1  \n",
       "UC Irvine                   1  \n",
       "Iowa State University       1  "
      ]
     },
     "execution_count": 24,
     "metadata": {},
     "output_type": "execute_result"
    }
   ],
   "source": [
    "data.head()"
   ]
  },
  {
   "cell_type": "code",
   "execution_count": 25,
   "metadata": {
    "ExecuteTime": {
     "end_time": "2021-02-11T21:13:06.989264Z",
     "start_time": "2021-02-11T21:13:06.967530Z"
    }
   },
   "outputs": [
    {
     "name": "stdout",
     "output_type": "stream",
     "text": [
      "<class 'pandas.core.frame.DataFrame'>\n",
      "Index: 1924 entries, McKinsey & Company to First American Financial Corporation\n",
      "Data columns (total 15 columns):\n",
      "SIZE                1924 non-null object\n",
      "LOCATION_HQ         1924 non-null object\n",
      "INDUSTRY            1924 non-null object\n",
      "RATING_OVERALL      1924 non-null float64\n",
      "RATING_DI           1924 non-null float64\n",
      "RATING_CV           1924 non-null float64\n",
      "RATING_WL           1924 non-null float64\n",
      "RATING_SM           1924 non-null float64\n",
      "RATING_CB           1924 non-null float64\n",
      "RATING_CO           1924 non-null float64\n",
      "NUM_REVIEWS         1924 non-null int64\n",
      "DESCRIPTION         1924 non-null object\n",
      "MISSION             1924 non-null object\n",
      "FULL_DESCRIPTION    1924 non-null object\n",
      "TARGET              1924 non-null int64\n",
      "dtypes: float64(7), int64(2), object(6)\n",
      "memory usage: 240.5+ KB\n"
     ]
    }
   ],
   "source": [
    "data.info()"
   ]
  },
  {
   "cell_type": "code",
   "execution_count": null,
   "metadata": {},
   "outputs": [],
   "source": []
  },
  {
   "cell_type": "markdown",
   "metadata": {},
   "source": [
    "## Create and save DTM \n",
    "- Document Term Matrix"
   ]
  },
  {
   "cell_type": "code",
   "execution_count": 26,
   "metadata": {
    "ExecuteTime": {
     "end_time": "2021-02-11T21:13:07.004770Z",
     "start_time": "2021-02-11T21:13:06.996006Z"
    }
   },
   "outputs": [],
   "source": [
    "# # We can either keep it in dictionary format or put it into a pandas dataframe\n",
    "# import pandas as pd\n",
    "# pd.set_option('max_colwidth',150)\n",
    "\n",
    "# data_df = pd.DataFrame.from_dict(data_combined).transpose()\n",
    "# data_df.columns = ['transcript']\n",
    "# data_df = data_df.sort_index()\n",
    "# data_df"
   ]
  },
  {
   "cell_type": "code",
   "execution_count": 27,
   "metadata": {
    "ExecuteTime": {
     "end_time": "2021-02-11T21:13:07.023898Z",
     "start_time": "2021-02-11T21:13:07.011611Z"
    }
   },
   "outputs": [
    {
     "data": {
      "text/plain": [
       "Index(['SIZE', 'LOCATION_HQ', 'INDUSTRY', 'RATING_OVERALL', 'RATING_DI',\n",
       "       'RATING_CV', 'RATING_WL', 'RATING_SM', 'RATING_CB', 'RATING_CO',\n",
       "       'NUM_REVIEWS', 'DESCRIPTION', 'MISSION', 'FULL_DESCRIPTION', 'TARGET'],\n",
       "      dtype='object')"
      ]
     },
     "execution_count": 27,
     "metadata": {},
     "output_type": "execute_result"
    }
   ],
   "source": [
    "data.columns"
   ]
  },
  {
   "cell_type": "code",
   "execution_count": 28,
   "metadata": {
    "ExecuteTime": {
     "end_time": "2021-02-11T21:13:07.034679Z",
     "start_time": "2021-02-11T21:13:07.029005Z"
    }
   },
   "outputs": [],
   "source": [
    "# ## setting stopwords and punctuations\n",
    "# sw_list = stopwords.words('english')\n",
    "# sw_list += list(string.punctuation) #appending to stopwords\n",
    "# sw_list += [\"''\", '\"\"', '...', '``', '’', '“', '’', '”', '‘', '‘',\n",
    "#             '-', '–', '—', '--', \"'s\", 'e.g', \"'ll\",\n",
    "#             'company', 'services', 'world', 'people', 'care', 'health', 'us',\n",
    "#            ]\n",
    "\n",
    "# sw_set = set(sw_list) #list of stop words\n",
    "# #sw_set #Sanity Check"
   ]
  },
  {
   "cell_type": "code",
   "execution_count": 29,
   "metadata": {
    "ExecuteTime": {
     "end_time": "2021-02-11T21:13:07.046081Z",
     "start_time": "2021-02-11T21:13:07.040499Z"
    }
   },
   "outputs": [],
   "source": [
    "# sw_set"
   ]
  },
  {
   "cell_type": "code",
   "execution_count": 30,
   "metadata": {
    "ExecuteTime": {
     "end_time": "2021-02-11T21:13:07.061919Z",
     "start_time": "2021-02-11T21:13:07.055366Z"
    }
   },
   "outputs": [],
   "source": [
    "import re"
   ]
  },
  {
   "cell_type": "markdown",
   "metadata": {},
   "source": [
    "**Cleaning Description**"
   ]
  },
  {
   "cell_type": "code",
   "execution_count": 87,
   "metadata": {
    "ExecuteTime": {
     "end_time": "2021-02-11T21:22:58.814973Z",
     "start_time": "2021-02-11T21:22:58.807015Z"
    }
   },
   "outputs": [
    {
     "data": {
      "text/plain": [
       "'!\"#$%&\\'()*+,-./:;<=>?@[\\\\]^_`{|}~'"
      ]
     },
     "execution_count": 87,
     "metadata": {},
     "output_type": "execute_result"
    }
   ],
   "source": [
    "string.punctuation "
   ]
  },
  {
   "cell_type": "code",
   "execution_count": 101,
   "metadata": {
    "ExecuteTime": {
     "end_time": "2021-02-11T21:28:13.257493Z",
     "start_time": "2021-02-11T21:28:13.243754Z"
    }
   },
   "outputs": [],
   "source": [
    "def clean_text(text):\n",
    "    '''Make text lowercase, remove text in square brackets, remove punctuation and remove words containing numbers.'''\n",
    "    # make text lowercase\n",
    "    text = text.lower()\n",
    "    # remove numbers\n",
    "    text = re.sub('\\w*\\d\\w*', '', text)\n",
    "    # remove punctuation and symbols\n",
    "    text = re.sub('[%s]' % re.escape(string.punctuation), '', text)\n",
    "    text = re.sub('™', '', text)\n",
    "    # remove quotation marks\n",
    "    text = re.sub('\\\"+', '', text)\n",
    "    \n",
    "    # remove single letter characters\n",
    "    text = re.sub(r\"\\b[a-zA-Z]\\b\", \"\", text)\n",
    "    # if there's a new line, change to a whitespace\n",
    "    text = re.sub('\\n', ' ', text)\n",
    "    \n",
    "    return text"
   ]
  },
  {
   "cell_type": "code",
   "execution_count": 102,
   "metadata": {
    "ExecuteTime": {
     "end_time": "2021-02-11T21:28:14.335382Z",
     "start_time": "2021-02-11T21:28:13.928715Z"
    }
   },
   "outputs": [],
   "source": [
    "# apply data cleaning function to 'FULL_DESCRIPTION' column\n",
    "data['CLEAN_DESCRIPTION'] = data['FULL_DESCRIPTION'].apply(clean_text)"
   ]
  },
  {
   "cell_type": "code",
   "execution_count": 103,
   "metadata": {
    "ExecuteTime": {
     "end_time": "2021-02-11T21:28:14.507431Z",
     "start_time": "2021-02-11T21:28:14.494683Z"
    }
   },
   "outputs": [],
   "source": [
    "# # applying the above function to our data/features with map() method\n",
    "# processed_data = list(map(process_description, df.FULL_DESCRIPTION))"
   ]
  },
  {
   "cell_type": "code",
   "execution_count": 107,
   "metadata": {
    "ExecuteTime": {
     "end_time": "2021-02-11T21:31:15.266621Z",
     "start_time": "2021-02-11T21:31:15.252952Z"
    }
   },
   "outputs": [
    {
     "data": {
      "text/plain": [
       "'the shriners red fez and miniscooter parades are the goofy side to their very serious support of the shriners hospitals for children the system operates nearly two dozen hospitals throughout north america the majority of its hospitals specialize in orthopedic conditions others specialize in treating serious burn injuries spinal cord injuries and cleft lips and palates founded by the fellowship shriners international the hospitals are supported by  multitude of fundraising events arranged by the organizations  members as  result shriners hospitals are able to treat children regardless of their families ability to pay shriners hospitals for children was founded in  '"
      ]
     },
     "execution_count": 107,
     "metadata": {},
     "output_type": "execute_result"
    }
   ],
   "source": [
    "data.CLEAN_DESCRIPTION[912\n",
    "                    \n",
    "                    \n",
    "                      ]"
   ]
  },
  {
   "cell_type": "code",
   "execution_count": null,
   "metadata": {},
   "outputs": [],
   "source": []
  },
  {
   "cell_type": "code",
   "execution_count": null,
   "metadata": {},
   "outputs": [],
   "source": []
  },
  {
   "cell_type": "code",
   "execution_count": null,
   "metadata": {},
   "outputs": [],
   "source": []
  },
  {
   "cell_type": "markdown",
   "metadata": {
    "heading_collapsed": true
   },
   "source": [
    "## EDA"
   ]
  },
  {
   "cell_type": "markdown",
   "metadata": {
    "hidden": true
   },
   "source": [
    "Feature engineering for EDA:\n",
    " - bin: RATING (4 categories), NUM_REVIEWS\n",
    " - create continuous variables for SIZE\n",
    " - new col for length of description, mission\n",
    " - new col for HQ_STATE\n",
    " \n",
    " Notes:\n",
    " - continuous variables: SIZE, RATING, NUM_REVIEWS\n"
   ]
  },
  {
   "cell_type": "code",
   "execution_count": 34,
   "metadata": {
    "ExecuteTime": {
     "end_time": "2021-02-11T21:13:07.760058Z",
     "start_time": "2021-02-11T21:13:07.742405Z"
    },
    "hidden": true
   },
   "outputs": [],
   "source": [
    "data['RATING_DI_BIN'] = data.RATING_DI.astype(float)"
   ]
  },
  {
   "cell_type": "code",
   "execution_count": 35,
   "metadata": {
    "ExecuteTime": {
     "end_time": "2021-02-11T21:13:07.850988Z",
     "start_time": "2021-02-11T21:13:07.766012Z"
    },
    "hidden": true
   },
   "outputs": [
    {
     "data": {
      "text/html": [
       "<div>\n",
       "<style scoped>\n",
       "    .dataframe tbody tr th:only-of-type {\n",
       "        vertical-align: middle;\n",
       "    }\n",
       "\n",
       "    .dataframe tbody tr th {\n",
       "        vertical-align: top;\n",
       "    }\n",
       "\n",
       "    .dataframe thead th {\n",
       "        text-align: right;\n",
       "    }\n",
       "</style>\n",
       "<table border=\"1\" class=\"dataframe\">\n",
       "  <thead>\n",
       "    <tr style=\"text-align: right;\">\n",
       "      <th></th>\n",
       "      <th>SIZE</th>\n",
       "      <th>LOCATION_HQ</th>\n",
       "      <th>INDUSTRY</th>\n",
       "      <th>RATING_OVERALL</th>\n",
       "      <th>RATING_DI</th>\n",
       "      <th>RATING_CV</th>\n",
       "      <th>RATING_WL</th>\n",
       "      <th>RATING_SM</th>\n",
       "      <th>RATING_CB</th>\n",
       "      <th>RATING_CO</th>\n",
       "      <th>NUM_REVIEWS</th>\n",
       "      <th>DESCRIPTION</th>\n",
       "      <th>MISSION</th>\n",
       "      <th>FULL_DESCRIPTION</th>\n",
       "      <th>TARGET</th>\n",
       "      <th>CLEAN_DESCRIPTION</th>\n",
       "      <th>RATING_DI_BIN</th>\n",
       "    </tr>\n",
       "    <tr>\n",
       "      <th>NAME</th>\n",
       "      <th></th>\n",
       "      <th></th>\n",
       "      <th></th>\n",
       "      <th></th>\n",
       "      <th></th>\n",
       "      <th></th>\n",
       "      <th></th>\n",
       "      <th></th>\n",
       "      <th></th>\n",
       "      <th></th>\n",
       "      <th></th>\n",
       "      <th></th>\n",
       "      <th></th>\n",
       "      <th></th>\n",
       "      <th></th>\n",
       "      <th></th>\n",
       "      <th></th>\n",
       "    </tr>\n",
       "  </thead>\n",
       "  <tbody>\n",
       "    <tr>\n",
       "      <th>McKinsey &amp; Company</th>\n",
       "      <td>10000+ Employees</td>\n",
       "      <td>New York, NY</td>\n",
       "      <td>Consulting</td>\n",
       "      <td>4.5</td>\n",
       "      <td>4.4</td>\n",
       "      <td>4.4</td>\n",
       "      <td>3.0</td>\n",
       "      <td>4.1</td>\n",
       "      <td>4.4</td>\n",
       "      <td>4.5</td>\n",
       "      <td>5198</td>\n",
       "      <td>We work with leaders across sectors to tackle ...</td>\n",
       "      <td>Mission: Our mission is two-fold: to help our ...</td>\n",
       "      <td>We work with leaders across sectors to tackle ...</td>\n",
       "      <td>1</td>\n",
       "      <td>we work with leaders across sectors to tackle ...</td>\n",
       "      <td>4.4</td>\n",
       "    </tr>\n",
       "    <tr>\n",
       "      <th>Cornell University</th>\n",
       "      <td>10000+ Employees</td>\n",
       "      <td>Ithaca, NY</td>\n",
       "      <td>Colleges &amp; Universities</td>\n",
       "      <td>4.5</td>\n",
       "      <td>4.3</td>\n",
       "      <td>4.4</td>\n",
       "      <td>4.0</td>\n",
       "      <td>4.1</td>\n",
       "      <td>4.1</td>\n",
       "      <td>4.2</td>\n",
       "      <td>1765</td>\n",
       "      <td>Cornell is a private, Ivy League university re...</td>\n",
       "      <td></td>\n",
       "      <td>Cornell is a private, Ivy League university re...</td>\n",
       "      <td>1</td>\n",
       "      <td>cornell is a private ivy league university rec...</td>\n",
       "      <td>4.3</td>\n",
       "    </tr>\n",
       "    <tr>\n",
       "      <th>UC Santa Barbara</th>\n",
       "      <td>5001 to 10000 Employees</td>\n",
       "      <td>Santa Barbara, CA</td>\n",
       "      <td>Colleges &amp; Universities</td>\n",
       "      <td>4.5</td>\n",
       "      <td>4.2</td>\n",
       "      <td>4.3</td>\n",
       "      <td>4.4</td>\n",
       "      <td>4.1</td>\n",
       "      <td>3.7</td>\n",
       "      <td>4.0</td>\n",
       "      <td>1049</td>\n",
       "      <td>Dude, let's hit the beach! And then we'll hit ...</td>\n",
       "      <td></td>\n",
       "      <td>Dude, let's hit the beach! And then we'll hit ...</td>\n",
       "      <td>1</td>\n",
       "      <td>dude lets hit the beach and then well hit the ...</td>\n",
       "      <td>4.2</td>\n",
       "    </tr>\n",
       "    <tr>\n",
       "      <th>UC Irvine</th>\n",
       "      <td>10000+ Employees</td>\n",
       "      <td>Irvine, CA</td>\n",
       "      <td>Colleges &amp; Universities</td>\n",
       "      <td>4.4</td>\n",
       "      <td>4.5</td>\n",
       "      <td>4.3</td>\n",
       "      <td>4.0</td>\n",
       "      <td>4.0</td>\n",
       "      <td>3.8</td>\n",
       "      <td>4.0</td>\n",
       "      <td>1398</td>\n",
       "      <td>Sun, the beach, Nobel Prize winners, and a Sou...</td>\n",
       "      <td></td>\n",
       "      <td>Sun, the beach, Nobel Prize winners, and a Sou...</td>\n",
       "      <td>1</td>\n",
       "      <td>sun the beach nobel prize winners and a southe...</td>\n",
       "      <td>4.5</td>\n",
       "    </tr>\n",
       "    <tr>\n",
       "      <th>Iowa State University</th>\n",
       "      <td>5001 to 10000 Employees</td>\n",
       "      <td>Ames, IA</td>\n",
       "      <td>Colleges &amp; Universities</td>\n",
       "      <td>4.4</td>\n",
       "      <td>4.2</td>\n",
       "      <td>4.2</td>\n",
       "      <td>4.2</td>\n",
       "      <td>4.0</td>\n",
       "      <td>3.8</td>\n",
       "      <td>3.9</td>\n",
       "      <td>1203</td>\n",
       "      <td>Attending Iowa State University of Science and...</td>\n",
       "      <td></td>\n",
       "      <td>Attending Iowa State University of Science and...</td>\n",
       "      <td>1</td>\n",
       "      <td>attending iowa state university of science and...</td>\n",
       "      <td>4.2</td>\n",
       "    </tr>\n",
       "  </tbody>\n",
       "</table>\n",
       "</div>"
      ],
      "text/plain": [
       "                                          SIZE        LOCATION_HQ  \\\n",
       "NAME                                                                \n",
       "McKinsey & Company            10000+ Employees       New York, NY   \n",
       "Cornell University            10000+ Employees         Ithaca, NY   \n",
       "UC Santa Barbara       5001 to 10000 Employees  Santa Barbara, CA   \n",
       "UC Irvine                     10000+ Employees         Irvine, CA   \n",
       "Iowa State University  5001 to 10000 Employees           Ames, IA   \n",
       "\n",
       "                                      INDUSTRY  RATING_OVERALL  RATING_DI  \\\n",
       "NAME                                                                        \n",
       "McKinsey & Company                  Consulting             4.5        4.4   \n",
       "Cornell University     Colleges & Universities             4.5        4.3   \n",
       "UC Santa Barbara       Colleges & Universities             4.5        4.2   \n",
       "UC Irvine              Colleges & Universities             4.4        4.5   \n",
       "Iowa State University  Colleges & Universities             4.4        4.2   \n",
       "\n",
       "                       RATING_CV  RATING_WL  RATING_SM  RATING_CB  RATING_CO  \\\n",
       "NAME                                                                           \n",
       "McKinsey & Company           4.4        3.0        4.1        4.4        4.5   \n",
       "Cornell University           4.4        4.0        4.1        4.1        4.2   \n",
       "UC Santa Barbara             4.3        4.4        4.1        3.7        4.0   \n",
       "UC Irvine                    4.3        4.0        4.0        3.8        4.0   \n",
       "Iowa State University        4.2        4.2        4.0        3.8        3.9   \n",
       "\n",
       "                       NUM_REVIEWS  \\\n",
       "NAME                                 \n",
       "McKinsey & Company            5198   \n",
       "Cornell University            1765   \n",
       "UC Santa Barbara              1049   \n",
       "UC Irvine                     1398   \n",
       "Iowa State University         1203   \n",
       "\n",
       "                                                             DESCRIPTION  \\\n",
       "NAME                                                                       \n",
       "McKinsey & Company     We work with leaders across sectors to tackle ...   \n",
       "Cornell University     Cornell is a private, Ivy League university re...   \n",
       "UC Santa Barbara       Dude, let's hit the beach! And then we'll hit ...   \n",
       "UC Irvine              Sun, the beach, Nobel Prize winners, and a Sou...   \n",
       "Iowa State University  Attending Iowa State University of Science and...   \n",
       "\n",
       "                                                                 MISSION  \\\n",
       "NAME                                                                       \n",
       "McKinsey & Company     Mission: Our mission is two-fold: to help our ...   \n",
       "Cornell University                                                         \n",
       "UC Santa Barbara                                                           \n",
       "UC Irvine                                                                  \n",
       "Iowa State University                                                      \n",
       "\n",
       "                                                        FULL_DESCRIPTION  \\\n",
       "NAME                                                                       \n",
       "McKinsey & Company     We work with leaders across sectors to tackle ...   \n",
       "Cornell University     Cornell is a private, Ivy League university re...   \n",
       "UC Santa Barbara       Dude, let's hit the beach! And then we'll hit ...   \n",
       "UC Irvine              Sun, the beach, Nobel Prize winners, and a Sou...   \n",
       "Iowa State University  Attending Iowa State University of Science and...   \n",
       "\n",
       "                       TARGET  \\\n",
       "NAME                            \n",
       "McKinsey & Company          1   \n",
       "Cornell University          1   \n",
       "UC Santa Barbara            1   \n",
       "UC Irvine                   1   \n",
       "Iowa State University       1   \n",
       "\n",
       "                                                       CLEAN_DESCRIPTION  \\\n",
       "NAME                                                                       \n",
       "McKinsey & Company     we work with leaders across sectors to tackle ...   \n",
       "Cornell University     cornell is a private ivy league university rec...   \n",
       "UC Santa Barbara       dude lets hit the beach and then well hit the ...   \n",
       "UC Irvine              sun the beach nobel prize winners and a southe...   \n",
       "Iowa State University  attending iowa state university of science and...   \n",
       "\n",
       "                       RATING_DI_BIN  \n",
       "NAME                                  \n",
       "McKinsey & Company               4.4  \n",
       "Cornell University               4.3  \n",
       "UC Santa Barbara                 4.2  \n",
       "UC Irvine                        4.5  \n",
       "Iowa State University            4.2  "
      ]
     },
     "execution_count": 35,
     "metadata": {},
     "output_type": "execute_result"
    }
   ],
   "source": [
    "data.head()"
   ]
  },
  {
   "cell_type": "code",
   "execution_count": 36,
   "metadata": {
    "ExecuteTime": {
     "end_time": "2021-02-11T21:13:07.874363Z",
     "start_time": "2021-02-11T21:13:07.858950Z"
    },
    "hidden": true
   },
   "outputs": [
    {
     "data": {
      "text/plain": [
       "1001 to 5000 Employees     848\n",
       "10000+ Employees           710\n",
       "5001 to 10000 Employees    355\n",
       "501 to 1000 Employees        5\n",
       "Unknown                      4\n",
       "51 to 200 Employees          1\n",
       "201 to 500 Employees         1\n",
       "Name: SIZE, dtype: int64"
      ]
     },
     "execution_count": 36,
     "metadata": {},
     "output_type": "execute_result"
    }
   ],
   "source": [
    "data.SIZE.value_counts()"
   ]
  },
  {
   "cell_type": "code",
   "execution_count": 37,
   "metadata": {
    "ExecuteTime": {
     "end_time": "2021-02-11T21:13:07.910847Z",
     "start_time": "2021-02-11T21:13:07.887026Z"
    },
    "hidden": true
   },
   "outputs": [],
   "source": [
    "## list of conditions you want to test\n",
    "conditions = [ \n",
    "    data['SIZE'] == '10000+ Employees',\n",
    "    data['SIZE'] == '1001 to 5000 Employees',\n",
    "    data['SIZE'] == '5001 to 10000 Employees', \n",
    "    ((data['SIZE'] == '501 to 1000 Employees')|(data['SIZE'] == '201 to 500 Employees')| (data['SIZE'] == '51 to 200 Employees'))] \n",
    "\n",
    "## list of choices to be returned if said condition is True\n",
    "choices = [ \n",
    "    4,\n",
    "    3,\n",
    "    2,\n",
    "    1]\n",
    "\n",
    "data['SIZE_BIN'] = np.select(conditions, choices, default=None)\n",
    "\n",
    "#Convert to float\n",
    "data['SIZE_BIN'] = data['SIZE_BIN'].astype(float)"
   ]
  },
  {
   "cell_type": "code",
   "execution_count": null,
   "metadata": {
    "ExecuteTime": {
     "end_time": "2021-02-11T16:54:37.217160Z",
     "start_time": "2021-02-11T16:54:37.211083Z"
    },
    "hidden": true,
    "scrolled": true
   },
   "outputs": [],
   "source": []
  },
  {
   "cell_type": "code",
   "execution_count": 38,
   "metadata": {
    "ExecuteTime": {
     "end_time": "2021-02-11T21:13:07.935368Z",
     "start_time": "2021-02-11T21:13:07.915470Z"
    },
    "hidden": true
   },
   "outputs": [
    {
     "name": "stdout",
     "output_type": "stream",
     "text": [
      "<class 'pandas.core.frame.DataFrame'>\n",
      "Index: 1924 entries, McKinsey & Company to First American Financial Corporation\n",
      "Data columns (total 18 columns):\n",
      "SIZE                 1924 non-null object\n",
      "LOCATION_HQ          1924 non-null object\n",
      "INDUSTRY             1924 non-null object\n",
      "RATING_OVERALL       1924 non-null float64\n",
      "RATING_DI            1924 non-null float64\n",
      "RATING_CV            1924 non-null float64\n",
      "RATING_WL            1924 non-null float64\n",
      "RATING_SM            1924 non-null float64\n",
      "RATING_CB            1924 non-null float64\n",
      "RATING_CO            1924 non-null float64\n",
      "NUM_REVIEWS          1924 non-null int64\n",
      "DESCRIPTION          1924 non-null object\n",
      "MISSION              1924 non-null object\n",
      "FULL_DESCRIPTION     1924 non-null object\n",
      "TARGET               1924 non-null int64\n",
      "CLEAN_DESCRIPTION    1924 non-null object\n",
      "RATING_DI_BIN        1924 non-null float64\n",
      "SIZE_BIN             1920 non-null float64\n",
      "dtypes: float64(9), int64(2), object(7)\n",
      "memory usage: 285.6+ KB\n"
     ]
    }
   ],
   "source": [
    "data.info()"
   ]
  },
  {
   "cell_type": "code",
   "execution_count": 39,
   "metadata": {
    "ExecuteTime": {
     "end_time": "2021-02-11T21:13:07.973731Z",
     "start_time": "2021-02-11T21:13:07.940031Z"
    },
    "hidden": true
   },
   "outputs": [
    {
     "data": {
      "text/html": [
       "<div>\n",
       "<style scoped>\n",
       "    .dataframe tbody tr th:only-of-type {\n",
       "        vertical-align: middle;\n",
       "    }\n",
       "\n",
       "    .dataframe tbody tr th {\n",
       "        vertical-align: top;\n",
       "    }\n",
       "\n",
       "    .dataframe thead th {\n",
       "        text-align: right;\n",
       "    }\n",
       "</style>\n",
       "<table border=\"1\" class=\"dataframe\">\n",
       "  <thead>\n",
       "    <tr style=\"text-align: right;\">\n",
       "      <th></th>\n",
       "      <th>SIZE</th>\n",
       "      <th>LOCATION_HQ</th>\n",
       "      <th>INDUSTRY</th>\n",
       "      <th>RATING_OVERALL</th>\n",
       "      <th>RATING_DI</th>\n",
       "      <th>RATING_CV</th>\n",
       "      <th>RATING_WL</th>\n",
       "      <th>RATING_SM</th>\n",
       "      <th>RATING_CB</th>\n",
       "      <th>RATING_CO</th>\n",
       "      <th>NUM_REVIEWS</th>\n",
       "      <th>DESCRIPTION</th>\n",
       "      <th>MISSION</th>\n",
       "      <th>FULL_DESCRIPTION</th>\n",
       "      <th>TARGET</th>\n",
       "      <th>CLEAN_DESCRIPTION</th>\n",
       "      <th>RATING_DI_BIN</th>\n",
       "      <th>SIZE_BIN</th>\n",
       "    </tr>\n",
       "    <tr>\n",
       "      <th>NAME</th>\n",
       "      <th></th>\n",
       "      <th></th>\n",
       "      <th></th>\n",
       "      <th></th>\n",
       "      <th></th>\n",
       "      <th></th>\n",
       "      <th></th>\n",
       "      <th></th>\n",
       "      <th></th>\n",
       "      <th></th>\n",
       "      <th></th>\n",
       "      <th></th>\n",
       "      <th></th>\n",
       "      <th></th>\n",
       "      <th></th>\n",
       "      <th></th>\n",
       "      <th></th>\n",
       "      <th></th>\n",
       "    </tr>\n",
       "  </thead>\n",
       "  <tbody>\n",
       "    <tr>\n",
       "      <th>McKinsey &amp; Company</th>\n",
       "      <td>10000+ Employees</td>\n",
       "      <td>New York, NY</td>\n",
       "      <td>Consulting</td>\n",
       "      <td>4.5</td>\n",
       "      <td>4.4</td>\n",
       "      <td>4.4</td>\n",
       "      <td>3.0</td>\n",
       "      <td>4.1</td>\n",
       "      <td>4.4</td>\n",
       "      <td>4.5</td>\n",
       "      <td>5198</td>\n",
       "      <td>We work with leaders across sectors to tackle ...</td>\n",
       "      <td>Mission: Our mission is two-fold: to help our ...</td>\n",
       "      <td>We work with leaders across sectors to tackle ...</td>\n",
       "      <td>1</td>\n",
       "      <td>we work with leaders across sectors to tackle ...</td>\n",
       "      <td>4.4</td>\n",
       "      <td>4.0</td>\n",
       "    </tr>\n",
       "    <tr>\n",
       "      <th>Cornell University</th>\n",
       "      <td>10000+ Employees</td>\n",
       "      <td>Ithaca, NY</td>\n",
       "      <td>Colleges &amp; Universities</td>\n",
       "      <td>4.5</td>\n",
       "      <td>4.3</td>\n",
       "      <td>4.4</td>\n",
       "      <td>4.0</td>\n",
       "      <td>4.1</td>\n",
       "      <td>4.1</td>\n",
       "      <td>4.2</td>\n",
       "      <td>1765</td>\n",
       "      <td>Cornell is a private, Ivy League university re...</td>\n",
       "      <td></td>\n",
       "      <td>Cornell is a private, Ivy League university re...</td>\n",
       "      <td>1</td>\n",
       "      <td>cornell is a private ivy league university rec...</td>\n",
       "      <td>4.3</td>\n",
       "      <td>4.0</td>\n",
       "    </tr>\n",
       "    <tr>\n",
       "      <th>UC Santa Barbara</th>\n",
       "      <td>5001 to 10000 Employees</td>\n",
       "      <td>Santa Barbara, CA</td>\n",
       "      <td>Colleges &amp; Universities</td>\n",
       "      <td>4.5</td>\n",
       "      <td>4.2</td>\n",
       "      <td>4.3</td>\n",
       "      <td>4.4</td>\n",
       "      <td>4.1</td>\n",
       "      <td>3.7</td>\n",
       "      <td>4.0</td>\n",
       "      <td>1049</td>\n",
       "      <td>Dude, let's hit the beach! And then we'll hit ...</td>\n",
       "      <td></td>\n",
       "      <td>Dude, let's hit the beach! And then we'll hit ...</td>\n",
       "      <td>1</td>\n",
       "      <td>dude lets hit the beach and then well hit the ...</td>\n",
       "      <td>4.2</td>\n",
       "      <td>2.0</td>\n",
       "    </tr>\n",
       "    <tr>\n",
       "      <th>UC Irvine</th>\n",
       "      <td>10000+ Employees</td>\n",
       "      <td>Irvine, CA</td>\n",
       "      <td>Colleges &amp; Universities</td>\n",
       "      <td>4.4</td>\n",
       "      <td>4.5</td>\n",
       "      <td>4.3</td>\n",
       "      <td>4.0</td>\n",
       "      <td>4.0</td>\n",
       "      <td>3.8</td>\n",
       "      <td>4.0</td>\n",
       "      <td>1398</td>\n",
       "      <td>Sun, the beach, Nobel Prize winners, and a Sou...</td>\n",
       "      <td></td>\n",
       "      <td>Sun, the beach, Nobel Prize winners, and a Sou...</td>\n",
       "      <td>1</td>\n",
       "      <td>sun the beach nobel prize winners and a southe...</td>\n",
       "      <td>4.5</td>\n",
       "      <td>4.0</td>\n",
       "    </tr>\n",
       "    <tr>\n",
       "      <th>Iowa State University</th>\n",
       "      <td>5001 to 10000 Employees</td>\n",
       "      <td>Ames, IA</td>\n",
       "      <td>Colleges &amp; Universities</td>\n",
       "      <td>4.4</td>\n",
       "      <td>4.2</td>\n",
       "      <td>4.2</td>\n",
       "      <td>4.2</td>\n",
       "      <td>4.0</td>\n",
       "      <td>3.8</td>\n",
       "      <td>3.9</td>\n",
       "      <td>1203</td>\n",
       "      <td>Attending Iowa State University of Science and...</td>\n",
       "      <td></td>\n",
       "      <td>Attending Iowa State University of Science and...</td>\n",
       "      <td>1</td>\n",
       "      <td>attending iowa state university of science and...</td>\n",
       "      <td>4.2</td>\n",
       "      <td>2.0</td>\n",
       "    </tr>\n",
       "  </tbody>\n",
       "</table>\n",
       "</div>"
      ],
      "text/plain": [
       "                                          SIZE        LOCATION_HQ  \\\n",
       "NAME                                                                \n",
       "McKinsey & Company            10000+ Employees       New York, NY   \n",
       "Cornell University            10000+ Employees         Ithaca, NY   \n",
       "UC Santa Barbara       5001 to 10000 Employees  Santa Barbara, CA   \n",
       "UC Irvine                     10000+ Employees         Irvine, CA   \n",
       "Iowa State University  5001 to 10000 Employees           Ames, IA   \n",
       "\n",
       "                                      INDUSTRY  RATING_OVERALL  RATING_DI  \\\n",
       "NAME                                                                        \n",
       "McKinsey & Company                  Consulting             4.5        4.4   \n",
       "Cornell University     Colleges & Universities             4.5        4.3   \n",
       "UC Santa Barbara       Colleges & Universities             4.5        4.2   \n",
       "UC Irvine              Colleges & Universities             4.4        4.5   \n",
       "Iowa State University  Colleges & Universities             4.4        4.2   \n",
       "\n",
       "                       RATING_CV  RATING_WL  RATING_SM  RATING_CB  RATING_CO  \\\n",
       "NAME                                                                           \n",
       "McKinsey & Company           4.4        3.0        4.1        4.4        4.5   \n",
       "Cornell University           4.4        4.0        4.1        4.1        4.2   \n",
       "UC Santa Barbara             4.3        4.4        4.1        3.7        4.0   \n",
       "UC Irvine                    4.3        4.0        4.0        3.8        4.0   \n",
       "Iowa State University        4.2        4.2        4.0        3.8        3.9   \n",
       "\n",
       "                       NUM_REVIEWS  \\\n",
       "NAME                                 \n",
       "McKinsey & Company            5198   \n",
       "Cornell University            1765   \n",
       "UC Santa Barbara              1049   \n",
       "UC Irvine                     1398   \n",
       "Iowa State University         1203   \n",
       "\n",
       "                                                             DESCRIPTION  \\\n",
       "NAME                                                                       \n",
       "McKinsey & Company     We work with leaders across sectors to tackle ...   \n",
       "Cornell University     Cornell is a private, Ivy League university re...   \n",
       "UC Santa Barbara       Dude, let's hit the beach! And then we'll hit ...   \n",
       "UC Irvine              Sun, the beach, Nobel Prize winners, and a Sou...   \n",
       "Iowa State University  Attending Iowa State University of Science and...   \n",
       "\n",
       "                                                                 MISSION  \\\n",
       "NAME                                                                       \n",
       "McKinsey & Company     Mission: Our mission is two-fold: to help our ...   \n",
       "Cornell University                                                         \n",
       "UC Santa Barbara                                                           \n",
       "UC Irvine                                                                  \n",
       "Iowa State University                                                      \n",
       "\n",
       "                                                        FULL_DESCRIPTION  \\\n",
       "NAME                                                                       \n",
       "McKinsey & Company     We work with leaders across sectors to tackle ...   \n",
       "Cornell University     Cornell is a private, Ivy League university re...   \n",
       "UC Santa Barbara       Dude, let's hit the beach! And then we'll hit ...   \n",
       "UC Irvine              Sun, the beach, Nobel Prize winners, and a Sou...   \n",
       "Iowa State University  Attending Iowa State University of Science and...   \n",
       "\n",
       "                       TARGET  \\\n",
       "NAME                            \n",
       "McKinsey & Company          1   \n",
       "Cornell University          1   \n",
       "UC Santa Barbara            1   \n",
       "UC Irvine                   1   \n",
       "Iowa State University       1   \n",
       "\n",
       "                                                       CLEAN_DESCRIPTION  \\\n",
       "NAME                                                                       \n",
       "McKinsey & Company     we work with leaders across sectors to tackle ...   \n",
       "Cornell University     cornell is a private ivy league university rec...   \n",
       "UC Santa Barbara       dude lets hit the beach and then well hit the ...   \n",
       "UC Irvine              sun the beach nobel prize winners and a southe...   \n",
       "Iowa State University  attending iowa state university of science and...   \n",
       "\n",
       "                       RATING_DI_BIN  SIZE_BIN  \n",
       "NAME                                            \n",
       "McKinsey & Company               4.4       4.0  \n",
       "Cornell University               4.3       4.0  \n",
       "UC Santa Barbara                 4.2       2.0  \n",
       "UC Irvine                        4.5       4.0  \n",
       "Iowa State University            4.2       2.0  "
      ]
     },
     "execution_count": 39,
     "metadata": {},
     "output_type": "execute_result"
    }
   ],
   "source": [
    "data.head()"
   ]
  },
  {
   "cell_type": "code",
   "execution_count": null,
   "metadata": {
    "hidden": true
   },
   "outputs": [],
   "source": []
  },
  {
   "cell_type": "code",
   "execution_count": 40,
   "metadata": {
    "ExecuteTime": {
     "end_time": "2021-02-11T21:13:09.379616Z",
     "start_time": "2021-02-11T21:13:07.977375Z"
    },
    "hidden": true
   },
   "outputs": [],
   "source": [
    "import seaborn as sns\n",
    "import matplotlib.pyplot as plt"
   ]
  },
  {
   "cell_type": "code",
   "execution_count": 41,
   "metadata": {
    "ExecuteTime": {
     "end_time": "2021-02-11T21:13:09.647827Z",
     "start_time": "2021-02-11T21:13:09.392390Z"
    },
    "hidden": true
   },
   "outputs": [
    {
     "data": {
      "text/html": [
       "<div>\n",
       "<style scoped>\n",
       "    .dataframe tbody tr th:only-of-type {\n",
       "        vertical-align: middle;\n",
       "    }\n",
       "\n",
       "    .dataframe tbody tr th {\n",
       "        vertical-align: top;\n",
       "    }\n",
       "\n",
       "    .dataframe thead th {\n",
       "        text-align: right;\n",
       "    }\n",
       "</style>\n",
       "<table border=\"1\" class=\"dataframe\">\n",
       "  <thead>\n",
       "    <tr style=\"text-align: right;\">\n",
       "      <th></th>\n",
       "      <th>RATING_OVERALL</th>\n",
       "      <th>RATING_DI</th>\n",
       "      <th>RATING_CV</th>\n",
       "      <th>RATING_WL</th>\n",
       "      <th>RATING_SM</th>\n",
       "      <th>RATING_CB</th>\n",
       "      <th>RATING_CO</th>\n",
       "      <th>NUM_REVIEWS</th>\n",
       "      <th>TARGET</th>\n",
       "      <th>RATING_DI_BIN</th>\n",
       "      <th>SIZE_BIN</th>\n",
       "    </tr>\n",
       "  </thead>\n",
       "  <tbody>\n",
       "    <tr>\n",
       "      <th>count</th>\n",
       "      <td>1924.000000</td>\n",
       "      <td>1924.000000</td>\n",
       "      <td>1924.000000</td>\n",
       "      <td>1924.000000</td>\n",
       "      <td>1924.000000</td>\n",
       "      <td>1924.000000</td>\n",
       "      <td>1924.000000</td>\n",
       "      <td>1924.000000</td>\n",
       "      <td>1924.000000</td>\n",
       "      <td>1924.000000</td>\n",
       "      <td>1920.000000</td>\n",
       "    </tr>\n",
       "    <tr>\n",
       "      <th>mean</th>\n",
       "      <td>3.899064</td>\n",
       "      <td>3.985655</td>\n",
       "      <td>3.814085</td>\n",
       "      <td>3.694335</td>\n",
       "      <td>3.460863</td>\n",
       "      <td>3.682848</td>\n",
       "      <td>3.593399</td>\n",
       "      <td>1216.289501</td>\n",
       "      <td>0.461019</td>\n",
       "      <td>3.985655</td>\n",
       "      <td>3.177604</td>\n",
       "    </tr>\n",
       "    <tr>\n",
       "      <th>std</th>\n",
       "      <td>0.299122</td>\n",
       "      <td>0.429166</td>\n",
       "      <td>0.380497</td>\n",
       "      <td>0.392565</td>\n",
       "      <td>0.388888</td>\n",
       "      <td>0.403465</td>\n",
       "      <td>0.366290</td>\n",
       "      <td>2710.347067</td>\n",
       "      <td>0.498608</td>\n",
       "      <td>0.429166</td>\n",
       "      <td>0.733490</td>\n",
       "    </tr>\n",
       "    <tr>\n",
       "      <th>min</th>\n",
       "      <td>2.400000</td>\n",
       "      <td>1.000000</td>\n",
       "      <td>1.900000</td>\n",
       "      <td>1.700000</td>\n",
       "      <td>1.900000</td>\n",
       "      <td>2.300000</td>\n",
       "      <td>2.300000</td>\n",
       "      <td>101.000000</td>\n",
       "      <td>0.000000</td>\n",
       "      <td>1.000000</td>\n",
       "      <td>1.000000</td>\n",
       "    </tr>\n",
       "    <tr>\n",
       "      <th>25%</th>\n",
       "      <td>3.700000</td>\n",
       "      <td>3.700000</td>\n",
       "      <td>3.600000</td>\n",
       "      <td>3.400000</td>\n",
       "      <td>3.200000</td>\n",
       "      <td>3.400000</td>\n",
       "      <td>3.300000</td>\n",
       "      <td>243.000000</td>\n",
       "      <td>0.000000</td>\n",
       "      <td>3.700000</td>\n",
       "      <td>3.000000</td>\n",
       "    </tr>\n",
       "    <tr>\n",
       "      <th>50%</th>\n",
       "      <td>3.900000</td>\n",
       "      <td>4.000000</td>\n",
       "      <td>3.800000</td>\n",
       "      <td>3.700000</td>\n",
       "      <td>3.400000</td>\n",
       "      <td>3.700000</td>\n",
       "      <td>3.600000</td>\n",
       "      <td>460.500000</td>\n",
       "      <td>0.000000</td>\n",
       "      <td>4.000000</td>\n",
       "      <td>3.000000</td>\n",
       "    </tr>\n",
       "    <tr>\n",
       "      <th>75%</th>\n",
       "      <td>4.100000</td>\n",
       "      <td>4.300000</td>\n",
       "      <td>4.100000</td>\n",
       "      <td>4.000000</td>\n",
       "      <td>3.700000</td>\n",
       "      <td>3.900000</td>\n",
       "      <td>3.800000</td>\n",
       "      <td>1225.250000</td>\n",
       "      <td>1.000000</td>\n",
       "      <td>4.300000</td>\n",
       "      <td>4.000000</td>\n",
       "    </tr>\n",
       "    <tr>\n",
       "      <th>max</th>\n",
       "      <td>4.900000</td>\n",
       "      <td>5.000000</td>\n",
       "      <td>5.000000</td>\n",
       "      <td>4.900000</td>\n",
       "      <td>4.900000</td>\n",
       "      <td>4.900000</td>\n",
       "      <td>4.800000</td>\n",
       "      <td>74411.000000</td>\n",
       "      <td>1.000000</td>\n",
       "      <td>5.000000</td>\n",
       "      <td>4.000000</td>\n",
       "    </tr>\n",
       "  </tbody>\n",
       "</table>\n",
       "</div>"
      ],
      "text/plain": [
       "       RATING_OVERALL    RATING_DI    RATING_CV    RATING_WL    RATING_SM  \\\n",
       "count     1924.000000  1924.000000  1924.000000  1924.000000  1924.000000   \n",
       "mean         3.899064     3.985655     3.814085     3.694335     3.460863   \n",
       "std          0.299122     0.429166     0.380497     0.392565     0.388888   \n",
       "min          2.400000     1.000000     1.900000     1.700000     1.900000   \n",
       "25%          3.700000     3.700000     3.600000     3.400000     3.200000   \n",
       "50%          3.900000     4.000000     3.800000     3.700000     3.400000   \n",
       "75%          4.100000     4.300000     4.100000     4.000000     3.700000   \n",
       "max          4.900000     5.000000     5.000000     4.900000     4.900000   \n",
       "\n",
       "         RATING_CB    RATING_CO   NUM_REVIEWS       TARGET  RATING_DI_BIN  \\\n",
       "count  1924.000000  1924.000000   1924.000000  1924.000000    1924.000000   \n",
       "mean      3.682848     3.593399   1216.289501     0.461019       3.985655   \n",
       "std       0.403465     0.366290   2710.347067     0.498608       0.429166   \n",
       "min       2.300000     2.300000    101.000000     0.000000       1.000000   \n",
       "25%       3.400000     3.300000    243.000000     0.000000       3.700000   \n",
       "50%       3.700000     3.600000    460.500000     0.000000       4.000000   \n",
       "75%       3.900000     3.800000   1225.250000     1.000000       4.300000   \n",
       "max       4.900000     4.800000  74411.000000     1.000000       5.000000   \n",
       "\n",
       "          SIZE_BIN  \n",
       "count  1920.000000  \n",
       "mean      3.177604  \n",
       "std       0.733490  \n",
       "min       1.000000  \n",
       "25%       3.000000  \n",
       "50%       3.000000  \n",
       "75%       4.000000  \n",
       "max       4.000000  "
      ]
     },
     "execution_count": 41,
     "metadata": {},
     "output_type": "execute_result"
    }
   ],
   "source": [
    "data.describe()"
   ]
  },
  {
   "cell_type": "code",
   "execution_count": 42,
   "metadata": {
    "ExecuteTime": {
     "end_time": "2021-02-11T21:13:12.690646Z",
     "start_time": "2021-02-11T21:13:09.702263Z"
    },
    "hidden": true
   },
   "outputs": [
    {
     "data": {
      "image/png": "[encoded data removed]",
      "text/plain": [
       "<Figure size 720x720 with 12 Axes>"
      ]
     },
     "metadata": {
      "needs_background": "light"
     },
     "output_type": "display_data"
    }
   ],
   "source": [
    "data.hist(bins=50, figsize=(10,10)) #sharex, sharey\n",
    "plt.show()"
   ]
  },
  {
   "cell_type": "markdown",
   "metadata": {
    "hidden": true
   },
   "source": [
    "Rating distributions are mostly normal"
   ]
  },
  {
   "cell_type": "code",
   "execution_count": 43,
   "metadata": {
    "ExecuteTime": {
     "end_time": "2021-02-11T21:13:13.706878Z",
     "start_time": "2021-02-11T21:13:12.693372Z"
    },
    "hidden": true
   },
   "outputs": [
    {
     "data": {
      "image/png": "[encoded data removed]",
      "text/plain": [
       "<Figure size 720x432 with 2 Axes>"
      ]
     },
     "metadata": {
      "needs_background": "light"
     },
     "output_type": "display_data"
    }
   ],
   "source": [
    "fig, ax = plt.subplots(figsize=(10, 6))\n",
    "\n",
    "corr = data.corr()\n",
    "\n",
    "# Generate a mask for the upper triangle\n",
    "mask = np.zeros_like(corr, dtype=np.bool)\n",
    "mask[np.triu_indices_from(mask)] = True\n",
    "\n",
    "sns.heatmap(corr, cmap='bwr', center=0, annot=True)\n",
    "\n",
    "# fix for matplotlib bug that cuts off top/bottom of seaborn viz\n",
    "b, t = plt.ylim() # discover the values for bottom and top\n",
    "b += 0.5 # Add 0.5 to the bottom\n",
    "t -= 0.5 # Subtract 0.5 from the top\n",
    "plt.ylim(b, t) # update the ylim(bottom, top) values\n",
    "\n",
    "plt.show()"
   ]
  },
  {
   "cell_type": "code",
   "execution_count": 44,
   "metadata": {
    "ExecuteTime": {
     "end_time": "2021-02-11T21:13:17.138116Z",
     "start_time": "2021-02-11T21:13:13.709198Z"
    },
    "hidden": true
   },
   "outputs": [
    {
     "data": {
      "text/plain": [
       "<seaborn.axisgrid.PairGrid at 0x7ff2d3e1e320>"
      ]
     },
     "execution_count": 44,
     "metadata": {},
     "output_type": "execute_result"
    },
    {
     "data": {
      "image/png": "[encoded data removed]",
      "text/plain": [
       "<Figure size 540x540 with 9 Axes>"
      ]
     },
     "metadata": {
      "needs_background": "light"
     },
     "output_type": "display_data"
    }
   ],
   "source": [
    "sns.pairplot(data[['SIZE', 'RATING_OVERALL', 'RATING_DI', 'NUM_REVIEWS']], corner=True)\n"
   ]
  },
  {
   "cell_type": "code",
   "execution_count": 45,
   "metadata": {
    "ExecuteTime": {
     "end_time": "2021-02-11T21:13:17.145485Z",
     "start_time": "2021-02-11T21:13:17.140628Z"
    },
    "hidden": true
   },
   "outputs": [],
   "source": [
    "#Bin SIZE\n"
   ]
  },
  {
   "cell_type": "markdown",
   "metadata": {
    "heading_collapsed": true,
    "hidden": true
   },
   "source": [
    "### Rating"
   ]
  },
  {
   "cell_type": "code",
   "execution_count": 46,
   "metadata": {
    "ExecuteTime": {
     "end_time": "2021-02-11T21:13:17.179902Z",
     "start_time": "2021-02-11T21:13:17.151620Z"
    },
    "hidden": true,
    "scrolled": true
   },
   "outputs": [
    {
     "data": {
      "text/plain": [
       "(3.0, 4.0]      992\n",
       "(4.0, 5.0]      887\n",
       "(2.0, 3.0]       41\n",
       "(0.995, 2.0]      4\n",
       "Name: RATING_DI, dtype: int64"
      ]
     },
     "execution_count": 46,
     "metadata": {},
     "output_type": "execute_result"
    }
   ],
   "source": [
    "data.RATING_DI.value_counts(bins=4)"
   ]
  },
  {
   "cell_type": "markdown",
   "metadata": {
    "heading_collapsed": true,
    "hidden": true
   },
   "source": [
    "### Company Size"
   ]
  },
  {
   "cell_type": "code",
   "execution_count": 47,
   "metadata": {
    "ExecuteTime": {
     "end_time": "2021-02-11T21:13:17.191611Z",
     "start_time": "2021-02-11T21:13:17.183187Z"
    },
    "hidden": true,
    "scrolled": false
   },
   "outputs": [
    {
     "data": {
      "text/plain": [
       "1001 to 5000 Employees     848\n",
       "10000+ Employees           710\n",
       "5001 to 10000 Employees    355\n",
       "501 to 1000 Employees        5\n",
       "Unknown                      4\n",
       "51 to 200 Employees          1\n",
       "201 to 500 Employees         1\n",
       "Name: SIZE, dtype: int64"
      ]
     },
     "execution_count": 47,
     "metadata": {},
     "output_type": "execute_result"
    }
   ],
   "source": [
    "data.SIZE.value_counts()"
   ]
  },
  {
   "cell_type": "code",
   "execution_count": 48,
   "metadata": {
    "ExecuteTime": {
     "end_time": "2021-02-11T21:13:17.769701Z",
     "start_time": "2021-02-11T21:13:17.194444Z"
    },
    "hidden": true
   },
   "outputs": [
    {
     "data": {
      "image/png": "[encoded data removed]",
      "text/plain": [
       "<Figure size 432x288 with 1 Axes>"
      ]
     },
     "metadata": {
      "needs_background": "light"
     },
     "output_type": "display_data"
    }
   ],
   "source": [
    "data.plot(kind='hist', \n",
    "          x='SIZE_BIN', \n",
    "          y='RATING_DI')\n",
    "plt.show()\n",
    "\n",
    "##make this a boxplot??"
   ]
  },
  {
   "cell_type": "code",
   "execution_count": 49,
   "metadata": {
    "ExecuteTime": {
     "end_time": "2021-02-11T21:13:17.786620Z",
     "start_time": "2021-02-11T21:13:17.772236Z"
    },
    "hidden": true,
    "scrolled": false
   },
   "outputs": [
    {
     "data": {
      "text/plain": [
       "SIZE_BIN  RATING_DI\n",
       "1.0       3.8          0.285714\n",
       "          3.4          0.142857\n",
       "          3.5          0.142857\n",
       "          3.6          0.142857\n",
       "          3.9          0.142857\n",
       "          4.3          0.142857\n",
       "2.0       4.1          0.126761\n",
       "          4.2          0.109859\n",
       "          3.9          0.107042\n",
       "          3.8          0.087324\n",
       "          4.0          0.087324\n",
       "          4.4          0.073239\n",
       "          3.7          0.064789\n",
       "          4.3          0.061972\n",
       "          3.6          0.053521\n",
       "          4.5          0.047887\n",
       "          3.4          0.033803\n",
       "          4.6          0.033803\n",
       "          3.5          0.022535\n",
       "          3.3          0.016901\n",
       "          4.7          0.014085\n",
       "          3.1          0.011268\n",
       "          4.8          0.011268\n",
       "          3.2          0.008451\n",
       "          2.8          0.005634\n",
       "          2.9          0.005634\n",
       "          4.9          0.005634\n",
       "          1.0          0.002817\n",
       "          2.2          0.002817\n",
       "          3.0          0.002817\n",
       "          5.0          0.002817\n",
       "3.0       4.0          0.097877\n",
       "          3.9          0.090802\n",
       "          4.1          0.090802\n",
       "          4.2          0.080189\n",
       "          4.3          0.080189\n",
       "          4.4          0.076651\n",
       "          3.7          0.071934\n",
       "          4.5          0.058962\n",
       "          3.6          0.050708\n",
       "          3.8          0.049528\n",
       "          4.7          0.038915\n",
       "          4.6          0.037736\n",
       "          3.4          0.033019\n",
       "          3.5          0.029481\n",
       "          3.1          0.018868\n",
       "          5.0          0.017689\n",
       "          3.0          0.014151\n",
       "          3.2          0.011792\n",
       "          4.8          0.011792\n",
       "Name: RATING_DI, dtype: float64"
      ]
     },
     "execution_count": 49,
     "metadata": {},
     "output_type": "execute_result"
    }
   ],
   "source": [
    "data.groupby('SIZE_BIN')['RATING_DI'].value_counts(normalize=True)[:50]"
   ]
  },
  {
   "cell_type": "markdown",
   "metadata": {
    "heading_collapsed": true,
    "hidden": true
   },
   "source": [
    "### Inspecting INDUSTRY"
   ]
  },
  {
   "cell_type": "code",
   "execution_count": 50,
   "metadata": {
    "ExecuteTime": {
     "end_time": "2021-02-11T21:13:17.826552Z",
     "start_time": "2021-02-11T21:13:17.798452Z"
    },
    "hidden": true
   },
   "outputs": [
    {
     "name": "stdout",
     "output_type": "stream",
     "text": [
      "Number of industries:  120\n"
     ]
    },
    {
     "data": {
      "text/plain": [
       "['Consulting',\n",
       " 'Colleges & Universities',\n",
       " 'Computer Hardware & Software',\n",
       " 'Internet',\n",
       " 'Enterprise Software & Network Solutions',\n",
       " 'Grocery Stores & Supermarkets',\n",
       " 'Health Care Services & Hospitals',\n",
       " 'Biotech & Pharmaceuticals',\n",
       " 'Investment Banking & Asset Management',\n",
       " 'Federal Agencies',\n",
       " 'Staffing & Outsourcing',\n",
       " 'Cruise Ships',\n",
       " 'IT Services',\n",
       " 'Fast-Food & Quick-Service Restaurants',\n",
       " 'Catering & Food Service Contractors',\n",
       " 'Insurance Carriers',\n",
       " 'Oil & Gas Exploration & Production',\n",
       " 'Hotels, Motels, & Resorts',\n",
       " 'Food & Beverage Manufacturing',\n",
       " 'Banks & Credit Unions',\n",
       " 'Video Games',\n",
       " 'Construction',\n",
       " 'Convenience Stores & Truck Stops',\n",
       " 'Insurance Agencies & Brokerages',\n",
       " 'Real Estate',\n",
       " 'Cable, Internet & Telephone Providers',\n",
       " 'Energy',\n",
       " 'Financial Transaction Processing',\n",
       " 'Electrical & Electronic Manufacturing',\n",
       " 'Casual Restaurants',\n",
       " 'Food & Beverage Stores',\n",
       " 'Airlines',\n",
       " 'Brokerage Services',\n",
       " 'Museums, Zoos & Amusement Parks',\n",
       " 'Sporting Goods Stores',\n",
       " 'TV Broadcast & Cable Networks',\n",
       " 'Aerospace & Defense',\n",
       " 'Consumer Products Manufacturing',\n",
       " 'Utilities',\n",
       " 'Department, Clothing, & Shoe Stores',\n",
       " 'Chemical Manufacturing',\n",
       " 'Sports & Recreation',\n",
       " 'Oil & Gas Services',\n",
       " 'Architectural & Engineering Services',\n",
       " 'Motion Picture Production & Distribution',\n",
       " 'Financial Analytics & Research',\n",
       " 'General Merchandise & Superstores',\n",
       " 'Transportation Management',\n",
       " 'Beauty & Personal Accessories Stores',\n",
       " 'Industrial Manufacturing',\n",
       " 'K-12 Education',\n",
       " 'Education Training Services',\n",
       " 'Accounting',\n",
       " 'Social Assistance',\n",
       " 'Home Centers & Hardware Stores',\n",
       " 'Health, Beauty, & Fitness',\n",
       " 'Transportation Equipment Manufacturing',\n",
       " 'Other Retail Stores',\n",
       " 'Advertising & Marketing',\n",
       " 'Vehicle Dealers',\n",
       " 'Building & Personnel Services',\n",
       " 'Security Services',\n",
       " 'Publishing',\n",
       " 'Home Furniture & Housewares Stores',\n",
       " 'Wholesale',\n",
       " 'Telecommunications Services',\n",
       " 'Movie Theaters',\n",
       " 'Lending',\n",
       " 'Research & Development',\n",
       " 'Preschool & Child Care',\n",
       " 'Logistics & Supply Chain',\n",
       " 'Miscellaneous Manufacturing',\n",
       " 'Business Service Centers & Copy Shops',\n",
       " 'Automotive Parts & Accessories Stores',\n",
       " 'Religious Organizations',\n",
       " '$5 to $10 billion (USD)',\n",
       " 'Photography',\n",
       " 'Consumer Electronics & Appliances Stores',\n",
       " 'Office Supply Stores',\n",
       " 'Radio',\n",
       " 'Drug & Health Stores',\n",
       " 'Gas Stations',\n",
       " 'Car Rental',\n",
       " 'Toy & Hobby Stores',\n",
       " 'Rail',\n",
       " 'Membership Organizations',\n",
       " 'Municipal Governments',\n",
       " 'Legal',\n",
       " 'Gambling',\n",
       " 'State & Regional Agencies',\n",
       " 'Grantmaking Foundations',\n",
       " 'Health Care Products Manufacturing',\n",
       " 'Venture Capital & Private Equity',\n",
       " 'Veterinary Services',\n",
       " 'Food Production',\n",
       " 'Music Production & Distribution',\n",
       " 'Charter Air Travel',\n",
       " 'Bus Transportation Services',\n",
       " 'Consumer Product Rental',\n",
       " 'Trucking',\n",
       " 'Telecommunications Manufacturing',\n",
       " 'Metal & Mineral Manufacturing',\n",
       " 'Gift, Novelty & Souvenir Stores',\n",
       " 'General Repair & Maintenance',\n",
       " 'News Outlet',\n",
       " 'Shipping',\n",
       " 'Express Delivery Services',\n",
       " 'Upscale Restaurants',\n",
       " 'Travel Agencies',\n",
       " 'Stock Exchanges',\n",
       " 'Ticket Sales',\n",
       " 'Audiovisual',\n",
       " 'Auctions & Galleries',\n",
       " 'Mining',\n",
       " 'Farm Support Services',\n",
       " 'Media & Entertainment Retail Stores',\n",
       " 'Auto Repair & Maintenance',\n",
       " '$2 to $5 billion (USD)',\n",
       " 'Parking Lots & Garages',\n",
       " 'Funeral Services']"
      ]
     },
     "execution_count": 50,
     "metadata": {},
     "output_type": "execute_result"
    }
   ],
   "source": [
    "print('Number of industries: ', len(data.INDUSTRY.unique())) #120\n",
    "list(data.INDUSTRY.unique())\n"
   ]
  },
  {
   "cell_type": "code",
   "execution_count": 51,
   "metadata": {
    "ExecuteTime": {
     "end_time": "2021-02-11T21:13:17.857265Z",
     "start_time": "2021-02-11T21:13:17.833389Z"
    },
    "hidden": true,
    "scrolled": true
   },
   "outputs": [
    {
     "data": {
      "text/html": [
       "<div>\n",
       "<style scoped>\n",
       "    .dataframe tbody tr th:only-of-type {\n",
       "        vertical-align: middle;\n",
       "    }\n",
       "\n",
       "    .dataframe tbody tr th {\n",
       "        vertical-align: top;\n",
       "    }\n",
       "\n",
       "    .dataframe thead th {\n",
       "        text-align: right;\n",
       "    }\n",
       "</style>\n",
       "<table border=\"1\" class=\"dataframe\">\n",
       "  <thead>\n",
       "    <tr style=\"text-align: right;\">\n",
       "      <th></th>\n",
       "      <th>INDUSTRY</th>\n",
       "    </tr>\n",
       "  </thead>\n",
       "  <tbody>\n",
       "    <tr>\n",
       "      <th>Health Care Services &amp; Hospitals</th>\n",
       "      <td>211</td>\n",
       "    </tr>\n",
       "    <tr>\n",
       "      <th>Colleges &amp; Universities</th>\n",
       "      <td>154</td>\n",
       "    </tr>\n",
       "    <tr>\n",
       "      <th>Computer Hardware &amp; Software</th>\n",
       "      <td>76</td>\n",
       "    </tr>\n",
       "    <tr>\n",
       "      <th>Insurance Carriers</th>\n",
       "      <td>61</td>\n",
       "    </tr>\n",
       "    <tr>\n",
       "      <th>IT Services</th>\n",
       "      <td>61</td>\n",
       "    </tr>\n",
       "    <tr>\n",
       "      <th>Enterprise Software &amp; Network Solutions</th>\n",
       "      <td>57</td>\n",
       "    </tr>\n",
       "    <tr>\n",
       "      <th>Investment Banking &amp; Asset Management</th>\n",
       "      <td>53</td>\n",
       "    </tr>\n",
       "    <tr>\n",
       "      <th>Consumer Products Manufacturing</th>\n",
       "      <td>52</td>\n",
       "    </tr>\n",
       "    <tr>\n",
       "      <th>Staffing &amp; Outsourcing</th>\n",
       "      <td>46</td>\n",
       "    </tr>\n",
       "    <tr>\n",
       "      <th>Banks &amp; Credit Unions</th>\n",
       "      <td>45</td>\n",
       "    </tr>\n",
       "    <tr>\n",
       "      <th>Department, Clothing, &amp; Shoe Stores</th>\n",
       "      <td>43</td>\n",
       "    </tr>\n",
       "    <tr>\n",
       "      <th>Industrial Manufacturing</th>\n",
       "      <td>43</td>\n",
       "    </tr>\n",
       "    <tr>\n",
       "      <th>Casual Restaurants</th>\n",
       "      <td>41</td>\n",
       "    </tr>\n",
       "    <tr>\n",
       "      <th>Biotech &amp; Pharmaceuticals</th>\n",
       "      <td>40</td>\n",
       "    </tr>\n",
       "    <tr>\n",
       "      <th>Federal Agencies</th>\n",
       "      <td>40</td>\n",
       "    </tr>\n",
       "    <tr>\n",
       "      <th>Electrical &amp; Electronic Manufacturing</th>\n",
       "      <td>36</td>\n",
       "    </tr>\n",
       "    <tr>\n",
       "      <th>Consulting</th>\n",
       "      <td>34</td>\n",
       "    </tr>\n",
       "    <tr>\n",
       "      <th>Construction</th>\n",
       "      <td>32</td>\n",
       "    </tr>\n",
       "    <tr>\n",
       "      <th>Energy</th>\n",
       "      <td>32</td>\n",
       "    </tr>\n",
       "    <tr>\n",
       "      <th>Advertising &amp; Marketing</th>\n",
       "      <td>32</td>\n",
       "    </tr>\n",
       "    <tr>\n",
       "      <th>Food &amp; Beverage Manufacturing</th>\n",
       "      <td>32</td>\n",
       "    </tr>\n",
       "    <tr>\n",
       "      <th>Internet</th>\n",
       "      <td>30</td>\n",
       "    </tr>\n",
       "    <tr>\n",
       "      <th>Hotels, Motels, &amp; Resorts</th>\n",
       "      <td>27</td>\n",
       "    </tr>\n",
       "    <tr>\n",
       "      <th>Real Estate</th>\n",
       "      <td>27</td>\n",
       "    </tr>\n",
       "    <tr>\n",
       "      <th>Transportation Equipment Manufacturing</th>\n",
       "      <td>24</td>\n",
       "    </tr>\n",
       "    <tr>\n",
       "      <th>Legal</th>\n",
       "      <td>21</td>\n",
       "    </tr>\n",
       "    <tr>\n",
       "      <th>Aerospace &amp; Defense</th>\n",
       "      <td>21</td>\n",
       "    </tr>\n",
       "    <tr>\n",
       "      <th>Chemical Manufacturing</th>\n",
       "      <td>18</td>\n",
       "    </tr>\n",
       "    <tr>\n",
       "      <th>Fast-Food &amp; Quick-Service Restaurants</th>\n",
       "      <td>18</td>\n",
       "    </tr>\n",
       "    <tr>\n",
       "      <th>Other Retail Stores</th>\n",
       "      <td>18</td>\n",
       "    </tr>\n",
       "    <tr>\n",
       "      <th>Grocery Stores &amp; Supermarkets</th>\n",
       "      <td>17</td>\n",
       "    </tr>\n",
       "    <tr>\n",
       "      <th>Utilities</th>\n",
       "      <td>17</td>\n",
       "    </tr>\n",
       "    <tr>\n",
       "      <th>Insurance Agencies &amp; Brokerages</th>\n",
       "      <td>17</td>\n",
       "    </tr>\n",
       "    <tr>\n",
       "      <th>Municipal Governments</th>\n",
       "      <td>16</td>\n",
       "    </tr>\n",
       "    <tr>\n",
       "      <th>K-12 Education</th>\n",
       "      <td>15</td>\n",
       "    </tr>\n",
       "    <tr>\n",
       "      <th>Wholesale</th>\n",
       "      <td>15</td>\n",
       "    </tr>\n",
       "    <tr>\n",
       "      <th>Sports &amp; Recreation</th>\n",
       "      <td>14</td>\n",
       "    </tr>\n",
       "    <tr>\n",
       "      <th>Social Assistance</th>\n",
       "      <td>14</td>\n",
       "    </tr>\n",
       "    <tr>\n",
       "      <th>Architectural &amp; Engineering Services</th>\n",
       "      <td>13</td>\n",
       "    </tr>\n",
       "    <tr>\n",
       "      <th>Lending</th>\n",
       "      <td>13</td>\n",
       "    </tr>\n",
       "    <tr>\n",
       "      <th>Research &amp; Development</th>\n",
       "      <td>12</td>\n",
       "    </tr>\n",
       "    <tr>\n",
       "      <th>Catering &amp; Food Service Contractors</th>\n",
       "      <td>11</td>\n",
       "    </tr>\n",
       "    <tr>\n",
       "      <th>Logistics &amp; Supply Chain</th>\n",
       "      <td>11</td>\n",
       "    </tr>\n",
       "    <tr>\n",
       "      <th>Building &amp; Personnel Services</th>\n",
       "      <td>11</td>\n",
       "    </tr>\n",
       "    <tr>\n",
       "      <th>Oil &amp; Gas Services</th>\n",
       "      <td>10</td>\n",
       "    </tr>\n",
       "    <tr>\n",
       "      <th>Vehicle Dealers</th>\n",
       "      <td>10</td>\n",
       "    </tr>\n",
       "    <tr>\n",
       "      <th>Cable, Internet &amp; Telephone Providers</th>\n",
       "      <td>10</td>\n",
       "    </tr>\n",
       "    <tr>\n",
       "      <th>Oil &amp; Gas Exploration &amp; Production</th>\n",
       "      <td>10</td>\n",
       "    </tr>\n",
       "    <tr>\n",
       "      <th>Home Furniture &amp; Housewares Stores</th>\n",
       "      <td>9</td>\n",
       "    </tr>\n",
       "    <tr>\n",
       "      <th>Health, Beauty, &amp; Fitness</th>\n",
       "      <td>9</td>\n",
       "    </tr>\n",
       "  </tbody>\n",
       "</table>\n",
       "</div>"
      ],
      "text/plain": [
       "                                         INDUSTRY\n",
       "Health Care Services & Hospitals              211\n",
       "Colleges & Universities                       154\n",
       "Computer Hardware & Software                   76\n",
       "Insurance Carriers                             61\n",
       "IT Services                                    61\n",
       "Enterprise Software & Network Solutions        57\n",
       "Investment Banking & Asset Management          53\n",
       "Consumer Products Manufacturing                52\n",
       "Staffing & Outsourcing                         46\n",
       "Banks & Credit Unions                          45\n",
       "Department, Clothing, & Shoe Stores            43\n",
       "Industrial Manufacturing                       43\n",
       "Casual Restaurants                             41\n",
       "Biotech & Pharmaceuticals                      40\n",
       "Federal Agencies                               40\n",
       "Electrical & Electronic Manufacturing          36\n",
       "Consulting                                     34\n",
       "Construction                                   32\n",
       "Energy                                         32\n",
       "Advertising & Marketing                        32\n",
       "Food & Beverage Manufacturing                  32\n",
       "Internet                                       30\n",
       "Hotels, Motels, & Resorts                      27\n",
       "Real Estate                                    27\n",
       "Transportation Equipment Manufacturing         24\n",
       "Legal                                          21\n",
       "Aerospace & Defense                            21\n",
       "Chemical Manufacturing                         18\n",
       "Fast-Food & Quick-Service Restaurants          18\n",
       "Other Retail Stores                            18\n",
       "Grocery Stores & Supermarkets                  17\n",
       "Utilities                                      17\n",
       "Insurance Agencies & Brokerages                17\n",
       "Municipal Governments                          16\n",
       "K-12 Education                                 15\n",
       "Wholesale                                      15\n",
       "Sports & Recreation                            14\n",
       "Social Assistance                              14\n",
       "Architectural & Engineering Services           13\n",
       "Lending                                        13\n",
       "Research & Development                         12\n",
       "Catering & Food Service Contractors            11\n",
       "Logistics & Supply Chain                       11\n",
       "Building & Personnel Services                  11\n",
       "Oil & Gas Services                             10\n",
       "Vehicle Dealers                                10\n",
       "Cable, Internet & Telephone Providers          10\n",
       "Oil & Gas Exploration & Production             10\n",
       "Home Furniture & Housewares Stores              9\n",
       "Health, Beauty, & Fitness                       9"
      ]
     },
     "execution_count": 51,
     "metadata": {},
     "output_type": "execute_result"
    }
   ],
   "source": [
    "#Top 50 with value counts\n",
    "data.INDUSTRY.value_counts()[:50].to_frame()"
   ]
  },
  {
   "cell_type": "code",
   "execution_count": null,
   "metadata": {
    "hidden": true
   },
   "outputs": [],
   "source": []
  },
  {
   "cell_type": "code",
   "execution_count": null,
   "metadata": {
    "hidden": true
   },
   "outputs": [],
   "source": []
  },
  {
   "cell_type": "markdown",
   "metadata": {
    "heading_collapsed": true,
    "hidden": true
   },
   "source": [
    "### Description"
   ]
  },
  {
   "cell_type": "code",
   "execution_count": 52,
   "metadata": {
    "ExecuteTime": {
     "end_time": "2021-02-11T21:13:17.868992Z",
     "start_time": "2021-02-11T21:13:17.864953Z"
    },
    "hidden": true,
    "scrolled": true
   },
   "outputs": [],
   "source": [
    "# #How to check average length of description??\n",
    "# len(data['DESCRIPTION'][4])"
   ]
  },
  {
   "cell_type": "code",
   "execution_count": null,
   "metadata": {
    "hidden": true
   },
   "outputs": [],
   "source": []
  },
  {
   "cell_type": "code",
   "execution_count": null,
   "metadata": {
    "hidden": true
   },
   "outputs": [],
   "source": []
  },
  {
   "cell_type": "code",
   "execution_count": null,
   "metadata": {
    "hidden": true
   },
   "outputs": [],
   "source": []
  },
  {
   "cell_type": "code",
   "execution_count": null,
   "metadata": {
    "hidden": true
   },
   "outputs": [],
   "source": []
  },
  {
   "cell_type": "code",
   "execution_count": null,
   "metadata": {
    "hidden": true
   },
   "outputs": [],
   "source": []
  },
  {
   "cell_type": "code",
   "execution_count": null,
   "metadata": {
    "hidden": true
   },
   "outputs": [],
   "source": []
  },
  {
   "cell_type": "code",
   "execution_count": null,
   "metadata": {
    "hidden": true
   },
   "outputs": [],
   "source": []
  },
  {
   "cell_type": "code",
   "execution_count": null,
   "metadata": {
    "hidden": true
   },
   "outputs": [],
   "source": []
  },
  {
   "cell_type": "markdown",
   "metadata": {
    "hidden": true
   },
   "source": [
    "### Notes"
   ]
  },
  {
   "cell_type": "markdown",
   "metadata": {
    "hidden": true
   },
   "source": [
    "Extras:\n",
    "- clean SIZE (bin as a continuous variable)\n",
    "- inspect industries\n",
    "- scatterplots: DI rating OR target vs # of reviews, industry, state, company size\n",
    "- test new scraper on \"Retail\"\n",
    "\n",
    "Stretch:\n",
    "- new column called STATE (map?)\n",
    "    - OR map out the cities for a map\n",
    "- EDA: are larger companies more likely to be inclusive?\n"
   ]
  },
  {
   "cell_type": "code",
   "execution_count": null,
   "metadata": {
    "hidden": true
   },
   "outputs": [],
   "source": []
  }
 ],
 "metadata": {
  "kernelspec": {
   "display_name": "Python 3",
   "language": "python",
   "name": "python3"
  },
  "language_info": {
   "codemirror_mode": {
    "name": "ipython",
    "version": 3
   },
   "file_extension": ".py",
   "mimetype": "text/x-python",
   "name": "python",
   "nbconvert_exporter": "python",
   "pygments_lexer": "ipython3",
   "version": "3.6.9"
  },
  "toc": {
   "base_numbering": 1,
   "nav_menu": {},
   "number_sections": true,
   "sideBar": true,
   "skip_h1_title": false,
   "title_cell": "Table of Contents",
   "title_sidebar": "Contents",
   "toc_cell": false,
   "toc_position": {},
   "toc_section_display": true,
   "toc_window_display": false
  }
 },
 "nbformat": 4,
 "nbformat_minor": 4
}
