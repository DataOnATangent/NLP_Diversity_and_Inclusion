{
 "cells": [
  {
   "cell_type": "code",
   "execution_count": 19,
   "metadata": {
    "ExecuteTime": {
     "end_time": "2021-02-10T04:37:04.664902Z",
     "start_time": "2021-02-10T04:37:04.659527Z"
    }
   },
   "outputs": [],
   "source": [
    "import pandas as pd\n",
    "import numpy as np\n",
    "import string\n",
    "\n",
    "pd.options.display.max_rows = 50"
   ]
  },
  {
   "cell_type": "markdown",
   "metadata": {},
   "source": [
    "## Cleaning CSV Files"
   ]
  },
  {
   "cell_type": "markdown",
   "metadata": {},
   "source": [
    "**Read in Data**"
   ]
  },
  {
   "cell_type": "code",
   "execution_count": 41,
   "metadata": {
    "ExecuteTime": {
     "end_time": "2021-02-10T14:43:54.701582Z",
     "start_time": "2021-02-10T14:43:54.593343Z"
    }
   },
   "outputs": [
    {
     "name": "stdout",
     "output_type": "stream",
     "text": [
      "Length of data set:  3268\n",
      "Number of duplicates:  1246\n"
     ]
    }
   ],
   "source": [
    "df1 = pd.read_csv('data/glassdoor_ratings1_62.csv')\n",
    "df2 = pd.read_csv('data/glassdoor_ratings2_37.csv')\n",
    "df3 = pd.read_csv('data/glassdoor_ratings3_199.csv')\n",
    "df4 = pd.read_csv('data/glassdoor_ratings5_797.csv')\n",
    "df5 = pd.read_csv('data/glassdoor_ratings6_846.csv')\n",
    "df6 = pd.read_csv('data/glassdoor_ratings7_453.csv')  \n",
    "df7 = pd.read_csv('data/glassdoor_ratings8_873.csv') #scrape # 8\n",
    "\n",
    "#Combine data frames\n",
    "data = pd.concat([df1, df2, df3, df4, df5, df6, df7])\n",
    "\n",
    "print('Length of data set: ',len(data))\n",
    "print('Number of duplicates: ', data['NAME'].duplicated().sum())"
   ]
  },
  {
   "cell_type": "markdown",
   "metadata": {},
   "source": [
    "### Initial Cleaning\n",
    " - Handle null values\n",
    " - reset indices \n",
    " - drop duplicates"
   ]
  },
  {
   "cell_type": "code",
   "execution_count": 42,
   "metadata": {
    "ExecuteTime": {
     "end_time": "2021-02-10T14:43:58.125628Z",
     "start_time": "2021-02-10T14:43:58.119046Z"
    }
   },
   "outputs": [],
   "source": [
    "## CHECK TO BE SURE THIS DOESNT NEED TO HAPPEN EARLIER\n",
    "\n",
    "#Reset index to see all rows\n",
    "data.reset_index(inplace=True)\n"
   ]
  },
  {
   "cell_type": "code",
   "execution_count": 8,
   "metadata": {
    "ExecuteTime": {
     "end_time": "2021-02-10T04:15:20.320798Z",
     "start_time": "2021-02-10T04:15:20.310857Z"
    }
   },
   "outputs": [],
   "source": [
    "# #change '  ' to null values\n",
    "# data['FULL_DESCRIPTION'] = data['FULL_DESCRIPTION'].mask(data['FULL_DESCRIPTION']== '  ')"
   ]
  },
  {
   "cell_type": "code",
   "execution_count": 43,
   "metadata": {
    "ExecuteTime": {
     "end_time": "2021-02-10T14:44:01.089089Z",
     "start_time": "2021-02-10T14:44:01.063613Z"
    },
    "scrolled": true
   },
   "outputs": [
    {
     "name": "stdout",
     "output_type": "stream",
     "text": [
      "NaN values dropped from RATING_DI:  153\n",
      "NaN values dropped from DESCRIPTION:  90\n"
     ]
    }
   ],
   "source": [
    "#Drop null values from RATING_DI\n",
    "print('NaN values dropped from RATING_DI: ', data.RATING_DI.isna().sum())\n",
    "data.dropna(subset=['RATING_DI'], inplace=True)\n",
    "\n",
    "#Drop null values from DESCRIPTION\n",
    "print('NaN values dropped from DESCRIPTION: ', data.DESCRIPTION.isna().sum())\n",
    "data.dropna(subset=['DESCRIPTION'], inplace=True)\n",
    "\n",
    "\n"
   ]
  },
  {
   "cell_type": "code",
   "execution_count": 44,
   "metadata": {
    "ExecuteTime": {
     "end_time": "2021-02-10T14:44:04.890448Z",
     "start_time": "2021-02-10T14:44:04.881100Z"
    }
   },
   "outputs": [
    {
     "name": "stdout",
     "output_type": "stream",
     "text": [
      "Number of duplicates:  1088\n",
      "NaN values dropped from DESCRIPTION:  0\n"
     ]
    }
   ],
   "source": [
    "print('Number of duplicates: ', data['NAME'].duplicated().sum())\n",
    "print('NaN values dropped from DESCRIPTION: ', data.DESCRIPTION.isna().sum())\n"
   ]
  },
  {
   "cell_type": "code",
   "execution_count": 45,
   "metadata": {
    "ExecuteTime": {
     "end_time": "2021-02-10T14:44:12.667177Z",
     "start_time": "2021-02-10T14:44:12.652153Z"
    },
    "scrolled": true
   },
   "outputs": [],
   "source": [
    "#Drop duplicate companies by 'NAME' - drops size from 1941 to 1188\n",
    "data.drop_duplicates(subset='NAME', keep='last', inplace=True)\n",
    "data = data.drop(['index'], axis=1)"
   ]
  },
  {
   "cell_type": "code",
   "execution_count": null,
   "metadata": {},
   "outputs": [],
   "source": []
  },
  {
   "cell_type": "code",
   "execution_count": 46,
   "metadata": {
    "ExecuteTime": {
     "end_time": "2021-02-10T14:44:43.300836Z",
     "start_time": "2021-02-10T14:44:43.292486Z"
    },
    "scrolled": true
   },
   "outputs": [],
   "source": [
    "#reset index to begin at 0\n",
    "data.reset_index(inplace=True)\n",
    "\n",
    "#drop extra indices\n",
    "# data = data.drop(['index', 'level_0'], axis=1)\n",
    "data = data.drop(['index'], axis=1)\n"
   ]
  },
  {
   "cell_type": "code",
   "execution_count": 47,
   "metadata": {
    "ExecuteTime": {
     "end_time": "2021-02-10T14:44:49.917117Z",
     "start_time": "2021-02-10T14:44:49.875829Z"
    }
   },
   "outputs": [
    {
     "name": "stdout",
     "output_type": "stream",
     "text": [
      "Shape:  (1937, 14)\n"
     ]
    },
    {
     "data": {
      "text/html": [
       "<div>\n",
       "<style scoped>\n",
       "    .dataframe tbody tr th:only-of-type {\n",
       "        vertical-align: middle;\n",
       "    }\n",
       "\n",
       "    .dataframe tbody tr th {\n",
       "        vertical-align: top;\n",
       "    }\n",
       "\n",
       "    .dataframe thead th {\n",
       "        text-align: right;\n",
       "    }\n",
       "</style>\n",
       "<table border=\"1\" class=\"dataframe\">\n",
       "  <thead>\n",
       "    <tr style=\"text-align: right;\">\n",
       "      <th></th>\n",
       "      <th>NAME</th>\n",
       "      <th>SIZE</th>\n",
       "      <th>LOCATION_HQ</th>\n",
       "      <th>INDUSTRY</th>\n",
       "      <th>RATING_OVERALL</th>\n",
       "      <th>RATING_DI</th>\n",
       "      <th>RATING_CV</th>\n",
       "      <th>RATING_WL</th>\n",
       "      <th>RATING_SM</th>\n",
       "      <th>RATING_CB</th>\n",
       "      <th>RATING_CO</th>\n",
       "      <th>NUM_REVIEWS</th>\n",
       "      <th>DESCRIPTION</th>\n",
       "      <th>MISSION</th>\n",
       "    </tr>\n",
       "  </thead>\n",
       "  <tbody>\n",
       "    <tr>\n",
       "      <th>0</th>\n",
       "      <td>McKinsey &amp; Company</td>\n",
       "      <td>10000+ Employees</td>\n",
       "      <td>New York, NY</td>\n",
       "      <td>Consulting</td>\n",
       "      <td>4.5</td>\n",
       "      <td>4.4</td>\n",
       "      <td>4.4</td>\n",
       "      <td>3.0</td>\n",
       "      <td>4.1</td>\n",
       "      <td>4.4</td>\n",
       "      <td>4.5</td>\n",
       "      <td>See All 5,198 Reviews</td>\n",
       "      <td>We work with leaders across sectors to tackle ...</td>\n",
       "      <td>Mission: Our mission is two-fold: to help our ...</td>\n",
       "    </tr>\n",
       "    <tr>\n",
       "      <th>1</th>\n",
       "      <td>Cornell University</td>\n",
       "      <td>10000+ Employees</td>\n",
       "      <td>Ithaca, NY</td>\n",
       "      <td>Colleges &amp; Universities</td>\n",
       "      <td>4.5</td>\n",
       "      <td>4.3</td>\n",
       "      <td>4.4</td>\n",
       "      <td>4.0</td>\n",
       "      <td>4.1</td>\n",
       "      <td>4.1</td>\n",
       "      <td>4.2</td>\n",
       "      <td>See All 1,765 Reviews</td>\n",
       "      <td>Cornell is a private, Ivy League university re...</td>\n",
       "      <td>NaN</td>\n",
       "    </tr>\n",
       "    <tr>\n",
       "      <th>2</th>\n",
       "      <td>UC Santa Barbara</td>\n",
       "      <td>5001 to 10000 Employees</td>\n",
       "      <td>Santa Barbara, CA</td>\n",
       "      <td>Colleges &amp; Universities</td>\n",
       "      <td>4.5</td>\n",
       "      <td>4.2</td>\n",
       "      <td>4.3</td>\n",
       "      <td>4.4</td>\n",
       "      <td>4.1</td>\n",
       "      <td>3.7</td>\n",
       "      <td>4.0</td>\n",
       "      <td>See All 1,049 Reviews</td>\n",
       "      <td>Dude, let's hit the beach! And then we'll hit ...</td>\n",
       "      <td>NaN</td>\n",
       "    </tr>\n",
       "    <tr>\n",
       "      <th>3</th>\n",
       "      <td>UC Irvine</td>\n",
       "      <td>10000+ Employees</td>\n",
       "      <td>Irvine, CA</td>\n",
       "      <td>Colleges &amp; Universities</td>\n",
       "      <td>4.4</td>\n",
       "      <td>4.5</td>\n",
       "      <td>4.3</td>\n",
       "      <td>4.0</td>\n",
       "      <td>4.0</td>\n",
       "      <td>3.8</td>\n",
       "      <td>4.0</td>\n",
       "      <td>See All 1,398 Reviews</td>\n",
       "      <td>Sun, the beach, Nobel Prize winners, and a Sou...</td>\n",
       "      <td>NaN</td>\n",
       "    </tr>\n",
       "    <tr>\n",
       "      <th>4</th>\n",
       "      <td>Iowa State University</td>\n",
       "      <td>5001 to 10000 Employees</td>\n",
       "      <td>Ames, IA</td>\n",
       "      <td>Colleges &amp; Universities</td>\n",
       "      <td>4.4</td>\n",
       "      <td>4.2</td>\n",
       "      <td>4.2</td>\n",
       "      <td>4.2</td>\n",
       "      <td>4.0</td>\n",
       "      <td>3.8</td>\n",
       "      <td>3.9</td>\n",
       "      <td>See All 1,203 Reviews</td>\n",
       "      <td>Attending Iowa State University of Science and...</td>\n",
       "      <td>NaN</td>\n",
       "    </tr>\n",
       "  </tbody>\n",
       "</table>\n",
       "</div>"
      ],
      "text/plain": [
       "                    NAME                     SIZE        LOCATION_HQ  \\\n",
       "0     McKinsey & Company         10000+ Employees       New York, NY   \n",
       "1     Cornell University         10000+ Employees         Ithaca, NY   \n",
       "2       UC Santa Barbara  5001 to 10000 Employees  Santa Barbara, CA   \n",
       "3              UC Irvine         10000+ Employees         Irvine, CA   \n",
       "4  Iowa State University  5001 to 10000 Employees           Ames, IA   \n",
       "\n",
       "                  INDUSTRY  RATING_OVERALL  RATING_DI  RATING_CV  RATING_WL  \\\n",
       "0               Consulting             4.5        4.4        4.4        3.0   \n",
       "1  Colleges & Universities             4.5        4.3        4.4        4.0   \n",
       "2  Colleges & Universities             4.5        4.2        4.3        4.4   \n",
       "3  Colleges & Universities             4.4        4.5        4.3        4.0   \n",
       "4  Colleges & Universities             4.4        4.2        4.2        4.2   \n",
       "\n",
       "   RATING_SM  RATING_CB  RATING_CO            NUM_REVIEWS  \\\n",
       "0        4.1        4.4        4.5  See All 5,198 Reviews   \n",
       "1        4.1        4.1        4.2  See All 1,765 Reviews   \n",
       "2        4.1        3.7        4.0  See All 1,049 Reviews   \n",
       "3        4.0        3.8        4.0  See All 1,398 Reviews   \n",
       "4        4.0        3.8        3.9  See All 1,203 Reviews   \n",
       "\n",
       "                                         DESCRIPTION  \\\n",
       "0  We work with leaders across sectors to tackle ...   \n",
       "1  Cornell is a private, Ivy League university re...   \n",
       "2  Dude, let's hit the beach! And then we'll hit ...   \n",
       "3  Sun, the beach, Nobel Prize winners, and a Sou...   \n",
       "4  Attending Iowa State University of Science and...   \n",
       "\n",
       "                                             MISSION  \n",
       "0  Mission: Our mission is two-fold: to help our ...  \n",
       "1                                                NaN  \n",
       "2                                                NaN  \n",
       "3                                                NaN  \n",
       "4                                                NaN  "
      ]
     },
     "execution_count": 47,
     "metadata": {},
     "output_type": "execute_result"
    }
   ],
   "source": [
    "#Check out dataframe\n",
    "print('Shape: ', data.shape)\n",
    "data.head()"
   ]
  },
  {
   "cell_type": "markdown",
   "metadata": {},
   "source": [
    "### Inspecting data distribution"
   ]
  },
  {
   "cell_type": "code",
   "execution_count": 48,
   "metadata": {
    "ExecuteTime": {
     "end_time": "2021-02-10T14:45:37.621708Z",
     "start_time": "2021-02-10T14:45:37.610544Z"
    },
    "scrolled": false
   },
   "outputs": [
    {
     "data": {
      "text/plain": [
       "1001 to 5000 Employees     858\n",
       "10000+ Employees           712\n",
       "5001 to 10000 Employees    356\n",
       "501 to 1000 Employees        5\n",
       "Unknown                      4\n",
       "201 to 500 Employees         1\n",
       "51 to 200 Employees          1\n",
       "Name: SIZE, dtype: int64"
      ]
     },
     "execution_count": 48,
     "metadata": {},
     "output_type": "execute_result"
    }
   ],
   "source": [
    "##inspect size column\n",
    "data.SIZE.value_counts()\n"
   ]
  },
  {
   "cell_type": "code",
   "execution_count": 49,
   "metadata": {
    "ExecuteTime": {
     "end_time": "2021-02-10T14:46:27.380869Z",
     "start_time": "2021-02-10T14:46:27.366252Z"
    }
   },
   "outputs": [
    {
     "data": {
      "text/html": [
       "<div>\n",
       "<style scoped>\n",
       "    .dataframe tbody tr th:only-of-type {\n",
       "        vertical-align: middle;\n",
       "    }\n",
       "\n",
       "    .dataframe tbody tr th {\n",
       "        vertical-align: top;\n",
       "    }\n",
       "\n",
       "    .dataframe thead th {\n",
       "        text-align: right;\n",
       "    }\n",
       "</style>\n",
       "<table border=\"1\" class=\"dataframe\">\n",
       "  <thead>\n",
       "    <tr style=\"text-align: right;\">\n",
       "      <th></th>\n",
       "      <th>INDUSTRY</th>\n",
       "    </tr>\n",
       "  </thead>\n",
       "  <tbody>\n",
       "    <tr>\n",
       "      <th>Health Care Services &amp; Hospitals</th>\n",
       "      <td>213</td>\n",
       "    </tr>\n",
       "    <tr>\n",
       "      <th>Colleges &amp; Universities</th>\n",
       "      <td>155</td>\n",
       "    </tr>\n",
       "    <tr>\n",
       "      <th>Computer Hardware &amp; Software</th>\n",
       "      <td>76</td>\n",
       "    </tr>\n",
       "    <tr>\n",
       "      <th>Insurance Carriers</th>\n",
       "      <td>63</td>\n",
       "    </tr>\n",
       "    <tr>\n",
       "      <th>IT Services</th>\n",
       "      <td>62</td>\n",
       "    </tr>\n",
       "    <tr>\n",
       "      <th>...</th>\n",
       "      <td>...</td>\n",
       "    </tr>\n",
       "    <tr>\n",
       "      <th>Auto Repair &amp; Maintenance</th>\n",
       "      <td>1</td>\n",
       "    </tr>\n",
       "    <tr>\n",
       "      <th>Ticket Sales</th>\n",
       "      <td>1</td>\n",
       "    </tr>\n",
       "    <tr>\n",
       "      <th>Gas Stations</th>\n",
       "      <td>1</td>\n",
       "    </tr>\n",
       "    <tr>\n",
       "      <th>Farm Support Services</th>\n",
       "      <td>1</td>\n",
       "    </tr>\n",
       "    <tr>\n",
       "      <th>Media &amp; Entertainment Retail Stores</th>\n",
       "      <td>1</td>\n",
       "    </tr>\n",
       "  </tbody>\n",
       "</table>\n",
       "<p>120 rows × 1 columns</p>\n",
       "</div>"
      ],
      "text/plain": [
       "                                     INDUSTRY\n",
       "Health Care Services & Hospitals          213\n",
       "Colleges & Universities                   155\n",
       "Computer Hardware & Software               76\n",
       "Insurance Carriers                         63\n",
       "IT Services                                62\n",
       "...                                       ...\n",
       "Auto Repair & Maintenance                   1\n",
       "Ticket Sales                                1\n",
       "Gas Stations                                1\n",
       "Farm Support Services                       1\n",
       "Media & Entertainment Retail Stores         1\n",
       "\n",
       "[120 rows x 1 columns]"
      ]
     },
     "execution_count": 49,
     "metadata": {},
     "output_type": "execute_result"
    }
   ],
   "source": [
    "data.INDUSTRY.value_counts().to_frame()"
   ]
  },
  {
   "cell_type": "code",
   "execution_count": null,
   "metadata": {},
   "outputs": [],
   "source": []
  },
  {
   "cell_type": "markdown",
   "metadata": {},
   "source": [
    "### New column adding Description and Mission together "
   ]
  },
  {
   "cell_type": "code",
   "execution_count": 50,
   "metadata": {
    "ExecuteTime": {
     "end_time": "2021-02-10T14:46:37.090690Z",
     "start_time": "2021-02-10T14:46:37.046981Z"
    }
   },
   "outputs": [
    {
     "data": {
      "text/html": [
       "<div>\n",
       "<style scoped>\n",
       "    .dataframe tbody tr th:only-of-type {\n",
       "        vertical-align: middle;\n",
       "    }\n",
       "\n",
       "    .dataframe tbody tr th {\n",
       "        vertical-align: top;\n",
       "    }\n",
       "\n",
       "    .dataframe thead th {\n",
       "        text-align: right;\n",
       "    }\n",
       "</style>\n",
       "<table border=\"1\" class=\"dataframe\">\n",
       "  <thead>\n",
       "    <tr style=\"text-align: right;\">\n",
       "      <th></th>\n",
       "      <th>NAME</th>\n",
       "      <th>SIZE</th>\n",
       "      <th>LOCATION_HQ</th>\n",
       "      <th>INDUSTRY</th>\n",
       "      <th>RATING_OVERALL</th>\n",
       "      <th>RATING_DI</th>\n",
       "      <th>RATING_CV</th>\n",
       "      <th>RATING_WL</th>\n",
       "      <th>RATING_SM</th>\n",
       "      <th>RATING_CB</th>\n",
       "      <th>RATING_CO</th>\n",
       "      <th>NUM_REVIEWS</th>\n",
       "      <th>DESCRIPTION</th>\n",
       "      <th>MISSION</th>\n",
       "      <th>FULL_DESCRIPTION</th>\n",
       "    </tr>\n",
       "  </thead>\n",
       "  <tbody>\n",
       "    <tr>\n",
       "      <th>0</th>\n",
       "      <td>McKinsey &amp; Company</td>\n",
       "      <td>10000+ Employees</td>\n",
       "      <td>New York, NY</td>\n",
       "      <td>Consulting</td>\n",
       "      <td>4.5</td>\n",
       "      <td>4.4</td>\n",
       "      <td>4.4</td>\n",
       "      <td>3.0</td>\n",
       "      <td>4.1</td>\n",
       "      <td>4.4</td>\n",
       "      <td>4.5</td>\n",
       "      <td>See All 5,198 Reviews</td>\n",
       "      <td>We work with leaders across sectors to tackle ...</td>\n",
       "      <td>Mission: Our mission is two-fold: to help our ...</td>\n",
       "      <td>We work with leaders across sectors to tackle ...</td>\n",
       "    </tr>\n",
       "    <tr>\n",
       "      <th>1</th>\n",
       "      <td>Cornell University</td>\n",
       "      <td>10000+ Employees</td>\n",
       "      <td>Ithaca, NY</td>\n",
       "      <td>Colleges &amp; Universities</td>\n",
       "      <td>4.5</td>\n",
       "      <td>4.3</td>\n",
       "      <td>4.4</td>\n",
       "      <td>4.0</td>\n",
       "      <td>4.1</td>\n",
       "      <td>4.1</td>\n",
       "      <td>4.2</td>\n",
       "      <td>See All 1,765 Reviews</td>\n",
       "      <td>Cornell is a private, Ivy League university re...</td>\n",
       "      <td></td>\n",
       "      <td>Cornell is a private, Ivy League university re...</td>\n",
       "    </tr>\n",
       "    <tr>\n",
       "      <th>2</th>\n",
       "      <td>UC Santa Barbara</td>\n",
       "      <td>5001 to 10000 Employees</td>\n",
       "      <td>Santa Barbara, CA</td>\n",
       "      <td>Colleges &amp; Universities</td>\n",
       "      <td>4.5</td>\n",
       "      <td>4.2</td>\n",
       "      <td>4.3</td>\n",
       "      <td>4.4</td>\n",
       "      <td>4.1</td>\n",
       "      <td>3.7</td>\n",
       "      <td>4.0</td>\n",
       "      <td>See All 1,049 Reviews</td>\n",
       "      <td>Dude, let's hit the beach! And then we'll hit ...</td>\n",
       "      <td></td>\n",
       "      <td>Dude, let's hit the beach! And then we'll hit ...</td>\n",
       "    </tr>\n",
       "    <tr>\n",
       "      <th>3</th>\n",
       "      <td>UC Irvine</td>\n",
       "      <td>10000+ Employees</td>\n",
       "      <td>Irvine, CA</td>\n",
       "      <td>Colleges &amp; Universities</td>\n",
       "      <td>4.4</td>\n",
       "      <td>4.5</td>\n",
       "      <td>4.3</td>\n",
       "      <td>4.0</td>\n",
       "      <td>4.0</td>\n",
       "      <td>3.8</td>\n",
       "      <td>4.0</td>\n",
       "      <td>See All 1,398 Reviews</td>\n",
       "      <td>Sun, the beach, Nobel Prize winners, and a Sou...</td>\n",
       "      <td></td>\n",
       "      <td>Sun, the beach, Nobel Prize winners, and a Sou...</td>\n",
       "    </tr>\n",
       "    <tr>\n",
       "      <th>4</th>\n",
       "      <td>Iowa State University</td>\n",
       "      <td>5001 to 10000 Employees</td>\n",
       "      <td>Ames, IA</td>\n",
       "      <td>Colleges &amp; Universities</td>\n",
       "      <td>4.4</td>\n",
       "      <td>4.2</td>\n",
       "      <td>4.2</td>\n",
       "      <td>4.2</td>\n",
       "      <td>4.0</td>\n",
       "      <td>3.8</td>\n",
       "      <td>3.9</td>\n",
       "      <td>See All 1,203 Reviews</td>\n",
       "      <td>Attending Iowa State University of Science and...</td>\n",
       "      <td></td>\n",
       "      <td>Attending Iowa State University of Science and...</td>\n",
       "    </tr>\n",
       "  </tbody>\n",
       "</table>\n",
       "</div>"
      ],
      "text/plain": [
       "                    NAME                     SIZE        LOCATION_HQ  \\\n",
       "0     McKinsey & Company         10000+ Employees       New York, NY   \n",
       "1     Cornell University         10000+ Employees         Ithaca, NY   \n",
       "2       UC Santa Barbara  5001 to 10000 Employees  Santa Barbara, CA   \n",
       "3              UC Irvine         10000+ Employees         Irvine, CA   \n",
       "4  Iowa State University  5001 to 10000 Employees           Ames, IA   \n",
       "\n",
       "                  INDUSTRY  RATING_OVERALL  RATING_DI  RATING_CV  RATING_WL  \\\n",
       "0               Consulting             4.5        4.4        4.4        3.0   \n",
       "1  Colleges & Universities             4.5        4.3        4.4        4.0   \n",
       "2  Colleges & Universities             4.5        4.2        4.3        4.4   \n",
       "3  Colleges & Universities             4.4        4.5        4.3        4.0   \n",
       "4  Colleges & Universities             4.4        4.2        4.2        4.2   \n",
       "\n",
       "   RATING_SM  RATING_CB  RATING_CO            NUM_REVIEWS  \\\n",
       "0        4.1        4.4        4.5  See All 5,198 Reviews   \n",
       "1        4.1        4.1        4.2  See All 1,765 Reviews   \n",
       "2        4.1        3.7        4.0  See All 1,049 Reviews   \n",
       "3        4.0        3.8        4.0  See All 1,398 Reviews   \n",
       "4        4.0        3.8        3.9  See All 1,203 Reviews   \n",
       "\n",
       "                                         DESCRIPTION  \\\n",
       "0  We work with leaders across sectors to tackle ...   \n",
       "1  Cornell is a private, Ivy League university re...   \n",
       "2  Dude, let's hit the beach! And then we'll hit ...   \n",
       "3  Sun, the beach, Nobel Prize winners, and a Sou...   \n",
       "4  Attending Iowa State University of Science and...   \n",
       "\n",
       "                                             MISSION  \\\n",
       "0  Mission: Our mission is two-fold: to help our ...   \n",
       "1                                                      \n",
       "2                                                      \n",
       "3                                                      \n",
       "4                                                      \n",
       "\n",
       "                                    FULL_DESCRIPTION  \n",
       "0  We work with leaders across sectors to tackle ...  \n",
       "1  Cornell is a private, Ivy League university re...  \n",
       "2  Dude, let's hit the beach! And then we'll hit ...  \n",
       "3  Sun, the beach, Nobel Prize winners, and a Sou...  \n",
       "4  Attending Iowa State University of Science and...  "
      ]
     },
     "execution_count": 50,
     "metadata": {},
     "output_type": "execute_result"
    }
   ],
   "source": [
    "# change null values in MISSION and DESCRIPTION to ' '\n",
    "data['MISSION'].fillna(' ', inplace=True)\n",
    "data['DESCRIPTION'].fillna(' ', inplace=True)\n",
    "\n",
    "data['FULL_DESCRIPTION'] = np.add(data['DESCRIPTION'], data['MISSION'])\n",
    "\n",
    "data.head()"
   ]
  },
  {
   "cell_type": "code",
   "execution_count": 7,
   "metadata": {
    "ExecuteTime": {
     "end_time": "2021-02-10T04:15:20.304105Z",
     "start_time": "2021-02-10T04:15:20.299672Z"
    }
   },
   "outputs": [],
   "source": [
    "### WORK ON THIS ###\n",
    "# how to add a space before \"Mission:\"??"
   ]
  },
  {
   "cell_type": "markdown",
   "metadata": {},
   "source": [
    "### Clean up NUM_REVIEWS\n",
    "- return numbers only"
   ]
  },
  {
   "cell_type": "code",
   "execution_count": 51,
   "metadata": {
    "ExecuteTime": {
     "end_time": "2021-02-10T14:46:43.929796Z",
     "start_time": "2021-02-10T14:46:43.922653Z"
    }
   },
   "outputs": [],
   "source": [
    "def get_digits(s):\n",
    "    #remove commas\n",
    "    exclude = set(string.punctuation)\n",
    "    s = ''.join(num for num in s if num not in exclude)\n",
    "\n",
    "    #return digits only\n",
    "    return s.split()[2]"
   ]
  },
  {
   "cell_type": "code",
   "execution_count": 52,
   "metadata": {
    "ExecuteTime": {
     "end_time": "2021-02-10T14:46:44.977674Z",
     "start_time": "2021-02-10T14:46:44.956096Z"
    }
   },
   "outputs": [],
   "source": [
    "#apply function to NUM_REVIEWS and change datatype to int\n",
    "data['NUM_REVIEWS'] = data['NUM_REVIEWS'].apply(get_digits).astype(int)"
   ]
  },
  {
   "cell_type": "code",
   "execution_count": 53,
   "metadata": {
    "ExecuteTime": {
     "end_time": "2021-02-10T14:46:45.365101Z",
     "start_time": "2021-02-10T14:46:45.354641Z"
    },
    "scrolled": true
   },
   "outputs": [],
   "source": [
    "#removing companies with too few reviews\n",
    "data = data[(data['NUM_REVIEWS'] > 100)]"
   ]
  },
  {
   "cell_type": "markdown",
   "metadata": {},
   "source": [
    "### New Column basted on RATING_DI"
   ]
  },
  {
   "cell_type": "markdown",
   "metadata": {},
   "source": [
    "**drop lower than xx reviews**"
   ]
  },
  {
   "cell_type": "code",
   "execution_count": 54,
   "metadata": {
    "ExecuteTime": {
     "end_time": "2021-02-10T14:46:51.146203Z",
     "start_time": "2021-02-10T14:46:51.081310Z"
    },
    "scrolled": false
   },
   "outputs": [
    {
     "data": {
      "text/html": [
       "<div>\n",
       "<style scoped>\n",
       "    .dataframe tbody tr th:only-of-type {\n",
       "        vertical-align: middle;\n",
       "    }\n",
       "\n",
       "    .dataframe tbody tr th {\n",
       "        vertical-align: top;\n",
       "    }\n",
       "\n",
       "    .dataframe thead th {\n",
       "        text-align: right;\n",
       "    }\n",
       "</style>\n",
       "<table border=\"1\" class=\"dataframe\">\n",
       "  <thead>\n",
       "    <tr style=\"text-align: right;\">\n",
       "      <th></th>\n",
       "      <th>RATING_OVERALL</th>\n",
       "      <th>RATING_DI</th>\n",
       "      <th>RATING_CV</th>\n",
       "      <th>RATING_WL</th>\n",
       "      <th>RATING_SM</th>\n",
       "      <th>RATING_CB</th>\n",
       "      <th>RATING_CO</th>\n",
       "      <th>NUM_REVIEWS</th>\n",
       "    </tr>\n",
       "  </thead>\n",
       "  <tbody>\n",
       "    <tr>\n",
       "      <th>count</th>\n",
       "      <td>1924.000000</td>\n",
       "      <td>1924.000000</td>\n",
       "      <td>1924.000000</td>\n",
       "      <td>1924.000000</td>\n",
       "      <td>1924.000000</td>\n",
       "      <td>1924.000000</td>\n",
       "      <td>1924.000000</td>\n",
       "      <td>1924.000000</td>\n",
       "    </tr>\n",
       "    <tr>\n",
       "      <th>mean</th>\n",
       "      <td>3.899064</td>\n",
       "      <td>3.985655</td>\n",
       "      <td>3.814085</td>\n",
       "      <td>3.694335</td>\n",
       "      <td>3.460863</td>\n",
       "      <td>3.682848</td>\n",
       "      <td>3.593399</td>\n",
       "      <td>1216.289501</td>\n",
       "    </tr>\n",
       "    <tr>\n",
       "      <th>std</th>\n",
       "      <td>0.299122</td>\n",
       "      <td>0.429166</td>\n",
       "      <td>0.380497</td>\n",
       "      <td>0.392565</td>\n",
       "      <td>0.388888</td>\n",
       "      <td>0.403465</td>\n",
       "      <td>0.366290</td>\n",
       "      <td>2710.347067</td>\n",
       "    </tr>\n",
       "    <tr>\n",
       "      <th>min</th>\n",
       "      <td>2.400000</td>\n",
       "      <td>1.000000</td>\n",
       "      <td>1.900000</td>\n",
       "      <td>1.700000</td>\n",
       "      <td>1.900000</td>\n",
       "      <td>2.300000</td>\n",
       "      <td>2.300000</td>\n",
       "      <td>101.000000</td>\n",
       "    </tr>\n",
       "    <tr>\n",
       "      <th>25%</th>\n",
       "      <td>3.700000</td>\n",
       "      <td>3.700000</td>\n",
       "      <td>3.600000</td>\n",
       "      <td>3.400000</td>\n",
       "      <td>3.200000</td>\n",
       "      <td>3.400000</td>\n",
       "      <td>3.300000</td>\n",
       "      <td>243.000000</td>\n",
       "    </tr>\n",
       "    <tr>\n",
       "      <th>50%</th>\n",
       "      <td>3.900000</td>\n",
       "      <td>4.000000</td>\n",
       "      <td>3.800000</td>\n",
       "      <td>3.700000</td>\n",
       "      <td>3.400000</td>\n",
       "      <td>3.700000</td>\n",
       "      <td>3.600000</td>\n",
       "      <td>460.500000</td>\n",
       "    </tr>\n",
       "    <tr>\n",
       "      <th>75%</th>\n",
       "      <td>4.100000</td>\n",
       "      <td>4.300000</td>\n",
       "      <td>4.100000</td>\n",
       "      <td>4.000000</td>\n",
       "      <td>3.700000</td>\n",
       "      <td>3.900000</td>\n",
       "      <td>3.800000</td>\n",
       "      <td>1225.250000</td>\n",
       "    </tr>\n",
       "    <tr>\n",
       "      <th>max</th>\n",
       "      <td>4.900000</td>\n",
       "      <td>5.000000</td>\n",
       "      <td>5.000000</td>\n",
       "      <td>4.900000</td>\n",
       "      <td>4.900000</td>\n",
       "      <td>4.900000</td>\n",
       "      <td>4.800000</td>\n",
       "      <td>74411.000000</td>\n",
       "    </tr>\n",
       "  </tbody>\n",
       "</table>\n",
       "</div>"
      ],
      "text/plain": [
       "       RATING_OVERALL    RATING_DI    RATING_CV    RATING_WL    RATING_SM  \\\n",
       "count     1924.000000  1924.000000  1924.000000  1924.000000  1924.000000   \n",
       "mean         3.899064     3.985655     3.814085     3.694335     3.460863   \n",
       "std          0.299122     0.429166     0.380497     0.392565     0.388888   \n",
       "min          2.400000     1.000000     1.900000     1.700000     1.900000   \n",
       "25%          3.700000     3.700000     3.600000     3.400000     3.200000   \n",
       "50%          3.900000     4.000000     3.800000     3.700000     3.400000   \n",
       "75%          4.100000     4.300000     4.100000     4.000000     3.700000   \n",
       "max          4.900000     5.000000     5.000000     4.900000     4.900000   \n",
       "\n",
       "         RATING_CB    RATING_CO   NUM_REVIEWS  \n",
       "count  1924.000000  1924.000000   1924.000000  \n",
       "mean      3.682848     3.593399   1216.289501  \n",
       "std       0.403465     0.366290   2710.347067  \n",
       "min       2.300000     2.300000    101.000000  \n",
       "25%       3.400000     3.300000    243.000000  \n",
       "50%       3.700000     3.600000    460.500000  \n",
       "75%       3.900000     3.800000   1225.250000  \n",
       "max       4.900000     4.800000  74411.000000  "
      ]
     },
     "execution_count": 54,
     "metadata": {},
     "output_type": "execute_result"
    }
   ],
   "source": [
    "# Checking out rating stats\n",
    "data.describe()"
   ]
  },
  {
   "cell_type": "code",
   "execution_count": 55,
   "metadata": {
    "ExecuteTime": {
     "end_time": "2021-02-10T14:46:51.967888Z",
     "start_time": "2021-02-10T14:46:51.959119Z"
    }
   },
   "outputs": [
    {
     "data": {
      "text/plain": [
       "3.9856548856548857"
      ]
     },
     "execution_count": 55,
     "metadata": {},
     "output_type": "execute_result"
    }
   ],
   "source": [
    "data.RATING_DI.mean()"
   ]
  },
  {
   "cell_type": "code",
   "execution_count": 86,
   "metadata": {
    "ExecuteTime": {
     "end_time": "2021-02-10T14:54:28.029484Z",
     "start_time": "2021-02-10T14:54:28.013539Z"
    }
   },
   "outputs": [
    {
     "ename": "AttributeError",
     "evalue": "'float' object has no attribute 'loc'",
     "output_type": "error",
     "traceback": [
      "\u001b[0;31m---------------------------------------------------------------------------\u001b[0m",
      "\u001b[0;31mAttributeError\u001b[0m                            Traceback (most recent call last)",
      "\u001b[0;32m<ipython-input-86-ade373576838>\u001b[0m in \u001b[0;36m<module>\u001b[0;34m()\u001b[0m\n\u001b[0;32m----> 1\u001b[0;31m \u001b[0;34m(\u001b[0m\u001b[0;34m(\u001b[0m\u001b[0mlen\u001b[0m\u001b[0;34m(\u001b[0m\u001b[0mdata\u001b[0m\u001b[0;34m[\u001b[0m\u001b[0;34m(\u001b[0m\u001b[0mdata\u001b[0m\u001b[0;34m[\u001b[0m\u001b[0;34m'RATING_DI'\u001b[0m\u001b[0;34m]\u001b[0m \u001b[0;34m>\u001b[0m \u001b[0;36m4.0\u001b[0m\u001b[0;34m)\u001b[0m\u001b[0;34m]\u001b[0m\u001b[0;34m)\u001b[0m \u001b[0;34m/\u001b[0m \u001b[0;34m(\u001b[0m\u001b[0mlen\u001b[0m\u001b[0;34m(\u001b[0m\u001b[0mdata\u001b[0m\u001b[0;34m)\u001b[0m\u001b[0;34m)\u001b[0m\u001b[0;34m)\u001b[0m \u001b[0;34m*\u001b[0m \u001b[0;36m100\u001b[0m\u001b[0;34m)\u001b[0m\u001b[0;34m.\u001b[0m\u001b[0mloc\u001b[0m\u001b[0;34m[\u001b[0m\u001b[0;34m:\u001b[0m\u001b[0;36m4\u001b[0m\u001b[0;34m]\u001b[0m\u001b[0;34m\u001b[0m\u001b[0;34m\u001b[0m\u001b[0m\n\u001b[0m",
      "\u001b[0;31mAttributeError\u001b[0m: 'float' object has no attribute 'loc'"
     ]
    }
   ],
   "source": [
    "((len(data[(data['RATING_DI'] > 4.0)]) / (len(data))) * 100).loc[:4]\n"
   ]
  },
  {
   "cell_type": "code",
   "execution_count": 89,
   "metadata": {
    "ExecuteTime": {
     "end_time": "2021-02-10T14:55:14.586508Z",
     "start_time": "2021-02-10T14:55:14.573729Z"
    },
    "scrolled": true
   },
   "outputs": [
    {
     "name": "stdout",
     "output_type": "stream",
     "text": [
      "Percentage of companpies below threshold: 43.555093555093556\n",
      "Percentage of companpies above threshold: 46.1018711018711\n"
     ]
    }
   ],
   "source": [
    "print('Percentage of companpies below threshold:', \n",
    "      (len(data[(data['RATING_DI'] < 4.0)]) / (len(data)))*100)\n",
    "print('Percentage of companpies above threshold:', \n",
    "      (len(data[(data['RATING_DI'] > 4.0)]) / (len(data)))*100)"
   ]
  },
  {
   "cell_type": "code",
   "execution_count": 90,
   "metadata": {
    "ExecuteTime": {
     "end_time": "2021-02-10T14:55:25.724359Z",
     "start_time": "2021-02-10T14:55:25.717167Z"
    }
   },
   "outputs": [],
   "source": [
    "# New column for Target variable - companies with Diversity and Inclusion Rating over 4.0\n",
    "data['TARGET'] = np.where(data['RATING_DI'] > 4.0 , 1, 0)"
   ]
  },
  {
   "cell_type": "code",
   "execution_count": 91,
   "metadata": {
    "ExecuteTime": {
     "end_time": "2021-02-10T14:55:26.383734Z",
     "start_time": "2021-02-10T14:55:26.328219Z"
    },
    "scrolled": true
   },
   "outputs": [
    {
     "data": {
      "text/html": [
       "<div>\n",
       "<style scoped>\n",
       "    .dataframe tbody tr th:only-of-type {\n",
       "        vertical-align: middle;\n",
       "    }\n",
       "\n",
       "    .dataframe tbody tr th {\n",
       "        vertical-align: top;\n",
       "    }\n",
       "\n",
       "    .dataframe thead th {\n",
       "        text-align: right;\n",
       "    }\n",
       "</style>\n",
       "<table border=\"1\" class=\"dataframe\">\n",
       "  <thead>\n",
       "    <tr style=\"text-align: right;\">\n",
       "      <th></th>\n",
       "      <th>NAME</th>\n",
       "      <th>SIZE</th>\n",
       "      <th>LOCATION_HQ</th>\n",
       "      <th>INDUSTRY</th>\n",
       "      <th>RATING_OVERALL</th>\n",
       "      <th>RATING_DI</th>\n",
       "      <th>RATING_CV</th>\n",
       "      <th>RATING_WL</th>\n",
       "      <th>RATING_SM</th>\n",
       "      <th>RATING_CB</th>\n",
       "      <th>RATING_CO</th>\n",
       "      <th>NUM_REVIEWS</th>\n",
       "      <th>DESCRIPTION</th>\n",
       "      <th>MISSION</th>\n",
       "      <th>FULL_DESCRIPTION</th>\n",
       "      <th>TARGET</th>\n",
       "    </tr>\n",
       "  </thead>\n",
       "  <tbody>\n",
       "    <tr>\n",
       "      <th>0</th>\n",
       "      <td>McKinsey &amp; Company</td>\n",
       "      <td>10000+ Employees</td>\n",
       "      <td>New York, NY</td>\n",
       "      <td>Consulting</td>\n",
       "      <td>4.5</td>\n",
       "      <td>4.4</td>\n",
       "      <td>4.4</td>\n",
       "      <td>3.0</td>\n",
       "      <td>4.1</td>\n",
       "      <td>4.4</td>\n",
       "      <td>4.5</td>\n",
       "      <td>5198</td>\n",
       "      <td>We work with leaders across sectors to tackle ...</td>\n",
       "      <td>Mission: Our mission is two-fold: to help our ...</td>\n",
       "      <td>We work with leaders across sectors to tackle ...</td>\n",
       "      <td>1</td>\n",
       "    </tr>\n",
       "    <tr>\n",
       "      <th>1</th>\n",
       "      <td>Cornell University</td>\n",
       "      <td>10000+ Employees</td>\n",
       "      <td>Ithaca, NY</td>\n",
       "      <td>Colleges &amp; Universities</td>\n",
       "      <td>4.5</td>\n",
       "      <td>4.3</td>\n",
       "      <td>4.4</td>\n",
       "      <td>4.0</td>\n",
       "      <td>4.1</td>\n",
       "      <td>4.1</td>\n",
       "      <td>4.2</td>\n",
       "      <td>1765</td>\n",
       "      <td>Cornell is a private, Ivy League university re...</td>\n",
       "      <td></td>\n",
       "      <td>Cornell is a private, Ivy League university re...</td>\n",
       "      <td>1</td>\n",
       "    </tr>\n",
       "    <tr>\n",
       "      <th>2</th>\n",
       "      <td>UC Santa Barbara</td>\n",
       "      <td>5001 to 10000 Employees</td>\n",
       "      <td>Santa Barbara, CA</td>\n",
       "      <td>Colleges &amp; Universities</td>\n",
       "      <td>4.5</td>\n",
       "      <td>4.2</td>\n",
       "      <td>4.3</td>\n",
       "      <td>4.4</td>\n",
       "      <td>4.1</td>\n",
       "      <td>3.7</td>\n",
       "      <td>4.0</td>\n",
       "      <td>1049</td>\n",
       "      <td>Dude, let's hit the beach! And then we'll hit ...</td>\n",
       "      <td></td>\n",
       "      <td>Dude, let's hit the beach! And then we'll hit ...</td>\n",
       "      <td>1</td>\n",
       "    </tr>\n",
       "    <tr>\n",
       "      <th>3</th>\n",
       "      <td>UC Irvine</td>\n",
       "      <td>10000+ Employees</td>\n",
       "      <td>Irvine, CA</td>\n",
       "      <td>Colleges &amp; Universities</td>\n",
       "      <td>4.4</td>\n",
       "      <td>4.5</td>\n",
       "      <td>4.3</td>\n",
       "      <td>4.0</td>\n",
       "      <td>4.0</td>\n",
       "      <td>3.8</td>\n",
       "      <td>4.0</td>\n",
       "      <td>1398</td>\n",
       "      <td>Sun, the beach, Nobel Prize winners, and a Sou...</td>\n",
       "      <td></td>\n",
       "      <td>Sun, the beach, Nobel Prize winners, and a Sou...</td>\n",
       "      <td>1</td>\n",
       "    </tr>\n",
       "    <tr>\n",
       "      <th>4</th>\n",
       "      <td>Iowa State University</td>\n",
       "      <td>5001 to 10000 Employees</td>\n",
       "      <td>Ames, IA</td>\n",
       "      <td>Colleges &amp; Universities</td>\n",
       "      <td>4.4</td>\n",
       "      <td>4.2</td>\n",
       "      <td>4.2</td>\n",
       "      <td>4.2</td>\n",
       "      <td>4.0</td>\n",
       "      <td>3.8</td>\n",
       "      <td>3.9</td>\n",
       "      <td>1203</td>\n",
       "      <td>Attending Iowa State University of Science and...</td>\n",
       "      <td></td>\n",
       "      <td>Attending Iowa State University of Science and...</td>\n",
       "      <td>1</td>\n",
       "    </tr>\n",
       "    <tr>\n",
       "      <th>...</th>\n",
       "      <td>...</td>\n",
       "      <td>...</td>\n",
       "      <td>...</td>\n",
       "      <td>...</td>\n",
       "      <td>...</td>\n",
       "      <td>...</td>\n",
       "      <td>...</td>\n",
       "      <td>...</td>\n",
       "      <td>...</td>\n",
       "      <td>...</td>\n",
       "      <td>...</td>\n",
       "      <td>...</td>\n",
       "      <td>...</td>\n",
       "      <td>...</td>\n",
       "      <td>...</td>\n",
       "      <td>...</td>\n",
       "    </tr>\n",
       "    <tr>\n",
       "      <th>1932</th>\n",
       "      <td>Valeo</td>\n",
       "      <td>10000+ Employees</td>\n",
       "      <td>Paris, France</td>\n",
       "      <td>Transportation Equipment Manufacturing</td>\n",
       "      <td>3.6</td>\n",
       "      <td>3.9</td>\n",
       "      <td>3.4</td>\n",
       "      <td>3.0</td>\n",
       "      <td>2.9</td>\n",
       "      <td>3.5</td>\n",
       "      <td>3.4</td>\n",
       "      <td>2492</td>\n",
       "      <td>Valeo is an automotive supplier, partner to al...</td>\n",
       "      <td></td>\n",
       "      <td>Valeo is an automotive supplier, partner to al...</td>\n",
       "      <td>0</td>\n",
       "    </tr>\n",
       "    <tr>\n",
       "      <th>1933</th>\n",
       "      <td>TVA</td>\n",
       "      <td>10000+ Employees</td>\n",
       "      <td>Knoxville, TN</td>\n",
       "      <td>Energy</td>\n",
       "      <td>3.6</td>\n",
       "      <td>3.6</td>\n",
       "      <td>3.3</td>\n",
       "      <td>3.8</td>\n",
       "      <td>3.0</td>\n",
       "      <td>4.1</td>\n",
       "      <td>3.2</td>\n",
       "      <td>378</td>\n",
       "      <td>For more than eight decades, the Tennessee Val...</td>\n",
       "      <td>Mission: Mission:\\nTVA was built for the peopl...</td>\n",
       "      <td>For more than eight decades, the Tennessee Val...</td>\n",
       "      <td>0</td>\n",
       "    </tr>\n",
       "    <tr>\n",
       "      <th>1934</th>\n",
       "      <td>Dierbergs Markets</td>\n",
       "      <td>1001 to 5000 Employees</td>\n",
       "      <td>Chesterfield, MO</td>\n",
       "      <td>Grocery Stores &amp; Supermarkets</td>\n",
       "      <td>3.6</td>\n",
       "      <td>3.8</td>\n",
       "      <td>3.3</td>\n",
       "      <td>3.5</td>\n",
       "      <td>3.6</td>\n",
       "      <td>2.5</td>\n",
       "      <td>3.4</td>\n",
       "      <td>209</td>\n",
       "      <td>Discover your hometown career at the Hometown ...</td>\n",
       "      <td></td>\n",
       "      <td>Discover your hometown career at the Hometown ...</td>\n",
       "      <td>0</td>\n",
       "    </tr>\n",
       "    <tr>\n",
       "      <th>1935</th>\n",
       "      <td>Deckers Brands</td>\n",
       "      <td>1001 to 5000 Employees</td>\n",
       "      <td>Goleta, CA</td>\n",
       "      <td>Department, Clothing, &amp; Shoe Stores</td>\n",
       "      <td>3.6</td>\n",
       "      <td>4.0</td>\n",
       "      <td>3.9</td>\n",
       "      <td>3.7</td>\n",
       "      <td>3.2</td>\n",
       "      <td>3.5</td>\n",
       "      <td>3.0</td>\n",
       "      <td>293</td>\n",
       "      <td>Deckers Brands is a global leader in designing...</td>\n",
       "      <td></td>\n",
       "      <td>Deckers Brands is a global leader in designing...</td>\n",
       "      <td>0</td>\n",
       "    </tr>\n",
       "    <tr>\n",
       "      <th>1936</th>\n",
       "      <td>First American Financial Corporation</td>\n",
       "      <td>10000+ Employees</td>\n",
       "      <td>Santa Ana, CA</td>\n",
       "      <td>Insurance Carriers</td>\n",
       "      <td>3.6</td>\n",
       "      <td>4.1</td>\n",
       "      <td>3.8</td>\n",
       "      <td>3.7</td>\n",
       "      <td>3.3</td>\n",
       "      <td>3.4</td>\n",
       "      <td>3.4</td>\n",
       "      <td>1256</td>\n",
       "      <td>First American makes the dream of property own...</td>\n",
       "      <td></td>\n",
       "      <td>First American makes the dream of property own...</td>\n",
       "      <td>1</td>\n",
       "    </tr>\n",
       "  </tbody>\n",
       "</table>\n",
       "<p>1924 rows × 16 columns</p>\n",
       "</div>"
      ],
      "text/plain": [
       "                                      NAME                     SIZE  \\\n",
       "0                       McKinsey & Company         10000+ Employees   \n",
       "1                       Cornell University         10000+ Employees   \n",
       "2                         UC Santa Barbara  5001 to 10000 Employees   \n",
       "3                                UC Irvine         10000+ Employees   \n",
       "4                    Iowa State University  5001 to 10000 Employees   \n",
       "...                                    ...                      ...   \n",
       "1932                                 Valeo         10000+ Employees   \n",
       "1933                                   TVA         10000+ Employees   \n",
       "1934                     Dierbergs Markets   1001 to 5000 Employees   \n",
       "1935                        Deckers Brands   1001 to 5000 Employees   \n",
       "1936  First American Financial Corporation         10000+ Employees   \n",
       "\n",
       "            LOCATION_HQ                                INDUSTRY  \\\n",
       "0          New York, NY                              Consulting   \n",
       "1            Ithaca, NY                 Colleges & Universities   \n",
       "2     Santa Barbara, CA                 Colleges & Universities   \n",
       "3            Irvine, CA                 Colleges & Universities   \n",
       "4              Ames, IA                 Colleges & Universities   \n",
       "...                 ...                                     ...   \n",
       "1932      Paris, France  Transportation Equipment Manufacturing   \n",
       "1933      Knoxville, TN                                  Energy   \n",
       "1934   Chesterfield, MO           Grocery Stores & Supermarkets   \n",
       "1935         Goleta, CA     Department, Clothing, & Shoe Stores   \n",
       "1936      Santa Ana, CA                      Insurance Carriers   \n",
       "\n",
       "      RATING_OVERALL  RATING_DI  RATING_CV  RATING_WL  RATING_SM  RATING_CB  \\\n",
       "0                4.5        4.4        4.4        3.0        4.1        4.4   \n",
       "1                4.5        4.3        4.4        4.0        4.1        4.1   \n",
       "2                4.5        4.2        4.3        4.4        4.1        3.7   \n",
       "3                4.4        4.5        4.3        4.0        4.0        3.8   \n",
       "4                4.4        4.2        4.2        4.2        4.0        3.8   \n",
       "...              ...        ...        ...        ...        ...        ...   \n",
       "1932             3.6        3.9        3.4        3.0        2.9        3.5   \n",
       "1933             3.6        3.6        3.3        3.8        3.0        4.1   \n",
       "1934             3.6        3.8        3.3        3.5        3.6        2.5   \n",
       "1935             3.6        4.0        3.9        3.7        3.2        3.5   \n",
       "1936             3.6        4.1        3.8        3.7        3.3        3.4   \n",
       "\n",
       "      RATING_CO  NUM_REVIEWS  \\\n",
       "0           4.5         5198   \n",
       "1           4.2         1765   \n",
       "2           4.0         1049   \n",
       "3           4.0         1398   \n",
       "4           3.9         1203   \n",
       "...         ...          ...   \n",
       "1932        3.4         2492   \n",
       "1933        3.2          378   \n",
       "1934        3.4          209   \n",
       "1935        3.0          293   \n",
       "1936        3.4         1256   \n",
       "\n",
       "                                            DESCRIPTION  \\\n",
       "0     We work with leaders across sectors to tackle ...   \n",
       "1     Cornell is a private, Ivy League university re...   \n",
       "2     Dude, let's hit the beach! And then we'll hit ...   \n",
       "3     Sun, the beach, Nobel Prize winners, and a Sou...   \n",
       "4     Attending Iowa State University of Science and...   \n",
       "...                                                 ...   \n",
       "1932  Valeo is an automotive supplier, partner to al...   \n",
       "1933  For more than eight decades, the Tennessee Val...   \n",
       "1934  Discover your hometown career at the Hometown ...   \n",
       "1935  Deckers Brands is a global leader in designing...   \n",
       "1936  First American makes the dream of property own...   \n",
       "\n",
       "                                                MISSION  \\\n",
       "0     Mission: Our mission is two-fold: to help our ...   \n",
       "1                                                         \n",
       "2                                                         \n",
       "3                                                         \n",
       "4                                                         \n",
       "...                                                 ...   \n",
       "1932                                                      \n",
       "1933  Mission: Mission:\\nTVA was built for the peopl...   \n",
       "1934                                                      \n",
       "1935                                                      \n",
       "1936                                                      \n",
       "\n",
       "                                       FULL_DESCRIPTION  TARGET  \n",
       "0     We work with leaders across sectors to tackle ...       1  \n",
       "1     Cornell is a private, Ivy League university re...       1  \n",
       "2     Dude, let's hit the beach! And then we'll hit ...       1  \n",
       "3     Sun, the beach, Nobel Prize winners, and a Sou...       1  \n",
       "4     Attending Iowa State University of Science and...       1  \n",
       "...                                                 ...     ...  \n",
       "1932  Valeo is an automotive supplier, partner to al...       0  \n",
       "1933  For more than eight decades, the Tennessee Val...       0  \n",
       "1934  Discover your hometown career at the Hometown ...       0  \n",
       "1935  Deckers Brands is a global leader in designing...       0  \n",
       "1936  First American makes the dream of property own...       1  \n",
       "\n",
       "[1924 rows x 16 columns]"
      ]
     },
     "execution_count": 91,
     "metadata": {},
     "output_type": "execute_result"
    }
   ],
   "source": [
    "data #1924 companies"
   ]
  },
  {
   "cell_type": "markdown",
   "metadata": {},
   "source": [
    "## Save final CSV"
   ]
  },
  {
   "cell_type": "code",
   "execution_count": 92,
   "metadata": {
    "ExecuteTime": {
     "end_time": "2021-02-10T14:56:25.851053Z",
     "start_time": "2021-02-10T14:56:25.703717Z"
    }
   },
   "outputs": [],
   "source": [
    "data.to_csv('data/glassdoor_ratings_main.csv', index=False)"
   ]
  },
  {
   "cell_type": "code",
   "execution_count": null,
   "metadata": {},
   "outputs": [],
   "source": []
  }
 ],
 "metadata": {
  "kernelspec": {
   "display_name": "Python 3",
   "language": "python",
   "name": "python3"
  },
  "language_info": {
   "codemirror_mode": {
    "name": "ipython",
    "version": 3
   },
   "file_extension": ".py",
   "mimetype": "text/x-python",
   "name": "python",
   "nbconvert_exporter": "python",
   "pygments_lexer": "ipython3",
   "version": "3.6.9"
  },
  "toc": {
   "base_numbering": 1,
   "nav_menu": {},
   "number_sections": true,
   "sideBar": true,
   "skip_h1_title": false,
   "title_cell": "Table of Contents",
   "title_sidebar": "Contents",
   "toc_cell": false,
   "toc_position": {},
   "toc_section_display": true,
   "toc_window_display": false
  }
 },
 "nbformat": 4,
 "nbformat_minor": 4
}
