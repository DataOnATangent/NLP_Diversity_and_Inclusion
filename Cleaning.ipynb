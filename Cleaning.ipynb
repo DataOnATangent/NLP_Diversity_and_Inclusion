{
 "cells": [
  {
   "cell_type": "markdown",
   "metadata": {},
   "source": [
    "# Cleaning CSV Files"
   ]
  },
  {
   "cell_type": "code",
   "execution_count": 1,
   "metadata": {
    "ExecuteTime": {
     "end_time": "2021-02-09T04:49:09.567739Z",
     "start_time": "2021-02-09T04:49:07.904879Z"
    }
   },
   "outputs": [],
   "source": [
    "import pandas as pd\n",
    "import numpy as np\n",
    "import string\n",
    "\n",
    "pd.options.display.max_rows = 50"
   ]
  },
  {
   "cell_type": "markdown",
   "metadata": {},
   "source": [
    "**Read in Data**"
   ]
  },
  {
   "cell_type": "code",
   "execution_count": 2,
   "metadata": {
    "ExecuteTime": {
     "end_time": "2021-02-09T04:49:09.838328Z",
     "start_time": "2021-02-09T04:49:09.571132Z"
    }
   },
   "outputs": [
    {
     "name": "stdout",
     "output_type": "stream",
     "text": [
      "Length of data set:  1941\n",
      "Number of duplicates:  583\n"
     ]
    }
   ],
   "source": [
    "df1 = pd.read_csv('data/glassdoor_ratings1_62.csv')#, index_col=0) #index_col=0 to remove numeric index\n",
    "df2 = pd.read_csv('data/glassdoor_ratings2_37.csv')#, index_col=0)\n",
    "df3 = pd.read_csv('data/glassdoor_ratings3_199.csv')#, index_col=0)\n",
    "df4 = pd.read_csv('data/glassdoor_ratings5_797.csv')#, index_col=0)\n",
    "df5 = pd.read_csv('data/glassdoor_ratings6_846.csv')#, index_col=0)\n",
    "\n",
    "#Combine data frames\n",
    "data = pd.concat([df1, df2, df3, df4, df5])\n",
    "\n",
    "print('Length of data set: ',len(data))\n",
    "print('Number of duplicates: ', data.duplicated().sum())"
   ]
  },
  {
   "cell_type": "code",
   "execution_count": 3,
   "metadata": {
    "ExecuteTime": {
     "end_time": "2021-02-09T04:49:09.911352Z",
     "start_time": "2021-02-09T04:49:09.845212Z"
    }
   },
   "outputs": [
    {
     "name": "stdout",
     "output_type": "stream",
     "text": [
      "(1941, 15)\n"
     ]
    },
    {
     "data": {
      "text/html": [
       "<div>\n",
       "<style scoped>\n",
       "    .dataframe tbody tr th:only-of-type {\n",
       "        vertical-align: middle;\n",
       "    }\n",
       "\n",
       "    .dataframe tbody tr th {\n",
       "        vertical-align: top;\n",
       "    }\n",
       "\n",
       "    .dataframe thead th {\n",
       "        text-align: right;\n",
       "    }\n",
       "</style>\n",
       "<table border=\"1\" class=\"dataframe\">\n",
       "  <thead>\n",
       "    <tr style=\"text-align: right;\">\n",
       "      <th></th>\n",
       "      <th>index</th>\n",
       "      <th>NAME</th>\n",
       "      <th>SIZE</th>\n",
       "      <th>LOCATION_HQ</th>\n",
       "      <th>INDUSTRY</th>\n",
       "      <th>RATING_OVERALL</th>\n",
       "      <th>RATING_DI</th>\n",
       "      <th>RATING_CV</th>\n",
       "      <th>RATING_WL</th>\n",
       "      <th>RATING_SM</th>\n",
       "      <th>RATING_CB</th>\n",
       "      <th>RATING_CO</th>\n",
       "      <th>NUM_REVIEWS</th>\n",
       "      <th>DESCRIPTION</th>\n",
       "      <th>MISSION</th>\n",
       "    </tr>\n",
       "  </thead>\n",
       "  <tbody>\n",
       "    <tr>\n",
       "      <th>0</th>\n",
       "      <td>0</td>\n",
       "      <td>Google</td>\n",
       "      <td>10000+ Employees</td>\n",
       "      <td>Mountain View, CA</td>\n",
       "      <td>Internet</td>\n",
       "      <td>4.5</td>\n",
       "      <td>4.4</td>\n",
       "      <td>4.4</td>\n",
       "      <td>4.3</td>\n",
       "      <td>4.1</td>\n",
       "      <td>4.5</td>\n",
       "      <td>4.3</td>\n",
       "      <td>See All 18,362 Reviews</td>\n",
       "      <td>NaN</td>\n",
       "      <td>NaN</td>\n",
       "    </tr>\n",
       "    <tr>\n",
       "      <th>1</th>\n",
       "      <td>1</td>\n",
       "      <td>Microsoft</td>\n",
       "      <td>10000+ Employees</td>\n",
       "      <td>Redmond, WA</td>\n",
       "      <td>Computer Hardware &amp; Software</td>\n",
       "      <td>4.4</td>\n",
       "      <td>4.4</td>\n",
       "      <td>4.3</td>\n",
       "      <td>4.1</td>\n",
       "      <td>4.0</td>\n",
       "      <td>4.1</td>\n",
       "      <td>4.1</td>\n",
       "      <td>See All 29,389 Reviews</td>\n",
       "      <td>Our drive to change the world unites us!\\n\\nMi...</td>\n",
       "      <td>NaN</td>\n",
       "    </tr>\n",
       "    <tr>\n",
       "      <th>2</th>\n",
       "      <td>2</td>\n",
       "      <td>Apple</td>\n",
       "      <td>10000+ Employees</td>\n",
       "      <td>Cupertino, CA</td>\n",
       "      <td>Computer Hardware &amp; Software</td>\n",
       "      <td>4.3</td>\n",
       "      <td>4.4</td>\n",
       "      <td>4.3</td>\n",
       "      <td>3.7</td>\n",
       "      <td>3.7</td>\n",
       "      <td>4.3</td>\n",
       "      <td>3.8</td>\n",
       "      <td>See All 20,851 Reviews</td>\n",
       "      <td>We’re a diverse collective of thinkers and doe...</td>\n",
       "      <td>NaN</td>\n",
       "    </tr>\n",
       "    <tr>\n",
       "      <th>3</th>\n",
       "      <td>3</td>\n",
       "      <td>US Air Force</td>\n",
       "      <td>10000+ Employees</td>\n",
       "      <td>Washington, DC</td>\n",
       "      <td>Federal Agencies</td>\n",
       "      <td>4.2</td>\n",
       "      <td>4.2</td>\n",
       "      <td>4.0</td>\n",
       "      <td>3.3</td>\n",
       "      <td>3.4</td>\n",
       "      <td>4.3</td>\n",
       "      <td>4.2</td>\n",
       "      <td>See All 16,600 Reviews</td>\n",
       "      <td>The mission of the US Department of the Air Fo...</td>\n",
       "      <td>NaN</td>\n",
       "    </tr>\n",
       "    <tr>\n",
       "      <th>4</th>\n",
       "      <td>4</td>\n",
       "      <td>Cisco Systems</td>\n",
       "      <td>10000+ Employees</td>\n",
       "      <td>San Jose, CA</td>\n",
       "      <td>Computer Hardware &amp; Software</td>\n",
       "      <td>4.2</td>\n",
       "      <td>4.3</td>\n",
       "      <td>4.3</td>\n",
       "      <td>4.2</td>\n",
       "      <td>3.8</td>\n",
       "      <td>4.1</td>\n",
       "      <td>3.9</td>\n",
       "      <td>See All 21,804 Reviews</td>\n",
       "      <td>#WeAreCisco, where each person is unique, but ...</td>\n",
       "      <td>Mission: Cisco wants you to bring your uniquen...</td>\n",
       "    </tr>\n",
       "  </tbody>\n",
       "</table>\n",
       "</div>"
      ],
      "text/plain": [
       "   index           NAME              SIZE        LOCATION_HQ  \\\n",
       "0      0         Google  10000+ Employees  Mountain View, CA   \n",
       "1      1      Microsoft  10000+ Employees        Redmond, WA   \n",
       "2      2          Apple  10000+ Employees      Cupertino, CA   \n",
       "3      3   US Air Force  10000+ Employees     Washington, DC   \n",
       "4      4  Cisco Systems  10000+ Employees       San Jose, CA   \n",
       "\n",
       "                       INDUSTRY  RATING_OVERALL  RATING_DI  RATING_CV  \\\n",
       "0                      Internet             4.5        4.4        4.4   \n",
       "1  Computer Hardware & Software             4.4        4.4        4.3   \n",
       "2  Computer Hardware & Software             4.3        4.4        4.3   \n",
       "3              Federal Agencies             4.2        4.2        4.0   \n",
       "4  Computer Hardware & Software             4.2        4.3        4.3   \n",
       "\n",
       "   RATING_WL  RATING_SM  RATING_CB  RATING_CO             NUM_REVIEWS  \\\n",
       "0        4.3        4.1        4.5        4.3  See All 18,362 Reviews   \n",
       "1        4.1        4.0        4.1        4.1  See All 29,389 Reviews   \n",
       "2        3.7        3.7        4.3        3.8  See All 20,851 Reviews   \n",
       "3        3.3        3.4        4.3        4.2  See All 16,600 Reviews   \n",
       "4        4.2        3.8        4.1        3.9  See All 21,804 Reviews   \n",
       "\n",
       "                                         DESCRIPTION  \\\n",
       "0                                                NaN   \n",
       "1  Our drive to change the world unites us!\\n\\nMi...   \n",
       "2  We’re a diverse collective of thinkers and doe...   \n",
       "3  The mission of the US Department of the Air Fo...   \n",
       "4  #WeAreCisco, where each person is unique, but ...   \n",
       "\n",
       "                                             MISSION  \n",
       "0                                                NaN  \n",
       "1                                                NaN  \n",
       "2                                                NaN  \n",
       "3                                                NaN  \n",
       "4  Mission: Cisco wants you to bring your uniquen...  "
      ]
     },
     "execution_count": 3,
     "metadata": {},
     "output_type": "execute_result"
    }
   ],
   "source": [
    "#Reset index to see all rows\n",
    "data.reset_index(inplace=True)\n",
    "\n",
    "#Check out dataframe\n",
    "print(data.shape)\n",
    "data.head()"
   ]
  },
  {
   "cell_type": "code",
   "execution_count": 4,
   "metadata": {
    "ExecuteTime": {
     "end_time": "2021-02-09T04:49:09.930108Z",
     "start_time": "2021-02-09T04:49:09.916864Z"
    },
    "scrolled": true
   },
   "outputs": [],
   "source": [
    "#Drop duplicate companies by 'NAME' - drops size from 1941 to 1188\n",
    "data.drop_duplicates(subset='NAME', keep='last', inplace=True)\n",
    "data = data.drop(['index'], axis=1)"
   ]
  },
  {
   "cell_type": "code",
   "execution_count": 5,
   "metadata": {
    "ExecuteTime": {
     "end_time": "2021-02-09T04:49:10.155928Z",
     "start_time": "2021-02-09T04:49:10.144701Z"
    }
   },
   "outputs": [],
   "source": [
    "#reset index to begin at 0\n",
    "data.reset_index(inplace=True)"
   ]
  },
  {
   "cell_type": "code",
   "execution_count": 6,
   "metadata": {
    "ExecuteTime": {
     "end_time": "2021-02-09T04:49:10.528634Z",
     "start_time": "2021-02-09T04:49:10.494153Z"
    }
   },
   "outputs": [
    {
     "data": {
      "text/html": [
       "<div>\n",
       "<style scoped>\n",
       "    .dataframe tbody tr th:only-of-type {\n",
       "        vertical-align: middle;\n",
       "    }\n",
       "\n",
       "    .dataframe tbody tr th {\n",
       "        vertical-align: top;\n",
       "    }\n",
       "\n",
       "    .dataframe thead th {\n",
       "        text-align: right;\n",
       "    }\n",
       "</style>\n",
       "<table border=\"1\" class=\"dataframe\">\n",
       "  <thead>\n",
       "    <tr style=\"text-align: right;\">\n",
       "      <th></th>\n",
       "      <th>index</th>\n",
       "      <th>NAME</th>\n",
       "      <th>SIZE</th>\n",
       "      <th>LOCATION_HQ</th>\n",
       "      <th>INDUSTRY</th>\n",
       "      <th>RATING_OVERALL</th>\n",
       "      <th>RATING_DI</th>\n",
       "      <th>RATING_CV</th>\n",
       "      <th>RATING_WL</th>\n",
       "      <th>RATING_SM</th>\n",
       "      <th>RATING_CB</th>\n",
       "      <th>RATING_CO</th>\n",
       "      <th>NUM_REVIEWS</th>\n",
       "      <th>DESCRIPTION</th>\n",
       "      <th>MISSION</th>\n",
       "    </tr>\n",
       "  </thead>\n",
       "  <tbody>\n",
       "    <tr>\n",
       "      <th>0</th>\n",
       "      <td>10</td>\n",
       "      <td>McKinsey &amp; Company</td>\n",
       "      <td>10000+ Employees</td>\n",
       "      <td>New York, NY</td>\n",
       "      <td>Consulting</td>\n",
       "      <td>4.5</td>\n",
       "      <td>4.4</td>\n",
       "      <td>4.4</td>\n",
       "      <td>3.0</td>\n",
       "      <td>4.1</td>\n",
       "      <td>4.4</td>\n",
       "      <td>4.5</td>\n",
       "      <td>See All 5,198 Reviews</td>\n",
       "      <td>We work with leaders across sectors to tackle ...</td>\n",
       "      <td>Mission: Our mission is two-fold: to help our ...</td>\n",
       "    </tr>\n",
       "    <tr>\n",
       "      <th>1</th>\n",
       "      <td>11</td>\n",
       "      <td>Cornell University</td>\n",
       "      <td>10000+ Employees</td>\n",
       "      <td>Ithaca, NY</td>\n",
       "      <td>Colleges &amp; Universities</td>\n",
       "      <td>4.5</td>\n",
       "      <td>4.3</td>\n",
       "      <td>4.4</td>\n",
       "      <td>4.0</td>\n",
       "      <td>4.1</td>\n",
       "      <td>4.1</td>\n",
       "      <td>4.2</td>\n",
       "      <td>See All 1,765 Reviews</td>\n",
       "      <td>Cornell is a private, Ivy League university re...</td>\n",
       "      <td>NaN</td>\n",
       "    </tr>\n",
       "    <tr>\n",
       "      <th>2</th>\n",
       "      <td>12</td>\n",
       "      <td>UC Santa Barbara</td>\n",
       "      <td>5001 to 10000 Employees</td>\n",
       "      <td>Santa Barbara, CA</td>\n",
       "      <td>Colleges &amp; Universities</td>\n",
       "      <td>4.5</td>\n",
       "      <td>4.2</td>\n",
       "      <td>4.3</td>\n",
       "      <td>4.4</td>\n",
       "      <td>4.1</td>\n",
       "      <td>3.7</td>\n",
       "      <td>4.0</td>\n",
       "      <td>See All 1,049 Reviews</td>\n",
       "      <td>Dude, let's hit the beach! And then we'll hit ...</td>\n",
       "      <td>NaN</td>\n",
       "    </tr>\n",
       "    <tr>\n",
       "      <th>3</th>\n",
       "      <td>13</td>\n",
       "      <td>UC Irvine</td>\n",
       "      <td>10000+ Employees</td>\n",
       "      <td>Irvine, CA</td>\n",
       "      <td>Colleges &amp; Universities</td>\n",
       "      <td>4.4</td>\n",
       "      <td>4.5</td>\n",
       "      <td>4.3</td>\n",
       "      <td>4.0</td>\n",
       "      <td>4.0</td>\n",
       "      <td>3.8</td>\n",
       "      <td>4.0</td>\n",
       "      <td>See All 1,398 Reviews</td>\n",
       "      <td>Sun, the beach, Nobel Prize winners, and a Sou...</td>\n",
       "      <td>NaN</td>\n",
       "    </tr>\n",
       "    <tr>\n",
       "      <th>4</th>\n",
       "      <td>14</td>\n",
       "      <td>Iowa State University</td>\n",
       "      <td>5001 to 10000 Employees</td>\n",
       "      <td>Ames, IA</td>\n",
       "      <td>Colleges &amp; Universities</td>\n",
       "      <td>4.4</td>\n",
       "      <td>4.2</td>\n",
       "      <td>4.2</td>\n",
       "      <td>4.2</td>\n",
       "      <td>4.0</td>\n",
       "      <td>3.8</td>\n",
       "      <td>3.9</td>\n",
       "      <td>See All 1,203 Reviews</td>\n",
       "      <td>Attending Iowa State University of Science and...</td>\n",
       "      <td>NaN</td>\n",
       "    </tr>\n",
       "  </tbody>\n",
       "</table>\n",
       "</div>"
      ],
      "text/plain": [
       "   index                   NAME                     SIZE        LOCATION_HQ  \\\n",
       "0     10     McKinsey & Company         10000+ Employees       New York, NY   \n",
       "1     11     Cornell University         10000+ Employees         Ithaca, NY   \n",
       "2     12       UC Santa Barbara  5001 to 10000 Employees  Santa Barbara, CA   \n",
       "3     13              UC Irvine         10000+ Employees         Irvine, CA   \n",
       "4     14  Iowa State University  5001 to 10000 Employees           Ames, IA   \n",
       "\n",
       "                  INDUSTRY  RATING_OVERALL  RATING_DI  RATING_CV  RATING_WL  \\\n",
       "0               Consulting             4.5        4.4        4.4        3.0   \n",
       "1  Colleges & Universities             4.5        4.3        4.4        4.0   \n",
       "2  Colleges & Universities             4.5        4.2        4.3        4.4   \n",
       "3  Colleges & Universities             4.4        4.5        4.3        4.0   \n",
       "4  Colleges & Universities             4.4        4.2        4.2        4.2   \n",
       "\n",
       "   RATING_SM  RATING_CB  RATING_CO            NUM_REVIEWS  \\\n",
       "0        4.1        4.4        4.5  See All 5,198 Reviews   \n",
       "1        4.1        4.1        4.2  See All 1,765 Reviews   \n",
       "2        4.1        3.7        4.0  See All 1,049 Reviews   \n",
       "3        4.0        3.8        4.0  See All 1,398 Reviews   \n",
       "4        4.0        3.8        3.9  See All 1,203 Reviews   \n",
       "\n",
       "                                         DESCRIPTION  \\\n",
       "0  We work with leaders across sectors to tackle ...   \n",
       "1  Cornell is a private, Ivy League university re...   \n",
       "2  Dude, let's hit the beach! And then we'll hit ...   \n",
       "3  Sun, the beach, Nobel Prize winners, and a Sou...   \n",
       "4  Attending Iowa State University of Science and...   \n",
       "\n",
       "                                             MISSION  \n",
       "0  Mission: Our mission is two-fold: to help our ...  \n",
       "1                                                NaN  \n",
       "2                                                NaN  \n",
       "3                                                NaN  \n",
       "4                                                NaN  "
      ]
     },
     "execution_count": 6,
     "metadata": {},
     "output_type": "execute_result"
    }
   ],
   "source": [
    "data.head()"
   ]
  },
  {
   "cell_type": "code",
   "execution_count": 7,
   "metadata": {
    "ExecuteTime": {
     "end_time": "2021-02-09T04:49:10.862172Z",
     "start_time": "2021-02-09T04:49:10.849686Z"
    }
   },
   "outputs": [],
   "source": [
    "#drop extra indices\n",
    "# data = data.drop(['index', 'level_0'], axis=1)\n",
    "data = data.drop(['index'], axis=1)"
   ]
  },
  {
   "cell_type": "markdown",
   "metadata": {},
   "source": [
    "## Cleaned indices and duplicates gone"
   ]
  },
  {
   "cell_type": "code",
   "execution_count": 8,
   "metadata": {
    "ExecuteTime": {
     "end_time": "2021-02-09T04:49:11.998318Z",
     "start_time": "2021-02-09T04:49:11.969579Z"
    },
    "scrolled": false
   },
   "outputs": [
    {
     "name": "stdout",
     "output_type": "stream",
     "text": [
      "Shape:  (1188, 14)\n"
     ]
    },
    {
     "data": {
      "text/html": [
       "<div>\n",
       "<style scoped>\n",
       "    .dataframe tbody tr th:only-of-type {\n",
       "        vertical-align: middle;\n",
       "    }\n",
       "\n",
       "    .dataframe tbody tr th {\n",
       "        vertical-align: top;\n",
       "    }\n",
       "\n",
       "    .dataframe thead th {\n",
       "        text-align: right;\n",
       "    }\n",
       "</style>\n",
       "<table border=\"1\" class=\"dataframe\">\n",
       "  <thead>\n",
       "    <tr style=\"text-align: right;\">\n",
       "      <th></th>\n",
       "      <th>NAME</th>\n",
       "      <th>SIZE</th>\n",
       "      <th>LOCATION_HQ</th>\n",
       "      <th>INDUSTRY</th>\n",
       "      <th>RATING_OVERALL</th>\n",
       "      <th>RATING_DI</th>\n",
       "      <th>RATING_CV</th>\n",
       "      <th>RATING_WL</th>\n",
       "      <th>RATING_SM</th>\n",
       "      <th>RATING_CB</th>\n",
       "      <th>RATING_CO</th>\n",
       "      <th>NUM_REVIEWS</th>\n",
       "      <th>DESCRIPTION</th>\n",
       "      <th>MISSION</th>\n",
       "    </tr>\n",
       "  </thead>\n",
       "  <tbody>\n",
       "    <tr>\n",
       "      <th>0</th>\n",
       "      <td>McKinsey &amp; Company</td>\n",
       "      <td>10000+ Employees</td>\n",
       "      <td>New York, NY</td>\n",
       "      <td>Consulting</td>\n",
       "      <td>4.5</td>\n",
       "      <td>4.4</td>\n",
       "      <td>4.4</td>\n",
       "      <td>3.0</td>\n",
       "      <td>4.1</td>\n",
       "      <td>4.4</td>\n",
       "      <td>4.5</td>\n",
       "      <td>See All 5,198 Reviews</td>\n",
       "      <td>We work with leaders across sectors to tackle ...</td>\n",
       "      <td>Mission: Our mission is two-fold: to help our ...</td>\n",
       "    </tr>\n",
       "    <tr>\n",
       "      <th>1</th>\n",
       "      <td>Cornell University</td>\n",
       "      <td>10000+ Employees</td>\n",
       "      <td>Ithaca, NY</td>\n",
       "      <td>Colleges &amp; Universities</td>\n",
       "      <td>4.5</td>\n",
       "      <td>4.3</td>\n",
       "      <td>4.4</td>\n",
       "      <td>4.0</td>\n",
       "      <td>4.1</td>\n",
       "      <td>4.1</td>\n",
       "      <td>4.2</td>\n",
       "      <td>See All 1,765 Reviews</td>\n",
       "      <td>Cornell is a private, Ivy League university re...</td>\n",
       "      <td>NaN</td>\n",
       "    </tr>\n",
       "    <tr>\n",
       "      <th>2</th>\n",
       "      <td>UC Santa Barbara</td>\n",
       "      <td>5001 to 10000 Employees</td>\n",
       "      <td>Santa Barbara, CA</td>\n",
       "      <td>Colleges &amp; Universities</td>\n",
       "      <td>4.5</td>\n",
       "      <td>4.2</td>\n",
       "      <td>4.3</td>\n",
       "      <td>4.4</td>\n",
       "      <td>4.1</td>\n",
       "      <td>3.7</td>\n",
       "      <td>4.0</td>\n",
       "      <td>See All 1,049 Reviews</td>\n",
       "      <td>Dude, let's hit the beach! And then we'll hit ...</td>\n",
       "      <td>NaN</td>\n",
       "    </tr>\n",
       "    <tr>\n",
       "      <th>3</th>\n",
       "      <td>UC Irvine</td>\n",
       "      <td>10000+ Employees</td>\n",
       "      <td>Irvine, CA</td>\n",
       "      <td>Colleges &amp; Universities</td>\n",
       "      <td>4.4</td>\n",
       "      <td>4.5</td>\n",
       "      <td>4.3</td>\n",
       "      <td>4.0</td>\n",
       "      <td>4.0</td>\n",
       "      <td>3.8</td>\n",
       "      <td>4.0</td>\n",
       "      <td>See All 1,398 Reviews</td>\n",
       "      <td>Sun, the beach, Nobel Prize winners, and a Sou...</td>\n",
       "      <td>NaN</td>\n",
       "    </tr>\n",
       "    <tr>\n",
       "      <th>4</th>\n",
       "      <td>Iowa State University</td>\n",
       "      <td>5001 to 10000 Employees</td>\n",
       "      <td>Ames, IA</td>\n",
       "      <td>Colleges &amp; Universities</td>\n",
       "      <td>4.4</td>\n",
       "      <td>4.2</td>\n",
       "      <td>4.2</td>\n",
       "      <td>4.2</td>\n",
       "      <td>4.0</td>\n",
       "      <td>3.8</td>\n",
       "      <td>3.9</td>\n",
       "      <td>See All 1,203 Reviews</td>\n",
       "      <td>Attending Iowa State University of Science and...</td>\n",
       "      <td>NaN</td>\n",
       "    </tr>\n",
       "  </tbody>\n",
       "</table>\n",
       "</div>"
      ],
      "text/plain": [
       "                    NAME                     SIZE        LOCATION_HQ  \\\n",
       "0     McKinsey & Company         10000+ Employees       New York, NY   \n",
       "1     Cornell University         10000+ Employees         Ithaca, NY   \n",
       "2       UC Santa Barbara  5001 to 10000 Employees  Santa Barbara, CA   \n",
       "3              UC Irvine         10000+ Employees         Irvine, CA   \n",
       "4  Iowa State University  5001 to 10000 Employees           Ames, IA   \n",
       "\n",
       "                  INDUSTRY  RATING_OVERALL  RATING_DI  RATING_CV  RATING_WL  \\\n",
       "0               Consulting             4.5        4.4        4.4        3.0   \n",
       "1  Colleges & Universities             4.5        4.3        4.4        4.0   \n",
       "2  Colleges & Universities             4.5        4.2        4.3        4.4   \n",
       "3  Colleges & Universities             4.4        4.5        4.3        4.0   \n",
       "4  Colleges & Universities             4.4        4.2        4.2        4.2   \n",
       "\n",
       "   RATING_SM  RATING_CB  RATING_CO            NUM_REVIEWS  \\\n",
       "0        4.1        4.4        4.5  See All 5,198 Reviews   \n",
       "1        4.1        4.1        4.2  See All 1,765 Reviews   \n",
       "2        4.1        3.7        4.0  See All 1,049 Reviews   \n",
       "3        4.0        3.8        4.0  See All 1,398 Reviews   \n",
       "4        4.0        3.8        3.9  See All 1,203 Reviews   \n",
       "\n",
       "                                         DESCRIPTION  \\\n",
       "0  We work with leaders across sectors to tackle ...   \n",
       "1  Cornell is a private, Ivy League university re...   \n",
       "2  Dude, let's hit the beach! And then we'll hit ...   \n",
       "3  Sun, the beach, Nobel Prize winners, and a Sou...   \n",
       "4  Attending Iowa State University of Science and...   \n",
       "\n",
       "                                             MISSION  \n",
       "0  Mission: Our mission is two-fold: to help our ...  \n",
       "1                                                NaN  \n",
       "2                                                NaN  \n",
       "3                                                NaN  \n",
       "4                                                NaN  "
      ]
     },
     "execution_count": 8,
     "metadata": {},
     "output_type": "execute_result"
    }
   ],
   "source": [
    "print('Shape: ', data.shape)\n",
    "data.head()"
   ]
  },
  {
   "cell_type": "code",
   "execution_count": 9,
   "metadata": {
    "ExecuteTime": {
     "end_time": "2021-02-09T04:49:12.596122Z",
     "start_time": "2021-02-09T04:49:12.591601Z"
    },
    "code_folding": [],
    "scrolled": true
   },
   "outputs": [],
   "source": [
    "# #Drop duplicate rows\n",
    "# data.drop_duplicates(inplace=True)\n",
    "\n",
    "# #Sanity Check\n",
    "# print('Length of data set: ',len(data))\n",
    "# print('Number of duplicates: ', data.duplicated().sum())"
   ]
  },
  {
   "cell_type": "code",
   "execution_count": 10,
   "metadata": {
    "ExecuteTime": {
     "end_time": "2021-02-09T04:49:13.381163Z",
     "start_time": "2021-02-09T04:49:13.359406Z"
    },
    "scrolled": false
   },
   "outputs": [
    {
     "name": "stdout",
     "output_type": "stream",
     "text": [
      "NaN values dropped from RATING_DI:  61\n",
      "NaN values dropped from DESCRIPTION:  27\n"
     ]
    }
   ],
   "source": [
    "#Drop null values from RATING_DI\n",
    "print('NaN values dropped from RATING_DI: ', data.RATING_DI.isna().sum())\n",
    "data.dropna(subset=['RATING_DI'], inplace=True)\n",
    "\n",
    "#Drop null values from DESCRIPTION\n",
    "print('NaN values dropped from DESCRIPTION: ', data.DESCRIPTION.isna().sum())\n",
    "data.dropna(subset=['DESCRIPTION'], inplace=True)\n"
   ]
  },
  {
   "cell_type": "code",
   "execution_count": 11,
   "metadata": {
    "ExecuteTime": {
     "end_time": "2021-02-09T04:49:14.517658Z",
     "start_time": "2021-02-09T04:49:14.485200Z"
    },
    "scrolled": true
   },
   "outputs": [
    {
     "data": {
      "text/html": [
       "<div>\n",
       "<style scoped>\n",
       "    .dataframe tbody tr th:only-of-type {\n",
       "        vertical-align: middle;\n",
       "    }\n",
       "\n",
       "    .dataframe tbody tr th {\n",
       "        vertical-align: top;\n",
       "    }\n",
       "\n",
       "    .dataframe thead th {\n",
       "        text-align: right;\n",
       "    }\n",
       "</style>\n",
       "<table border=\"1\" class=\"dataframe\">\n",
       "  <thead>\n",
       "    <tr style=\"text-align: right;\">\n",
       "      <th></th>\n",
       "      <th>NAME</th>\n",
       "      <th>SIZE</th>\n",
       "      <th>LOCATION_HQ</th>\n",
       "      <th>INDUSTRY</th>\n",
       "      <th>RATING_OVERALL</th>\n",
       "      <th>RATING_DI</th>\n",
       "      <th>RATING_CV</th>\n",
       "      <th>RATING_WL</th>\n",
       "      <th>RATING_SM</th>\n",
       "      <th>RATING_CB</th>\n",
       "      <th>RATING_CO</th>\n",
       "      <th>NUM_REVIEWS</th>\n",
       "      <th>DESCRIPTION</th>\n",
       "      <th>MISSION</th>\n",
       "    </tr>\n",
       "  </thead>\n",
       "  <tbody>\n",
       "    <tr>\n",
       "      <th>0</th>\n",
       "      <td>McKinsey &amp; Company</td>\n",
       "      <td>10000+ Employees</td>\n",
       "      <td>New York, NY</td>\n",
       "      <td>Consulting</td>\n",
       "      <td>4.5</td>\n",
       "      <td>4.4</td>\n",
       "      <td>4.4</td>\n",
       "      <td>3.0</td>\n",
       "      <td>4.1</td>\n",
       "      <td>4.4</td>\n",
       "      <td>4.5</td>\n",
       "      <td>See All 5,198 Reviews</td>\n",
       "      <td>We work with leaders across sectors to tackle ...</td>\n",
       "      <td>Mission: Our mission is two-fold: to help our ...</td>\n",
       "    </tr>\n",
       "    <tr>\n",
       "      <th>1</th>\n",
       "      <td>Cornell University</td>\n",
       "      <td>10000+ Employees</td>\n",
       "      <td>Ithaca, NY</td>\n",
       "      <td>Colleges &amp; Universities</td>\n",
       "      <td>4.5</td>\n",
       "      <td>4.3</td>\n",
       "      <td>4.4</td>\n",
       "      <td>4.0</td>\n",
       "      <td>4.1</td>\n",
       "      <td>4.1</td>\n",
       "      <td>4.2</td>\n",
       "      <td>See All 1,765 Reviews</td>\n",
       "      <td>Cornell is a private, Ivy League university re...</td>\n",
       "      <td>NaN</td>\n",
       "    </tr>\n",
       "    <tr>\n",
       "      <th>2</th>\n",
       "      <td>UC Santa Barbara</td>\n",
       "      <td>5001 to 10000 Employees</td>\n",
       "      <td>Santa Barbara, CA</td>\n",
       "      <td>Colleges &amp; Universities</td>\n",
       "      <td>4.5</td>\n",
       "      <td>4.2</td>\n",
       "      <td>4.3</td>\n",
       "      <td>4.4</td>\n",
       "      <td>4.1</td>\n",
       "      <td>3.7</td>\n",
       "      <td>4.0</td>\n",
       "      <td>See All 1,049 Reviews</td>\n",
       "      <td>Dude, let's hit the beach! And then we'll hit ...</td>\n",
       "      <td>NaN</td>\n",
       "    </tr>\n",
       "    <tr>\n",
       "      <th>3</th>\n",
       "      <td>UC Irvine</td>\n",
       "      <td>10000+ Employees</td>\n",
       "      <td>Irvine, CA</td>\n",
       "      <td>Colleges &amp; Universities</td>\n",
       "      <td>4.4</td>\n",
       "      <td>4.5</td>\n",
       "      <td>4.3</td>\n",
       "      <td>4.0</td>\n",
       "      <td>4.0</td>\n",
       "      <td>3.8</td>\n",
       "      <td>4.0</td>\n",
       "      <td>See All 1,398 Reviews</td>\n",
       "      <td>Sun, the beach, Nobel Prize winners, and a Sou...</td>\n",
       "      <td>NaN</td>\n",
       "    </tr>\n",
       "    <tr>\n",
       "      <th>4</th>\n",
       "      <td>Iowa State University</td>\n",
       "      <td>5001 to 10000 Employees</td>\n",
       "      <td>Ames, IA</td>\n",
       "      <td>Colleges &amp; Universities</td>\n",
       "      <td>4.4</td>\n",
       "      <td>4.2</td>\n",
       "      <td>4.2</td>\n",
       "      <td>4.2</td>\n",
       "      <td>4.0</td>\n",
       "      <td>3.8</td>\n",
       "      <td>3.9</td>\n",
       "      <td>See All 1,203 Reviews</td>\n",
       "      <td>Attending Iowa State University of Science and...</td>\n",
       "      <td>NaN</td>\n",
       "    </tr>\n",
       "  </tbody>\n",
       "</table>\n",
       "</div>"
      ],
      "text/plain": [
       "                    NAME                     SIZE        LOCATION_HQ  \\\n",
       "0     McKinsey & Company         10000+ Employees       New York, NY   \n",
       "1     Cornell University         10000+ Employees         Ithaca, NY   \n",
       "2       UC Santa Barbara  5001 to 10000 Employees  Santa Barbara, CA   \n",
       "3              UC Irvine         10000+ Employees         Irvine, CA   \n",
       "4  Iowa State University  5001 to 10000 Employees           Ames, IA   \n",
       "\n",
       "                  INDUSTRY  RATING_OVERALL  RATING_DI  RATING_CV  RATING_WL  \\\n",
       "0               Consulting             4.5        4.4        4.4        3.0   \n",
       "1  Colleges & Universities             4.5        4.3        4.4        4.0   \n",
       "2  Colleges & Universities             4.5        4.2        4.3        4.4   \n",
       "3  Colleges & Universities             4.4        4.5        4.3        4.0   \n",
       "4  Colleges & Universities             4.4        4.2        4.2        4.2   \n",
       "\n",
       "   RATING_SM  RATING_CB  RATING_CO            NUM_REVIEWS  \\\n",
       "0        4.1        4.4        4.5  See All 5,198 Reviews   \n",
       "1        4.1        4.1        4.2  See All 1,765 Reviews   \n",
       "2        4.1        3.7        4.0  See All 1,049 Reviews   \n",
       "3        4.0        3.8        4.0  See All 1,398 Reviews   \n",
       "4        4.0        3.8        3.9  See All 1,203 Reviews   \n",
       "\n",
       "                                         DESCRIPTION  \\\n",
       "0  We work with leaders across sectors to tackle ...   \n",
       "1  Cornell is a private, Ivy League university re...   \n",
       "2  Dude, let's hit the beach! And then we'll hit ...   \n",
       "3  Sun, the beach, Nobel Prize winners, and a Sou...   \n",
       "4  Attending Iowa State University of Science and...   \n",
       "\n",
       "                                             MISSION  \n",
       "0  Mission: Our mission is two-fold: to help our ...  \n",
       "1                                                NaN  \n",
       "2                                                NaN  \n",
       "3                                                NaN  \n",
       "4                                                NaN  "
      ]
     },
     "execution_count": 11,
     "metadata": {},
     "output_type": "execute_result"
    }
   ],
   "source": [
    "data.head()"
   ]
  },
  {
   "cell_type": "markdown",
   "metadata": {},
   "source": [
    "## Clean up NUM_REVIEWS\n",
    "- pull out numbers only"
   ]
  },
  {
   "cell_type": "code",
   "execution_count": 14,
   "metadata": {
    "ExecuteTime": {
     "end_time": "2021-02-09T04:49:40.403776Z",
     "start_time": "2021-02-09T04:49:40.394585Z"
    }
   },
   "outputs": [],
   "source": [
    "def get_digits(s):\n",
    "    #remove commas\n",
    "    exclude = set(string.punctuation)\n",
    "    s = ''.join(num for num in s if num not in exclude)\n",
    "\n",
    "    #return digits only\n",
    "    return s.split()[2]"
   ]
  },
  {
   "cell_type": "code",
   "execution_count": 15,
   "metadata": {
    "ExecuteTime": {
     "end_time": "2021-02-09T04:49:41.236627Z",
     "start_time": "2021-02-09T04:49:41.224258Z"
    }
   },
   "outputs": [],
   "source": [
    "#apply function to NUM_REVIEWS and change datatype to int\n",
    "data['NUM_REVIEWS'] = data['NUM_REVIEWS'].apply(get_digits).astype(int)"
   ]
  },
  {
   "cell_type": "markdown",
   "metadata": {},
   "source": [
    "**drop lower than 200 reviews**"
   ]
  },
  {
   "cell_type": "code",
   "execution_count": 52,
   "metadata": {
    "ExecuteTime": {
     "end_time": "2021-02-09T05:02:23.095099Z",
     "start_time": "2021-02-09T05:02:23.043472Z"
    },
    "collapsed": true
   },
   "outputs": [
    {
     "data": {
      "text/html": [
       "<div>\n",
       "<style scoped>\n",
       "    .dataframe tbody tr th:only-of-type {\n",
       "        vertical-align: middle;\n",
       "    }\n",
       "\n",
       "    .dataframe tbody tr th {\n",
       "        vertical-align: top;\n",
       "    }\n",
       "\n",
       "    .dataframe thead th {\n",
       "        text-align: right;\n",
       "    }\n",
       "</style>\n",
       "<table border=\"1\" class=\"dataframe\">\n",
       "  <thead>\n",
       "    <tr style=\"text-align: right;\">\n",
       "      <th></th>\n",
       "      <th>NAME</th>\n",
       "      <th>SIZE</th>\n",
       "      <th>LOCATION_HQ</th>\n",
       "      <th>INDUSTRY</th>\n",
       "      <th>RATING_OVERALL</th>\n",
       "      <th>RATING_DI</th>\n",
       "      <th>RATING_CV</th>\n",
       "      <th>RATING_WL</th>\n",
       "      <th>RATING_SM</th>\n",
       "      <th>RATING_CB</th>\n",
       "      <th>RATING_CO</th>\n",
       "      <th>NUM_REVIEWS</th>\n",
       "      <th>DESCRIPTION</th>\n",
       "      <th>MISSION</th>\n",
       "    </tr>\n",
       "  </thead>\n",
       "  <tbody>\n",
       "    <tr>\n",
       "      <th>470</th>\n",
       "      <td>Monarch Investment and Management Group\\nHirin...</td>\n",
       "      <td>1001 to 5000 Employees</td>\n",
       "      <td>Franktown, CO</td>\n",
       "      <td>Real Estate</td>\n",
       "      <td>4.6</td>\n",
       "      <td>4.7</td>\n",
       "      <td>4.5</td>\n",
       "      <td>4.5</td>\n",
       "      <td>4.3</td>\n",
       "      <td>4.5</td>\n",
       "      <td>4.4</td>\n",
       "      <td>162</td>\n",
       "      <td>Monarch Investment &amp; Management Group has been...</td>\n",
       "      <td>Mission: Monarch’s mission is to be the best m...</td>\n",
       "    </tr>\n",
       "    <tr>\n",
       "      <th>475</th>\n",
       "      <td>Ace Info Solutions</td>\n",
       "      <td>1001 to 5000 Employees</td>\n",
       "      <td>Reston, VA</td>\n",
       "      <td>IT Services</td>\n",
       "      <td>4.6</td>\n",
       "      <td>5.0</td>\n",
       "      <td>4.6</td>\n",
       "      <td>4.7</td>\n",
       "      <td>4.5</td>\n",
       "      <td>4.3</td>\n",
       "      <td>4.2</td>\n",
       "      <td>112</td>\n",
       "      <td>AceInfo, a Dovel company, is a trusted partner...</td>\n",
       "      <td>NaN</td>\n",
       "    </tr>\n",
       "    <tr>\n",
       "      <th>478</th>\n",
       "      <td>Advantest</td>\n",
       "      <td>1001 to 5000 Employees</td>\n",
       "      <td>Tokyo, Japan</td>\n",
       "      <td>Electrical &amp; Electronic Manufacturing</td>\n",
       "      <td>4.6</td>\n",
       "      <td>4.5</td>\n",
       "      <td>4.4</td>\n",
       "      <td>4.3</td>\n",
       "      <td>4.2</td>\n",
       "      <td>4.4</td>\n",
       "      <td>4.4</td>\n",
       "      <td>82</td>\n",
       "      <td>With a long term legacy of success, innovation...</td>\n",
       "      <td>NaN</td>\n",
       "    </tr>\n",
       "    <tr>\n",
       "      <th>479</th>\n",
       "      <td>BELAY\\nHiring Surge</td>\n",
       "      <td>1001 to 5000 Employees</td>\n",
       "      <td>Atlanta, GA</td>\n",
       "      <td>Staffing &amp; Outsourcing</td>\n",
       "      <td>4.6</td>\n",
       "      <td>4.4</td>\n",
       "      <td>4.7</td>\n",
       "      <td>4.7</td>\n",
       "      <td>4.6</td>\n",
       "      <td>4.2</td>\n",
       "      <td>4.1</td>\n",
       "      <td>187</td>\n",
       "      <td>As a leading US-based, virtual solutions compa...</td>\n",
       "      <td>NaN</td>\n",
       "    </tr>\n",
       "    <tr>\n",
       "      <th>488</th>\n",
       "      <td>Salk Institute</td>\n",
       "      <td>1001 to 5000 Employees</td>\n",
       "      <td>La Jolla, CA</td>\n",
       "      <td>Biotech &amp; Pharmaceuticals</td>\n",
       "      <td>4.6</td>\n",
       "      <td>4.5</td>\n",
       "      <td>4.5</td>\n",
       "      <td>4.1</td>\n",
       "      <td>4.1</td>\n",
       "      <td>3.8</td>\n",
       "      <td>4.4</td>\n",
       "      <td>164</td>\n",
       "      <td>The Salk Institute conducts its biological res...</td>\n",
       "      <td>Mission: Every cure has a starting point. Like...</td>\n",
       "    </tr>\n",
       "    <tr>\n",
       "      <th>...</th>\n",
       "      <td>...</td>\n",
       "      <td>...</td>\n",
       "      <td>...</td>\n",
       "      <td>...</td>\n",
       "      <td>...</td>\n",
       "      <td>...</td>\n",
       "      <td>...</td>\n",
       "      <td>...</td>\n",
       "      <td>...</td>\n",
       "      <td>...</td>\n",
       "      <td>...</td>\n",
       "      <td>...</td>\n",
       "      <td>...</td>\n",
       "      <td>...</td>\n",
       "    </tr>\n",
       "    <tr>\n",
       "      <th>1165</th>\n",
       "      <td>Cardinal Logistics Management</td>\n",
       "      <td>1001 to 5000 Employees</td>\n",
       "      <td>Concord, NC</td>\n",
       "      <td>Logistics &amp; Supply Chain</td>\n",
       "      <td>3.9</td>\n",
       "      <td>3.9</td>\n",
       "      <td>3.7</td>\n",
       "      <td>3.7</td>\n",
       "      <td>3.5</td>\n",
       "      <td>3.5</td>\n",
       "      <td>3.6</td>\n",
       "      <td>144</td>\n",
       "      <td>Cardinal Logistics Management sings a sweet so...</td>\n",
       "      <td>Mission: Cardinal’s mission is to remain the m...</td>\n",
       "    </tr>\n",
       "    <tr>\n",
       "      <th>1167</th>\n",
       "      <td>Jim 'N Nick's\\nPart of Roark Capital</td>\n",
       "      <td>1001 to 5000 Employees</td>\n",
       "      <td>Birmingham, AL</td>\n",
       "      <td>Casual Restaurants</td>\n",
       "      <td>3.9</td>\n",
       "      <td>4.1</td>\n",
       "      <td>4.1</td>\n",
       "      <td>3.4</td>\n",
       "      <td>3.7</td>\n",
       "      <td>3.5</td>\n",
       "      <td>3.5</td>\n",
       "      <td>134</td>\n",
       "      <td>Hey, we love barbecue. We love preparing it, w...</td>\n",
       "      <td>NaN</td>\n",
       "    </tr>\n",
       "    <tr>\n",
       "      <th>1168</th>\n",
       "      <td>Marquis Companies\\nHiring Surge</td>\n",
       "      <td>1001 to 5000 Employees</td>\n",
       "      <td>Portland, OR</td>\n",
       "      <td>Health Care Services &amp; Hospitals</td>\n",
       "      <td>3.9</td>\n",
       "      <td>3.7</td>\n",
       "      <td>4.0</td>\n",
       "      <td>3.4</td>\n",
       "      <td>3.6</td>\n",
       "      <td>3.1</td>\n",
       "      <td>3.8</td>\n",
       "      <td>126</td>\n",
       "      <td>Marquis Companies provides post acute rehab, l...</td>\n",
       "      <td>NaN</td>\n",
       "    </tr>\n",
       "    <tr>\n",
       "      <th>1182</th>\n",
       "      <td>OshKosh B'gosh</td>\n",
       "      <td>1001 to 5000 Employees</td>\n",
       "      <td>Atlanta, GA</td>\n",
       "      <td>Department, Clothing, &amp; Shoe Stores</td>\n",
       "      <td>3.9</td>\n",
       "      <td>4.7</td>\n",
       "      <td>3.9</td>\n",
       "      <td>4.4</td>\n",
       "      <td>3.7</td>\n",
       "      <td>3.1</td>\n",
       "      <td>3.2</td>\n",
       "      <td>155</td>\n",
       "      <td>Carter’s, Inc. owns the largest share of the $...</td>\n",
       "      <td>NaN</td>\n",
       "    </tr>\n",
       "    <tr>\n",
       "      <th>1184</th>\n",
       "      <td>Legg Mason</td>\n",
       "      <td>1001 to 5000 Employees</td>\n",
       "      <td>Baltimore, MD</td>\n",
       "      <td>Investment Banking &amp; Asset Management</td>\n",
       "      <td>3.9</td>\n",
       "      <td>4.0</td>\n",
       "      <td>3.8</td>\n",
       "      <td>4.1</td>\n",
       "      <td>3.4</td>\n",
       "      <td>4.0</td>\n",
       "      <td>3.1</td>\n",
       "      <td>195</td>\n",
       "      <td>Legg Mason has served investors for over 110 y...</td>\n",
       "      <td>NaN</td>\n",
       "    </tr>\n",
       "  </tbody>\n",
       "</table>\n",
       "<p>179 rows × 14 columns</p>\n",
       "</div>"
      ],
      "text/plain": [
       "                                                   NAME  \\\n",
       "470   Monarch Investment and Management Group\\nHirin...   \n",
       "475                                  Ace Info Solutions   \n",
       "478                                           Advantest   \n",
       "479                                 BELAY\\nHiring Surge   \n",
       "488                                      Salk Institute   \n",
       "...                                                 ...   \n",
       "1165                      Cardinal Logistics Management   \n",
       "1167               Jim 'N Nick's\\nPart of Roark Capital   \n",
       "1168                    Marquis Companies\\nHiring Surge   \n",
       "1182                                     OshKosh B'gosh   \n",
       "1184                                         Legg Mason   \n",
       "\n",
       "                        SIZE     LOCATION_HQ  \\\n",
       "470   1001 to 5000 Employees   Franktown, CO   \n",
       "475   1001 to 5000 Employees      Reston, VA   \n",
       "478   1001 to 5000 Employees    Tokyo, Japan   \n",
       "479   1001 to 5000 Employees     Atlanta, GA   \n",
       "488   1001 to 5000 Employees    La Jolla, CA   \n",
       "...                      ...             ...   \n",
       "1165  1001 to 5000 Employees     Concord, NC   \n",
       "1167  1001 to 5000 Employees  Birmingham, AL   \n",
       "1168  1001 to 5000 Employees    Portland, OR   \n",
       "1182  1001 to 5000 Employees     Atlanta, GA   \n",
       "1184  1001 to 5000 Employees   Baltimore, MD   \n",
       "\n",
       "                                   INDUSTRY  RATING_OVERALL  RATING_DI  \\\n",
       "470                             Real Estate             4.6        4.7   \n",
       "475                             IT Services             4.6        5.0   \n",
       "478   Electrical & Electronic Manufacturing             4.6        4.5   \n",
       "479                  Staffing & Outsourcing             4.6        4.4   \n",
       "488               Biotech & Pharmaceuticals             4.6        4.5   \n",
       "...                                     ...             ...        ...   \n",
       "1165               Logistics & Supply Chain             3.9        3.9   \n",
       "1167                     Casual Restaurants             3.9        4.1   \n",
       "1168       Health Care Services & Hospitals             3.9        3.7   \n",
       "1182    Department, Clothing, & Shoe Stores             3.9        4.7   \n",
       "1184  Investment Banking & Asset Management             3.9        4.0   \n",
       "\n",
       "      RATING_CV  RATING_WL  RATING_SM  RATING_CB  RATING_CO  NUM_REVIEWS  \\\n",
       "470         4.5        4.5        4.3        4.5        4.4          162   \n",
       "475         4.6        4.7        4.5        4.3        4.2          112   \n",
       "478         4.4        4.3        4.2        4.4        4.4           82   \n",
       "479         4.7        4.7        4.6        4.2        4.1          187   \n",
       "488         4.5        4.1        4.1        3.8        4.4          164   \n",
       "...         ...        ...        ...        ...        ...          ...   \n",
       "1165        3.7        3.7        3.5        3.5        3.6          144   \n",
       "1167        4.1        3.4        3.7        3.5        3.5          134   \n",
       "1168        4.0        3.4        3.6        3.1        3.8          126   \n",
       "1182        3.9        4.4        3.7        3.1        3.2          155   \n",
       "1184        3.8        4.1        3.4        4.0        3.1          195   \n",
       "\n",
       "                                            DESCRIPTION  \\\n",
       "470   Monarch Investment & Management Group has been...   \n",
       "475   AceInfo, a Dovel company, is a trusted partner...   \n",
       "478   With a long term legacy of success, innovation...   \n",
       "479   As a leading US-based, virtual solutions compa...   \n",
       "488   The Salk Institute conducts its biological res...   \n",
       "...                                                 ...   \n",
       "1165  Cardinal Logistics Management sings a sweet so...   \n",
       "1167  Hey, we love barbecue. We love preparing it, w...   \n",
       "1168  Marquis Companies provides post acute rehab, l...   \n",
       "1182  Carter’s, Inc. owns the largest share of the $...   \n",
       "1184  Legg Mason has served investors for over 110 y...   \n",
       "\n",
       "                                                MISSION  \n",
       "470   Mission: Monarch’s mission is to be the best m...  \n",
       "475                                                 NaN  \n",
       "478                                                 NaN  \n",
       "479                                                 NaN  \n",
       "488   Mission: Every cure has a starting point. Like...  \n",
       "...                                                 ...  \n",
       "1165  Mission: Cardinal’s mission is to remain the m...  \n",
       "1167                                                NaN  \n",
       "1168                                                NaN  \n",
       "1182                                                NaN  \n",
       "1184                                                NaN  \n",
       "\n",
       "[179 rows x 14 columns]"
      ]
     },
     "execution_count": 52,
     "metadata": {},
     "output_type": "execute_result"
    }
   ],
   "source": [
    "#removing companies with too few reviews\n",
    "df = data[(data['NUM_REVIEWS'] < 100)]\n",
    "df"
   ]
  },
  {
   "cell_type": "code",
   "execution_count": null,
   "metadata": {},
   "outputs": [],
   "source": []
  },
  {
   "cell_type": "code",
   "execution_count": null,
   "metadata": {},
   "outputs": [],
   "source": []
  },
  {
   "cell_type": "markdown",
   "metadata": {},
   "source": [
    "## Checking out Rating stats "
   ]
  },
  {
   "cell_type": "code",
   "execution_count": null,
   "metadata": {
    "ExecuteTime": {
     "end_time": "2021-02-09T01:49:03.849217Z",
     "start_time": "2021-02-09T01:49:01.993Z"
    },
    "scrolled": true
   },
   "outputs": [],
   "source": [
    "# Checking out rating stats\n",
    "data.describe()"
   ]
  },
  {
   "cell_type": "code",
   "execution_count": null,
   "metadata": {
    "ExecuteTime": {
     "end_time": "2021-02-09T01:49:03.882476Z",
     "start_time": "2021-02-09T01:49:01.996Z"
    }
   },
   "outputs": [],
   "source": [
    "data.RATING_DI.mean()"
   ]
  },
  {
   "cell_type": "code",
   "execution_count": null,
   "metadata": {},
   "outputs": [],
   "source": []
  },
  {
   "cell_type": "code",
   "execution_count": null,
   "metadata": {},
   "outputs": [],
   "source": []
  },
  {
   "cell_type": "code",
   "execution_count": null,
   "metadata": {},
   "outputs": [],
   "source": []
  },
  {
   "cell_type": "code",
   "execution_count": 19,
   "metadata": {
    "ExecuteTime": {
     "end_time": "2021-02-09T04:30:37.215000Z",
     "start_time": "2021-02-09T04:30:37.209132Z"
    }
   },
   "outputs": [],
   "source": [
    "def get_digits(s):\n",
    "    #remove commas\n",
    "    exclude = set(string.punctuation)\n",
    "    s = ''.join(num for num in s if num not in exclude)\n",
    "\n",
    "    #returs digits\n",
    "    res = [int(i) for i in s.split() if i.isdigit()]\n",
    "    return res"
   ]
  },
  {
   "cell_type": "code",
   "execution_count": 40,
   "metadata": {
    "ExecuteTime": {
     "end_time": "2021-02-09T04:34:13.053199Z",
     "start_time": "2021-02-09T04:34:13.049401Z"
    }
   },
   "outputs": [],
   "source": [
    "reviews = 'See All 1,203 Reviews'"
   ]
  },
  {
   "cell_type": "code",
   "execution_count": 41,
   "metadata": {
    "ExecuteTime": {
     "end_time": "2021-02-09T04:34:14.651106Z",
     "start_time": "2021-02-09T04:34:14.646140Z"
    }
   },
   "outputs": [],
   "source": [
    "exclude = set(string.punctuation)\n",
    "reviews = ''.join(num for num in reviews if num not in exclude)"
   ]
  },
  {
   "cell_type": "code",
   "execution_count": 42,
   "metadata": {
    "ExecuteTime": {
     "end_time": "2021-02-09T04:34:15.316712Z",
     "start_time": "2021-02-09T04:34:15.310426Z"
    }
   },
   "outputs": [
    {
     "data": {
      "text/plain": [
       "'See All 1203 Reviews'"
      ]
     },
     "execution_count": 42,
     "metadata": {},
     "output_type": "execute_result"
    }
   ],
   "source": [
    "reviews"
   ]
  },
  {
   "cell_type": "code",
   "execution_count": 43,
   "metadata": {
    "ExecuteTime": {
     "end_time": "2021-02-09T04:34:16.437781Z",
     "start_time": "2021-02-09T04:34:16.429513Z"
    }
   },
   "outputs": [
    {
     "data": {
      "text/plain": [
       "1203"
      ]
     },
     "execution_count": 43,
     "metadata": {},
     "output_type": "execute_result"
    }
   ],
   "source": [
    "##THIS:\n",
    "int(reviews.split()[2])"
   ]
  },
  {
   "cell_type": "code",
   "execution_count": 44,
   "metadata": {
    "ExecuteTime": {
     "end_time": "2021-02-09T04:34:17.579434Z",
     "start_time": "2021-02-09T04:34:17.572028Z"
    },
    "scrolled": true
   },
   "outputs": [
    {
     "ename": "SyntaxError",
     "evalue": "invalid syntax (<ipython-input-44-e8c47c6b8413>, line 2)",
     "output_type": "error",
     "traceback": [
      "\u001b[0;36m  File \u001b[0;32m\"<ipython-input-44-e8c47c6b8413>\"\u001b[0;36m, line \u001b[0;32m2\u001b[0m\n\u001b[0;31m    int(i) for i in reviews.split() if i.isdigit()\u001b[0m\n\u001b[0m             ^\u001b[0m\n\u001b[0;31mSyntaxError\u001b[0m\u001b[0;31m:\u001b[0m invalid syntax\n"
     ]
    }
   ],
   "source": [
    "##INSTEAD OF:\n",
    "int(i) for i in reviews.split() if i.isdigit()"
   ]
  },
  {
   "cell_type": "code",
   "execution_count": null,
   "metadata": {},
   "outputs": [],
   "source": []
  },
  {
   "cell_type": "code",
   "execution_count": 33,
   "metadata": {
    "ExecuteTime": {
     "end_time": "2021-02-09T04:32:53.272058Z",
     "start_time": "2021-02-09T04:32:53.260736Z"
    }
   },
   "outputs": [
    {
     "data": {
      "text/plain": [
       "[1203]"
      ]
     },
     "execution_count": 33,
     "metadata": {},
     "output_type": "execute_result"
    }
   ],
   "source": [
    "res = [int(i) for i in reviews.split() if i.isdigit()]\n",
    "res"
   ]
  },
  {
   "cell_type": "code",
   "execution_count": null,
   "metadata": {},
   "outputs": [],
   "source": []
  },
  {
   "cell_type": "code",
   "execution_count": 21,
   "metadata": {
    "ExecuteTime": {
     "end_time": "2021-02-09T04:30:49.526059Z",
     "start_time": "2021-02-09T04:30:49.519535Z"
    }
   },
   "outputs": [
    {
     "data": {
      "text/plain": [
       "[1203]"
      ]
     },
     "execution_count": 21,
     "metadata": {},
     "output_type": "execute_result"
    }
   ],
   "source": [
    "get_digits(reviews)"
   ]
  },
  {
   "cell_type": "code",
   "execution_count": null,
   "metadata": {},
   "outputs": [],
   "source": []
  },
  {
   "cell_type": "code",
   "execution_count": null,
   "metadata": {},
   "outputs": [],
   "source": []
  },
  {
   "cell_type": "code",
   "execution_count": null,
   "metadata": {},
   "outputs": [],
   "source": []
  },
  {
   "cell_type": "code",
   "execution_count": null,
   "metadata": {},
   "outputs": [],
   "source": []
  },
  {
   "cell_type": "code",
   "execution_count": null,
   "metadata": {},
   "outputs": [],
   "source": []
  },
  {
   "cell_type": "code",
   "execution_count": null,
   "metadata": {},
   "outputs": [],
   "source": []
  },
  {
   "cell_type": "code",
   "execution_count": null,
   "metadata": {},
   "outputs": [],
   "source": []
  },
  {
   "cell_type": "code",
   "execution_count": 40,
   "metadata": {
    "ExecuteTime": {
     "end_time": "2021-02-09T00:52:09.985179Z",
     "start_time": "2021-02-09T00:52:09.977624Z"
    }
   },
   "outputs": [
    {
     "data": {
      "text/plain": [
       "[1, 203]"
      ]
     },
     "execution_count": 40,
     "metadata": {},
     "output_type": "execute_result"
    }
   ],
   "source": [
    "res"
   ]
  },
  {
   "cell_type": "code",
   "execution_count": 39,
   "metadata": {
    "ExecuteTime": {
     "end_time": "2021-02-09T00:52:04.485215Z",
     "start_time": "2021-02-09T00:52:04.477523Z"
    }
   },
   "outputs": [],
   "source": [
    "temp = re.findall(r'\\d+', test_string) \n",
    "res = list(map(int, temp))"
   ]
  }
 ],
 "metadata": {
  "kernelspec": {
   "display_name": "Python 3",
   "language": "python",
   "name": "python3"
  },
  "language_info": {
   "codemirror_mode": {
    "name": "ipython",
    "version": 3
   },
   "file_extension": ".py",
   "mimetype": "text/x-python",
   "name": "python",
   "nbconvert_exporter": "python",
   "pygments_lexer": "ipython3",
   "version": "3.6.9"
  },
  "toc": {
   "base_numbering": 1,
   "nav_menu": {},
   "number_sections": true,
   "sideBar": true,
   "skip_h1_title": false,
   "title_cell": "Table of Contents",
   "title_sidebar": "Contents",
   "toc_cell": false,
   "toc_position": {},
   "toc_section_display": true,
   "toc_window_display": false
  }
 },
 "nbformat": 4,
 "nbformat_minor": 4
}
