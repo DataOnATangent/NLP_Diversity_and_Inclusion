{
 "cells": [
  {
   "cell_type": "code",
   "execution_count": 1,
   "metadata": {
    "ExecuteTime": {
     "end_time": "2021-02-10T04:15:19.884667Z",
     "start_time": "2021-02-10T04:15:18.163946Z"
    }
   },
   "outputs": [],
   "source": [
    "import pandas as pd\n",
    "import numpy as np\n",
    "import string\n",
    "\n",
    "pd.options.display.max_rows = 50"
   ]
  },
  {
   "cell_type": "markdown",
   "metadata": {},
   "source": [
    "## Cleaning CSV Files"
   ]
  },
  {
   "cell_type": "markdown",
   "metadata": {},
   "source": [
    "**Read in Data**"
   ]
  },
  {
   "cell_type": "code",
   "execution_count": 2,
   "metadata": {
    "ExecuteTime": {
     "end_time": "2021-02-10T04:15:20.084948Z",
     "start_time": "2021-02-10T04:15:19.893836Z"
    }
   },
   "outputs": [
    {
     "name": "stdout",
     "output_type": "stream",
     "text": [
      "Length of data set:  2395\n",
      "Number of duplicates:  883\n"
     ]
    }
   ],
   "source": [
    "df1 = pd.read_csv('data/glassdoor_ratings1_62.csv')\n",
    "df2 = pd.read_csv('data/glassdoor_ratings2_37.csv')\n",
    "df3 = pd.read_csv('data/glassdoor_ratings3_199.csv')\n",
    "df4 = pd.read_csv('data/glassdoor_ratings5_797.csv')\n",
    "df5 = pd.read_csv('data/glassdoor_ratings6_846.csv')\n",
    "df6 = pd.read_csv('data/glassdoor_ratings7_453.csv')\n",
    "\n",
    "#Combine data frames\n",
    "data = pd.concat([df1, df2, df3, df4, df5, df6])\n",
    "\n",
    "print('Length of data set: ',len(data))\n",
    "print('Number of duplicates: ', data['NAME'].duplicated().sum())"
   ]
  },
  {
   "cell_type": "markdown",
   "metadata": {},
   "source": [
    "### Clean indices and duplicates"
   ]
  },
  {
   "cell_type": "code",
   "execution_count": 3,
   "metadata": {
    "ExecuteTime": {
     "end_time": "2021-02-10T04:15:20.189952Z",
     "start_time": "2021-02-10T04:15:20.104228Z"
    },
    "scrolled": true
   },
   "outputs": [
    {
     "name": "stdout",
     "output_type": "stream",
     "text": [
      "(2395, 15)\n"
     ]
    },
    {
     "data": {
      "text/html": [
       "<div>\n",
       "<style scoped>\n",
       "    .dataframe tbody tr th:only-of-type {\n",
       "        vertical-align: middle;\n",
       "    }\n",
       "\n",
       "    .dataframe tbody tr th {\n",
       "        vertical-align: top;\n",
       "    }\n",
       "\n",
       "    .dataframe thead th {\n",
       "        text-align: right;\n",
       "    }\n",
       "</style>\n",
       "<table border=\"1\" class=\"dataframe\">\n",
       "  <thead>\n",
       "    <tr style=\"text-align: right;\">\n",
       "      <th></th>\n",
       "      <th>index</th>\n",
       "      <th>NAME</th>\n",
       "      <th>SIZE</th>\n",
       "      <th>LOCATION_HQ</th>\n",
       "      <th>INDUSTRY</th>\n",
       "      <th>RATING_OVERALL</th>\n",
       "      <th>RATING_DI</th>\n",
       "      <th>RATING_CV</th>\n",
       "      <th>RATING_WL</th>\n",
       "      <th>RATING_SM</th>\n",
       "      <th>RATING_CB</th>\n",
       "      <th>RATING_CO</th>\n",
       "      <th>NUM_REVIEWS</th>\n",
       "      <th>DESCRIPTION</th>\n",
       "      <th>MISSION</th>\n",
       "    </tr>\n",
       "  </thead>\n",
       "  <tbody>\n",
       "    <tr>\n",
       "      <th>0</th>\n",
       "      <td>0</td>\n",
       "      <td>Google</td>\n",
       "      <td>10000+ Employees</td>\n",
       "      <td>Mountain View, CA</td>\n",
       "      <td>Internet</td>\n",
       "      <td>4.5</td>\n",
       "      <td>4.4</td>\n",
       "      <td>4.4</td>\n",
       "      <td>4.3</td>\n",
       "      <td>4.1</td>\n",
       "      <td>4.5</td>\n",
       "      <td>4.3</td>\n",
       "      <td>See All 18,362 Reviews</td>\n",
       "      <td>NaN</td>\n",
       "      <td>NaN</td>\n",
       "    </tr>\n",
       "    <tr>\n",
       "      <th>1</th>\n",
       "      <td>1</td>\n",
       "      <td>Microsoft</td>\n",
       "      <td>10000+ Employees</td>\n",
       "      <td>Redmond, WA</td>\n",
       "      <td>Computer Hardware &amp; Software</td>\n",
       "      <td>4.4</td>\n",
       "      <td>4.4</td>\n",
       "      <td>4.3</td>\n",
       "      <td>4.1</td>\n",
       "      <td>4.0</td>\n",
       "      <td>4.1</td>\n",
       "      <td>4.1</td>\n",
       "      <td>See All 29,389 Reviews</td>\n",
       "      <td>Our drive to change the world unites us!\\n\\nMi...</td>\n",
       "      <td>NaN</td>\n",
       "    </tr>\n",
       "    <tr>\n",
       "      <th>2</th>\n",
       "      <td>2</td>\n",
       "      <td>Apple</td>\n",
       "      <td>10000+ Employees</td>\n",
       "      <td>Cupertino, CA</td>\n",
       "      <td>Computer Hardware &amp; Software</td>\n",
       "      <td>4.3</td>\n",
       "      <td>4.4</td>\n",
       "      <td>4.3</td>\n",
       "      <td>3.7</td>\n",
       "      <td>3.7</td>\n",
       "      <td>4.3</td>\n",
       "      <td>3.8</td>\n",
       "      <td>See All 20,851 Reviews</td>\n",
       "      <td>We’re a diverse collective of thinkers and doe...</td>\n",
       "      <td>NaN</td>\n",
       "    </tr>\n",
       "    <tr>\n",
       "      <th>3</th>\n",
       "      <td>3</td>\n",
       "      <td>US Air Force</td>\n",
       "      <td>10000+ Employees</td>\n",
       "      <td>Washington, DC</td>\n",
       "      <td>Federal Agencies</td>\n",
       "      <td>4.2</td>\n",
       "      <td>4.2</td>\n",
       "      <td>4.0</td>\n",
       "      <td>3.3</td>\n",
       "      <td>3.4</td>\n",
       "      <td>4.3</td>\n",
       "      <td>4.2</td>\n",
       "      <td>See All 16,600 Reviews</td>\n",
       "      <td>The mission of the US Department of the Air Fo...</td>\n",
       "      <td>NaN</td>\n",
       "    </tr>\n",
       "    <tr>\n",
       "      <th>4</th>\n",
       "      <td>4</td>\n",
       "      <td>Cisco Systems</td>\n",
       "      <td>10000+ Employees</td>\n",
       "      <td>San Jose, CA</td>\n",
       "      <td>Computer Hardware &amp; Software</td>\n",
       "      <td>4.2</td>\n",
       "      <td>4.3</td>\n",
       "      <td>4.3</td>\n",
       "      <td>4.2</td>\n",
       "      <td>3.8</td>\n",
       "      <td>4.1</td>\n",
       "      <td>3.9</td>\n",
       "      <td>See All 21,804 Reviews</td>\n",
       "      <td>#WeAreCisco, where each person is unique, but ...</td>\n",
       "      <td>Mission: Cisco wants you to bring your uniquen...</td>\n",
       "    </tr>\n",
       "  </tbody>\n",
       "</table>\n",
       "</div>"
      ],
      "text/plain": [
       "   index           NAME              SIZE        LOCATION_HQ  \\\n",
       "0      0         Google  10000+ Employees  Mountain View, CA   \n",
       "1      1      Microsoft  10000+ Employees        Redmond, WA   \n",
       "2      2          Apple  10000+ Employees      Cupertino, CA   \n",
       "3      3   US Air Force  10000+ Employees     Washington, DC   \n",
       "4      4  Cisco Systems  10000+ Employees       San Jose, CA   \n",
       "\n",
       "                       INDUSTRY  RATING_OVERALL  RATING_DI  RATING_CV  \\\n",
       "0                      Internet             4.5        4.4        4.4   \n",
       "1  Computer Hardware & Software             4.4        4.4        4.3   \n",
       "2  Computer Hardware & Software             4.3        4.4        4.3   \n",
       "3              Federal Agencies             4.2        4.2        4.0   \n",
       "4  Computer Hardware & Software             4.2        4.3        4.3   \n",
       "\n",
       "   RATING_WL  RATING_SM  RATING_CB  RATING_CO             NUM_REVIEWS  \\\n",
       "0        4.3        4.1        4.5        4.3  See All 18,362 Reviews   \n",
       "1        4.1        4.0        4.1        4.1  See All 29,389 Reviews   \n",
       "2        3.7        3.7        4.3        3.8  See All 20,851 Reviews   \n",
       "3        3.3        3.4        4.3        4.2  See All 16,600 Reviews   \n",
       "4        4.2        3.8        4.1        3.9  See All 21,804 Reviews   \n",
       "\n",
       "                                         DESCRIPTION  \\\n",
       "0                                                NaN   \n",
       "1  Our drive to change the world unites us!\\n\\nMi...   \n",
       "2  We’re a diverse collective of thinkers and doe...   \n",
       "3  The mission of the US Department of the Air Fo...   \n",
       "4  #WeAreCisco, where each person is unique, but ...   \n",
       "\n",
       "                                             MISSION  \n",
       "0                                                NaN  \n",
       "1                                                NaN  \n",
       "2                                                NaN  \n",
       "3                                                NaN  \n",
       "4  Mission: Cisco wants you to bring your uniquen...  "
      ]
     },
     "execution_count": 3,
     "metadata": {},
     "output_type": "execute_result"
    }
   ],
   "source": [
    "#Reset index to see all rows\n",
    "data.reset_index(inplace=True)\n",
    "\n",
    "#Check out dataframe\n",
    "print(data.shape)\n",
    "data.head()"
   ]
  },
  {
   "cell_type": "code",
   "execution_count": 4,
   "metadata": {
    "ExecuteTime": {
     "end_time": "2021-02-10T04:15:20.221421Z",
     "start_time": "2021-02-10T04:15:20.194960Z"
    },
    "scrolled": true
   },
   "outputs": [],
   "source": [
    "#Drop duplicate companies by 'NAME' - drops size from 1941 to 1188\n",
    "data.drop_duplicates(subset='NAME', keep='last', inplace=True)\n",
    "data = data.drop(['index'], axis=1)"
   ]
  },
  {
   "cell_type": "code",
   "execution_count": 5,
   "metadata": {
    "ExecuteTime": {
     "end_time": "2021-02-10T04:15:20.235098Z",
     "start_time": "2021-02-10T04:15:20.225313Z"
    }
   },
   "outputs": [
    {
     "name": "stdout",
     "output_type": "stream",
     "text": [
      "Shape:  (1512, 14)\n"
     ]
    }
   ],
   "source": [
    "#reset index to begin at 0\n",
    "data.reset_index(inplace=True)\n",
    "\n",
    "#drop extra indices\n",
    "# data = data.drop(['index', 'level_0'], axis=1)\n",
    "data = data.drop(['index'], axis=1)\n",
    "\n",
    "#Sanity Check\n",
    "print('Shape: ', data.shape)"
   ]
  },
  {
   "cell_type": "code",
   "execution_count": null,
   "metadata": {},
   "outputs": [],
   "source": []
  },
  {
   "cell_type": "markdown",
   "metadata": {},
   "source": [
    "### New column adding Description and Mission together "
   ]
  },
  {
   "cell_type": "code",
   "execution_count": 6,
   "metadata": {
    "ExecuteTime": {
     "end_time": "2021-02-10T04:15:20.289946Z",
     "start_time": "2021-02-10T04:15:20.244848Z"
    }
   },
   "outputs": [
    {
     "data": {
      "text/html": [
       "<div>\n",
       "<style scoped>\n",
       "    .dataframe tbody tr th:only-of-type {\n",
       "        vertical-align: middle;\n",
       "    }\n",
       "\n",
       "    .dataframe tbody tr th {\n",
       "        vertical-align: top;\n",
       "    }\n",
       "\n",
       "    .dataframe thead th {\n",
       "        text-align: right;\n",
       "    }\n",
       "</style>\n",
       "<table border=\"1\" class=\"dataframe\">\n",
       "  <thead>\n",
       "    <tr style=\"text-align: right;\">\n",
       "      <th></th>\n",
       "      <th>NAME</th>\n",
       "      <th>SIZE</th>\n",
       "      <th>LOCATION_HQ</th>\n",
       "      <th>INDUSTRY</th>\n",
       "      <th>RATING_OVERALL</th>\n",
       "      <th>RATING_DI</th>\n",
       "      <th>RATING_CV</th>\n",
       "      <th>RATING_WL</th>\n",
       "      <th>RATING_SM</th>\n",
       "      <th>RATING_CB</th>\n",
       "      <th>RATING_CO</th>\n",
       "      <th>NUM_REVIEWS</th>\n",
       "      <th>DESCRIPTION</th>\n",
       "      <th>MISSION</th>\n",
       "      <th>FULL_DESCRIPTION</th>\n",
       "    </tr>\n",
       "  </thead>\n",
       "  <tbody>\n",
       "    <tr>\n",
       "      <th>0</th>\n",
       "      <td>McKinsey &amp; Company</td>\n",
       "      <td>10000+ Employees</td>\n",
       "      <td>New York, NY</td>\n",
       "      <td>Consulting</td>\n",
       "      <td>4.5</td>\n",
       "      <td>4.4</td>\n",
       "      <td>4.4</td>\n",
       "      <td>3.0</td>\n",
       "      <td>4.1</td>\n",
       "      <td>4.4</td>\n",
       "      <td>4.5</td>\n",
       "      <td>See All 5,198 Reviews</td>\n",
       "      <td>We work with leaders across sectors to tackle ...</td>\n",
       "      <td>Mission: Our mission is two-fold: to help our ...</td>\n",
       "      <td>We work with leaders across sectors to tackle ...</td>\n",
       "    </tr>\n",
       "    <tr>\n",
       "      <th>1</th>\n",
       "      <td>Cornell University</td>\n",
       "      <td>10000+ Employees</td>\n",
       "      <td>Ithaca, NY</td>\n",
       "      <td>Colleges &amp; Universities</td>\n",
       "      <td>4.5</td>\n",
       "      <td>4.3</td>\n",
       "      <td>4.4</td>\n",
       "      <td>4.0</td>\n",
       "      <td>4.1</td>\n",
       "      <td>4.1</td>\n",
       "      <td>4.2</td>\n",
       "      <td>See All 1,765 Reviews</td>\n",
       "      <td>Cornell is a private, Ivy League university re...</td>\n",
       "      <td></td>\n",
       "      <td>Cornell is a private, Ivy League university re...</td>\n",
       "    </tr>\n",
       "    <tr>\n",
       "      <th>2</th>\n",
       "      <td>UC Santa Barbara</td>\n",
       "      <td>5001 to 10000 Employees</td>\n",
       "      <td>Santa Barbara, CA</td>\n",
       "      <td>Colleges &amp; Universities</td>\n",
       "      <td>4.5</td>\n",
       "      <td>4.2</td>\n",
       "      <td>4.3</td>\n",
       "      <td>4.4</td>\n",
       "      <td>4.1</td>\n",
       "      <td>3.7</td>\n",
       "      <td>4.0</td>\n",
       "      <td>See All 1,049 Reviews</td>\n",
       "      <td>Dude, let's hit the beach! And then we'll hit ...</td>\n",
       "      <td></td>\n",
       "      <td>Dude, let's hit the beach! And then we'll hit ...</td>\n",
       "    </tr>\n",
       "    <tr>\n",
       "      <th>3</th>\n",
       "      <td>UC Irvine</td>\n",
       "      <td>10000+ Employees</td>\n",
       "      <td>Irvine, CA</td>\n",
       "      <td>Colleges &amp; Universities</td>\n",
       "      <td>4.4</td>\n",
       "      <td>4.5</td>\n",
       "      <td>4.3</td>\n",
       "      <td>4.0</td>\n",
       "      <td>4.0</td>\n",
       "      <td>3.8</td>\n",
       "      <td>4.0</td>\n",
       "      <td>See All 1,398 Reviews</td>\n",
       "      <td>Sun, the beach, Nobel Prize winners, and a Sou...</td>\n",
       "      <td></td>\n",
       "      <td>Sun, the beach, Nobel Prize winners, and a Sou...</td>\n",
       "    </tr>\n",
       "    <tr>\n",
       "      <th>4</th>\n",
       "      <td>Iowa State University</td>\n",
       "      <td>5001 to 10000 Employees</td>\n",
       "      <td>Ames, IA</td>\n",
       "      <td>Colleges &amp; Universities</td>\n",
       "      <td>4.4</td>\n",
       "      <td>4.2</td>\n",
       "      <td>4.2</td>\n",
       "      <td>4.2</td>\n",
       "      <td>4.0</td>\n",
       "      <td>3.8</td>\n",
       "      <td>3.9</td>\n",
       "      <td>See All 1,203 Reviews</td>\n",
       "      <td>Attending Iowa State University of Science and...</td>\n",
       "      <td></td>\n",
       "      <td>Attending Iowa State University of Science and...</td>\n",
       "    </tr>\n",
       "  </tbody>\n",
       "</table>\n",
       "</div>"
      ],
      "text/plain": [
       "                    NAME                     SIZE        LOCATION_HQ  \\\n",
       "0     McKinsey & Company         10000+ Employees       New York, NY   \n",
       "1     Cornell University         10000+ Employees         Ithaca, NY   \n",
       "2       UC Santa Barbara  5001 to 10000 Employees  Santa Barbara, CA   \n",
       "3              UC Irvine         10000+ Employees         Irvine, CA   \n",
       "4  Iowa State University  5001 to 10000 Employees           Ames, IA   \n",
       "\n",
       "                  INDUSTRY  RATING_OVERALL  RATING_DI  RATING_CV  RATING_WL  \\\n",
       "0               Consulting             4.5        4.4        4.4        3.0   \n",
       "1  Colleges & Universities             4.5        4.3        4.4        4.0   \n",
       "2  Colleges & Universities             4.5        4.2        4.3        4.4   \n",
       "3  Colleges & Universities             4.4        4.5        4.3        4.0   \n",
       "4  Colleges & Universities             4.4        4.2        4.2        4.2   \n",
       "\n",
       "   RATING_SM  RATING_CB  RATING_CO            NUM_REVIEWS  \\\n",
       "0        4.1        4.4        4.5  See All 5,198 Reviews   \n",
       "1        4.1        4.1        4.2  See All 1,765 Reviews   \n",
       "2        4.1        3.7        4.0  See All 1,049 Reviews   \n",
       "3        4.0        3.8        4.0  See All 1,398 Reviews   \n",
       "4        4.0        3.8        3.9  See All 1,203 Reviews   \n",
       "\n",
       "                                         DESCRIPTION  \\\n",
       "0  We work with leaders across sectors to tackle ...   \n",
       "1  Cornell is a private, Ivy League university re...   \n",
       "2  Dude, let's hit the beach! And then we'll hit ...   \n",
       "3  Sun, the beach, Nobel Prize winners, and a Sou...   \n",
       "4  Attending Iowa State University of Science and...   \n",
       "\n",
       "                                             MISSION  \\\n",
       "0  Mission: Our mission is two-fold: to help our ...   \n",
       "1                                                      \n",
       "2                                                      \n",
       "3                                                      \n",
       "4                                                      \n",
       "\n",
       "                                    FULL_DESCRIPTION  \n",
       "0  We work with leaders across sectors to tackle ...  \n",
       "1  Cornell is a private, Ivy League university re...  \n",
       "2  Dude, let's hit the beach! And then we'll hit ...  \n",
       "3  Sun, the beach, Nobel Prize winners, and a Sou...  \n",
       "4  Attending Iowa State University of Science and...  "
      ]
     },
     "execution_count": 6,
     "metadata": {},
     "output_type": "execute_result"
    }
   ],
   "source": [
    "# change null values to ' '\n",
    "data['MISSION'].fillna(' ', inplace=True)\n",
    "data['DESCRIPTION'].fillna(' ', inplace=True)\n",
    "\n",
    "data['FULL_DESCRIPTION'] = np.add(data['DESCRIPTION'], data['MISSION'])\n",
    "\n",
    "data.head()"
   ]
  },
  {
   "cell_type": "code",
   "execution_count": 7,
   "metadata": {
    "ExecuteTime": {
     "end_time": "2021-02-10T04:15:20.304105Z",
     "start_time": "2021-02-10T04:15:20.299672Z"
    }
   },
   "outputs": [],
   "source": [
    "### WORK ON THIS ###\n",
    "# how to add a space before \"Mission:\"??"
   ]
  },
  {
   "cell_type": "markdown",
   "metadata": {},
   "source": [
    "### Clean up null values"
   ]
  },
  {
   "cell_type": "code",
   "execution_count": 8,
   "metadata": {
    "ExecuteTime": {
     "end_time": "2021-02-10T04:15:20.320798Z",
     "start_time": "2021-02-10T04:15:20.310857Z"
    }
   },
   "outputs": [],
   "source": [
    "#change '  ' to null values\n",
    "data['FULL_DESCRIPTION'] = data['FULL_DESCRIPTION'].mask(data['FULL_DESCRIPTION']== '  ')"
   ]
  },
  {
   "cell_type": "code",
   "execution_count": 9,
   "metadata": {
    "ExecuteTime": {
     "end_time": "2021-02-10T04:15:20.360601Z",
     "start_time": "2021-02-10T04:15:20.325423Z"
    },
    "scrolled": false
   },
   "outputs": [
    {
     "name": "stdout",
     "output_type": "stream",
     "text": [
      "NaN values dropped from RATING_DI:  63\n",
      "NaN values dropped from FULL_DESCRIPTION:  39\n"
     ]
    }
   ],
   "source": [
    "#Drop null values from RATING_DI\n",
    "print('NaN values dropped from RATING_DI: ', data.RATING_DI.isna().sum())\n",
    "data.dropna(subset=['RATING_DI'], inplace=True)\n",
    "\n",
    "#Drop null values from DESCRIPTION\n",
    "print('NaN values dropped from FULL_DESCRIPTION: ', data.FULL_DESCRIPTION.isna().sum())\n",
    "data.dropna(subset=['FULL_DESCRIPTION'], inplace=True)\n"
   ]
  },
  {
   "cell_type": "markdown",
   "metadata": {},
   "source": [
    "### Clean up NUM_REVIEWS\n",
    "- return numbers only"
   ]
  },
  {
   "cell_type": "code",
   "execution_count": 10,
   "metadata": {
    "ExecuteTime": {
     "end_time": "2021-02-10T04:15:20.384529Z",
     "start_time": "2021-02-10T04:15:20.374570Z"
    }
   },
   "outputs": [],
   "source": [
    "def get_digits(s):\n",
    "    #remove commas\n",
    "    exclude = set(string.punctuation)\n",
    "    s = ''.join(num for num in s if num not in exclude)\n",
    "\n",
    "    #return digits only\n",
    "    return s.split()[2]"
   ]
  },
  {
   "cell_type": "code",
   "execution_count": 11,
   "metadata": {
    "ExecuteTime": {
     "end_time": "2021-02-10T04:15:20.426303Z",
     "start_time": "2021-02-10T04:15:20.392336Z"
    }
   },
   "outputs": [],
   "source": [
    "#apply function to NUM_REVIEWS and change datatype to int\n",
    "data['NUM_REVIEWS'] = data['NUM_REVIEWS'].apply(get_digits).astype(int)"
   ]
  },
  {
   "cell_type": "code",
   "execution_count": 12,
   "metadata": {
    "ExecuteTime": {
     "end_time": "2021-02-10T04:15:20.446517Z",
     "start_time": "2021-02-10T04:15:20.434366Z"
    },
    "scrolled": true
   },
   "outputs": [],
   "source": [
    "#removing companies with too few reviews\n",
    "data = data[(data['NUM_REVIEWS'] > 100)]"
   ]
  },
  {
   "cell_type": "markdown",
   "metadata": {},
   "source": [
    "### New Column basted on RATING_DI"
   ]
  },
  {
   "cell_type": "markdown",
   "metadata": {},
   "source": [
    "**drop lower than xx reviews**"
   ]
  },
  {
   "cell_type": "code",
   "execution_count": 13,
   "metadata": {
    "ExecuteTime": {
     "end_time": "2021-02-10T04:15:20.601967Z",
     "start_time": "2021-02-10T04:15:20.454128Z"
    },
    "scrolled": false
   },
   "outputs": [
    {
     "data": {
      "text/html": [
       "<div>\n",
       "<style scoped>\n",
       "    .dataframe tbody tr th:only-of-type {\n",
       "        vertical-align: middle;\n",
       "    }\n",
       "\n",
       "    .dataframe tbody tr th {\n",
       "        vertical-align: top;\n",
       "    }\n",
       "\n",
       "    .dataframe thead th {\n",
       "        text-align: right;\n",
       "    }\n",
       "</style>\n",
       "<table border=\"1\" class=\"dataframe\">\n",
       "  <thead>\n",
       "    <tr style=\"text-align: right;\">\n",
       "      <th></th>\n",
       "      <th>RATING_OVERALL</th>\n",
       "      <th>RATING_DI</th>\n",
       "      <th>RATING_CV</th>\n",
       "      <th>RATING_WL</th>\n",
       "      <th>RATING_SM</th>\n",
       "      <th>RATING_CB</th>\n",
       "      <th>RATING_CO</th>\n",
       "      <th>NUM_REVIEWS</th>\n",
       "    </tr>\n",
       "  </thead>\n",
       "  <tbody>\n",
       "    <tr>\n",
       "      <th>count</th>\n",
       "      <td>1404.000000</td>\n",
       "      <td>1404.000000</td>\n",
       "      <td>1404.000000</td>\n",
       "      <td>1404.000000</td>\n",
       "      <td>1404.000000</td>\n",
       "      <td>1404.000000</td>\n",
       "      <td>1404.000000</td>\n",
       "      <td>1404.000000</td>\n",
       "    </tr>\n",
       "    <tr>\n",
       "      <th>mean</th>\n",
       "      <td>3.970869</td>\n",
       "      <td>4.031695</td>\n",
       "      <td>3.892949</td>\n",
       "      <td>3.755484</td>\n",
       "      <td>3.541667</td>\n",
       "      <td>3.733120</td>\n",
       "      <td>3.657835</td>\n",
       "      <td>1389.367521</td>\n",
       "    </tr>\n",
       "    <tr>\n",
       "      <th>std</th>\n",
       "      <td>0.316496</td>\n",
       "      <td>0.426927</td>\n",
       "      <td>0.392372</td>\n",
       "      <td>0.407912</td>\n",
       "      <td>0.404142</td>\n",
       "      <td>0.417601</td>\n",
       "      <td>0.379747</td>\n",
       "      <td>3042.118459</td>\n",
       "    </tr>\n",
       "    <tr>\n",
       "      <th>min</th>\n",
       "      <td>2.400000</td>\n",
       "      <td>1.000000</td>\n",
       "      <td>1.900000</td>\n",
       "      <td>1.700000</td>\n",
       "      <td>1.900000</td>\n",
       "      <td>2.300000</td>\n",
       "      <td>2.300000</td>\n",
       "      <td>101.000000</td>\n",
       "    </tr>\n",
       "    <tr>\n",
       "      <th>25%</th>\n",
       "      <td>3.800000</td>\n",
       "      <td>3.800000</td>\n",
       "      <td>3.700000</td>\n",
       "      <td>3.500000</td>\n",
       "      <td>3.300000</td>\n",
       "      <td>3.500000</td>\n",
       "      <td>3.400000</td>\n",
       "      <td>253.000000</td>\n",
       "    </tr>\n",
       "    <tr>\n",
       "      <th>50%</th>\n",
       "      <td>4.000000</td>\n",
       "      <td>4.100000</td>\n",
       "      <td>3.900000</td>\n",
       "      <td>3.800000</td>\n",
       "      <td>3.500000</td>\n",
       "      <td>3.800000</td>\n",
       "      <td>3.700000</td>\n",
       "      <td>530.000000</td>\n",
       "    </tr>\n",
       "    <tr>\n",
       "      <th>75%</th>\n",
       "      <td>4.200000</td>\n",
       "      <td>4.300000</td>\n",
       "      <td>4.100000</td>\n",
       "      <td>4.000000</td>\n",
       "      <td>3.800000</td>\n",
       "      <td>4.000000</td>\n",
       "      <td>3.900000</td>\n",
       "      <td>1509.500000</td>\n",
       "    </tr>\n",
       "    <tr>\n",
       "      <th>max</th>\n",
       "      <td>4.900000</td>\n",
       "      <td>5.000000</td>\n",
       "      <td>5.000000</td>\n",
       "      <td>4.900000</td>\n",
       "      <td>4.900000</td>\n",
       "      <td>4.900000</td>\n",
       "      <td>4.800000</td>\n",
       "      <td>74066.000000</td>\n",
       "    </tr>\n",
       "  </tbody>\n",
       "</table>\n",
       "</div>"
      ],
      "text/plain": [
       "       RATING_OVERALL    RATING_DI    RATING_CV    RATING_WL    RATING_SM  \\\n",
       "count     1404.000000  1404.000000  1404.000000  1404.000000  1404.000000   \n",
       "mean         3.970869     4.031695     3.892949     3.755484     3.541667   \n",
       "std          0.316496     0.426927     0.392372     0.407912     0.404142   \n",
       "min          2.400000     1.000000     1.900000     1.700000     1.900000   \n",
       "25%          3.800000     3.800000     3.700000     3.500000     3.300000   \n",
       "50%          4.000000     4.100000     3.900000     3.800000     3.500000   \n",
       "75%          4.200000     4.300000     4.100000     4.000000     3.800000   \n",
       "max          4.900000     5.000000     5.000000     4.900000     4.900000   \n",
       "\n",
       "         RATING_CB    RATING_CO   NUM_REVIEWS  \n",
       "count  1404.000000  1404.000000   1404.000000  \n",
       "mean      3.733120     3.657835   1389.367521  \n",
       "std       0.417601     0.379747   3042.118459  \n",
       "min       2.300000     2.300000    101.000000  \n",
       "25%       3.500000     3.400000    253.000000  \n",
       "50%       3.800000     3.700000    530.000000  \n",
       "75%       4.000000     3.900000   1509.500000  \n",
       "max       4.900000     4.800000  74066.000000  "
      ]
     },
     "execution_count": 13,
     "metadata": {},
     "output_type": "execute_result"
    }
   ],
   "source": [
    "# Checking out rating stats\n",
    "data.describe()"
   ]
  },
  {
   "cell_type": "code",
   "execution_count": 14,
   "metadata": {
    "ExecuteTime": {
     "end_time": "2021-02-10T04:15:20.638019Z",
     "start_time": "2021-02-10T04:15:20.611959Z"
    }
   },
   "outputs": [
    {
     "data": {
      "text/plain": [
       "4.031695156695156"
      ]
     },
     "execution_count": 14,
     "metadata": {},
     "output_type": "execute_result"
    }
   ],
   "source": [
    "data.RATING_DI.mean()"
   ]
  },
  {
   "cell_type": "code",
   "execution_count": 15,
   "metadata": {
    "ExecuteTime": {
     "end_time": "2021-02-10T04:15:20.673825Z",
     "start_time": "2021-02-10T04:15:20.656014Z"
    }
   },
   "outputs": [
    {
     "data": {
      "text/plain": [
       "725"
      ]
     },
     "execution_count": 15,
     "metadata": {},
     "output_type": "execute_result"
    }
   ],
   "source": [
    "len(data[(data['RATING_DI'] > 4.03)])"
   ]
  },
  {
   "cell_type": "code",
   "execution_count": 16,
   "metadata": {
    "ExecuteTime": {
     "end_time": "2021-02-10T04:15:20.700459Z",
     "start_time": "2021-02-10T04:15:20.685264Z"
    }
   },
   "outputs": [],
   "source": [
    "# New column for Target variable - companies with Diversity and Inclusion Rating over 4.0\n",
    "data['TARGET'] = np.where(data['RATING_DI'] > 4.0 , 1, 0)"
   ]
  },
  {
   "cell_type": "code",
   "execution_count": 17,
   "metadata": {
    "ExecuteTime": {
     "end_time": "2021-02-10T04:15:20.826083Z",
     "start_time": "2021-02-10T04:15:20.723950Z"
    },
    "scrolled": true
   },
   "outputs": [
    {
     "data": {
      "text/html": [
       "<div>\n",
       "<style scoped>\n",
       "    .dataframe tbody tr th:only-of-type {\n",
       "        vertical-align: middle;\n",
       "    }\n",
       "\n",
       "    .dataframe tbody tr th {\n",
       "        vertical-align: top;\n",
       "    }\n",
       "\n",
       "    .dataframe thead th {\n",
       "        text-align: right;\n",
       "    }\n",
       "</style>\n",
       "<table border=\"1\" class=\"dataframe\">\n",
       "  <thead>\n",
       "    <tr style=\"text-align: right;\">\n",
       "      <th></th>\n",
       "      <th>NAME</th>\n",
       "      <th>SIZE</th>\n",
       "      <th>LOCATION_HQ</th>\n",
       "      <th>INDUSTRY</th>\n",
       "      <th>RATING_OVERALL</th>\n",
       "      <th>RATING_DI</th>\n",
       "      <th>RATING_CV</th>\n",
       "      <th>RATING_WL</th>\n",
       "      <th>RATING_SM</th>\n",
       "      <th>RATING_CB</th>\n",
       "      <th>RATING_CO</th>\n",
       "      <th>NUM_REVIEWS</th>\n",
       "      <th>DESCRIPTION</th>\n",
       "      <th>MISSION</th>\n",
       "      <th>FULL_DESCRIPTION</th>\n",
       "      <th>TARGET</th>\n",
       "    </tr>\n",
       "  </thead>\n",
       "  <tbody>\n",
       "    <tr>\n",
       "      <th>0</th>\n",
       "      <td>McKinsey &amp; Company</td>\n",
       "      <td>10000+ Employees</td>\n",
       "      <td>New York, NY</td>\n",
       "      <td>Consulting</td>\n",
       "      <td>4.5</td>\n",
       "      <td>4.4</td>\n",
       "      <td>4.4</td>\n",
       "      <td>3.0</td>\n",
       "      <td>4.1</td>\n",
       "      <td>4.4</td>\n",
       "      <td>4.5</td>\n",
       "      <td>5198</td>\n",
       "      <td>We work with leaders across sectors to tackle ...</td>\n",
       "      <td>Mission: Our mission is two-fold: to help our ...</td>\n",
       "      <td>We work with leaders across sectors to tackle ...</td>\n",
       "      <td>1</td>\n",
       "    </tr>\n",
       "    <tr>\n",
       "      <th>1</th>\n",
       "      <td>Cornell University</td>\n",
       "      <td>10000+ Employees</td>\n",
       "      <td>Ithaca, NY</td>\n",
       "      <td>Colleges &amp; Universities</td>\n",
       "      <td>4.5</td>\n",
       "      <td>4.3</td>\n",
       "      <td>4.4</td>\n",
       "      <td>4.0</td>\n",
       "      <td>4.1</td>\n",
       "      <td>4.1</td>\n",
       "      <td>4.2</td>\n",
       "      <td>1765</td>\n",
       "      <td>Cornell is a private, Ivy League university re...</td>\n",
       "      <td></td>\n",
       "      <td>Cornell is a private, Ivy League university re...</td>\n",
       "      <td>1</td>\n",
       "    </tr>\n",
       "    <tr>\n",
       "      <th>2</th>\n",
       "      <td>UC Santa Barbara</td>\n",
       "      <td>5001 to 10000 Employees</td>\n",
       "      <td>Santa Barbara, CA</td>\n",
       "      <td>Colleges &amp; Universities</td>\n",
       "      <td>4.5</td>\n",
       "      <td>4.2</td>\n",
       "      <td>4.3</td>\n",
       "      <td>4.4</td>\n",
       "      <td>4.1</td>\n",
       "      <td>3.7</td>\n",
       "      <td>4.0</td>\n",
       "      <td>1049</td>\n",
       "      <td>Dude, let's hit the beach! And then we'll hit ...</td>\n",
       "      <td></td>\n",
       "      <td>Dude, let's hit the beach! And then we'll hit ...</td>\n",
       "      <td>1</td>\n",
       "    </tr>\n",
       "    <tr>\n",
       "      <th>3</th>\n",
       "      <td>UC Irvine</td>\n",
       "      <td>10000+ Employees</td>\n",
       "      <td>Irvine, CA</td>\n",
       "      <td>Colleges &amp; Universities</td>\n",
       "      <td>4.4</td>\n",
       "      <td>4.5</td>\n",
       "      <td>4.3</td>\n",
       "      <td>4.0</td>\n",
       "      <td>4.0</td>\n",
       "      <td>3.8</td>\n",
       "      <td>4.0</td>\n",
       "      <td>1398</td>\n",
       "      <td>Sun, the beach, Nobel Prize winners, and a Sou...</td>\n",
       "      <td></td>\n",
       "      <td>Sun, the beach, Nobel Prize winners, and a Sou...</td>\n",
       "      <td>1</td>\n",
       "    </tr>\n",
       "    <tr>\n",
       "      <th>4</th>\n",
       "      <td>Iowa State University</td>\n",
       "      <td>5001 to 10000 Employees</td>\n",
       "      <td>Ames, IA</td>\n",
       "      <td>Colleges &amp; Universities</td>\n",
       "      <td>4.4</td>\n",
       "      <td>4.2</td>\n",
       "      <td>4.2</td>\n",
       "      <td>4.2</td>\n",
       "      <td>4.0</td>\n",
       "      <td>3.8</td>\n",
       "      <td>3.9</td>\n",
       "      <td>1203</td>\n",
       "      <td>Attending Iowa State University of Science and...</td>\n",
       "      <td></td>\n",
       "      <td>Attending Iowa State University of Science and...</td>\n",
       "      <td>1</td>\n",
       "    </tr>\n",
       "    <tr>\n",
       "      <th>...</th>\n",
       "      <td>...</td>\n",
       "      <td>...</td>\n",
       "      <td>...</td>\n",
       "      <td>...</td>\n",
       "      <td>...</td>\n",
       "      <td>...</td>\n",
       "      <td>...</td>\n",
       "      <td>...</td>\n",
       "      <td>...</td>\n",
       "      <td>...</td>\n",
       "      <td>...</td>\n",
       "      <td>...</td>\n",
       "      <td>...</td>\n",
       "      <td>...</td>\n",
       "      <td>...</td>\n",
       "      <td>...</td>\n",
       "    </tr>\n",
       "    <tr>\n",
       "      <th>1507</th>\n",
       "      <td>dressbarn</td>\n",
       "      <td>10000+ Employees</td>\n",
       "      <td>Mahwah, NJ</td>\n",
       "      <td>Department, Clothing, &amp; Shoe Stores</td>\n",
       "      <td>3.8</td>\n",
       "      <td>2.7</td>\n",
       "      <td>3.7</td>\n",
       "      <td>3.6</td>\n",
       "      <td>3.0</td>\n",
       "      <td>3.0</td>\n",
       "      <td>2.8</td>\n",
       "      <td>781</td>\n",
       "      <td>At dressbarn, in everything we do, we inspire ...</td>\n",
       "      <td></td>\n",
       "      <td>At dressbarn, in everything we do, we inspire ...</td>\n",
       "      <td>0</td>\n",
       "    </tr>\n",
       "    <tr>\n",
       "      <th>1508</th>\n",
       "      <td>JLG Industries\\nPart of Oshkosh Corporation</td>\n",
       "      <td>1001 to 5000 Employees</td>\n",
       "      <td>Mc Connellsburg, PA</td>\n",
       "      <td>Industrial Manufacturing</td>\n",
       "      <td>3.9</td>\n",
       "      <td>3.2</td>\n",
       "      <td>4.0</td>\n",
       "      <td>3.6</td>\n",
       "      <td>3.3</td>\n",
       "      <td>4.1</td>\n",
       "      <td>3.8</td>\n",
       "      <td>211</td>\n",
       "      <td>JLG Industries, Inc. is the world’s leading de...</td>\n",
       "      <td></td>\n",
       "      <td>JLG Industries, Inc. is the world’s leading de...</td>\n",
       "      <td>0</td>\n",
       "    </tr>\n",
       "    <tr>\n",
       "      <th>1509</th>\n",
       "      <td>CallidusCloud\\nAcquired by SAP</td>\n",
       "      <td>1001 to 5000 Employees</td>\n",
       "      <td>Dublin, CA</td>\n",
       "      <td>Enterprise Software &amp; Network Solutions</td>\n",
       "      <td>3.8</td>\n",
       "      <td>4.7</td>\n",
       "      <td>3.7</td>\n",
       "      <td>3.5</td>\n",
       "      <td>3.4</td>\n",
       "      <td>3.7</td>\n",
       "      <td>3.6</td>\n",
       "      <td>270</td>\n",
       "      <td>CallidusCloud, now part of SAP, is the global ...</td>\n",
       "      <td></td>\n",
       "      <td>CallidusCloud, now part of SAP, is the global ...</td>\n",
       "      <td>1</td>\n",
       "    </tr>\n",
       "    <tr>\n",
       "      <th>1510</th>\n",
       "      <td>Chevron Phillips Chemical</td>\n",
       "      <td>5001 to 10000 Employees</td>\n",
       "      <td>The Woodlands, TX</td>\n",
       "      <td>Chemical Manufacturing</td>\n",
       "      <td>3.8</td>\n",
       "      <td>3.1</td>\n",
       "      <td>3.5</td>\n",
       "      <td>3.6</td>\n",
       "      <td>2.9</td>\n",
       "      <td>3.9</td>\n",
       "      <td>3.0</td>\n",
       "      <td>253</td>\n",
       "      <td>You may not realize it, but you’ve likely used...</td>\n",
       "      <td></td>\n",
       "      <td>You may not realize it, but you’ve likely used...</td>\n",
       "      <td>0</td>\n",
       "    </tr>\n",
       "    <tr>\n",
       "      <th>1511</th>\n",
       "      <td>Henkels &amp; McCoy</td>\n",
       "      <td>1001 to 5000 Employees</td>\n",
       "      <td>Blue Bell, PA</td>\n",
       "      <td>Construction</td>\n",
       "      <td>3.8</td>\n",
       "      <td>3.5</td>\n",
       "      <td>3.7</td>\n",
       "      <td>3.0</td>\n",
       "      <td>3.2</td>\n",
       "      <td>3.5</td>\n",
       "      <td>3.2</td>\n",
       "      <td>185</td>\n",
       "      <td>Founded in 1923, Henkels &amp; McCoy, Inc., is a p...</td>\n",
       "      <td></td>\n",
       "      <td>Founded in 1923, Henkels &amp; McCoy, Inc., is a p...</td>\n",
       "      <td>0</td>\n",
       "    </tr>\n",
       "  </tbody>\n",
       "</table>\n",
       "<p>1404 rows × 16 columns</p>\n",
       "</div>"
      ],
      "text/plain": [
       "                                             NAME                     SIZE  \\\n",
       "0                              McKinsey & Company         10000+ Employees   \n",
       "1                              Cornell University         10000+ Employees   \n",
       "2                                UC Santa Barbara  5001 to 10000 Employees   \n",
       "3                                       UC Irvine         10000+ Employees   \n",
       "4                           Iowa State University  5001 to 10000 Employees   \n",
       "...                                           ...                      ...   \n",
       "1507                                    dressbarn         10000+ Employees   \n",
       "1508  JLG Industries\\nPart of Oshkosh Corporation   1001 to 5000 Employees   \n",
       "1509               CallidusCloud\\nAcquired by SAP   1001 to 5000 Employees   \n",
       "1510                    Chevron Phillips Chemical  5001 to 10000 Employees   \n",
       "1511                              Henkels & McCoy   1001 to 5000 Employees   \n",
       "\n",
       "              LOCATION_HQ                                 INDUSTRY  \\\n",
       "0            New York, NY                               Consulting   \n",
       "1              Ithaca, NY                  Colleges & Universities   \n",
       "2       Santa Barbara, CA                  Colleges & Universities   \n",
       "3              Irvine, CA                  Colleges & Universities   \n",
       "4                Ames, IA                  Colleges & Universities   \n",
       "...                   ...                                      ...   \n",
       "1507           Mahwah, NJ      Department, Clothing, & Shoe Stores   \n",
       "1508  Mc Connellsburg, PA                 Industrial Manufacturing   \n",
       "1509           Dublin, CA  Enterprise Software & Network Solutions   \n",
       "1510    The Woodlands, TX                   Chemical Manufacturing   \n",
       "1511        Blue Bell, PA                             Construction   \n",
       "\n",
       "      RATING_OVERALL  RATING_DI  RATING_CV  RATING_WL  RATING_SM  RATING_CB  \\\n",
       "0                4.5        4.4        4.4        3.0        4.1        4.4   \n",
       "1                4.5        4.3        4.4        4.0        4.1        4.1   \n",
       "2                4.5        4.2        4.3        4.4        4.1        3.7   \n",
       "3                4.4        4.5        4.3        4.0        4.0        3.8   \n",
       "4                4.4        4.2        4.2        4.2        4.0        3.8   \n",
       "...              ...        ...        ...        ...        ...        ...   \n",
       "1507             3.8        2.7        3.7        3.6        3.0        3.0   \n",
       "1508             3.9        3.2        4.0        3.6        3.3        4.1   \n",
       "1509             3.8        4.7        3.7        3.5        3.4        3.7   \n",
       "1510             3.8        3.1        3.5        3.6        2.9        3.9   \n",
       "1511             3.8        3.5        3.7        3.0        3.2        3.5   \n",
       "\n",
       "      RATING_CO  NUM_REVIEWS  \\\n",
       "0           4.5         5198   \n",
       "1           4.2         1765   \n",
       "2           4.0         1049   \n",
       "3           4.0         1398   \n",
       "4           3.9         1203   \n",
       "...         ...          ...   \n",
       "1507        2.8          781   \n",
       "1508        3.8          211   \n",
       "1509        3.6          270   \n",
       "1510        3.0          253   \n",
       "1511        3.2          185   \n",
       "\n",
       "                                            DESCRIPTION  \\\n",
       "0     We work with leaders across sectors to tackle ...   \n",
       "1     Cornell is a private, Ivy League university re...   \n",
       "2     Dude, let's hit the beach! And then we'll hit ...   \n",
       "3     Sun, the beach, Nobel Prize winners, and a Sou...   \n",
       "4     Attending Iowa State University of Science and...   \n",
       "...                                                 ...   \n",
       "1507  At dressbarn, in everything we do, we inspire ...   \n",
       "1508  JLG Industries, Inc. is the world’s leading de...   \n",
       "1509  CallidusCloud, now part of SAP, is the global ...   \n",
       "1510  You may not realize it, but you’ve likely used...   \n",
       "1511  Founded in 1923, Henkels & McCoy, Inc., is a p...   \n",
       "\n",
       "                                                MISSION  \\\n",
       "0     Mission: Our mission is two-fold: to help our ...   \n",
       "1                                                         \n",
       "2                                                         \n",
       "3                                                         \n",
       "4                                                         \n",
       "...                                                 ...   \n",
       "1507                                                      \n",
       "1508                                                      \n",
       "1509                                                      \n",
       "1510                                                      \n",
       "1511                                                      \n",
       "\n",
       "                                       FULL_DESCRIPTION  TARGET  \n",
       "0     We work with leaders across sectors to tackle ...       1  \n",
       "1     Cornell is a private, Ivy League university re...       1  \n",
       "2     Dude, let's hit the beach! And then we'll hit ...       1  \n",
       "3     Sun, the beach, Nobel Prize winners, and a Sou...       1  \n",
       "4     Attending Iowa State University of Science and...       1  \n",
       "...                                                 ...     ...  \n",
       "1507  At dressbarn, in everything we do, we inspire ...       0  \n",
       "1508  JLG Industries, Inc. is the world’s leading de...       0  \n",
       "1509  CallidusCloud, now part of SAP, is the global ...       1  \n",
       "1510  You may not realize it, but you’ve likely used...       0  \n",
       "1511  Founded in 1923, Henkels & McCoy, Inc., is a p...       0  \n",
       "\n",
       "[1404 rows x 16 columns]"
      ]
     },
     "execution_count": 17,
     "metadata": {},
     "output_type": "execute_result"
    }
   ],
   "source": [
    "data"
   ]
  },
  {
   "cell_type": "markdown",
   "metadata": {},
   "source": [
    "## Save final CSV"
   ]
  },
  {
   "cell_type": "code",
   "execution_count": 18,
   "metadata": {
    "ExecuteTime": {
     "end_time": "2021-02-10T04:15:20.995051Z",
     "start_time": "2021-02-10T04:15:20.843425Z"
    }
   },
   "outputs": [],
   "source": [
    "data.to_csv('data/glassdoor_ratings_main.csv', index=False)"
   ]
  },
  {
   "cell_type": "code",
   "execution_count": null,
   "metadata": {},
   "outputs": [],
   "source": []
  }
 ],
 "metadata": {
  "kernelspec": {
   "display_name": "Python 3",
   "language": "python",
   "name": "python3"
  },
  "language_info": {
   "codemirror_mode": {
    "name": "ipython",
    "version": 3
   },
   "file_extension": ".py",
   "mimetype": "text/x-python",
   "name": "python",
   "nbconvert_exporter": "python",
   "pygments_lexer": "ipython3",
   "version": "3.6.9"
  },
  "toc": {
   "base_numbering": 1,
   "nav_menu": {},
   "number_sections": true,
   "sideBar": true,
   "skip_h1_title": false,
   "title_cell": "Table of Contents",
   "title_sidebar": "Contents",
   "toc_cell": false,
   "toc_position": {},
   "toc_section_display": true,
   "toc_window_display": false
  }
 },
 "nbformat": 4,
 "nbformat_minor": 4
}
