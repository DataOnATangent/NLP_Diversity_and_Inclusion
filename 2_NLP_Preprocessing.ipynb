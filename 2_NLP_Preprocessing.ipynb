{
 "cells": [
  {
   "cell_type": "code",
   "execution_count": 1,
   "metadata": {
    "ExecuteTime": {
     "end_time": "2021-02-17T06:22:06.962126Z",
     "start_time": "2021-02-17T06:22:05.180625Z"
    }
   },
   "outputs": [],
   "source": [
    "import pandas as pd\n",
    "import numpy as np\n",
    "import string, re\n",
    "\n",
    "import pickle\n",
    "pd.options.display.max_rows = 50"
   ]
  },
  {
   "cell_type": "code",
   "execution_count": 2,
   "metadata": {
    "ExecuteTime": {
     "end_time": "2021-02-17T06:22:09.982318Z",
     "start_time": "2021-02-17T06:22:06.966314Z"
    },
    "scrolled": true
   },
   "outputs": [],
   "source": [
    "import nltk\n",
    "import matplotlib.pyplot as plt\n",
    "import pandas as pd\n",
    "from sklearn.feature_extraction.text import CountVectorizer ## TEST\n",
    "from sklearn.feature_extraction.text import TfidfVectorizer ## TEST\n",
    "from sklearn.feature_extraction.text import TfidfTransformer\n",
    "from nltk.probability import FreqDist\n",
    "from nltk.corpus import stopwords ## TEST\n",
    "from nltk.stem import PorterStemmer\n",
    "from sklearn.metrics import confusion_matrix\n",
    "import seaborn as sns\n",
    "from sklearn.naive_bayes import MultinomialNB\n",
    "from sklearn import metrics\n",
    "from sklearn.model_selection import train_test_split\n",
    "from matplotlib import cm\n",
    "import numpy as np\n",
    "from sklearn.ensemble import RandomForestClassifier\n",
    "from sklearn.metrics import accuracy_score\n",
    "from sklearn.metrics import f1_score\n",
    "from sklearn.naive_bayes import MultinomialNB\n",
    "\n",
    "# nltk.download('stopwords') ##\n",
    "# nltk.download('punkt') ##\n",
    "# nltk.download('wordnet') ##"
   ]
  },
  {
   "cell_type": "code",
   "execution_count": 3,
   "metadata": {
    "ExecuteTime": {
     "end_time": "2021-02-17T06:22:09.994796Z",
     "start_time": "2021-02-17T06:22:09.987578Z"
    }
   },
   "outputs": [],
   "source": [
    "####CLEAN_DESCRIPTION - do I need this?\n",
    "# df_clean_description = pd.read_csv('data/df_clean_description.csv')\n",
    "# df_clean_description.head()\n"
   ]
  },
  {
   "cell_type": "code",
   "execution_count": 4,
   "metadata": {
    "ExecuteTime": {
     "end_time": "2021-02-17T06:22:10.426149Z",
     "start_time": "2021-02-17T06:22:10.003469Z"
    }
   },
   "outputs": [
    {
     "data": {
      "text/html": [
       "<div>\n",
       "<style scoped>\n",
       "    .dataframe tbody tr th:only-of-type {\n",
       "        vertical-align: middle;\n",
       "    }\n",
       "\n",
       "    .dataframe tbody tr th {\n",
       "        vertical-align: top;\n",
       "    }\n",
       "\n",
       "    .dataframe thead th {\n",
       "        text-align: right;\n",
       "    }\n",
       "</style>\n",
       "<table border=\"1\" class=\"dataframe\">\n",
       "  <thead>\n",
       "    <tr style=\"text-align: right;\">\n",
       "      <th></th>\n",
       "      <th>SIZE</th>\n",
       "      <th>LOCATION_HQ</th>\n",
       "      <th>INDUSTRY</th>\n",
       "      <th>RATING_OVERALL</th>\n",
       "      <th>RATING_DI</th>\n",
       "      <th>RATING_CV</th>\n",
       "      <th>RATING_WL</th>\n",
       "      <th>RATING_SM</th>\n",
       "      <th>RATING_CB</th>\n",
       "      <th>RATING_CO</th>\n",
       "      <th>NUM_REVIEWS</th>\n",
       "      <th>DESCRIPTION</th>\n",
       "      <th>MISSION</th>\n",
       "      <th>FULL_DESCRIPTION</th>\n",
       "      <th>DESC_LEN</th>\n",
       "      <th>RATING_DI_BIN</th>\n",
       "      <th>SIZE_BIN</th>\n",
       "      <th>HQ_STATE</th>\n",
       "      <th>TARGET</th>\n",
       "    </tr>\n",
       "  </thead>\n",
       "  <tbody>\n",
       "    <tr>\n",
       "      <th>0</th>\n",
       "      <td>10000+ Employees</td>\n",
       "      <td>New York, NY</td>\n",
       "      <td>Consulting</td>\n",
       "      <td>4.5</td>\n",
       "      <td>4.4</td>\n",
       "      <td>4.4</td>\n",
       "      <td>3.0</td>\n",
       "      <td>4.1</td>\n",
       "      <td>4.4</td>\n",
       "      <td>4.5</td>\n",
       "      <td>5198</td>\n",
       "      <td>We work with leaders across sectors to tackle ...</td>\n",
       "      <td>Mission: Our mission is two-fold: to help our ...</td>\n",
       "      <td>We work with leaders across sectors to tackle ...</td>\n",
       "      <td>1383</td>\n",
       "      <td>4</td>\n",
       "      <td>4.0</td>\n",
       "      <td>NY</td>\n",
       "      <td>1</td>\n",
       "    </tr>\n",
       "    <tr>\n",
       "      <th>1</th>\n",
       "      <td>10000+ Employees</td>\n",
       "      <td>Ithaca, NY</td>\n",
       "      <td>Colleges &amp; Universities</td>\n",
       "      <td>4.5</td>\n",
       "      <td>4.3</td>\n",
       "      <td>4.4</td>\n",
       "      <td>4.0</td>\n",
       "      <td>4.1</td>\n",
       "      <td>4.1</td>\n",
       "      <td>4.2</td>\n",
       "      <td>1765</td>\n",
       "      <td>Cornell is a private, Ivy League university re...</td>\n",
       "      <td></td>\n",
       "      <td>Cornell is a private, Ivy League university re...</td>\n",
       "      <td>618</td>\n",
       "      <td>4</td>\n",
       "      <td>4.0</td>\n",
       "      <td>NY</td>\n",
       "      <td>1</td>\n",
       "    </tr>\n",
       "    <tr>\n",
       "      <th>2</th>\n",
       "      <td>5001 to 10000 Employees</td>\n",
       "      <td>Santa Barbara, CA</td>\n",
       "      <td>Colleges &amp; Universities</td>\n",
       "      <td>4.5</td>\n",
       "      <td>4.2</td>\n",
       "      <td>4.3</td>\n",
       "      <td>4.4</td>\n",
       "      <td>4.1</td>\n",
       "      <td>3.7</td>\n",
       "      <td>4.0</td>\n",
       "      <td>1049</td>\n",
       "      <td>Dude, let's hit the beach! And then we'll hit ...</td>\n",
       "      <td></td>\n",
       "      <td>Dude, let's hit the beach! And then we'll hit ...</td>\n",
       "      <td>654</td>\n",
       "      <td>4</td>\n",
       "      <td>3.0</td>\n",
       "      <td>CA</td>\n",
       "      <td>1</td>\n",
       "    </tr>\n",
       "  </tbody>\n",
       "</table>\n",
       "</div>"
      ],
      "text/plain": [
       "                      SIZE        LOCATION_HQ                 INDUSTRY  \\\n",
       "0         10000+ Employees       New York, NY               Consulting   \n",
       "1         10000+ Employees         Ithaca, NY  Colleges & Universities   \n",
       "2  5001 to 10000 Employees  Santa Barbara, CA  Colleges & Universities   \n",
       "\n",
       "   RATING_OVERALL  RATING_DI  RATING_CV  RATING_WL  RATING_SM  RATING_CB  \\\n",
       "0             4.5        4.4        4.4        3.0        4.1        4.4   \n",
       "1             4.5        4.3        4.4        4.0        4.1        4.1   \n",
       "2             4.5        4.2        4.3        4.4        4.1        3.7   \n",
       "\n",
       "   RATING_CO  NUM_REVIEWS                                        DESCRIPTION  \\\n",
       "0        4.5         5198  We work with leaders across sectors to tackle ...   \n",
       "1        4.2         1765  Cornell is a private, Ivy League university re...   \n",
       "2        4.0         1049  Dude, let's hit the beach! And then we'll hit ...   \n",
       "\n",
       "                                             MISSION  \\\n",
       "0  Mission: Our mission is two-fold: to help our ...   \n",
       "1                                                      \n",
       "2                                                      \n",
       "\n",
       "                                    FULL_DESCRIPTION  DESC_LEN  RATING_DI_BIN  \\\n",
       "0  We work with leaders across sectors to tackle ...      1383              4   \n",
       "1  Cornell is a private, Ivy League university re...       618              4   \n",
       "2  Dude, let's hit the beach! And then we'll hit ...       654              4   \n",
       "\n",
       "   SIZE_BIN HQ_STATE  TARGET  \n",
       "0       4.0       NY       1  \n",
       "1       4.0       NY       1  \n",
       "2       3.0       CA       1  "
      ]
     },
     "execution_count": 4,
     "metadata": {},
     "output_type": "execute_result"
    }
   ],
   "source": [
    "#Entire dataframe \n",
    "df = pd.read_csv('data/glassdoor_ratings_main.csv') \n",
    "df.head(3)"
   ]
  },
  {
   "cell_type": "markdown",
   "metadata": {
    "ExecuteTime": {
     "end_time": "2021-02-09T21:04:33.874949Z",
     "start_time": "2021-02-09T21:04:33.871450Z"
    },
    "heading_collapsed": true
   },
   "source": [
    "## TESTING"
   ]
  },
  {
   "cell_type": "markdown",
   "metadata": {
    "hidden": true
   },
   "source": [
    "### Preprocessing TEST"
   ]
  },
  {
   "cell_type": "markdown",
   "metadata": {
    "hidden": true
   },
   "source": [
    "#### Tokenization"
   ]
  },
  {
   "cell_type": "markdown",
   "metadata": {
    "hidden": true
   },
   "source": [
    "Tokenization is the process of splitting documents into units of observations. We usually represent the tokens as n-gram, where n represent the consecutive words occuring in a document. In the case of unigram (one word token), the sentence \"David works here\" can be tokenized into?\n",
    "\n",
    "\"David\", \"works\", \"here\" \"David works\", \"works here\""
   ]
  },
  {
   "cell_type": "code",
   "execution_count": 5,
   "metadata": {
    "ExecuteTime": {
     "end_time": "2021-02-17T06:22:10.474368Z",
     "start_time": "2021-02-17T06:22:10.451910Z"
    },
    "hidden": true,
    "scrolled": true
   },
   "outputs": [
    {
     "data": {
      "text/plain": [
       "'mission: our mission is two-fold: to help our clients make distinctive, lasting, and substantial improvements in their performance; and to build a firm that attracts, develops, excites, and retains exceptional people. these elements are strongly connected. helping clients solve their toughest problems requires the best people, and the best people are drawn to work that matters, together with supportive, dedicated colleagues.'"
      ]
     },
     "execution_count": 5,
     "metadata": {},
     "output_type": "execute_result"
    }
   ],
   "source": [
    "description = df.iloc[0, 12].lower()\n",
    "description"
   ]
  },
  {
   "cell_type": "code",
   "execution_count": 6,
   "metadata": {
    "ExecuteTime": {
     "end_time": "2021-02-17T06:22:10.500776Z",
     "start_time": "2021-02-17T06:22:10.492824Z"
    },
    "hidden": true
   },
   "outputs": [],
   "source": [
    "from nltk.tokenize import RegexpTokenizer\n",
    "\n",
    "tokenizer = RegexpTokenizer(r'[a-zA-Z0-9]+')\n",
    "\n",
    "tokenized_description = tokenizer.tokenize(description)"
   ]
  },
  {
   "cell_type": "code",
   "execution_count": 7,
   "metadata": {
    "ExecuteTime": {
     "end_time": "2021-02-17T06:22:10.519251Z",
     "start_time": "2021-02-17T06:22:10.510000Z"
    },
    "hidden": true
   },
   "outputs": [
    {
     "name": "stdout",
     "output_type": "stream",
     "text": [
      "<FreqDist with 47 samples and 62 outcomes>\n"
     ]
    }
   ],
   "source": [
    "fdist = FreqDist(tokenized_description)\n",
    "print(fdist)"
   ]
  },
  {
   "cell_type": "code",
   "execution_count": 8,
   "metadata": {
    "ExecuteTime": {
     "end_time": "2021-02-17T06:22:11.115275Z",
     "start_time": "2021-02-17T06:22:10.529998Z"
    },
    "hidden": true
   },
   "outputs": [
    {
     "data": {
      "image/png": "[encoded data removed]",
      "text/plain": [
       "<Figure size 432x288 with 1 Axes>"
      ]
     },
     "metadata": {
      "needs_background": "light"
     },
     "output_type": "display_data"
    },
    {
     "data": {
      "text/plain": [
       "<matplotlib.axes._subplots.AxesSubplot at 0x7fc854813470>"
      ]
     },
     "execution_count": 8,
     "metadata": {},
     "output_type": "execute_result"
    }
   ],
   "source": [
    "#should I remove capital letters?\n",
    "plt.figure()\n",
    "fdist.plot(30)"
   ]
  },
  {
   "cell_type": "markdown",
   "metadata": {
    "hidden": true
   },
   "source": [
    "#### Stop Words"
   ]
  },
  {
   "cell_type": "code",
   "execution_count": 9,
   "metadata": {
    "ExecuteTime": {
     "end_time": "2021-02-17T06:22:11.149698Z",
     "start_time": "2021-02-17T06:22:11.125567Z"
    },
    "hidden": true
   },
   "outputs": [],
   "source": [
    "## automatic stop words, but you can add your own words as well\n",
    "stop_words=set(stopwords.words(\"english\")) "
   ]
  },
  {
   "cell_type": "code",
   "execution_count": 10,
   "metadata": {
    "ExecuteTime": {
     "end_time": "2021-02-17T06:22:11.199895Z",
     "start_time": "2021-02-17T06:22:11.168726Z"
    },
    "hidden": true
   },
   "outputs": [
    {
     "name": "stdout",
     "output_type": "stream",
     "text": [
      "Filterd Sentence: ['mission', 'mission', 'two', 'fold', 'help', 'clients', 'make', 'distinctive', 'lasting', 'substantial', 'improvements', 'performance', 'build', 'firm', 'attracts', 'develops', 'excites', 'retains', 'exceptional', 'people', 'elements', 'strongly', 'connected', 'helping', 'clients', 'solve', 'toughest', 'problems', 'requires', 'best', 'people', 'best', 'people', 'drawn', 'work', 'matters', 'together', 'supportive', 'dedicated', 'colleagues']\n"
     ]
    }
   ],
   "source": [
    "filtered_description=[]\n",
    "for w in tokenized_description:\n",
    "    if w not in stop_words:\n",
    "        filtered_description.append(w)\n",
    "print(\"Filterd Sentence:\",filtered_description)"
   ]
  },
  {
   "cell_type": "code",
   "execution_count": 11,
   "metadata": {
    "ExecuteTime": {
     "end_time": "2021-02-17T06:22:11.230239Z",
     "start_time": "2021-02-17T06:22:11.211551Z"
    },
    "hidden": true
   },
   "outputs": [
    {
     "name": "stdout",
     "output_type": "stream",
     "text": [
      "62\n",
      "40\n"
     ]
    }
   ],
   "source": [
    "## After filtering words, words are now in half\n",
    "print(len(tokenized_description))\n",
    "print(len(filtered_description))"
   ]
  },
  {
   "cell_type": "code",
   "execution_count": 12,
   "metadata": {
    "ExecuteTime": {
     "end_time": "2021-02-17T06:22:11.862349Z",
     "start_time": "2021-02-17T06:22:11.239581Z"
    },
    "hidden": true
   },
   "outputs": [
    {
     "data": {
      "image/png": "[encoded data removed]",
      "text/plain": [
       "<Figure size 432x288 with 1 Axes>"
      ]
     },
     "metadata": {
      "needs_background": "light"
     },
     "output_type": "display_data"
    },
    {
     "data": {
      "text/plain": [
       "<matplotlib.axes._subplots.AxesSubplot at 0x7fc84fbbaa58>"
      ]
     },
     "execution_count": 12,
     "metadata": {},
     "output_type": "execute_result"
    }
   ],
   "source": [
    "fdist = FreqDist(filtered_description)\n",
    "plt.figure()\n",
    "fdist.plot(20)"
   ]
  },
  {
   "cell_type": "markdown",
   "metadata": {
    "hidden": true
   },
   "source": [
    "#### Stemming"
   ]
  },
  {
   "cell_type": "code",
   "execution_count": 13,
   "metadata": {
    "ExecuteTime": {
     "end_time": "2021-02-17T06:22:11.896879Z",
     "start_time": "2021-02-17T06:22:11.870001Z"
    },
    "hidden": true
   },
   "outputs": [],
   "source": [
    "from nltk.stem import PorterStemmer"
   ]
  },
  {
   "cell_type": "code",
   "execution_count": 14,
   "metadata": {
    "ExecuteTime": {
     "end_time": "2021-02-17T06:22:11.949192Z",
     "start_time": "2021-02-17T06:22:11.927116Z"
    },
    "hidden": true,
    "scrolled": true
   },
   "outputs": [
    {
     "data": {
      "text/plain": [
       "['mission',\n",
       " 'mission',\n",
       " 'two',\n",
       " 'fold',\n",
       " 'help',\n",
       " 'clients',\n",
       " 'make',\n",
       " 'distinctive',\n",
       " 'lasting',\n",
       " 'substantial',\n",
       " 'improvements',\n",
       " 'performance',\n",
       " 'build',\n",
       " 'firm',\n",
       " 'attracts',\n",
       " 'develops',\n",
       " 'excites',\n",
       " 'retains',\n",
       " 'exceptional',\n",
       " 'people',\n",
       " 'elements',\n",
       " 'strongly',\n",
       " 'connected',\n",
       " 'helping',\n",
       " 'clients',\n",
       " 'solve',\n",
       " 'toughest',\n",
       " 'problems',\n",
       " 'requires',\n",
       " 'best',\n",
       " 'people',\n",
       " 'best',\n",
       " 'people',\n",
       " 'drawn',\n",
       " 'work',\n",
       " 'matters',\n",
       " 'together',\n",
       " 'supportive',\n",
       " 'dedicated',\n",
       " 'colleagues']"
      ]
     },
     "execution_count": 14,
     "metadata": {},
     "output_type": "execute_result"
    }
   ],
   "source": [
    "filtered_description"
   ]
  },
  {
   "cell_type": "code",
   "execution_count": 15,
   "metadata": {
    "ExecuteTime": {
     "end_time": "2021-02-17T06:22:11.987042Z",
     "start_time": "2021-02-17T06:22:11.956154Z"
    },
    "hidden": true
   },
   "outputs": [
    {
     "name": "stdout",
     "output_type": "stream",
     "text": [
      "['mission', 'mission', 'two', 'fold', 'help', 'client', 'make', 'distinct', 'last', 'substanti', 'improv', 'perform', 'build', 'firm', 'attract', 'develop', 'excit', 'retain', 'except', 'peopl', 'element', 'strongli', 'connect', 'help', 'client', 'solv', 'toughest', 'problem', 'requir', 'best', 'peopl', 'best', 'peopl', 'drawn', 'work', 'matter', 'togeth', 'support', 'dedic', 'colleagu']\n"
     ]
    }
   ],
   "source": [
    "ps = PorterStemmer()\n",
    "\n",
    "stemmed_description=[]\n",
    "for w in filtered_description:\n",
    "    stemmed_description.append(ps.stem(w))\n",
    "\n",
    "print(stemmed_description)"
   ]
  },
  {
   "cell_type": "code",
   "execution_count": 16,
   "metadata": {
    "ExecuteTime": {
     "end_time": "2021-02-17T06:22:12.436125Z",
     "start_time": "2021-02-17T06:22:12.008017Z"
    },
    "hidden": true,
    "scrolled": true
   },
   "outputs": [
    {
     "data": {
      "image/png": "[encoded data removed]",
      "text/plain": [
       "<Figure size 432x288 with 1 Axes>"
      ]
     },
     "metadata": {
      "needs_background": "light"
     },
     "output_type": "display_data"
    },
    {
     "data": {
      "text/plain": [
       "<matplotlib.axes._subplots.AxesSubplot at 0x7fc855fca4a8>"
      ]
     },
     "execution_count": 16,
     "metadata": {},
     "output_type": "execute_result"
    }
   ],
   "source": [
    "fdist = FreqDist(stemmed_description)\n",
    "fdist.plot(20)"
   ]
  },
  {
   "cell_type": "markdown",
   "metadata": {},
   "source": [
    "## WORKING"
   ]
  },
  {
   "cell_type": "markdown",
   "metadata": {},
   "source": [
    "**Preprocessing**"
   ]
  },
  {
   "cell_type": "code",
   "execution_count": 17,
   "metadata": {
    "ExecuteTime": {
     "end_time": "2021-02-17T06:22:12.482689Z",
     "start_time": "2021-02-17T06:22:12.445059Z"
    }
   },
   "outputs": [],
   "source": [
    "### Same stopwords as in Cleaning notebook\n",
    "\n",
    "## setting stopwords and punctuations\n",
    "sw_list = stopwords.words('english')\n",
    "sw_list += list(string.punctuation) #appending to stopwords\n",
    "sw_list += [\"''\", '\"\"', '...', '``', '’', '“', '’', '”', '‘', '',\n",
    "            '-', '—', '--', 'e.g', \"'ll\", \"'ve\", \"'s\",\n",
    "            'company', 'services', 'world', 'people', 'care', 'health', 'us', \n",
    "            'also', 'service', 'including', 'team', 'inc', 'provide', 'life'\n",
    "           ]\n",
    "sw_set = set(sw_list) #list of stop words - why do I need to make it a set?"
   ]
  },
  {
   "cell_type": "code",
   "execution_count": 18,
   "metadata": {
    "ExecuteTime": {
     "end_time": "2021-02-17T06:22:12.531856Z",
     "start_time": "2021-02-17T06:22:12.502218Z"
    }
   },
   "outputs": [
    {
     "name": "stdout",
     "output_type": "stream",
     "text": [
      "{'', \"needn't\", 'only', 'more', 'didn', 'just', 'its', \"you're\", \"''\", ']', \"don't\", '$', \"shouldn't\", 'also', \"mightn't\", 'between', 'when', 'she', 'mightn', 'isn', 'why', 'through', 'no', \"hadn't\", 'against', '\"\"', 'me', 'very', 'after', 're', '[', 'what', 'he', 'does', 'under', 'so', 'us', 'most', '’', 'company', 'which', 'that', \"weren't\", 'ours', '\\\\', \"'ve\", 'team', '\"', 'until', 'were', \"haven't\", \"'s\", ';', 'i', '+', 'the', 'll', 'haven', 'who', \"you'll\", '&', 'care', '#', \"couldn't\", 'while', 'from', 'they', 'e.g', 'it', 'again', \"she's\", 'some', 'each', 'been', 'to', '=', 'hasn', 'few', 'off', 'weren', 'or', '”', 'hers', '@', 'y', 'yours', '~', 'over', 'are', \"'\", 'out', 'will', 'you', 'than', 'services', 'provide', '-', 'don', 'where', \"you'd\", 'further', \"isn't\", 'have', 'itself', '<', \"'ll\", 'health', 'above', 'other', '“', 'mustn', 's', \"wasn't\", 'if', \"won't\", '—', 'we', 'too', 'theirs', 'down', 'wasn', '>', 'because', 'same', '!', 'am', 'himself', 'shan', 'ain', 'your', 'do', 'them', 'with', 'own', 'did', 'now', '|', 'wouldn', 'before', 'up', 'about', ')', 'of', 'yourself', 'once', '``', 'having', 'was', 'd', 'hadn', '‘', \"mustn't\", 'and', 'below', 'any', 'doing', \"should've\", '...', \"shan't\", 'shouldn', '--', 'as', \"you've\", 'life', 'at', 'on', 'an', 'but', 'needn', \"doesn't\", 'during', 'm', '*', '_', 'by', 'is', '}', 'ma', 'inc', 'world', 'him', 'these', 'not', 'herself', '{', 'into', 'her', \"it's\", 'those', 'in', 'how', 'there', 'o', '(', 'people', 'then', 'yourselves', 'a', 'myself', 'be', ',', 'aren', '`', \"hasn't\", 't', 'for', 'can', 'their', ':', 'couldn', 'our', 'themselves', 'this', \"wouldn't\", 'doesn', 'nor', 've', 'being', 'ourselves', 'here', \"aren't\", \"didn't\", '%', 'should', 'including', '.', 'had', 'whom', 'all', '/', '?', 'has', '^', 'service', 'both', \"that'll\", 'won', 'his', 'such', 'my'}\n"
     ]
    }
   ],
   "source": [
    "print(sw_set)"
   ]
  },
  {
   "cell_type": "markdown",
   "metadata": {},
   "source": [
    "**Create CLEAN_DESCRIPTION**"
   ]
  },
  {
   "cell_type": "code",
   "execution_count": null,
   "metadata": {},
   "outputs": [],
   "source": []
  },
  {
   "cell_type": "code",
   "execution_count": null,
   "metadata": {},
   "outputs": [],
   "source": []
  },
  {
   "cell_type": "code",
   "execution_count": 19,
   "metadata": {
    "ExecuteTime": {
     "end_time": "2021-02-17T06:22:13.556913Z",
     "start_time": "2021-02-17T06:22:12.536523Z"
    }
   },
   "outputs": [],
   "source": [
    "#Creating CLEAN_DESCRIPTION\n",
    "\n",
    "#Function to clean FULL_DESCRIPTION\n",
    "def clean_text(text):\n",
    "    # make text lowercase\n",
    "    text = text.lower()\n",
    "    # fixing mission statement concat\n",
    "    text = re.sub('mission+', '', text)\n",
    "    # remove numbers\n",
    "    text = re.sub('\\w*\\d\\w*', '', text)\n",
    "    # remove single letter characters\n",
    "    text = re.sub(r\"\\b[a-zA-Z]\\b\", \"\", text)\n",
    "    # remove webpages\n",
    "    text = re.sub('www[^\\s]+', '', text)\n",
    "    # remove punctuation and symbols\n",
    "    text = re.sub('[%s]' % re.escape(string.punctuation), '', text)\n",
    "    text = re.sub('™', '', text)\n",
    "    text = re.sub('•', '', text)\n",
    "    text = re.sub('◾', '', text)\n",
    "    text = re.sub('®', '', text)\n",
    "    # remove quotation marks\n",
    "    text = re.sub('\\\"+', '', text)\n",
    "    text = re.sub('\\’+', '', text) \n",
    "    text = re.sub('\\ ̀+', '', text)\n",
    "    # if there's a new line, change to a whitespace\n",
    "    text = re.sub('\\n', ' ', text)\n",
    "    # if there's more than 1 whitespace, change to just 1\n",
    "    text = re.sub('\\s+', ' ', text)\n",
    "    \n",
    "    return text\n",
    "\n",
    "# apply function to 'FULL_DESCRIPTION' column\n",
    "df['CLEAN_DESCRIPTION'] = df['FULL_DESCRIPTION'].apply(clean_text)"
   ]
  },
  {
   "cell_type": "code",
   "execution_count": 20,
   "metadata": {
    "ExecuteTime": {
     "end_time": "2021-02-17T06:22:13.565029Z",
     "start_time": "2021-02-17T06:22:13.559242Z"
    }
   },
   "outputs": [],
   "source": [
    "def process_description(description):\n",
    "    tokens = nltk.word_tokenize(description) #tokenize\n",
    "    stopwords_removed = [token for token in tokens if token not in sw_set]\n",
    "    return stopwords_removed "
   ]
  },
  {
   "cell_type": "code",
   "execution_count": 21,
   "metadata": {
    "ExecuteTime": {
     "end_time": "2021-02-17T06:22:13.576769Z",
     "start_time": "2021-02-17T06:22:13.568750Z"
    }
   },
   "outputs": [],
   "source": [
    "#pickling CLEAN_DESCRIPTION for neural network model\n",
    "\n",
    "# data.head()\n"
   ]
  },
  {
   "cell_type": "code",
   "execution_count": null,
   "metadata": {},
   "outputs": [],
   "source": []
  },
  {
   "cell_type": "markdown",
   "metadata": {
    "heading_collapsed": true
   },
   "source": [
    "### EDA- DTM - does this belong here?"
   ]
  },
  {
   "cell_type": "code",
   "execution_count": 22,
   "metadata": {
    "ExecuteTime": {
     "end_time": "2021-02-17T06:22:35.662818Z",
     "start_time": "2021-02-17T06:22:13.597238Z"
    },
    "hidden": true
   },
   "outputs": [],
   "source": [
    "dtm = pd.read_csv('data/dtm.csv')"
   ]
  },
  {
   "cell_type": "code",
   "execution_count": 23,
   "metadata": {
    "ExecuteTime": {
     "end_time": "2021-02-17T06:22:35.729466Z",
     "start_time": "2021-02-17T06:22:35.675484Z"
    },
    "hidden": true
   },
   "outputs": [
    {
     "data": {
      "text/html": [
       "<div>\n",
       "<style scoped>\n",
       "    .dataframe tbody tr th:only-of-type {\n",
       "        vertical-align: middle;\n",
       "    }\n",
       "\n",
       "    .dataframe tbody tr th {\n",
       "        vertical-align: top;\n",
       "    }\n",
       "\n",
       "    .dataframe thead th {\n",
       "        text-align: right;\n",
       "    }\n",
       "</style>\n",
       "<table border=\"1\" class=\"dataframe\">\n",
       "  <thead>\n",
       "    <tr style=\"text-align: right;\">\n",
       "      <th></th>\n",
       "      <th>0</th>\n",
       "      <th>1</th>\n",
       "      <th>2</th>\n",
       "      <th>3</th>\n",
       "      <th>4</th>\n",
       "      <th>5</th>\n",
       "      <th>6</th>\n",
       "      <th>7</th>\n",
       "      <th>8</th>\n",
       "      <th>9</th>\n",
       "      <th>...</th>\n",
       "      <th>1914</th>\n",
       "      <th>1915</th>\n",
       "      <th>1916</th>\n",
       "      <th>1917</th>\n",
       "      <th>1918</th>\n",
       "      <th>1919</th>\n",
       "      <th>1920</th>\n",
       "      <th>1921</th>\n",
       "      <th>1922</th>\n",
       "      <th>1923</th>\n",
       "    </tr>\n",
       "  </thead>\n",
       "  <tbody>\n",
       "    <tr>\n",
       "      <th>aaa</th>\n",
       "      <td>0</td>\n",
       "      <td>0</td>\n",
       "      <td>0</td>\n",
       "      <td>0</td>\n",
       "      <td>0</td>\n",
       "      <td>0</td>\n",
       "      <td>0</td>\n",
       "      <td>0</td>\n",
       "      <td>0</td>\n",
       "      <td>0</td>\n",
       "      <td>...</td>\n",
       "      <td>0</td>\n",
       "      <td>0</td>\n",
       "      <td>0</td>\n",
       "      <td>0</td>\n",
       "      <td>0</td>\n",
       "      <td>0</td>\n",
       "      <td>0</td>\n",
       "      <td>0</td>\n",
       "      <td>0</td>\n",
       "      <td>0</td>\n",
       "    </tr>\n",
       "    <tr>\n",
       "      <th>aaeeoverify</th>\n",
       "      <td>0</td>\n",
       "      <td>0</td>\n",
       "      <td>0</td>\n",
       "      <td>0</td>\n",
       "      <td>0</td>\n",
       "      <td>0</td>\n",
       "      <td>0</td>\n",
       "      <td>0</td>\n",
       "      <td>0</td>\n",
       "      <td>0</td>\n",
       "      <td>...</td>\n",
       "      <td>0</td>\n",
       "      <td>0</td>\n",
       "      <td>0</td>\n",
       "      <td>0</td>\n",
       "      <td>0</td>\n",
       "      <td>0</td>\n",
       "      <td>0</td>\n",
       "      <td>0</td>\n",
       "      <td>0</td>\n",
       "      <td>0</td>\n",
       "    </tr>\n",
       "    <tr>\n",
       "      <th>aaha</th>\n",
       "      <td>0</td>\n",
       "      <td>0</td>\n",
       "      <td>0</td>\n",
       "      <td>0</td>\n",
       "      <td>0</td>\n",
       "      <td>0</td>\n",
       "      <td>0</td>\n",
       "      <td>0</td>\n",
       "      <td>0</td>\n",
       "      <td>0</td>\n",
       "      <td>...</td>\n",
       "      <td>0</td>\n",
       "      <td>0</td>\n",
       "      <td>0</td>\n",
       "      <td>0</td>\n",
       "      <td>0</td>\n",
       "      <td>0</td>\n",
       "      <td>0</td>\n",
       "      <td>0</td>\n",
       "      <td>0</td>\n",
       "      <td>0</td>\n",
       "    </tr>\n",
       "    <tr>\n",
       "      <th>aamc</th>\n",
       "      <td>0</td>\n",
       "      <td>0</td>\n",
       "      <td>0</td>\n",
       "      <td>0</td>\n",
       "      <td>0</td>\n",
       "      <td>0</td>\n",
       "      <td>0</td>\n",
       "      <td>0</td>\n",
       "      <td>0</td>\n",
       "      <td>0</td>\n",
       "      <td>...</td>\n",
       "      <td>0</td>\n",
       "      <td>0</td>\n",
       "      <td>0</td>\n",
       "      <td>0</td>\n",
       "      <td>0</td>\n",
       "      <td>0</td>\n",
       "      <td>0</td>\n",
       "      <td>0</td>\n",
       "      <td>0</td>\n",
       "      <td>0</td>\n",
       "    </tr>\n",
       "    <tr>\n",
       "      <th>aan</th>\n",
       "      <td>0</td>\n",
       "      <td>0</td>\n",
       "      <td>0</td>\n",
       "      <td>0</td>\n",
       "      <td>0</td>\n",
       "      <td>0</td>\n",
       "      <td>0</td>\n",
       "      <td>0</td>\n",
       "      <td>0</td>\n",
       "      <td>0</td>\n",
       "      <td>...</td>\n",
       "      <td>0</td>\n",
       "      <td>0</td>\n",
       "      <td>0</td>\n",
       "      <td>0</td>\n",
       "      <td>0</td>\n",
       "      <td>0</td>\n",
       "      <td>0</td>\n",
       "      <td>0</td>\n",
       "      <td>0</td>\n",
       "      <td>0</td>\n",
       "    </tr>\n",
       "  </tbody>\n",
       "</table>\n",
       "<p>5 rows × 1924 columns</p>\n",
       "</div>"
      ],
      "text/plain": [
       "             0     1     2     3     4     5     6     7     8     9     ...  \\\n",
       "aaa             0     0     0     0     0     0     0     0     0     0  ...   \n",
       "aaeeoverify     0     0     0     0     0     0     0     0     0     0  ...   \n",
       "aaha            0     0     0     0     0     0     0     0     0     0  ...   \n",
       "aamc            0     0     0     0     0     0     0     0     0     0  ...   \n",
       "aan             0     0     0     0     0     0     0     0     0     0  ...   \n",
       "\n",
       "             1914  1915  1916  1917  1918  1919  1920  1921  1922  1923  \n",
       "aaa             0     0     0     0     0     0     0     0     0     0  \n",
       "aaeeoverify     0     0     0     0     0     0     0     0     0     0  \n",
       "aaha            0     0     0     0     0     0     0     0     0     0  \n",
       "aamc            0     0     0     0     0     0     0     0     0     0  \n",
       "aan             0     0     0     0     0     0     0     0     0     0  \n",
       "\n",
       "[5 rows x 1924 columns]"
      ]
     },
     "execution_count": 23,
     "metadata": {},
     "output_type": "execute_result"
    }
   ],
   "source": [
    "dtm = dtm.transpose()\n",
    "dtm.head()"
   ]
  },
  {
   "cell_type": "code",
   "execution_count": 24,
   "metadata": {
    "ExecuteTime": {
     "end_time": "2021-02-17T06:22:42.439679Z",
     "start_time": "2021-02-17T06:22:35.752519Z"
    },
    "hidden": true
   },
   "outputs": [],
   "source": [
    "# Create set of top 30 words used by each company\n",
    "top_dict = {}\n",
    "for c in dtm.columns:\n",
    "    top = dtm[c].sort_values(ascending=False).head(30)\n",
    "    top_dict[c]= list(zip(top.index, top.values))"
   ]
  },
  {
   "cell_type": "code",
   "execution_count": 25,
   "metadata": {
    "ExecuteTime": {
     "end_time": "2021-02-17T06:22:42.545483Z",
     "start_time": "2021-02-17T06:22:42.443209Z"
    },
    "hidden": true
   },
   "outputs": [
    {
     "data": {
      "text/plain": [
       "[('business', 303),\n",
       " ('products', 296),\n",
       " ('every', 275),\n",
       " ('technology', 268),\n",
       " ('solutions', 267),\n",
       " ('employees', 262),\n",
       " ('largest', 238),\n",
       " ('work', 233),\n",
       " ('global', 212),\n",
       " ('best', 211),\n",
       " ('help', 205),\n",
       " ('make', 195),\n",
       " ('well', 194),\n",
       " ('across', 191),\n",
       " ('clients', 188),\n",
       " ('customers', 183),\n",
       " ('years', 180),\n",
       " ('offers', 177),\n",
       " ('communities', 175),\n",
       " ('new', 174),\n",
       " ('home', 162),\n",
       " ('better', 162),\n",
       " ('leading', 161),\n",
       " ('companies', 159),\n",
       " ('operates', 159),\n",
       " ('university', 158),\n",
       " ('experience', 158),\n",
       " ('industry', 155),\n",
       " ('one', 155),\n",
       " ('mission', 150),\n",
       " ('around', 147),\n",
       " ('million', 147),\n",
       " ('financial', 146),\n",
       " ('medical', 142),\n",
       " ('members', 140),\n",
       " ('system', 137),\n",
       " ('innovative', 136),\n",
       " ('group', 135),\n",
       " ('team', 134),\n",
       " ('founded', 133)]"
      ]
     },
     "execution_count": 25,
     "metadata": {},
     "output_type": "execute_result"
    }
   ],
   "source": [
    "# Look at the most common top words and add them to the stop word list\n",
    "from collections import Counter\n",
    "\n",
    "# Let's first pull out the top 30 words\n",
    "words = []\n",
    "for company in dtm.columns:\n",
    "    top = [word for (word, count) in top_dict[company]]\n",
    "    for t in top:\n",
    "        words.append(t)\n",
    "\n",
    "# Top 30 most common words\n",
    "new_sw = list(Counter(words).most_common()[:40])\n",
    "new_sw"
   ]
  },
  {
   "cell_type": "code",
   "execution_count": 26,
   "metadata": {
    "ExecuteTime": {
     "end_time": "2021-02-17T06:22:42.559388Z",
     "start_time": "2021-02-17T06:22:42.550342Z"
    },
    "hidden": true
   },
   "outputs": [],
   "source": [
    "# Create a list to add new words to sw_list\n",
    "\n",
    "add_to_sw_list = []\n",
    "for word in new_sw:\n",
    "    add_to_sw_list.append(word[0])\n",
    "    \n",
    "#add_to_sw_list #Sanity Check"
   ]
  },
  {
   "cell_type": "code",
   "execution_count": 27,
   "metadata": {
    "ExecuteTime": {
     "end_time": "2021-02-17T06:22:42.575538Z",
     "start_time": "2021-02-17T06:22:42.565745Z"
    },
    "hidden": true
   },
   "outputs": [],
   "source": [
    "# Add to stop words\n",
    "\n",
    "sw_list += add_to_sw_list\n",
    "sw_set = set(sw_list) #convert into a set\n",
    "\n",
    "# Uncomment below line to see updated stop words set\n",
    "#sw_set #Sanity Check"
   ]
  },
  {
   "cell_type": "code",
   "execution_count": null,
   "metadata": {
    "hidden": true
   },
   "outputs": [],
   "source": []
  },
  {
   "cell_type": "code",
   "execution_count": null,
   "metadata": {
    "hidden": true
   },
   "outputs": [],
   "source": []
  },
  {
   "cell_type": "code",
   "execution_count": null,
   "metadata": {
    "hidden": true
   },
   "outputs": [],
   "source": []
  },
  {
   "cell_type": "code",
   "execution_count": null,
   "metadata": {
    "hidden": true
   },
   "outputs": [],
   "source": []
  },
  {
   "cell_type": "code",
   "execution_count": null,
   "metadata": {
    "hidden": true
   },
   "outputs": [],
   "source": []
  },
  {
   "cell_type": "code",
   "execution_count": null,
   "metadata": {
    "hidden": true
   },
   "outputs": [],
   "source": []
  },
  {
   "cell_type": "markdown",
   "metadata": {},
   "source": [
    "### EDA"
   ]
  },
  {
   "cell_type": "markdown",
   "metadata": {},
   "source": [
    "#### Most Frequent Words - EDA\n",
    "- data_incl, processed_incl\n",
    "- data_not_incl, processed_not_incl"
   ]
  },
  {
   "cell_type": "code",
   "execution_count": 28,
   "metadata": {
    "ExecuteTime": {
     "end_time": "2021-02-17T06:22:42.612957Z",
     "start_time": "2021-02-17T06:22:42.580232Z"
    },
    "scrolled": false
   },
   "outputs": [],
   "source": [
    "#pulling out the text data from each category (inclusive vs non-inclusive)\n",
    "\n",
    "df_freq_inclusive = df[df['TARGET']==1]\n",
    "df_freq_not_inclusive = df[df['TARGET']==0]\n",
    "\n",
    "data_incl = df_freq_inclusive['CLEAN_DESCRIPTION']\n",
    "data_not_incl = df_freq_not_inclusive['CLEAN_DESCRIPTION']\n",
    "\n"
   ]
  },
  {
   "cell_type": "code",
   "execution_count": 29,
   "metadata": {
    "ExecuteTime": {
     "end_time": "2021-02-17T06:22:44.998956Z",
     "start_time": "2021-02-17T06:22:42.618403Z"
    },
    "scrolled": true
   },
   "outputs": [],
   "source": [
    "# applying tokenize function to each category\n",
    "processed_incl = list(map(process_description, data_incl))\n",
    "processed_not_incl = list(map(process_description, data_not_incl))"
   ]
  },
  {
   "cell_type": "code",
   "execution_count": 30,
   "metadata": {
    "ExecuteTime": {
     "end_time": "2021-02-17T06:22:45.010573Z",
     "start_time": "2021-02-17T06:22:45.001986Z"
    }
   },
   "outputs": [
    {
     "name": "stdout",
     "output_type": "stream",
     "text": [
      "inclusive companies:  1246\n",
      "non-inclusive companies:  979\n"
     ]
    }
   ],
   "source": [
    "# Checking for class imbalance\n",
    "print('inclusive companies: ', len(processed_incl))\n",
    "print('non-inclusive companies: ', len(processed_not_incl))"
   ]
  },
  {
   "cell_type": "code",
   "execution_count": 31,
   "metadata": {
    "ExecuteTime": {
     "end_time": "2021-02-17T06:22:45.054262Z",
     "start_time": "2021-02-17T06:22:45.025278Z"
    }
   },
   "outputs": [],
   "source": [
    "# # Vocabulary scope for each category\n",
    "\n",
    "# #inclusive\n",
    "# total_vocab_incl = set()\n",
    "# for w in processed_incl:\n",
    "#     total_vocab_incl.update(w)\n",
    "\n",
    "# #not inclusive\n",
    "# total_vocab_NOT_incl = set()\n",
    "# for w in processed_not_incl:\n",
    "#     total_vocab_NOT_incl.update(w)\n",
    "\n",
    "# print('vocab for inclusive: ', len(total_vocab_incl))  \n",
    "# print('vocab for non-inclusive: ', len(total_vocab_NOT_incl))        "
   ]
  },
  {
   "cell_type": "code",
   "execution_count": 32,
   "metadata": {
    "ExecuteTime": {
     "end_time": "2021-02-17T06:22:45.605553Z",
     "start_time": "2021-02-17T06:22:45.063051Z"
    }
   },
   "outputs": [],
   "source": [
    "# Looking at top words in each category\n",
    "\n",
    "flat_incl = [item for sublist in processed_incl for item in sublist]\n",
    "flat_not_incl = [item for sublist in processed_not_incl for item in sublist]\n",
    "\n",
    "inclusive_freq = FreqDist(flat_incl)\n",
    "not_inclusive_freq = FreqDist(flat_not_incl)"
   ]
  },
  {
   "cell_type": "code",
   "execution_count": 33,
   "metadata": {
    "ExecuteTime": {
     "end_time": "2021-02-17T06:22:45.626421Z",
     "start_time": "2021-02-17T06:22:45.614509Z"
    },
    "scrolled": true
   },
   "outputs": [],
   "source": [
    "# def returnNotMatches(a, b):\n",
    "#     return [x for x in a if x not in b]\n",
    "\n",
    "# not_common = returnNotMatches(flat_incl, flat_not_incl)\n",
    "\n",
    "# #checking out not_common words\n",
    "# #not_common"
   ]
  },
  {
   "cell_type": "code",
   "execution_count": 34,
   "metadata": {
    "ExecuteTime": {
     "end_time": "2021-02-17T06:22:45.661185Z",
     "start_time": "2021-02-17T06:22:45.635232Z"
    }
   },
   "outputs": [
    {
     "data": {
      "text/plain": [
       "[('students', 216),\n",
       " ('research', 213),\n",
       " ('insurance', 213),\n",
       " ('management', 210),\n",
       " ('states', 206),\n",
       " ('programs', 201),\n",
       " ('community', 192),\n",
       " ('top', 188),\n",
       " ('customer', 184),\n",
       " ('center', 183),\n",
       " ('countries', 183),\n",
       " ('providing', 181),\n",
       " ('healthcare', 179),\n",
       " ('provides', 177),\n",
       " ('hospital', 175),\n",
       " ('–', 173),\n",
       " ('quality', 170),\n",
       " ('opportunities', 169),\n",
       " ('education', 166),\n",
       " ('support', 165)]"
      ]
     },
     "execution_count": 34,
     "metadata": {},
     "output_type": "execute_result"
    }
   ],
   "source": [
    "# Top 20 inclusive words:\n",
    "inclusive_freq.most_common(20)"
   ]
  },
  {
   "cell_type": "code",
   "execution_count": 35,
   "metadata": {
    "ExecuteTime": {
     "end_time": "2021-02-17T06:22:45.689027Z",
     "start_time": "2021-02-17T06:22:45.672946Z"
    }
   },
   "outputs": [
    {
     "data": {
      "text/plain": [
       "[('management', 187),\n",
       " ('brands', 163),\n",
       " ('america', 161),\n",
       " ('states', 160),\n",
       " ('countries', 160),\n",
       " ('–', 158),\n",
       " ('quality', 151),\n",
       " ('provides', 150),\n",
       " ('customer', 146),\n",
       " ('network', 142),\n",
       " ('support', 138),\n",
       " ('locations', 138),\n",
       " ('worldwide', 137),\n",
       " ('healthcare', 133),\n",
       " ('leader', 132),\n",
       " ('stores', 128),\n",
       " ('today', 127),\n",
       " ('innovation', 127),\n",
       " ('sales', 126),\n",
       " ('career', 126)]"
      ]
     },
     "execution_count": 35,
     "metadata": {},
     "output_type": "execute_result"
    }
   ],
   "source": [
    "# Top 20 non-inclusive words:\n",
    "not_inclusive_freq.most_common(20)"
   ]
  },
  {
   "cell_type": "markdown",
   "metadata": {},
   "source": [
    "#### Normalized word frequencies: (??)"
   ]
  },
  {
   "cell_type": "code",
   "execution_count": 36,
   "metadata": {
    "ExecuteTime": {
     "end_time": "2021-02-17T06:22:45.717104Z",
     "start_time": "2021-02-17T06:22:45.694531Z"
    },
    "scrolled": true
   },
   "outputs": [
    {
     "name": "stdout",
     "output_type": "stream",
     "text": [
      "Word \t\t Normalized Frequency\n",
      "\n",
      "students \t\t 0.002677\n",
      "research \t\t 0.00264\n",
      "insurance \t\t 0.00264\n",
      "management \t\t 0.002603\n",
      "states \t\t 0.002553\n",
      "programs \t\t 0.002491\n",
      "community \t\t 0.00238\n",
      "top \t\t 0.00233\n",
      "customer \t\t 0.00228\n",
      "center \t\t 0.002268\n",
      "countries \t\t 0.002268\n",
      "providing \t\t 0.002243\n",
      "healthcare \t\t 0.002218\n",
      "provides \t\t 0.002194\n",
      "hospital \t\t 0.002169\n",
      "– \t\t 0.002144\n",
      "quality \t\t 0.002107\n",
      "opportunities \t\t 0.002095\n",
      "education \t\t 0.002057\n",
      "support \t\t 0.002045\n",
      "lives \t\t 0.002033\n",
      "create \t\t 0.001995\n",
      "data \t\t 0.001971\n",
      "success \t\t 0.001946\n",
      "america \t\t 0.001946\n"
     ]
    }
   ],
   "source": [
    "#Inclusive\n",
    "inclusive_total_word_count = sum(inclusive_freq.values())\n",
    "inclusive_top_25 = inclusive_freq.most_common(25)\n",
    "print(\"Word \\t\\t Normalized Frequency\")\n",
    "print()\n",
    "for word in inclusive_top_25:\n",
    "    normalized_frequency = word[1]/inclusive_total_word_count\n",
    "    print(\"{} \\t\\t {:.4}\".format(word[0], normalized_frequency))"
   ]
  },
  {
   "cell_type": "code",
   "execution_count": 37,
   "metadata": {
    "ExecuteTime": {
     "end_time": "2021-02-17T06:22:45.742074Z",
     "start_time": "2021-02-17T06:22:45.725536Z"
    },
    "scrolled": true
   },
   "outputs": [
    {
     "name": "stdout",
     "output_type": "stream",
     "text": [
      "Word \t\t Normalized Frequency\n",
      "\n",
      "management \t\t 0.002908\n",
      "brands \t\t 0.002535\n",
      "america \t\t 0.002504\n",
      "states \t\t 0.002488\n",
      "countries \t\t 0.002488\n",
      "– \t\t 0.002457\n",
      "quality \t\t 0.002348\n",
      "provides \t\t 0.002333\n",
      "customer \t\t 0.002271\n",
      "network \t\t 0.002209\n",
      "support \t\t 0.002146\n",
      "locations \t\t 0.002146\n",
      "worldwide \t\t 0.002131\n",
      "healthcare \t\t 0.002069\n",
      "leader \t\t 0.002053\n",
      "stores \t\t 0.001991\n",
      "today \t\t 0.001975\n",
      "innovation \t\t 0.001975\n",
      "sales \t\t 0.00196\n",
      "career \t\t 0.00196\n",
      "providing \t\t 0.001944\n",
      "research \t\t 0.001913\n",
      "community \t\t 0.001913\n",
      "information \t\t 0.001913\n",
      "success \t\t 0.001897\n"
     ]
    }
   ],
   "source": [
    "#Not inclusive\n",
    "not_inclusive_total_word_count = sum(not_inclusive_freq.values())\n",
    "not_inclusive_top_25 = not_inclusive_freq.most_common(25)\n",
    "print(\"Word \\t\\t Normalized Frequency\")\n",
    "print()\n",
    "for word in not_inclusive_top_25:\n",
    "    normalized_frequency = word[1]/not_inclusive_total_word_count\n",
    "    print(\"{} \\t\\t {:.4}\".format(word[0], normalized_frequency))"
   ]
  },
  {
   "cell_type": "markdown",
   "metadata": {},
   "source": [
    "#### Visualization\n",
    "- Bar Chart"
   ]
  },
  {
   "cell_type": "code",
   "execution_count": 38,
   "metadata": {
    "ExecuteTime": {
     "end_time": "2021-02-17T06:22:45.772947Z",
     "start_time": "2021-02-17T06:22:45.748442Z"
    }
   },
   "outputs": [
    {
     "data": {
      "text/plain": [
       "FreqDist({'students': 216, 'research': 213, 'insurance': 213, 'management': 210, 'states': 206, 'programs': 201, 'community': 192, 'top': 188, 'customer': 184, 'center': 183, ...})"
      ]
     },
     "execution_count": 38,
     "metadata": {},
     "output_type": "execute_result"
    }
   ],
   "source": [
    "inclusive_freq"
   ]
  },
  {
   "cell_type": "code",
   "execution_count": null,
   "metadata": {},
   "outputs": [],
   "source": []
  },
  {
   "cell_type": "code",
   "execution_count": 39,
   "metadata": {
    "ExecuteTime": {
     "end_time": "2021-02-17T06:22:45.822516Z",
     "start_time": "2021-02-17T06:22:45.795795Z"
    }
   },
   "outputs": [],
   "source": [
    "'''\n",
    "inclusive_freq:dictionary of top words\n",
    "'''\n",
    "\n",
    "\n",
    "# Create counts of inclusive and not inclusive with values and words\n",
    "inclusive_bar_counts = [x[1] for x in inclusive_freq.most_common(25)]\n",
    "inclusive_bar_words = [x[0] for x in inclusive_freq.most_common(25)]\n",
    "\n",
    "not_inclusive_bar_counts = [x[1] for x in not_inclusive_freq.most_common(25)]\n",
    "not_inclusive_bar_words = [x[0] for x in not_inclusive_freq.most_common(25)]"
   ]
  },
  {
   "cell_type": "code",
   "execution_count": 40,
   "metadata": {
    "ExecuteTime": {
     "end_time": "2021-02-17T06:22:46.948736Z",
     "start_time": "2021-02-17T06:22:45.826838Z"
    }
   },
   "outputs": [
    {
     "data": {
      "image/png": "[encoded data removed]",
      "text/plain": [
       "<Figure size 1152x288 with 2 Axes>"
      ]
     },
     "metadata": {
      "needs_background": "light"
     },
     "output_type": "display_data"
    }
   ],
   "source": [
    "# Set the color of our bar graphs\n",
    "color = cm.viridis_r(np.linspace(.4,.8, 30))\n",
    "\n",
    "new_figure = plt.figure(figsize=(16,4))\n",
    "\n",
    "# Define subplots\n",
    "ax = new_figure.add_subplot(121)\n",
    "ax2 = new_figure.add_subplot(122)\n",
    "\n",
    "# Generate a line plot on first axes\n",
    "ax.bar(inclusive_bar_words, inclusive_bar_counts, color=color)\n",
    "# ax.plot(colormap='PRGn')\n",
    "\n",
    "# Draw a scatter plot on 2nd axes\n",
    "ax2.bar(not_inclusive_bar_words, not_inclusive_bar_counts, color=color )\n",
    "\n",
    "ax.title.set_text('Inclusive')\n",
    "ax2.title.set_text('Not Inclusive')\n",
    "\n",
    "for ax in new_figure.axes:\n",
    "    plt.sca(ax)\n",
    "    plt.xticks(rotation=60)\n",
    "\n",
    "plt.tight_layout(pad=0)\n",
    "\n",
    "# plt.savefig('word count bar graphs.png')\n",
    "\n",
    "plt.show()"
   ]
  },
  {
   "cell_type": "markdown",
   "metadata": {},
   "source": [
    "#### Visualization \n",
    "- Word Clouds"
   ]
  },
  {
   "cell_type": "code",
   "execution_count": 41,
   "metadata": {
    "ExecuteTime": {
     "end_time": "2021-02-17T06:22:46.980418Z",
     "start_time": "2021-02-17T06:22:46.952505Z"
    }
   },
   "outputs": [],
   "source": [
    "# Getting our data into a dictionary\n",
    "# FORMAT:  dictionary = dict(zip(keys, values))\n",
    "#!pip install wordcloud\n",
    "from wordcloud import WordCloud\n",
    "inclusive_dictionary = dict(zip(inclusive_bar_words, inclusive_bar_counts))\n",
    "not_inclusive_dictionary = dict(zip(not_inclusive_bar_words, not_inclusive_bar_counts))"
   ]
  },
  {
   "cell_type": "code",
   "execution_count": 42,
   "metadata": {
    "ExecuteTime": {
     "end_time": "2021-02-17T06:22:46.995432Z",
     "start_time": "2021-02-17T06:22:46.985325Z"
    }
   },
   "outputs": [
    {
     "data": {
      "text/plain": [
       "{'students': 216,\n",
       " 'research': 213,\n",
       " 'insurance': 213,\n",
       " 'management': 210,\n",
       " 'states': 206,\n",
       " 'programs': 201,\n",
       " 'community': 192,\n",
       " 'top': 188,\n",
       " 'customer': 184,\n",
       " 'center': 183,\n",
       " 'countries': 183,\n",
       " 'providing': 181,\n",
       " 'healthcare': 179,\n",
       " 'provides': 177,\n",
       " 'hospital': 175,\n",
       " '–': 173,\n",
       " 'quality': 170,\n",
       " 'opportunities': 169,\n",
       " 'education': 166,\n",
       " 'support': 165,\n",
       " 'lives': 164,\n",
       " 'create': 161,\n",
       " 'data': 159,\n",
       " 'success': 157,\n",
       " 'america': 157}"
      ]
     },
     "execution_count": 42,
     "metadata": {},
     "output_type": "execute_result"
    }
   ],
   "source": [
    "inclusive_dictionary"
   ]
  },
  {
   "cell_type": "code",
   "execution_count": 43,
   "metadata": {
    "ExecuteTime": {
     "end_time": "2021-02-17T06:22:47.034991Z",
     "start_time": "2021-02-17T06:22:47.000063Z"
    },
    "scrolled": false
   },
   "outputs": [
    {
     "data": {
      "text/plain": [
       "{'management': 187,\n",
       " 'brands': 163,\n",
       " 'america': 161,\n",
       " 'states': 160,\n",
       " 'countries': 160,\n",
       " '–': 158,\n",
       " 'quality': 151,\n",
       " 'provides': 150,\n",
       " 'customer': 146,\n",
       " 'network': 142,\n",
       " 'support': 138,\n",
       " 'locations': 138,\n",
       " 'worldwide': 137,\n",
       " 'healthcare': 133,\n",
       " 'leader': 132,\n",
       " 'stores': 128,\n",
       " 'today': 127,\n",
       " 'innovation': 127,\n",
       " 'sales': 126,\n",
       " 'career': 126,\n",
       " 'providing': 125,\n",
       " 'research': 123,\n",
       " 'community': 123,\n",
       " 'information': 123,\n",
       " 'success': 122}"
      ]
     },
     "execution_count": 43,
     "metadata": {},
     "output_type": "execute_result"
    }
   ],
   "source": [
    "not_inclusive_dictionary"
   ]
  },
  {
   "cell_type": "code",
   "execution_count": 44,
   "metadata": {
    "ExecuteTime": {
     "end_time": "2021-02-17T06:22:47.089002Z",
     "start_time": "2021-02-17T06:22:47.069661Z"
    }
   },
   "outputs": [],
   "source": [
    "# Defining parameters for word clouds\n",
    "\n",
    "def similar_color_func(word=None, font_size=None,\n",
    "                       position=None, orientation=None,\n",
    "                       font_path=None, random_state=None):\n",
    "    h = 40 # 0 - 360\n",
    "    s = 100 # 0 - 100\n",
    "    l = random_state.randint(30, 70) # 0 - 100\n",
    "    return \"hsl({}, {}%, {}%)\".format(h, s, l)\n",
    "\n",
    "font_path = 'images/Abel-Regular.ttf'"
   ]
  },
  {
   "cell_type": "code",
   "execution_count": 45,
   "metadata": {
    "ExecuteTime": {
     "end_time": "2021-02-17T06:22:47.652742Z",
     "start_time": "2021-02-17T06:22:47.097867Z"
    }
   },
   "outputs": [
    {
     "data": {
      "image/png": "[encoded data removed]",
      "text/plain": [
       "<Figure size 720x720 with 1 Axes>"
      ]
     },
     "metadata": {},
     "output_type": "display_data"
    }
   ],
   "source": [
    "# Create INCLUSIVE word cloud\n",
    "wordcloud = WordCloud(colormap='YlOrBr',\n",
    "                      font_path=font_path,\n",
    "                      background_color=\"rgba(255,255,255,0)\", \n",
    "                      mode=\"RGBA\",\n",
    "                      color_func=similar_color_func).generate_from_frequencies(inclusive_dictionary)\n",
    "\n",
    "# Display image w/ matplotlib:\n",
    "plt.figure(figsize=(10,10), facecolor='k')\n",
    "plt.imshow(wordcloud, interpolation='bilinear')\n",
    "plt.axis(\"off\")\n",
    "plt.tight_layout(pad=0)\n",
    "\n",
    "plt.show()\n",
    "\n",
    "# Uncomment the next line if you want to save your image:\n",
    "wordcloud.to_file(\"images/wordcloud_INCLUSIVE.png\")"
   ]
  },
  {
   "cell_type": "code",
   "execution_count": 46,
   "metadata": {
    "ExecuteTime": {
     "end_time": "2021-02-17T06:22:48.138438Z",
     "start_time": "2021-02-17T06:22:47.654920Z"
    },
    "code_folding": []
   },
   "outputs": [
    {
     "data": {
      "image/png": "[encoded data removed]",
      "text/plain": [
       "<Figure size 720x720 with 1 Axes>"
      ]
     },
     "metadata": {},
     "output_type": "display_data"
    }
   ],
   "source": [
    "# Create NON-INCLUSIVE word cloud\n",
    "wordcloud = WordCloud(colormap='YlOrBr',\n",
    "                      font_path=font_path,\n",
    "                      background_color=\"rgba(255,255,255,0)\", \n",
    "                      mode=\"RGBA\",\n",
    "                      color_func=similar_color_func).generate_from_frequencies(not_inclusive_dictionary)\n",
    "\n",
    "# Display image w/ matplotlib:\n",
    "plt.figure(figsize=(10,10), facecolor='k')\n",
    "plt.imshow(wordcloud, interpolation='bilinear')\n",
    "plt.axis(\"off\")\n",
    "plt.tight_layout(pad=0)\n",
    "\n",
    "plt.show()\n",
    "\n",
    "# Uncomment the next line if you want to save your image:\n",
    "wordcloud.to_file(\"images/wordcloud_NOT_INCLUSIVE.png\")"
   ]
  },
  {
   "cell_type": "markdown",
   "metadata": {},
   "source": [
    "What about in ONLY inclusive/not inclusive companies?"
   ]
  },
  {
   "cell_type": "code",
   "execution_count": null,
   "metadata": {},
   "outputs": [],
   "source": []
  },
  {
   "cell_type": "markdown",
   "metadata": {},
   "source": [
    "## Prepping for modeling"
   ]
  },
  {
   "cell_type": "code",
   "execution_count": 47,
   "metadata": {
    "ExecuteTime": {
     "end_time": "2021-02-17T06:22:48.149238Z",
     "start_time": "2021-02-17T06:22:48.142314Z"
    }
   },
   "outputs": [],
   "source": [
    "##CORPUS:\n",
    "#define features and target\n",
    "data = df['CLEAN_DESCRIPTION'] \n",
    "target = df['TARGET']"
   ]
  },
  {
   "cell_type": "code",
   "execution_count": 48,
   "metadata": {
    "ExecuteTime": {
     "end_time": "2021-02-17T06:22:50.510811Z",
     "start_time": "2021-02-17T06:22:48.155742Z"
    }
   },
   "outputs": [],
   "source": [
    "# applying the above function to our data/features with map() method\n",
    "processed_description = list(map(process_description, df.CLEAN_DESCRIPTION))"
   ]
  },
  {
   "cell_type": "code",
   "execution_count": 49,
   "metadata": {
    "ExecuteTime": {
     "end_time": "2021-02-17T06:22:54.008868Z",
     "start_time": "2021-02-17T06:22:50.513226Z"
    }
   },
   "outputs": [],
   "source": [
    "##Lemmatizer\n",
    "from nltk.stem import WordNetLemmatizer \n",
    "  \n",
    "lemmatizer = WordNetLemmatizer() \n",
    "\n",
    "# creating a list with all lemmatized outputs\n",
    "lemmatized_output = []\n",
    "\n",
    "for listy in processed_description:\n",
    "    lemmed = ' '.join([lemmatizer.lemmatize(w) for w in listy])\n",
    "    lemmatized_output.append(lemmed)"
   ]
  },
  {
   "cell_type": "code",
   "execution_count": 50,
   "metadata": {
    "ExecuteTime": {
     "end_time": "2021-02-17T06:22:54.023966Z",
     "start_time": "2021-02-17T06:22:54.011415Z"
    },
    "scrolled": true
   },
   "outputs": [],
   "source": [
    "#defining X_lem for modeling process\n",
    "X_lem = lemmatized_output\n",
    "# [' '.join(d) for d in processed_data]\n",
    "\n",
    "y_lem = target\n",
    "#X_lem[0] #Sanity Check"
   ]
  },
  {
   "cell_type": "code",
   "execution_count": 51,
   "metadata": {
    "ExecuteTime": {
     "end_time": "2021-02-17T06:22:54.046001Z",
     "start_time": "2021-02-17T06:22:54.027931Z"
    }
   },
   "outputs": [
    {
     "name": "stdout",
     "output_type": "stream",
     "text": [
      "2225\n",
      "2225\n"
     ]
    }
   ],
   "source": [
    "# Sanity Check\n",
    "print(len(y_lem))\n",
    "print(len(X_lem))"
   ]
  },
  {
   "cell_type": "markdown",
   "metadata": {
    "ExecuteTime": {
     "end_time": "2021-02-16T17:19:05.592006Z",
     "start_time": "2021-02-16T17:19:05.570050Z"
    }
   },
   "source": [
    "### Saving pickles for Modeling notebook"
   ]
  },
  {
   "cell_type": "code",
   "execution_count": 52,
   "metadata": {
    "ExecuteTime": {
     "end_time": "2021-02-17T06:22:54.069581Z",
     "start_time": "2021-02-17T06:22:54.055597Z"
    }
   },
   "outputs": [],
   "source": [
    "# Pickling clean description for neural network\n",
    "pickle_out = open('modeling/data_clean.pkl','wb')\n",
    "pickle.dump(data, pickle_out)\n",
    "pickle_out.close()\n"
   ]
  },
  {
   "cell_type": "code",
   "execution_count": 53,
   "metadata": {
    "ExecuteTime": {
     "end_time": "2021-02-17T06:22:54.093292Z",
     "start_time": "2021-02-17T06:22:54.075504Z"
    }
   },
   "outputs": [],
   "source": [
    "# Pickling X and y\n",
    "pickle_out = open('modeling/X_lem.pkl','wb')\n",
    "pickle.dump(X_lem, pickle_out)\n",
    "pickle_out.close()\n",
    "\n",
    "y_lem.to_pickle('modeling/y_lem.pkl')"
   ]
  },
  {
   "cell_type": "code",
   "execution_count": 54,
   "metadata": {
    "ExecuteTime": {
     "end_time": "2021-02-17T06:22:54.107569Z",
     "start_time": "2021-02-17T06:22:54.099584Z"
    }
   },
   "outputs": [],
   "source": [
    "## Pickling stopwords\n",
    "pickle_out =  open('modeling/stopwords.pkl', 'wb')\n",
    "pickle.dump(sw_list, pickle_out)\n",
    "pickle_out.close()\n"
   ]
  },
  {
   "cell_type": "markdown",
   "metadata": {},
   "source": [
    "### Train-Test Split:"
   ]
  },
  {
   "cell_type": "code",
   "execution_count": 55,
   "metadata": {
    "ExecuteTime": {
     "end_time": "2021-02-17T06:22:56.223491Z",
     "start_time": "2021-02-17T06:22:54.112892Z"
    },
    "scrolled": true
   },
   "outputs": [],
   "source": [
    "# always train-test split THEN apply vectorizer \n",
    "X_train_lem, X_test_lem, y_train_lem, y_test_lem = train_test_split(X_lem, y_lem, test_size=0.20, random_state=42)\n",
    "\n",
    "tfidf = TfidfVectorizer(stop_words=sw_list,\n",
    "                       ngram_range=(1,3)\n",
    "                       ) ## TEST remove stopwords, turn into uppercase, bigram/trigram\n",
    "\n",
    "#fit vectorizer to both training and testing set\n",
    "tfidf_data_train_lem = tfidf.fit_transform(X_train_lem)\n",
    "tfidf_data_test_lem = tfidf.transform(X_test_lem)"
   ]
  },
  {
   "cell_type": "markdown",
   "metadata": {},
   "source": [
    "### RF Notes"
   ]
  },
  {
   "cell_type": "markdown",
   "metadata": {},
   "source": [
    "- **try also with BoW instead of TF-IDF??**\n",
    "- **try also with Stemming instead of Lemmatization??** \n",
    "\n",
    "2/10 Results:\n",
    "- Testing Accuracy: 0.5662\n",
    "- Testing Precision: 0.5437\n",
    "- Testing Recall: 0.4807\n",
    "- F1 Score: 0.5103"
   ]
  },
  {
   "cell_type": "markdown",
   "metadata": {},
   "source": [
    "### Baseline model \n",
    "Random Forest with Lemmatization, trigrams\n",
    "\n",
    "2/16 Results:\n",
    "- Testing Accuracy: 0.5775\n",
    "- F1 Score: 0.6702\n",
    "\n",
    "\n",
    "- Testing Accuracy: 0.5865\n",
    "- F1 Score: 0.7125"
   ]
  },
  {
   "cell_type": "code",
   "execution_count": null,
   "metadata": {},
   "outputs": [],
   "source": []
  },
  {
   "cell_type": "code",
   "execution_count": null,
   "metadata": {
    "ExecuteTime": {
     "end_time": "2021-02-17T04:57:13.353622Z",
     "start_time": "2021-02-17T04:57:13.332430Z"
    }
   },
   "outputs": [],
   "source": []
  },
  {
   "cell_type": "code",
   "execution_count": 56,
   "metadata": {
    "ExecuteTime": {
     "end_time": "2021-02-17T06:22:56.230820Z",
     "start_time": "2021-02-17T06:22:56.225756Z"
    }
   },
   "outputs": [],
   "source": [
    "# Uncomment this cell to run GridSearch\n",
    "#\n",
    "# from sklearn.model_selection import train_test_split, GridSearchCV\n",
    "# \n",
    "# rf = RandomForestClassifier()\n",
    "# rf_param_grid = {\n",
    "#     'max_depth' : [35, 40, 45, 50],\n",
    "#     'max_features': [2, 3, 5, 10],\n",
    "#     'min_samples_split' : [10, 15],\n",
    "#     'min_samples_leaf' : [1, 2, 3, 4, 5, 6, 7, 8],\n",
    "#     'n_estimators' : [100,150,200,250]\n",
    "# }\n",
    "# rf_grid_search = GridSearchCV(rf, rf_param_grid, cv=3, verbose=True, n_jobs=-1)\n",
    "# rf_grid_search.fit(tfidf_data_train_lem, y_train_lem)\n",
    "# \n",
    "# print(rf_grid_search.best_params_) \n",
    "# print(rf_grid_search.best_score_)"
   ]
  },
  {
   "cell_type": "code",
   "execution_count": null,
   "metadata": {
    "ExecuteTime": {
     "end_time": "2021-02-17T05:09:22.102607Z",
     "start_time": "2021-02-17T04:55:39.524Z"
    },
    "scrolled": false
   },
   "outputs": [],
   "source": []
  },
  {
   "cell_type": "markdown",
   "metadata": {},
   "source": [
    "First pass: {'criterion': 'gini', 'max_depth': 40, 'min_samples_leaf': 1, 'min_samples_split': 10} Score:\n",
    "0.5735\n",
    "\n",
    "Second pass: {'max_depth': 35, 'max_features': 2, 'min_samples_leaf': 1, 'min_samples_split': 10, 'n_estimators': 100}\n",
    "0.5561"
   ]
  },
  {
   "cell_type": "code",
   "execution_count": 57,
   "metadata": {
    "ExecuteTime": {
     "end_time": "2021-02-17T06:22:56.245868Z",
     "start_time": "2021-02-17T06:22:56.235988Z"
    }
   },
   "outputs": [],
   "source": [
    "# TEST\n",
    "### add estimators, lower max_depth, GRIDSEARCH, min sample and leaf higher, max features, gini vs entropy\n",
    "### \n",
    "rf_classifier_lem = RandomForestClassifier(n_estimators=100, \n",
    "                                           max_depth=35, \n",
    "                                           max_features=2, \n",
    "                                           min_samples_leaf=1,\n",
    "                                           min_samples_split=10, \n",
    "                                           random_state=42)\n"
   ]
  },
  {
   "cell_type": "code",
   "execution_count": 58,
   "metadata": {
    "ExecuteTime": {
     "end_time": "2021-02-17T06:22:57.203022Z",
     "start_time": "2021-02-17T06:22:56.342614Z"
    }
   },
   "outputs": [],
   "source": [
    "## Fit model to train set\n",
    "rf_classifier_lem.fit(tfidf_data_train_lem, y_train_lem)\n",
    "\n",
    "rf_train_preds_lem = rf_classifier_lem.predict(tfidf_data_train_lem)\n",
    "rf_test_preds_lem = rf_classifier_lem.predict(tfidf_data_test_lem)"
   ]
  },
  {
   "cell_type": "code",
   "execution_count": 59,
   "metadata": {
    "ExecuteTime": {
     "end_time": "2021-02-17T06:22:57.237586Z",
     "start_time": "2021-02-17T06:22:57.205418Z"
    }
   },
   "outputs": [
    {
     "name": "stdout",
     "output_type": "stream",
     "text": [
      "Random Forest with Lemmatization Features:\n",
      "\n",
      "Testing Accuracy: 0.5753\n",
      "F1 Score: 0.7304\n",
      "\n",
      "Training Accuracy: 0.5596\n",
      "Null Accuracy is 0.4247\n"
     ]
    }
   ],
   "source": [
    "rf_acc_score_lem = accuracy_score(y_test_lem, rf_test_preds_lem)\n",
    "rf_precision_score_lem = metrics.precision_score(y_test_lem, rf_test_preds_lem)\n",
    "rf_recall_score_lem = metrics.recall_score(y_test_lem, rf_test_preds_lem)\n",
    "rf_f1_score_lem = f1_score(y_test_lem, rf_test_preds_lem)\n",
    "\n",
    "rf_train_accuracy = accuracy_score(y_train_lem, rf_train_preds_lem)\n",
    "\n",
    "\n",
    "print('Random Forest with Lemmatization Features:\\n')\n",
    "\n",
    "print(\"Testing Accuracy: {:.4}\".format(rf_acc_score_lem))\n",
    "# print(\"Testing Precision: {:.4}\".format(rf_precision_score_lem))\n",
    "# print(\"Testing Recall: {:.4}\".format(rf_recall_score_lem))\n",
    "print(\"F1 Score: {:.4}\".format(rf_f1_score_lem))\n",
    "\n",
    "print(\"\\nTraining Accuracy: {:.4}\".format(rf_train_accuracy))\n",
    "print('Null Accuracy is', round(y_test_lem.value_counts()[0]\n",
    "                               /y_test_lem.value_counts().sum(), 4))"
   ]
  },
  {
   "cell_type": "code",
   "execution_count": 60,
   "metadata": {
    "ExecuteTime": {
     "end_time": "2021-02-17T06:22:57.758729Z",
     "start_time": "2021-02-17T06:22:57.260627Z"
    },
    "code_folding": [],
    "scrolled": true
   },
   "outputs": [
    {
     "data": {
      "text/plain": [
       "(2.0, 0.0)"
      ]
     },
     "execution_count": 60,
     "metadata": {},
     "output_type": "execute_result"
    },
    {
     "data": {
      "image/png": "[encoded data removed]",
      "text/plain": [
       "<Figure size 432x288 with 1 Axes>"
      ]
     },
     "metadata": {},
     "output_type": "display_data"
    }
   ],
   "source": [
    "from sklearn.metrics import confusion_matrix\n",
    "import seaborn as sns; sns.set()\n",
    "\n",
    "mat = confusion_matrix(y_test_lem, rf_test_preds_lem)\n",
    "sns.heatmap(mat.T, square=True, annot=True, fmt='d', cbar=False,\n",
    "            xticklabels=['Not_Inclusive', 'Inclusive'], \n",
    "            yticklabels=['Not_Inclusive', 'Inclusive']\n",
    "           )\n",
    "plt.xlabel('true label')\n",
    "plt.ylabel('predicted label');\n",
    "\n",
    "## Fixing cut-off bug\n",
    "b, t = plt.ylim() # discover the values for bottom and top\n",
    "b += 0.5 # Add 0.5 to the bottom\n",
    "t -= 0.5 # Subtract 0.5 from the top\n",
    "plt.ylim(b, t) # update the ylim(bottom, top) values"
   ]
  },
  {
   "cell_type": "markdown",
   "metadata": {},
   "source": [
    "### Next model"
   ]
  },
  {
   "cell_type": "code",
   "execution_count": null,
   "metadata": {},
   "outputs": [],
   "source": []
  },
  {
   "cell_type": "code",
   "execution_count": null,
   "metadata": {},
   "outputs": [],
   "source": []
  },
  {
   "cell_type": "code",
   "execution_count": null,
   "metadata": {},
   "outputs": [],
   "source": []
  },
  {
   "cell_type": "code",
   "execution_count": null,
   "metadata": {},
   "outputs": [],
   "source": []
  },
  {
   "cell_type": "markdown",
   "metadata": {},
   "source": [
    "Stretch:\n",
    "- Sentiment analysis"
   ]
  }
 ],
 "metadata": {
  "kernelspec": {
   "display_name": "Python 3",
   "language": "python",
   "name": "python3"
  },
  "language_info": {
   "codemirror_mode": {
    "name": "ipython",
    "version": 3
   },
   "file_extension": ".py",
   "mimetype": "text/x-python",
   "name": "python",
   "nbconvert_exporter": "python",
   "pygments_lexer": "ipython3",
   "version": "3.6.9"
  },
  "toc": {
   "base_numbering": 1,
   "nav_menu": {},
   "number_sections": true,
   "sideBar": true,
   "skip_h1_title": false,
   "title_cell": "Table of Contents",
   "title_sidebar": "Contents",
   "toc_cell": false,
   "toc_position": {},
   "toc_section_display": true,
   "toc_window_display": false
  }
 },
 "nbformat": 4,
 "nbformat_minor": 4
}
