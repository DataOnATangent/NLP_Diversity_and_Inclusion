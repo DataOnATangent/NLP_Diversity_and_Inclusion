{
 "cells": [
  {
   "cell_type": "code",
   "execution_count": 1,
   "metadata": {
    "ExecuteTime": {
     "end_time": "2021-02-16T01:32:48.662301Z",
     "start_time": "2021-02-16T01:32:47.050848Z"
    }
   },
   "outputs": [],
   "source": [
    "import pandas as pd\n",
    "import numpy as np\n",
    "import string, re\n",
    "\n",
    "import pickle\n",
    "pd.options.display.max_rows = 50"
   ]
  },
  {
   "cell_type": "code",
   "execution_count": 2,
   "metadata": {
    "ExecuteTime": {
     "end_time": "2021-02-16T01:32:51.351249Z",
     "start_time": "2021-02-16T01:32:48.666237Z"
    },
    "scrolled": true
   },
   "outputs": [],
   "source": [
    "import nltk\n",
    "import matplotlib.pyplot as plt\n",
    "import pandas as pd\n",
    "from sklearn.feature_extraction.text import CountVectorizer ## TEST\n",
    "from sklearn.feature_extraction.text import TfidfVectorizer ## TEST\n",
    "from sklearn.feature_extraction.text import TfidfTransformer\n",
    "from nltk.probability import FreqDist\n",
    "from nltk.corpus import stopwords ## TEST\n",
    "from nltk.stem import PorterStemmer\n",
    "from sklearn.metrics import confusion_matrix\n",
    "import seaborn as sns\n",
    "from sklearn.naive_bayes import MultinomialNB\n",
    "from sklearn import metrics\n",
    "from sklearn.model_selection import train_test_split\n",
    "from matplotlib import cm\n",
    "import numpy as np\n",
    "from sklearn.ensemble import RandomForestClassifier\n",
    "from sklearn.metrics import accuracy_score\n",
    "from sklearn.metrics import f1_score\n",
    "from sklearn.naive_bayes import MultinomialNB\n",
    "\n",
    "# nltk.download('stopwords') ##\n",
    "# nltk.download('punkt') ##\n",
    "# nltk.download('wordnet') ##"
   ]
  },
  {
   "cell_type": "code",
   "execution_count": 3,
   "metadata": {
    "ExecuteTime": {
     "end_time": "2021-02-16T01:32:51.363476Z",
     "start_time": "2021-02-16T01:32:51.356455Z"
    }
   },
   "outputs": [],
   "source": [
    "####CLEAN_DESCRIPTION - do I need this?\n",
    "# df_clean_description = pd.read_csv('data/df_clean_description.csv')\n",
    "# df_clean_description.head()\n"
   ]
  },
  {
   "cell_type": "code",
   "execution_count": 79,
   "metadata": {
    "ExecuteTime": {
     "end_time": "2021-02-16T02:04:02.772839Z",
     "start_time": "2021-02-16T02:04:02.657217Z"
    }
   },
   "outputs": [
    {
     "data": {
      "text/html": [
       "<div>\n",
       "<style scoped>\n",
       "    .dataframe tbody tr th:only-of-type {\n",
       "        vertical-align: middle;\n",
       "    }\n",
       "\n",
       "    .dataframe tbody tr th {\n",
       "        vertical-align: top;\n",
       "    }\n",
       "\n",
       "    .dataframe thead th {\n",
       "        text-align: right;\n",
       "    }\n",
       "</style>\n",
       "<table border=\"1\" class=\"dataframe\">\n",
       "  <thead>\n",
       "    <tr style=\"text-align: right;\">\n",
       "      <th></th>\n",
       "      <th>SIZE</th>\n",
       "      <th>LOCATION_HQ</th>\n",
       "      <th>INDUSTRY</th>\n",
       "      <th>RATING_OVERALL</th>\n",
       "      <th>RATING_DI</th>\n",
       "      <th>RATING_CV</th>\n",
       "      <th>RATING_WL</th>\n",
       "      <th>RATING_SM</th>\n",
       "      <th>RATING_CB</th>\n",
       "      <th>RATING_CO</th>\n",
       "      <th>NUM_REVIEWS</th>\n",
       "      <th>DESCRIPTION</th>\n",
       "      <th>MISSION</th>\n",
       "      <th>FULL_DESCRIPTION</th>\n",
       "      <th>DESC_LEN</th>\n",
       "      <th>RATING_DI_BIN</th>\n",
       "      <th>SIZE_BIN</th>\n",
       "      <th>HQ_STATE</th>\n",
       "      <th>TARGET</th>\n",
       "      <th>CLEAN_DESCRIPTION</th>\n",
       "    </tr>\n",
       "  </thead>\n",
       "  <tbody>\n",
       "    <tr>\n",
       "      <th>0</th>\n",
       "      <td>10000+ Employees</td>\n",
       "      <td>New York, NY</td>\n",
       "      <td>Consulting</td>\n",
       "      <td>4.5</td>\n",
       "      <td>4.4</td>\n",
       "      <td>4.4</td>\n",
       "      <td>3.0</td>\n",
       "      <td>4.1</td>\n",
       "      <td>4.4</td>\n",
       "      <td>4.5</td>\n",
       "      <td>5198</td>\n",
       "      <td>We work with leaders across sectors to tackle ...</td>\n",
       "      <td>Mission: Our mission is two-fold: to help our ...</td>\n",
       "      <td>We work with leaders across sectors to tackle ...</td>\n",
       "      <td>1383</td>\n",
       "      <td>4</td>\n",
       "      <td>5.0</td>\n",
       "      <td>NY</td>\n",
       "      <td>1</td>\n",
       "      <td>we work with leaders across sectors to tackle ...</td>\n",
       "    </tr>\n",
       "    <tr>\n",
       "      <th>1</th>\n",
       "      <td>10000+ Employees</td>\n",
       "      <td>Ithaca, NY</td>\n",
       "      <td>Colleges &amp; Universities</td>\n",
       "      <td>4.5</td>\n",
       "      <td>4.3</td>\n",
       "      <td>4.4</td>\n",
       "      <td>4.0</td>\n",
       "      <td>4.1</td>\n",
       "      <td>4.1</td>\n",
       "      <td>4.2</td>\n",
       "      <td>1765</td>\n",
       "      <td>Cornell is a private, Ivy League university re...</td>\n",
       "      <td></td>\n",
       "      <td>Cornell is a private, Ivy League university re...</td>\n",
       "      <td>618</td>\n",
       "      <td>4</td>\n",
       "      <td>5.0</td>\n",
       "      <td>NY</td>\n",
       "      <td>1</td>\n",
       "      <td>cornell is  private ivy league university reco...</td>\n",
       "    </tr>\n",
       "    <tr>\n",
       "      <th>2</th>\n",
       "      <td>5001 to 10000 Employees</td>\n",
       "      <td>Santa Barbara, CA</td>\n",
       "      <td>Colleges &amp; Universities</td>\n",
       "      <td>4.5</td>\n",
       "      <td>4.2</td>\n",
       "      <td>4.3</td>\n",
       "      <td>4.4</td>\n",
       "      <td>4.1</td>\n",
       "      <td>3.7</td>\n",
       "      <td>4.0</td>\n",
       "      <td>1049</td>\n",
       "      <td>Dude, let's hit the beach! And then we'll hit ...</td>\n",
       "      <td></td>\n",
       "      <td>Dude, let's hit the beach! And then we'll hit ...</td>\n",
       "      <td>654</td>\n",
       "      <td>4</td>\n",
       "      <td>4.0</td>\n",
       "      <td>CA</td>\n",
       "      <td>1</td>\n",
       "      <td>dude let hit the beach and then well hit the b...</td>\n",
       "    </tr>\n",
       "  </tbody>\n",
       "</table>\n",
       "</div>"
      ],
      "text/plain": [
       "                      SIZE        LOCATION_HQ                 INDUSTRY  \\\n",
       "0         10000+ Employees       New York, NY               Consulting   \n",
       "1         10000+ Employees         Ithaca, NY  Colleges & Universities   \n",
       "2  5001 to 10000 Employees  Santa Barbara, CA  Colleges & Universities   \n",
       "\n",
       "   RATING_OVERALL  RATING_DI  RATING_CV  RATING_WL  RATING_SM  RATING_CB  \\\n",
       "0             4.5        4.4        4.4        3.0        4.1        4.4   \n",
       "1             4.5        4.3        4.4        4.0        4.1        4.1   \n",
       "2             4.5        4.2        4.3        4.4        4.1        3.7   \n",
       "\n",
       "   RATING_CO  NUM_REVIEWS                                        DESCRIPTION  \\\n",
       "0        4.5         5198  We work with leaders across sectors to tackle ...   \n",
       "1        4.2         1765  Cornell is a private, Ivy League university re...   \n",
       "2        4.0         1049  Dude, let's hit the beach! And then we'll hit ...   \n",
       "\n",
       "                                             MISSION  \\\n",
       "0  Mission: Our mission is two-fold: to help our ...   \n",
       "1                                                      \n",
       "2                                                      \n",
       "\n",
       "                                    FULL_DESCRIPTION  DESC_LEN  RATING_DI_BIN  \\\n",
       "0  We work with leaders across sectors to tackle ...      1383              4   \n",
       "1  Cornell is a private, Ivy League university re...       618              4   \n",
       "2  Dude, let's hit the beach! And then we'll hit ...       654              4   \n",
       "\n",
       "   SIZE_BIN HQ_STATE  TARGET  \\\n",
       "0       5.0       NY       1   \n",
       "1       5.0       NY       1   \n",
       "2       4.0       CA       1   \n",
       "\n",
       "                                   CLEAN_DESCRIPTION  \n",
       "0  we work with leaders across sectors to tackle ...  \n",
       "1  cornell is  private ivy league university reco...  \n",
       "2  dude let hit the beach and then well hit the b...  "
      ]
     },
     "execution_count": 79,
     "metadata": {},
     "output_type": "execute_result"
    }
   ],
   "source": [
    "#Entire dataframe \n",
    "df = pd.read_csv('data/glassdoor_ratings_main.csv') \n",
    "df.head(3)"
   ]
  },
  {
   "cell_type": "markdown",
   "metadata": {
    "ExecuteTime": {
     "end_time": "2021-02-09T21:04:33.874949Z",
     "start_time": "2021-02-09T21:04:33.871450Z"
    },
    "heading_collapsed": true
   },
   "source": [
    "## TESTING"
   ]
  },
  {
   "cell_type": "markdown",
   "metadata": {
    "hidden": true
   },
   "source": [
    "### Preprocessing TEST"
   ]
  },
  {
   "cell_type": "markdown",
   "metadata": {
    "hidden": true
   },
   "source": [
    "#### Tokenization"
   ]
  },
  {
   "cell_type": "markdown",
   "metadata": {
    "hidden": true
   },
   "source": [
    "Tokenization is the process of splitting documents into units of observations. We usually represent the tokens as n-gram, where n represent the consecutive words occuring in a document. In the case of unigram (one word token), the sentence \"David works here\" can be tokenized into?\n",
    "\n",
    "\"David\", \"works\", \"here\" \"David works\", \"works here\""
   ]
  },
  {
   "cell_type": "code",
   "execution_count": 5,
   "metadata": {
    "ExecuteTime": {
     "end_time": "2021-02-16T01:32:51.674434Z",
     "start_time": "2021-02-16T01:32:51.662802Z"
    },
    "hidden": true,
    "scrolled": true
   },
   "outputs": [
    {
     "data": {
      "text/plain": [
       "'mission: our mission is two-fold: to help our clients make distinctive, lasting, and substantial improvements in their performance; and to build a firm that attracts, develops, excites, and retains exceptional people. these elements are strongly connected. helping clients solve their toughest problems requires the best people, and the best people are drawn to work that matters, together with supportive, dedicated colleagues.'"
      ]
     },
     "execution_count": 5,
     "metadata": {},
     "output_type": "execute_result"
    }
   ],
   "source": [
    "description = df.iloc[0, 12].lower()\n",
    "description"
   ]
  },
  {
   "cell_type": "code",
   "execution_count": 6,
   "metadata": {
    "ExecuteTime": {
     "end_time": "2021-02-16T01:32:51.686491Z",
     "start_time": "2021-02-16T01:32:51.680428Z"
    },
    "hidden": true
   },
   "outputs": [],
   "source": [
    "from nltk.tokenize import RegexpTokenizer\n",
    "\n",
    "tokenizer = RegexpTokenizer(r'[a-zA-Z0-9]+')\n",
    "\n",
    "tokenized_description = tokenizer.tokenize(description)"
   ]
  },
  {
   "cell_type": "code",
   "execution_count": 7,
   "metadata": {
    "ExecuteTime": {
     "end_time": "2021-02-16T01:32:51.706473Z",
     "start_time": "2021-02-16T01:32:51.695775Z"
    },
    "hidden": true
   },
   "outputs": [
    {
     "name": "stdout",
     "output_type": "stream",
     "text": [
      "<FreqDist with 47 samples and 62 outcomes>\n"
     ]
    }
   ],
   "source": [
    "fdist = FreqDist(tokenized_description)\n",
    "print(fdist)"
   ]
  },
  {
   "cell_type": "code",
   "execution_count": 8,
   "metadata": {
    "ExecuteTime": {
     "end_time": "2021-02-16T01:32:52.216071Z",
     "start_time": "2021-02-16T01:32:51.719877Z"
    },
    "hidden": true
   },
   "outputs": [
    {
     "data": {
      "image/png": "[encoded data removed]",
      "text/plain": [
       "<Figure size 432x288 with 1 Axes>"
      ]
     },
     "metadata": {
      "needs_background": "light"
     },
     "output_type": "display_data"
    },
    {
     "data": {
      "text/plain": [
       "<matplotlib.axes._subplots.AxesSubplot at 0x7fc9822c09b0>"
      ]
     },
     "execution_count": 8,
     "metadata": {},
     "output_type": "execute_result"
    }
   ],
   "source": [
    "#should I remove capital letters?\n",
    "plt.figure()\n",
    "fdist.plot(30)"
   ]
  },
  {
   "cell_type": "markdown",
   "metadata": {
    "hidden": true
   },
   "source": [
    "#### Stop Words"
   ]
  },
  {
   "cell_type": "code",
   "execution_count": 9,
   "metadata": {
    "ExecuteTime": {
     "end_time": "2021-02-16T01:32:52.244357Z",
     "start_time": "2021-02-16T01:32:52.228388Z"
    },
    "hidden": true
   },
   "outputs": [],
   "source": [
    "## automatic stop words, but you can add your own words as well\n",
    "stop_words=set(stopwords.words(\"english\")) "
   ]
  },
  {
   "cell_type": "code",
   "execution_count": 10,
   "metadata": {
    "ExecuteTime": {
     "end_time": "2021-02-16T01:32:52.262258Z",
     "start_time": "2021-02-16T01:32:52.248971Z"
    },
    "hidden": true
   },
   "outputs": [
    {
     "name": "stdout",
     "output_type": "stream",
     "text": [
      "Filterd Sentence: ['mission', 'mission', 'two', 'fold', 'help', 'clients', 'make', 'distinctive', 'lasting', 'substantial', 'improvements', 'performance', 'build', 'firm', 'attracts', 'develops', 'excites', 'retains', 'exceptional', 'people', 'elements', 'strongly', 'connected', 'helping', 'clients', 'solve', 'toughest', 'problems', 'requires', 'best', 'people', 'best', 'people', 'drawn', 'work', 'matters', 'together', 'supportive', 'dedicated', 'colleagues']\n"
     ]
    }
   ],
   "source": [
    "filtered_description=[]\n",
    "for w in tokenized_description:\n",
    "    if w not in stop_words:\n",
    "        filtered_description.append(w)\n",
    "print(\"Filterd Sentence:\",filtered_description)"
   ]
  },
  {
   "cell_type": "code",
   "execution_count": 11,
   "metadata": {
    "ExecuteTime": {
     "end_time": "2021-02-16T01:32:52.274644Z",
     "start_time": "2021-02-16T01:32:52.267887Z"
    },
    "hidden": true
   },
   "outputs": [
    {
     "name": "stdout",
     "output_type": "stream",
     "text": [
      "62\n",
      "40\n"
     ]
    }
   ],
   "source": [
    "## After filtering words, words are now in half\n",
    "print(len(tokenized_description))\n",
    "print(len(filtered_description))"
   ]
  },
  {
   "cell_type": "code",
   "execution_count": 12,
   "metadata": {
    "ExecuteTime": {
     "end_time": "2021-02-16T01:32:52.642424Z",
     "start_time": "2021-02-16T01:32:52.281605Z"
    },
    "hidden": true
   },
   "outputs": [
    {
     "data": {
      "image/png": "[encoded data removed]",
      "text/plain": [
       "<Figure size 432x288 with 1 Axes>"
      ]
     },
     "metadata": {
      "needs_background": "light"
     },
     "output_type": "display_data"
    },
    {
     "data": {
      "text/plain": [
       "<matplotlib.axes._subplots.AxesSubplot at 0x7fc9839ab390>"
      ]
     },
     "execution_count": 12,
     "metadata": {},
     "output_type": "execute_result"
    }
   ],
   "source": [
    "fdist = FreqDist(filtered_description)\n",
    "plt.figure()\n",
    "fdist.plot(20)"
   ]
  },
  {
   "cell_type": "markdown",
   "metadata": {
    "hidden": true
   },
   "source": [
    "#### Stemming"
   ]
  },
  {
   "cell_type": "code",
   "execution_count": 13,
   "metadata": {
    "ExecuteTime": {
     "end_time": "2021-02-16T01:32:52.649922Z",
     "start_time": "2021-02-16T01:32:52.646226Z"
    },
    "hidden": true
   },
   "outputs": [],
   "source": [
    "from nltk.stem import PorterStemmer"
   ]
  },
  {
   "cell_type": "code",
   "execution_count": 14,
   "metadata": {
    "ExecuteTime": {
     "end_time": "2021-02-16T01:32:52.670195Z",
     "start_time": "2021-02-16T01:32:52.655194Z"
    },
    "hidden": true,
    "scrolled": true
   },
   "outputs": [
    {
     "data": {
      "text/plain": [
       "['mission',\n",
       " 'mission',\n",
       " 'two',\n",
       " 'fold',\n",
       " 'help',\n",
       " 'clients',\n",
       " 'make',\n",
       " 'distinctive',\n",
       " 'lasting',\n",
       " 'substantial',\n",
       " 'improvements',\n",
       " 'performance',\n",
       " 'build',\n",
       " 'firm',\n",
       " 'attracts',\n",
       " 'develops',\n",
       " 'excites',\n",
       " 'retains',\n",
       " 'exceptional',\n",
       " 'people',\n",
       " 'elements',\n",
       " 'strongly',\n",
       " 'connected',\n",
       " 'helping',\n",
       " 'clients',\n",
       " 'solve',\n",
       " 'toughest',\n",
       " 'problems',\n",
       " 'requires',\n",
       " 'best',\n",
       " 'people',\n",
       " 'best',\n",
       " 'people',\n",
       " 'drawn',\n",
       " 'work',\n",
       " 'matters',\n",
       " 'together',\n",
       " 'supportive',\n",
       " 'dedicated',\n",
       " 'colleagues']"
      ]
     },
     "execution_count": 14,
     "metadata": {},
     "output_type": "execute_result"
    }
   ],
   "source": [
    "filtered_description"
   ]
  },
  {
   "cell_type": "code",
   "execution_count": 15,
   "metadata": {
    "ExecuteTime": {
     "end_time": "2021-02-16T01:32:52.698123Z",
     "start_time": "2021-02-16T01:32:52.680183Z"
    },
    "hidden": true
   },
   "outputs": [
    {
     "name": "stdout",
     "output_type": "stream",
     "text": [
      "['mission', 'mission', 'two', 'fold', 'help', 'client', 'make', 'distinct', 'last', 'substanti', 'improv', 'perform', 'build', 'firm', 'attract', 'develop', 'excit', 'retain', 'except', 'peopl', 'element', 'strongli', 'connect', 'help', 'client', 'solv', 'toughest', 'problem', 'requir', 'best', 'peopl', 'best', 'peopl', 'drawn', 'work', 'matter', 'togeth', 'support', 'dedic', 'colleagu']\n"
     ]
    }
   ],
   "source": [
    "ps = PorterStemmer()\n",
    "\n",
    "stemmed_description=[]\n",
    "for w in filtered_description:\n",
    "    stemmed_description.append(ps.stem(w))\n",
    "\n",
    "print(stemmed_description)"
   ]
  },
  {
   "cell_type": "code",
   "execution_count": 16,
   "metadata": {
    "ExecuteTime": {
     "end_time": "2021-02-16T01:32:53.037181Z",
     "start_time": "2021-02-16T01:32:52.706206Z"
    },
    "hidden": true,
    "scrolled": true
   },
   "outputs": [
    {
     "data": {
      "image/png": "[encoded data removed]",
      "text/plain": [
       "<Figure size 432x288 with 1 Axes>"
      ]
     },
     "metadata": {
      "needs_background": "light"
     },
     "output_type": "display_data"
    },
    {
     "data": {
      "text/plain": [
       "<matplotlib.axes._subplots.AxesSubplot at 0x7fc97e5da6a0>"
      ]
     },
     "execution_count": 16,
     "metadata": {},
     "output_type": "execute_result"
    }
   ],
   "source": [
    "fdist = FreqDist(stemmed_description)\n",
    "fdist.plot(20)"
   ]
  },
  {
   "cell_type": "markdown",
   "metadata": {},
   "source": [
    "## WORKING"
   ]
  },
  {
   "cell_type": "markdown",
   "metadata": {},
   "source": [
    "**Preprocessing**"
   ]
  },
  {
   "cell_type": "code",
   "execution_count": 80,
   "metadata": {
    "ExecuteTime": {
     "end_time": "2021-02-16T02:04:05.843876Z",
     "start_time": "2021-02-16T02:04:05.833429Z"
    }
   },
   "outputs": [],
   "source": [
    "### Same stopwords as in Cleaning notebook\n",
    "\n",
    "## setting stopwords and punctuations\n",
    "sw_list = stopwords.words('english')\n",
    "sw_list += list(string.punctuation) #appending to stopwords\n",
    "sw_list += [\"''\", '\"\"', '...', '``', '’', '“', '’', '”', '‘', '',\n",
    "            '-', '—', '--', 'e.g', \"'ll\", \"'ve\", \"'s\",\n",
    "            'company', 'services', 'world', 'people', 'care', 'health', 'us',\n",
    "           ]\n",
    "sw_set = set(sw_list) #list of stop words - why do I need to make it a set?"
   ]
  },
  {
   "cell_type": "code",
   "execution_count": 81,
   "metadata": {
    "ExecuteTime": {
     "end_time": "2021-02-16T02:04:06.232225Z",
     "start_time": "2021-02-16T02:04:06.186256Z"
    }
   },
   "outputs": [
    {
     "name": "stdout",
     "output_type": "stream",
     "text": [
      "{'', 'care', 'for', 'to', '``', 'until', 'don', \"haven't\", '...', 'and', 'wouldn', '(', 't', 'why', '‘', 'should', \"aren't\", 'haven', 'the', '_', 'again', 'herself', 'she', 'doesn', 'my', 'being', 'd', 'an', 'do', '\"\"', 'world', ',', 'how', \"that'll\", 'because', '--', 'so', \"isn't\", '`', 'can', 'myself', \"'s\", 'company', '#', 'it', \"mightn't\", 'wasn', 'aren', 'at', 'was', 'm', \"you're\", 'between', 'then', '+', 'health', 'each', 'no', \"should've\", \"you'd\", \"needn't\", '^', 'whom', 'where', '%', 'their', 'into', 'ours', 'shouldn', 'hadn', 'been', \"wouldn't\", 'they', '{', 'i', 'by', 'below', 'does', 'you', 'weren', 'over', '&', 'but', 'these', 'isn', '!', 'couldn', 'services', 'in', '~', 'if', 've', 'mightn', \"couldn't\", 'this', 'hasn', 'are', 'ma', 'have', \"won't\", '”', '<', 'e.g', \"weren't\", \"didn't\", \"she's\", 'did', \"you've\", 'me', 'when', 's', '-', 'what', 'there', 'll', '$', \"hasn't\", 'y', 'such', 'some', 'mustn', '?', \"shouldn't\", 'we', 'not', 'on', 'theirs', 'than', 'all', 'his', 'us', \"wasn't\", 'against', 'its', 'a', 'itself', '—', 'few', 'ourselves', ')', \"you'll\", 'am', 'having', 'most', 'her', 'just', 'him', 'during', 'yourself', 'own', 'won', \"don't\", 'down', 'had', 'themselves', 'under', 'needn', 'any', '=', 'with', \"hadn't\", 'very', 'be', 'ain', 'off', \"it's\", 'is', 'too', 'doing', 'didn', \"mustn't\", '/', '\\\\', 'people', ']', 'out', 'now', 'here', \"shan't\", 'hers', 'above', \"''\", 'has', ';', '.', 'only', 'nor', '’', 'yours', 'he', 'himself', 'through', \"'\", 'about', 'more', 'that', 'your', \"'ll\", \"doesn't\", '\"', 'o', 'up', 'them', '>', \"'ve\", 'our', 'yourselves', 'after', '“', 'were', '}', 'both', 'of', ':', 'those', 'further', 're', 'who', 'shan', 'which', 'while', 'same', 'will', '*', 'other', 'once', '[', '@', 'or', 'as', 'from', '|', 'before'}\n"
     ]
    }
   ],
   "source": [
    "print(sw_set)"
   ]
  },
  {
   "cell_type": "markdown",
   "metadata": {},
   "source": [
    "**Create CLEAN_DESCRIPTION**"
   ]
  },
  {
   "cell_type": "code",
   "execution_count": null,
   "metadata": {},
   "outputs": [],
   "source": []
  },
  {
   "cell_type": "code",
   "execution_count": null,
   "metadata": {},
   "outputs": [],
   "source": []
  },
  {
   "cell_type": "code",
   "execution_count": 82,
   "metadata": {
    "ExecuteTime": {
     "end_time": "2021-02-16T02:04:11.277850Z",
     "start_time": "2021-02-16T02:04:10.328233Z"
    }
   },
   "outputs": [],
   "source": [
    "#Creating CLEAN_DESCRIPTION\n",
    "\n",
    "#Function to clean FULL_DESCRIPTION\n",
    "def clean_text(text):\n",
    "    # make text lowercase\n",
    "    text = text.lower()\n",
    "    # fixing mission statement concat\n",
    "    text = re.sub('mission+', '', text)\n",
    "    # remove numbers\n",
    "    text = re.sub('\\w*\\d\\w*', '', text)\n",
    "    # remove single letter characters\n",
    "    text = re.sub(r\"\\b[a-zA-Z]\\b\", \"\", text)\n",
    "    # remove webpages\n",
    "    text = re.sub('www[^\\s]+', '', text)\n",
    "    # remove punctuation and symbols\n",
    "    text = re.sub('[%s]' % re.escape(string.punctuation), '', text)\n",
    "    text = re.sub('™', '', text)\n",
    "    text = re.sub('•', '', text)\n",
    "    text = re.sub('◾', '', text)\n",
    "    text = re.sub('®', '', text)\n",
    "    # remove quotation marks\n",
    "    text = re.sub('\\\"+', '', text)\n",
    "    text = re.sub('\\’+', '', text) \n",
    "    text = re.sub('\\ ̀+', '', text)\n",
    "    # if there's a new line, change to a whitespace\n",
    "    text = re.sub('\\n', ' ', text)\n",
    "    # if there's more than 1 whitespace, change to just 1\n",
    "    text = re.sub('\\s+', ' ', text)\n",
    "    \n",
    "    return text\n",
    "\n",
    "# apply function to 'FULL_DESCRIPTION' column\n",
    "df['CLEAN_DESCRIPTION'] = df['FULL_DESCRIPTION'].apply(clean_text)"
   ]
  },
  {
   "cell_type": "code",
   "execution_count": 83,
   "metadata": {
    "ExecuteTime": {
     "end_time": "2021-02-16T02:04:11.638468Z",
     "start_time": "2021-02-16T02:04:11.628979Z"
    }
   },
   "outputs": [],
   "source": [
    "def process_description(description):\n",
    "    tokens = nltk.word_tokenize(description) #tokenize\n",
    "    stopwords_removed = [token for token in tokens if token not in sw_set]\n",
    "    return stopwords_removed "
   ]
  },
  {
   "cell_type": "code",
   "execution_count": null,
   "metadata": {},
   "outputs": [],
   "source": []
  },
  {
   "cell_type": "code",
   "execution_count": null,
   "metadata": {},
   "outputs": [],
   "source": []
  },
  {
   "cell_type": "markdown",
   "metadata": {},
   "source": [
    "### EDA- DTM - does this belong here?"
   ]
  },
  {
   "cell_type": "code",
   "execution_count": 84,
   "metadata": {
    "ExecuteTime": {
     "end_time": "2021-02-16T02:04:37.762979Z",
     "start_time": "2021-02-16T02:04:17.017513Z"
    }
   },
   "outputs": [],
   "source": [
    "dtm = pd.read_csv('data/dtm.csv')"
   ]
  },
  {
   "cell_type": "code",
   "execution_count": 85,
   "metadata": {
    "ExecuteTime": {
     "end_time": "2021-02-16T02:04:37.843370Z",
     "start_time": "2021-02-16T02:04:37.766363Z"
    }
   },
   "outputs": [
    {
     "data": {
      "text/html": [
       "<div>\n",
       "<style scoped>\n",
       "    .dataframe tbody tr th:only-of-type {\n",
       "        vertical-align: middle;\n",
       "    }\n",
       "\n",
       "    .dataframe tbody tr th {\n",
       "        vertical-align: top;\n",
       "    }\n",
       "\n",
       "    .dataframe thead th {\n",
       "        text-align: right;\n",
       "    }\n",
       "</style>\n",
       "<table border=\"1\" class=\"dataframe\">\n",
       "  <thead>\n",
       "    <tr style=\"text-align: right;\">\n",
       "      <th></th>\n",
       "      <th>0</th>\n",
       "      <th>1</th>\n",
       "      <th>2</th>\n",
       "      <th>3</th>\n",
       "      <th>4</th>\n",
       "      <th>5</th>\n",
       "      <th>6</th>\n",
       "      <th>7</th>\n",
       "      <th>8</th>\n",
       "      <th>9</th>\n",
       "      <th>...</th>\n",
       "      <th>1914</th>\n",
       "      <th>1915</th>\n",
       "      <th>1916</th>\n",
       "      <th>1917</th>\n",
       "      <th>1918</th>\n",
       "      <th>1919</th>\n",
       "      <th>1920</th>\n",
       "      <th>1921</th>\n",
       "      <th>1922</th>\n",
       "      <th>1923</th>\n",
       "    </tr>\n",
       "  </thead>\n",
       "  <tbody>\n",
       "    <tr>\n",
       "      <th>aaa</th>\n",
       "      <td>0</td>\n",
       "      <td>0</td>\n",
       "      <td>0</td>\n",
       "      <td>0</td>\n",
       "      <td>0</td>\n",
       "      <td>0</td>\n",
       "      <td>0</td>\n",
       "      <td>0</td>\n",
       "      <td>0</td>\n",
       "      <td>0</td>\n",
       "      <td>...</td>\n",
       "      <td>0</td>\n",
       "      <td>0</td>\n",
       "      <td>0</td>\n",
       "      <td>0</td>\n",
       "      <td>0</td>\n",
       "      <td>0</td>\n",
       "      <td>0</td>\n",
       "      <td>0</td>\n",
       "      <td>0</td>\n",
       "      <td>0</td>\n",
       "    </tr>\n",
       "    <tr>\n",
       "      <th>aaeeoverify</th>\n",
       "      <td>0</td>\n",
       "      <td>0</td>\n",
       "      <td>0</td>\n",
       "      <td>0</td>\n",
       "      <td>0</td>\n",
       "      <td>0</td>\n",
       "      <td>0</td>\n",
       "      <td>0</td>\n",
       "      <td>0</td>\n",
       "      <td>0</td>\n",
       "      <td>...</td>\n",
       "      <td>0</td>\n",
       "      <td>0</td>\n",
       "      <td>0</td>\n",
       "      <td>0</td>\n",
       "      <td>0</td>\n",
       "      <td>0</td>\n",
       "      <td>0</td>\n",
       "      <td>0</td>\n",
       "      <td>0</td>\n",
       "      <td>0</td>\n",
       "    </tr>\n",
       "    <tr>\n",
       "      <th>aaha</th>\n",
       "      <td>0</td>\n",
       "      <td>0</td>\n",
       "      <td>0</td>\n",
       "      <td>0</td>\n",
       "      <td>0</td>\n",
       "      <td>0</td>\n",
       "      <td>0</td>\n",
       "      <td>0</td>\n",
       "      <td>0</td>\n",
       "      <td>0</td>\n",
       "      <td>...</td>\n",
       "      <td>0</td>\n",
       "      <td>0</td>\n",
       "      <td>0</td>\n",
       "      <td>0</td>\n",
       "      <td>0</td>\n",
       "      <td>0</td>\n",
       "      <td>0</td>\n",
       "      <td>0</td>\n",
       "      <td>0</td>\n",
       "      <td>0</td>\n",
       "    </tr>\n",
       "    <tr>\n",
       "      <th>aamc</th>\n",
       "      <td>0</td>\n",
       "      <td>0</td>\n",
       "      <td>0</td>\n",
       "      <td>0</td>\n",
       "      <td>0</td>\n",
       "      <td>0</td>\n",
       "      <td>0</td>\n",
       "      <td>0</td>\n",
       "      <td>0</td>\n",
       "      <td>0</td>\n",
       "      <td>...</td>\n",
       "      <td>0</td>\n",
       "      <td>0</td>\n",
       "      <td>0</td>\n",
       "      <td>0</td>\n",
       "      <td>0</td>\n",
       "      <td>0</td>\n",
       "      <td>0</td>\n",
       "      <td>0</td>\n",
       "      <td>0</td>\n",
       "      <td>0</td>\n",
       "    </tr>\n",
       "    <tr>\n",
       "      <th>aan</th>\n",
       "      <td>0</td>\n",
       "      <td>0</td>\n",
       "      <td>0</td>\n",
       "      <td>0</td>\n",
       "      <td>0</td>\n",
       "      <td>0</td>\n",
       "      <td>0</td>\n",
       "      <td>0</td>\n",
       "      <td>0</td>\n",
       "      <td>0</td>\n",
       "      <td>...</td>\n",
       "      <td>0</td>\n",
       "      <td>0</td>\n",
       "      <td>0</td>\n",
       "      <td>0</td>\n",
       "      <td>0</td>\n",
       "      <td>0</td>\n",
       "      <td>0</td>\n",
       "      <td>0</td>\n",
       "      <td>0</td>\n",
       "      <td>0</td>\n",
       "    </tr>\n",
       "  </tbody>\n",
       "</table>\n",
       "<p>5 rows × 1924 columns</p>\n",
       "</div>"
      ],
      "text/plain": [
       "             0     1     2     3     4     5     6     7     8     9     ...  \\\n",
       "aaa             0     0     0     0     0     0     0     0     0     0  ...   \n",
       "aaeeoverify     0     0     0     0     0     0     0     0     0     0  ...   \n",
       "aaha            0     0     0     0     0     0     0     0     0     0  ...   \n",
       "aamc            0     0     0     0     0     0     0     0     0     0  ...   \n",
       "aan             0     0     0     0     0     0     0     0     0     0  ...   \n",
       "\n",
       "             1914  1915  1916  1917  1918  1919  1920  1921  1922  1923  \n",
       "aaa             0     0     0     0     0     0     0     0     0     0  \n",
       "aaeeoverify     0     0     0     0     0     0     0     0     0     0  \n",
       "aaha            0     0     0     0     0     0     0     0     0     0  \n",
       "aamc            0     0     0     0     0     0     0     0     0     0  \n",
       "aan             0     0     0     0     0     0     0     0     0     0  \n",
       "\n",
       "[5 rows x 1924 columns]"
      ]
     },
     "execution_count": 85,
     "metadata": {},
     "output_type": "execute_result"
    }
   ],
   "source": [
    "dtm = dtm.transpose()\n",
    "dtm.head()"
   ]
  },
  {
   "cell_type": "code",
   "execution_count": 86,
   "metadata": {
    "ExecuteTime": {
     "end_time": "2021-02-16T02:04:46.322552Z",
     "start_time": "2021-02-16T02:04:37.860883Z"
    }
   },
   "outputs": [],
   "source": [
    "# Create set of top 30 words used by each company\n",
    "top_dict = {}\n",
    "for c in dtm.columns:\n",
    "    top = dtm[c].sort_values(ascending=False).head(30)\n",
    "    top_dict[c]= list(zip(top.index, top.values))"
   ]
  },
  {
   "cell_type": "code",
   "execution_count": 87,
   "metadata": {
    "ExecuteTime": {
     "end_time": "2021-02-16T02:04:46.422864Z",
     "start_time": "2021-02-16T02:04:46.326103Z"
    }
   },
   "outputs": [
    {
     "data": {
      "text/plain": [
       "[('business', 303),\n",
       " ('products', 296),\n",
       " ('every', 275),\n",
       " ('technology', 268),\n",
       " ('solutions', 267),\n",
       " ('employees', 262),\n",
       " ('largest', 238),\n",
       " ('work', 233),\n",
       " ('global', 212),\n",
       " ('best', 211),\n",
       " ('help', 205),\n",
       " ('make', 195),\n",
       " ('well', 194),\n",
       " ('across', 191),\n",
       " ('clients', 188),\n",
       " ('customers', 183),\n",
       " ('years', 180),\n",
       " ('offers', 177),\n",
       " ('communities', 175),\n",
       " ('new', 174),\n",
       " ('home', 162),\n",
       " ('better', 162),\n",
       " ('leading', 161),\n",
       " ('companies', 159),\n",
       " ('operates', 159),\n",
       " ('university', 158),\n",
       " ('experience', 158),\n",
       " ('industry', 155),\n",
       " ('one', 155),\n",
       " ('mission', 150)]"
      ]
     },
     "execution_count": 87,
     "metadata": {},
     "output_type": "execute_result"
    }
   ],
   "source": [
    "# Look at the most common top words and add them to the stop word list\n",
    "from collections import Counter\n",
    "\n",
    "# Let's first pull out the top 30 words\n",
    "words = []\n",
    "for company in dtm.columns:\n",
    "    top = [word for (word, count) in top_dict[company]]\n",
    "    for t in top:\n",
    "        words.append(t)\n",
    "\n",
    "# Top 30 most common words\n",
    "new_sw = list(Counter(words).most_common()[:30])\n",
    "new_sw"
   ]
  },
  {
   "cell_type": "code",
   "execution_count": 88,
   "metadata": {
    "ExecuteTime": {
     "end_time": "2021-02-16T02:04:46.473369Z",
     "start_time": "2021-02-16T02:04:46.441960Z"
    }
   },
   "outputs": [],
   "source": [
    "# Create a list to add new words to sw_list\n",
    "\n",
    "add_to_sw_list = []\n",
    "for word in new_sw:\n",
    "    add_to_sw_list.append(word[0])\n",
    "    \n",
    "#add_to_sw_list #Sanity Check"
   ]
  },
  {
   "cell_type": "code",
   "execution_count": 89,
   "metadata": {
    "ExecuteTime": {
     "end_time": "2021-02-16T02:04:46.498400Z",
     "start_time": "2021-02-16T02:04:46.481217Z"
    }
   },
   "outputs": [],
   "source": [
    "# Add to stop words\n",
    "\n",
    "sw_list += add_to_sw_list\n",
    "sw_set = set(sw_list) #convert into a set\n",
    "\n",
    "# Uncomment below line to see updated stop words set\n",
    "#sw_set #Sanity Check"
   ]
  },
  {
   "cell_type": "code",
   "execution_count": null,
   "metadata": {},
   "outputs": [],
   "source": []
  },
  {
   "cell_type": "code",
   "execution_count": null,
   "metadata": {},
   "outputs": [],
   "source": []
  },
  {
   "cell_type": "code",
   "execution_count": null,
   "metadata": {},
   "outputs": [],
   "source": []
  },
  {
   "cell_type": "code",
   "execution_count": null,
   "metadata": {},
   "outputs": [],
   "source": []
  },
  {
   "cell_type": "code",
   "execution_count": null,
   "metadata": {},
   "outputs": [],
   "source": []
  },
  {
   "cell_type": "code",
   "execution_count": null,
   "metadata": {},
   "outputs": [],
   "source": []
  },
  {
   "cell_type": "markdown",
   "metadata": {},
   "source": [
    "### EDA"
   ]
  },
  {
   "cell_type": "markdown",
   "metadata": {},
   "source": [
    "#### Most Frequent Words - EDA\n",
    "- data_incl, processed_incl\n",
    "- data_not_incl, processed_not_incl"
   ]
  },
  {
   "cell_type": "code",
   "execution_count": 77,
   "metadata": {
    "ExecuteTime": {
     "end_time": "2021-02-16T01:59:45.294701Z",
     "start_time": "2021-02-16T01:59:45.279335Z"
    }
   },
   "outputs": [
    {
     "name": "stdout",
     "output_type": "stream",
     "text": [
      "inclusive companies:  1114\n",
      "non-inclusive companies:  870\n"
     ]
    }
   ],
   "source": [
    "#pulling out the text data from each category (inclusive vs non-inclusive)\n",
    "\n",
    "df_freq_inclusive = df[df['TARGET']==1]\n",
    "df_freq_not_inclusive = df[df['TARGET']==0]\n",
    "\n",
    "data_incl = df_freq_inclusive['CLEAN_DESCRIPTION']\n",
    "data_not_incl = df_freq_not_inclusive['CLEAN_DESCRIPTION']\n",
    "\n",
    "print('inclusive companies: ', len(processed_incl))\n",
    "print('non-inclusive companies: ', len(processed_not_incl))"
   ]
  },
  {
   "cell_type": "code",
   "execution_count": 22,
   "metadata": {
    "ExecuteTime": {
     "end_time": "2021-02-16T01:32:55.549781Z",
     "start_time": "2021-02-16T01:32:53.995694Z"
    }
   },
   "outputs": [],
   "source": [
    "# applying tokenize function to each category\n",
    "processed_incl = list(map(process_description, data_incl))\n",
    "processed_not_incl = list(map(process_description, data_not_incl))"
   ]
  },
  {
   "cell_type": "code",
   "execution_count": 26,
   "metadata": {
    "ExecuteTime": {
     "end_time": "2021-02-16T01:32:55.739102Z",
     "start_time": "2021-02-16T01:32:55.712040Z"
    }
   },
   "outputs": [
    {
     "name": "stdout",
     "output_type": "stream",
     "text": [
      "vocab for inclusive:  11488\n",
      "vocab for non-inclusive:  10753\n"
     ]
    }
   ],
   "source": [
    "# # Vocabulary scope for each category\n",
    "\n",
    "# #inclusive\n",
    "# total_vocab_incl = set()\n",
    "# for w in processed_incl:\n",
    "#     total_vocab_incl.update(w)\n",
    "\n",
    "# #not inclusive\n",
    "# total_vocab_NOT_incl = set()\n",
    "# for w in processed_not_incl:\n",
    "#     total_vocab_NOT_incl.update(w)\n",
    "\n",
    "# print('vocab for inclusive: ', len(total_vocab_incl))  \n",
    "# print('vocab for non-inclusive: ', len(total_vocab_NOT_incl))        "
   ]
  },
  {
   "cell_type": "code",
   "execution_count": 27,
   "metadata": {
    "ExecuteTime": {
     "end_time": "2021-02-16T01:32:56.042460Z",
     "start_time": "2021-02-16T01:32:55.745050Z"
    }
   },
   "outputs": [],
   "source": [
    "# Looking at top words in each category\n",
    "\n",
    "flat_incl = [item for sublist in processed_incl for item in sublist]\n",
    "flat_not_incl = [item for sublist in processed_not_incl for item in sublist]\n",
    "\n",
    "inclusive_freq = FreqDist(flat_incl)\n",
    "not_inclusive_freq = FreqDist(flat_not_incl)"
   ]
  },
  {
   "cell_type": "code",
   "execution_count": 28,
   "metadata": {
    "ExecuteTime": {
     "end_time": "2021-02-16T01:32:56.073578Z",
     "start_time": "2021-02-16T01:32:56.054706Z"
    },
    "scrolled": true
   },
   "outputs": [],
   "source": [
    "# def returnNotMatches(a, b):\n",
    "#     return [x for x in a if x not in b]\n",
    "\n",
    "# not_common = returnNotMatches(flat_incl, flat_not_incl)\n",
    "\n",
    "# #checking out not_common words\n",
    "# #not_common"
   ]
  },
  {
   "cell_type": "code",
   "execution_count": 29,
   "metadata": {
    "ExecuteTime": {
     "end_time": "2021-02-16T01:32:56.095844Z",
     "start_time": "2021-02-16T01:32:56.079183Z"
    },
    "collapsed": true
   },
   "outputs": [
    {
     "data": {
      "text/plain": [
       "[('work', 427),\n",
       " ('business', 396),\n",
       " ('one', 387),\n",
       " ('customers', 356),\n",
       " ('university', 354),\n",
       " ('new', 314),\n",
       " ('solutions', 300),\n",
       " ('every', 300),\n",
       " ('best', 294),\n",
       " ('technology', 291),\n",
       " ('employees', 286),\n",
       " ('products', 275),\n",
       " ('also', 272),\n",
       " ('largest', 267),\n",
       " ('service', 265),\n",
       " ('global', 258),\n",
       " ('across', 256),\n",
       " ('including', 250),\n",
       " ('team', 245),\n",
       " ('make', 236)]"
      ]
     },
     "execution_count": 29,
     "metadata": {},
     "output_type": "execute_result"
    }
   ],
   "source": [
    "# Top 20 inclusive words:\n",
    "inclusive_freq.most_common(20)"
   ]
  },
  {
   "cell_type": "code",
   "execution_count": 30,
   "metadata": {
    "ExecuteTime": {
     "end_time": "2021-02-16T01:32:56.116980Z",
     "start_time": "2021-02-16T01:32:56.100448Z"
    },
    "collapsed": true
   },
   "outputs": [
    {
     "data": {
      "text/plain": [
       "[('customers', 342),\n",
       " ('products', 318),\n",
       " ('solutions', 314),\n",
       " ('one', 300),\n",
       " ('work', 284),\n",
       " ('global', 281),\n",
       " ('business', 277),\n",
       " ('new', 249),\n",
       " ('employees', 241),\n",
       " ('also', 218),\n",
       " ('every', 213),\n",
       " ('service', 212),\n",
       " ('leading', 212),\n",
       " ('including', 196),\n",
       " ('technology', 196),\n",
       " ('across', 192),\n",
       " ('clients', 189),\n",
       " ('largest', 184),\n",
       " ('help', 181),\n",
       " ('management', 176)]"
      ]
     },
     "execution_count": 30,
     "metadata": {},
     "output_type": "execute_result"
    }
   ],
   "source": [
    "# Top 20 non-inclusive words:\n",
    "not_inclusive_freq.most_common(20)"
   ]
  },
  {
   "cell_type": "markdown",
   "metadata": {
    "heading_collapsed": true
   },
   "source": [
    "#### Normalized word frequencies: (??)"
   ]
  },
  {
   "cell_type": "code",
   "execution_count": 31,
   "metadata": {
    "ExecuteTime": {
     "end_time": "2021-02-16T01:32:56.144711Z",
     "start_time": "2021-02-16T01:32:56.120387Z"
    },
    "hidden": true,
    "scrolled": true
   },
   "outputs": [
    {
     "name": "stdout",
     "output_type": "stream",
     "text": [
      "Word \t\t Normalized Frequency\n",
      "\n",
      "work \t\t 0.00511\n",
      "business \t\t 0.004739\n",
      "one \t\t 0.004632\n",
      "customers \t\t 0.004261\n",
      "university \t\t 0.004237\n",
      "new \t\t 0.003758\n",
      "solutions \t\t 0.00359\n",
      "every \t\t 0.00359\n",
      "best \t\t 0.003519\n",
      "technology \t\t 0.003483\n",
      "employees \t\t 0.003423\n",
      "products \t\t 0.003291\n",
      "also \t\t 0.003255\n",
      "largest \t\t 0.003196\n",
      "service \t\t 0.003172\n",
      "global \t\t 0.003088\n",
      "across \t\t 0.003064\n",
      "including \t\t 0.002992\n",
      "team \t\t 0.002932\n",
      "make \t\t 0.002825\n",
      "companies \t\t 0.002753\n",
      "leading \t\t 0.002693\n",
      "help \t\t 0.002657\n",
      "clients \t\t 0.002657\n",
      "financial \t\t 0.002645\n"
     ]
    }
   ],
   "source": [
    "#Inclusive\n",
    "inclusive_total_word_count = sum(inclusive_freq.values())\n",
    "inclusive_top_25 = inclusive_freq.most_common(25)\n",
    "print(\"Word \\t\\t Normalized Frequency\")\n",
    "print()\n",
    "for word in inclusive_top_25:\n",
    "    normalized_frequency = word[1]/inclusive_total_word_count\n",
    "    print(\"{} \\t\\t {:.4}\".format(word[0], normalized_frequency))"
   ]
  },
  {
   "cell_type": "code",
   "execution_count": 32,
   "metadata": {
    "ExecuteTime": {
     "end_time": "2021-02-16T01:32:56.180575Z",
     "start_time": "2021-02-16T01:32:56.153676Z"
    },
    "hidden": true,
    "scrolled": true
   },
   "outputs": [
    {
     "name": "stdout",
     "output_type": "stream",
     "text": [
      "Word \t\t Normalized Frequency\n",
      "\n",
      "customers \t\t 0.005214\n",
      "products \t\t 0.004849\n",
      "solutions \t\t 0.004788\n",
      "one \t\t 0.004574\n",
      "work \t\t 0.00433\n",
      "global \t\t 0.004284\n",
      "business \t\t 0.004223\n",
      "new \t\t 0.003796\n",
      "employees \t\t 0.003675\n",
      "also \t\t 0.003324\n",
      "every \t\t 0.003248\n",
      "service \t\t 0.003232\n",
      "leading \t\t 0.003232\n",
      "including \t\t 0.002988\n",
      "technology \t\t 0.002988\n",
      "across \t\t 0.002927\n",
      "clients \t\t 0.002882\n",
      "largest \t\t 0.002805\n",
      "help \t\t 0.00276\n",
      "management \t\t 0.002683\n",
      "university \t\t 0.002653\n",
      "team \t\t 0.002531\n",
      "life \t\t 0.002516\n",
      "make \t\t 0.0025\n",
      "industry \t\t 0.00244\n"
     ]
    }
   ],
   "source": [
    "#Not inclusive\n",
    "not_inclusive_total_word_count = sum(not_inclusive_freq.values())\n",
    "not_inclusive_top_25 = not_inclusive_freq.most_common(25)\n",
    "print(\"Word \\t\\t Normalized Frequency\")\n",
    "print()\n",
    "for word in not_inclusive_top_25:\n",
    "    normalized_frequency = word[1]/not_inclusive_total_word_count\n",
    "    print(\"{} \\t\\t {:.4}\".format(word[0], normalized_frequency))"
   ]
  },
  {
   "cell_type": "markdown",
   "metadata": {},
   "source": [
    "#### Visualization\n",
    "- Bar Chart"
   ]
  },
  {
   "cell_type": "code",
   "execution_count": 78,
   "metadata": {
    "ExecuteTime": {
     "end_time": "2021-02-16T02:02:38.793713Z",
     "start_time": "2021-02-16T02:02:38.780309Z"
    }
   },
   "outputs": [
    {
     "data": {
      "text/plain": [
       "FreqDist({'work': 427, 'business': 396, 'one': 387, 'customers': 356, 'university': 354, 'new': 314, 'solutions': 300, 'every': 300, 'best': 294, 'technology': 291, ...})"
      ]
     },
     "execution_count": 78,
     "metadata": {},
     "output_type": "execute_result"
    }
   ],
   "source": [
    "inclusive_freq"
   ]
  },
  {
   "cell_type": "code",
   "execution_count": null,
   "metadata": {},
   "outputs": [],
   "source": []
  },
  {
   "cell_type": "code",
   "execution_count": 33,
   "metadata": {
    "ExecuteTime": {
     "end_time": "2021-02-16T01:32:56.210881Z",
     "start_time": "2021-02-16T01:32:56.186789Z"
    }
   },
   "outputs": [],
   "source": [
    "'''\n",
    "inclusive_freq:dictionary of top words\n",
    "'''\n",
    "\n",
    "\n",
    "# Create counts of inclusive and not inclusive with values and words\n",
    "inclusive_bar_counts = [x[1] for x in inclusive_freq.most_common(25)]\n",
    "inclusive_bar_words = [x[0] for x in inclusive_freq.most_common(25)]\n",
    "\n",
    "not_inclusive_bar_counts = [x[1] for x in not_inclusive_freq.most_common(25)]\n",
    "not_inclusive_bar_words = [x[0] for x in not_inclusive_freq.most_common(25)]"
   ]
  },
  {
   "cell_type": "code",
   "execution_count": 35,
   "metadata": {
    "ExecuteTime": {
     "end_time": "2021-02-16T01:32:57.156229Z",
     "start_time": "2021-02-16T01:32:56.236487Z"
    }
   },
   "outputs": [
    {
     "data": {
      "image/png": "[encoded data removed]",
      "text/plain": [
       "<Figure size 1152x288 with 2 Axes>"
      ]
     },
     "metadata": {
      "needs_background": "light"
     },
     "output_type": "display_data"
    }
   ],
   "source": [
    "# Set the color of our bar graphs\n",
    "color = cm.viridis_r(np.linspace(.4,.8, 30))\n",
    "\n",
    "new_figure = plt.figure(figsize=(16,4))\n",
    "\n",
    "# Define subplots\n",
    "ax = new_figure.add_subplot(121)\n",
    "ax2 = new_figure.add_subplot(122)\n",
    "\n",
    "# Generate a line plot on first axes\n",
    "ax.bar(inclusive_bar_words, inclusive_bar_counts, color=color)\n",
    "# ax.plot(colormap='PRGn')\n",
    "\n",
    "# Draw a scatter plot on 2nd axes\n",
    "ax2.bar(not_inclusive_bar_words, not_inclusive_bar_counts, color=color )\n",
    "\n",
    "ax.title.set_text('Inclusive')\n",
    "ax2.title.set_text('Not Inclusive')\n",
    "\n",
    "for ax in new_figure.axes:\n",
    "    plt.sca(ax)\n",
    "    plt.xticks(rotation=60)\n",
    "\n",
    "plt.tight_layout(pad=0)\n",
    "\n",
    "# plt.savefig('word count bar graphs.png')\n",
    "\n",
    "plt.show()"
   ]
  },
  {
   "cell_type": "markdown",
   "metadata": {},
   "source": [
    "#### Visualization \n",
    "- Word Clouds"
   ]
  },
  {
   "cell_type": "code",
   "execution_count": 36,
   "metadata": {
    "ExecuteTime": {
     "end_time": "2021-02-16T01:32:57.180897Z",
     "start_time": "2021-02-16T01:32:57.160204Z"
    }
   },
   "outputs": [],
   "source": [
    "# Getting our data into a dictionary\n",
    "# FORMAT:  dictionary = dict(zip(keys, values))\n",
    "#!pip install wordcloud\n",
    "from wordcloud import WordCloud\n",
    "inclusive_dictionary = dict(zip(inclusive_bar_words, inclusive_bar_counts))\n",
    "not_inclusive_dictionary = dict(zip(not_inclusive_bar_words, not_inclusive_bar_counts))"
   ]
  },
  {
   "cell_type": "code",
   "execution_count": 37,
   "metadata": {
    "ExecuteTime": {
     "end_time": "2021-02-16T01:32:57.194078Z",
     "start_time": "2021-02-16T01:32:57.184937Z"
    },
    "scrolled": true
   },
   "outputs": [
    {
     "data": {
      "text/plain": [
       "{'customers': 342,\n",
       " 'products': 318,\n",
       " 'solutions': 314,\n",
       " 'one': 300,\n",
       " 'work': 284,\n",
       " 'global': 281,\n",
       " 'business': 277,\n",
       " 'new': 249,\n",
       " 'employees': 241,\n",
       " 'also': 218,\n",
       " 'every': 213,\n",
       " 'service': 212,\n",
       " 'leading': 212,\n",
       " 'including': 196,\n",
       " 'technology': 196,\n",
       " 'across': 192,\n",
       " 'clients': 189,\n",
       " 'largest': 184,\n",
       " 'help': 181,\n",
       " 'management': 176,\n",
       " 'university': 174,\n",
       " 'team': 166,\n",
       " 'life': 165,\n",
       " 'make': 164,\n",
       " 'industry': 160}"
      ]
     },
     "execution_count": 37,
     "metadata": {},
     "output_type": "execute_result"
    }
   ],
   "source": [
    "not_inclusive_dictionary"
   ]
  },
  {
   "cell_type": "code",
   "execution_count": 38,
   "metadata": {
    "ExecuteTime": {
     "end_time": "2021-02-16T01:32:57.710696Z",
     "start_time": "2021-02-16T01:32:57.199772Z"
    }
   },
   "outputs": [
    {
     "data": {
      "image/png": "[encoded data removed]",
      "text/plain": [
       "<Figure size 720x720 with 1 Axes>"
      ]
     },
     "metadata": {},
     "output_type": "display_data"
    }
   ],
   "source": [
    "# Create the word cloud:\n",
    "\n",
    "wordcloud = WordCloud(colormap='Spectral').generate_from_frequencies(inclusive_dictionary)\n",
    "\n",
    "# Display the generated image w/ matplotlib:\n",
    "\n",
    "plt.figure(figsize=(10,10), facecolor='k')\n",
    "plt.imshow(wordcloud, interpolation='bilinear')\n",
    "plt.axis(\"off\")\n",
    "plt.tight_layout(pad=0)\n",
    "\n",
    "# Uncomment the next line if you want to save your image:\n",
    "# plt.savefig('satire_wordcloud.png')\n",
    "\n",
    "plt.show()"
   ]
  },
  {
   "cell_type": "code",
   "execution_count": 39,
   "metadata": {
    "ExecuteTime": {
     "end_time": "2021-02-16T01:32:58.311121Z",
     "start_time": "2021-02-16T01:32:57.718028Z"
    }
   },
   "outputs": [
    {
     "data": {
      "image/png": "[encoded data removed]",
      "text/plain": [
       "<Figure size 720x720 with 1 Axes>"
      ]
     },
     "metadata": {},
     "output_type": "display_data"
    }
   ],
   "source": [
    "wordcloud = WordCloud(colormap='Spectral').generate_from_frequencies(not_inclusive_dictionary)\n",
    "\n",
    "plt.figure(figsize=(10,10), facecolor='k')\n",
    "plt.imshow(wordcloud, interpolation='bilinear')\n",
    "plt.axis(\"off\")\n",
    "plt.tight_layout(pad=0)\n",
    "# plt.savefig('not_satire_wordcloud.png')\n",
    "\n",
    "plt.show()"
   ]
  },
  {
   "cell_type": "markdown",
   "metadata": {},
   "source": [
    "What about in ONLY inclusive/not inclusive companies?"
   ]
  },
  {
   "cell_type": "code",
   "execution_count": 40,
   "metadata": {
    "ExecuteTime": {
     "end_time": "2021-02-16T01:32:58.320909Z",
     "start_time": "2021-02-16T01:32:58.313356Z"
    }
   },
   "outputs": [],
   "source": [
    "def returnNotMatches(a, b):\n",
    "    return [x for x in a if x not in b]"
   ]
  },
  {
   "cell_type": "code",
   "execution_count": 41,
   "metadata": {
    "ExecuteTime": {
     "end_time": "2021-02-16T01:33:16.754799Z",
     "start_time": "2021-02-16T01:32:58.325897Z"
    },
    "scrolled": true
   },
   "outputs": [
    {
     "data": {
      "text/plain": [
       "['smalltomidsized',\n",
       " 'topics',\n",
       " 'mckinsey',\n",
       " 'mckinsey',\n",
       " 'alerts',\n",
       " 'twofold',\n",
       " 'substantial',\n",
       " 'excites',\n",
       " 'strongly',\n",
       " 'ithaca',\n",
       " 'doha',\n",
       " 'qatar',\n",
       " 'dude',\n",
       " 'barbara',\n",
       " 'ucsb',\n",
       " 'ynez',\n",
       " 'ucsb',\n",
       " 'barbara',\n",
       " 'manual',\n",
       " 'winners',\n",
       " 'winners',\n",
       " 'uci',\n",
       " 'uci',\n",
       " 'edds',\n",
       " 'uci',\n",
       " 'isu',\n",
       " 'whirlwind',\n",
       " 'isu',\n",
       " 'cyclones',\n",
       " 'isu',\n",
       " 'isu',\n",
       " 'carver',\n",
       " 'purdue',\n",
       " 'purdue',\n",
       " 'purdue',\n",
       " 'purdue',\n",
       " 'ut',\n",
       " 'prosim',\n",
       " 'commonwealth',\n",
       " 'mathworks',\n",
       " 'mathematical',\n",
       " 'matlab',\n",
       " 'algorithm',\n",
       " 'visualization',\n",
       " 'numeric',\n",
       " 'computation',\n",
       " 'simulink',\n",
       " 'diagram',\n",
       " 'modelbased',\n",
       " 'multidomain',\n",
       " 'biotechpharmaceutical',\n",
       " 'matlab',\n",
       " 'simulink',\n",
       " 'mathworks',\n",
       " 'natick',\n",
       " 'computation',\n",
       " 'visualization',\n",
       " 'visitors',\n",
       " 'seekers',\n",
       " 'resumes',\n",
       " 'comscore',\n",
       " 'visitors',\n",
       " 'adobe',\n",
       " 'adobe',\n",
       " 'spartan',\n",
       " 'spartan',\n",
       " 'msu',\n",
       " 'msu',\n",
       " 'dominates',\n",
       " 'msu',\n",
       " 'oncampus',\n",
       " 'graduating',\n",
       " 'allopathic',\n",
       " 'dvms',\n",
       " 'corn',\n",
       " 'topselling',\n",
       " 'anticancer',\n",
       " 'msu',\n",
       " 'fiu',\n",
       " 'fiu',\n",
       " 'fiu',\n",
       " 'expenditures',\n",
       " 'fiu',\n",
       " 'fiu',\n",
       " 'fiu',\n",
       " 'patricia',\n",
       " 'phillip',\n",
       " 'wolfsonianfiu',\n",
       " 'jewish',\n",
       " 'floridafiu',\n",
       " 'fiu',\n",
       " 'studentathletes',\n",
       " 'participating',\n",
       " 'fiu',\n",
       " 'multicampus',\n",
       " 'ukg',\n",
       " 'ukg',\n",
       " 'kronos',\n",
       " 'workforces',\n",
       " 'berkeley',\n",
       " 'uc',\n",
       " 'berkeley',\n",
       " 'merging',\n",
       " 'modest',\n",
       " 'activism',\n",
       " 'laureates',\n",
       " 'pulitzer',\n",
       " 'winners',\n",
       " 'macarthur',\n",
       " 'fellows',\n",
       " 'uc',\n",
       " 'berkeley',\n",
       " 'cal',\n",
       " 'berkeley',\n",
       " 'ucla',\n",
       " 'certainly',\n",
       " 'qualifies',\n",
       " 'westwood',\n",
       " 'ucla',\n",
       " 'uc',\n",
       " 'ucla',\n",
       " 'aspiring',\n",
       " 'screenwriters',\n",
       " 'ucla',\n",
       " 'laureates',\n",
       " 'hawkeyes',\n",
       " 'perch',\n",
       " 'audiology',\n",
       " 'printmaking',\n",
       " 'writers',\n",
       " 'al',\n",
       " 'jarreau',\n",
       " 'flannery',\n",
       " 'connor',\n",
       " 'gene',\n",
       " 'wilder',\n",
       " 'ucsd',\n",
       " 'laureates',\n",
       " 'winners',\n",
       " 'macarthur',\n",
       " 'fellows',\n",
       " 'supercomputer',\n",
       " 'oceanography',\n",
       " 'ucsd',\n",
       " 'ucsd',\n",
       " 'trader',\n",
       " 'dubbed',\n",
       " 'crew',\n",
       " 'crew',\n",
       " 'people—people',\n",
       " 'hardtofind',\n",
       " 'trader',\n",
       " 'trader',\n",
       " 'schooling',\n",
       " 'iubloomington',\n",
       " 'kokomo',\n",
       " 'albany',\n",
       " 'purdue',\n",
       " 'statute',\n",
       " 'seminary',\n",
       " 'predecessor',\n",
       " 'pullman',\n",
       " 'overarching',\n",
       " 'pullman',\n",
       " 'spokane',\n",
       " 'tricities',\n",
       " 'everett',\n",
       " 'kirk',\n",
       " 'schulz',\n",
       " 'stacy',\n",
       " 'pearson',\n",
       " 'steady',\n",
       " 'preventive',\n",
       " 'nyp',\n",
       " 'nyp',\n",
       " 'bayer',\n",
       " 'addressing',\n",
       " 'bayer',\n",
       " 'bayer',\n",
       " 'careerbayercom',\n",
       " 'netflix',\n",
       " 'memberships',\n",
       " 'internetconnected',\n",
       " 'pause',\n",
       " 'commercials',\n",
       " 'goldman',\n",
       " 'sachs',\n",
       " 'substantial',\n",
       " 'highnetworth',\n",
       " 'broke',\n",
       " 'refusing',\n",
       " 'hewlett',\n",
       " 'packard',\n",
       " 'oscillator',\n",
       " 'palo',\n",
       " 'business—the',\n",
       " 'reinvention',\n",
       " 'accelerant',\n",
       " 'amaze',\n",
       " 'seminoles',\n",
       " 'criminology',\n",
       " 'mag',\n",
       " 'highmagnetic',\n",
       " 'allinone',\n",
       " 'crave',\n",
       " 'nutshell',\n",
       " 'paylocity',\n",
       " 'easytouse',\n",
       " 'paylocity',\n",
       " 'accompanies',\n",
       " 'uscg',\n",
       " 'uscg',\n",
       " 'enforce',\n",
       " 'inland',\n",
       " 'consist',\n",
       " 'uscg',\n",
       " 'semper',\n",
       " 'paratus',\n",
       " 'thick',\n",
       " 'bu',\n",
       " 'beans',\n",
       " 'methodist',\n",
       " 'seminary',\n",
       " 'bu',\n",
       " 'laureates',\n",
       " 'elie',\n",
       " 'wiesel',\n",
       " 'derek',\n",
       " 'walcott',\n",
       " 'sheldon',\n",
       " 'glashow',\n",
       " 'osamu',\n",
       " 'shimomura',\n",
       " 'reflective',\n",
       " 'interconnected',\n",
       " 'steadily',\n",
       " 'raiderland',\n",
       " 'ttu',\n",
       " 'angelo',\n",
       " 'raiders',\n",
       " 'spurt',\n",
       " 'biology',\n",
       " 'ttu',\n",
       " 'uconn',\n",
       " 'storrs',\n",
       " 'uconn',\n",
       " 'hartford',\n",
       " 'farmington',\n",
       " 'uconn',\n",
       " 'mastech',\n",
       " 'mastered',\n",
       " 'habitual',\n",
       " 'flair',\n",
       " 'purple',\n",
       " 'squirrels',\n",
       " 'hana',\n",
       " 'salesforce',\n",
       " 'programed',\n",
       " 'minorityowned',\n",
       " 'mastech',\n",
       " 'mhh',\n",
       " 'iterate',\n",
       " 'bcg',\n",
       " 'bcg',\n",
       " 'rcl',\n",
       " 'azamara',\n",
       " 'silversea',\n",
       " 'tui',\n",
       " 'hapaglloyd',\n",
       " 'akamai',\n",
       " 'clouds',\n",
       " 'akamai',\n",
       " 'surrounds',\n",
       " 'akamai',\n",
       " 'cloudagnostic',\n",
       " 'multicloud',\n",
       " 'architectures',\n",
       " 'akamai',\n",
       " 'akamai',\n",
       " 'seekers',\n",
       " 'asu',\n",
       " 'journalism',\n",
       " 'asu',\n",
       " 'asu',\n",
       " 'excludes',\n",
       " 'gateway',\n",
       " 'acutecare',\n",
       " 'ivan',\n",
       " 'grapes',\n",
       " 'napa',\n",
       " 'swing',\n",
       " 'davis',\n",
       " 'uc',\n",
       " 'davis',\n",
       " 'viticulture',\n",
       " 'enology',\n",
       " 'aspiring',\n",
       " 'winemakers',\n",
       " 'sacramento',\n",
       " 'uc',\n",
       " 'davis',\n",
       " 'biology',\n",
       " 'uc',\n",
       " 'davis',\n",
       " 'nyu',\n",
       " 'nyu',\n",
       " 'tisch',\n",
       " 'wellregarded',\n",
       " 'stern',\n",
       " 'nyu',\n",
       " 'occupies',\n",
       " 'alan',\n",
       " 'greenspan',\n",
       " 'researchintensive',\n",
       " 'aggie',\n",
       " 'houstondallasaustin',\n",
       " 'twohour',\n",
       " 'galveston',\n",
       " 'qatar',\n",
       " 'exemplify',\n",
       " 'twofold',\n",
       " 'understandings',\n",
       " 'racial',\n",
       " 'hamburgers',\n",
       " 'inout',\n",
       " 'hamburgers',\n",
       " 'cheeseburgers',\n",
       " 'doubledouble',\n",
       " 'patties',\n",
       " 'slices',\n",
       " 'famously',\n",
       " 'microwaves',\n",
       " 'lamps',\n",
       " 'inout',\n",
       " 'inout',\n",
       " 'cookout',\n",
       " 'esther',\n",
       " 'snyder',\n",
       " 'devils',\n",
       " 'graduatelevel',\n",
       " 'trinity',\n",
       " 'fuqua',\n",
       " 'melinda',\n",
       " 'gates',\n",
       " 'dole',\n",
       " 'rose',\n",
       " 'trinity',\n",
       " 'tobacco',\n",
       " 'magnate',\n",
       " 'mateo',\n",
       " 'usefulness',\n",
       " 'exercising',\n",
       " 'civilization',\n",
       " 'findings',\n",
       " 'usf',\n",
       " 'expenditures',\n",
       " 'usf',\n",
       " 'usf',\n",
       " 'coke',\n",
       " 'emory',\n",
       " 'emory',\n",
       " 'emory',\n",
       " 'asa',\n",
       " 'theology',\n",
       " 'hca',\n",
       " 'emory',\n",
       " 'nci',\n",
       " 'nci',\n",
       " 'trainees',\n",
       " 'gentaxreg',\n",
       " 'cots',\n",
       " 'unemployment',\n",
       " 'unemployment',\n",
       " 'bothell',\n",
       " 'montlake',\n",
       " 'harborview',\n",
       " 'sustaining',\n",
       " 'morrison',\n",
       " 'morrison',\n",
       " 'healthful',\n",
       " 'morrison',\n",
       " 'morrison',\n",
       " 'morrison',\n",
       " 'dietitians',\n",
       " 'costeffectively',\n",
       " 'elevates',\n",
       " 'achieves',\n",
       " 'thirdlargest',\n",
       " 'oakland',\n",
       " 'providerfounded',\n",
       " 'californians',\n",
       " 'calls',\n",
       " 'ut',\n",
       " 'amid',\n",
       " 'interrelated',\n",
       " 'cadence',\n",
       " 'cadence',\n",
       " 'ed',\n",
       " 'incubate',\n",
       " 'ucf',\n",
       " 'melinda',\n",
       " 'gates',\n",
       " 'cited',\n",
       " 'ucf',\n",
       " 'ucf',\n",
       " 'ucf',\n",
       " 'reaffirms',\n",
       " 'theme',\n",
       " 'beaches',\n",
       " 'establish',\n",
       " 'ucf',\n",
       " 'uc',\n",
       " 'converge',\n",
       " 'ucsf',\n",
       " 'ucsf',\n",
       " 'ucsf',\n",
       " 'ucsf',\n",
       " 'benioff',\n",
       " 'surveys',\n",
       " 'afford',\n",
       " 'radcliffe',\n",
       " 'radcliffe',\n",
       " 'twothirds',\n",
       " 'prioritizes',\n",
       " 'belonging',\n",
       " 'recipients',\n",
       " 'enrico',\n",
       " 'fermi',\n",
       " 'friedman',\n",
       " 'saul',\n",
       " 'bellow',\n",
       " 'beehive',\n",
       " 'deseret',\n",
       " 'graduatelevel',\n",
       " 'long‐term',\n",
       " 'viability',\n",
       " 'nih',\n",
       " 'nih',\n",
       " 'entity',\n",
       " 'nih',\n",
       " 'variation',\n",
       " 'avian',\n",
       " 'flu',\n",
       " 'suburb',\n",
       " 'mccormick',\n",
       " 'medill',\n",
       " 'journalism',\n",
       " 'mcgaw',\n",
       " 'qatar',\n",
       " 'varsity',\n",
       " 'football',\n",
       " 'fencing',\n",
       " 'hat',\n",
       " 'communitypowered',\n",
       " 'linux',\n",
       " 'kubernetes',\n",
       " 'hat',\n",
       " 'northeastern',\n",
       " 'edifying',\n",
       " 'northeastern',\n",
       " 'highlyregarded',\n",
       " 'alternate',\n",
       " 'northeastern',\n",
       " 'housed',\n",
       " 'ymca',\n",
       " 'overwhelming',\n",
       " 'campusescrookston',\n",
       " 'duluth',\n",
       " 'morris',\n",
       " 'citiessupporting',\n",
       " 'healthy—physically',\n",
       " 'vanderbilt',\n",
       " 'arboretum',\n",
       " 'vanderbilt',\n",
       " 'vanderbilt',\n",
       " 'vanderbilt',\n",
       " 'vanderbilt',\n",
       " 'vanderbilt',\n",
       " 'dissemination',\n",
       " 'experimentation',\n",
       " 'vanderbilt',\n",
       " 'bad',\n",
       " 'patni',\n",
       " 'patni',\n",
       " 'targeting',\n",
       " 'patni',\n",
       " 'forgotten',\n",
       " 'apprenticeship',\n",
       " 'values—boldness',\n",
       " 'solidarity',\n",
       " 'curiosity—and',\n",
       " 'debate',\n",
       " 'mighty',\n",
       " 'org',\n",
       " 'actual',\n",
       " 'flex',\n",
       " 'depending',\n",
       " 'careerstwittercom',\n",
       " 'jointheflock',\n",
       " 'twittercareers',\n",
       " 'lovewhereyouwork',\n",
       " 'berlin',\n",
       " 'bogota',\n",
       " 'cologne',\n",
       " 'hamburg',\n",
       " 'jakarta',\n",
       " 'madrid',\n",
       " 'melbourne',\n",
       " 'milan',\n",
       " 'delhi',\n",
       " 'osaka',\n",
       " 'rio',\n",
       " 'janeiro',\n",
       " 'enders',\n",
       " 'digestive',\n",
       " 'ophthalmology',\n",
       " 'transplants',\n",
       " 'fetal',\n",
       " 'tar',\n",
       " 'heels',\n",
       " 'confused',\n",
       " 'actual',\n",
       " 'tar',\n",
       " 'heels',\n",
       " 'unc',\n",
       " 'centennial',\n",
       " 'incubator',\n",
       " 'novartis',\n",
       " 'reactions',\n",
       " 'novartis',\n",
       " 'pharmacist',\n",
       " 'immediately',\n",
       " 'alternatively',\n",
       " 'rutgers',\n",
       " 'colonies',\n",
       " 'brunswickpiscataway',\n",
       " 'rutgers',\n",
       " 'rutgers',\n",
       " 'alumnus',\n",
       " 'rutgers',\n",
       " 'shed',\n",
       " 'first—always',\n",
       " 'quintessential',\n",
       " 'uga',\n",
       " 'uga',\n",
       " 'phil',\n",
       " 'gramm',\n",
       " 'journalist',\n",
       " 'deborah',\n",
       " 'norville',\n",
       " 'pbs',\n",
       " 'mitchell',\n",
       " 'graduated',\n",
       " 'broadly',\n",
       " 'httpcareersconocophillipscomenusmilitary',\n",
       " 'cleanliness',\n",
       " 'crothall',\n",
       " 'crothall',\n",
       " 'laundry',\n",
       " 'upkeep',\n",
       " 'laundry',\n",
       " 'crothall',\n",
       " 'ritzcarlton',\n",
       " 'naples',\n",
       " 'bequest',\n",
       " 'namesake',\n",
       " 'molding',\n",
       " 'halfdozen',\n",
       " 'baltimorearea',\n",
       " 'atlantabased',\n",
       " 'chickfil',\n",
       " 'truett',\n",
       " 'cathy',\n",
       " 'devoted',\n",
       " 'chickfil',\n",
       " 'freshly',\n",
       " 'chickfil',\n",
       " 'qsr',\n",
       " 'chickfil',\n",
       " 'chickfil',\n",
       " 'fannie',\n",
       " 'mae',\n",
       " 'fixedrate',\n",
       " 'interviewing',\n",
       " 'fannie',\n",
       " 'mae',\n",
       " 'lausd',\n",
       " 'tailoring',\n",
       " 'lausd',\n",
       " 'avanade',\n",
       " 'avanade',\n",
       " 'avanade',\n",
       " 'accenture',\n",
       " 'accenture',\n",
       " 'avanade',\n",
       " 'designled',\n",
       " 'sheraton',\n",
       " 'westin',\n",
       " 'ultramodern',\n",
       " 'méridien',\n",
       " 'europeaninspired',\n",
       " 'aloft',\n",
       " 'selectservice',\n",
       " 'element',\n",
       " 'timeshare',\n",
       " 'gritti',\n",
       " 'venice',\n",
       " 'financialservices',\n",
       " 'financialservices',\n",
       " 'automotivefinance',\n",
       " 'fdic',\n",
       " 'moneymarket',\n",
       " 'cds',\n",
       " 'iras',\n",
       " 'securitiesbrokerage',\n",
       " 'investmentadvisory',\n",
       " 'disclosures',\n",
       " 'cdw',\n",
       " 'nasdaqcdw',\n",
       " 'cdw',\n",
       " 'trailing',\n",
       " 'cdw',\n",
       " 'cdw',\n",
       " 'citrix',\n",
       " 'bigidea',\n",
       " 'workspace',\n",
       " 'hustle',\n",
       " 'unimaginable',\n",
       " 'immerse',\n",
       " 'reflection',\n",
       " 'mondelēz',\n",
       " 'mdlz',\n",
       " 'fry',\n",
       " 'cadbury',\n",
       " 'lu',\n",
       " 'nabisco',\n",
       " 'mondelēz',\n",
       " 'snacking',\n",
       " 'crystal',\n",
       " 'snacking',\n",
       " 'snacking',\n",
       " 'snacking',\n",
       " 'humana',\n",
       " 'incorporate',\n",
       " 'humana',\n",
       " 'adjacencies',\n",
       " 'humana',\n",
       " 'retire',\n",
       " 'humana',\n",
       " 'hartford',\n",
       " 'prevail',\n",
       " 'unforeseen',\n",
       " 'prevail',\n",
       " 'earthquake',\n",
       " 'katrina',\n",
       " 'sandy',\n",
       " 'hoover',\n",
       " 'dam',\n",
       " 'golden',\n",
       " 'sheetz',\n",
       " 'altoona',\n",
       " 'sheetz',\n",
       " 'busier',\n",
       " 'sheetz',\n",
       " 'sheetz',\n",
       " 'columbian',\n",
       " 'foggy',\n",
       " 'vernon',\n",
       " 'ashburn',\n",
       " 'jacqueline',\n",
       " 'onassis',\n",
       " 'alec',\n",
       " 'baldwin',\n",
       " 'colin',\n",
       " 'powell',\n",
       " 'enviable',\n",
       " 'barclays',\n",
       " 'revolutionised',\n",
       " 'behaving',\n",
       " 'barclays',\n",
       " 'recognise',\n",
       " 'barclays',\n",
       " 'rises',\n",
       " 'scorecard',\n",
       " 'soar',\n",
       " 'continual',\n",
       " 'freeze',\n",
       " 'onoff',\n",
       " 'switch',\n",
       " 'misplaced',\n",
       " 'teambased',\n",
       " 'chicagobased',\n",
       " 'mostsophisticated',\n",
       " 'wealthiest',\n",
       " 'mostsuccessful',\n",
       " 'forge',\n",
       " 'expectation',\n",
       " 'eatoncom',\n",
       " 'affirmative',\n",
       " 'jobrelated',\n",
       " 'applicant',\n",
       " 'lyft',\n",
       " 'zimmer',\n",
       " 'lyft',\n",
       " 'effecting',\n",
       " 'offsetting',\n",
       " 'bikeshare',\n",
       " 'scooters',\n",
       " 'kent',\n",
       " 'oneof',\n",
       " 'legendary',\n",
       " 'legendary',\n",
       " 'legally',\n",
       " 'wawa',\n",
       " 'wawa',\n",
       " 'cleanliness',\n",
       " 'grahame',\n",
       " 'grandson',\n",
       " 'wawa',\n",
       " 'wawa',\n",
       " 'builttoorder',\n",
       " 'surchargefree',\n",
       " 'wawa',\n",
       " 'edward',\n",
       " 'tend',\n",
       " 'edward',\n",
       " 'netapp',\n",
       " 'cloudled',\n",
       " 'datacentric',\n",
       " 'optimally',\n",
       " 'cloudlike',\n",
       " 'netapp',\n",
       " 'people—anytime',\n",
       " 'flo',\n",
       " 'rethink',\n",
       " 'renters',\n",
       " 'boat',\n",
       " 'fourth',\n",
       " 'country—',\n",
       " 'employees—from',\n",
       " 'stodgy',\n",
       " 'rethink',\n",
       " 'godaddy',\n",
       " 'outspoken',\n",
       " 'godaddy',\n",
       " 'suffice',\n",
       " 'godaddy',\n",
       " 'independentlyminded',\n",
       " 'practically',\n",
       " 'rendering',\n",
       " 'godaddy',\n",
       " 'lifefulfilling',\n",
       " 'godaddy',\n",
       " 'pixel',\n",
       " 'teammate',\n",
       " 'visiontogether',\n",
       " 'failures',\n",
       " 'fulfillment',\n",
       " 'period',\n",
       " 'absolutely',\n",
       " 'obsessed',\n",
       " 'differentiation',\n",
       " 'unconventionally',\n",
       " 'concentrix',\n",
       " 'massmutual',\n",
       " 'participating',\n",
       " 'lgbt',\n",
       " 'hrc',\n",
       " 'cei',\n",
       " 'cei',\n",
       " 'inducted',\n",
       " 'fame',\n",
       " 'nafe',\n",
       " 'walt',\n",
       " 'goofy',\n",
       " 'afterwards',\n",
       " 'prized',\n",
       " 'possessions',\n",
       " 'walt',\n",
       " 'disneyland',\n",
       " 'disneyland',\n",
       " 'disneyland',\n",
       " 'royalties',\n",
       " 'frequented',\n",
       " 'theme',\n",
       " 'epcot',\n",
       " 'publix',\n",
       " 'publix',\n",
       " 'twothirds',\n",
       " 'publix',\n",
       " 'publix',\n",
       " 'liquor',\n",
       " 'jenkins',\n",
       " 'publix',\n",
       " 'publix',\n",
       " 'intolerant',\n",
       " 'devoted',\n",
       " 'stockholders',\n",
       " 'census',\n",
       " 'census',\n",
       " 'recording',\n",
       " 'census',\n",
       " 'crunches',\n",
       " 'statistical',\n",
       " 'collected',\n",
       " 'statistics',\n",
       " 'profiles',\n",
       " 'tomes',\n",
       " 'statistical',\n",
       " 'abstract',\n",
       " 'factfinder',\n",
       " 'links',\n",
       " 'armour',\n",
       " 'proving',\n",
       " 'mettle',\n",
       " 'warrior',\n",
       " 'foray',\n",
       " 'undies',\n",
       " 'portion',\n",
       " 'compression',\n",
       " 'garment',\n",
       " 'foothold',\n",
       " 'armour',\n",
       " 'mlb',\n",
       " 'sportspecific',\n",
       " 'coldgear',\n",
       " 'toe',\n",
       " 'sock',\n",
       " 'moisturewicking',\n",
       " 'heatdispersing',\n",
       " 'fabrics',\n",
       " 'armour',\n",
       " 'celebration',\n",
       " 'wifi',\n",
       " 'caci',\n",
       " 'caci',\n",
       " 'caci',\n",
       " 'careerscacicom',\n",
       " 'caci',\n",
       " 'vigilant',\n",
       " 'modernization',\n",
       " 'usaa',\n",
       " 'facilitate',\n",
       " 'provision',\n",
       " 'usaa',\n",
       " 'carolinas',\n",
       " 'atrium',\n",
       " 'atrium',\n",
       " 'geographical',\n",
       " 'pg',\n",
       " 'nysepcg',\n",
       " 'cleanest',\n",
       " 'pg',\n",
       " 'pg',\n",
       " 'prospect',\n",
       " 'dramatically',\n",
       " 'sampling',\n",
       " 'encounters',\n",
       " 'jointventured',\n",
       " 'subspecialty',\n",
       " 'prioritising',\n",
       " 'gains',\n",
       " 'prioritising',\n",
       " 'gains',\n",
       " 'flex',\n",
       " 'sketchtoscale',\n",
       " 'fullyintegrated',\n",
       " 'coinnovate',\n",
       " 'flex',\n",
       " 'flex',\n",
       " 'spread',\n",
       " 'chennai',\n",
       " 'bengaluru',\n",
       " 'pune',\n",
       " 'gurgaon',\n",
       " 'kolkata',\n",
       " 'visakhapatnam',\n",
       " 'topgolf',\n",
       " 'bays',\n",
       " 'hdtvs',\n",
       " 'toptracer',\n",
       " 'balltracking',\n",
       " 'shots',\n",
       " 'ranges',\n",
       " 'toptracer',\n",
       " 'techdriven',\n",
       " 'appeals',\n",
       " 'golfers',\n",
       " 'topgolf',\n",
       " 'swing',\n",
       " 'topgolf',\n",
       " 'simulated',\n",
       " 'topgolf',\n",
       " 'luxurious',\n",
       " 'atmospheres',\n",
       " 'realistic',\n",
       " 'covance',\n",
       " 'labcorp',\n",
       " 'randstad',\n",
       " 'placements',\n",
       " 'randstad',\n",
       " 'randstad',\n",
       " 'randstad',\n",
       " 'november',\n",
       " 'randstad',\n",
       " 'diemen',\n",
       " 'randstad',\n",
       " 'stocks',\n",
       " 'randstad',\n",
       " 'randstad',\n",
       " 'recruiters',\n",
       " 'ail',\n",
       " 'alphabet',\n",
       " 'soup',\n",
       " 'told',\n",
       " 'financiero',\n",
       " 'nyseaon',\n",
       " 'volatility',\n",
       " 'schlumberger',\n",
       " 'multinationale',\n",
       " 'domaine',\n",
       " 'pétroliers',\n",
       " 'fut',\n",
       " 'sous',\n",
       " 'nom',\n",
       " '«',\n",
       " 'prospection',\n",
       " 'électrique',\n",
       " '»',\n",
       " 'deux',\n",
       " 'alsaciens',\n",
       " 'frères',\n",
       " 'conrad',\n",
       " 'marcel',\n",
       " 'schlumberger',\n",
       " 'idées',\n",
       " 'innovantes',\n",
       " 'détecter',\n",
       " 'différents',\n",
       " 'roches',\n",
       " 'conductivité',\n",
       " 'électrique',\n",
       " 'employés',\n",
       " 'dont',\n",
       " 'désormais',\n",
       " 'installée',\n",
       " 'aux',\n",
       " 'antilles',\n",
       " 'néerlandaises',\n",
       " 'principaux',\n",
       " 'bureaux',\n",
       " 'sièges',\n",
       " 'situés',\n",
       " 'montrouge',\n",
       " 'haye',\n",
       " 'centre',\n",
       " 'recherche',\n",
       " 'clamart',\n",
       " 'huron',\n",
       " 'monarch',\n",
       " 'mickey',\n",
       " 'walt',\n",
       " 'theme',\n",
       " 'disneyabc',\n",
       " 'abc',\n",
       " 'abc',\n",
       " 'espn',\n",
       " 'walt',\n",
       " 'imprints',\n",
       " 'walt',\n",
       " 'pixar',\n",
       " 'walt',\n",
       " 'theme',\n",
       " 'walt',\n",
       " 'disneyland',\n",
       " 'servicenow',\n",
       " 'theme',\n",
       " 'universe',\n",
       " 'hanna',\n",
       " 'theme',\n",
       " 'dvds',\n",
       " 'nbcuniversal',\n",
       " 'nbcu',\n",
       " 'experian',\n",
       " 'preventing',\n",
       " 'fraud',\n",
       " 'targeting',\n",
       " 'automating',\n",
       " 'experian',\n",
       " 'experian',\n",
       " 'constituent',\n",
       " 'predict',\n",
       " 'coherence',\n",
       " 'raises',\n",
       " 'liberating',\n",
       " 'negotiating',\n",
       " 'governing',\n",
       " 'virtues',\n",
       " 'objectivity',\n",
       " 'blackrock',\n",
       " ...]"
      ]
     },
     "execution_count": 41,
     "metadata": {},
     "output_type": "execute_result"
    }
   ],
   "source": [
    "returnNotMatches(flat_incl, flat_not_incl)"
   ]
  },
  {
   "cell_type": "code",
   "execution_count": null,
   "metadata": {},
   "outputs": [],
   "source": []
  },
  {
   "cell_type": "code",
   "execution_count": null,
   "metadata": {},
   "outputs": [],
   "source": []
  },
  {
   "cell_type": "code",
   "execution_count": null,
   "metadata": {},
   "outputs": [],
   "source": []
  },
  {
   "cell_type": "code",
   "execution_count": null,
   "metadata": {},
   "outputs": [],
   "source": []
  },
  {
   "cell_type": "markdown",
   "metadata": {},
   "source": [
    "## Prepping for modeling"
   ]
  },
  {
   "cell_type": "code",
   "execution_count": 51,
   "metadata": {
    "ExecuteTime": {
     "end_time": "2021-02-16T01:33:45.380824Z",
     "start_time": "2021-02-16T01:33:45.357660Z"
    }
   },
   "outputs": [],
   "source": [
    "# ##CORPUS:\n",
    "# #define features and target\n",
    "# data = df['CLEAN_DESCRIPTION'] \n",
    "# target = df['TARGET']"
   ]
  },
  {
   "cell_type": "code",
   "execution_count": 52,
   "metadata": {
    "ExecuteTime": {
     "end_time": "2021-02-16T01:33:47.357250Z",
     "start_time": "2021-02-16T01:33:45.411695Z"
    }
   },
   "outputs": [],
   "source": [
    "# applying the above function to our data/features with map() method\n",
    "processed_description = list(map(process_description, df.CLEAN_DESCRIPTION))"
   ]
  },
  {
   "cell_type": "code",
   "execution_count": 54,
   "metadata": {
    "ExecuteTime": {
     "end_time": "2021-02-16T01:33:50.369114Z",
     "start_time": "2021-02-16T01:33:47.379335Z"
    }
   },
   "outputs": [],
   "source": [
    "##Lemmatizer\n",
    "from nltk.stem import WordNetLemmatizer \n",
    "  \n",
    "lemmatizer = WordNetLemmatizer() \n",
    "\n",
    "# creating a list with all lemmatized outputs\n",
    "lemmatized_output = []\n",
    "\n",
    "for listy in processed_description:\n",
    "    lemmed = ' '.join([lemmatizer.lemmatize(w) for w in listy])\n",
    "    lemmatized_output.append(lemmed)"
   ]
  },
  {
   "cell_type": "code",
   "execution_count": 55,
   "metadata": {
    "ExecuteTime": {
     "end_time": "2021-02-16T01:33:50.377677Z",
     "start_time": "2021-02-16T01:33:50.371554Z"
    },
    "scrolled": true
   },
   "outputs": [],
   "source": [
    "#defining X_lem for modeling process\n",
    "X_lem = lemmatized_output\n",
    "# [' '.join(d) for d in processed_data]\n",
    "\n",
    "y_lem = target\n",
    "#X_lem[0] #Sanity Check"
   ]
  },
  {
   "cell_type": "code",
   "execution_count": 56,
   "metadata": {
    "ExecuteTime": {
     "end_time": "2021-02-16T01:33:50.409530Z",
     "start_time": "2021-02-16T01:33:50.382140Z"
    }
   },
   "outputs": [
    {
     "name": "stdout",
     "output_type": "stream",
     "text": [
      "1984\n",
      "1984\n"
     ]
    }
   ],
   "source": [
    "# Sanity Check\n",
    "print(len(y_lem))\n",
    "print(len(X_lem))"
   ]
  },
  {
   "cell_type": "code",
   "execution_count": null,
   "metadata": {},
   "outputs": [],
   "source": [
    "## Saving pickles for Modeling notebook"
   ]
  },
  {
   "cell_type": "code",
   "execution_count": 108,
   "metadata": {
    "ExecuteTime": {
     "end_time": "2021-02-16T03:15:35.423430Z",
     "start_time": "2021-02-16T03:15:35.407457Z"
    }
   },
   "outputs": [],
   "source": [
    "# Pickling X and y\n",
    "pickle_out = open('modeling/X_lem.pkl','wb')\n",
    "pickle.dump(X_lem, pickle_out)\n",
    "pickle_out.close()\n",
    "\n",
    "y_lem.to_pickle('modeling/y_lem.pkl')"
   ]
  },
  {
   "cell_type": "code",
   "execution_count": 110,
   "metadata": {
    "ExecuteTime": {
     "end_time": "2021-02-16T03:16:32.852876Z",
     "start_time": "2021-02-16T03:16:32.842920Z"
    }
   },
   "outputs": [],
   "source": [
    "## Pickling stopwords\n",
    "pickle_out =  open('modeling/stopwords.pkl', 'wb')\n",
    "pickle.dump(sw_list, pickle_out)\n",
    "pickle_out.close()\n"
   ]
  },
  {
   "cell_type": "markdown",
   "metadata": {},
   "source": [
    "**Train-Test Split:**"
   ]
  },
  {
   "cell_type": "code",
   "execution_count": 90,
   "metadata": {
    "ExecuteTime": {
     "end_time": "2021-02-16T02:43:13.650397Z",
     "start_time": "2021-02-16T02:43:13.636765Z"
    }
   },
   "outputs": [
    {
     "data": {
      "text/plain": [
       "['i',\n",
       " 'me',\n",
       " 'my',\n",
       " 'myself',\n",
       " 'we',\n",
       " 'our',\n",
       " 'ours',\n",
       " 'ourselves',\n",
       " 'you',\n",
       " \"you're\",\n",
       " \"you've\",\n",
       " \"you'll\",\n",
       " \"you'd\",\n",
       " 'your',\n",
       " 'yours',\n",
       " 'yourself',\n",
       " 'yourselves',\n",
       " 'he',\n",
       " 'him',\n",
       " 'his',\n",
       " 'himself',\n",
       " 'she',\n",
       " \"she's\",\n",
       " 'her',\n",
       " 'hers',\n",
       " 'herself',\n",
       " 'it',\n",
       " \"it's\",\n",
       " 'its',\n",
       " 'itself',\n",
       " 'they',\n",
       " 'them',\n",
       " 'their',\n",
       " 'theirs',\n",
       " 'themselves',\n",
       " 'what',\n",
       " 'which',\n",
       " 'who',\n",
       " 'whom',\n",
       " 'this',\n",
       " 'that',\n",
       " \"that'll\",\n",
       " 'these',\n",
       " 'those',\n",
       " 'am',\n",
       " 'is',\n",
       " 'are',\n",
       " 'was',\n",
       " 'were',\n",
       " 'be',\n",
       " 'been',\n",
       " 'being',\n",
       " 'have',\n",
       " 'has',\n",
       " 'had',\n",
       " 'having',\n",
       " 'do',\n",
       " 'does',\n",
       " 'did',\n",
       " 'doing',\n",
       " 'a',\n",
       " 'an',\n",
       " 'the',\n",
       " 'and',\n",
       " 'but',\n",
       " 'if',\n",
       " 'or',\n",
       " 'because',\n",
       " 'as',\n",
       " 'until',\n",
       " 'while',\n",
       " 'of',\n",
       " 'at',\n",
       " 'by',\n",
       " 'for',\n",
       " 'with',\n",
       " 'about',\n",
       " 'against',\n",
       " 'between',\n",
       " 'into',\n",
       " 'through',\n",
       " 'during',\n",
       " 'before',\n",
       " 'after',\n",
       " 'above',\n",
       " 'below',\n",
       " 'to',\n",
       " 'from',\n",
       " 'up',\n",
       " 'down',\n",
       " 'in',\n",
       " 'out',\n",
       " 'on',\n",
       " 'off',\n",
       " 'over',\n",
       " 'under',\n",
       " 'again',\n",
       " 'further',\n",
       " 'then',\n",
       " 'once',\n",
       " 'here',\n",
       " 'there',\n",
       " 'when',\n",
       " 'where',\n",
       " 'why',\n",
       " 'how',\n",
       " 'all',\n",
       " 'any',\n",
       " 'both',\n",
       " 'each',\n",
       " 'few',\n",
       " 'more',\n",
       " 'most',\n",
       " 'other',\n",
       " 'some',\n",
       " 'such',\n",
       " 'no',\n",
       " 'nor',\n",
       " 'not',\n",
       " 'only',\n",
       " 'own',\n",
       " 'same',\n",
       " 'so',\n",
       " 'than',\n",
       " 'too',\n",
       " 'very',\n",
       " 's',\n",
       " 't',\n",
       " 'can',\n",
       " 'will',\n",
       " 'just',\n",
       " 'don',\n",
       " \"don't\",\n",
       " 'should',\n",
       " \"should've\",\n",
       " 'now',\n",
       " 'd',\n",
       " 'll',\n",
       " 'm',\n",
       " 'o',\n",
       " 're',\n",
       " 've',\n",
       " 'y',\n",
       " 'ain',\n",
       " 'aren',\n",
       " \"aren't\",\n",
       " 'couldn',\n",
       " \"couldn't\",\n",
       " 'didn',\n",
       " \"didn't\",\n",
       " 'doesn',\n",
       " \"doesn't\",\n",
       " 'hadn',\n",
       " \"hadn't\",\n",
       " 'hasn',\n",
       " \"hasn't\",\n",
       " 'haven',\n",
       " \"haven't\",\n",
       " 'isn',\n",
       " \"isn't\",\n",
       " 'ma',\n",
       " 'mightn',\n",
       " \"mightn't\",\n",
       " 'mustn',\n",
       " \"mustn't\",\n",
       " 'needn',\n",
       " \"needn't\",\n",
       " 'shan',\n",
       " \"shan't\",\n",
       " 'shouldn',\n",
       " \"shouldn't\",\n",
       " 'wasn',\n",
       " \"wasn't\",\n",
       " 'weren',\n",
       " \"weren't\",\n",
       " 'won',\n",
       " \"won't\",\n",
       " 'wouldn',\n",
       " \"wouldn't\",\n",
       " '!',\n",
       " '\"',\n",
       " '#',\n",
       " '$',\n",
       " '%',\n",
       " '&',\n",
       " \"'\",\n",
       " '(',\n",
       " ')',\n",
       " '*',\n",
       " '+',\n",
       " ',',\n",
       " '-',\n",
       " '.',\n",
       " '/',\n",
       " ':',\n",
       " ';',\n",
       " '<',\n",
       " '=',\n",
       " '>',\n",
       " '?',\n",
       " '@',\n",
       " '[',\n",
       " '\\\\',\n",
       " ']',\n",
       " '^',\n",
       " '_',\n",
       " '`',\n",
       " '{',\n",
       " '|',\n",
       " '}',\n",
       " '~',\n",
       " \"''\",\n",
       " '\"\"',\n",
       " '...',\n",
       " '``',\n",
       " '’',\n",
       " '“',\n",
       " '’',\n",
       " '”',\n",
       " '‘',\n",
       " '',\n",
       " '-',\n",
       " '—',\n",
       " '--',\n",
       " 'e.g',\n",
       " \"'ll\",\n",
       " \"'ve\",\n",
       " \"'s\",\n",
       " 'company',\n",
       " 'services',\n",
       " 'world',\n",
       " 'people',\n",
       " 'care',\n",
       " 'health',\n",
       " 'us',\n",
       " 'business',\n",
       " 'products',\n",
       " 'every',\n",
       " 'technology',\n",
       " 'solutions',\n",
       " 'employees',\n",
       " 'largest',\n",
       " 'work',\n",
       " 'global',\n",
       " 'best',\n",
       " 'help',\n",
       " 'make',\n",
       " 'well',\n",
       " 'across',\n",
       " 'clients',\n",
       " 'customers',\n",
       " 'years',\n",
       " 'offers',\n",
       " 'communities',\n",
       " 'new',\n",
       " 'home',\n",
       " 'better',\n",
       " 'leading',\n",
       " 'companies',\n",
       " 'operates',\n",
       " 'university',\n",
       " 'experience',\n",
       " 'industry',\n",
       " 'one',\n",
       " 'mission']"
      ]
     },
     "execution_count": 90,
     "metadata": {},
     "output_type": "execute_result"
    }
   ],
   "source": [
    "sw_list"
   ]
  },
  {
   "cell_type": "code",
   "execution_count": null,
   "metadata": {
    "code_folding": []
   },
   "outputs": [],
   "source": []
  },
  {
   "cell_type": "code",
   "execution_count": 96,
   "metadata": {
    "ExecuteTime": {
     "end_time": "2021-02-16T02:49:05.992871Z",
     "start_time": "2021-02-16T02:49:04.390251Z"
    },
    "scrolled": true
   },
   "outputs": [],
   "source": [
    "# always train-test split THEN apply vectorizer \n",
    "X_train_lem, X_test_lem, y_train_lem, y_test_lem = train_test_split(X_lem, y_lem, test_size=0.20, random_state=42)\n",
    "\n",
    "tfidf = TfidfVectorizer(stop_words=sw_list, #try sw_set?\n",
    "                       ngram_range=(1,3)) ## TEST remove stopwords, turn into uppercase, bigram/trigram\n",
    "\n",
    "#fit vectorizer to both training and testing set\n",
    "tfidf_data_train_lem = tfidf.fit_transform(X_train_lem)\n",
    "tfidf_data_test_lem = tfidf.transform(X_test_lem)"
   ]
  },
  {
   "cell_type": "markdown",
   "metadata": {},
   "source": [
    "### Baseline model \n",
    "- Random Forest with Lemmatization, trigrams\n",
    "- **try also with BoW instead of TF-IDF??**\n",
    "- **try also with Stemming instead of Lemmatization??** \n",
    "\n",
    "2/10 Results:\n",
    "- Testing Accuracy: 0.5662\n",
    "- Testing Precision: 0.5437\n",
    "- Testing Recall: 0.4807\n",
    "- F1 Score: 0.5103\n"
   ]
  },
  {
   "cell_type": "markdown",
   "metadata": {},
   "source": [
    "### Classify (RF/Lem)\n",
    "- Testing Accuracy: 0.5196\n",
    "- F1 Score: 0.5455\n",
    "\n",
    "Testing Accuracy: 0.5441\n",
    "Testing Precision: 0.5703\n",
    "Testing Recall: 0.6881\n",
    "F1 Score: 0.6237"
   ]
  },
  {
   "cell_type": "code",
   "execution_count": 97,
   "metadata": {
    "ExecuteTime": {
     "end_time": "2021-02-16T02:49:09.530932Z",
     "start_time": "2021-02-16T02:49:09.513431Z"
    }
   },
   "outputs": [],
   "source": [
    "# TEST\n",
    "rf_classifier_lem = RandomForestClassifier(n_estimators=120, random_state=42)\n"
   ]
  },
  {
   "cell_type": "code",
   "execution_count": 98,
   "metadata": {
    "ExecuteTime": {
     "end_time": "2021-02-16T02:49:16.054214Z",
     "start_time": "2021-02-16T02:49:09.964051Z"
    }
   },
   "outputs": [],
   "source": [
    "## Fit model to train set\n",
    "rf_classifier_lem.fit(tfidf_data_train_lem, y_train_lem)\n",
    "\n",
    "rf_test_preds_lem = rf_classifier_lem.predict(tfidf_data_test_lem)"
   ]
  },
  {
   "cell_type": "code",
   "execution_count": 99,
   "metadata": {
    "ExecuteTime": {
     "end_time": "2021-02-16T02:49:16.142222Z",
     "start_time": "2021-02-16T02:49:16.056922Z"
    }
   },
   "outputs": [
    {
     "name": "stdout",
     "output_type": "stream",
     "text": [
      "Random Forest with Lemmatization Features:\n",
      "\n",
      "Testing Accuracy: 0.5441\n",
      "Testing Precision: 0.5703\n",
      "Testing Recall: 0.6881\n",
      "F1 Score: 0.6237\n",
      "\n",
      "NOTE: Null Accuracy is 0.4509\n"
     ]
    }
   ],
   "source": [
    "rf_acc_score_lem = accuracy_score(y_test_lem, rf_test_preds_lem)\n",
    "rf_precision_score_lem = metrics.precision_score(y_test_lem, rf_test_preds_lem)\n",
    "rf_recall_score_lem = metrics.recall_score(y_test_lem, rf_test_preds_lem)\n",
    "rf_f1_score_lem = f1_score(y_test_lem, rf_test_preds_lem)\n",
    "\n",
    "print('Random Forest with Lemmatization Features:\\n')\n",
    "\n",
    "print(\"Testing Accuracy: {:.4}\".format(rf_acc_score_lem))\n",
    "print(\"Testing Precision: {:.4}\".format(rf_precision_score_lem))\n",
    "print(\"Testing Recall: {:.4}\".format(rf_recall_score_lem))\n",
    "print(\"F1 Score: {:.4}\".format(rf_f1_score_lem))\n",
    "\n",
    "print('\\nNOTE: Null Accuracy is', round(y_test_lem.value_counts()[0]\n",
    "                               /y_test_lem.value_counts().sum(), 4))"
   ]
  },
  {
   "cell_type": "code",
   "execution_count": 100,
   "metadata": {
    "ExecuteTime": {
     "end_time": "2021-02-16T02:49:19.942462Z",
     "start_time": "2021-02-16T02:49:19.702438Z"
    },
    "code_folding": [],
    "scrolled": true
   },
   "outputs": [
    {
     "data": {
      "text/plain": [
       "(2.0, 0.0)"
      ]
     },
     "execution_count": 100,
     "metadata": {},
     "output_type": "execute_result"
    },
    {
     "data": {
      "image/png": "[encoded data removed]",
      "text/plain": [
       "<Figure size 432x288 with 1 Axes>"
      ]
     },
     "metadata": {},
     "output_type": "display_data"
    }
   ],
   "source": [
    "from sklearn.metrics import confusion_matrix\n",
    "import seaborn as sns; sns.set()\n",
    "\n",
    "mat = confusion_matrix(y_test_lem, rf_test_preds_lem)\n",
    "sns.heatmap(mat.T, square=True, annot=True, fmt='d', cbar=False,\n",
    "            xticklabels=['Not_Inclusive', 'Inclusive'], \n",
    "            yticklabels=['Not_Inclusive', 'Inclusive']\n",
    "           )\n",
    "plt.xlabel('true label')\n",
    "plt.ylabel('predicted label');\n",
    "\n",
    "## Fixing cut-off bug\n",
    "b, t = plt.ylim() # discover the values for bottom and top\n",
    "b += 0.5 # Add 0.5 to the bottom\n",
    "t -= 0.5 # Subtract 0.5 from the top\n",
    "plt.ylim(b, t) # update the ylim(bottom, top) values"
   ]
  },
  {
   "cell_type": "markdown",
   "metadata": {},
   "source": [
    "### Next model"
   ]
  },
  {
   "cell_type": "code",
   "execution_count": null,
   "metadata": {},
   "outputs": [],
   "source": []
  },
  {
   "cell_type": "code",
   "execution_count": null,
   "metadata": {},
   "outputs": [],
   "source": []
  },
  {
   "cell_type": "code",
   "execution_count": null,
   "metadata": {},
   "outputs": [],
   "source": []
  },
  {
   "cell_type": "code",
   "execution_count": null,
   "metadata": {},
   "outputs": [],
   "source": []
  },
  {
   "cell_type": "markdown",
   "metadata": {},
   "source": [
    "Stretch:\n",
    "- Sentiment analysis"
   ]
  }
 ],
 "metadata": {
  "kernelspec": {
   "display_name": "Python 3",
   "language": "python",
   "name": "python3"
  },
  "language_info": {
   "codemirror_mode": {
    "name": "ipython",
    "version": 3
   },
   "file_extension": ".py",
   "mimetype": "text/x-python",
   "name": "python",
   "nbconvert_exporter": "python",
   "pygments_lexer": "ipython3",
   "version": "3.6.9"
  },
  "toc": {
   "base_numbering": 1,
   "nav_menu": {},
   "number_sections": true,
   "sideBar": true,
   "skip_h1_title": false,
   "title_cell": "Table of Contents",
   "title_sidebar": "Contents",
   "toc_cell": false,
   "toc_position": {},
   "toc_section_display": true,
   "toc_window_display": false
  }
 },
 "nbformat": 4,
 "nbformat_minor": 4
}
