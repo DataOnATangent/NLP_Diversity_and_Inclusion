{
 "cells": [
  {
   "cell_type": "code",
   "execution_count": 1,
   "metadata": {
    "ExecuteTime": {
     "end_time": "2021-02-16T15:50:41.831913Z",
     "start_time": "2021-02-16T15:50:38.179744Z"
    }
   },
   "outputs": [],
   "source": [
    "import nltk\n",
    "import matplotlib.pyplot as plt\n",
    "import pandas as pd\n",
    "#from sklearn.feature_extraction.text import CountVectorizer ## TEST\n",
    "from sklearn.feature_extraction.text import TfidfVectorizer ## TEST\n",
    "from sklearn.feature_extraction.text import TfidfTransformer\n",
    "#from nltk.probability import FreqDist\n",
    "from nltk.corpus import stopwords ## TEST\n",
    "from nltk.stem import PorterStemmer\n",
    "from sklearn.metrics import confusion_matrix\n",
    "import seaborn as sns\n",
    "from sklearn.naive_bayes import MultinomialNB\n",
    "from sklearn import metrics\n",
    "from sklearn.model_selection import train_test_split\n",
    "from matplotlib import cm\n",
    "import numpy as np\n",
    "from sklearn.ensemble import RandomForestClassifier\n",
    "from sklearn.metrics import accuracy_score\n",
    "from sklearn.metrics import f1_score\n",
    "from sklearn.naive_bayes import MultinomialNB\n"
   ]
  },
  {
   "cell_type": "code",
   "execution_count": 2,
   "metadata": {
    "ExecuteTime": {
     "end_time": "2021-02-16T15:50:41.871293Z",
     "start_time": "2021-02-16T15:50:41.835879Z"
    }
   },
   "outputs": [],
   "source": [
    "from sklearn.metrics import confusion_matrix\n",
    "import seaborn as sns; sns.set()"
   ]
  },
  {
   "cell_type": "code",
   "execution_count": 3,
   "metadata": {
    "ExecuteTime": {
     "end_time": "2021-02-16T15:50:41.950995Z",
     "start_time": "2021-02-16T15:50:41.910182Z"
    },
    "scrolled": true
   },
   "outputs": [],
   "source": [
    "#loading in cleaned data for analysis\n",
    "X_lem = pd.read_pickle('modeling/X_lem.pkl')\n",
    "y_lem = pd.read_pickle('modeling/y_lem.pkl')\n",
    "\n",
    "#loading stop word list\n",
    "sw_list = pd.read_pickle('modeling/stopwords.pkl')"
   ]
  },
  {
   "cell_type": "code",
   "execution_count": 4,
   "metadata": {
    "ExecuteTime": {
     "end_time": "2021-02-16T15:50:41.994160Z",
     "start_time": "2021-02-16T15:50:41.961841Z"
    }
   },
   "outputs": [
    {
     "data": {
      "text/plain": [
       "'leader sector tackle toughest challenge grow startup improve early education quickly enter market serve organization size ranging smalltomidsized revenue le year top forbes list office practice eight functional practice private sector serve government weve completed project social sector organization last five mean whatever passion find others working similar topic mckinsey know want know want come mckinsey explore visit career website learn apply subscribe career blog weekly job alert story colleague twofold distinctive lasting substantial improvement performance build firm attracts develops excites retains exceptional element strongly connected helping solve toughest problem requires drawn matter together supportive dedicated colleague'"
      ]
     },
     "execution_count": 4,
     "metadata": {},
     "output_type": "execute_result"
    }
   ],
   "source": [
    "X_lem[0]"
   ]
  },
  {
   "cell_type": "markdown",
   "metadata": {
    "heading_collapsed": true
   },
   "source": [
    "## Baseline Random Forest\n",
    "- Random Forest with Lemmatization, trigrams\n",
    "- **try also with BoW instead of TF-IDF??**\n",
    "- **try also with Stemming instead of Lemmatization??** \n",
    "\n",
    "Results before additional preprocessing:\n",
    "- Testing Accuracy: 0.5441\n",
    "- Testing Precision: 0.5703\n",
    "- Testing Recall: 0.6881\n",
    "- F1 Score: 0.6237\n",
    "- ngram_range=(1,3)"
   ]
  },
  {
   "cell_type": "markdown",
   "metadata": {
    "hidden": true
   },
   "source": [
    "*Train-Test Split*"
   ]
  },
  {
   "cell_type": "code",
   "execution_count": 5,
   "metadata": {
    "ExecuteTime": {
     "end_time": "2021-02-16T15:50:42.028012Z",
     "start_time": "2021-02-16T15:50:41.999051Z"
    },
    "hidden": true
   },
   "outputs": [],
   "source": [
    "# always train-test split THEN apply vectorizer \n",
    "X_train_lem, X_test_lem, y_train_lem, y_test_lem = train_test_split(X_lem, y_lem, test_size=0.20, random_state=42)\n"
   ]
  },
  {
   "cell_type": "code",
   "execution_count": 6,
   "metadata": {
    "ExecuteTime": {
     "end_time": "2021-02-16T15:50:42.062653Z",
     "start_time": "2021-02-16T15:50:42.035952Z"
    },
    "hidden": true
   },
   "outputs": [
    {
     "name": "stdout",
     "output_type": "stream",
     "text": [
      "NOTE: Null Accuracy is 0.4247\n"
     ]
    }
   ],
   "source": [
    "null_accuracy = round(y_test_lem.value_counts()[0]/y_test_lem.value_counts().sum(), 4)\n",
    "print('NOTE: Null Accuracy is', null_accuracy)"
   ]
  },
  {
   "cell_type": "markdown",
   "metadata": {
    "hidden": true
   },
   "source": [
    "*Vectorize*"
   ]
  },
  {
   "cell_type": "code",
   "execution_count": 7,
   "metadata": {
    "ExecuteTime": {
     "end_time": "2021-02-16T15:50:43.996012Z",
     "start_time": "2021-02-16T15:50:42.069920Z"
    },
    "hidden": true
   },
   "outputs": [],
   "source": [
    "#Vectorize Test Set\n",
    "tfidf = TfidfVectorizer(stop_words=sw_list, ngram_range=(1,3)) ## TEST bigram/trigram\n",
    "\n",
    "#fit vectorizer to both training and testing set\n",
    "tfidf_data_train_lem = tfidf.fit_transform(X_train_lem)\n",
    "tfidf_data_test_lem = tfidf.transform(X_test_lem)"
   ]
  },
  {
   "cell_type": "markdown",
   "metadata": {
    "hidden": true
   },
   "source": [
    "*Model*"
   ]
  },
  {
   "cell_type": "code",
   "execution_count": 8,
   "metadata": {
    "ExecuteTime": {
     "end_time": "2021-02-16T15:50:44.041889Z",
     "start_time": "2021-02-16T15:50:44.028675Z"
    },
    "hidden": true
   },
   "outputs": [],
   "source": [
    "rf_classifier_lem = RandomForestClassifier(n_estimators=120, random_state=42)"
   ]
  },
  {
   "cell_type": "code",
   "execution_count": 9,
   "metadata": {
    "ExecuteTime": {
     "end_time": "2021-02-16T15:50:54.134635Z",
     "start_time": "2021-02-16T15:50:44.086868Z"
    },
    "hidden": true
   },
   "outputs": [],
   "source": [
    "## Fit model to train set\n",
    "rf_classifier_lem.fit(tfidf_data_train_lem, y_train_lem)\n",
    "rf_test_preds_lem = rf_classifier_lem.predict(tfidf_data_test_lem)\n",
    "rf_train_preds_lem = rf_classifier_lem.predict(tfidf_data_train_lem)"
   ]
  },
  {
   "cell_type": "markdown",
   "metadata": {
    "hidden": true
   },
   "source": [
    "*Evaluate Metrics*"
   ]
  },
  {
   "cell_type": "code",
   "execution_count": 10,
   "metadata": {
    "ExecuteTime": {
     "end_time": "2021-02-16T15:50:54.178423Z",
     "start_time": "2021-02-16T15:50:54.137450Z"
    },
    "hidden": true
   },
   "outputs": [
    {
     "name": "stdout",
     "output_type": "stream",
     "text": [
      "Random Forest with Lemmatization Features:\n",
      "\n",
      "Testing Accuracy: 0.5775\n",
      "Testing Precision: 0.6083\n",
      "Testing Recall: 0.7461\n",
      "F1 Score: 0.6702\n",
      "Training Accuracy: 1.0\n"
     ]
    }
   ],
   "source": [
    "#(ngram=1,3)\n",
    "rf_acc_score_lem = accuracy_score(y_test_lem, rf_test_preds_lem)\n",
    "rf_precision_score_lem = metrics.precision_score(y_test_lem, rf_test_preds_lem)\n",
    "rf_recall_score_lem = metrics.recall_score(y_test_lem, rf_test_preds_lem)\n",
    "rf_f1_score_lem = f1_score(y_test_lem, rf_test_preds_lem)\n",
    "\n",
    "print('Random Forest with Lemmatization Features:\\n')\n",
    "print(\"Testing Accuracy: {:.4}\".format(rf_acc_score_lem))\n",
    "print(\"Testing Precision: {:.4}\".format(rf_precision_score_lem))\n",
    "print(\"Testing Recall: {:.4}\".format(rf_recall_score_lem))\n",
    "print(\"F1 Score: {:.4}\".format(rf_f1_score_lem))\n",
    "\n",
    "rf_train_accuracy = accuracy_score(y_train_lem, rf_train_preds_lem)\n",
    "print(\"Training Accuracy: {:.4}\".format(rf_train_accuracy))"
   ]
  },
  {
   "cell_type": "code",
   "execution_count": 11,
   "metadata": {
    "ExecuteTime": {
     "end_time": "2021-02-16T15:50:54.452740Z",
     "start_time": "2021-02-16T15:50:54.193306Z"
    },
    "code_folding": [],
    "hidden": true,
    "scrolled": true
   },
   "outputs": [
    {
     "data": {
      "text/plain": [
       "(2.0, 0.0)"
      ]
     },
     "execution_count": 11,
     "metadata": {},
     "output_type": "execute_result"
    },
    {
     "data": {
      "image/png": "[encoded data removed]",
      "text/plain": [
       "<Figure size 432x288 with 1 Axes>"
      ]
     },
     "metadata": {},
     "output_type": "display_data"
    }
   ],
   "source": [
    "from sklearn.metrics import confusion_matrix\n",
    "import seaborn as sns; sns.set()\n",
    "\n",
    "\n",
    "mat = confusion_matrix(y_test_lem, rf_test_preds_lem)\n",
    "sns.heatmap(mat.T, square=True, annot=True, fmt='d', cbar=False,\n",
    "            xticklabels=['Not_Inclusive', 'Inclusive'], \n",
    "            yticklabels=['Not_Inclusive', 'Inclusive']\n",
    "           )\n",
    "plt.xlabel('true label')\n",
    "plt.ylabel('predicted label');\n",
    "\n",
    "## Fixing cut-off bug\n",
    "b, t = plt.ylim() # discover the values for bottom and top\n",
    "b += 0.5 # Add 0.5 to the bottom\n",
    "t -= 0.5 # Subtract 0.5 from the top\n",
    "plt.ylim(b, t) # update the ylim(bottom, top) values"
   ]
  },
  {
   "cell_type": "markdown",
   "metadata": {},
   "source": [
    "## Baseline Logistic Regression\n",
    "\n",
    "- Testing Accuracy: 0.5768\n",
    "- Testing Precision: 0.5702\n",
    "- Testing Recall: 0.9312\n",
    "- F1 Score: 0.7073\n",
    "\n",
    "- ngram_range=(1,3)\n"
   ]
  },
  {
   "cell_type": "code",
   "execution_count": 12,
   "metadata": {
    "ExecuteTime": {
     "end_time": "2021-02-16T15:50:54.462972Z",
     "start_time": "2021-02-16T15:50:54.456200Z"
    }
   },
   "outputs": [],
   "source": [
    "# Train-test split\n",
    "X_train_lem, X_test_lem, y_train_lem, y_test_lem = train_test_split(X_lem, y_lem, test_size=0.20, random_state=42)\n"
   ]
  },
  {
   "cell_type": "markdown",
   "metadata": {},
   "source": [
    "**Vectorize**"
   ]
  },
  {
   "cell_type": "code",
   "execution_count": 13,
   "metadata": {
    "ExecuteTime": {
     "end_time": "2021-02-16T15:50:56.023819Z",
     "start_time": "2021-02-16T15:50:54.465536Z"
    }
   },
   "outputs": [],
   "source": [
    "# Vectorize Test Set\n",
    "tfidf = TfidfVectorizer(stop_words=sw_list, ngram_range=(1,3))\n",
    "\n",
    "#fit vectorizer to both training and testing set\n",
    "tfidf_data_train_lem = tfidf.fit_transform(X_train_lem)\n",
    "tfidf_data_test_lem = tfidf.transform(X_test_lem)"
   ]
  },
  {
   "cell_type": "markdown",
   "metadata": {},
   "source": [
    "**Model**"
   ]
  },
  {
   "cell_type": "code",
   "execution_count": 14,
   "metadata": {
    "ExecuteTime": {
     "end_time": "2021-02-16T15:50:56.049084Z",
     "start_time": "2021-02-16T15:50:56.026315Z"
    }
   },
   "outputs": [],
   "source": [
    "from sklearn.linear_model import LogisticRegression\n",
    "\n",
    "log_reg_baseline = LogisticRegression(random_state=42)"
   ]
  },
  {
   "cell_type": "code",
   "execution_count": 15,
   "metadata": {
    "ExecuteTime": {
     "end_time": "2021-02-16T15:50:57.200902Z",
     "start_time": "2021-02-16T15:50:56.068063Z"
    },
    "scrolled": true
   },
   "outputs": [],
   "source": [
    "#fit model to train set\n",
    "log_reg_baseline.fit(tfidf_data_train_lem, y_train_lem)\n",
    "\n",
    "#predictions\n",
    "log_reg_test_preds = log_reg_baseline.predict(tfidf_data_test_lem)"
   ]
  },
  {
   "cell_type": "markdown",
   "metadata": {},
   "source": [
    "**Resulting Metrics**"
   ]
  },
  {
   "cell_type": "code",
   "execution_count": 16,
   "metadata": {
    "ExecuteTime": {
     "end_time": "2021-02-16T15:50:57.263061Z",
     "start_time": "2021-02-16T15:50:57.225068Z"
    },
    "scrolled": true
   },
   "outputs": [
    {
     "name": "stdout",
     "output_type": "stream",
     "text": [
      "Logistic Regression with Lemmatization Features:\n",
      "\n",
      "Testing Accuracy: 0.5865\n",
      "Testing Precision: 0.59\n",
      "Testing Recall: 0.9219\n",
      "F1 Score: 0.7195\n"
     ]
    }
   ],
   "source": [
    "log_reg_accuracy = accuracy_score(y_test_lem, log_reg_test_preds)\n",
    "log_reg_precision = metrics.precision_score(y_test_lem, log_reg_test_preds)\n",
    "log_reg_recall = metrics.recall_score(y_test_lem, log_reg_test_preds)\n",
    "log_reg_f1 = f1_score(y_test_lem, log_reg_test_preds)\n",
    "\n",
    "# printing scores\n",
    "print('Logistic Regression with Lemmatization Features:\\n')\n",
    "print(\"Testing Accuracy: {:.4}\".format(log_reg_accuracy))\n",
    "print(\"Testing Precision: {:.4}\".format(log_reg_precision))\n",
    "print(\"Testing Recall: {:.4}\".format(log_reg_recall))\n",
    "print(\"F1 Score: {:.4}\".format(log_reg_f1))\n"
   ]
  },
  {
   "cell_type": "code",
   "execution_count": 17,
   "metadata": {
    "ExecuteTime": {
     "end_time": "2021-02-16T15:50:57.475959Z",
     "start_time": "2021-02-16T15:50:57.274406Z"
    }
   },
   "outputs": [
    {
     "data": {
      "text/plain": [
       "(2.0, 0.0)"
      ]
     },
     "execution_count": 17,
     "metadata": {},
     "output_type": "execute_result"
    },
    {
     "data": {
      "image/png": "[encoded data removed]",
      "text/plain": [
       "<Figure size 432x288 with 1 Axes>"
      ]
     },
     "metadata": {},
     "output_type": "display_data"
    }
   ],
   "source": [
    "from sklearn.metrics import confusion_matrix\n",
    "import seaborn as sns; sns.set()\n",
    "\n",
    "\n",
    "mat = confusion_matrix(y_test_lem, log_reg_test_preds)\n",
    "sns.heatmap(mat.T, square=True, annot=True, fmt='d', cbar=False,\n",
    "            xticklabels=['Not_Inclusive', 'Inclusive'], \n",
    "            yticklabels=['Not_Inclusive', 'Inclusive']\n",
    "           )\n",
    "plt.xlabel('true label')\n",
    "plt.ylabel('predicted label');\n",
    "\n",
    "## Fixing cut-off bug\n",
    "b, t = plt.ylim() # discover the values for bottom and top\n",
    "b += 0.5 # Add 0.5 to the bottom\n",
    "t -= 0.5 # Subtract 0.5 from the top\n",
    "plt.ylim(b, t) # update the ylim(bottom, top) values"
   ]
  },
  {
   "cell_type": "code",
   "execution_count": null,
   "metadata": {},
   "outputs": [],
   "source": []
  },
  {
   "cell_type": "markdown",
   "metadata": {},
   "source": [
    "## Naive Bayes"
   ]
  },
  {
   "cell_type": "code",
   "execution_count": 18,
   "metadata": {
    "ExecuteTime": {
     "end_time": "2021-02-16T15:50:57.491335Z",
     "start_time": "2021-02-16T15:50:57.478771Z"
    }
   },
   "outputs": [],
   "source": [
    "# Train-test split\n",
    "X_train_lem, X_test_lem, y_train_lem, y_test_lem = train_test_split(X_lem, y_lem, test_size=0.20, random_state=42)\n"
   ]
  },
  {
   "cell_type": "markdown",
   "metadata": {},
   "source": [
    "**Vectorize**"
   ]
  },
  {
   "cell_type": "code",
   "execution_count": 19,
   "metadata": {
    "ExecuteTime": {
     "end_time": "2021-02-16T15:50:59.514813Z",
     "start_time": "2021-02-16T15:50:57.507630Z"
    }
   },
   "outputs": [],
   "source": [
    "# Vectorize Test Set\n",
    "tfidf = TfidfVectorizer(stop_words=sw_list, ngram_range=(2,3))\n",
    "\n",
    "#fit vectorizer to both training and testing set\n",
    "tfidf_data_train_lem = tfidf.fit_transform(X_train_lem)\n",
    "tfidf_data_test_lem = tfidf.transform(X_test_lem)"
   ]
  },
  {
   "cell_type": "markdown",
   "metadata": {},
   "source": [
    "**Model**"
   ]
  },
  {
   "cell_type": "code",
   "execution_count": 20,
   "metadata": {
    "ExecuteTime": {
     "end_time": "2021-02-16T15:50:59.526355Z",
     "start_time": "2021-02-16T15:50:59.518074Z"
    }
   },
   "outputs": [],
   "source": [
    "nb_classifier = MultinomialNB()"
   ]
  },
  {
   "cell_type": "code",
   "execution_count": 21,
   "metadata": {
    "ExecuteTime": {
     "end_time": "2021-02-16T15:50:59.610379Z",
     "start_time": "2021-02-16T15:50:59.533027Z"
    }
   },
   "outputs": [],
   "source": [
    "nb_classifier.fit(tfidf_data_train_lem, y_train_lem)\n",
    "nb_train_preds = nb_classifier.predict(tfidf_data_train_lem)\n",
    "nb_test_preds = nb_classifier.predict(tfidf_data_test_lem)"
   ]
  },
  {
   "cell_type": "markdown",
   "metadata": {},
   "source": [
    "**Resulting Metrics**"
   ]
  },
  {
   "cell_type": "code",
   "execution_count": 22,
   "metadata": {
    "ExecuteTime": {
     "end_time": "2021-02-16T15:50:59.741981Z",
     "start_time": "2021-02-16T15:50:59.641059Z"
    }
   },
   "outputs": [
    {
     "name": "stdout",
     "output_type": "stream",
     "text": [
      "Naive Bayes with Lemmatization Features:\n",
      "\n",
      "Testing Accuracy: 0.5775\n",
      "Testing Precision: 0.578\n",
      "Testing Recall: 0.9844\n",
      "F1 Score: 0.7283\n",
      "\n",
      "Training Accuracy: 1.0\n"
     ]
    }
   ],
   "source": [
    "nb_accuracy = accuracy_score(y_test_lem, nb_test_preds)\n",
    "nb_precision = metrics.precision_score(y_test_lem, nb_test_preds)\n",
    "nb_recall = metrics.recall_score(y_test_lem, nb_test_preds)\n",
    "nb_f1 = f1_score(y_test_lem, nb_test_preds)\n",
    "\n",
    "nb_train_accuracy = accuracy_score(y_train_lem, nb_train_preds)\n",
    "\n",
    "# printing scores\n",
    "print('Naive Bayes with Lemmatization Features:\\n')\n",
    "print(\"Testing Accuracy: {:.4}\".format(nb_accuracy))\n",
    "print(\"Testing Precision: {:.4}\".format(nb_precision))\n",
    "print(\"Testing Recall: {:.4}\".format(nb_recall))\n",
    "print(\"F1 Score: {:.4}\".format(nb_f1))\n",
    "print()\n",
    "print(\"Training Accuracy: {:.4}\".format(nb_train_accuracy))"
   ]
  },
  {
   "cell_type": "code",
   "execution_count": 23,
   "metadata": {
    "ExecuteTime": {
     "end_time": "2021-02-16T15:51:00.129194Z",
     "start_time": "2021-02-16T15:50:59.760727Z"
    }
   },
   "outputs": [
    {
     "data": {
      "text/plain": [
       "(2.0, 0.0)"
      ]
     },
     "execution_count": 23,
     "metadata": {},
     "output_type": "execute_result"
    },
    {
     "data": {
      "image/png": "[encoded data removed]",
      "text/plain": [
       "<Figure size 432x288 with 1 Axes>"
      ]
     },
     "metadata": {},
     "output_type": "display_data"
    }
   ],
   "source": [
    "mat = confusion_matrix(y_test_lem, nb_test_preds)\n",
    "sns.heatmap(mat.T, square=True, annot=True, fmt='d', cbar=False,\n",
    "            xticklabels=['Not_Inclusive', 'Inclusive'], \n",
    "            yticklabels=['Not_Inclusive', 'Inclusive']\n",
    "           )\n",
    "plt.xlabel('true label')\n",
    "plt.ylabel('predicted label');\n",
    "\n",
    "## Fixing cut-off bug\n",
    "b, t = plt.ylim() # discover the values for bottom and top\n",
    "b += 0.5 # Add 0.5 to the bottom\n",
    "t -= 0.5 # Subtract 0.5 from the top\n",
    "plt.ylim(b, t) # update the ylim(bottom, top) values"
   ]
  },
  {
   "cell_type": "code",
   "execution_count": null,
   "metadata": {},
   "outputs": [],
   "source": []
  },
  {
   "cell_type": "code",
   "execution_count": null,
   "metadata": {},
   "outputs": [],
   "source": []
  },
  {
   "cell_type": "code",
   "execution_count": null,
   "metadata": {},
   "outputs": [],
   "source": []
  },
  {
   "cell_type": "code",
   "execution_count": null,
   "metadata": {},
   "outputs": [],
   "source": []
  },
  {
   "cell_type": "code",
   "execution_count": null,
   "metadata": {},
   "outputs": [],
   "source": []
  },
  {
   "cell_type": "code",
   "execution_count": 24,
   "metadata": {
    "ExecuteTime": {
     "end_time": "2021-02-16T15:51:00.140145Z",
     "start_time": "2021-02-16T15:51:00.133068Z"
    }
   },
   "outputs": [],
   "source": [
    "### Code to look at all metrics together\n",
    "# nb_train_score = accuracy_score(target, nb_train_preds)\n",
    "# nb_test_score = accuracy_score(newsgroups_test.target, nb_test_preds)\n",
    "# rf_train_score = accuracy_score(target, rf_train_preds)\n",
    "# rf_test_score = accuracy_score(newsgroups_test.target, rf_test_preds)\n",
    "\n",
    "# print(\"Multinomial Naive Bayes\")\n",
    "# print(\"Training Accuracy: {:.4} \\t\\t Testing Accuracy: {:.4}\".format(nb_train_score, nb_test_score))\n",
    "# print(\"\")\n",
    "# print('-'*70)\n",
    "# print(\"\")\n",
    "# print('Random Forest')\n",
    "# print(\"Training Accuracy: {:.4} \\t\\t Testing Accuracy: {:.4}\".format(rf_train_score, rf_test_score))"
   ]
  }
 ],
 "metadata": {
  "kernelspec": {
   "display_name": "Python 3",
   "language": "python",
   "name": "python3"
  },
  "language_info": {
   "codemirror_mode": {
    "name": "ipython",
    "version": 3
   },
   "file_extension": ".py",
   "mimetype": "text/x-python",
   "name": "python",
   "nbconvert_exporter": "python",
   "pygments_lexer": "ipython3",
   "version": "3.6.9"
  },
  "toc": {
   "base_numbering": 1,
   "nav_menu": {},
   "number_sections": true,
   "sideBar": true,
   "skip_h1_title": false,
   "title_cell": "Table of Contents",
   "title_sidebar": "Contents",
   "toc_cell": false,
   "toc_position": {},
   "toc_section_display": true,
   "toc_window_display": false
  }
 },
 "nbformat": 4,
 "nbformat_minor": 4
}
