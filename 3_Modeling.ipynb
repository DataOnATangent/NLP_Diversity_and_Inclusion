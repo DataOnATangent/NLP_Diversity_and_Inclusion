{
 "cells": [
  {
   "cell_type": "code",
   "execution_count": 1,
   "metadata": {
    "ExecuteTime": {
     "end_time": "2021-02-16T15:50:41.831913Z",
     "start_time": "2021-02-16T15:50:38.179744Z"
    }
   },
   "outputs": [],
   "source": [
    "import nltk\n",
    "import matplotlib.pyplot as plt\n",
    "import pandas as pd\n",
    "#from sklearn.feature_extraction.text import CountVectorizer ## TEST\n",
    "from sklearn.feature_extraction.text import TfidfVectorizer ## TEST\n",
    "from sklearn.feature_extraction.text import TfidfTransformer\n",
    "#from nltk.probability import FreqDist\n",
    "from nltk.corpus import stopwords ## TEST\n",
    "from nltk.stem import PorterStemmer\n",
    "from sklearn.metrics import confusion_matrix\n",
    "import seaborn as sns\n",
    "from sklearn.naive_bayes import MultinomialNB\n",
    "from sklearn import metrics\n",
    "from sklearn.model_selection import train_test_split\n",
    "from matplotlib import cm\n",
    "import numpy as np\n",
    "from sklearn.ensemble import RandomForestClassifier\n",
    "from sklearn.metrics import accuracy_score\n",
    "from sklearn.metrics import f1_score\n",
    "from sklearn.naive_bayes import MultinomialNB\n"
   ]
  },
  {
   "cell_type": "code",
   "execution_count": 2,
   "metadata": {
    "ExecuteTime": {
     "end_time": "2021-02-16T15:50:41.871293Z",
     "start_time": "2021-02-16T15:50:41.835879Z"
    }
   },
   "outputs": [],
   "source": [
    "from sklearn.metrics import confusion_matrix\n",
    "import seaborn as sns; sns.set()"
   ]
  },
  {
   "cell_type": "code",
   "execution_count": 3,
   "metadata": {
    "ExecuteTime": {
     "end_time": "2021-02-16T15:50:41.950995Z",
     "start_time": "2021-02-16T15:50:41.910182Z"
    },
    "scrolled": true
   },
   "outputs": [],
   "source": [
    "#loading in cleaned data for analysis\n",
    "X_lem = pd.read_pickle('modeling/X_lem.pkl')\n",
    "y_lem = pd.read_pickle('modeling/y_lem.pkl')\n",
    "\n",
    "#loading stop word list\n",
    "sw_list = pd.read_pickle('modeling/stopwords.pkl')"
   ]
  },
  {
   "cell_type": "code",
   "execution_count": 4,
   "metadata": {
    "ExecuteTime": {
     "end_time": "2021-02-16T15:50:41.994160Z",
     "start_time": "2021-02-16T15:50:41.961841Z"
    }
   },
   "outputs": [
    {
     "data": {
      "text/plain": [
       "'leader sector tackle toughest challenge grow startup improve early education quickly enter market serve organization size ranging smalltomidsized revenue le year top forbes list office practice eight functional practice private sector serve government weve completed project social sector organization last five mean whatever passion find others working similar topic mckinsey know want know want come mckinsey explore visit career website learn apply subscribe career blog weekly job alert story colleague twofold distinctive lasting substantial improvement performance build firm attracts develops excites retains exceptional element strongly connected helping solve toughest problem requires drawn matter together supportive dedicated colleague'"
      ]
     },
     "execution_count": 4,
     "metadata": {},
     "output_type": "execute_result"
    }
   ],
   "source": [
    "X_lem[0]"
   ]
  },
  {
   "cell_type": "markdown",
   "metadata": {},
   "source": [
    "## Baseline Random Forest\n",
    "- Random Forest with Lemmatization, trigrams\n",
    "- **try also with BoW instead of TF-IDF??**\n",
    "- **try also with Stemming instead of Lemmatization??** \n",
    "\n",
    "Results before additional preprocessing:\n",
    "- Testing Accuracy: 0.5441\n",
    "- Testing Precision: 0.5703\n",
    "- Testing Recall: 0.6881\n",
    "- F1 Score: 0.6237\n",
    "- ngram_range=(1,3)"
   ]
  },
  {
   "cell_type": "markdown",
   "metadata": {},
   "source": [
    "*Train-Test Split*"
   ]
  },
  {
   "cell_type": "code",
   "execution_count": 5,
   "metadata": {
    "ExecuteTime": {
     "end_time": "2021-02-16T15:50:42.028012Z",
     "start_time": "2021-02-16T15:50:41.999051Z"
    }
   },
   "outputs": [],
   "source": [
    "# always train-test split THEN apply vectorizer \n",
    "X_train_lem, X_test_lem, y_train_lem, y_test_lem = train_test_split(X_lem, y_lem, test_size=0.20, random_state=42)\n"
   ]
  },
  {
   "cell_type": "code",
   "execution_count": 6,
   "metadata": {
    "ExecuteTime": {
     "end_time": "2021-02-16T15:50:42.062653Z",
     "start_time": "2021-02-16T15:50:42.035952Z"
    }
   },
   "outputs": [
    {
     "name": "stdout",
     "output_type": "stream",
     "text": [
      "NOTE: Null Accuracy is 0.4247\n"
     ]
    }
   ],
   "source": [
    "null_accuracy = round(y_test_lem.value_counts()[0]/y_test_lem.value_counts().sum(), 4)\n",
    "print('NOTE: Null Accuracy is', null_accuracy)"
   ]
  },
  {
   "cell_type": "markdown",
   "metadata": {},
   "source": [
    "*Vectorize*"
   ]
  },
  {
   "cell_type": "code",
   "execution_count": 7,
   "metadata": {
    "ExecuteTime": {
     "end_time": "2021-02-16T15:50:43.996012Z",
     "start_time": "2021-02-16T15:50:42.069920Z"
    }
   },
   "outputs": [],
   "source": [
    "#Vectorize Test Set\n",
    "tfidf = TfidfVectorizer(stop_words=sw_list, ngram_range=(1,3)) ## TEST bigram/trigram\n",
    "\n",
    "#fit vectorizer to both training and testing set\n",
    "tfidf_data_train_lem = tfidf.fit_transform(X_train_lem)\n",
    "tfidf_data_test_lem = tfidf.transform(X_test_lem)"
   ]
  },
  {
   "cell_type": "markdown",
   "metadata": {},
   "source": [
    "*Model*"
   ]
  },
  {
   "cell_type": "code",
   "execution_count": 8,
   "metadata": {
    "ExecuteTime": {
     "end_time": "2021-02-16T15:50:44.041889Z",
     "start_time": "2021-02-16T15:50:44.028675Z"
    }
   },
   "outputs": [],
   "source": [
    "rf_classifier_lem = RandomForestClassifier(n_estimators=120, random_state=42)"
   ]
  },
  {
   "cell_type": "code",
   "execution_count": 9,
   "metadata": {
    "ExecuteTime": {
     "end_time": "2021-02-16T15:50:54.134635Z",
     "start_time": "2021-02-16T15:50:44.086868Z"
    }
   },
   "outputs": [],
   "source": [
    "## Fit model to train set\n",
    "rf_classifier_lem.fit(tfidf_data_train_lem, y_train_lem)\n",
    "rf_test_preds_lem = rf_classifier_lem.predict(tfidf_data_test_lem)\n",
    "rf_train_preds_lem = rf_classifier_lem.predict(tfidf_data_train_lem)"
   ]
  },
  {
   "cell_type": "markdown",
   "metadata": {},
   "source": [
    "*Evaluate Metrics*"
   ]
  },
  {
   "cell_type": "code",
   "execution_count": 10,
   "metadata": {
    "ExecuteTime": {
     "end_time": "2021-02-16T15:50:54.178423Z",
     "start_time": "2021-02-16T15:50:54.137450Z"
    }
   },
   "outputs": [
    {
     "name": "stdout",
     "output_type": "stream",
     "text": [
      "Random Forest with Lemmatization Features:\n",
      "\n",
      "Testing Accuracy: 0.5775\n",
      "Testing Precision: 0.6083\n",
      "Testing Recall: 0.7461\n",
      "F1 Score: 0.6702\n",
      "Training Accuracy: 1.0\n"
     ]
    }
   ],
   "source": [
    "#(ngram=1,3)\n",
    "rf_acc_score_lem = accuracy_score(y_test_lem, rf_test_preds_lem)\n",
    "rf_precision_score_lem = metrics.precision_score(y_test_lem, rf_test_preds_lem)\n",
    "rf_recall_score_lem = metrics.recall_score(y_test_lem, rf_test_preds_lem)\n",
    "rf_f1_score_lem = f1_score(y_test_lem, rf_test_preds_lem)\n",
    "\n",
    "print('Random Forest with Lemmatization Features:\\n')\n",
    "print(\"Testing Accuracy: {:.4}\".format(rf_acc_score_lem))\n",
    "print(\"Testing Precision: {:.4}\".format(rf_precision_score_lem))\n",
    "print(\"Testing Recall: {:.4}\".format(rf_recall_score_lem))\n",
    "print(\"F1 Score: {:.4}\".format(rf_f1_score_lem))\n",
    "\n",
    "rf_train_accuracy = accuracy_score(y_train_lem, rf_train_preds_lem)\n",
    "print(\"Training Accuracy: {:.4}\".format(rf_train_accuracy))"
   ]
  },
  {
   "cell_type": "code",
   "execution_count": 11,
   "metadata": {
    "ExecuteTime": {
     "end_time": "2021-02-16T15:50:54.452740Z",
     "start_time": "2021-02-16T15:50:54.193306Z"
    },
    "code_folding": [],
    "scrolled": true
   },
   "outputs": [
    {
     "data": {
      "text/plain": [
       "(2.0, 0.0)"
      ]
     },
     "execution_count": 11,
     "metadata": {},
     "output_type": "execute_result"
    },
    {
     "data": {
      "image/png": "[encoded data removed]",
      "text/plain": [
       "<Figure size 432x288 with 1 Axes>"
      ]
     },
     "metadata": {},
     "output_type": "display_data"
    }
   ],
   "source": [
    "from sklearn.metrics import confusion_matrix\n",
    "import seaborn as sns; sns.set()\n",
    "\n",
    "\n",
    "mat = confusion_matrix(y_test_lem, rf_test_preds_lem)\n",
    "sns.heatmap(mat.T, square=True, annot=True, fmt='d', cbar=False,\n",
    "            xticklabels=['Not_Inclusive', 'Inclusive'], \n",
    "            yticklabels=['Not_Inclusive', 'Inclusive']\n",
    "           )\n",
    "plt.xlabel('true label')\n",
    "plt.ylabel('predicted label');\n",
    "\n",
    "## Fixing cut-off bug\n",
    "b, t = plt.ylim() # discover the values for bottom and top\n",
    "b += 0.5 # Add 0.5 to the bottom\n",
    "t -= 0.5 # Subtract 0.5 from the top\n",
    "plt.ylim(b, t) # update the ylim(bottom, top) values"
   ]
  },
  {
   "cell_type": "markdown",
   "metadata": {},
   "source": [
    "## Baseline Logistic Regression\n",
    "\n",
    "- Testing Accuracy: 0.5768\n",
    "- Testing Precision: 0.5702\n",
    "- Testing Recall: 0.9312\n",
    "- F1 Score: 0.7073\n",
    "\n",
    "- ngram_range=(1,3)\n",
    "\n",
    "\n",
    "overfit - why??"
   ]
  },
  {
   "cell_type": "code",
   "execution_count": 69,
   "metadata": {
    "ExecuteTime": {
     "end_time": "2021-02-16T19:42:25.781651Z",
     "start_time": "2021-02-16T19:42:25.744809Z"
    }
   },
   "outputs": [],
   "source": [
    "# Train-test split\n",
    "X_train_lem, X_test_lem, y_train_lem, y_test_lem = train_test_split(X_lem, y_lem, test_size=0.20, random_state=42)\n"
   ]
  },
  {
   "cell_type": "markdown",
   "metadata": {},
   "source": [
    "**Vectorize**"
   ]
  },
  {
   "cell_type": "code",
   "execution_count": 70,
   "metadata": {
    "ExecuteTime": {
     "end_time": "2021-02-16T19:42:28.179645Z",
     "start_time": "2021-02-16T19:42:26.550076Z"
    }
   },
   "outputs": [],
   "source": [
    "# Vectorize Test Set\n",
    "tfidf = TfidfVectorizer(stop_words=sw_list, ngram_range=(1,3))\n",
    "\n",
    "#fit vectorizer to both training and testing set\n",
    "tfidf_data_train_lem = tfidf.fit_transform(X_train_lem)\n",
    "tfidf_data_test_lem = tfidf.transform(X_test_lem)"
   ]
  },
  {
   "cell_type": "code",
   "execution_count": 74,
   "metadata": {
    "ExecuteTime": {
     "end_time": "2021-02-16T19:44:26.541225Z",
     "start_time": "2021-02-16T19:44:03.458138Z"
    }
   },
   "outputs": [
    {
     "name": "stdout",
     "output_type": "stream",
     "text": [
      "Fitting 3 folds for each of 10 candidates, totalling 30 fits\n"
     ]
    },
    {
     "name": "stderr",
     "output_type": "stream",
     "text": [
      "[Parallel(n_jobs=-1)]: Using backend LokyBackend with 4 concurrent workers.\n",
      "[Parallel(n_jobs=-1)]: Done  23 out of  30 | elapsed:   13.7s remaining:    4.2s\n",
      "[Parallel(n_jobs=-1)]: Done  30 out of  30 | elapsed:   20.2s finished\n"
     ]
    },
    {
     "data": {
      "text/plain": [
       "GridSearchCV(cv=3, estimator=LogisticRegression(), n_jobs=-1,\n",
       "             param_grid={'C': [40, 45, 50, 55, 60], 'penalty': ['l1', 'l2']},\n",
       "             verbose=True)"
      ]
     },
     "execution_count": 74,
     "metadata": {},
     "output_type": "execute_result"
    }
   ],
   "source": [
    "## Run below code to perform a grid search of optimal parameters\n",
    "# from sklearn.model_selection import train_test_split, GridSearchCV\n",
    "\n",
    "# log_reg = LogisticRegression()\n",
    "# log_param_grid = {\n",
    "#     'C' : [40,45,50,55,60],\n",
    "#     'penalty': ['l1', 'l2']\n",
    "# }\n",
    "\n",
    "# log_grid_search = GridSearchCV(log_reg, log_param_grid, cv=3, verbose=True, n_jobs=-1)\n",
    "# log_grid_search.fit(tfidf_data_train_lem, y_train_lem)\n",
    "\n",
    "# print(log_grid_search.best_params_) \n",
    "# print(log_grid_search.best_score_)"
   ]
  },
  {
   "cell_type": "markdown",
   "metadata": {},
   "source": [
    "Best parameters according to gridsearch: {'C': 50, 'penalty': 'l2'}\n",
    "0.5719"
   ]
  },
  {
   "cell_type": "markdown",
   "metadata": {},
   "source": [
    "**Model**"
   ]
  },
  {
   "cell_type": "code",
   "execution_count": 76,
   "metadata": {
    "ExecuteTime": {
     "end_time": "2021-02-16T19:44:50.573235Z",
     "start_time": "2021-02-16T19:44:50.567909Z"
    }
   },
   "outputs": [],
   "source": [
    "from sklearn.linear_model import LogisticRegression\n",
    "\n",
    "###work with c= (bigger number = less regulization), check out solver\n",
    "log_reg_baseline = LogisticRegression(C=50,\n",
    "                                      random_state=42)"
   ]
  },
  {
   "cell_type": "code",
   "execution_count": 77,
   "metadata": {
    "ExecuteTime": {
     "end_time": "2021-02-16T19:44:54.247587Z",
     "start_time": "2021-02-16T19:44:51.710146Z"
    },
    "scrolled": true
   },
   "outputs": [],
   "source": [
    "#fit model to train set\n",
    "log_reg_baseline.fit(tfidf_data_train_lem, y_train_lem)\n",
    "\n",
    "#predictions\n",
    "log_reg_test_preds = log_reg_baseline.predict(tfidf_data_test_lem)\n",
    "log_reg_train_preds = log_reg_baseline.predict(tfidf_data_train_lem)"
   ]
  },
  {
   "cell_type": "markdown",
   "metadata": {},
   "source": [
    "**Resulting Metrics**"
   ]
  },
  {
   "cell_type": "code",
   "execution_count": 78,
   "metadata": {
    "ExecuteTime": {
     "end_time": "2021-02-16T19:44:54.443726Z",
     "start_time": "2021-02-16T19:44:54.412823Z"
    },
    "scrolled": true
   },
   "outputs": [
    {
     "name": "stdout",
     "output_type": "stream",
     "text": [
      "Logistic Regression with Lemmatization Features:\n",
      "\n",
      "Testing Accuracy: 0.591\n",
      "Testing Precision: 0.6178\n",
      "Testing Recall: 0.7578\n",
      "F1 Score: 0.6807\n",
      "\n",
      "Training Accuracy: 1.0\n"
     ]
    }
   ],
   "source": [
    "log_reg_accuracy = accuracy_score(y_test_lem, log_reg_test_preds)\n",
    "log_reg_precision = metrics.precision_score(y_test_lem, log_reg_test_preds)\n",
    "log_reg_recall = metrics.recall_score(y_test_lem, log_reg_test_preds)\n",
    "log_reg_f1 = f1_score(y_test_lem, log_reg_test_preds)\n",
    "\n",
    "\n",
    "# printing scores\n",
    "print('Logistic Regression with Lemmatization Features:\\n')\n",
    "print(\"Testing Accuracy: {:.4}\".format(log_reg_accuracy))\n",
    "# print(\"Testing Precision: {:.4}\".format(log_reg_precision))\n",
    "# print(\"Testing Recall: {:.4}\".format(log_reg_recall))\n",
    "print(\"F1 Score: {:.4}\".format(log_reg_f1))\n",
    "\n",
    "print()\n",
    "log_train_accuracy = accuracy_score(y_train_lem, log_reg_train_preds)\n",
    "print(\"Training Accuracy: {:.4}\".format(log_train_accuracy))"
   ]
  },
  {
   "cell_type": "code",
   "execution_count": 101,
   "metadata": {
    "ExecuteTime": {
     "end_time": "2021-02-16T20:13:57.985370Z",
     "start_time": "2021-02-16T20:13:57.796198Z"
    }
   },
   "outputs": [
    {
     "data": {
      "text/plain": [
       "(2.0, 0.0)"
      ]
     },
     "execution_count": 101,
     "metadata": {},
     "output_type": "execute_result"
    },
    {
     "data": {
      "image/png": "[encoded data removed]",
      "text/plain": [
       "<Figure size 432x288 with 1 Axes>"
      ]
     },
     "metadata": {},
     "output_type": "display_data"
    }
   ],
   "source": [
    "from sklearn.metrics import confusion_matrix\n",
    "import seaborn as sns; sns.set()\n",
    "\n",
    "\n",
    "mat = confusion_matrix(y_test_lem, log_reg_test_preds)\n",
    "sns.heatmap(mat.T, square=True, annot=True, fmt='d', cbar=False,\n",
    "            xticklabels=['Not_Inclusive', 'Inclusive'], \n",
    "            yticklabels=['Not_Inclusive', 'Inclusive']\n",
    "           )\n",
    "plt.xlabel('true label')\n",
    "plt.ylabel('predicted label');\n",
    "\n",
    "## Fixing cut-off bug\n",
    "b, t = plt.ylim() # discover the values for bottom and top\n",
    "b += 0.5 # Add 0.5 to the bottom\n",
    "t -= 0.5 # Subtract 0.5 from the top\n",
    "plt.ylim(b, t) # update the ylim(bottom, top) values"
   ]
  },
  {
   "cell_type": "markdown",
   "metadata": {},
   "source": [
    "## Naive Bayes\n",
    "Naive Bayes with Lemmatization Features:\n",
    "\n",
    "- Testing Accuracy: 0.5888\n",
    "- F1 Score: 0.7305\n",
    "\n",
    "- Training Accuracy: 0.7787"
   ]
  },
  {
   "cell_type": "code",
   "execution_count": 51,
   "metadata": {
    "ExecuteTime": {
     "end_time": "2021-02-16T16:04:52.142801Z",
     "start_time": "2021-02-16T16:04:52.133743Z"
    }
   },
   "outputs": [],
   "source": [
    "# Train-test split\n",
    "X_train_lem, X_test_lem, y_train_lem, y_test_lem = train_test_split(X_lem, y_lem, test_size=0.20, random_state=42)\n"
   ]
  },
  {
   "cell_type": "markdown",
   "metadata": {},
   "source": [
    "**Vectorize**"
   ]
  },
  {
   "cell_type": "code",
   "execution_count": 52,
   "metadata": {
    "ExecuteTime": {
     "end_time": "2021-02-16T16:04:53.078014Z",
     "start_time": "2021-02-16T16:04:52.875614Z"
    }
   },
   "outputs": [],
   "source": [
    "# Vectorize Test Set\n",
    "tfidf = TfidfVectorizer(stop_words=sw_list)\n",
    "\n",
    "#fit vectorizer to both training and testing set\n",
    "tfidf_data_train_lem = tfidf.fit_transform(X_train_lem)\n",
    "tfidf_data_test_lem = tfidf.transform(X_test_lem)"
   ]
  },
  {
   "cell_type": "markdown",
   "metadata": {},
   "source": [
    "**Model**"
   ]
  },
  {
   "cell_type": "code",
   "execution_count": 54,
   "metadata": {
    "ExecuteTime": {
     "end_time": "2021-02-16T16:04:53.575588Z",
     "start_time": "2021-02-16T16:04:53.548833Z"
    }
   },
   "outputs": [],
   "source": [
    "# Instantiate and fit model:\n",
    "nb_classifier = MultinomialNB()\n",
    "nb_classifier.fit(tfidf_data_train_lem, y_train_lem)\n",
    "\n",
    "# Predictions:\n",
    "nb_train_preds = nb_classifier.predict(tfidf_data_train_lem)\n",
    "nb_test_preds = nb_classifier.predict(tfidf_data_test_lem)"
   ]
  },
  {
   "cell_type": "markdown",
   "metadata": {},
   "source": [
    "**Resulting Metrics**"
   ]
  },
  {
   "cell_type": "code",
   "execution_count": 102,
   "metadata": {
    "ExecuteTime": {
     "end_time": "2021-02-16T20:21:55.472415Z",
     "start_time": "2021-02-16T20:21:55.450229Z"
    }
   },
   "outputs": [
    {
     "name": "stdout",
     "output_type": "stream",
     "text": [
      "Naive Bayes with Lemmatization Features:\n",
      "\n",
      "Testing Accuracy: 0.5888\n",
      "F1 Score: 0.7305\n",
      "\n",
      "Training Accuracy: 0.7787\n"
     ]
    }
   ],
   "source": [
    "nb_accuracy = accuracy_score(y_test_lem, nb_test_preds)\n",
    "nb_precision = metrics.precision_score(y_test_lem, nb_test_preds)\n",
    "nb_recall = metrics.recall_score(y_test_lem, nb_test_preds)\n",
    "nb_f1 = f1_score(y_test_lem, nb_test_preds)\n",
    "\n",
    "nb_train_accuracy = accuracy_score(y_train_lem, nb_train_preds)\n",
    "\n",
    "# printing scores\n",
    "print('Naive Bayes with Lemmatization Features:\\n')\n",
    "print(\"Testing Accuracy: {:.4}\".format(nb_accuracy))\n",
    "# print(\"Testing Precision: {:.4}\".format(nb_precision))\n",
    "# print(\"Testing Recall: {:.4}\".format(nb_recall))\n",
    "print(\"F1 Score: {:.4}\".format(nb_f1))\n",
    "print()\n",
    "print(\"Training Accuracy: {:.4}\".format(nb_train_accuracy))"
   ]
  },
  {
   "cell_type": "code",
   "execution_count": 56,
   "metadata": {
    "ExecuteTime": {
     "end_time": "2021-02-16T16:04:56.435356Z",
     "start_time": "2021-02-16T16:04:56.261496Z"
    }
   },
   "outputs": [
    {
     "data": {
      "text/plain": [
       "(2.0, 0.0)"
      ]
     },
     "execution_count": 56,
     "metadata": {},
     "output_type": "execute_result"
    },
    {
     "data": {
      "image/png": "[encoded data removed]",
      "text/plain": [
       "<Figure size 432x288 with 1 Axes>"
      ]
     },
     "metadata": {},
     "output_type": "display_data"
    }
   ],
   "source": [
    "mat = confusion_matrix(y_test_lem, nb_test_preds)\n",
    "sns.heatmap(mat.T, square=True, annot=True, fmt='d', cbar=False,\n",
    "            xticklabels=['Not_Inclusive', 'Inclusive'], \n",
    "            yticklabels=['Not_Inclusive', 'Inclusive']\n",
    "           )\n",
    "plt.xlabel('true label')\n",
    "plt.ylabel('predicted label');\n",
    "\n",
    "## Fixing cut-off bug\n",
    "b, t = plt.ylim() # discover the values for bottom and top\n",
    "b += 0.5 # Add 0.5 to the bottom\n",
    "t -= 0.5 # Subtract 0.5 from the top\n",
    "plt.ylim(b, t) # update the ylim(bottom, top) values"
   ]
  },
  {
   "cell_type": "markdown",
   "metadata": {},
   "source": [
    "## LSTM"
   ]
  },
  {
   "cell_type": "code",
   "execution_count": 109,
   "metadata": {
    "ExecuteTime": {
     "end_time": "2021-02-16T20:30:45.801129Z",
     "start_time": "2021-02-16T20:30:40.882092Z"
    }
   },
   "outputs": [
    {
     "name": "stdout",
     "output_type": "stream",
     "text": [
      "Collecting keras\n",
      "  Downloading Keras-2.4.3-py2.py3-none-any.whl (36 kB)\n",
      "Requirement already satisfied: pyyaml in /Users/candaur/opt/anaconda3/envs/learn-env/lib/python3.6/site-packages (from keras) (5.4.1)\n",
      "Requirement already satisfied: h5py in /Users/candaur/opt/anaconda3/envs/learn-env/lib/python3.6/site-packages (from keras) (2.10.0)\n",
      "Requirement already satisfied: scipy>=0.14 in /Users/candaur/opt/anaconda3/envs/learn-env/lib/python3.6/site-packages (from keras) (1.5.4)\n",
      "Requirement already satisfied: numpy>=1.9.1 in /Users/candaur/opt/anaconda3/envs/learn-env/lib/python3.6/site-packages (from keras) (1.19.5)\n",
      "Requirement already satisfied: six in /Users/candaur/opt/anaconda3/envs/learn-env/lib/python3.6/site-packages (from h5py->keras) (1.15.0)\n",
      "Installing collected packages: keras\n",
      "Successfully installed keras-2.4.3\n"
     ]
    }
   ],
   "source": [
    "###!pip install tensorflow\n",
    "#!pip install keras"
   ]
  },
  {
   "cell_type": "code",
   "execution_count": 106,
   "metadata": {
    "ExecuteTime": {
     "end_time": "2021-02-16T20:28:16.283156Z",
     "start_time": "2021-02-16T20:27:56.726138Z"
    }
   },
   "outputs": [],
   "source": [
    "import tensorflow as tf\n",
    "from tensorflow import keras\n",
    "from tensorflow.keras import layers"
   ]
  },
  {
   "cell_type": "code",
   "execution_count": 111,
   "metadata": {
    "ExecuteTime": {
     "end_time": "2021-02-16T20:31:01.651376Z",
     "start_time": "2021-02-16T20:31:01.635389Z"
    }
   },
   "outputs": [],
   "source": [
    "import keras\n",
    "from keras.datasets import mnist\n",
    "from keras.models import Sequential\n",
    "from keras.layers import Dense, Dropout, LSTM#, CuDNNLSTM\n",
    "from keras.optimizers import Adam"
   ]
  },
  {
   "cell_type": "code",
   "execution_count": 129,
   "metadata": {
    "ExecuteTime": {
     "end_time": "2021-02-16T21:01:02.982430Z",
     "start_time": "2021-02-16T21:01:02.967708Z"
    }
   },
   "outputs": [],
   "source": [
    "# Train-test split\n",
    "X_train_lem, X_test_lem, y_train_lem, y_test_lem = train_test_split(X_lem, y_lem, test_size=0.20, random_state=42)\n"
   ]
  },
  {
   "cell_type": "code",
   "execution_count": 126,
   "metadata": {
    "ExecuteTime": {
     "end_time": "2021-02-16T20:59:54.669379Z",
     "start_time": "2021-02-16T20:59:54.138410Z"
    }
   },
   "outputs": [],
   "source": [
    "# Vectorize Test Set\n",
    "tfidf = TfidfVectorizer(stop_words=sw_list)\n",
    "\n",
    "#fit vectorizer to both training and testing set\n",
    "tfidf_data_train_lem = tfidf.fit_transform(X_train_lem)\n",
    "tfidf_data_test_lem = tfidf.transform(X_test_lem)"
   ]
  },
  {
   "cell_type": "code",
   "execution_count": null,
   "metadata": {},
   "outputs": [],
   "source": []
  },
  {
   "cell_type": "code",
   "execution_count": null,
   "metadata": {},
   "outputs": [],
   "source": []
  },
  {
   "cell_type": "code",
   "execution_count": 116,
   "metadata": {
    "ExecuteTime": {
     "end_time": "2021-02-16T20:38:03.594265Z",
     "start_time": "2021-02-16T20:38:03.117390Z"
    }
   },
   "outputs": [],
   "source": [
    "#Initializing the classifier Network\n",
    "sq = Sequential()\n",
    "\n",
    "#Adding the input LSTM network layer\n",
    "sq.add(LSTM(128, input_shape=(X_train_lem.shape[1:]), return_sequences=True))###\n",
    "sq.add(Dropout(0.2))"
   ]
  },
  {
   "cell_type": "code",
   "execution_count": 118,
   "metadata": {
    "ExecuteTime": {
     "end_time": "2021-02-16T20:39:26.072783Z",
     "start_time": "2021-02-16T20:39:25.701930Z"
    }
   },
   "outputs": [],
   "source": [
    "#Adding a second LSTM network layer\n",
    "sq.add(LSTM(128))\n",
    "\n",
    "#Adding a dense hidden layer\n",
    "sq.add(Dense(64, activation='relu'))\n",
    "sq.add(Dropout(0.2))\n",
    "\n",
    "#Adding the output layer\n",
    "sq.add(Dense(10, activation='softmax'))"
   ]
  },
  {
   "cell_type": "code",
   "execution_count": 119,
   "metadata": {
    "ExecuteTime": {
     "end_time": "2021-02-16T20:49:33.265342Z",
     "start_time": "2021-02-16T20:40:16.443155Z"
    }
   },
   "outputs": [
    {
     "name": "stdout",
     "output_type": "stream",
     "text": [
      "Epoch 1/3\n",
      "1875/1875 [==============================] - 189s 99ms/step - loss: 0.6812 - accuracy: 0.7756 - val_loss: 0.0935 - val_accuracy: 0.9695\n",
      "Epoch 2/3\n",
      "1875/1875 [==============================] - 185s 99ms/step - loss: 0.1200 - accuracy: 0.9655 - val_loss: 0.0702 - val_accuracy: 0.9799\n",
      "Epoch 3/3\n",
      "1875/1875 [==============================] - 183s 97ms/step - loss: 0.0731 - accuracy: 0.9792 - val_loss: 0.0627 - val_accuracy: 0.9820\n"
     ]
    },
    {
     "data": {
      "text/plain": [
       "<tensorflow.python.keras.callbacks.History at 0x7f8f4f11d320>"
      ]
     },
     "execution_count": 119,
     "metadata": {},
     "output_type": "execute_result"
    }
   ],
   "source": [
    "#Compiling the network\n",
    "sq.compile( loss='sparse_categorical_crossentropy',\n",
    "              optimizer=Adam(lr=0.001, decay=1e-6),\n",
    "              metrics=['accuracy'] )\n",
    "\n",
    "#Fitting the data to the model\n",
    "sq.fit(X_train_lem,\n",
    "         y_train_lem,\n",
    "          epochs=3,\n",
    "          validation_data=(X_test_lem, y_test_lem))"
   ]
  },
  {
   "cell_type": "code",
   "execution_count": 120,
   "metadata": {
    "ExecuteTime": {
     "end_time": "2021-02-16T20:49:53.565524Z",
     "start_time": "2021-02-16T20:49:40.039046Z"
    }
   },
   "outputs": [
    {
     "name": "stdout",
     "output_type": "stream",
     "text": [
      "313/313 [==============================] - 13s 43ms/step - loss: 0.0627 - accuracy: 0.9820\n",
      "Test Loss: 0.06266623735427856\n",
      "Test Accuracy: 0.9819999933242798\n"
     ]
    }
   ],
   "source": [
    "test_loss, test_acc = sq.evaluate(X_test_lem, y_test_lem)\n",
    "print('Test Loss: {}'.format(test_loss))\n",
    "print('Test Accuracy: {}'.format(test_acc))"
   ]
  },
  {
   "cell_type": "markdown",
   "metadata": {
    "heading_collapsed": true
   },
   "source": [
    "## LSTM - 2"
   ]
  },
  {
   "cell_type": "code",
   "execution_count": 134,
   "metadata": {
    "ExecuteTime": {
     "end_time": "2021-02-16T21:24:50.972145Z",
     "start_time": "2021-02-16T21:24:37.908085Z"
    },
    "collapsed": true,
    "hidden": true
   },
   "outputs": [
    {
     "name": "stdout",
     "output_type": "stream",
     "text": [
      "Collecting gensim\n",
      "  Downloading gensim-3.8.3-cp36-cp36m-macosx_10_9_x86_64.whl (24.2 MB)\n",
      "\u001b[K     |████████████████████████████████| 24.2 MB 13.3 MB/s eta 0:00:01\n",
      "\u001b[?25hCollecting smart-open>=1.8.1\n",
      "  Downloading smart_open-4.2.0.tar.gz (119 kB)\n",
      "\u001b[K     |████████████████████████████████| 119 kB 33.0 MB/s eta 0:00:01\n",
      "\u001b[?25hRequirement already satisfied: numpy>=1.11.3 in /Users/candaur/opt/anaconda3/envs/learn-env/lib/python3.6/site-packages (from gensim) (1.19.5)\n",
      "Requirement already satisfied: scipy>=0.18.1 in /Users/candaur/opt/anaconda3/envs/learn-env/lib/python3.6/site-packages (from gensim) (1.5.4)\n",
      "Requirement already satisfied: six>=1.5.0 in /Users/candaur/opt/anaconda3/envs/learn-env/lib/python3.6/site-packages (from gensim) (1.15.0)\n",
      "Building wheels for collected packages: smart-open\n",
      "  Building wheel for smart-open (setup.py) ... \u001b[?25ldone\n",
      "\u001b[?25h  Created wheel for smart-open: filename=smart_open-4.2.0-py3-none-any.whl size=109632 sha256=3b971339492a2ac90a21dd53ea61f0eaccd7131160261a9a64d7af50cca41188\n",
      "  Stored in directory: /Users/candaur/Library/Caches/pip/wheels/05/12/87/d479d6a8f92130cd8b27e331cc433bb28dda9c20e57f0b1ab2\n",
      "Successfully built smart-open\n",
      "Installing collected packages: smart-open, gensim\n",
      "Successfully installed gensim-3.8.3 smart-open-4.2.0\n"
     ]
    }
   ],
   "source": [
    "#! pip install gensim"
   ]
  },
  {
   "cell_type": "code",
   "execution_count": 135,
   "metadata": {
    "ExecuteTime": {
     "end_time": "2021-02-16T21:24:54.271055Z",
     "start_time": "2021-02-16T21:24:52.554569Z"
    },
    "hidden": true
   },
   "outputs": [],
   "source": [
    "import pandas as pd\n",
    "import numpy as np\n",
    "\n",
    "from gensim.models import Word2Vec\n",
    "from nltk import word_tokenize"
   ]
  },
  {
   "cell_type": "code",
   "execution_count": 165,
   "metadata": {
    "ExecuteTime": {
     "end_time": "2021-02-16T22:21:24.195259Z",
     "start_time": "2021-02-16T22:21:24.178867Z"
    },
    "hidden": true,
    "scrolled": true
   },
   "outputs": [],
   "source": [
    "# loading in data\n",
    "data_clean = pd.read_pickle('modeling/data_clean.pkl')"
   ]
  },
  {
   "cell_type": "code",
   "execution_count": 168,
   "metadata": {
    "ExecuteTime": {
     "end_time": "2021-02-16T22:33:13.919184Z",
     "start_time": "2021-02-16T22:33:12.491028Z"
    },
    "hidden": true,
    "scrolled": true
   },
   "outputs": [],
   "source": [
    "X_nn = data_clean.apply(lambda x: word_tokenize(x))"
   ]
  },
  {
   "cell_type": "code",
   "execution_count": 169,
   "metadata": {
    "ExecuteTime": {
     "end_time": "2021-02-16T22:33:15.292484Z",
     "start_time": "2021-02-16T22:33:15.277415Z"
    },
    "hidden": true
   },
   "outputs": [],
   "source": [
    "# Train-test split\n",
    "X_train_nn, X_test_nn, y_train_nn, y_test_nn = train_test_split(X_nn, y_lem, test_size=0.20, random_state=42)\n"
   ]
  },
  {
   "cell_type": "code",
   "execution_count": 126,
   "metadata": {
    "ExecuteTime": {
     "end_time": "2021-02-16T20:59:54.669379Z",
     "start_time": "2021-02-16T20:59:54.138410Z"
    },
    "hidden": true
   },
   "outputs": [],
   "source": [
    "# # Vectorize Test Set\n",
    "# tfidf = TfidfVectorizer(stop_words=sw_list)\n",
    "\n",
    "# #fit vectorizer to both training and testing set\n",
    "# tfidf_data_train_lem = tfidf.fit_transform(X_train_lem)\n",
    "# tfidf_data_test_lem = tfidf.transform(X_test_lem)"
   ]
  },
  {
   "cell_type": "code",
   "execution_count": 173,
   "metadata": {
    "ExecuteTime": {
     "end_time": "2021-02-16T22:41:44.460984Z",
     "start_time": "2021-02-16T22:41:42.405808Z"
    },
    "hidden": true
   },
   "outputs": [],
   "source": [
    "#Create a Word2Vec model\n",
    "model = Word2Vec(X_test_nn, size=100, window=5, min_count=1, workers=4)"
   ]
  },
  {
   "cell_type": "code",
   "execution_count": 175,
   "metadata": {
    "ExecuteTime": {
     "end_time": "2021-02-16T22:41:52.431363Z",
     "start_time": "2021-02-16T22:41:52.141109Z"
    },
    "hidden": true
   },
   "outputs": [
    {
     "data": {
      "text/plain": [
       "(126942, 160401)"
      ]
     },
     "execution_count": 175,
     "metadata": {},
     "output_type": "execute_result"
    }
   ],
   "source": [
    "model.train(X_test_nn, total_examples=model.corpus_count, epochs=3) #try 10"
   ]
  },
  {
   "cell_type": "code",
   "execution_count": 179,
   "metadata": {
    "ExecuteTime": {
     "end_time": "2021-02-16T23:08:03.173313Z",
     "start_time": "2021-02-16T23:08:03.090592Z"
    },
    "hidden": true
   },
   "outputs": [
    {
     "data": {
      "text/plain": [
       "414     0\n",
       "420     0\n",
       "1644    0\n",
       "416     0\n",
       "1232    1\n",
       "       ..\n",
       "741     0\n",
       "205     1\n",
       "1102    0\n",
       "668     1\n",
       "479     1\n",
       "Name: TARGET, Length: 445, dtype: int64"
      ]
     },
     "execution_count": 179,
     "metadata": {},
     "output_type": "execute_result"
    }
   ],
   "source": [
    "y_test_nn"
   ]
  },
  {
   "cell_type": "code",
   "execution_count": 178,
   "metadata": {
    "ExecuteTime": {
     "end_time": "2021-02-16T22:56:21.757933Z",
     "start_time": "2021-02-16T22:56:21.733377Z"
    },
    "hidden": true,
    "scrolled": true
   },
   "outputs": [
    {
     "data": {
      "text/plain": [
       "414     [founded, in, williamssonoma, inc, is, the, pr...\n",
       "420     [norfolk, southern, is, fortune, and, forbes, ...\n",
       "1644    [los, angeles, county, metropolitan, transport...\n",
       "416     [rescare, community, living, has, four, decade...\n",
       "1232    [sasr, is, to, put, people, to, work, our, int...\n",
       "                              ...                        \n",
       "741     [the, university, of, nebraska, has, sprouted,...\n",
       "205     [sas, pronounced, sass, is, the, leader, in, a...\n",
       "1102    [marquis, companies, provides, post, acute, re...\n",
       "668     [mit, lincoln, laboratory, headquartered, in, ...\n",
       "479     [they, call, her, ole, miss, and, she, is, old...\n",
       "Name: CLEAN_DESCRIPTION, Length: 445, dtype: object"
      ]
     },
     "execution_count": 178,
     "metadata": {},
     "output_type": "execute_result"
    }
   ],
   "source": [
    "X_test_nn"
   ]
  },
  {
   "cell_type": "code",
   "execution_count": 176,
   "metadata": {
    "ExecuteTime": {
     "end_time": "2021-02-16T22:41:54.695628Z",
     "start_time": "2021-02-16T22:41:54.689908Z"
    },
    "hidden": true
   },
   "outputs": [],
   "source": [
    "wv = model.wv"
   ]
  },
  {
   "cell_type": "code",
   "execution_count": null,
   "metadata": {
    "hidden": true
   },
   "outputs": [],
   "source": []
  },
  {
   "cell_type": "code",
   "execution_count": null,
   "metadata": {
    "hidden": true
   },
   "outputs": [],
   "source": []
  },
  {
   "cell_type": "code",
   "execution_count": 180,
   "metadata": {
    "ExecuteTime": {
     "end_time": "2021-02-16T23:08:12.456490Z",
     "start_time": "2021-02-16T23:08:12.450130Z"
    },
    "hidden": true
   },
   "outputs": [],
   "source": [
    "\n",
    "# get the data paths\n",
    "train_path = y_test_nn\n",
    "#valid_path = os.path.join(data_path, \"ptb.valid.txt\")\n",
    "test_path = X_test_nn"
   ]
  },
  {
   "cell_type": "code",
   "execution_count": null,
   "metadata": {
    "hidden": true
   },
   "outputs": [],
   "source": []
  },
  {
   "cell_type": "code",
   "execution_count": null,
   "metadata": {
    "hidden": true
   },
   "outputs": [],
   "source": []
  },
  {
   "cell_type": "code",
   "execution_count": 188,
   "metadata": {
    "ExecuteTime": {
     "end_time": "2021-02-16T23:13:04.540635Z",
     "start_time": "2021-02-16T23:13:04.448400Z"
    },
    "hidden": true
   },
   "outputs": [
    {
     "ename": "ValueError",
     "evalue": "Input 0 of layer lstm_3 is incompatible with the layer: expected ndim=3, found ndim=1. Full shape received: (None,)",
     "output_type": "error",
     "traceback": [
      "\u001b[0;31m--------------------\u001b[0m",
      "\u001b[0;31mValueError\u001b[0mTraceback (most recent call last)",
      "\u001b[0;32m<ipython-input-188-82f99d11e0aa>\u001b[0m in \u001b[0;36m<module>\u001b[0;34m()\u001b[0m\n\u001b[1;32m      3\u001b[0m \u001b[0;34m\u001b[0m\u001b[0m\n\u001b[1;32m      4\u001b[0m \u001b[0;31m#Adding the input LSTM network layer\u001b[0m\u001b[0;34m\u001b[0m\u001b[0;34m\u001b[0m\u001b[0;34m\u001b[0m\u001b[0m\n\u001b[0;32m----> 5\u001b[0;31m \u001b[0msq\u001b[0m\u001b[0;34m.\u001b[0m\u001b[0madd\u001b[0m\u001b[0;34m(\u001b[0m\u001b[0mLSTM\u001b[0m\u001b[0;34m(\u001b[0m\u001b[0;36m128\u001b[0m\u001b[0;34m,\u001b[0m \u001b[0minput_shape\u001b[0m\u001b[0;34m=\u001b[0m\u001b[0;34m(\u001b[0m\u001b[0mX_train_nn\u001b[0m\u001b[0;34m.\u001b[0m\u001b[0mshape\u001b[0m\u001b[0;34m[\u001b[0m\u001b[0;36m1\u001b[0m\u001b[0;34m:\u001b[0m\u001b[0;34m]\u001b[0m\u001b[0;34m)\u001b[0m\u001b[0;34m,\u001b[0m \u001b[0mreturn_sequences\u001b[0m\u001b[0;34m=\u001b[0m\u001b[0;32mTrue\u001b[0m\u001b[0;34m)\u001b[0m\u001b[0;34m)\u001b[0m\u001b[0;31m###\u001b[0m\u001b[0;34m\u001b[0m\u001b[0;34m\u001b[0m\u001b[0m\n\u001b[0m\u001b[1;32m      6\u001b[0m \u001b[0msq\u001b[0m\u001b[0;34m.\u001b[0m\u001b[0madd\u001b[0m\u001b[0;34m(\u001b[0m\u001b[0mDropout\u001b[0m\u001b[0;34m(\u001b[0m\u001b[0;36m0.2\u001b[0m\u001b[0;34m)\u001b[0m\u001b[0;34m)\u001b[0m\u001b[0;34m\u001b[0m\u001b[0;34m\u001b[0m\u001b[0m\n",
      "\u001b[0;32m/Users/candaur/opt/anaconda3/envs/learn-env/lib/python3.6/site-packages/tensorflow/python/training/tracking/base.py\u001b[0m in \u001b[0;36m_method_wrapper\u001b[0;34m(self, *args, **kwargs)\u001b[0m\n\u001b[1;32m    515\u001b[0m     \u001b[0mself\u001b[0m\u001b[0;34m.\u001b[0m\u001b[0m_self_setattr_tracking\u001b[0m \u001b[0;34m=\u001b[0m \u001b[0;32mFalse\u001b[0m  \u001b[0;31m# pylint: disable=protected-access\u001b[0m\u001b[0;34m\u001b[0m\u001b[0;34m\u001b[0m\u001b[0m\n\u001b[1;32m    516\u001b[0m     \u001b[0;32mtry\u001b[0m\u001b[0;34m:\u001b[0m\u001b[0;34m\u001b[0m\u001b[0;34m\u001b[0m\u001b[0m\n\u001b[0;32m--> 517\u001b[0;31m       \u001b[0mresult\u001b[0m \u001b[0;34m=\u001b[0m \u001b[0mmethod\u001b[0m\u001b[0;34m(\u001b[0m\u001b[0mself\u001b[0m\u001b[0;34m,\u001b[0m \u001b[0;34m*\u001b[0m\u001b[0margs\u001b[0m\u001b[0;34m,\u001b[0m \u001b[0;34m**\u001b[0m\u001b[0mkwargs\u001b[0m\u001b[0;34m)\u001b[0m\u001b[0;34m\u001b[0m\u001b[0;34m\u001b[0m\u001b[0m\n\u001b[0m\u001b[1;32m    518\u001b[0m     \u001b[0;32mfinally\u001b[0m\u001b[0;34m:\u001b[0m\u001b[0;34m\u001b[0m\u001b[0;34m\u001b[0m\u001b[0m\n\u001b[1;32m    519\u001b[0m       \u001b[0mself\u001b[0m\u001b[0;34m.\u001b[0m\u001b[0m_self_setattr_tracking\u001b[0m \u001b[0;34m=\u001b[0m \u001b[0mprevious_value\u001b[0m  \u001b[0;31m# pylint: disable=protected-access\u001b[0m\u001b[0;34m\u001b[0m\u001b[0;34m\u001b[0m\u001b[0m\n",
      "\u001b[0;32m/Users/candaur/opt/anaconda3/envs/learn-env/lib/python3.6/site-packages/tensorflow/python/keras/engine/sequential.py\u001b[0m in \u001b[0;36madd\u001b[0;34m(self, layer)\u001b[0m\n\u001b[1;32m    206\u001b[0m           \u001b[0;31m# and create the node connecting the current layer\u001b[0m\u001b[0;34m\u001b[0m\u001b[0;34m\u001b[0m\u001b[0;34m\u001b[0m\u001b[0m\n\u001b[1;32m    207\u001b[0m           \u001b[0;31m# to the input layer we just created.\u001b[0m\u001b[0;34m\u001b[0m\u001b[0;34m\u001b[0m\u001b[0;34m\u001b[0m\u001b[0m\n\u001b[0;32m--> 208\u001b[0;31m           \u001b[0mlayer\u001b[0m\u001b[0;34m(\u001b[0m\u001b[0mx\u001b[0m\u001b[0;34m)\u001b[0m\u001b[0;34m\u001b[0m\u001b[0;34m\u001b[0m\u001b[0m\n\u001b[0m\u001b[1;32m    209\u001b[0m           \u001b[0mset_inputs\u001b[0m \u001b[0;34m=\u001b[0m \u001b[0;32mTrue\u001b[0m\u001b[0;34m\u001b[0m\u001b[0;34m\u001b[0m\u001b[0m\n\u001b[1;32m    210\u001b[0m \u001b[0;34m\u001b[0m\u001b[0m\n",
      "\u001b[0;32m/Users/candaur/opt/anaconda3/envs/learn-env/lib/python3.6/site-packages/tensorflow/python/keras/layers/recurrent.py\u001b[0m in \u001b[0;36m__call__\u001b[0;34m(self, inputs, initial_state, constants, **kwargs)\u001b[0m\n\u001b[1;32m    658\u001b[0m \u001b[0;34m\u001b[0m\u001b[0m\n\u001b[1;32m    659\u001b[0m     \u001b[0;32mif\u001b[0m \u001b[0minitial_state\u001b[0m \u001b[0;32mis\u001b[0m \u001b[0;32mNone\u001b[0m \u001b[0;32mand\u001b[0m \u001b[0mconstants\u001b[0m \u001b[0;32mis\u001b[0m \u001b[0;32mNone\u001b[0m\u001b[0;34m:\u001b[0m\u001b[0;34m\u001b[0m\u001b[0;34m\u001b[0m\u001b[0m\n\u001b[0;32m--> 660\u001b[0;31m       \u001b[0;32mreturn\u001b[0m \u001b[0msuper\u001b[0m\u001b[0;34m(\u001b[0m\u001b[0mRNN\u001b[0m\u001b[0;34m,\u001b[0m \u001b[0mself\u001b[0m\u001b[0;34m)\u001b[0m\u001b[0;34m.\u001b[0m\u001b[0m__call__\u001b[0m\u001b[0;34m(\u001b[0m\u001b[0minputs\u001b[0m\u001b[0;34m,\u001b[0m \u001b[0;34m**\u001b[0m\u001b[0mkwargs\u001b[0m\u001b[0;34m)\u001b[0m\u001b[0;34m\u001b[0m\u001b[0;34m\u001b[0m\u001b[0m\n\u001b[0m\u001b[1;32m    661\u001b[0m \u001b[0;34m\u001b[0m\u001b[0m\n\u001b[1;32m    662\u001b[0m     \u001b[0;31m# If any of `initial_state` or `constants` are specified and are Keras\u001b[0m\u001b[0;34m\u001b[0m\u001b[0;34m\u001b[0m\u001b[0;34m\u001b[0m\u001b[0m\n",
      "\u001b[0;32m/Users/candaur/opt/anaconda3/envs/learn-env/lib/python3.6/site-packages/tensorflow/python/keras/engine/base_layer.py\u001b[0m in \u001b[0;36m__call__\u001b[0;34m(self, *args, **kwargs)\u001b[0m\n\u001b[1;32m    950\u001b[0m     \u001b[0;32mif\u001b[0m \u001b[0m_in_functional_construction_mode\u001b[0m\u001b[0;34m(\u001b[0m\u001b[0mself\u001b[0m\u001b[0;34m,\u001b[0m \u001b[0minputs\u001b[0m\u001b[0;34m,\u001b[0m \u001b[0margs\u001b[0m\u001b[0;34m,\u001b[0m \u001b[0mkwargs\u001b[0m\u001b[0;34m,\u001b[0m \u001b[0minput_list\u001b[0m\u001b[0;34m)\u001b[0m\u001b[0;34m:\u001b[0m\u001b[0;34m\u001b[0m\u001b[0;34m\u001b[0m\u001b[0m\n\u001b[1;32m    951\u001b[0m       return self._functional_construction_call(inputs, args, kwargs,\n\u001b[0;32m--> 952\u001b[0;31m                                                 input_list)\n\u001b[0m\u001b[1;32m    953\u001b[0m \u001b[0;34m\u001b[0m\u001b[0m\n\u001b[1;32m    954\u001b[0m     \u001b[0;31m# Maintains info about the `Layer.call` stack.\u001b[0m\u001b[0;34m\u001b[0m\u001b[0;34m\u001b[0m\u001b[0;34m\u001b[0m\u001b[0m\n",
      "\u001b[0;32m/Users/candaur/opt/anaconda3/envs/learn-env/lib/python3.6/site-packages/tensorflow/python/keras/engine/base_layer.py\u001b[0m in \u001b[0;36m_functional_construction_call\u001b[0;34m(self, inputs, args, kwargs, input_list)\u001b[0m\n\u001b[1;32m   1089\u001b[0m         \u001b[0;31m# Check input assumptions set after layer building, e.g. input shape.\u001b[0m\u001b[0;34m\u001b[0m\u001b[0;34m\u001b[0m\u001b[0;34m\u001b[0m\u001b[0m\n\u001b[1;32m   1090\u001b[0m         outputs = self._keras_tensor_symbolic_call(\n\u001b[0;32m-> 1091\u001b[0;31m             inputs, input_masks, args, kwargs)\n\u001b[0m\u001b[1;32m   1092\u001b[0m \u001b[0;34m\u001b[0m\u001b[0m\n\u001b[1;32m   1093\u001b[0m         \u001b[0;32mif\u001b[0m \u001b[0moutputs\u001b[0m \u001b[0;32mis\u001b[0m \u001b[0;32mNone\u001b[0m\u001b[0;34m:\u001b[0m\u001b[0;34m\u001b[0m\u001b[0;34m\u001b[0m\u001b[0m\n",
      "\u001b[0;32m/Users/candaur/opt/anaconda3/envs/learn-env/lib/python3.6/site-packages/tensorflow/python/keras/engine/base_layer.py\u001b[0m in \u001b[0;36m_keras_tensor_symbolic_call\u001b[0;34m(self, inputs, input_masks, args, kwargs)\u001b[0m\n\u001b[1;32m    820\u001b[0m       \u001b[0;32mreturn\u001b[0m \u001b[0mnest\u001b[0m\u001b[0;34m.\u001b[0m\u001b[0mmap_structure\u001b[0m\u001b[0;34m(\u001b[0m\u001b[0mkeras_tensor\u001b[0m\u001b[0;34m.\u001b[0m\u001b[0mKerasTensor\u001b[0m\u001b[0;34m,\u001b[0m \u001b[0moutput_signature\u001b[0m\u001b[0;34m)\u001b[0m\u001b[0;34m\u001b[0m\u001b[0;34m\u001b[0m\u001b[0m\n\u001b[1;32m    821\u001b[0m     \u001b[0;32melse\u001b[0m\u001b[0;34m:\u001b[0m\u001b[0;34m\u001b[0m\u001b[0;34m\u001b[0m\u001b[0m\n\u001b[0;32m--> 822\u001b[0;31m       \u001b[0;32mreturn\u001b[0m \u001b[0mself\u001b[0m\u001b[0;34m.\u001b[0m\u001b[0m_infer_output_signature\u001b[0m\u001b[0;34m(\u001b[0m\u001b[0minputs\u001b[0m\u001b[0;34m,\u001b[0m \u001b[0margs\u001b[0m\u001b[0;34m,\u001b[0m \u001b[0mkwargs\u001b[0m\u001b[0;34m,\u001b[0m \u001b[0minput_masks\u001b[0m\u001b[0;34m)\u001b[0m\u001b[0;34m\u001b[0m\u001b[0;34m\u001b[0m\u001b[0m\n\u001b[0m\u001b[1;32m    823\u001b[0m \u001b[0;34m\u001b[0m\u001b[0m\n\u001b[1;32m    824\u001b[0m   \u001b[0;32mdef\u001b[0m \u001b[0m_infer_output_signature\u001b[0m\u001b[0;34m(\u001b[0m\u001b[0mself\u001b[0m\u001b[0;34m,\u001b[0m \u001b[0minputs\u001b[0m\u001b[0;34m,\u001b[0m \u001b[0margs\u001b[0m\u001b[0;34m,\u001b[0m \u001b[0mkwargs\u001b[0m\u001b[0;34m,\u001b[0m \u001b[0minput_masks\u001b[0m\u001b[0;34m)\u001b[0m\u001b[0;34m:\u001b[0m\u001b[0;34m\u001b[0m\u001b[0;34m\u001b[0m\u001b[0m\n",
      "\u001b[0;32m/Users/candaur/opt/anaconda3/envs/learn-env/lib/python3.6/site-packages/tensorflow/python/keras/engine/base_layer.py\u001b[0m in \u001b[0;36m_infer_output_signature\u001b[0;34m(self, inputs, args, kwargs, input_masks)\u001b[0m\n\u001b[1;32m    860\u001b[0m           \u001b[0;31m# overridden).\u001b[0m\u001b[0;34m\u001b[0m\u001b[0;34m\u001b[0m\u001b[0;34m\u001b[0m\u001b[0m\n\u001b[1;32m    861\u001b[0m           \u001b[0;31m# TODO(kaftan): do we maybe_build here, or have we already done it?\u001b[0m\u001b[0;34m\u001b[0m\u001b[0;34m\u001b[0m\u001b[0;34m\u001b[0m\u001b[0m\n\u001b[0;32m--> 862\u001b[0;31m           \u001b[0mself\u001b[0m\u001b[0;34m.\u001b[0m\u001b[0m_maybe_build\u001b[0m\u001b[0;34m(\u001b[0m\u001b[0minputs\u001b[0m\u001b[0;34m)\u001b[0m\u001b[0;34m\u001b[0m\u001b[0;34m\u001b[0m\u001b[0m\n\u001b[0m\u001b[1;32m    863\u001b[0m           \u001b[0moutputs\u001b[0m \u001b[0;34m=\u001b[0m \u001b[0mcall_fn\u001b[0m\u001b[0;34m(\u001b[0m\u001b[0minputs\u001b[0m\u001b[0;34m,\u001b[0m \u001b[0;34m*\u001b[0m\u001b[0margs\u001b[0m\u001b[0;34m,\u001b[0m \u001b[0;34m**\u001b[0m\u001b[0mkwargs\u001b[0m\u001b[0;34m)\u001b[0m\u001b[0;34m\u001b[0m\u001b[0;34m\u001b[0m\u001b[0m\n\u001b[1;32m    864\u001b[0m \u001b[0;34m\u001b[0m\u001b[0m\n",
      "\u001b[0;32m/Users/candaur/opt/anaconda3/envs/learn-env/lib/python3.6/site-packages/tensorflow/python/keras/engine/base_layer.py\u001b[0m in \u001b[0;36m_maybe_build\u001b[0;34m(self, inputs)\u001b[0m\n\u001b[1;32m   2683\u001b[0m     \u001b[0;32mif\u001b[0m \u001b[0;32mnot\u001b[0m \u001b[0mself\u001b[0m\u001b[0;34m.\u001b[0m\u001b[0mbuilt\u001b[0m\u001b[0;34m:\u001b[0m\u001b[0;34m\u001b[0m\u001b[0;34m\u001b[0m\u001b[0m\n\u001b[1;32m   2684\u001b[0m       input_spec.assert_input_compatibility(\n\u001b[0;32m-> 2685\u001b[0;31m           self.input_spec, inputs, self.name)\n\u001b[0m\u001b[1;32m   2686\u001b[0m       \u001b[0minput_list\u001b[0m \u001b[0;34m=\u001b[0m \u001b[0mnest\u001b[0m\u001b[0;34m.\u001b[0m\u001b[0mflatten\u001b[0m\u001b[0;34m(\u001b[0m\u001b[0minputs\u001b[0m\u001b[0;34m)\u001b[0m\u001b[0;34m\u001b[0m\u001b[0;34m\u001b[0m\u001b[0m\n\u001b[1;32m   2687\u001b[0m       \u001b[0;32mif\u001b[0m \u001b[0minput_list\u001b[0m \u001b[0;32mand\u001b[0m \u001b[0mself\u001b[0m\u001b[0;34m.\u001b[0m\u001b[0m_dtype_policy\u001b[0m\u001b[0;34m.\u001b[0m\u001b[0mcompute_dtype\u001b[0m \u001b[0;32mis\u001b[0m \u001b[0;32mNone\u001b[0m\u001b[0;34m:\u001b[0m\u001b[0;34m\u001b[0m\u001b[0;34m\u001b[0m\u001b[0m\n",
      "\u001b[0;32m/Users/candaur/opt/anaconda3/envs/learn-env/lib/python3.6/site-packages/tensorflow/python/keras/engine/input_spec.py\u001b[0m in \u001b[0;36massert_input_compatibility\u001b[0;34m(input_spec, inputs, layer_name)\u001b[0m\n\u001b[1;32m    221\u001b[0m                          \u001b[0;34m'expected ndim='\u001b[0m \u001b[0;34m+\u001b[0m \u001b[0mstr\u001b[0m\u001b[0;34m(\u001b[0m\u001b[0mspec\u001b[0m\u001b[0;34m.\u001b[0m\u001b[0mndim\u001b[0m\u001b[0;34m)\u001b[0m \u001b[0;34m+\u001b[0m \u001b[0;34m', found ndim='\u001b[0m \u001b[0;34m+\u001b[0m\u001b[0;34m\u001b[0m\u001b[0;34m\u001b[0m\u001b[0m\n\u001b[1;32m    222\u001b[0m                          \u001b[0mstr\u001b[0m\u001b[0;34m(\u001b[0m\u001b[0mndim\u001b[0m\u001b[0;34m)\u001b[0m \u001b[0;34m+\u001b[0m \u001b[0;34m'. Full shape received: '\u001b[0m \u001b[0;34m+\u001b[0m\u001b[0;34m\u001b[0m\u001b[0;34m\u001b[0m\u001b[0m\n\u001b[0;32m--> 223\u001b[0;31m                          str(tuple(shape)))\n\u001b[0m\u001b[1;32m    224\u001b[0m     \u001b[0;32mif\u001b[0m \u001b[0mspec\u001b[0m\u001b[0;34m.\u001b[0m\u001b[0mmax_ndim\u001b[0m \u001b[0;32mis\u001b[0m \u001b[0;32mnot\u001b[0m \u001b[0;32mNone\u001b[0m\u001b[0;34m:\u001b[0m\u001b[0;34m\u001b[0m\u001b[0;34m\u001b[0m\u001b[0m\n\u001b[1;32m    225\u001b[0m       \u001b[0mndim\u001b[0m \u001b[0;34m=\u001b[0m \u001b[0mx\u001b[0m\u001b[0;34m.\u001b[0m\u001b[0mshape\u001b[0m\u001b[0;34m.\u001b[0m\u001b[0mrank\u001b[0m\u001b[0;34m\u001b[0m\u001b[0;34m\u001b[0m\u001b[0m\n",
      "\u001b[0;31mValueError\u001b[0m: Input 0 of layer lstm_3 is incompatible with the layer: expected ndim=3, found ndim=1. Full shape received: (None,)"
     ]
    }
   ],
   "source": [
    "#Initializing the classifier Network\n",
    "sq = Sequential()\n",
    "\n",
    "#Adding the input LSTM network layer\n",
    "sq.add(LSTM(128, input_shape=(X_train_nn.shape[1:]), return_sequences=True))###\n",
    "sq.add(Dropout(0.2))"
   ]
  },
  {
   "cell_type": "code",
   "execution_count": 118,
   "metadata": {
    "ExecuteTime": {
     "end_time": "2021-02-16T20:39:26.072783Z",
     "start_time": "2021-02-16T20:39:25.701930Z"
    },
    "hidden": true
   },
   "outputs": [],
   "source": [
    "#Adding a second LSTM network layer\n",
    "sq.add(LSTM(128))\n",
    "\n",
    "#Adding a dense hidden layer\n",
    "sq.add(Dense(64, activation='relu'))\n",
    "sq.add(Dropout(0.2))\n",
    "\n",
    "#Adding the output layer\n",
    "sq.add(Dense(10, activation='softmax'))"
   ]
  },
  {
   "cell_type": "code",
   "execution_count": 119,
   "metadata": {
    "ExecuteTime": {
     "end_time": "2021-02-16T20:49:33.265342Z",
     "start_time": "2021-02-16T20:40:16.443155Z"
    },
    "hidden": true
   },
   "outputs": [
    {
     "name": "stdout",
     "output_type": "stream",
     "text": [
      "Epoch 1/3\n",
      "1875/1875 [==============================] - 189s 99ms/step - loss: 0.6812 - accuracy: 0.7756 - val_loss: 0.0935 - val_accuracy: 0.9695\n",
      "Epoch 2/3\n",
      "1875/1875 [==============================] - 185s 99ms/step - loss: 0.1200 - accuracy: 0.9655 - val_loss: 0.0702 - val_accuracy: 0.9799\n",
      "Epoch 3/3\n",
      "1875/1875 [==============================] - 183s 97ms/step - loss: 0.0731 - accuracy: 0.9792 - val_loss: 0.0627 - val_accuracy: 0.9820\n"
     ]
    },
    {
     "data": {
      "text/plain": [
       "<tensorflow.python.keras.callbacks.History at 0x7f8f4f11d320>"
      ]
     },
     "execution_count": 119,
     "metadata": {},
     "output_type": "execute_result"
    }
   ],
   "source": [
    "#Compiling the network\n",
    "sq.compile( loss='sparse_categorical_crossentropy',\n",
    "              optimizer=Adam(lr=0.001, decay=1e-6),\n",
    "              metrics=['accuracy'] )\n",
    "\n",
    "#Fitting the data to the model\n",
    "sq.fit(X_train_lem,\n",
    "         y_train_lem,\n",
    "          epochs=3,\n",
    "          validation_data=(X_test_lem, y_test_lem))"
   ]
  },
  {
   "cell_type": "code",
   "execution_count": 120,
   "metadata": {
    "ExecuteTime": {
     "end_time": "2021-02-16T20:49:53.565524Z",
     "start_time": "2021-02-16T20:49:40.039046Z"
    },
    "hidden": true
   },
   "outputs": [
    {
     "name": "stdout",
     "output_type": "stream",
     "text": [
      "313/313 [==============================] - 13s 43ms/step - loss: 0.0627 - accuracy: 0.9820\n",
      "Test Loss: 0.06266623735427856\n",
      "Test Accuracy: 0.9819999933242798\n"
     ]
    }
   ],
   "source": [
    "test_loss, test_acc = sq.evaluate(X_test_lem, y_test_lem)\n",
    "print('Test Loss: {}'.format(test_loss))\n",
    "print('Test Accuracy: {}'.format(test_acc))"
   ]
  },
  {
   "cell_type": "code",
   "execution_count": null,
   "metadata": {
    "hidden": true
   },
   "outputs": [],
   "source": []
  },
  {
   "cell_type": "code",
   "execution_count": null,
   "metadata": {
    "hidden": true
   },
   "outputs": [],
   "source": []
  },
  {
   "cell_type": "code",
   "execution_count": null,
   "metadata": {
    "hidden": true
   },
   "outputs": [],
   "source": []
  },
  {
   "cell_type": "markdown",
   "metadata": {},
   "source": [
    "## NOTES"
   ]
  },
  {
   "cell_type": "code",
   "execution_count": 24,
   "metadata": {
    "ExecuteTime": {
     "end_time": "2021-02-16T15:51:00.140145Z",
     "start_time": "2021-02-16T15:51:00.133068Z"
    }
   },
   "outputs": [],
   "source": [
    "### Code to look at all metrics together\n",
    "# nb_train_score = accuracy_score(target, nb_train_preds)\n",
    "# nb_test_score = accuracy_score(newsgroups_test.target, nb_test_preds)\n",
    "# rf_train_score = accuracy_score(target, rf_train_preds)\n",
    "# rf_test_score = accuracy_score(newsgroups_test.target, rf_test_preds)\n",
    "\n",
    "# print(\"Multinomial Naive Bayes\")\n",
    "# print(\"Training Accuracy: {:.4} \\t\\t Testing Accuracy: {:.4}\".format(nb_train_score, nb_test_score))\n",
    "# print(\"\")\n",
    "# print('-'*70)\n",
    "# print(\"\")\n",
    "# print('Random Forest')\n",
    "# print(\"Training Accuracy: {:.4} \\t\\t Testing Accuracy: {:.4}\".format(rf_train_score, rf_test_score))"
   ]
  }
 ],
 "metadata": {
  "kernelspec": {
   "display_name": "Python 3",
   "language": "python",
   "name": "python3"
  },
  "language_info": {
   "codemirror_mode": {
    "name": "ipython",
    "version": 3
   },
   "file_extension": ".py",
   "mimetype": "text/x-python",
   "name": "python",
   "nbconvert_exporter": "python",
   "pygments_lexer": "ipython3",
   "version": "3.6.9"
  },
  "toc": {
   "base_numbering": 1,
   "nav_menu": {},
   "number_sections": true,
   "sideBar": true,
   "skip_h1_title": false,
   "title_cell": "Table of Contents",
   "title_sidebar": "Contents",
   "toc_cell": false,
   "toc_position": {},
   "toc_section_display": true,
   "toc_window_display": false
  }
 },
 "nbformat": 4,
 "nbformat_minor": 4
}
